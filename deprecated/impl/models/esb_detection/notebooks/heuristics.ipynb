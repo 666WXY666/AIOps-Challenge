{
 "cells": [
  {
   "cell_type": "code",
   "execution_count": 1,
   "metadata": {},
   "outputs": [],
   "source": [
    "import pandas as pd\n",
    "import numpy as np\n",
    "\n",
    "import seaborn as sns\n",
    "import matplotlib.pyplot as plt"
   ]
  },
  {
   "cell_type": "code",
   "execution_count": 12,
   "metadata": {},
   "outputs": [],
   "source": [
    "test_data = pd.read_csv('/Users/baconbaker/Documents/Studium/ANM/anm-project/data/test_data/esb.csv')\n",
    "train_data = pd.read_csv('/Users/baconbaker/Documents/Studium/ANM/anm-project/data/train_data/esb.csv')\n",
    "\n",
    "train_data = one_hot(train_data)"
   ]
  },
  {
   "cell_type": "code",
   "execution_count": 10,
   "metadata": {},
   "outputs": [],
   "source": [
    "def one_hot(df):\n",
    "    df['start_time'] = pd.to_datetime(df['startTime'], unit='ms', origin='unix')\n",
    "    df = df.sort_values(by='start_time')\n",
    "    df = df.set_index('start_time')\n",
    "    return df\n",
    "    "
   ]
  },
  {
   "cell_type": "code",
   "execution_count": 13,
   "metadata": {},
   "outputs": [
    {
     "data": {
      "text/html": [
       "<div>\n",
       "<style scoped>\n",
       "    .dataframe tbody tr th:only-of-type {\n",
       "        vertical-align: middle;\n",
       "    }\n",
       "\n",
       "    .dataframe tbody tr th {\n",
       "        vertical-align: top;\n",
       "    }\n",
       "\n",
       "    .dataframe thead th {\n",
       "        text-align: right;\n",
       "    }\n",
       "</style>\n",
       "<table border=\"1\" class=\"dataframe\">\n",
       "  <thead>\n",
       "    <tr style=\"text-align: right;\">\n",
       "      <th></th>\n",
       "      <th>serviceName</th>\n",
       "      <th>startTime</th>\n",
       "      <th>avg_time</th>\n",
       "      <th>num</th>\n",
       "      <th>succee_num</th>\n",
       "      <th>succee_rate</th>\n",
       "    </tr>\n",
       "    <tr>\n",
       "      <th>start_time</th>\n",
       "      <th></th>\n",
       "      <th></th>\n",
       "      <th></th>\n",
       "      <th></th>\n",
       "      <th></th>\n",
       "      <th></th>\n",
       "    </tr>\n",
       "  </thead>\n",
       "  <tbody>\n",
       "    <tr>\n",
       "      <th>2020-05-03 16:00:00</th>\n",
       "      <td>osb_001</td>\n",
       "      <td>1588521600000</td>\n",
       "      <td>0.5691</td>\n",
       "      <td>347</td>\n",
       "      <td>347</td>\n",
       "      <td>1.0</td>\n",
       "    </tr>\n",
       "    <tr>\n",
       "      <th>2020-05-03 16:01:00</th>\n",
       "      <td>osb_001</td>\n",
       "      <td>1588521660000</td>\n",
       "      <td>0.5813</td>\n",
       "      <td>354</td>\n",
       "      <td>354</td>\n",
       "      <td>1.0</td>\n",
       "    </tr>\n",
       "    <tr>\n",
       "      <th>2020-05-03 16:02:00</th>\n",
       "      <td>osb_001</td>\n",
       "      <td>1588521720000</td>\n",
       "      <td>0.5397</td>\n",
       "      <td>363</td>\n",
       "      <td>363</td>\n",
       "      <td>1.0</td>\n",
       "    </tr>\n",
       "    <tr>\n",
       "      <th>2020-05-03 16:03:00</th>\n",
       "      <td>osb_001</td>\n",
       "      <td>1588521780000</td>\n",
       "      <td>0.6190</td>\n",
       "      <td>387</td>\n",
       "      <td>387</td>\n",
       "      <td>1.0</td>\n",
       "    </tr>\n",
       "    <tr>\n",
       "      <th>2020-05-03 16:04:00</th>\n",
       "      <td>osb_001</td>\n",
       "      <td>1588521840000</td>\n",
       "      <td>0.4909</td>\n",
       "      <td>387</td>\n",
       "      <td>387</td>\n",
       "      <td>1.0</td>\n",
       "    </tr>\n",
       "  </tbody>\n",
       "</table>\n",
       "</div>"
      ],
      "text/plain": [
       "                    serviceName      startTime  avg_time  num  succee_num  \\\n",
       "start_time                                                                  \n",
       "2020-05-03 16:00:00     osb_001  1588521600000    0.5691  347         347   \n",
       "2020-05-03 16:01:00     osb_001  1588521660000    0.5813  354         354   \n",
       "2020-05-03 16:02:00     osb_001  1588521720000    0.5397  363         363   \n",
       "2020-05-03 16:03:00     osb_001  1588521780000    0.6190  387         387   \n",
       "2020-05-03 16:04:00     osb_001  1588521840000    0.4909  387         387   \n",
       "\n",
       "                     succee_rate  \n",
       "start_time                        \n",
       "2020-05-03 16:00:00          1.0  \n",
       "2020-05-03 16:01:00          1.0  \n",
       "2020-05-03 16:02:00          1.0  \n",
       "2020-05-03 16:03:00          1.0  \n",
       "2020-05-03 16:04:00          1.0  "
      ]
     },
     "execution_count": 13,
     "metadata": {},
     "output_type": "execute_result"
    }
   ],
   "source": [
    "train_data.head()"
   ]
  },
  {
   "cell_type": "code",
   "execution_count": 101,
   "metadata": {},
   "outputs": [],
   "source": [
    "def get_thresh(data):\n",
    "    ub = np.percentile(data, 99)\n",
    "    lb = np.percentile(data, .1)\n",
    "    return ub, lb"
   ]
  },
  {
   "cell_type": "code",
   "execution_count": 102,
   "metadata": {},
   "outputs": [
    {
     "data": {
      "text/plain": [
       "(651.0, 311.884)"
      ]
     },
     "execution_count": 102,
     "metadata": {},
     "output_type": "execute_result"
    }
   ],
   "source": [
    "get_thresh(train_data['num'])"
   ]
  },
  {
   "cell_type": "code",
   "execution_count": 104,
   "metadata": {},
   "outputs": [
    {
     "data": {
      "text/plain": [
       "<AxesSubplot:xlabel='index', ylabel='num'>"
      ]
     },
     "execution_count": 104,
     "metadata": {},
     "output_type": "execute_result"
    },
    {
     "data": {
      "image/png": "[encoded data removed]",
      "text/plain": [
       "<Figure size 432x288 with 1 Axes>"
      ]
     },
     "metadata": {
      "needs_background": "light"
     },
     "output_type": "display_data"
    },
    {
     "data": {
      "image/png": "[encoded data removed]",
      "text/plain": [
       "<Figure size 432x288 with 1 Axes>"
      ]
     },
     "metadata": {
      "needs_background": "light"
     },
     "output_type": "display_data"
    }
   ],
   "source": [
    "test_data['num'].plot.line()\n",
    "\n",
    "test_data[test_data['num'] >= np.percentile(train_data['num'], 99)].reset_index().plot.scatter(x=0,y='num')"
   ]
  },
  {
   "cell_type": "code",
   "execution_count": null,
   "metadata": {},
   "outputs": [],
   "source": []
  }
 ],
 "metadata": {
  "kernelspec": {
   "display_name": "Python 3",
   "language": "python",
   "name": "python3"
  },
  "language_info": {
   "codemirror_mode": {
    "name": "ipython",
    "version": 3
   },
   "file_extension": ".py",
   "mimetype": "text/x-python",
   "name": "python",
   "nbconvert_exporter": "python",
   "pygments_lexer": "ipython3",
   "version": "3.8.5"
  }
 },
 "nbformat": 4,
 "nbformat_minor": 4
}
