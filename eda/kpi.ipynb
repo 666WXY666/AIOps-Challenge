{
 "cells": [
  {
   "cell_type": "code",
   "execution_count": 23,
   "metadata": {},
   "outputs": [],
   "source": [
    "import pandas as pd\n",
    "import numpy as np\n",
    "import os\n",
    "import seaborn as sns\n",
    "\n",
    "data_path = '../data/train_data/host'"
   ]
  },
  {
   "cell_type": "code",
   "execution_count": 10,
   "metadata": {},
   "outputs": [
    {
     "name": "stdout",
     "output_type": "stream",
     "text": [
      "Reading dcos_docker.csv\n",
      "Reading os_linux.csv\n",
      "Reading db_oracle_11g.csv\n",
      "Reading mw_redis.csv\n",
      "Reading dcos_container.csv\n"
     ]
    }
   ],
   "source": [
    "dfs = {}\n",
    "for file in os.listdir(data_path):\n",
    "    print('Reading ' + file)\n",
    "    dfs[file[:-4]] = pd.read_csv(data_path+'/'+file) "
   ]
  },
  {
   "cell_type": "code",
   "execution_count": 38,
   "metadata": {},
   "outputs": [
    {
     "name": "stdout",
     "output_type": "stream",
     "text": [
      "{'CPU_free_pct', 'SEQ_Used_Pct', 'Proc_Used_Pct', 'Received_packets', 'Sess_Used_Undo', 'Sess_Connect', 'MEM_Used_Pct', 'CPU_Used_Pct', 'used_cpu_sys', 'PGA_Used_Pct', 'ss_total', 'Memory_available', 'tnsping_result_time', 'Num_of_processes', 'Zombie_Process', 'Logic_Read_Per_Sec', 'Processor_load_5_min', 'TPS_Per_Sec', 'Shared_memory', 'New_Tbs_Used_Pct', 'Recv_total', 'FS_used_pct', 'Physical_Read_Per_Sec', 'Exec_Per_Sec', 'container_mem_used', 'Disk_rd_kbs', 'container_session_used', 'Swap_used_pct', 'Page_pi', 'Login_Per_Sec', 'Total_Tbs_Size', 'mem_fragmentation_ratio', 'FS_max_avail', 'Received_errors_packets', 'Incoming_network_traffic', 'PGA_used_total', 'expired_keys', 'Disk_io_util', 'On_Off_State', 'used_memory_rss', 'Asm_Free_Tb', 'total_commands_processed', 'Disk_await', 'Disk_wr_ios', 'MEM_Total', 'Redis_key_count', 'Row_Lock', 'Outgoing_network_traffic', 'Page_po', 'Sent_queue', 'Sent_packets', 'SeqRead_Per_Sec', 'container_thread_running', 'evicted_keys', 'Memory_free', 'Proc_User_Used_Pct', 'Processor_load_1_min', 'Sent_errors_packets', 'redis_load', 'container_cpu_used', 'used_cpu_user', 'Tbs_Free_Gb', 'SctRead_Per_Sec', 'total_connections_received', 'blocked_clients', 'container_fgct', 'System_wait_queue_length', 'Buffers_used', 'CPU_user_time', 'instantaneous_output_kbps', 'MEM_real_util', 'User_Commit', 'container_thread_idle', 'Num_of_running_processes', 'System_block_queue_length', 'Memory_used_pct', 'Hang', 'rejected_connections', 'CPU_util_pct', 'keyspace_hits', 'CPU_idle_pct', 'UndoTbs_Pct', 'Disk_avgqu_sz', 'connected_clients', 'Redo_Per_Sec', 'CPU_system_time', 'used_memory_peak', 'container_thread_used_pct', 'Received_queue', 'ICMP_ping', 'Session_pct', 'Send_total', 'Disk_wr_kbs', 'Memory_total', 'Used_Tbs_Size', 'Call_Per_Sec', 'instantaneous_ops_per_sec', 'DbTime', 'container_fgc', 'container_thread_total', 'Sess_Active', 'CPU_iowait_time', 'Agent_ping', 'FS_used_space', 'New_Tbs_Free_Gb', 'Disk_rd_ios', 'used_memory', 'Tbs_Used_Pct', 'Memory_available_pct', 'redis_ping', 'instantaneous_input_kbps', 'DFParaWrite_Per_Sec', 'FS_total_space', 'Disk_svctm', 'Sess_Used_Temp', 'TempTbs_Pct', 'ACS', 'FS_max_util', 'Memory_used', 'MEM_Used', 'keyspace_misses', 'LFSync_Per_Sec', 'Cache_used', 'AWS', 'maxmemory', 'DbFile_Used_Pct', 'AIOS', 'container_fail_percent', 'LFParaWrite_Per_Sec', 'Processor_load_15_min'}\n"
     ]
    }
   ],
   "source": [
    "kpis = set()\n",
    "for df in dfs:\n",
    "    kpis = kpis.union(set(dfs[df].name.unique()))\n",
    "print(kpis)"
   ]
  },
  {
   "cell_type": "code",
   "execution_count": 41,
   "metadata": {},
   "outputs": [
    {
     "data": {
      "text/html": [
       "<div>\n",
       "<style scoped>\n",
       "    .dataframe tbody tr th:only-of-type {\n",
       "        vertical-align: middle;\n",
       "    }\n",
       "\n",
       "    .dataframe tbody tr th {\n",
       "        vertical-align: top;\n",
       "    }\n",
       "\n",
       "    .dataframe thead th {\n",
       "        text-align: right;\n",
       "    }\n",
       "</style>\n",
       "<table border=\"1\" class=\"dataframe\">\n",
       "  <thead>\n",
       "    <tr style=\"text-align: right;\">\n",
       "      <th></th>\n",
       "      <th>itemid</th>\n",
       "      <th>name</th>\n",
       "      <th>bomc_id</th>\n",
       "      <th>timestamp</th>\n",
       "      <th>value</th>\n",
       "      <th>cmdb_id</th>\n",
       "    </tr>\n",
       "  </thead>\n",
       "  <tbody>\n",
       "    <tr>\n",
       "      <th>0</th>\n",
       "      <td>999999996381324</td>\n",
       "      <td>container_session_used</td>\n",
       "      <td>ZJ-004-058</td>\n",
       "      <td>1588521611000</td>\n",
       "      <td>0.0</td>\n",
       "      <td>docker_008</td>\n",
       "    </tr>\n",
       "    <tr>\n",
       "      <th>1</th>\n",
       "      <td>999999996381333</td>\n",
       "      <td>container_fgct</td>\n",
       "      <td>ZJ-004-104</td>\n",
       "      <td>1588521611000</td>\n",
       "      <td>0.0</td>\n",
       "      <td>docker_008</td>\n",
       "    </tr>\n",
       "    <tr>\n",
       "      <th>2</th>\n",
       "      <td>999999996381334</td>\n",
       "      <td>container_cpu_used</td>\n",
       "      <td>ZJ-004-059</td>\n",
       "      <td>1588521611000</td>\n",
       "      <td>0.0</td>\n",
       "      <td>docker_008</td>\n",
       "    </tr>\n",
       "    <tr>\n",
       "      <th>3</th>\n",
       "      <td>999999996381323</td>\n",
       "      <td>container_thread_idle</td>\n",
       "      <td>ZJ-004-063</td>\n",
       "      <td>1588521611000</td>\n",
       "      <td>0.0</td>\n",
       "      <td>docker_008</td>\n",
       "    </tr>\n",
       "    <tr>\n",
       "      <th>4</th>\n",
       "      <td>999999996381322</td>\n",
       "      <td>container_thread_running</td>\n",
       "      <td>ZJ-004-062</td>\n",
       "      <td>1588521611000</td>\n",
       "      <td>0.0</td>\n",
       "      <td>docker_008</td>\n",
       "    </tr>\n",
       "    <tr>\n",
       "      <th>...</th>\n",
       "      <td>...</td>\n",
       "      <td>...</td>\n",
       "      <td>...</td>\n",
       "      <td>...</td>\n",
       "      <td>...</td>\n",
       "      <td>...</td>\n",
       "    </tr>\n",
       "    <tr>\n",
       "      <th>99120</th>\n",
       "      <td>999999996381424</td>\n",
       "      <td>container_session_used</td>\n",
       "      <td>ZJ-004-058</td>\n",
       "      <td>1588607989000</td>\n",
       "      <td>0.0</td>\n",
       "      <td>docker_004</td>\n",
       "    </tr>\n",
       "    <tr>\n",
       "      <th>99121</th>\n",
       "      <td>999999996381436</td>\n",
       "      <td>container_mem_used</td>\n",
       "      <td>ZJ-004-060</td>\n",
       "      <td>1588607989000</td>\n",
       "      <td>80.0</td>\n",
       "      <td>docker_004</td>\n",
       "    </tr>\n",
       "    <tr>\n",
       "      <th>99122</th>\n",
       "      <td>999999996381440</td>\n",
       "      <td>container_fgct</td>\n",
       "      <td>ZJ-004-104</td>\n",
       "      <td>1588607989000</td>\n",
       "      <td>0.0</td>\n",
       "      <td>docker_004</td>\n",
       "    </tr>\n",
       "    <tr>\n",
       "      <th>99123</th>\n",
       "      <td>999999996381322</td>\n",
       "      <td>container_thread_running</td>\n",
       "      <td>ZJ-004-062</td>\n",
       "      <td>1588607989000</td>\n",
       "      <td>0.0</td>\n",
       "      <td>docker_008</td>\n",
       "    </tr>\n",
       "    <tr>\n",
       "      <th>99124</th>\n",
       "      <td>999999996381392</td>\n",
       "      <td>container_thread_idle</td>\n",
       "      <td>ZJ-004-063</td>\n",
       "      <td>1588607989000</td>\n",
       "      <td>0.0</td>\n",
       "      <td>docker_003</td>\n",
       "    </tr>\n",
       "  </tbody>\n",
       "</table>\n",
       "<p>99125 rows × 6 columns</p>\n",
       "</div>"
      ],
      "text/plain": [
       "                itemid                      name     bomc_id      timestamp  \\\n",
       "0      999999996381324    container_session_used  ZJ-004-058  1588521611000   \n",
       "1      999999996381333            container_fgct  ZJ-004-104  1588521611000   \n",
       "2      999999996381334        container_cpu_used  ZJ-004-059  1588521611000   \n",
       "3      999999996381323     container_thread_idle  ZJ-004-063  1588521611000   \n",
       "4      999999996381322  container_thread_running  ZJ-004-062  1588521611000   \n",
       "...                ...                       ...         ...            ...   \n",
       "99120  999999996381424    container_session_used  ZJ-004-058  1588607989000   \n",
       "99121  999999996381436        container_mem_used  ZJ-004-060  1588607989000   \n",
       "99122  999999996381440            container_fgct  ZJ-004-104  1588607989000   \n",
       "99123  999999996381322  container_thread_running  ZJ-004-062  1588607989000   \n",
       "99124  999999996381392     container_thread_idle  ZJ-004-063  1588607989000   \n",
       "\n",
       "       value     cmdb_id  \n",
       "0        0.0  docker_008  \n",
       "1        0.0  docker_008  \n",
       "2        0.0  docker_008  \n",
       "3        0.0  docker_008  \n",
       "4        0.0  docker_008  \n",
       "...      ...         ...  \n",
       "99120    0.0  docker_004  \n",
       "99121   80.0  docker_004  \n",
       "99122    0.0  docker_004  \n",
       "99123    0.0  docker_008  \n",
       "99124    0.0  docker_003  \n",
       "\n",
       "[99125 rows x 6 columns]"
      ]
     },
     "execution_count": 41,
     "metadata": {},
     "output_type": "execute_result"
    }
   ],
   "source": [
    "df_docker = dfs['dcos_docker']\n",
    "df_docker"
   ]
  },
  {
   "cell_type": "code",
   "execution_count": 46,
   "metadata": {},
   "outputs": [],
   "source": [
    "dock_04 = df_docker[df_docker.cmdb_id == 'docker_004']"
   ]
  },
  {
   "cell_type": "code",
   "execution_count": 47,
   "metadata": {},
   "outputs": [
    {
     "data": {
      "text/plain": [
       "<AxesSubplot:xlabel='timestamp', ylabel='value'>"
      ]
     },
     "execution_count": 47,
     "metadata": {},
     "output_type": "execute_result"
    },
    {
     "data": {
      "image/png": "[encoded data removed]",
      "text/plain": [
       "<Figure size 432x288 with 1 Axes>"
      ]
     },
     "metadata": {
      "needs_background": "light"
     },
     "output_type": "display_data"
    }
   ],
   "source": [
    "sns.lineplot(x='timestamp', y='value', hue='name', data=dock_04)"
   ]
  },
  {
   "cell_type": "code",
   "execution_count": null,
   "metadata": {},
   "outputs": [],
   "source": []
  }
 ],
 "metadata": {
  "kernelspec": {
   "display_name": "Python 3",
   "language": "python",
   "name": "python3"
  },
  "language_info": {
   "codemirror_mode": {
    "name": "ipython",
    "version": 3
   },
   "file_extension": ".py",
   "mimetype": "text/x-python",
   "name": "python",
   "nbconvert_exporter": "python",
   "pygments_lexer": "ipython3",
   "version": "3.8.5"
  }
 },
 "nbformat": 4,
 "nbformat_minor": 4
}
