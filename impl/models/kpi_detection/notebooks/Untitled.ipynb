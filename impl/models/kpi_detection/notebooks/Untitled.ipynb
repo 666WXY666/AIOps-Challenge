{
 "cells": [
  {
   "cell_type": "code",
   "execution_count": 62,
   "metadata": {},
   "outputs": [],
   "source": [
    "import numpy as np\n",
    "import pandas as pd\n",
    "import os\n",
    "\n",
    "from tensorflow import keras\n",
    "from tensorflow.keras import layers\n",
    "from matplotlib import pyplot as plt\n",
    "\n",
    "from alibi_detect.od import SpectralResidual\n",
    "\n",
    "import seaborn as sns\n",
    "sns.set(rc={'figure.figsize':(16,8)})"
   ]
  },
  {
   "cell_type": "code",
   "execution_count": 11,
   "metadata": {},
   "outputs": [
    {
     "name": "stdout",
     "output_type": "stream",
     "text": [
      "Reading dcos_docker.csv\n",
      "Reading os_linux.csv\n",
      "Reading db_oracle_11g.csv\n",
      "Reading mw_redis.csv\n",
      "Reading dcos_container.csv\n"
     ]
    }
   ],
   "source": [
    "data_path = '../../../../data/train_data/host'\n",
    "dfs = {}\n",
    "for file in os.listdir(data_path):\n",
    "    print('Reading ' + file)\n",
    "    dfs[file[:-4]] = pd.read_csv(data_path+'/'+file) "
   ]
  },
  {
   "cell_type": "code",
   "execution_count": 20,
   "metadata": {},
   "outputs": [],
   "source": [
    "def gen_train_seq(values):\n",
    "    time_steps = 10\n",
    "\n",
    "    output = []\n",
    "    for i in range(len(values) - time_steps):\n",
    "        output.append(values[i : (i + time_steps)])\n",
    "        \n",
    "    return np.stack(output)"
   ]
  },
  {
   "cell_type": "code",
   "execution_count": 41,
   "metadata": {},
   "outputs": [
    {
     "name": "stdout",
     "output_type": "stream",
     "text": [
      "****************************************\n",
      "dcos_docker\n",
      "****************************************\n",
      "os_linux\n",
      "****************************************\n",
      "db_oracle_11g\n",
      "****************************************\n",
      "mw_redis\n",
      "****************************************\n",
      "dcos_container\n"
     ]
    }
   ],
   "source": [
    "for key in dfs:\n",
    "    print('*'*40)\n",
    "    print(key)\n",
    "    df = dfs[key]\n",
    "    for name in list(df.name.unique()):\n",
    "        df_n = df[df.name==name]\n",
    "        for cmdb_id in list(df_n.cmdb_id.unique()):\n",
    "            df_nc = df_n[df_n.cmdb_id == cmdb_id]\n",
    "            df_nc = df_nc.set_index('timestamp')['value']\n",
    "        if np.mean(df_nc) != 0:\n",
    "            df_sample = df_nc\n",
    "            break"
   ]
  },
  {
   "cell_type": "code",
   "execution_count": 74,
   "metadata": {},
   "outputs": [
    {
     "name": "stderr",
     "output_type": "stream",
     "text": [
      "<ipython-input-74-dd24655d4287>:2: UserWarning: Boolean Series key will be reindexed to match DataFrame index.\n",
      "  df = df[df.name == 'CPU_user_time'][df.cmdb_id=='os_012']\n"
     ]
    }
   ],
   "source": [
    "df = dfs['os_linux']\n",
    "df = df[df.name == 'CPU_user_time'][df.cmdb_id=='os_012']\n",
    "\n",
    "od = SpectralResidual(\n",
    "    threshold=1.,\n",
    "    window_amp=20,\n",
    "    window_local=20,\n",
    "    n_est_points=10,\n",
    "    n_grad_points=5\n",
    ")\n",
    "\n",
    "od.infer_threshold(df['value'].values, threshold_perc=99.9)"
   ]
  },
  {
   "cell_type": "code",
   "execution_count": 76,
   "metadata": {},
   "outputs": [
    {
     "data": {
      "text/plain": [
       "{'instance_score': array([1.59991074, 0.81340809, 0.61092733, ..., 0.36057865, 0.46030797,\n",
       "        0.84848146]),\n",
       " 'feature_score': None,\n",
       " 'is_outlier': array([0, 0, 0, ..., 0, 0, 0])}"
      ]
     },
     "execution_count": 76,
     "metadata": {},
     "output_type": "execute_result"
    }
   ],
   "source": [
    "od.predict(df['value'].values,return_instance_score=True)['data']"
   ]
  },
  {
   "cell_type": "code",
   "execution_count": null,
   "metadata": {},
   "outputs": [],
   "source": []
  },
  {
   "cell_type": "code",
   "execution_count": null,
   "metadata": {},
   "outputs": [],
   "source": []
  }
 ],
 "metadata": {
  "kernelspec": {
   "display_name": "Python 3",
   "language": "python",
   "name": "python3"
  },
  "language_info": {
   "codemirror_mode": {
    "name": "ipython",
    "version": 3
   },
   "file_extension": ".py",
   "mimetype": "text/x-python",
   "name": "python",
   "nbconvert_exporter": "python",
   "pygments_lexer": "ipython3",
   "version": "3.8.5"
  }
 },
 "nbformat": 4,
 "nbformat_minor": 4
}
