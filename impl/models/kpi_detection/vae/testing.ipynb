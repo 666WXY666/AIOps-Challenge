{
 "cells": [
  {
   "cell_type": "code",
   "execution_count": 26,
   "metadata": {},
   "outputs": [],
   "source": [
    "import numpy as np\n",
    "import pandas as pd\n",
    "import os\n",
    "\n",
    "import preprocessing as pp\n",
    "import model_gen as vae\n",
    "\n",
    "from tensorflow import keras\n",
    "from tensorflow.keras import layers\n",
    "\n",
    "from matplotlib import pyplot as plt"
   ]
  },
  {
   "cell_type": "code",
   "execution_count": 17,
   "metadata": {},
   "outputs": [],
   "source": [
    "time_step = 12\n",
    "\n",
    "thresh_dir = 'deploy/'\n",
    "model_dir = 'deploy/models_' + str(time_step) + '/'\n",
    "data_path = '/Users/baconbaker/Documents/Studium/ANM/anm-project/data/test_data/host/'"
   ]
  },
  {
   "cell_type": "code",
   "execution_count": 27,
   "metadata": {},
   "outputs": [],
   "source": [
    "def find_anom(host, dfs):\n",
    "    dfs['db_oracle_11g'] = dfs.pop('db')\n",
    "    dfs['dcos_container'] = dfs.pop('container')\n",
    "    dfs['mw_redis'] = dfs.pop('redis')\n",
    "    dfs['os_linux'] = dfs.pop('os')\n",
    "    dfs['dcos_docker'] = dfs.pop('docker')\n",
    "    \n",
    "    problems = []\n",
    "    key = ''\n",
    "    for k in dfs:\n",
    "        if host in dfs[k].cmdb_id.unique():\n",
    "            key = k\n",
    "    if key == '':\n",
    "        print('Host not found!')\n",
    "        return\n",
    "    df = dfs[key]\n",
    "\n",
    "    thresh = pd.read_csv(thresh_dir+'thresh_'+str(time_step)+'.csv')\n",
    "\n",
    "    df_h = df[df.cmdb_id==host]\n",
    "    for name in df_h['name'].unique():\n",
    "        df_nh = df_h[df_h.name == name]\n",
    "\n",
    "        #Pre-process data  \n",
    "        x_test = pp.get_host_kpi_data(df_nh, time_step)\n",
    "        print(key+'_'+name)\n",
    "        if key+'_'+name in os.listdir(model_dir):\n",
    "            print('-'*40)\n",
    "            print(\"Running detection for \", host, name)\n",
    "            if x_test == []:\n",
    "                print(name, host, 'not enough data')\n",
    "                continue\n",
    "\n",
    "            model = keras.models.load_model(model_dir+key+'_'+name)\n",
    "            x_test_pred = model.predict(x_test)\n",
    "            test_mae_loss = np.mean(np.abs(x_test_pred - x_test), axis=1)\n",
    "            test_mae_loss = test_mae_loss.reshape((-1))\n",
    "            anomalies = np.greater(test_mae_loss, thresh[thresh.KPI==key+'_'+name]['thresh'].values[0])\n",
    "            \n",
    "            \n",
    "            if True in anomalies:\n",
    "                print('*'*40)\n",
    "                print(\"Anomaly in \", host, name)\n",
    "                plt.plot(x_test[0])\n",
    "                plt.plot(model.predict(x_test)[0])\n",
    "                plt.show()\n",
    "                problems.append((host, name))\n",
    "        else:\n",
    "            print(name, host, ' model does not exist')\n",
    "    if problems == []:\n",
    "        print(\"No anomalies found in \", host)\n",
    "    return problems"
   ]
  },
  {
   "cell_type": "code",
   "execution_count": 32,
   "metadata": {},
   "outputs": [
    {
     "name": "stdout",
     "output_type": "stream",
     "text": [
      "Saving os into dfs\n",
      "Saving db into dfs\n",
      "Saving redis into dfs\n",
      "Saving container into dfs\n",
      "Saving docker into dfs\n",
      "Getting KPI x Host data\n",
      "mw_redis_instantaneous_ops_per_sec\n",
      "----------------------------------------\n",
      "Running detection for  redis_004 instantaneous_ops_per_sec\n"
     ]
    },
    {
     "name": "stderr",
     "output_type": "stream",
     "text": [
      "<ipython-input-27-5dbcda61cba5>:30: DeprecationWarning: The truth value of an empty array is ambiguous. Returning False, but in future this will result in an error. Use `array.size > 0` to check that an array is not empty.\n",
      "  if x_test == []:\n"
     ]
    },
    {
     "name": "stdout",
     "output_type": "stream",
     "text": [
      "Getting KPI x Host data\n",
      "mw_redis_instantaneous_input_kbps\n",
      "----------------------------------------\n",
      "Running detection for  redis_004 instantaneous_input_kbps\n"
     ]
    },
    {
     "name": "stderr",
     "output_type": "stream",
     "text": [
      "<ipython-input-27-5dbcda61cba5>:30: DeprecationWarning: The truth value of an empty array is ambiguous. Returning False, but in future this will result in an error. Use `array.size > 0` to check that an array is not empty.\n",
      "  if x_test == []:\n"
     ]
    },
    {
     "name": "stdout",
     "output_type": "stream",
     "text": [
      "Getting KPI x Host data\n",
      "mw_redis_used_cpu_sys\n",
      "----------------------------------------\n",
      "Running detection for  redis_004 used_cpu_sys\n"
     ]
    },
    {
     "name": "stderr",
     "output_type": "stream",
     "text": [
      "<ipython-input-27-5dbcda61cba5>:30: DeprecationWarning: The truth value of an empty array is ambiguous. Returning False, but in future this will result in an error. Use `array.size > 0` to check that an array is not empty.\n",
      "  if x_test == []:\n"
     ]
    },
    {
     "name": "stdout",
     "output_type": "stream",
     "text": [
      "Getting KPI x Host data\n",
      "mw_redis_used_memory\n",
      "----------------------------------------\n",
      "Running detection for  redis_004 used_memory\n"
     ]
    },
    {
     "name": "stderr",
     "output_type": "stream",
     "text": [
      "/Users/baconbaker/anaconda3/envs/ml/lib/python3.8/site-packages/sklearn/preprocessing/_data.py:174: UserWarning: Numerical issues were encountered when centering the data and might not be solved. Dataset may contain too large values. You may need to prescale your features.\n",
      "  warnings.warn(\"Numerical issues were encountered \"\n",
      "<ipython-input-27-5dbcda61cba5>:30: DeprecationWarning: The truth value of an empty array is ambiguous. Returning False, but in future this will result in an error. Use `array.size > 0` to check that an array is not empty.\n",
      "  if x_test == []:\n"
     ]
    },
    {
     "name": "stdout",
     "output_type": "stream",
     "text": [
      "Getting KPI x Host data\n",
      "mw_redis_used_cpu_user\n",
      "----------------------------------------\n",
      "Running detection for  redis_004 used_cpu_user\n"
     ]
    },
    {
     "name": "stderr",
     "output_type": "stream",
     "text": [
      "<ipython-input-27-5dbcda61cba5>:30: DeprecationWarning: The truth value of an empty array is ambiguous. Returning False, but in future this will result in an error. Use `array.size > 0` to check that an array is not empty.\n",
      "  if x_test == []:\n"
     ]
    },
    {
     "name": "stdout",
     "output_type": "stream",
     "text": [
      "Getting KPI x Host data\n",
      "mw_redis_Redis_key_count\n",
      "----------------------------------------\n",
      "Running detection for  redis_004 Redis_key_count\n"
     ]
    },
    {
     "name": "stderr",
     "output_type": "stream",
     "text": [
      "<ipython-input-27-5dbcda61cba5>:30: DeprecationWarning: The truth value of an empty array is ambiguous. Returning False, but in future this will result in an error. Use `array.size > 0` to check that an array is not empty.\n",
      "  if x_test == []:\n"
     ]
    },
    {
     "name": "stdout",
     "output_type": "stream",
     "text": [
      "Getting KPI x Host data\n",
      "mw_redis_blocked_clients\n",
      "----------------------------------------\n",
      "Running detection for  redis_004 blocked_clients\n"
     ]
    },
    {
     "name": "stderr",
     "output_type": "stream",
     "text": [
      "<ipython-input-27-5dbcda61cba5>:30: DeprecationWarning: The truth value of an empty array is ambiguous. Returning False, but in future this will result in an error. Use `array.size > 0` to check that an array is not empty.\n",
      "  if x_test == []:\n"
     ]
    },
    {
     "name": "stdout",
     "output_type": "stream",
     "text": [
      "Getting KPI x Host data\n",
      "mw_redis_keyspace_hits\n",
      "----------------------------------------\n",
      "Running detection for  redis_004 keyspace_hits\n"
     ]
    },
    {
     "name": "stderr",
     "output_type": "stream",
     "text": [
      "<ipython-input-27-5dbcda61cba5>:30: DeprecationWarning: The truth value of an empty array is ambiguous. Returning False, but in future this will result in an error. Use `array.size > 0` to check that an array is not empty.\n",
      "  if x_test == []:\n"
     ]
    },
    {
     "name": "stdout",
     "output_type": "stream",
     "text": [
      "****************************************\n",
      "Anomaly in  redis_004 keyspace_hits\n"
     ]
    },
    {
     "data": {
      "image/png": "[encoded data removed]",
      "text/plain": [
       "<Figure size 432x288 with 1 Axes>"
      ]
     },
     "metadata": {
      "needs_background": "light"
     },
     "output_type": "display_data"
    },
    {
     "name": "stdout",
     "output_type": "stream",
     "text": [
      "Getting KPI x Host data\n",
      "mw_redis_keyspace_misses\n",
      "----------------------------------------\n",
      "Running detection for  redis_004 keyspace_misses\n"
     ]
    },
    {
     "name": "stderr",
     "output_type": "stream",
     "text": [
      "<ipython-input-27-5dbcda61cba5>:30: DeprecationWarning: The truth value of an empty array is ambiguous. Returning False, but in future this will result in an error. Use `array.size > 0` to check that an array is not empty.\n",
      "  if x_test == []:\n"
     ]
    },
    {
     "name": "stdout",
     "output_type": "stream",
     "text": [
      "Getting KPI x Host data\n",
      "mw_redis_expired_keys\n",
      "----------------------------------------\n",
      "Running detection for  redis_004 expired_keys\n"
     ]
    },
    {
     "name": "stderr",
     "output_type": "stream",
     "text": [
      "<ipython-input-27-5dbcda61cba5>:30: DeprecationWarning: The truth value of an empty array is ambiguous. Returning False, but in future this will result in an error. Use `array.size > 0` to check that an array is not empty.\n",
      "  if x_test == []:\n"
     ]
    },
    {
     "name": "stdout",
     "output_type": "stream",
     "text": [
      "Getting KPI x Host data\n",
      "mw_redis_total_connections_received\n",
      "----------------------------------------\n",
      "Running detection for  redis_004 total_connections_received\n"
     ]
    },
    {
     "name": "stderr",
     "output_type": "stream",
     "text": [
      "<ipython-input-27-5dbcda61cba5>:30: DeprecationWarning: The truth value of an empty array is ambiguous. Returning False, but in future this will result in an error. Use `array.size > 0` to check that an array is not empty.\n",
      "  if x_test == []:\n"
     ]
    },
    {
     "name": "stdout",
     "output_type": "stream",
     "text": [
      "****************************************\n",
      "Anomaly in  redis_004 total_connections_received\n"
     ]
    },
    {
     "data": {
      "image/png": "[encoded data removed]",
      "text/plain": [
       "<Figure size 432x288 with 1 Axes>"
      ]
     },
     "metadata": {
      "needs_background": "light"
     },
     "output_type": "display_data"
    },
    {
     "name": "stdout",
     "output_type": "stream",
     "text": [
      "Getting KPI x Host data\n",
      "mw_redis_rejected_connections\n",
      "----------------------------------------\n",
      "Running detection for  redis_004 rejected_connections\n"
     ]
    },
    {
     "name": "stderr",
     "output_type": "stream",
     "text": [
      "<ipython-input-27-5dbcda61cba5>:30: DeprecationWarning: The truth value of an empty array is ambiguous. Returning False, but in future this will result in an error. Use `array.size > 0` to check that an array is not empty.\n",
      "  if x_test == []:\n"
     ]
    },
    {
     "name": "stdout",
     "output_type": "stream",
     "text": [
      "Getting KPI x Host data\n",
      "mw_redis_instantaneous_output_kbps\n",
      "----------------------------------------\n",
      "Running detection for  redis_004 instantaneous_output_kbps\n"
     ]
    },
    {
     "name": "stderr",
     "output_type": "stream",
     "text": [
      "<ipython-input-27-5dbcda61cba5>:30: DeprecationWarning: The truth value of an empty array is ambiguous. Returning False, but in future this will result in an error. Use `array.size > 0` to check that an array is not empty.\n",
      "  if x_test == []:\n"
     ]
    },
    {
     "name": "stdout",
     "output_type": "stream",
     "text": [
      "Getting KPI x Host data\n",
      "mw_redis_connected_clients\n",
      "----------------------------------------\n",
      "Running detection for  redis_004 connected_clients\n"
     ]
    },
    {
     "name": "stderr",
     "output_type": "stream",
     "text": [
      "<ipython-input-27-5dbcda61cba5>:30: DeprecationWarning: The truth value of an empty array is ambiguous. Returning False, but in future this will result in an error. Use `array.size > 0` to check that an array is not empty.\n",
      "  if x_test == []:\n"
     ]
    },
    {
     "name": "stdout",
     "output_type": "stream",
     "text": [
      "****************************************\n",
      "Anomaly in  redis_004 connected_clients\n"
     ]
    },
    {
     "data": {
      "image/png": "[encoded data removed]",
      "text/plain": [
       "<Figure size 432x288 with 1 Axes>"
      ]
     },
     "metadata": {
      "needs_background": "light"
     },
     "output_type": "display_data"
    },
    {
     "name": "stdout",
     "output_type": "stream",
     "text": [
      "Getting KPI x Host data\n",
      "mw_redis_used_memory_peak\n",
      "----------------------------------------\n",
      "Running detection for  redis_004 used_memory_peak\n"
     ]
    },
    {
     "name": "stderr",
     "output_type": "stream",
     "text": [
      "<ipython-input-27-5dbcda61cba5>:30: DeprecationWarning: The truth value of an empty array is ambiguous. Returning False, but in future this will result in an error. Use `array.size > 0` to check that an array is not empty.\n",
      "  if x_test == []:\n"
     ]
    },
    {
     "name": "stdout",
     "output_type": "stream",
     "text": [
      "Getting KPI x Host data\n",
      "mw_redis_mem_fragmentation_ratio\n",
      "----------------------------------------\n",
      "Running detection for  redis_004 mem_fragmentation_ratio\n"
     ]
    },
    {
     "name": "stderr",
     "output_type": "stream",
     "text": [
      "/Users/baconbaker/anaconda3/envs/ml/lib/python3.8/site-packages/sklearn/preprocessing/_data.py:191: UserWarning: Numerical issues were encountered when scaling the data and might not be solved. The standard deviation of the data is probably very close to 0. \n",
      "  warnings.warn(\"Numerical issues were encountered \"\n",
      "<ipython-input-27-5dbcda61cba5>:30: DeprecationWarning: The truth value of an empty array is ambiguous. Returning False, but in future this will result in an error. Use `array.size > 0` to check that an array is not empty.\n",
      "  if x_test == []:\n"
     ]
    },
    {
     "name": "stdout",
     "output_type": "stream",
     "text": [
      "Getting KPI x Host data\n",
      "mw_redis_total_commands_processed\n",
      "----------------------------------------\n",
      "Running detection for  redis_004 total_commands_processed\n"
     ]
    },
    {
     "name": "stderr",
     "output_type": "stream",
     "text": [
      "<ipython-input-27-5dbcda61cba5>:30: DeprecationWarning: The truth value of an empty array is ambiguous. Returning False, but in future this will result in an error. Use `array.size > 0` to check that an array is not empty.\n",
      "  if x_test == []:\n"
     ]
    },
    {
     "name": "stdout",
     "output_type": "stream",
     "text": [
      "Getting KPI x Host data\n",
      "mw_redis_evicted_keys\n",
      "----------------------------------------\n",
      "Running detection for  redis_004 evicted_keys\n"
     ]
    },
    {
     "name": "stderr",
     "output_type": "stream",
     "text": [
      "<ipython-input-27-5dbcda61cba5>:30: DeprecationWarning: The truth value of an empty array is ambiguous. Returning False, but in future this will result in an error. Use `array.size > 0` to check that an array is not empty.\n",
      "  if x_test == []:\n"
     ]
    },
    {
     "name": "stdout",
     "output_type": "stream",
     "text": [
      "Getting KPI x Host data\n",
      "mw_redis_redis_ping\n",
      "----------------------------------------\n",
      "Running detection for  redis_004 redis_ping\n"
     ]
    },
    {
     "name": "stderr",
     "output_type": "stream",
     "text": [
      "<ipython-input-27-5dbcda61cba5>:30: DeprecationWarning: The truth value of an empty array is ambiguous. Returning False, but in future this will result in an error. Use `array.size > 0` to check that an array is not empty.\n",
      "  if x_test == []:\n"
     ]
    },
    {
     "name": "stdout",
     "output_type": "stream",
     "text": [
      "Getting KPI x Host data\n",
      "mw_redis_redis_load\n",
      "----------------------------------------\n",
      "Running detection for  redis_004 redis_load\n"
     ]
    },
    {
     "name": "stderr",
     "output_type": "stream",
     "text": [
      "<ipython-input-27-5dbcda61cba5>:30: DeprecationWarning: The truth value of an empty array is ambiguous. Returning False, but in future this will result in an error. Use `array.size > 0` to check that an array is not empty.\n",
      "  if x_test == []:\n"
     ]
    }
   ],
   "source": [
    "problems = find_anom('redis_004', pp.load_dfs(data_path))"
   ]
  },
  {
   "cell_type": "code",
   "execution_count": 25,
   "metadata": {},
   "outputs": [
    {
     "data": {
      "text/plain": [
       "[('os_010', 'Memory_available'),\n",
       " ('os_010', 'Buffers_used'),\n",
       " ('os_010', 'Memory_used_pct'),\n",
       " ('os_010', 'Memory_available_pct')]"
      ]
     },
     "execution_count": 25,
     "metadata": {},
     "output_type": "execute_result"
    }
   ],
   "source": [
    "problems"
   ]
  },
  {
   "cell_type": "code",
   "execution_count": null,
   "metadata": {},
   "outputs": [],
   "source": [
    "\n",
    "        "
   ]
  }
 ],
 "metadata": {
  "kernelspec": {
   "display_name": "Python 3",
   "language": "python",
   "name": "python3"
  },
  "language_info": {
   "codemirror_mode": {
    "name": "ipython",
    "version": 3
   },
   "file_extension": ".py",
   "mimetype": "text/x-python",
   "name": "python",
   "nbconvert_exporter": "python",
   "pygments_lexer": "ipython3",
   "version": "3.8.5"
  }
 },
 "nbformat": 4,
 "nbformat_minor": 4
}
