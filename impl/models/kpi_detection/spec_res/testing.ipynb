{
 "cells": [
  {
   "cell_type": "code",
   "execution_count": 81,
   "metadata": {},
   "outputs": [],
   "source": [
    "import pandas as pd\n",
    "import numpy as np\n",
    "import os\n",
    "\n",
    "import time\n",
    "from alibi_detect.od import SpectralResidual"
   ]
  },
  {
   "cell_type": "code",
   "execution_count": 35,
   "metadata": {},
   "outputs": [],
   "source": [
    "def get_data():\n",
    "    data_path = '../../../../data/train_data/host'\n",
    "    dfs = {}\n",
    "    for file in os.listdir(data_path):\n",
    "        print('Reading ' + file)\n",
    "        dfs[file[:-4]] = pd.read_csv(data_path+'/'+file) \n",
    "    return dfs\n",
    "\n",
    "def load_tiago_test(test):\n",
    "    data_path = '../../../../data/tiago_tests/test'\n",
    "    df = pd.read_csv(data_path+str(test)+'/kpis.csv')\n",
    "    return df\n",
    "\n",
    "def load_test():\n",
    "    data_path = '../../../../data/test_data/host'\n",
    "    df = pd.DataFrame(['item_id','name','bomc_id','timestamp','value','cmdb_id'])\n",
    "    for file in os.listdir(data_path):\n",
    "        df = pd.concatenate(df, pd.read_csv(data_path+'/'+file)) \n",
    "    return dfs\n"
   ]
  },
  {
   "cell_type": "code",
   "execution_count": 7,
   "metadata": {},
   "outputs": [],
   "source": [
    "def get_past(df, curr_time, window_size):\n",
    "    step_size = 1000*60\n",
    "    df_new = pd.DataFrame(columns=['timestamp', 'value'])\n",
    "\n",
    "    for time in [curr_time - step_size*x for x in range(window_size)][::-1]:\n",
    "        if len(df[df.timestamp == time]) == 0:\n",
    "            plug_time = np.max(df[df.timestamp < time]['timestamp'])\n",
    "            row = {}\n",
    "            row['timestamp'] = time\n",
    "            if len(df.loc[df.timestamp==plug_time, 'value']) == 0:\n",
    "                row['value'] = 0\n",
    "            else: \n",
    "                row['value'] = df.loc[df.timestamp==plug_time, 'value'].values[0]\n",
    "            df_new = df_new.append(row, ignore_index=True)\n",
    "        else:\n",
    "            row = {}\n",
    "            row['timestamp'] = time\n",
    "            row['value'] = df.loc[df.timestamp==time, 'value'].values[0]\n",
    "            df_new = df_new.append(row, ignore_index=True)\n",
    "    return df_new"
   ]
  },
  {
   "cell_type": "code",
   "execution_count": 82,
   "metadata": {},
   "outputs": [
    {
     "name": "stdout",
     "output_type": "stream",
     "text": [
      "['db_003' 'db_011' 'db_005' 'db_010' 'db_012' 'db_008' 'db_009' 'db_013'\n",
      " 'db_006' 'db_007' 'db_004' 'db_002' 'db_001' 'container_001'\n",
      " 'container_002' 'docker_002' 'docker_005' 'docker_004' 'docker_008'\n",
      " 'docker_003' 'docker_001' 'docker_007' 'docker_006' 'redis_003'\n",
      " 'redis_012' 'redis_007' 'redis_011' 'redis_005' 'redis_001' 'redis_008'\n",
      " 'redis_009' 'redis_004' 'redis_006' 'redis_002' 'redis_010' 'os_003'\n",
      " 'os_017' 'os_008' 'os_014' 'os_005' 'os_012' 'os_009' 'os_015' 'os_004'\n",
      " 'os_006' 'os_020' 'os_001' 'os_011' 'os_010' 'os_007' 'os_018' 'os_013'\n",
      " 'os_016' 'os_019' 'os_002' 'os_022' 'os_021']\n",
      "************************************************************\n",
      "Checking  db_003\n",
      "Threshold  0.5792020371267232 CPU_free_pct\n",
      "Threshold  0.5789452140089406 MEM_real_util\n",
      "Threshold  0.5613863637942091 tnsping_result_time\n"
     ]
    },
    {
     "name": "stderr",
     "output_type": "stream",
     "text": [
      "<ipython-input-82-dcc1e2084555>:27: UserWarning: Boolean Series key will be reindexed to match DataFrame index.\n",
      "  df_hk = df[df.cmdb_id == host][df.name == kpi]\n",
      "<ipython-input-82-dcc1e2084555>:27: UserWarning: Boolean Series key will be reindexed to match DataFrame index.\n",
      "  df_hk = df[df.cmdb_id == host][df.name == kpi]\n",
      "<ipython-input-82-dcc1e2084555>:27: UserWarning: Boolean Series key will be reindexed to match DataFrame index.\n",
      "  df_hk = df[df.cmdb_id == host][df.name == kpi]\n",
      "<ipython-input-82-dcc1e2084555>:27: UserWarning: Boolean Series key will be reindexed to match DataFrame index.\n",
      "  df_hk = df[df.cmdb_id == host][df.name == kpi]\n",
      "<ipython-input-82-dcc1e2084555>:27: UserWarning: Boolean Series key will be reindexed to match DataFrame index.\n",
      "  df_hk = df[df.cmdb_id == host][df.name == kpi]\n"
     ]
    },
    {
     "name": "stdout",
     "output_type": "stream",
     "text": [
      "[0 0 0 0 1 1 1 0 0 0 0 1 0 0 0 0 0 0 0 0 1 1 0 0 0 0 0 0 0 0]\n",
      "ST Threshold Anomaly!\n",
      "Threshold  0.8002607259374916 CPU_Used_Pct\n",
      "Threshold  0.5786337696298588 MEM_Used\n",
      "Threshold  nan MEM_Total\n",
      "NaN, Skipping!\n",
      "Threshold  0.578971558855777 MEM_Used_Pct\n"
     ]
    },
    {
     "name": "stderr",
     "output_type": "stream",
     "text": [
      "<ipython-input-82-dcc1e2084555>:27: UserWarning: Boolean Series key will be reindexed to match DataFrame index.\n",
      "  df_hk = df[df.cmdb_id == host][df.name == kpi]\n",
      "<ipython-input-82-dcc1e2084555>:27: UserWarning: Boolean Series key will be reindexed to match DataFrame index.\n",
      "  df_hk = df[df.cmdb_id == host][df.name == kpi]\n",
      "<ipython-input-82-dcc1e2084555>:27: UserWarning: Boolean Series key will be reindexed to match DataFrame index.\n",
      "  df_hk = df[df.cmdb_id == host][df.name == kpi]\n",
      "<ipython-input-82-dcc1e2084555>:27: UserWarning: Boolean Series key will be reindexed to match DataFrame index.\n",
      "  df_hk = df[df.cmdb_id == host][df.name == kpi]\n"
     ]
    },
    {
     "name": "stdout",
     "output_type": "stream",
     "text": [
      "Threshold  0.5789479809646076 Used_Tbs_Size\n",
      "Threshold  nan SEQ_Used_Pct\n",
      "No valid data to use, skipping\n",
      "Threshold  0.5753000989599808 Asm_Free_Tb\n",
      "Threshold  0.5729319438826606 PGA_used_total\n",
      "Threshold  0.9014230643122688 Sess_Used_Undo\n"
     ]
    },
    {
     "name": "stderr",
     "output_type": "stream",
     "text": [
      "/Users/baconbaker/anaconda3/envs/ml/lib/python3.8/site-packages/alibi_detect/od/sr.py:96: RuntimeWarning: divide by zero encountered in log\n",
      "  log_amp = np.log(amp)\n",
      "/Users/baconbaker/anaconda3/envs/ml/lib/python3.8/site-packages/alibi_detect/od/sr.py:99: RuntimeWarning: invalid value encountered in subtract\n",
      "  res_amp = log_amp - ma_log_amp\n",
      "/Users/baconbaker/anaconda3/envs/ml/lib/python3.8/site-packages/alibi_detect/od/sr.py:207: RuntimeWarning: invalid value encountered in greater\n",
      "  outlier_pred = (iscore > self.threshold).astype(int)\n",
      "<ipython-input-82-dcc1e2084555>:27: UserWarning: Boolean Series key will be reindexed to match DataFrame index.\n",
      "  df_hk = df[df.cmdb_id == host][df.name == kpi]\n",
      "/Users/baconbaker/anaconda3/envs/ml/lib/python3.8/site-packages/alibi_detect/od/sr.py:96: RuntimeWarning: divide by zero encountered in log\n",
      "  log_amp = np.log(amp)\n",
      "/Users/baconbaker/anaconda3/envs/ml/lib/python3.8/site-packages/alibi_detect/od/sr.py:99: RuntimeWarning: invalid value encountered in subtract\n",
      "  res_amp = log_amp - ma_log_amp\n",
      "/Users/baconbaker/anaconda3/envs/ml/lib/python3.8/site-packages/alibi_detect/od/sr.py:207: RuntimeWarning: invalid value encountered in greater\n",
      "  outlier_pred = (iscore > self.threshold).astype(int)\n",
      "<ipython-input-82-dcc1e2084555>:27: UserWarning: Boolean Series key will be reindexed to match DataFrame index.\n",
      "  df_hk = df[df.cmdb_id == host][df.name == kpi]\n",
      "/Users/baconbaker/anaconda3/envs/ml/lib/python3.8/site-packages/alibi_detect/od/sr.py:96: RuntimeWarning: divide by zero encountered in log\n",
      "  log_amp = np.log(amp)\n",
      "/Users/baconbaker/anaconda3/envs/ml/lib/python3.8/site-packages/alibi_detect/od/sr.py:99: RuntimeWarning: invalid value encountered in subtract\n",
      "  res_amp = log_amp - ma_log_amp\n",
      "/Users/baconbaker/anaconda3/envs/ml/lib/python3.8/site-packages/alibi_detect/od/sr.py:207: RuntimeWarning: invalid value encountered in greater\n",
      "  outlier_pred = (iscore > self.threshold).astype(int)\n",
      "<ipython-input-82-dcc1e2084555>:27: UserWarning: Boolean Series key will be reindexed to match DataFrame index.\n",
      "  df_hk = df[df.cmdb_id == host][df.name == kpi]\n",
      "/Users/baconbaker/anaconda3/envs/ml/lib/python3.8/site-packages/alibi_detect/od/sr.py:96: RuntimeWarning: divide by zero encountered in log\n",
      "  log_amp = np.log(amp)\n",
      "/Users/baconbaker/anaconda3/envs/ml/lib/python3.8/site-packages/alibi_detect/od/sr.py:99: RuntimeWarning: invalid value encountered in subtract\n",
      "  res_amp = log_amp - ma_log_amp\n",
      "/Users/baconbaker/anaconda3/envs/ml/lib/python3.8/site-packages/alibi_detect/od/sr.py:207: RuntimeWarning: invalid value encountered in greater\n",
      "  outlier_pred = (iscore > self.threshold).astype(int)\n",
      "<ipython-input-82-dcc1e2084555>:27: UserWarning: Boolean Series key will be reindexed to match DataFrame index.\n",
      "  df_hk = df[df.cmdb_id == host][df.name == kpi]\n"
     ]
    },
    {
     "name": "stdout",
     "output_type": "stream",
     "text": [
      "Threshold  6.378248607666677 Sess_Used_Temp\n",
      "Threshold  0.7681734792921942 SctRead_Per_Sec\n",
      "Threshold  0.5850642900494893 SeqRead_Per_Sec\n",
      "Threshold  0.6113174956824186 DFParaWrite_Per_Sec\n"
     ]
    },
    {
     "name": "stderr",
     "output_type": "stream",
     "text": [
      "<ipython-input-82-dcc1e2084555>:27: UserWarning: Boolean Series key will be reindexed to match DataFrame index.\n",
      "  df_hk = df[df.cmdb_id == host][df.name == kpi]\n",
      "<ipython-input-82-dcc1e2084555>:27: UserWarning: Boolean Series key will be reindexed to match DataFrame index.\n",
      "  df_hk = df[df.cmdb_id == host][df.name == kpi]\n",
      "<ipython-input-82-dcc1e2084555>:27: UserWarning: Boolean Series key will be reindexed to match DataFrame index.\n",
      "  df_hk = df[df.cmdb_id == host][df.name == kpi]\n",
      "<ipython-input-82-dcc1e2084555>:27: UserWarning: Boolean Series key will be reindexed to match DataFrame index.\n",
      "  df_hk = df[df.cmdb_id == host][df.name == kpi]\n"
     ]
    },
    {
     "name": "stdout",
     "output_type": "stream",
     "text": [
      "Threshold  -1.0 PGA_Used_Pct\n",
      "Threshold  -1.0 Row_Lock\n",
      "Threshold  0.5707611625483013 Proc_Used_Pct\n",
      "Threshold  1.063545401890334 Session_pct\n"
     ]
    },
    {
     "name": "stderr",
     "output_type": "stream",
     "text": [
      "<ipython-input-82-dcc1e2084555>:27: UserWarning: Boolean Series key will be reindexed to match DataFrame index.\n",
      "  df_hk = df[df.cmdb_id == host][df.name == kpi]\n",
      "<ipython-input-82-dcc1e2084555>:27: UserWarning: Boolean Series key will be reindexed to match DataFrame index.\n",
      "  df_hk = df[df.cmdb_id == host][df.name == kpi]\n",
      "<ipython-input-82-dcc1e2084555>:27: UserWarning: Boolean Series key will be reindexed to match DataFrame index.\n",
      "  df_hk = df[df.cmdb_id == host][df.name == kpi]\n",
      "<ipython-input-82-dcc1e2084555>:27: UserWarning: Boolean Series key will be reindexed to match DataFrame index.\n",
      "  df_hk = df[df.cmdb_id == host][df.name == kpi]\n",
      "/Users/baconbaker/anaconda3/envs/ml/lib/python3.8/site-packages/alibi_detect/od/sr.py:96: RuntimeWarning: divide by zero encountered in log\n",
      "  log_amp = np.log(amp)\n",
      "/Users/baconbaker/anaconda3/envs/ml/lib/python3.8/site-packages/alibi_detect/od/sr.py:99: RuntimeWarning: invalid value encountered in subtract\n",
      "  res_amp = log_amp - ma_log_amp\n",
      "/Users/baconbaker/anaconda3/envs/ml/lib/python3.8/site-packages/alibi_detect/od/sr.py:207: RuntimeWarning: invalid value encountered in greater\n",
      "  outlier_pred = (iscore > self.threshold).astype(int)\n",
      "<ipython-input-82-dcc1e2084555>:27: UserWarning: Boolean Series key will be reindexed to match DataFrame index.\n",
      "  df_hk = df[df.cmdb_id == host][df.name == kpi]\n"
     ]
    },
    {
     "name": "stdout",
     "output_type": "stream",
     "text": [
      "[0 0 0 1 0 1 1 0 0 0 0 0 0 0 0 0 0 0 0 0 0 1 0 1 0 0 0 1 1 0]\n",
      "ST Threshold Anomaly!\n",
      "Threshold  0.7492365257344964 LFParaWrite_Per_Sec\n",
      "Threshold  2.6019720977486998 AWS\n",
      "Threshold  0.7216512586732943 LFSync_Per_Sec\n",
      "Threshold  0.5707611625483013 Proc_User_Used_Pct\n",
      "Threshold  5.759475404279844 AIOS\n"
     ]
    },
    {
     "name": "stderr",
     "output_type": "stream",
     "text": [
      "<ipython-input-82-dcc1e2084555>:27: UserWarning: Boolean Series key will be reindexed to match DataFrame index.\n",
      "  df_hk = df[df.cmdb_id == host][df.name == kpi]\n",
      "<ipython-input-82-dcc1e2084555>:27: UserWarning: Boolean Series key will be reindexed to match DataFrame index.\n",
      "  df_hk = df[df.cmdb_id == host][df.name == kpi]\n",
      "<ipython-input-82-dcc1e2084555>:27: UserWarning: Boolean Series key will be reindexed to match DataFrame index.\n",
      "  df_hk = df[df.cmdb_id == host][df.name == kpi]\n",
      "/Users/baconbaker/anaconda3/envs/ml/lib/python3.8/site-packages/alibi_detect/od/sr.py:96: RuntimeWarning: divide by zero encountered in log\n",
      "  log_amp = np.log(amp)\n",
      "/Users/baconbaker/anaconda3/envs/ml/lib/python3.8/site-packages/alibi_detect/od/sr.py:99: RuntimeWarning: invalid value encountered in subtract\n",
      "  res_amp = log_amp - ma_log_amp\n",
      "/Users/baconbaker/anaconda3/envs/ml/lib/python3.8/site-packages/alibi_detect/od/sr.py:207: RuntimeWarning: invalid value encountered in greater\n",
      "  outlier_pred = (iscore > self.threshold).astype(int)\n",
      "<ipython-input-82-dcc1e2084555>:27: UserWarning: Boolean Series key will be reindexed to match DataFrame index.\n",
      "  df_hk = df[df.cmdb_id == host][df.name == kpi]\n",
      "<ipython-input-82-dcc1e2084555>:27: UserWarning: Boolean Series key will be reindexed to match DataFrame index.\n",
      "  df_hk = df[df.cmdb_id == host][df.name == kpi]\n"
     ]
    },
    {
     "name": "stdout",
     "output_type": "stream",
     "text": [
      "Threshold  2.0016531950637253 ACS\n",
      "Threshold  nan On_Off_State\n",
      "NaN, Skipping!\n",
      "Threshold  0.5818021348495565 DbTime\n",
      "[0 0 1 1 1 1 1 0 0 0 0 0 0 0 0 0 0 0 0 0 0 1 0 0 0 0 1 1 1 0]\n",
      "ST Threshold Anomaly!\n",
      "Threshold  0.9648222086195642 Sess_Active\n",
      "[0 0 0 1 0 1 1 0 0 0 0 0 0 0 0 0 0 0 0 0 0 1 0 0 0 0 0 1 1 0]\n",
      "ST Threshold Anomaly!\n",
      "Threshold  0.6185878243603703 Physical_Read_Per_Sec\n"
     ]
    },
    {
     "name": "stderr",
     "output_type": "stream",
     "text": [
      "<ipython-input-82-dcc1e2084555>:27: UserWarning: Boolean Series key will be reindexed to match DataFrame index.\n",
      "  df_hk = df[df.cmdb_id == host][df.name == kpi]\n",
      "<ipython-input-82-dcc1e2084555>:27: UserWarning: Boolean Series key will be reindexed to match DataFrame index.\n",
      "  df_hk = df[df.cmdb_id == host][df.name == kpi]\n",
      "<ipython-input-82-dcc1e2084555>:27: UserWarning: Boolean Series key will be reindexed to match DataFrame index.\n",
      "  df_hk = df[df.cmdb_id == host][df.name == kpi]\n",
      "<ipython-input-82-dcc1e2084555>:27: UserWarning: Boolean Series key will be reindexed to match DataFrame index.\n",
      "  df_hk = df[df.cmdb_id == host][df.name == kpi]\n",
      "<ipython-input-82-dcc1e2084555>:27: UserWarning: Boolean Series key will be reindexed to match DataFrame index.\n",
      "  df_hk = df[df.cmdb_id == host][df.name == kpi]\n"
     ]
    },
    {
     "name": "stdout",
     "output_type": "stream",
     "text": [
      "Threshold  0.5719301584106011 Call_Per_Sec\n",
      "Threshold  1.0106038431876343 Login_Per_Sec\n",
      "Threshold  0.5052109369231527 User_Commit\n",
      "Threshold  0.5814479531753043 Sess_Connect\n",
      "Threshold  0.6193339567526047 Logic_Read_Per_Sec\n"
     ]
    },
    {
     "name": "stderr",
     "output_type": "stream",
     "text": [
      "<ipython-input-82-dcc1e2084555>:27: UserWarning: Boolean Series key will be reindexed to match DataFrame index.\n",
      "  df_hk = df[df.cmdb_id == host][df.name == kpi]\n",
      "<ipython-input-82-dcc1e2084555>:27: UserWarning: Boolean Series key will be reindexed to match DataFrame index.\n",
      "  df_hk = df[df.cmdb_id == host][df.name == kpi]\n",
      "<ipython-input-82-dcc1e2084555>:27: UserWarning: Boolean Series key will be reindexed to match DataFrame index.\n",
      "  df_hk = df[df.cmdb_id == host][df.name == kpi]\n"
     ]
    },
    {
     "name": "stdout",
     "output_type": "stream",
     "text": [
      "[1 1 0 1 1 1 0 0 0 0 0 0 0 0 0 0 0 0 0 0 0 0 0 1 1 1 1 1 1 0]\n",
      "ST Threshold Anomaly!\n",
      "Threshold  0.5471268908986717 TPS_Per_Sec\n",
      "Threshold  nan Hang\n",
      "NaN, Skipping!\n",
      "Threshold  0.5784968821227304 Redo_Per_Sec\n",
      "Threshold  0.5635287369877677 Exec_Per_Sec\n"
     ]
    },
    {
     "name": "stderr",
     "output_type": "stream",
     "text": [
      "<ipython-input-82-dcc1e2084555>:27: UserWarning: Boolean Series key will be reindexed to match DataFrame index.\n",
      "  df_hk = df[df.cmdb_id == host][df.name == kpi]\n",
      "<ipython-input-82-dcc1e2084555>:27: UserWarning: Boolean Series key will be reindexed to match DataFrame index.\n",
      "  df_hk = df[df.cmdb_id == host][df.name == kpi]\n",
      "<ipython-input-82-dcc1e2084555>:27: UserWarning: Boolean Series key will be reindexed to match DataFrame index.\n",
      "  df_hk = df[df.cmdb_id == host][df.name == kpi]\n",
      "<ipython-input-82-dcc1e2084555>:27: UserWarning: Boolean Series key will be reindexed to match DataFrame index.\n",
      "  df_hk = df[df.cmdb_id == host][df.name == kpi]\n"
     ]
    },
    {
     "name": "stdout",
     "output_type": "stream",
     "text": [
      "[0 0 1 1 1 0 0 0 0 0 0 0 0 1 0 0 0 0 0 0 0 0 1 1 1 0 0 0 0 0]\n",
      "ST Threshold Anomaly!\n",
      "Threshold  -1.0 TempTbs_Pct\n",
      "Threshold  nan Total_Tbs_Size\n",
      "NaN, Skipping!\n",
      "Threshold  0.5516609522717707 New_Tbs_Free_Gb\n",
      "[1 0 0 0 0 0 0 0 0 0 0 0 0 0 0 0 0 0 0 1 1 1 1 1 1 1 1 1 1 1]\n",
      "ST Threshold Anomaly!\n",
      "Threshold  0.5366772653116412 New_Tbs_Used_Pct\n"
     ]
    },
    {
     "name": "stderr",
     "output_type": "stream",
     "text": [
      "<ipython-input-82-dcc1e2084555>:27: UserWarning: Boolean Series key will be reindexed to match DataFrame index.\n",
      "  df_hk = df[df.cmdb_id == host][df.name == kpi]\n",
      "<ipython-input-82-dcc1e2084555>:27: UserWarning: Boolean Series key will be reindexed to match DataFrame index.\n",
      "  df_hk = df[df.cmdb_id == host][df.name == kpi]\n",
      "<ipython-input-82-dcc1e2084555>:27: UserWarning: Boolean Series key will be reindexed to match DataFrame index.\n",
      "  df_hk = df[df.cmdb_id == host][df.name == kpi]\n",
      "<ipython-input-82-dcc1e2084555>:27: UserWarning: Boolean Series key will be reindexed to match DataFrame index.\n",
      "  df_hk = df[df.cmdb_id == host][df.name == kpi]\n"
     ]
    },
    {
     "name": "stdout",
     "output_type": "stream",
     "text": [
      "Threshold  nan Tbs_Used_Pct\n",
      "NaN, Skipping!\n",
      "Threshold  nan Tbs_Free_Gb\n",
      "NaN, Skipping!\n",
      "Threshold  0.5743346965731231 UndoTbs_Pct\n",
      "Threshold  0.6696469362285076 DbFile_Used_Pct\n",
      "No valid data to use, skipping\n",
      "db_003  completed in  2.5119988918304443\n",
      "************************************************************\n",
      "Checking  db_011\n",
      "Threshold  0.5803292601138316 CPU_free_pct\n"
     ]
    },
    {
     "name": "stderr",
     "output_type": "stream",
     "text": [
      "<ipython-input-82-dcc1e2084555>:27: UserWarning: Boolean Series key will be reindexed to match DataFrame index.\n",
      "  df_hk = df[df.cmdb_id == host][df.name == kpi]\n",
      "<ipython-input-82-dcc1e2084555>:27: UserWarning: Boolean Series key will be reindexed to match DataFrame index.\n",
      "  df_hk = df[df.cmdb_id == host][df.name == kpi]\n",
      "<ipython-input-82-dcc1e2084555>:27: UserWarning: Boolean Series key will be reindexed to match DataFrame index.\n",
      "  df_hk = df[df.cmdb_id == host][df.name == kpi]\n",
      "<ipython-input-82-dcc1e2084555>:27: UserWarning: Boolean Series key will be reindexed to match DataFrame index.\n",
      "  df_hk = df[df.cmdb_id == host][df.name == kpi]\n"
     ]
    },
    {
     "name": "stdout",
     "output_type": "stream",
     "text": [
      "Threshold  0.5786274290711437 MEM_real_util\n",
      "Threshold  0.5855709287306593 tnsping_result_time\n",
      "Threshold  0.7172495105241921 CPU_Used_Pct\n",
      "Threshold  0.5789740293825557 MEM_Used\n"
     ]
    },
    {
     "name": "stderr",
     "output_type": "stream",
     "text": [
      "<ipython-input-82-dcc1e2084555>:27: UserWarning: Boolean Series key will be reindexed to match DataFrame index.\n",
      "  df_hk = df[df.cmdb_id == host][df.name == kpi]\n",
      "<ipython-input-82-dcc1e2084555>:27: UserWarning: Boolean Series key will be reindexed to match DataFrame index.\n",
      "  df_hk = df[df.cmdb_id == host][df.name == kpi]\n",
      "<ipython-input-82-dcc1e2084555>:27: UserWarning: Boolean Series key will be reindexed to match DataFrame index.\n",
      "  df_hk = df[df.cmdb_id == host][df.name == kpi]\n",
      "<ipython-input-82-dcc1e2084555>:27: UserWarning: Boolean Series key will be reindexed to match DataFrame index.\n",
      "  df_hk = df[df.cmdb_id == host][df.name == kpi]\n",
      "<ipython-input-82-dcc1e2084555>:27: UserWarning: Boolean Series key will be reindexed to match DataFrame index.\n",
      "  df_hk = df[df.cmdb_id == host][df.name == kpi]\n"
     ]
    },
    {
     "name": "stdout",
     "output_type": "stream",
     "text": [
      "Threshold  nan MEM_Total\n",
      "NaN, Skipping!\n",
      "Threshold  0.57848155567346 MEM_Used_Pct\n",
      "Threshold  0.5789575272225047 Used_Tbs_Size\n",
      "Threshold  nan SEQ_Used_Pct\n",
      "No valid data to use, skipping\n",
      "Threshold  nan Asm_Free_Tb\n"
     ]
    },
    {
     "name": "stderr",
     "output_type": "stream",
     "text": [
      "<ipython-input-82-dcc1e2084555>:27: UserWarning: Boolean Series key will be reindexed to match DataFrame index.\n",
      "  df_hk = df[df.cmdb_id == host][df.name == kpi]\n",
      "<ipython-input-82-dcc1e2084555>:27: UserWarning: Boolean Series key will be reindexed to match DataFrame index.\n",
      "  df_hk = df[df.cmdb_id == host][df.name == kpi]\n",
      "<ipython-input-82-dcc1e2084555>:27: UserWarning: Boolean Series key will be reindexed to match DataFrame index.\n",
      "  df_hk = df[df.cmdb_id == host][df.name == kpi]\n"
     ]
    },
    {
     "name": "stdout",
     "output_type": "stream",
     "text": [
      "NaN, Skipping!\n",
      "Threshold  nan PGA_used_total\n",
      "NaN, Skipping!\n",
      "Threshold  -1.0 Sess_Used_Undo\n",
      "Threshold  -1.0 Sess_Used_Temp\n",
      "Threshold  1.4522238243250112 SctRead_Per_Sec\n",
      "Threshold  3.4797025637164936 SeqRead_Per_Sec\n"
     ]
    },
    {
     "name": "stderr",
     "output_type": "stream",
     "text": [
      "<ipython-input-82-dcc1e2084555>:27: UserWarning: Boolean Series key will be reindexed to match DataFrame index.\n",
      "  df_hk = df[df.cmdb_id == host][df.name == kpi]\n",
      "<ipython-input-82-dcc1e2084555>:27: UserWarning: Boolean Series key will be reindexed to match DataFrame index.\n",
      "  df_hk = df[df.cmdb_id == host][df.name == kpi]\n",
      "<ipython-input-82-dcc1e2084555>:27: UserWarning: Boolean Series key will be reindexed to match DataFrame index.\n",
      "  df_hk = df[df.cmdb_id == host][df.name == kpi]\n",
      "/Users/baconbaker/anaconda3/envs/ml/lib/python3.8/site-packages/alibi_detect/od/sr.py:96: RuntimeWarning: divide by zero encountered in log\n",
      "  log_amp = np.log(amp)\n",
      "/Users/baconbaker/anaconda3/envs/ml/lib/python3.8/site-packages/alibi_detect/od/sr.py:99: RuntimeWarning: invalid value encountered in subtract\n",
      "  res_amp = log_amp - ma_log_amp\n",
      "/Users/baconbaker/anaconda3/envs/ml/lib/python3.8/site-packages/alibi_detect/od/sr.py:207: RuntimeWarning: invalid value encountered in greater\n",
      "  outlier_pred = (iscore > self.threshold).astype(int)\n",
      "<ipython-input-82-dcc1e2084555>:27: UserWarning: Boolean Series key will be reindexed to match DataFrame index.\n",
      "  df_hk = df[df.cmdb_id == host][df.name == kpi]\n"
     ]
    },
    {
     "name": "stdout",
     "output_type": "stream",
     "text": [
      "Threshold  4.723402063048252 DFParaWrite_Per_Sec\n",
      "Threshold  -1.0 PGA_Used_Pct\n",
      "Threshold  -1.0 Row_Lock\n",
      "Threshold  0.6024724069054997 Proc_Used_Pct\n"
     ]
    },
    {
     "name": "stderr",
     "output_type": "stream",
     "text": [
      "<ipython-input-82-dcc1e2084555>:27: UserWarning: Boolean Series key will be reindexed to match DataFrame index.\n",
      "  df_hk = df[df.cmdb_id == host][df.name == kpi]\n",
      "<ipython-input-82-dcc1e2084555>:27: UserWarning: Boolean Series key will be reindexed to match DataFrame index.\n",
      "  df_hk = df[df.cmdb_id == host][df.name == kpi]\n",
      "<ipython-input-82-dcc1e2084555>:27: UserWarning: Boolean Series key will be reindexed to match DataFrame index.\n",
      "  df_hk = df[df.cmdb_id == host][df.name == kpi]\n",
      "<ipython-input-82-dcc1e2084555>:27: UserWarning: Boolean Series key will be reindexed to match DataFrame index.\n",
      "  df_hk = df[df.cmdb_id == host][df.name == kpi]\n",
      "<ipython-input-82-dcc1e2084555>:27: UserWarning: Boolean Series key will be reindexed to match DataFrame index.\n",
      "  df_hk = df[df.cmdb_id == host][df.name == kpi]\n"
     ]
    },
    {
     "name": "stdout",
     "output_type": "stream",
     "text": [
      "Threshold  0.8058994654075151 Session_pct\n",
      "[0 1 1 0 0 0 0 1 0 0 0 0 0 0 0 0 0 0 1 1 1 0 0 0 0 1 0 0 0 0]\n",
      "ST Threshold Anomaly!\n",
      "Threshold  1.0976067184984812 LFParaWrite_Per_Sec\n",
      "Threshold  3.089208064436169 AWS\n",
      "Threshold  0.9417676423159378 LFSync_Per_Sec\n"
     ]
    },
    {
     "name": "stderr",
     "output_type": "stream",
     "text": [
      "<ipython-input-82-dcc1e2084555>:27: UserWarning: Boolean Series key will be reindexed to match DataFrame index.\n",
      "  df_hk = df[df.cmdb_id == host][df.name == kpi]\n",
      "<ipython-input-82-dcc1e2084555>:27: UserWarning: Boolean Series key will be reindexed to match DataFrame index.\n",
      "  df_hk = df[df.cmdb_id == host][df.name == kpi]\n",
      "<ipython-input-82-dcc1e2084555>:27: UserWarning: Boolean Series key will be reindexed to match DataFrame index.\n",
      "  df_hk = df[df.cmdb_id == host][df.name == kpi]\n",
      "<ipython-input-82-dcc1e2084555>:27: UserWarning: Boolean Series key will be reindexed to match DataFrame index.\n",
      "  df_hk = df[df.cmdb_id == host][df.name == kpi]\n"
     ]
    },
    {
     "name": "stdout",
     "output_type": "stream",
     "text": [
      "Threshold  0.6028746606231529 Proc_User_Used_Pct\n",
      "Threshold  -1.0 AIOS\n",
      "Threshold  3.999571220117132 ACS\n",
      "Threshold  nan On_Off_State\n",
      "NaN, Skipping!"
     ]
    },
    {
     "name": "stderr",
     "output_type": "stream",
     "text": [
      "<ipython-input-82-dcc1e2084555>:27: UserWarning: Boolean Series key will be reindexed to match DataFrame index.\n",
      "  df_hk = df[df.cmdb_id == host][df.name == kpi]\n",
      "<ipython-input-82-dcc1e2084555>:27: UserWarning: Boolean Series key will be reindexed to match DataFrame index.\n",
      "  df_hk = df[df.cmdb_id == host][df.name == kpi]\n",
      "<ipython-input-82-dcc1e2084555>:27: UserWarning: Boolean Series key will be reindexed to match DataFrame index.\n",
      "  df_hk = df[df.cmdb_id == host][df.name == kpi]\n",
      "<ipython-input-82-dcc1e2084555>:27: UserWarning: Boolean Series key will be reindexed to match DataFrame index.\n",
      "  df_hk = df[df.cmdb_id == host][df.name == kpi]\n"
     ]
    },
    {
     "name": "stdout",
     "output_type": "stream",
     "text": [
      "\n",
      "Threshold  0.6365019169078714 DbTime\n",
      "[1 1 1 0 0 0 1 1 0 0 0 0 0 0 0 0 0 0 0 1 1 1 0 0 1 1 0 0 0 1]\n",
      "ST Threshold Anomaly!\n",
      "Threshold  0.6522769375386521 Sess_Active\n",
      "[0 1 1 0 0 0 0 1 0 0 0 0 0 0 0 0 0 0 0 1 1 1 0 0 0 1 0 0 0 0]\n",
      "ST Threshold Anomaly!\n",
      "Threshold  0.6640388074117756 Physical_Read_Per_Sec\n",
      "[0 0 1 1 1 0 0 0 0 0 0 0 1 1 1 0 0 0 0 0 0 0 1 1 1 0 0 0 0 0]\n",
      "ST Threshold Anomaly!\n",
      "Threshold  0.57435714364346 Call_Per_Sec\n"
     ]
    },
    {
     "name": "stderr",
     "output_type": "stream",
     "text": [
      "<ipython-input-82-dcc1e2084555>:27: UserWarning: Boolean Series key will be reindexed to match DataFrame index.\n",
      "  df_hk = df[df.cmdb_id == host][df.name == kpi]\n",
      "<ipython-input-82-dcc1e2084555>:27: UserWarning: Boolean Series key will be reindexed to match DataFrame index.\n",
      "  df_hk = df[df.cmdb_id == host][df.name == kpi]\n",
      "<ipython-input-82-dcc1e2084555>:27: UserWarning: Boolean Series key will be reindexed to match DataFrame index.\n",
      "  df_hk = df[df.cmdb_id == host][df.name == kpi]\n",
      "<ipython-input-82-dcc1e2084555>:27: UserWarning: Boolean Series key will be reindexed to match DataFrame index.\n",
      "  df_hk = df[df.cmdb_id == host][df.name == kpi]\n",
      "<ipython-input-82-dcc1e2084555>:27: UserWarning: Boolean Series key will be reindexed to match DataFrame index.\n",
      "  df_hk = df[df.cmdb_id == host][df.name == kpi]\n"
     ]
    },
    {
     "name": "stdout",
     "output_type": "stream",
     "text": [
      "[1 1 1 1 0 0 0 0 0 0 0 0 0 0 0 0 0 0 0 0 0 0 0 1 0 0 0 1 1 1]\n",
      "ST Threshold Anomaly!\n",
      "Threshold  0.6050437625774207 Login_Per_Sec\n",
      "[1 1 1 1 0 0 0 0 0 0 0 0 0 0 0 0 0 0 0 0 0 0 0 1 0 0 0 1 1 1]\n",
      "ST Threshold Anomaly!\n",
      "Threshold  7.747024280579909 User_Commit\n",
      "Threshold  0.574989540497184 Sess_Connect\n",
      "Threshold  0.5716719777081682 Logic_Read_Per_Sec\n",
      "Threshold  10.169730691183881 TPS_Per_Sec\n"
     ]
    },
    {
     "name": "stderr",
     "output_type": "stream",
     "text": [
      "<ipython-input-82-dcc1e2084555>:27: UserWarning: Boolean Series key will be reindexed to match DataFrame index.\n",
      "  df_hk = df[df.cmdb_id == host][df.name == kpi]\n",
      "<ipython-input-82-dcc1e2084555>:27: UserWarning: Boolean Series key will be reindexed to match DataFrame index.\n",
      "  df_hk = df[df.cmdb_id == host][df.name == kpi]\n",
      "<ipython-input-82-dcc1e2084555>:27: UserWarning: Boolean Series key will be reindexed to match DataFrame index.\n",
      "  df_hk = df[df.cmdb_id == host][df.name == kpi]\n",
      "<ipython-input-82-dcc1e2084555>:27: UserWarning: Boolean Series key will be reindexed to match DataFrame index.\n",
      "  df_hk = df[df.cmdb_id == host][df.name == kpi]\n"
     ]
    },
    {
     "name": "stdout",
     "output_type": "stream",
     "text": [
      "Threshold  nan Hang\n",
      "NaN, Skipping!\n",
      "Threshold  0.5748153941604006 Redo_Per_Sec\n",
      "Threshold  0.6272343402006566 Exec_Per_Sec\n",
      "Threshold  -1.0 TempTbs_Pct\n",
      "Threshold "
     ]
    },
    {
     "name": "stderr",
     "output_type": "stream",
     "text": [
      "<ipython-input-82-dcc1e2084555>:27: UserWarning: Boolean Series key will be reindexed to match DataFrame index.\n",
      "  df_hk = df[df.cmdb_id == host][df.name == kpi]\n",
      "<ipython-input-82-dcc1e2084555>:27: UserWarning: Boolean Series key will be reindexed to match DataFrame index.\n",
      "  df_hk = df[df.cmdb_id == host][df.name == kpi]\n",
      "<ipython-input-82-dcc1e2084555>:27: UserWarning: Boolean Series key will be reindexed to match DataFrame index.\n",
      "  df_hk = df[df.cmdb_id == host][df.name == kpi]\n",
      "<ipython-input-82-dcc1e2084555>:27: UserWarning: Boolean Series key will be reindexed to match DataFrame index.\n",
      "  df_hk = df[df.cmdb_id == host][df.name == kpi]\n",
      "<ipython-input-82-dcc1e2084555>:27: UserWarning: Boolean Series key will be reindexed to match DataFrame index.\n",
      "  df_hk = df[df.cmdb_id == host][df.name == kpi]\n"
     ]
    },
    {
     "name": "stdout",
     "output_type": "stream",
     "text": [
      " nan Total_Tbs_Size\n",
      "NaN, Skipping!\n",
      "Threshold  0.6607275258378008 New_Tbs_Free_Gb\n",
      "Threshold  3.1353406733129745 New_Tbs_Used_Pct\n",
      "Threshold  nan Tbs_Used_Pct\n",
      "NaN, Skipping!\n",
      "Threshold  nan Tbs_Free_Gb\n",
      "NaN, Skipping!"
     ]
    },
    {
     "name": "stderr",
     "output_type": "stream",
     "text": [
      "<ipython-input-82-dcc1e2084555>:27: UserWarning: Boolean Series key will be reindexed to match DataFrame index.\n",
      "  df_hk = df[df.cmdb_id == host][df.name == kpi]\n",
      "<ipython-input-82-dcc1e2084555>:27: UserWarning: Boolean Series key will be reindexed to match DataFrame index.\n",
      "  df_hk = df[df.cmdb_id == host][df.name == kpi]\n",
      "<ipython-input-82-dcc1e2084555>:27: UserWarning: Boolean Series key will be reindexed to match DataFrame index.\n",
      "  df_hk = df[df.cmdb_id == host][df.name == kpi]\n"
     ]
    },
    {
     "name": "stdout",
     "output_type": "stream",
     "text": [
      "\n",
      "Threshold  1.1493765320456986 UndoTbs_Pct\n",
      "Threshold  0.6035729998862486 DbFile_Used_Pct\n",
      "No valid data to use, skipping\n",
      "db_011  completed in  2.5720722675323486\n",
      "************************************************************\n",
      "Checking  db_005\n",
      "Threshold  0.5815351296425121 CPU_free_pct\n",
      "Threshold  0.5796722324694968 MEM_real_util\n",
      "Threshold  0.7250102008092519 tnsping_result_time\n",
      "Threshold  0.5442904620722208 CPU_Used_Pct\n"
     ]
    },
    {
     "name": "stderr",
     "output_type": "stream",
     "text": [
      "<ipython-input-82-dcc1e2084555>:27: UserWarning: Boolean Series key will be reindexed to match DataFrame index.\n",
      "  df_hk = df[df.cmdb_id == host][df.name == kpi]\n",
      "<ipython-input-82-dcc1e2084555>:27: UserWarning: Boolean Series key will be reindexed to match DataFrame index.\n",
      "  df_hk = df[df.cmdb_id == host][df.name == kpi]\n",
      "<ipython-input-82-dcc1e2084555>:27: UserWarning: Boolean Series key will be reindexed to match DataFrame index.\n",
      "  df_hk = df[df.cmdb_id == host][df.name == kpi]\n",
      "<ipython-input-82-dcc1e2084555>:27: UserWarning: Boolean Series key will be reindexed to match DataFrame index.\n",
      "  df_hk = df[df.cmdb_id == host][df.name == kpi]\n",
      "<ipython-input-82-dcc1e2084555>:27: UserWarning: Boolean Series key will be reindexed to match DataFrame index.\n",
      "  df_hk = df[df.cmdb_id == host][df.name == kpi]\n"
     ]
    },
    {
     "name": "stdout",
     "output_type": "stream",
     "text": [
      "[1 1 1 1 0 0 0 0 0 0 0 0 0 0 0 0 0 0 0 0 0 0 0 1 1 0 1 1 1 1]\n",
      "ST Threshold Anomaly!\n",
      "Threshold  0.5787124836080757 MEM_Used\n",
      "Threshold  nan MEM_Total\n",
      "NaN, Skipping!\n",
      "Threshold  0.5782417455041423 MEM_Used_Pct\n",
      "Threshold  0.5789486962129075 Used_Tbs_Size\n"
     ]
    },
    {
     "name": "stderr",
     "output_type": "stream",
     "text": [
      "<ipython-input-82-dcc1e2084555>:27: UserWarning: Boolean Series key will be reindexed to match DataFrame index.\n",
      "  df_hk = df[df.cmdb_id == host][df.name == kpi]\n",
      "<ipython-input-82-dcc1e2084555>:27: UserWarning: Boolean Series key will be reindexed to match DataFrame index.\n",
      "  df_hk = df[df.cmdb_id == host][df.name == kpi]\n",
      "<ipython-input-82-dcc1e2084555>:27: UserWarning: Boolean Series key will be reindexed to match DataFrame index.\n",
      "  df_hk = df[df.cmdb_id == host][df.name == kpi]\n",
      "<ipython-input-82-dcc1e2084555>:27: UserWarning: Boolean Series key will be reindexed to match DataFrame index.\n",
      "  df_hk = df[df.cmdb_id == host][df.name == kpi]\n",
      "<ipython-input-82-dcc1e2084555>:27: UserWarning: Boolean Series key will be reindexed to match DataFrame index.\n",
      "  df_hk = df[df.cmdb_id == host][df.name == kpi]\n"
     ]
    },
    {
     "name": "stdout",
     "output_type": "stream",
     "text": [
      "Threshold  nan SEQ_Used_Pct\n",
      "No valid data to use, skipping\n",
      "Threshold  nan Asm_Free_Tb\n",
      "NaN, Skipping!\n",
      "Threshold  nan PGA_used_total\n",
      "NaN, Skipping!\n",
      "Threshold  -1.0 Sess_Used_Undo\n",
      "Threshold  -1.0 Sess_Used_Temp\n"
     ]
    },
    {
     "name": "stderr",
     "output_type": "stream",
     "text": [
      "<ipython-input-82-dcc1e2084555>:27: UserWarning: Boolean Series key will be reindexed to match DataFrame index.\n",
      "  df_hk = df[df.cmdb_id == host][df.name == kpi]\n",
      "<ipython-input-82-dcc1e2084555>:27: UserWarning: Boolean Series key will be reindexed to match DataFrame index.\n",
      "  df_hk = df[df.cmdb_id == host][df.name == kpi]\n",
      "<ipython-input-82-dcc1e2084555>:27: UserWarning: Boolean Series key will be reindexed to match DataFrame index.\n",
      "  df_hk = df[df.cmdb_id == host][df.name == kpi]\n",
      "<ipython-input-82-dcc1e2084555>:27: UserWarning: Boolean Series key will be reindexed to match DataFrame index.\n",
      "  df_hk = df[df.cmdb_id == host][df.name == kpi]\n"
     ]
    },
    {
     "name": "stdout",
     "output_type": "stream",
     "text": [
      "Threshold  -1.0 SctRead_Per_Sec\n",
      "Threshold  1.9871720410608134 SeqRead_Per_Sec\n",
      "[0 1 0 0 0 0 0 0 0 0 0 0 0 0 0 0 0 0 0 0 0 0 1 1 0 0 1 0 0 0]\n",
      "ST Threshold Anomaly!\n",
      "Threshold  2.284651565031192 DFParaWrite_Per_Sec\n",
      "Threshold  -1.0 PGA_Used_Pct\n"
     ]
    },
    {
     "name": "stderr",
     "output_type": "stream",
     "text": [
      "<ipython-input-82-dcc1e2084555>:27: UserWarning: Boolean Series key will be reindexed to match DataFrame index.\n",
      "  df_hk = df[df.cmdb_id == host][df.name == kpi]\n",
      "<ipython-input-82-dcc1e2084555>:27: UserWarning: Boolean Series key will be reindexed to match DataFrame index.\n",
      "  df_hk = df[df.cmdb_id == host][df.name == kpi]\n",
      "<ipython-input-82-dcc1e2084555>:27: UserWarning: Boolean Series key will be reindexed to match DataFrame index.\n",
      "  df_hk = df[df.cmdb_id == host][df.name == kpi]\n",
      "<ipython-input-82-dcc1e2084555>:27: UserWarning: Boolean Series key will be reindexed to match DataFrame index.\n",
      "  df_hk = df[df.cmdb_id == host][df.name == kpi]\n",
      "<ipython-input-82-dcc1e2084555>:27: UserWarning: Boolean Series key will be reindexed to match DataFrame index.\n",
      "  df_hk = df[df.cmdb_id == host][df.name == kpi]\n"
     ]
    },
    {
     "name": "stdout",
     "output_type": "stream",
     "text": [
      "Threshold  -1.0 Row_Lock\n",
      "Threshold  0.5760017434831082 Proc_Used_Pct\n",
      "Threshold  2.971190724764737 Session_pct\n",
      "[0 0 0 0 0 0 0 0 0 0 0 0 0 0 0 0 0 0 0 0 0 0 0 1 0 0 0 0 0 0]\n",
      "ST Threshold Anomaly!\n",
      "Threshold  0.670313580009894 LFParaWrite_Per_Sec\n"
     ]
    },
    {
     "name": "stderr",
     "output_type": "stream",
     "text": [
      "<ipython-input-82-dcc1e2084555>:27: UserWarning: Boolean Series key will be reindexed to match DataFrame index.\n",
      "  df_hk = df[df.cmdb_id == host][df.name == kpi]\n",
      "<ipython-input-82-dcc1e2084555>:27: UserWarning: Boolean Series key will be reindexed to match DataFrame index.\n",
      "  df_hk = df[df.cmdb_id == host][df.name == kpi]\n",
      "<ipython-input-82-dcc1e2084555>:27: UserWarning: Boolean Series key will be reindexed to match DataFrame index.\n",
      "  df_hk = df[df.cmdb_id == host][df.name == kpi]\n",
      "<ipython-input-82-dcc1e2084555>:27: UserWarning: Boolean Series key will be reindexed to match DataFrame index.\n",
      "  df_hk = df[df.cmdb_id == host][df.name == kpi]\n"
     ]
    },
    {
     "name": "stdout",
     "output_type": "stream",
     "text": [
      "[1 1 0 0 0 0 0 0 0 0 1 0 0 0 0 0 0 1 0 0 0 0 1 1 1 0 1 1 1 0]\n",
      "ST Threshold Anomaly!\n",
      "Threshold  1.1205984193114893 AWS\n",
      "[0 1 0 0 0 0 0 1 0 0 0 0 0 0 0 0 1 0 1 0 0 0 0 0 1 0 0 1 0 0]\n",
      "ST Threshold Anomaly!\n",
      "Threshold  2.418293600452376 LFSync_Per_Sec\n",
      "Threshold  0.5760017434831082 Proc_User_Used_Pct\n",
      "Threshold  11.585212098473914 AIOS\n"
     ]
    },
    {
     "name": "stderr",
     "output_type": "stream",
     "text": [
      "<ipython-input-82-dcc1e2084555>:27: UserWarning: Boolean Series key will be reindexed to match DataFrame index.\n",
      "  df_hk = df[df.cmdb_id == host][df.name == kpi]\n",
      "<ipython-input-82-dcc1e2084555>:27: UserWarning: Boolean Series key will be reindexed to match DataFrame index.\n",
      "  df_hk = df[df.cmdb_id == host][df.name == kpi]\n",
      "<ipython-input-82-dcc1e2084555>:27: UserWarning: Boolean Series key will be reindexed to match DataFrame index.\n",
      "  df_hk = df[df.cmdb_id == host][df.name == kpi]\n",
      "<ipython-input-82-dcc1e2084555>:27: UserWarning: Boolean Series key will be reindexed to match DataFrame index.\n",
      "  df_hk = df[df.cmdb_id == host][df.name == kpi]\n",
      "<ipython-input-82-dcc1e2084555>:27: UserWarning: Boolean Series key will be reindexed to match DataFrame index.\n",
      "  df_hk = df[df.cmdb_id == host][df.name == kpi]\n"
     ]
    },
    {
     "name": "stdout",
     "output_type": "stream",
     "text": [
      "[0 0 0 1 0 0 0 0 0 0 0 0 0 0 0 0 0 0 0 0 0 0 0 1 0 0 0 0 0 0]\n",
      "ST Threshold Anomaly!\n",
      "Threshold  1.7888192521619086 ACS\n",
      "Threshold  nan On_Off_State\n",
      "NaN, Skipping!\n",
      "Threshold  0.4898562961865978 DbTime\n",
      "[1 1 1 1 1 0 0 0 0 0 0 0 0 0 0 0 0 0 0 0 0 0 1 1 1 1 0 0 0 0]\n",
      "ST Threshold Anomaly!\n",
      "Threshold  1.7936781191950737 Sess_Active\n"
     ]
    },
    {
     "name": "stderr",
     "output_type": "stream",
     "text": [
      "<ipython-input-82-dcc1e2084555>:27: UserWarning: Boolean Series key will be reindexed to match DataFrame index.\n",
      "  df_hk = df[df.cmdb_id == host][df.name == kpi]\n",
      "<ipython-input-82-dcc1e2084555>:27: UserWarning: Boolean Series key will be reindexed to match DataFrame index.\n",
      "  df_hk = df[df.cmdb_id == host][df.name == kpi]\n",
      "<ipython-input-82-dcc1e2084555>:27: UserWarning: Boolean Series key will be reindexed to match DataFrame index.\n",
      "  df_hk = df[df.cmdb_id == host][df.name == kpi]\n",
      "<ipython-input-82-dcc1e2084555>:27: UserWarning: Boolean Series key will be reindexed to match DataFrame index.\n",
      "  df_hk = df[df.cmdb_id == host][df.name == kpi]\n",
      "<ipython-input-82-dcc1e2084555>:27: UserWarning: Boolean Series key will be reindexed to match DataFrame index.\n",
      "  df_hk = df[df.cmdb_id == host][df.name == kpi]\n"
     ]
    },
    {
     "name": "stdout",
     "output_type": "stream",
     "text": [
      "[0 0 0 0 0 0 0 0 0 0 0 0 0 0 0 0 0 0 0 0 0 0 0 1 0 0 0 0 0 0]\n",
      "ST Threshold Anomaly!\n",
      "Threshold  1.473696216792899 Physical_Read_Per_Sec\n",
      "[0 0 1 1 0 0 0 0 0 0 0 0 0 1 0 0 0 0 0 0 0 0 1 1 1 0 0 0 0 0]\n",
      "ST Threshold Anomaly!\n",
      "Threshold  0.5801044081268689 Call_Per_Sec\n",
      "Threshold  1.157509326904759 Login_Per_Sec\n",
      "[0 0 0 1 0 1 0 0 0 0 0 1 0 0 0 0 0 0 0 0 0 0 0 1 0 0 0 0 0 0]\n",
      "ST Threshold Anomaly!\n",
      "Threshold  7.306100349061676 User_Commit\n",
      "[0 0 0 1 0 0 0 0 0 0 0 0 0 0 0 0 0 0 0 0 0 0 1 0 0 0 0 0 0 0]"
     ]
    },
    {
     "name": "stderr",
     "output_type": "stream",
     "text": [
      "<ipython-input-82-dcc1e2084555>:27: UserWarning: Boolean Series key will be reindexed to match DataFrame index.\n",
      "  df_hk = df[df.cmdb_id == host][df.name == kpi]\n",
      "<ipython-input-82-dcc1e2084555>:27: UserWarning: Boolean Series key will be reindexed to match DataFrame index.\n",
      "  df_hk = df[df.cmdb_id == host][df.name == kpi]\n",
      "<ipython-input-82-dcc1e2084555>:27: UserWarning: Boolean Series key will be reindexed to match DataFrame index.\n",
      "  df_hk = df[df.cmdb_id == host][df.name == kpi]\n",
      "<ipython-input-82-dcc1e2084555>:27: UserWarning: Boolean Series key will be reindexed to match DataFrame index.\n",
      "  df_hk = df[df.cmdb_id == host][df.name == kpi]\n"
     ]
    },
    {
     "name": "stdout",
     "output_type": "stream",
     "text": [
      "\n",
      "ST Threshold Anomaly!\n",
      "Threshold  0.5783839062746323 Sess_Connect\n",
      "Threshold  0.5701234203816445 Logic_Read_Per_Sec\n",
      "[1 1 1 1 1 0 0 0 0 0 0 0 0 0 0 0 0 0 0 0 0 1 1 1 1 0 0 0 0 0]\n",
      "ST Threshold Anomaly!\n",
      "Threshold  0.5831620765045931 TPS_Per_Sec\n",
      "Threshold  nan Hang\n",
      "NaN, Skipping!\n",
      "Threshold  0.5701616010971853 Redo_Per_Sec\n",
      "[0 0 0 0 0 0 0 0 0 0 0 0 0 0 0 0 0 0 0 1 1 1 1 1 1 1 0 0 0 0]\n",
      "ST Threshold Anomaly!\n",
      "Threshold  0.5686992451619666 Exec_Per_Sec\n",
      "[1 1 1 1 1 0 0 0 0 0 0 0 0 0 0 0 0 0 0 0 0 0 0 1 0 0 0 0 1 1]\n",
      "ST Threshold Anomaly!\n",
      "Threshold  -1.0 TempTbs_Pct\n",
      "Threshold  nan Total_Tbs_Size\n",
      "NaN, Skipping!\n",
      "Threshold  0.5818712935590877 New_Tbs_Free_Gb\n"
     ]
    },
    {
     "name": "stderr",
     "output_type": "stream",
     "text": [
      "<ipython-input-82-dcc1e2084555>:27: UserWarning: Boolean Series key will be reindexed to match DataFrame index.\n",
      "  df_hk = df[df.cmdb_id == host][df.name == kpi]\n",
      "<ipython-input-82-dcc1e2084555>:27: UserWarning: Boolean Series key will be reindexed to match DataFrame index.\n",
      "  df_hk = df[df.cmdb_id == host][df.name == kpi]\n",
      "<ipython-input-82-dcc1e2084555>:27: UserWarning: Boolean Series key will be reindexed to match DataFrame index.\n",
      "  df_hk = df[df.cmdb_id == host][df.name == kpi]\n",
      "<ipython-input-82-dcc1e2084555>:27: UserWarning: Boolean Series key will be reindexed to match DataFrame index.\n",
      "  df_hk = df[df.cmdb_id == host][df.name == kpi]\n",
      "<ipython-input-82-dcc1e2084555>:27: UserWarning: Boolean Series key will be reindexed to match DataFrame index.\n",
      "  df_hk = df[df.cmdb_id == host][df.name == kpi]\n"
     ]
    },
    {
     "name": "stdout",
     "output_type": "stream",
     "text": [
      "[1 1 1 0 0 0 0 0 0 0 0 0 0 0 0 0 0 0 0 1 1 1 1 1 1 1 1 1 1 1]\n",
      "ST Threshold Anomaly!\n",
      "Threshold  0.5621225092538948 New_Tbs_Used_Pct\n",
      "[1 1 1 0 0 0 0 0 0 0 0 0 0 0 0 0 0 0 0 1 1 1 1 1 1 1 1 1 1 1]\n",
      "ST Threshold Anomaly!\n",
      "Threshold  nan Tbs_Used_Pct\n",
      "NaN, Skipping!\n",
      "Threshold  0.5857850135368717 Tbs_Free_Gb\n",
      "Threshold  0.7188343059531317 UndoTbs_Pct\n"
     ]
    },
    {
     "name": "stderr",
     "output_type": "stream",
     "text": [
      "<ipython-input-82-dcc1e2084555>:27: UserWarning: Boolean Series key will be reindexed to match DataFrame index.\n",
      "  df_hk = df[df.cmdb_id == host][df.name == kpi]\n",
      "<ipython-input-82-dcc1e2084555>:27: UserWarning: Boolean Series key will be reindexed to match DataFrame index.\n",
      "  df_hk = df[df.cmdb_id == host][df.name == kpi]\n",
      "<ipython-input-82-dcc1e2084555>:27: UserWarning: Boolean Series key will be reindexed to match DataFrame index.\n",
      "  df_hk = df[df.cmdb_id == host][df.name == kpi]\n",
      "<ipython-input-82-dcc1e2084555>:27: UserWarning: Boolean Series key will be reindexed to match DataFrame index.\n",
      "  df_hk = df[df.cmdb_id == host][df.name == kpi]\n"
     ]
    },
    {
     "name": "stdout",
     "output_type": "stream",
     "text": [
      "Threshold  0.6144483379636079 DbFile_Used_Pct\n",
      "No valid data to use, skipping\n",
      "db_005  completed in  2.5317142009735107\n",
      "************************************************************\n",
      "Checking  db_010\n",
      "Threshold  0.5824517896009189 CPU_free_pct\n",
      "Threshold  0.5785551751334543 MEM_real_util\n",
      "Threshold  0.5215656947203647 tnsping_result_time\n",
      "[1 1 1 0 0 0 0 0 0 0 0 0 0 0 0 0 0 0 0 0 1 1 1 0 0 1 1 1 1 0]\n",
      "ST Threshold Anomaly!\n",
      "Threshold  0.648591062753454 CPU_Used_Pct\n"
     ]
    },
    {
     "name": "stderr",
     "output_type": "stream",
     "text": [
      "<ipython-input-82-dcc1e2084555>:27: UserWarning: Boolean Series key will be reindexed to match DataFrame index.\n",
      "  df_hk = df[df.cmdb_id == host][df.name == kpi]\n",
      "<ipython-input-82-dcc1e2084555>:27: UserWarning: Boolean Series key will be reindexed to match DataFrame index.\n",
      "  df_hk = df[df.cmdb_id == host][df.name == kpi]\n",
      "<ipython-input-82-dcc1e2084555>:27: UserWarning: Boolean Series key will be reindexed to match DataFrame index.\n",
      "  df_hk = df[df.cmdb_id == host][df.name == kpi]\n",
      "<ipython-input-82-dcc1e2084555>:27: UserWarning: Boolean Series key will be reindexed to match DataFrame index.\n",
      "  df_hk = df[df.cmdb_id == host][df.name == kpi]\n"
     ]
    },
    {
     "name": "stdout",
     "output_type": "stream",
     "text": [
      "Threshold  0.5784184632739957 MEM_Used\n",
      "Threshold  nan MEM_Total\n",
      "NaN, Skipping!\n",
      "Threshold  0.5784915812307387 MEM_Used_Pct\n",
      "Threshold  0.5789605665056324 Used_Tbs_Size\n"
     ]
    },
    {
     "name": "stderr",
     "output_type": "stream",
     "text": [
      "<ipython-input-82-dcc1e2084555>:27: UserWarning: Boolean Series key will be reindexed to match DataFrame index.\n",
      "  df_hk = df[df.cmdb_id == host][df.name == kpi]\n",
      "<ipython-input-82-dcc1e2084555>:27: UserWarning: Boolean Series key will be reindexed to match DataFrame index.\n",
      "  df_hk = df[df.cmdb_id == host][df.name == kpi]\n",
      "<ipython-input-82-dcc1e2084555>:27: UserWarning: Boolean Series key will be reindexed to match DataFrame index.\n",
      "  df_hk = df[df.cmdb_id == host][df.name == kpi]\n",
      "<ipython-input-82-dcc1e2084555>:27: UserWarning: Boolean Series key will be reindexed to match DataFrame index.\n",
      "  df_hk = df[df.cmdb_id == host][df.name == kpi]\n",
      "<ipython-input-82-dcc1e2084555>:27: UserWarning: Boolean Series key will be reindexed to match DataFrame index.\n",
      "  df_hk = df[df.cmdb_id == host][df.name == kpi]\n"
     ]
    },
    {
     "name": "stdout",
     "output_type": "stream",
     "text": [
      "Threshold  nan SEQ_Used_Pct\n",
      "No valid data to use, skipping\n",
      "Threshold  nan Asm_Free_Tb\n",
      "NaN, Skipping!\n",
      "Threshold  nan PGA_used_total\n",
      "NaN, Skipping!\n",
      "Threshold  -1.0 Sess_Used_Undo\n",
      "Threshold  -1.0 Sess_Used_Temp\n"
     ]
    },
    {
     "name": "stderr",
     "output_type": "stream",
     "text": [
      "<ipython-input-82-dcc1e2084555>:27: UserWarning: Boolean Series key will be reindexed to match DataFrame index.\n",
      "  df_hk = df[df.cmdb_id == host][df.name == kpi]\n",
      "<ipython-input-82-dcc1e2084555>:27: UserWarning: Boolean Series key will be reindexed to match DataFrame index.\n",
      "  df_hk = df[df.cmdb_id == host][df.name == kpi]\n",
      "<ipython-input-82-dcc1e2084555>:27: UserWarning: Boolean Series key will be reindexed to match DataFrame index.\n",
      "  df_hk = df[df.cmdb_id == host][df.name == kpi]\n",
      "<ipython-input-82-dcc1e2084555>:27: UserWarning: Boolean Series key will be reindexed to match DataFrame index.\n",
      "  df_hk = df[df.cmdb_id == host][df.name == kpi]\n"
     ]
    },
    {
     "name": "stdout",
     "output_type": "stream",
     "text": [
      "Threshold  -1.0 SctRead_Per_Sec\n",
      "Threshold  1.1761904028129184 SeqRead_Per_Sec\n",
      "Threshold  1.4984571469223342 DFParaWrite_Per_Sec\n",
      "Threshold  -1.0 PGA_Used_Pct\n"
     ]
    },
    {
     "name": "stderr",
     "output_type": "stream",
     "text": [
      "<ipython-input-82-dcc1e2084555>:27: UserWarning: Boolean Series key will be reindexed to match DataFrame index.\n",
      "  df_hk = df[df.cmdb_id == host][df.name == kpi]\n",
      "<ipython-input-82-dcc1e2084555>:27: UserWarning: Boolean Series key will be reindexed to match DataFrame index.\n",
      "  df_hk = df[df.cmdb_id == host][df.name == kpi]\n",
      "<ipython-input-82-dcc1e2084555>:27: UserWarning: Boolean Series key will be reindexed to match DataFrame index.\n",
      "  df_hk = df[df.cmdb_id == host][df.name == kpi]\n",
      "<ipython-input-82-dcc1e2084555>:27: UserWarning: Boolean Series key will be reindexed to match DataFrame index.\n",
      "  df_hk = df[df.cmdb_id == host][df.name == kpi]\n"
     ]
    },
    {
     "name": "stdout",
     "output_type": "stream",
     "text": [
      "Threshold  -1.0 Row_Lock\n",
      "Threshold  0.5397869104650247 Proc_Used_Pct\n",
      "Threshold  4.253763912545889 Session_pct\n",
      "Threshold  2.863364974949845 LFParaWrite_Per_Sec\n",
      "Threshold  6.0019708990911935 AWS\n"
     ]
    },
    {
     "name": "stderr",
     "output_type": "stream",
     "text": [
      "<ipython-input-82-dcc1e2084555>:27: UserWarning: Boolean Series key will be reindexed to match DataFrame index.\n",
      "  df_hk = df[df.cmdb_id == host][df.name == kpi]\n",
      "<ipython-input-82-dcc1e2084555>:27: UserWarning: Boolean Series key will be reindexed to match DataFrame index.\n",
      "  df_hk = df[df.cmdb_id == host][df.name == kpi]\n",
      "<ipython-input-82-dcc1e2084555>:27: UserWarning: Boolean Series key will be reindexed to match DataFrame index.\n",
      "  df_hk = df[df.cmdb_id == host][df.name == kpi]\n",
      "<ipython-input-82-dcc1e2084555>:27: UserWarning: Boolean Series key will be reindexed to match DataFrame index.\n",
      "  df_hk = df[df.cmdb_id == host][df.name == kpi]\n",
      "<ipython-input-82-dcc1e2084555>:27: UserWarning: Boolean Series key will be reindexed to match DataFrame index.\n",
      "  df_hk = df[df.cmdb_id == host][df.name == kpi]\n"
     ]
    },
    {
     "name": "stdout",
     "output_type": "stream",
     "text": [
      "Threshold  0.6687441243936155 LFSync_Per_Sec\n",
      "[0 0 1 1 1 1 0 0 0 0 0 0 0 1 0 0 0 0 0 0 0 0 1 1 0 0 0 1 0 1]\n",
      "ST Threshold Anomaly!\n",
      "Threshold  0.5398395966985874 Proc_User_Used_Pct\n",
      "Threshold  -1.0 AIOS\n",
      "Threshold  5.6288460200528885 ACS\n",
      "Threshold  nan On_Off_State\n"
     ]
    },
    {
     "name": "stderr",
     "output_type": "stream",
     "text": [
      "<ipython-input-82-dcc1e2084555>:27: UserWarning: Boolean Series key will be reindexed to match DataFrame index.\n",
      "  df_hk = df[df.cmdb_id == host][df.name == kpi]\n",
      "<ipython-input-82-dcc1e2084555>:27: UserWarning: Boolean Series key will be reindexed to match DataFrame index.\n",
      "  df_hk = df[df.cmdb_id == host][df.name == kpi]\n",
      "<ipython-input-82-dcc1e2084555>:27: UserWarning: Boolean Series key will be reindexed to match DataFrame index.\n",
      "  df_hk = df[df.cmdb_id == host][df.name == kpi]\n",
      "<ipython-input-82-dcc1e2084555>:27: UserWarning: Boolean Series key will be reindexed to match DataFrame index.\n",
      "  df_hk = df[df.cmdb_id == host][df.name == kpi]\n",
      "<ipython-input-82-dcc1e2084555>:27: UserWarning: Boolean Series key will be reindexed to match DataFrame index.\n",
      "  df_hk = df[df.cmdb_id == host][df.name == kpi]\n"
     ]
    },
    {
     "name": "stdout",
     "output_type": "stream",
     "text": [
      "NaN, Skipping!\n",
      "Threshold  0.6326550907756094 DbTime\n",
      "[1 1 1 0 0 0 1 0 0 0 0 0 0 0 0 0 0 1 1 1 1 0 0 0 1 0 0 0 0 1]\n",
      "ST Threshold Anomaly!\n",
      "Threshold  nan Sess_Active\n",
      "NaN, Skipping!\n",
      "Threshold  1.7093652186138242 Physical_Read_Per_Sec\n",
      "[0 0 1 1 0 0 0 0 0 0 0 0 0 1 0 0 0 0 0 0 0 0 0 1 0 0 0 0 0 0]\n",
      "ST Threshold Anomaly!\n",
      "Threshold  0.5796466212633296 Call_Per_Sec\n"
     ]
    },
    {
     "name": "stderr",
     "output_type": "stream",
     "text": [
      "<ipython-input-82-dcc1e2084555>:27: UserWarning: Boolean Series key will be reindexed to match DataFrame index.\n",
      "  df_hk = df[df.cmdb_id == host][df.name == kpi]\n",
      "<ipython-input-82-dcc1e2084555>:27: UserWarning: Boolean Series key will be reindexed to match DataFrame index.\n",
      "  df_hk = df[df.cmdb_id == host][df.name == kpi]\n",
      "<ipython-input-82-dcc1e2084555>:27: UserWarning: Boolean Series key will be reindexed to match DataFrame index.\n",
      "  df_hk = df[df.cmdb_id == host][df.name == kpi]\n",
      "<ipython-input-82-dcc1e2084555>:27: UserWarning: Boolean Series key will be reindexed to match DataFrame index.\n",
      "  df_hk = df[df.cmdb_id == host][df.name == kpi]\n"
     ]
    },
    {
     "name": "stdout",
     "output_type": "stream",
     "text": [
      "Threshold  3.494490605491322 Login_Per_Sec\n",
      "[0 0 0 0 0 0 0 0 0 0 0 0 0 0 0 0 0 0 0 0 0 0 0 1 0 0 0 0 0 0]\n",
      "ST Threshold Anomaly!\n",
      "Threshold  15.545551415803974 User_Commit\n",
      "Threshold  0.5780447488197541 Sess_Connect\n",
      "Threshold  0.5326939259667596 Logic_Read_Per_Sec\n"
     ]
    },
    {
     "name": "stderr",
     "output_type": "stream",
     "text": [
      "<ipython-input-82-dcc1e2084555>:27: UserWarning: Boolean Series key will be reindexed to match DataFrame index.\n",
      "  df_hk = df[df.cmdb_id == host][df.name == kpi]\n",
      "<ipython-input-82-dcc1e2084555>:27: UserWarning: Boolean Series key will be reindexed to match DataFrame index.\n",
      "  df_hk = df[df.cmdb_id == host][df.name == kpi]\n",
      "<ipython-input-82-dcc1e2084555>:27: UserWarning: Boolean Series key will be reindexed to match DataFrame index.\n",
      "  df_hk = df[df.cmdb_id == host][df.name == kpi]\n",
      "<ipython-input-82-dcc1e2084555>:27: UserWarning: Boolean Series key will be reindexed to match DataFrame index.\n",
      "  df_hk = df[df.cmdb_id == host][df.name == kpi]\n"
     ]
    },
    {
     "name": "stdout",
     "output_type": "stream",
     "text": [
      "Threshold  16.817437395357192 TPS_Per_Sec\n",
      "Threshold  nan Hang\n",
      "NaN, Skipping!\n",
      "Threshold  0.6030132535867064 Redo_Per_Sec\n",
      "Threshold  0.5967403532554714 Exec_Per_Sec\n",
      "Threshold  -1.0 TempTbs_Pct\n",
      "Threshold "
     ]
    },
    {
     "name": "stderr",
     "output_type": "stream",
     "text": [
      "<ipython-input-82-dcc1e2084555>:27: UserWarning: Boolean Series key will be reindexed to match DataFrame index.\n",
      "  df_hk = df[df.cmdb_id == host][df.name == kpi]\n",
      "<ipython-input-82-dcc1e2084555>:27: UserWarning: Boolean Series key will be reindexed to match DataFrame index.\n",
      "  df_hk = df[df.cmdb_id == host][df.name == kpi]\n",
      "<ipython-input-82-dcc1e2084555>:27: UserWarning: Boolean Series key will be reindexed to match DataFrame index.\n",
      "  df_hk = df[df.cmdb_id == host][df.name == kpi]\n",
      "<ipython-input-82-dcc1e2084555>:27: UserWarning: Boolean Series key will be reindexed to match DataFrame index.\n",
      "  df_hk = df[df.cmdb_id == host][df.name == kpi]\n"
     ]
    },
    {
     "name": "stdout",
     "output_type": "stream",
     "text": [
      " nan Total_Tbs_Size\n",
      "NaN, Skipping!\n",
      "Threshold  0.5957747215553302 New_Tbs_Free_Gb\n",
      "Threshold  0.6450075710234794 New_Tbs_Used_Pct\n",
      "[1 1 0 0 0 0 0 0 0 0 0 0 0 0 0 0 0 0 0 1 1 1 1 1 1 1 1 1 1 1]\n",
      "ST Threshold Anomaly!\n",
      "Threshold  nan Tbs_Used_Pct\n"
     ]
    },
    {
     "name": "stderr",
     "output_type": "stream",
     "text": [
      "<ipython-input-82-dcc1e2084555>:27: UserWarning: Boolean Series key will be reindexed to match DataFrame index.\n",
      "  df_hk = df[df.cmdb_id == host][df.name == kpi]\n",
      "<ipython-input-82-dcc1e2084555>:27: UserWarning: Boolean Series key will be reindexed to match DataFrame index.\n",
      "  df_hk = df[df.cmdb_id == host][df.name == kpi]\n",
      "<ipython-input-82-dcc1e2084555>:27: UserWarning: Boolean Series key will be reindexed to match DataFrame index.\n",
      "  df_hk = df[df.cmdb_id == host][df.name == kpi]\n",
      "<ipython-input-82-dcc1e2084555>:27: UserWarning: Boolean Series key will be reindexed to match DataFrame index.\n",
      "  df_hk = df[df.cmdb_id == host][df.name == kpi]\n",
      "<ipython-input-82-dcc1e2084555>:27: UserWarning: Boolean Series key will be reindexed to match DataFrame index.\n",
      "  df_hk = df[df.cmdb_id == host][df.name == kpi]\n"
     ]
    },
    {
     "name": "stdout",
     "output_type": "stream",
     "text": [
      "NaN, Skipping!\n",
      "Threshold  nan Tbs_Free_Gb\n",
      "NaN, Skipping!\n",
      "Threshold  4.167323813492392 UndoTbs_Pct\n",
      "Threshold  0.6035729998862486 DbFile_Used_Pct\n",
      "No valid data to use, skipping\n",
      "db_010  completed in  2.4502909183502197\n",
      "************************************************************\n",
      "Checking  db_012\n",
      "Threshold  0.5805605276084895 CPU_free_pct\n",
      "Threshold  0.5770796868919429 MEM_real_util\n"
     ]
    },
    {
     "name": "stderr",
     "output_type": "stream",
     "text": [
      "<ipython-input-82-dcc1e2084555>:27: UserWarning: Boolean Series key will be reindexed to match DataFrame index.\n",
      "  df_hk = df[df.cmdb_id == host][df.name == kpi]\n",
      "<ipython-input-82-dcc1e2084555>:27: UserWarning: Boolean Series key will be reindexed to match DataFrame index.\n",
      "  df_hk = df[df.cmdb_id == host][df.name == kpi]\n",
      "<ipython-input-82-dcc1e2084555>:27: UserWarning: Boolean Series key will be reindexed to match DataFrame index.\n",
      "  df_hk = df[df.cmdb_id == host][df.name == kpi]\n",
      "<ipython-input-82-dcc1e2084555>:27: UserWarning: Boolean Series key will be reindexed to match DataFrame index.\n",
      "  df_hk = df[df.cmdb_id == host][df.name == kpi]\n",
      "<ipython-input-82-dcc1e2084555>:27: UserWarning: Boolean Series key will be reindexed to match DataFrame index.\n",
      "  df_hk = df[df.cmdb_id == host][df.name == kpi]\n"
     ]
    },
    {
     "name": "stdout",
     "output_type": "stream",
     "text": [
      "Threshold  0.6083963727184047 tnsping_result_time\n",
      "[1 1 1 1 0 0 0 0 0 0 0 0 0 0 0 0 0 0 0 0 0 0 0 0 1 1 0 0 0 1]\n",
      "ST Threshold Anomaly!\n",
      "Threshold  0.8047504181773689 CPU_Used_Pct\n",
      "Threshold  0.5786513296529037 MEM_Used\n",
      "Threshold  nan MEM_Total\n",
      "NaN, Skipping!"
     ]
    },
    {
     "name": "stderr",
     "output_type": "stream",
     "text": [
      "<ipython-input-82-dcc1e2084555>:27: UserWarning: Boolean Series key will be reindexed to match DataFrame index.\n",
      "  df_hk = df[df.cmdb_id == host][df.name == kpi]\n",
      "<ipython-input-82-dcc1e2084555>:27: UserWarning: Boolean Series key will be reindexed to match DataFrame index.\n",
      "  df_hk = df[df.cmdb_id == host][df.name == kpi]\n",
      "<ipython-input-82-dcc1e2084555>:27: UserWarning: Boolean Series key will be reindexed to match DataFrame index.\n",
      "  df_hk = df[df.cmdb_id == host][df.name == kpi]\n",
      "<ipython-input-82-dcc1e2084555>:27: UserWarning: Boolean Series key will be reindexed to match DataFrame index.\n",
      "  df_hk = df[df.cmdb_id == host][df.name == kpi]\n"
     ]
    },
    {
     "name": "stdout",
     "output_type": "stream",
     "text": [
      "\n",
      "Threshold  0.5787472597472045 MEM_Used_Pct\n",
      "Threshold  0.5789502704622773 Used_Tbs_Size\n",
      "Threshold  nan SEQ_Used_Pct\n",
      "No valid data to use, skipping\n",
      "Threshold  nan Asm_Free_Tb\n",
      "NaN, Skipping!\n",
      "Threshold  nan PGA_used_total\n",
      "NaN, Skipping!"
     ]
    },
    {
     "name": "stderr",
     "output_type": "stream",
     "text": [
      "<ipython-input-82-dcc1e2084555>:27: UserWarning: Boolean Series key will be reindexed to match DataFrame index.\n",
      "  df_hk = df[df.cmdb_id == host][df.name == kpi]\n",
      "<ipython-input-82-dcc1e2084555>:27: UserWarning: Boolean Series key will be reindexed to match DataFrame index.\n",
      "  df_hk = df[df.cmdb_id == host][df.name == kpi]\n",
      "<ipython-input-82-dcc1e2084555>:27: UserWarning: Boolean Series key will be reindexed to match DataFrame index.\n",
      "  df_hk = df[df.cmdb_id == host][df.name == kpi]\n",
      "<ipython-input-82-dcc1e2084555>:27: UserWarning: Boolean Series key will be reindexed to match DataFrame index.\n",
      "  df_hk = df[df.cmdb_id == host][df.name == kpi]\n"
     ]
    },
    {
     "name": "stdout",
     "output_type": "stream",
     "text": [
      "\n",
      "Threshold  1.7450468638981471 Sess_Used_Undo\n",
      "Threshold  -1.0 Sess_Used_Temp\n",
      "Threshold  1.7843240254649662 SctRead_Per_Sec\n",
      "Threshold  2.488457840655645 SeqRead_Per_Sec\n"
     ]
    },
    {
     "name": "stderr",
     "output_type": "stream",
     "text": [
      "<ipython-input-82-dcc1e2084555>:27: UserWarning: Boolean Series key will be reindexed to match DataFrame index.\n",
      "  df_hk = df[df.cmdb_id == host][df.name == kpi]\n",
      "/Users/baconbaker/anaconda3/envs/ml/lib/python3.8/site-packages/alibi_detect/od/sr.py:96: RuntimeWarning: divide by zero encountered in log\n",
      "  log_amp = np.log(amp)\n",
      "/Users/baconbaker/anaconda3/envs/ml/lib/python3.8/site-packages/alibi_detect/od/sr.py:99: RuntimeWarning: invalid value encountered in subtract\n",
      "  res_amp = log_amp - ma_log_amp\n",
      "/Users/baconbaker/anaconda3/envs/ml/lib/python3.8/site-packages/alibi_detect/od/sr.py:207: RuntimeWarning: invalid value encountered in greater\n",
      "  outlier_pred = (iscore > self.threshold).astype(int)\n",
      "<ipython-input-82-dcc1e2084555>:27: UserWarning: Boolean Series key will be reindexed to match DataFrame index.\n",
      "  df_hk = df[df.cmdb_id == host][df.name == kpi]\n",
      "<ipython-input-82-dcc1e2084555>:27: UserWarning: Boolean Series key will be reindexed to match DataFrame index.\n",
      "  df_hk = df[df.cmdb_id == host][df.name == kpi]\n",
      "<ipython-input-82-dcc1e2084555>:27: UserWarning: Boolean Series key will be reindexed to match DataFrame index.\n",
      "  df_hk = df[df.cmdb_id == host][df.name == kpi]\n",
      "<ipython-input-82-dcc1e2084555>:27: UserWarning: Boolean Series key will be reindexed to match DataFrame index.\n",
      "  df_hk = df[df.cmdb_id == host][df.name == kpi]\n"
     ]
    },
    {
     "name": "stdout",
     "output_type": "stream",
     "text": [
      "Threshold  1.0788865377743957 DFParaWrite_Per_Sec\n",
      "[0 1 0 0 0 0 0 0 0 0 0 0 0 0 0 0 0 0 0 0 1 0 1 0 1 0 0 0 0 0]\n",
      "ST Threshold Anomaly!\n",
      "Threshold  -1.0 PGA_Used_Pct\n",
      "Threshold  -1.0 Row_Lock\n",
      "Threshold  0.6281120375144608 Proc_Used_Pct\n"
     ]
    },
    {
     "name": "stderr",
     "output_type": "stream",
     "text": [
      "<ipython-input-82-dcc1e2084555>:27: UserWarning: Boolean Series key will be reindexed to match DataFrame index.\n",
      "  df_hk = df[df.cmdb_id == host][df.name == kpi]\n",
      "<ipython-input-82-dcc1e2084555>:27: UserWarning: Boolean Series key will be reindexed to match DataFrame index.\n",
      "  df_hk = df[df.cmdb_id == host][df.name == kpi]\n",
      "<ipython-input-82-dcc1e2084555>:27: UserWarning: Boolean Series key will be reindexed to match DataFrame index.\n",
      "  df_hk = df[df.cmdb_id == host][df.name == kpi]\n",
      "<ipython-input-82-dcc1e2084555>:27: UserWarning: Boolean Series key will be reindexed to match DataFrame index.\n",
      "  df_hk = df[df.cmdb_id == host][df.name == kpi]\n"
     ]
    },
    {
     "name": "stdout",
     "output_type": "stream",
     "text": [
      "Threshold  2.0470518052770705 Session_pct\n",
      "[0 0 0 0 0 0 0 0 0 0 0 0 0 0 0 0 0 0 1 0 0 0 0 1 1 0 0 0 0 0]\n",
      "ST Threshold Anomaly!\n",
      "Threshold  0.8287532823889495 LFParaWrite_Per_Sec\n",
      "[0 1 1 0 0 1 0 0 0 0 0 0 0 1 0 0 0 0 0 0 0 0 1 0 0 0 1 0 0 1]\n",
      "ST Threshold Anomaly!\n",
      "Threshold  1.7251217553607263 AWS\n",
      "Threshold  0.6188236710928311 LFSync_Per_Sec\n",
      "Threshold  0.6281120375144608 Proc_User_Used_Pct\n"
     ]
    },
    {
     "name": "stderr",
     "output_type": "stream",
     "text": [
      "<ipython-input-82-dcc1e2084555>:27: UserWarning: Boolean Series key will be reindexed to match DataFrame index.\n",
      "  df_hk = df[df.cmdb_id == host][df.name == kpi]\n",
      "<ipython-input-82-dcc1e2084555>:27: UserWarning: Boolean Series key will be reindexed to match DataFrame index.\n",
      "  df_hk = df[df.cmdb_id == host][df.name == kpi]\n",
      "<ipython-input-82-dcc1e2084555>:27: UserWarning: Boolean Series key will be reindexed to match DataFrame index.\n",
      "  df_hk = df[df.cmdb_id == host][df.name == kpi]\n",
      "<ipython-input-82-dcc1e2084555>:27: UserWarning: Boolean Series key will be reindexed to match DataFrame index.\n",
      "  df_hk = df[df.cmdb_id == host][df.name == kpi]\n"
     ]
    },
    {
     "name": "stdout",
     "output_type": "stream",
     "text": [
      "Threshold  -1.0 AIOS\n",
      "Threshold  4.667175938220269 ACS\n",
      "[0 0 0 0 0 0 0 0 0 0 0 0 0 0 0 0 0 0 0 0 0 0 0 1 0 0 0 0 0 0]\n",
      "ST Threshold Anomaly!\n",
      "Threshold  nan On_Off_State\n",
      "NaN, Skipping!\n",
      "Threshold  0.6134334816223275 DbTime\n"
     ]
    },
    {
     "name": "stderr",
     "output_type": "stream",
     "text": [
      "<ipython-input-82-dcc1e2084555>:27: UserWarning: Boolean Series key will be reindexed to match DataFrame index.\n",
      "  df_hk = df[df.cmdb_id == host][df.name == kpi]\n",
      "<ipython-input-82-dcc1e2084555>:27: UserWarning: Boolean Series key will be reindexed to match DataFrame index.\n",
      "  df_hk = df[df.cmdb_id == host][df.name == kpi]\n",
      "<ipython-input-82-dcc1e2084555>:27: UserWarning: Boolean Series key will be reindexed to match DataFrame index.\n",
      "  df_hk = df[df.cmdb_id == host][df.name == kpi]\n",
      "<ipython-input-82-dcc1e2084555>:27: UserWarning: Boolean Series key will be reindexed to match DataFrame index.\n",
      "  df_hk = df[df.cmdb_id == host][df.name == kpi]\n"
     ]
    },
    {
     "name": "stdout",
     "output_type": "stream",
     "text": [
      "[0 0 0 0 0 0 0 0 0 0 0 0 0 0 0 0 0 1 1 1 1 1 1 1 1 1 0 0 0 0]\n",
      "ST Threshold Anomaly!\n",
      "Threshold  0.8749753241977731 Sess_Active\n",
      "[0 0 0 0 0 0 0 0 0 0 0 0 0 0 0 0 0 1 1 0 0 0 1 1 1 0 0 0 0 0]\n",
      "ST Threshold Anomaly!\n",
      "Threshold  1.469766713459864 Physical_Read_Per_Sec\n",
      "[0 0 1 1 1 0 0 0 0 0 0 0 0 1 0 0 0 0 0 0 0 0 1 1 1 0 0 0 0 0]\n",
      "ST Threshold Anomaly!\n",
      "Threshold  0.5794238192001249 Call_Per_Sec\n",
      "Threshold  0.9898355374627664 Login_Per_Sec\n"
     ]
    },
    {
     "name": "stderr",
     "output_type": "stream",
     "text": [
      "<ipython-input-82-dcc1e2084555>:27: UserWarning: Boolean Series key will be reindexed to match DataFrame index.\n",
      "  df_hk = df[df.cmdb_id == host][df.name == kpi]\n",
      "<ipython-input-82-dcc1e2084555>:27: UserWarning: Boolean Series key will be reindexed to match DataFrame index.\n",
      "  df_hk = df[df.cmdb_id == host][df.name == kpi]\n",
      "<ipython-input-82-dcc1e2084555>:27: UserWarning: Boolean Series key will be reindexed to match DataFrame index.\n",
      "  df_hk = df[df.cmdb_id == host][df.name == kpi]\n",
      "<ipython-input-82-dcc1e2084555>:27: UserWarning: Boolean Series key will be reindexed to match DataFrame index.\n",
      "  df_hk = df[df.cmdb_id == host][df.name == kpi]\n",
      "<ipython-input-82-dcc1e2084555>:27: UserWarning: Boolean Series key will be reindexed to match DataFrame index.\n",
      "  df_hk = df[df.cmdb_id == host][df.name == kpi]\n"
     ]
    },
    {
     "name": "stdout",
     "output_type": "stream",
     "text": [
      "[1 0 0 1 0 0 0 0 0 0 0 0 0 0 0 0 0 0 0 0 0 0 0 0 1 0 0 0 0 1]\n",
      "ST Threshold Anomaly!\n",
      "Threshold  0.6119145002395867 User_Commit\n",
      "Threshold  0.5782715222095646 Sess_Connect\n",
      "Threshold  0.5849004015395347 Logic_Read_Per_Sec\n",
      "[1 1 1 1 1 0 0 0 0 0 0 0 0 0 0 0 0 0 0 0 0 0 1 1 1 0 0 0 0 0]\n",
      "ST Threshold Anomaly!\n",
      "Threshold  0.5757279439671364 TPS_Per_Sec\n"
     ]
    },
    {
     "name": "stderr",
     "output_type": "stream",
     "text": [
      "<ipython-input-82-dcc1e2084555>:27: UserWarning: Boolean Series key will be reindexed to match DataFrame index.\n",
      "  df_hk = df[df.cmdb_id == host][df.name == kpi]\n",
      "<ipython-input-82-dcc1e2084555>:27: UserWarning: Boolean Series key will be reindexed to match DataFrame index.\n",
      "  df_hk = df[df.cmdb_id == host][df.name == kpi]\n",
      "<ipython-input-82-dcc1e2084555>:27: UserWarning: Boolean Series key will be reindexed to match DataFrame index.\n",
      "  df_hk = df[df.cmdb_id == host][df.name == kpi]\n",
      "<ipython-input-82-dcc1e2084555>:27: UserWarning: Boolean Series key will be reindexed to match DataFrame index.\n",
      "  df_hk = df[df.cmdb_id == host][df.name == kpi]\n",
      "<ipython-input-82-dcc1e2084555>:27: UserWarning: Boolean Series key will be reindexed to match DataFrame index.\n",
      "  df_hk = df[df.cmdb_id == host][df.name == kpi]\n"
     ]
    },
    {
     "name": "stdout",
     "output_type": "stream",
     "text": [
      "Threshold  nan Hang\n",
      "NaN, Skipping!\n",
      "Threshold  0.5846587162075467 Redo_Per_Sec\n",
      "Threshold  0.6338693938768274 Exec_Per_Sec\n",
      "Threshold  -1.0 TempTbs_Pct\n",
      "Threshold  nan Total_Tbs_Size\n"
     ]
    },
    {
     "name": "stderr",
     "output_type": "stream",
     "text": [
      "<ipython-input-82-dcc1e2084555>:27: UserWarning: Boolean Series key will be reindexed to match DataFrame index.\n",
      "  df_hk = df[df.cmdb_id == host][df.name == kpi]\n",
      "<ipython-input-82-dcc1e2084555>:27: UserWarning: Boolean Series key will be reindexed to match DataFrame index.\n",
      "  df_hk = df[df.cmdb_id == host][df.name == kpi]\n",
      "<ipython-input-82-dcc1e2084555>:27: UserWarning: Boolean Series key will be reindexed to match DataFrame index.\n",
      "  df_hk = df[df.cmdb_id == host][df.name == kpi]\n",
      "<ipython-input-82-dcc1e2084555>:27: UserWarning: Boolean Series key will be reindexed to match DataFrame index.\n",
      "  df_hk = df[df.cmdb_id == host][df.name == kpi]\n"
     ]
    },
    {
     "name": "stdout",
     "output_type": "stream",
     "text": [
      "NaN, Skipping!\n",
      "Threshold  0.5364138737563716 New_Tbs_Free_Gb\n",
      "Threshold  0.605468257467515 New_Tbs_Used_Pct\n",
      "[1 1 0 0 0 0 0 0 0 0 0 0 0 0 0 0 0 0 0 1 1 1 1 1 1 1 1 1 1 1]\n",
      "ST Threshold Anomaly!\n",
      "Threshold  nan Tbs_Used_Pct\n",
      "NaN, Skipping!\n",
      "Threshold  0.5789342308413704 Tbs_Free_Gb\n"
     ]
    },
    {
     "name": "stderr",
     "output_type": "stream",
     "text": [
      "<ipython-input-82-dcc1e2084555>:27: UserWarning: Boolean Series key will be reindexed to match DataFrame index.\n",
      "  df_hk = df[df.cmdb_id == host][df.name == kpi]\n",
      "<ipython-input-82-dcc1e2084555>:27: UserWarning: Boolean Series key will be reindexed to match DataFrame index.\n",
      "  df_hk = df[df.cmdb_id == host][df.name == kpi]\n",
      "<ipython-input-82-dcc1e2084555>:27: UserWarning: Boolean Series key will be reindexed to match DataFrame index.\n",
      "  df_hk = df[df.cmdb_id == host][df.name == kpi]\n",
      "<ipython-input-82-dcc1e2084555>:27: UserWarning: Boolean Series key will be reindexed to match DataFrame index.\n",
      "  df_hk = df[df.cmdb_id == host][df.name == kpi]\n"
     ]
    },
    {
     "name": "stdout",
     "output_type": "stream",
     "text": [
      "Threshold  2.011901658141122 UndoTbs_Pct\n",
      "Threshold  0.6629428270435063 DbFile_Used_Pct\n",
      "No valid data to use, skipping\n",
      "db_012  completed in  2.4807050228118896\n",
      "************************************************************\n",
      "Checking  db_008\n",
      "Threshold  0.5824693750437926 CPU_free_pct\n",
      "Threshold  0.5806694726209657 MEM_real_util\n",
      "Threshold  1.192402246360884 tnsping_result_time\n",
      "[1 0 0 0 0 0 0 0 1 0 0 0 0 0 0 0 1 0 0 0 0 0 0 1 1 1 1 1 0 0]\n",
      "ST Threshold Anomaly!\n",
      "Threshold  0.5981123175750496 CPU_Used_Pct\n"
     ]
    },
    {
     "name": "stderr",
     "output_type": "stream",
     "text": [
      "<ipython-input-82-dcc1e2084555>:27: UserWarning: Boolean Series key will be reindexed to match DataFrame index.\n",
      "  df_hk = df[df.cmdb_id == host][df.name == kpi]\n",
      "<ipython-input-82-dcc1e2084555>:27: UserWarning: Boolean Series key will be reindexed to match DataFrame index.\n",
      "  df_hk = df[df.cmdb_id == host][df.name == kpi]\n",
      "<ipython-input-82-dcc1e2084555>:27: UserWarning: Boolean Series key will be reindexed to match DataFrame index.\n",
      "  df_hk = df[df.cmdb_id == host][df.name == kpi]\n",
      "<ipython-input-82-dcc1e2084555>:27: UserWarning: Boolean Series key will be reindexed to match DataFrame index.\n",
      "  df_hk = df[df.cmdb_id == host][df.name == kpi]\n"
     ]
    },
    {
     "name": "stdout",
     "output_type": "stream",
     "text": [
      "[1 1 1 1 1 0 0 0 0 0 0 0 0 0 0 0 0 0 0 0 0 0 0 1 0 0 0 1 1 1]\n",
      "ST Threshold Anomaly!\n",
      "Threshold  0.5806443939045408 MEM_Used\n",
      "Threshold  nan MEM_Total\n",
      "NaN, Skipping!\n",
      "Threshold  0.580759705484535 MEM_Used_Pct\n",
      "Threshold  0.5789493611638766 Used_Tbs_Size\n"
     ]
    },
    {
     "name": "stderr",
     "output_type": "stream",
     "text": [
      "<ipython-input-82-dcc1e2084555>:27: UserWarning: Boolean Series key will be reindexed to match DataFrame index.\n",
      "  df_hk = df[df.cmdb_id == host][df.name == kpi]\n",
      "<ipython-input-82-dcc1e2084555>:27: UserWarning: Boolean Series key will be reindexed to match DataFrame index.\n",
      "  df_hk = df[df.cmdb_id == host][df.name == kpi]\n",
      "<ipython-input-82-dcc1e2084555>:27: UserWarning: Boolean Series key will be reindexed to match DataFrame index.\n",
      "  df_hk = df[df.cmdb_id == host][df.name == kpi]\n",
      "<ipython-input-82-dcc1e2084555>:27: UserWarning: Boolean Series key will be reindexed to match DataFrame index.\n",
      "  df_hk = df[df.cmdb_id == host][df.name == kpi]\n"
     ]
    },
    {
     "name": "stdout",
     "output_type": "stream",
     "text": [
      "Threshold  nan SEQ_Used_Pct\n",
      "No valid data to use, skipping\n",
      "Threshold  nan Asm_Free_Tb\n",
      "NaN, Skipping!\n",
      "Threshold  nan PGA_used_total\n",
      "NaN, Skipping!\n",
      "Threshold  -1.0 Sess_Used_Undo\n",
      "Threshold  -1.0 Sess_Used_Temp\n",
      "Threshold "
     ]
    },
    {
     "name": "stderr",
     "output_type": "stream",
     "text": [
      "<ipython-input-82-dcc1e2084555>:27: UserWarning: Boolean Series key will be reindexed to match DataFrame index.\n",
      "  df_hk = df[df.cmdb_id == host][df.name == kpi]\n",
      "<ipython-input-82-dcc1e2084555>:27: UserWarning: Boolean Series key will be reindexed to match DataFrame index.\n",
      "  df_hk = df[df.cmdb_id == host][df.name == kpi]\n",
      "<ipython-input-82-dcc1e2084555>:27: UserWarning: Boolean Series key will be reindexed to match DataFrame index.\n",
      "  df_hk = df[df.cmdb_id == host][df.name == kpi]\n",
      "<ipython-input-82-dcc1e2084555>:27: UserWarning: Boolean Series key will be reindexed to match DataFrame index.\n",
      "  df_hk = df[df.cmdb_id == host][df.name == kpi]\n"
     ]
    },
    {
     "name": "stdout",
     "output_type": "stream",
     "text": [
      " -1.0 SctRead_Per_Sec\n",
      "Threshold  1.0518102531552618 SeqRead_Per_Sec\n",
      "[0 1 0 1 0 1 0 1 1 1 0 1 0 0 0 0 0 0 0 0 0 0 0 1 0 1 1 1 1 1]\n",
      "ST Threshold Anomaly!\n",
      "Threshold  0.6867707068460416 DFParaWrite_Per_Sec\n",
      "Threshold  -1.0 PGA_Used_Pct\n",
      "Threshold  -1.0 Row_Lock\n",
      "Threshold "
     ]
    },
    {
     "name": "stderr",
     "output_type": "stream",
     "text": [
      "<ipython-input-82-dcc1e2084555>:27: UserWarning: Boolean Series key will be reindexed to match DataFrame index.\n",
      "  df_hk = df[df.cmdb_id == host][df.name == kpi]\n",
      "<ipython-input-82-dcc1e2084555>:27: UserWarning: Boolean Series key will be reindexed to match DataFrame index.\n",
      "  df_hk = df[df.cmdb_id == host][df.name == kpi]\n",
      "<ipython-input-82-dcc1e2084555>:27: UserWarning: Boolean Series key will be reindexed to match DataFrame index.\n",
      "  df_hk = df[df.cmdb_id == host][df.name == kpi]\n",
      "<ipython-input-82-dcc1e2084555>:27: UserWarning: Boolean Series key will be reindexed to match DataFrame index.\n",
      "  df_hk = df[df.cmdb_id == host][df.name == kpi]\n"
     ]
    },
    {
     "name": "stdout",
     "output_type": "stream",
     "text": [
      " 0.5859563398867492 Proc_Used_Pct\n",
      "Threshold  3.1940721871180173 Session_pct\n",
      "[0 0 0 1 0 0 0 0 0 0 0 0 0 1 0 0 0 0 0 0 0 0 0 1 0 0 0 0 0 0]\n",
      "ST Threshold Anomaly!\n",
      "Threshold  0.6044081881072741 LFParaWrite_Per_Sec\n",
      "Threshold  1.4458874839906195 AWS\n"
     ]
    },
    {
     "name": "stderr",
     "output_type": "stream",
     "text": [
      "<ipython-input-82-dcc1e2084555>:27: UserWarning: Boolean Series key will be reindexed to match DataFrame index.\n",
      "  df_hk = df[df.cmdb_id == host][df.name == kpi]\n",
      "<ipython-input-82-dcc1e2084555>:27: UserWarning: Boolean Series key will be reindexed to match DataFrame index.\n",
      "  df_hk = df[df.cmdb_id == host][df.name == kpi]\n",
      "<ipython-input-82-dcc1e2084555>:27: UserWarning: Boolean Series key will be reindexed to match DataFrame index.\n",
      "  df_hk = df[df.cmdb_id == host][df.name == kpi]\n",
      "<ipython-input-82-dcc1e2084555>:27: UserWarning: Boolean Series key will be reindexed to match DataFrame index.\n",
      "  df_hk = df[df.cmdb_id == host][df.name == kpi]\n"
     ]
    },
    {
     "name": "stdout",
     "output_type": "stream",
     "text": [
      "Threshold  0.6338802204952987 LFSync_Per_Sec\n",
      "Threshold  0.5856736852671023 Proc_User_Used_Pct\n",
      "Threshold  2.000812765014057 AIOS\n",
      "[0 0 1 1 1 0 0 0 0 0 0 0 0 1 0 0 0 0 0 0 0 0 0 1 1 0 0 0 0 0]\n",
      "ST Threshold Anomaly!\n",
      "Threshold  1.7167083834587162 ACS\n"
     ]
    },
    {
     "name": "stderr",
     "output_type": "stream",
     "text": [
      "<ipython-input-82-dcc1e2084555>:27: UserWarning: Boolean Series key will be reindexed to match DataFrame index.\n",
      "  df_hk = df[df.cmdb_id == host][df.name == kpi]\n",
      "<ipython-input-82-dcc1e2084555>:27: UserWarning: Boolean Series key will be reindexed to match DataFrame index.\n",
      "  df_hk = df[df.cmdb_id == host][df.name == kpi]\n",
      "<ipython-input-82-dcc1e2084555>:27: UserWarning: Boolean Series key will be reindexed to match DataFrame index.\n",
      "  df_hk = df[df.cmdb_id == host][df.name == kpi]\n",
      "<ipython-input-82-dcc1e2084555>:27: UserWarning: Boolean Series key will be reindexed to match DataFrame index.\n",
      "  df_hk = df[df.cmdb_id == host][df.name == kpi]\n"
     ]
    },
    {
     "name": "stdout",
     "output_type": "stream",
     "text": [
      "Threshold  nan On_Off_State\n",
      "NaN, Skipping!\n",
      "Threshold  1.1838927995415889 DbTime\n",
      "[0 0 0 1 0 0 0 0 0 0 0 0 0 0 0 0 0 0 0 0 0 0 0 1 0 0 0 0 0 0]\n",
      "ST Threshold Anomaly!\n",
      "Threshold  5.639273463455537 Sess_Active\n",
      "[0 0 0 0 0 0 0 0 0 0 0 0 0 0 0 0 0 0 0 0 0 0 0 1 0 0 0 0 0 0]\n",
      "ST Threshold Anomaly!\n",
      "Threshold  1.0473634689400917 Physical_Read_Per_Sec\n"
     ]
    },
    {
     "name": "stderr",
     "output_type": "stream",
     "text": [
      "<ipython-input-82-dcc1e2084555>:27: UserWarning: Boolean Series key will be reindexed to match DataFrame index.\n",
      "  df_hk = df[df.cmdb_id == host][df.name == kpi]\n",
      "<ipython-input-82-dcc1e2084555>:27: UserWarning: Boolean Series key will be reindexed to match DataFrame index.\n",
      "  df_hk = df[df.cmdb_id == host][df.name == kpi]\n",
      "<ipython-input-82-dcc1e2084555>:27: UserWarning: Boolean Series key will be reindexed to match DataFrame index.\n",
      "  df_hk = df[df.cmdb_id == host][df.name == kpi]\n",
      "<ipython-input-82-dcc1e2084555>:27: UserWarning: Boolean Series key will be reindexed to match DataFrame index.\n",
      "  df_hk = df[df.cmdb_id == host][df.name == kpi]\n"
     ]
    },
    {
     "name": "stdout",
     "output_type": "stream",
     "text": [
      "[0 0 1 1 1 0 0 0 0 0 0 0 0 1 0 0 0 0 0 0 0 0 1 1 1 0 0 0 0 0]\n",
      "ST Threshold Anomaly!\n",
      "Threshold  0.5687060289779691 Call_Per_Sec\n",
      "Threshold  0.8308638237498582 Login_Per_Sec\n",
      "[1 1 1 0 1 0 1 0 0 0 0 0 0 0 0 0 0 0 0 0 0 0 0 0 1 0 1 0 1 0]\n",
      "ST Threshold Anomaly!\n",
      "Threshold  0.6155458559181136 User_Commit\n",
      "Threshold  0.5790692078887275 Sess_Connect\n",
      "Threshold  0.5238594598449153 Logic_Read_Per_Sec\n"
     ]
    },
    {
     "name": "stderr",
     "output_type": "stream",
     "text": [
      "<ipython-input-82-dcc1e2084555>:27: UserWarning: Boolean Series key will be reindexed to match DataFrame index.\n",
      "  df_hk = df[df.cmdb_id == host][df.name == kpi]\n",
      "<ipython-input-82-dcc1e2084555>:27: UserWarning: Boolean Series key will be reindexed to match DataFrame index.\n",
      "  df_hk = df[df.cmdb_id == host][df.name == kpi]\n",
      "<ipython-input-82-dcc1e2084555>:27: UserWarning: Boolean Series key will be reindexed to match DataFrame index.\n",
      "  df_hk = df[df.cmdb_id == host][df.name == kpi]\n",
      "<ipython-input-82-dcc1e2084555>:27: UserWarning: Boolean Series key will be reindexed to match DataFrame index.\n",
      "  df_hk = df[df.cmdb_id == host][df.name == kpi]\n"
     ]
    },
    {
     "name": "stdout",
     "output_type": "stream",
     "text": [
      "[1 1 1 1 1 0 0 0 0 0 0 0 0 0 0 0 0 0 0 0 0 0 1 1 1 1 0 0 0 0]\n",
      "ST Threshold Anomaly!\n",
      "Threshold  0.6051926347619021 TPS_Per_Sec\n",
      "Threshold  nan Hang\n",
      "NaN, Skipping!\n",
      "Threshold  0.5740690072345073 Redo_Per_Sec\n",
      "Threshold  0.693386662729421 Exec_Per_Sec\n"
     ]
    },
    {
     "name": "stderr",
     "output_type": "stream",
     "text": [
      "<ipython-input-82-dcc1e2084555>:27: UserWarning: Boolean Series key will be reindexed to match DataFrame index.\n",
      "  df_hk = df[df.cmdb_id == host][df.name == kpi]\n",
      "<ipython-input-82-dcc1e2084555>:27: UserWarning: Boolean Series key will be reindexed to match DataFrame index.\n",
      "  df_hk = df[df.cmdb_id == host][df.name == kpi]\n",
      "<ipython-input-82-dcc1e2084555>:27: UserWarning: Boolean Series key will be reindexed to match DataFrame index.\n",
      "  df_hk = df[df.cmdb_id == host][df.name == kpi]\n",
      "<ipython-input-82-dcc1e2084555>:27: UserWarning: Boolean Series key will be reindexed to match DataFrame index.\n",
      "  df_hk = df[df.cmdb_id == host][df.name == kpi]\n"
     ]
    },
    {
     "name": "stdout",
     "output_type": "stream",
     "text": [
      "[0 1 1 1 1 0 0 0 0 0 0 0 0 1 0 0 0 0 0 0 0 0 1 1 1 0 0 0 0 0]\n",
      "ST Threshold Anomaly!\n",
      "Threshold  -1.0 TempTbs_Pct\n",
      "Threshold  nan Total_Tbs_Size\n",
      "NaN, Skipping!\n",
      "Threshold  0.6135729915732718 New_Tbs_Free_Gb\n",
      "[1 0 0 0 0 0 0 0 0 0 0 0 0 0 0 0 0 0 0 0 1 1 1 1 1 1 1 1 1 1]\n",
      "ST Threshold Anomaly!\n",
      "Threshold  0.6185777476942633 New_Tbs_Used_Pct\n"
     ]
    },
    {
     "name": "stderr",
     "output_type": "stream",
     "text": [
      "<ipython-input-82-dcc1e2084555>:27: UserWarning: Boolean Series key will be reindexed to match DataFrame index.\n",
      "  df_hk = df[df.cmdb_id == host][df.name == kpi]\n",
      "<ipython-input-82-dcc1e2084555>:27: UserWarning: Boolean Series key will be reindexed to match DataFrame index.\n",
      "  df_hk = df[df.cmdb_id == host][df.name == kpi]\n",
      "<ipython-input-82-dcc1e2084555>:27: UserWarning: Boolean Series key will be reindexed to match DataFrame index.\n",
      "  df_hk = df[df.cmdb_id == host][df.name == kpi]\n",
      "<ipython-input-82-dcc1e2084555>:27: UserWarning: Boolean Series key will be reindexed to match DataFrame index.\n",
      "  df_hk = df[df.cmdb_id == host][df.name == kpi]\n"
     ]
    },
    {
     "name": "stdout",
     "output_type": "stream",
     "text": [
      "Threshold  nan Tbs_Used_Pct\n",
      "NaN, Skipping!\n",
      "Threshold  nan Tbs_Free_Gb\n",
      "NaN, Skipping!\n",
      "Threshold  0.5788283891250968 UndoTbs_Pct\n",
      "Threshold  0.6148764843608088 DbFile_Used_Pct\n",
      "No valid data to use, skipping\n",
      "db_008  completed in  2.522251844406128\n",
      "************************************************************\n",
      "Checking  db_009\n",
      "Threshold  0.5750823071128734 CPU_free_pct\n"
     ]
    },
    {
     "name": "stderr",
     "output_type": "stream",
     "text": [
      "<ipython-input-82-dcc1e2084555>:27: UserWarning: Boolean Series key will be reindexed to match DataFrame index.\n",
      "  df_hk = df[df.cmdb_id == host][df.name == kpi]\n",
      "<ipython-input-82-dcc1e2084555>:27: UserWarning: Boolean Series key will be reindexed to match DataFrame index.\n",
      "  df_hk = df[df.cmdb_id == host][df.name == kpi]\n",
      "<ipython-input-82-dcc1e2084555>:27: UserWarning: Boolean Series key will be reindexed to match DataFrame index.\n",
      "  df_hk = df[df.cmdb_id == host][df.name == kpi]\n",
      "<ipython-input-82-dcc1e2084555>:27: UserWarning: Boolean Series key will be reindexed to match DataFrame index.\n",
      "  df_hk = df[df.cmdb_id == host][df.name == kpi]\n"
     ]
    },
    {
     "name": "stdout",
     "output_type": "stream",
     "text": [
      "Threshold  0.5641103811104482 MEM_real_util\n",
      "Threshold  0.6367102575484737 tnsping_result_time\n",
      "[1 1 0 0 0 0 0 0 1 1 0 0 0 0 0 0 0 0 0 0 0 0 0 0 1 1 1 1 0 0]\n",
      "ST Threshold Anomaly!\n",
      "Threshold  0.6171287709212345 CPU_Used_Pct\n",
      "Threshold  0.5785354123313475 MEM_Used\n",
      "Threshold  nan MEM_Total\n"
     ]
    },
    {
     "name": "stderr",
     "output_type": "stream",
     "text": [
      "<ipython-input-82-dcc1e2084555>:27: UserWarning: Boolean Series key will be reindexed to match DataFrame index.\n",
      "  df_hk = df[df.cmdb_id == host][df.name == kpi]\n",
      "<ipython-input-82-dcc1e2084555>:27: UserWarning: Boolean Series key will be reindexed to match DataFrame index.\n",
      "  df_hk = df[df.cmdb_id == host][df.name == kpi]\n",
      "<ipython-input-82-dcc1e2084555>:27: UserWarning: Boolean Series key will be reindexed to match DataFrame index.\n",
      "  df_hk = df[df.cmdb_id == host][df.name == kpi]\n",
      "<ipython-input-82-dcc1e2084555>:27: UserWarning: Boolean Series key will be reindexed to match DataFrame index.\n",
      "  df_hk = df[df.cmdb_id == host][df.name == kpi]\n",
      "<ipython-input-82-dcc1e2084555>:27: UserWarning: Boolean Series key will be reindexed to match DataFrame index.\n",
      "  df_hk = df[df.cmdb_id == host][df.name == kpi]\n"
     ]
    },
    {
     "name": "stdout",
     "output_type": "stream",
     "text": [
      "NaN, Skipping!\n",
      "Threshold  0.5785051137743138 MEM_Used_Pct\n",
      "Threshold  0.5789829060162608 Used_Tbs_Size\n",
      "Threshold  nan SEQ_Used_Pct\n",
      "No valid data to use, skipping\n",
      "Threshold  nan Asm_Free_Tb\n",
      "NaN, Skipping!\n",
      "Threshold  0.6113855305967326 PGA_used_total\n",
      "Threshold  4.340487827687924 Sess_Used_Undo\n"
     ]
    },
    {
     "name": "stderr",
     "output_type": "stream",
     "text": [
      "<ipython-input-82-dcc1e2084555>:27: UserWarning: Boolean Series key will be reindexed to match DataFrame index.\n",
      "  df_hk = df[df.cmdb_id == host][df.name == kpi]\n",
      "<ipython-input-82-dcc1e2084555>:27: UserWarning: Boolean Series key will be reindexed to match DataFrame index.\n",
      "  df_hk = df[df.cmdb_id == host][df.name == kpi]\n",
      "<ipython-input-82-dcc1e2084555>:27: UserWarning: Boolean Series key will be reindexed to match DataFrame index.\n",
      "  df_hk = df[df.cmdb_id == host][df.name == kpi]\n",
      "<ipython-input-82-dcc1e2084555>:27: UserWarning: Boolean Series key will be reindexed to match DataFrame index.\n",
      "  df_hk = df[df.cmdb_id == host][df.name == kpi]\n",
      "/Users/baconbaker/anaconda3/envs/ml/lib/python3.8/site-packages/alibi_detect/od/sr.py:96: RuntimeWarning: divide by zero encountered in log\n",
      "  log_amp = np.log(amp)\n",
      "/Users/baconbaker/anaconda3/envs/ml/lib/python3.8/site-packages/alibi_detect/od/sr.py:99: RuntimeWarning: invalid value encountered in subtract\n",
      "  res_amp = log_amp - ma_log_amp\n",
      "/Users/baconbaker/anaconda3/envs/ml/lib/python3.8/site-packages/alibi_detect/od/sr.py:207: RuntimeWarning: invalid value encountered in greater\n",
      "  outlier_pred = (iscore > self.threshold).astype(int)\n",
      "<ipython-input-82-dcc1e2084555>:27: UserWarning: Boolean Series key will be reindexed to match DataFrame index.\n",
      "  df_hk = df[df.cmdb_id == host][df.name == kpi]\n",
      "/Users/baconbaker/anaconda3/envs/ml/lib/python3.8/site-packages/alibi_detect/od/sr.py:96: RuntimeWarning: divide by zero encountered in log\n",
      "  log_amp = np.log(amp)\n",
      "/Users/baconbaker/anaconda3/envs/ml/lib/python3.8/site-packages/alibi_detect/od/sr.py:99: RuntimeWarning: invalid value encountered in subtract\n",
      "  res_amp = log_amp - ma_log_amp\n",
      "/Users/baconbaker/anaconda3/envs/ml/lib/python3.8/site-packages/alibi_detect/od/sr.py:207: RuntimeWarning: invalid value encountered in greater\n",
      "  outlier_pred = (iscore > self.threshold).astype(int)\n",
      "<ipython-input-82-dcc1e2084555>:27: UserWarning: Boolean Series key will be reindexed to match DataFrame index.\n",
      "  df_hk = df[df.cmdb_id == host][df.name == kpi]\n",
      "/Users/baconbaker/anaconda3/envs/ml/lib/python3.8/site-packages/alibi_detect/od/sr.py:96: RuntimeWarning: divide by zero encountered in log\n",
      "  log_amp = np.log(amp)\n",
      "/Users/baconbaker/anaconda3/envs/ml/lib/python3.8/site-packages/alibi_detect/od/sr.py:99: RuntimeWarning: invalid value encountered in subtract\n",
      "  res_amp = log_amp - ma_log_amp\n",
      "/Users/baconbaker/anaconda3/envs/ml/lib/python3.8/site-packages/alibi_detect/od/sr.py:207: RuntimeWarning: invalid value encountered in greater\n",
      "  outlier_pred = (iscore > self.threshold).astype(int)\n",
      "<ipython-input-82-dcc1e2084555>:27: UserWarning: Boolean Series key will be reindexed to match DataFrame index.\n",
      "  df_hk = df[df.cmdb_id == host][df.name == kpi]\n",
      "<ipython-input-82-dcc1e2084555>:27: UserWarning: Boolean Series key will be reindexed to match DataFrame index.\n",
      "  df_hk = df[df.cmdb_id == host][df.name == kpi]\n",
      "<ipython-input-82-dcc1e2084555>:27: UserWarning: Boolean Series key will be reindexed to match DataFrame index.\n",
      "  df_hk = df[df.cmdb_id == host][df.name == kpi]\n"
     ]
    },
    {
     "name": "stdout",
     "output_type": "stream",
     "text": [
      "Threshold  0.6029276764535548 Sess_Used_Temp\n",
      "Threshold  7.478479630304571 SctRead_Per_Sec\n",
      "Threshold  4.8051395672937955 SeqRead_Per_Sec\n",
      "[0 0 0 0 1 0 0 0 0 0 0 0 0 0 0 0 0 0 0 0 0 0 0 0 1 0 0 0 0 0]\n",
      "ST Threshold Anomaly!\n",
      "Threshold  -1.0 DFParaWrite_Per_Sec\n",
      "Threshold  -1.0 PGA_Used_Pct\n"
     ]
    },
    {
     "name": "stderr",
     "output_type": "stream",
     "text": [
      "<ipython-input-82-dcc1e2084555>:27: UserWarning: Boolean Series key will be reindexed to match DataFrame index.\n",
      "  df_hk = df[df.cmdb_id == host][df.name == kpi]\n",
      "<ipython-input-82-dcc1e2084555>:27: UserWarning: Boolean Series key will be reindexed to match DataFrame index.\n",
      "  df_hk = df[df.cmdb_id == host][df.name == kpi]\n",
      "<ipython-input-82-dcc1e2084555>:27: UserWarning: Boolean Series key will be reindexed to match DataFrame index.\n",
      "  df_hk = df[df.cmdb_id == host][df.name == kpi]\n",
      "<ipython-input-82-dcc1e2084555>:27: UserWarning: Boolean Series key will be reindexed to match DataFrame index.\n",
      "  df_hk = df[df.cmdb_id == host][df.name == kpi]\n"
     ]
    },
    {
     "name": "stdout",
     "output_type": "stream",
     "text": [
      "Threshold  -1.0 Row_Lock\n",
      "Threshold  0.584477693758144 Proc_Used_Pct\n",
      "Threshold  0.7286101135805116 Session_pct\n",
      "Threshold  1.0616248457948263 LFParaWrite_Per_Sec\n",
      "Threshold  2.4465899454949165 AWS\n"
     ]
    },
    {
     "name": "stderr",
     "output_type": "stream",
     "text": [
      "<ipython-input-82-dcc1e2084555>:27: UserWarning: Boolean Series key will be reindexed to match DataFrame index.\n",
      "  df_hk = df[df.cmdb_id == host][df.name == kpi]\n",
      "<ipython-input-82-dcc1e2084555>:27: UserWarning: Boolean Series key will be reindexed to match DataFrame index.\n",
      "  df_hk = df[df.cmdb_id == host][df.name == kpi]\n",
      "<ipython-input-82-dcc1e2084555>:27: UserWarning: Boolean Series key will be reindexed to match DataFrame index.\n",
      "  df_hk = df[df.cmdb_id == host][df.name == kpi]\n",
      "<ipython-input-82-dcc1e2084555>:27: UserWarning: Boolean Series key will be reindexed to match DataFrame index.\n",
      "  df_hk = df[df.cmdb_id == host][df.name == kpi]\n",
      "<ipython-input-82-dcc1e2084555>:27: UserWarning: Boolean Series key will be reindexed to match DataFrame index.\n",
      "  df_hk = df[df.cmdb_id == host][df.name == kpi]\n",
      "<ipython-input-82-dcc1e2084555>:27: UserWarning: Boolean Series key will be reindexed to match DataFrame index.\n",
      "  df_hk = df[df.cmdb_id == host][df.name == kpi]\n"
     ]
    },
    {
     "name": "stdout",
     "output_type": "stream",
     "text": [
      "[0 0 0 1 0 0 0 0 1 0 0 0 0 0 0 0 0 0 0 0 0 0 0 0 1 0 0 0 1 0]\n",
      "ST Threshold Anomaly!\n",
      "Threshold  1.0328305307874708 LFSync_Per_Sec\n",
      "Threshold  0.5846812299515279 Proc_User_Used_Pct\n",
      "Threshold  -1.0 AIOS\n",
      "Threshold  1.4390257025841935 ACS\n",
      "Threshold  nan On_Off_State\n",
      "NaN, Skipping!\n",
      "Threshold  0.5909109925572712 DbTime\n",
      "Threshold  0.6480381311873518 Sess_Active\n"
     ]
    },
    {
     "name": "stderr",
     "output_type": "stream",
     "text": [
      "<ipython-input-82-dcc1e2084555>:27: UserWarning: Boolean Series key will be reindexed to match DataFrame index.\n",
      "  df_hk = df[df.cmdb_id == host][df.name == kpi]\n",
      "<ipython-input-82-dcc1e2084555>:27: UserWarning: Boolean Series key will be reindexed to match DataFrame index.\n",
      "  df_hk = df[df.cmdb_id == host][df.name == kpi]\n",
      "<ipython-input-82-dcc1e2084555>:27: UserWarning: Boolean Series key will be reindexed to match DataFrame index.\n",
      "  df_hk = df[df.cmdb_id == host][df.name == kpi]\n",
      "<ipython-input-82-dcc1e2084555>:27: UserWarning: Boolean Series key will be reindexed to match DataFrame index.\n",
      "  df_hk = df[df.cmdb_id == host][df.name == kpi]\n",
      "<ipython-input-82-dcc1e2084555>:27: UserWarning: Boolean Series key will be reindexed to match DataFrame index.\n",
      "  df_hk = df[df.cmdb_id == host][df.name == kpi]\n"
     ]
    },
    {
     "name": "stdout",
     "output_type": "stream",
     "text": [
      "Threshold  0.5049026469666892 Physical_Read_Per_Sec\n",
      "[0 0 1 1 1 0 0 0 0 0 0 0 1 1 1 0 0 0 0 0 0 0 1 1 1 0 0 0 0 0]\n",
      "ST Threshold Anomaly!\n",
      "Threshold  0.5758724145008111 Call_Per_Sec\n",
      "[1 0 0 0 0 0 0 0 0 0 0 0 0 0 0 0 0 0 0 0 0 0 0 0 1 1 1 1 1 1]\n",
      "ST Threshold Anomaly!\n",
      "Threshold  0.5744108774978659 Login_Per_Sec\n",
      "[1 1 1 1 0 1 0 0 0 0 0 0 0 0 0 0 0 0 0 0 0 0 0 1 1 0 0 0 1 1]\n",
      "ST Threshold Anomaly!\n",
      "Threshold  0.6677487527204068 User_Commit\n",
      "Threshold  0.5798542512412486 Sess_Connect\n"
     ]
    },
    {
     "name": "stderr",
     "output_type": "stream",
     "text": [
      "<ipython-input-82-dcc1e2084555>:27: UserWarning: Boolean Series key will be reindexed to match DataFrame index.\n",
      "  df_hk = df[df.cmdb_id == host][df.name == kpi]\n",
      "<ipython-input-82-dcc1e2084555>:27: UserWarning: Boolean Series key will be reindexed to match DataFrame index.\n",
      "  df_hk = df[df.cmdb_id == host][df.name == kpi]\n",
      "<ipython-input-82-dcc1e2084555>:27: UserWarning: Boolean Series key will be reindexed to match DataFrame index.\n",
      "  df_hk = df[df.cmdb_id == host][df.name == kpi]\n",
      "<ipython-input-82-dcc1e2084555>:27: UserWarning: Boolean Series key will be reindexed to match DataFrame index.\n",
      "  df_hk = df[df.cmdb_id == host][df.name == kpi]\n",
      "<ipython-input-82-dcc1e2084555>:27: UserWarning: Boolean Series key will be reindexed to match DataFrame index.\n",
      "  df_hk = df[df.cmdb_id == host][df.name == kpi]\n"
     ]
    },
    {
     "name": "stdout",
     "output_type": "stream",
     "text": [
      "Threshold  0.617917088704607 Logic_Read_Per_Sec\n",
      "Threshold  0.5663030750831604 TPS_Per_Sec\n",
      "Threshold  nan Hang\n",
      "NaN, Skipping!\n",
      "Threshold  0.5934689774296679 Redo_Per_Sec\n"
     ]
    },
    {
     "name": "stderr",
     "output_type": "stream",
     "text": [
      "<ipython-input-82-dcc1e2084555>:27: UserWarning: Boolean Series key will be reindexed to match DataFrame index.\n",
      "  df_hk = df[df.cmdb_id == host][df.name == kpi]\n",
      "<ipython-input-82-dcc1e2084555>:27: UserWarning: Boolean Series key will be reindexed to match DataFrame index.\n",
      "  df_hk = df[df.cmdb_id == host][df.name == kpi]\n",
      "<ipython-input-82-dcc1e2084555>:27: UserWarning: Boolean Series key will be reindexed to match DataFrame index.\n",
      "  df_hk = df[df.cmdb_id == host][df.name == kpi]\n",
      "<ipython-input-82-dcc1e2084555>:27: UserWarning: Boolean Series key will be reindexed to match DataFrame index.\n",
      "  df_hk = df[df.cmdb_id == host][df.name == kpi]\n"
     ]
    },
    {
     "name": "stdout",
     "output_type": "stream",
     "text": [
      "Threshold  0.5835168424292916 Exec_Per_Sec\n",
      "Threshold  0.4965880803704692 TempTbs_Pct\n",
      "Threshold  nan Total_Tbs_Size\n",
      "NaN, Skipping!\n",
      "Threshold  0.5650264674066431 New_Tbs_Free_Gb\n"
     ]
    },
    {
     "name": "stderr",
     "output_type": "stream",
     "text": [
      "/Users/baconbaker/anaconda3/envs/ml/lib/python3.8/site-packages/alibi_detect/od/sr.py:96: RuntimeWarning: divide by zero encountered in log\n",
      "  log_amp = np.log(amp)\n",
      "/Users/baconbaker/anaconda3/envs/ml/lib/python3.8/site-packages/alibi_detect/od/sr.py:99: RuntimeWarning: invalid value encountered in subtract\n",
      "  res_amp = log_amp - ma_log_amp\n",
      "/Users/baconbaker/anaconda3/envs/ml/lib/python3.8/site-packages/alibi_detect/od/sr.py:207: RuntimeWarning: invalid value encountered in greater\n",
      "  outlier_pred = (iscore > self.threshold).astype(int)\n",
      "<ipython-input-82-dcc1e2084555>:27: UserWarning: Boolean Series key will be reindexed to match DataFrame index.\n",
      "  df_hk = df[df.cmdb_id == host][df.name == kpi]\n",
      "<ipython-input-82-dcc1e2084555>:27: UserWarning: Boolean Series key will be reindexed to match DataFrame index.\n",
      "  df_hk = df[df.cmdb_id == host][df.name == kpi]\n",
      "<ipython-input-82-dcc1e2084555>:27: UserWarning: Boolean Series key will be reindexed to match DataFrame index.\n",
      "  df_hk = df[df.cmdb_id == host][df.name == kpi]\n",
      "<ipython-input-82-dcc1e2084555>:27: UserWarning: Boolean Series key will be reindexed to match DataFrame index.\n",
      "  df_hk = df[df.cmdb_id == host][df.name == kpi]\n"
     ]
    },
    {
     "name": "stdout",
     "output_type": "stream",
     "text": [
      "Threshold  0.9476221724525504 New_Tbs_Used_Pct\n",
      "[1 1 0 0 0 0 0 0 0 0 0 0 0 0 0 0 0 0 0 1 1 1 1 1 1 1 1 1 1 1]\n",
      "ST Threshold Anomaly!\n",
      "Threshold  nan Tbs_Used_Pct\n",
      "NaN, Skipping!\n",
      "Threshold  nan Tbs_Free_Gb\n",
      "NaN, Skipping!\n",
      "Threshold  0.5304468487815791 UndoTbs_Pct\n"
     ]
    },
    {
     "name": "stderr",
     "output_type": "stream",
     "text": [
      "<ipython-input-82-dcc1e2084555>:27: UserWarning: Boolean Series key will be reindexed to match DataFrame index.\n",
      "  df_hk = df[df.cmdb_id == host][df.name == kpi]\n",
      "<ipython-input-82-dcc1e2084555>:27: UserWarning: Boolean Series key will be reindexed to match DataFrame index.\n",
      "  df_hk = df[df.cmdb_id == host][df.name == kpi]\n",
      "<ipython-input-82-dcc1e2084555>:27: UserWarning: Boolean Series key will be reindexed to match DataFrame index.\n",
      "  df_hk = df[df.cmdb_id == host][df.name == kpi]\n",
      "<ipython-input-82-dcc1e2084555>:27: UserWarning: Boolean Series key will be reindexed to match DataFrame index.\n",
      "  df_hk = df[df.cmdb_id == host][df.name == kpi]\n"
     ]
    },
    {
     "name": "stdout",
     "output_type": "stream",
     "text": [
      "Threshold  0.6778132725800557 DbFile_Used_Pct\n",
      "No valid data to use, skipping\n",
      "db_009  completed in  2.439716100692749\n",
      "************************************************************\n",
      "Checking  db_013\n",
      "Threshold  0.5799679749546373 CPU_free_pct\n",
      "Threshold  0.5782309427044533 MEM_real_util\n",
      "Threshold  0.5866198099261696 tnsping_result_time\n",
      "[1 1 1 0 1 1 1 0 0 0 0 0 0 0 0 0 0 0 0 0 0 0 0 0 1 1 1 1 1 0]\n",
      "ST Threshold Anomaly!\n",
      "Threshold  0.8308959762933619 CPU_Used_Pct\n"
     ]
    },
    {
     "name": "stderr",
     "output_type": "stream",
     "text": [
      "<ipython-input-82-dcc1e2084555>:27: UserWarning: Boolean Series key will be reindexed to match DataFrame index.\n",
      "  df_hk = df[df.cmdb_id == host][df.name == kpi]\n",
      "<ipython-input-82-dcc1e2084555>:27: UserWarning: Boolean Series key will be reindexed to match DataFrame index.\n",
      "  df_hk = df[df.cmdb_id == host][df.name == kpi]\n",
      "<ipython-input-82-dcc1e2084555>:27: UserWarning: Boolean Series key will be reindexed to match DataFrame index.\n",
      "  df_hk = df[df.cmdb_id == host][df.name == kpi]\n",
      "<ipython-input-82-dcc1e2084555>:27: UserWarning: Boolean Series key will be reindexed to match DataFrame index.\n",
      "  df_hk = df[df.cmdb_id == host][df.name == kpi]\n",
      "<ipython-input-82-dcc1e2084555>:27: UserWarning: Boolean Series key will be reindexed to match DataFrame index.\n",
      "  df_hk = df[df.cmdb_id == host][df.name == kpi]\n"
     ]
    },
    {
     "name": "stdout",
     "output_type": "stream",
     "text": [
      "Threshold  0.5786814632782868 MEM_Used\n",
      "Threshold  nan MEM_Total\n",
      "NaN, Skipping!\n",
      "Threshold  0.578513817600477 MEM_Used_Pct\n",
      "Threshold  0.5789488848383719 Used_Tbs_Size\n"
     ]
    },
    {
     "name": "stderr",
     "output_type": "stream",
     "text": [
      "<ipython-input-82-dcc1e2084555>:27: UserWarning: Boolean Series key will be reindexed to match DataFrame index.\n",
      "  df_hk = df[df.cmdb_id == host][df.name == kpi]\n",
      "<ipython-input-82-dcc1e2084555>:27: UserWarning: Boolean Series key will be reindexed to match DataFrame index.\n",
      "  df_hk = df[df.cmdb_id == host][df.name == kpi]\n",
      "<ipython-input-82-dcc1e2084555>:27: UserWarning: Boolean Series key will be reindexed to match DataFrame index.\n",
      "  df_hk = df[df.cmdb_id == host][df.name == kpi]\n",
      "<ipython-input-82-dcc1e2084555>:27: UserWarning: Boolean Series key will be reindexed to match DataFrame index.\n",
      "  df_hk = df[df.cmdb_id == host][df.name == kpi]\n"
     ]
    },
    {
     "name": "stdout",
     "output_type": "stream",
     "text": [
      "Threshold  nan SEQ_Used_Pct\n",
      "No valid data to use, skipping\n",
      "Threshold  nan Asm_Free_Tb\n",
      "NaN, Skipping!\n",
      "Threshold  nan PGA_used_total\n",
      "NaN, Skipping!\n",
      "Threshold  -1.0 Sess_Used_Undo\n",
      "Threshold  -1.0 Sess_Used_Temp\n",
      "Threshold "
     ]
    },
    {
     "name": "stderr",
     "output_type": "stream",
     "text": [
      "<ipython-input-82-dcc1e2084555>:27: UserWarning: Boolean Series key will be reindexed to match DataFrame index.\n",
      "  df_hk = df[df.cmdb_id == host][df.name == kpi]\n",
      "<ipython-input-82-dcc1e2084555>:27: UserWarning: Boolean Series key will be reindexed to match DataFrame index.\n",
      "  df_hk = df[df.cmdb_id == host][df.name == kpi]\n",
      "<ipython-input-82-dcc1e2084555>:27: UserWarning: Boolean Series key will be reindexed to match DataFrame index.\n",
      "  df_hk = df[df.cmdb_id == host][df.name == kpi]\n",
      "<ipython-input-82-dcc1e2084555>:27: UserWarning: Boolean Series key will be reindexed to match DataFrame index.\n",
      "  df_hk = df[df.cmdb_id == host][df.name == kpi]\n"
     ]
    },
    {
     "name": "stdout",
     "output_type": "stream",
     "text": [
      " -1.0 SctRead_Per_Sec\n",
      "Threshold  2.5915652107930915 SeqRead_Per_Sec\n",
      "Threshold  2.8725926168413927 DFParaWrite_Per_Sec\n",
      "Threshold  -1.0 PGA_Used_Pct\n",
      "Threshold "
     ]
    },
    {
     "name": "stderr",
     "output_type": "stream",
     "text": [
      "<ipython-input-82-dcc1e2084555>:27: UserWarning: Boolean Series key will be reindexed to match DataFrame index.\n",
      "  df_hk = df[df.cmdb_id == host][df.name == kpi]\n",
      "<ipython-input-82-dcc1e2084555>:27: UserWarning: Boolean Series key will be reindexed to match DataFrame index.\n",
      "  df_hk = df[df.cmdb_id == host][df.name == kpi]\n",
      "<ipython-input-82-dcc1e2084555>:27: UserWarning: Boolean Series key will be reindexed to match DataFrame index.\n",
      "  df_hk = df[df.cmdb_id == host][df.name == kpi]\n",
      "<ipython-input-82-dcc1e2084555>:27: UserWarning: Boolean Series key will be reindexed to match DataFrame index.\n",
      "  df_hk = df[df.cmdb_id == host][df.name == kpi]\n",
      "<ipython-input-82-dcc1e2084555>:27: UserWarning: Boolean Series key will be reindexed to match DataFrame index.\n",
      "  df_hk = df[df.cmdb_id == host][df.name == kpi]\n"
     ]
    },
    {
     "name": "stdout",
     "output_type": "stream",
     "text": [
      " -1.0 Row_Lock\n",
      "Threshold  0.5942337522659092 Proc_Used_Pct\n",
      "Threshold  3.6361446067124534 Session_pct\n",
      "[0 0 0 0 0 0 0 0 0 0 0 0 0 0 0 0 0 0 0 0 0 0 0 0 1 0 0 0 0 0]\n",
      "ST Threshold Anomaly!\n",
      "Threshold  2.294277653598695 LFParaWrite_Per_Sec\n",
      "Threshold  4.666021859899915 AWS\n",
      "Threshold  0.7420490930297143 LFSync_Per_Sec\n",
      "Threshold  0.5941627345316288 Proc_User_Used_Pct\n",
      "Threshold  -1.0 AIOS\n",
      "Threshold  4.205650357617522 ACS\n"
     ]
    },
    {
     "name": "stderr",
     "output_type": "stream",
     "text": [
      "<ipython-input-82-dcc1e2084555>:27: UserWarning: Boolean Series key will be reindexed to match DataFrame index.\n",
      "  df_hk = df[df.cmdb_id == host][df.name == kpi]\n",
      "/Users/baconbaker/anaconda3/envs/ml/lib/python3.8/site-packages/alibi_detect/od/sr.py:96: RuntimeWarning: divide by zero encountered in log\n",
      "  log_amp = np.log(amp)\n",
      "/Users/baconbaker/anaconda3/envs/ml/lib/python3.8/site-packages/alibi_detect/od/sr.py:99: RuntimeWarning: invalid value encountered in subtract\n",
      "  res_amp = log_amp - ma_log_amp\n",
      "/Users/baconbaker/anaconda3/envs/ml/lib/python3.8/site-packages/alibi_detect/od/sr.py:207: RuntimeWarning: invalid value encountered in greater\n",
      "  outlier_pred = (iscore > self.threshold).astype(int)\n",
      "<ipython-input-82-dcc1e2084555>:27: UserWarning: Boolean Series key will be reindexed to match DataFrame index.\n",
      "  df_hk = df[df.cmdb_id == host][df.name == kpi]\n",
      "<ipython-input-82-dcc1e2084555>:27: UserWarning: Boolean Series key will be reindexed to match DataFrame index.\n",
      "  df_hk = df[df.cmdb_id == host][df.name == kpi]\n",
      "<ipython-input-82-dcc1e2084555>:27: UserWarning: Boolean Series key will be reindexed to match DataFrame index.\n",
      "  df_hk = df[df.cmdb_id == host][df.name == kpi]\n",
      "<ipython-input-82-dcc1e2084555>:27: UserWarning: Boolean Series key will be reindexed to match DataFrame index.\n",
      "  df_hk = df[df.cmdb_id == host][df.name == kpi]\n",
      "<ipython-input-82-dcc1e2084555>:27: UserWarning: Boolean Series key will be reindexed to match DataFrame index.\n",
      "  df_hk = df[df.cmdb_id == host][df.name == kpi]\n"
     ]
    },
    {
     "name": "stdout",
     "output_type": "stream",
     "text": [
      "[0 0 0 0 0 0 0 0 0 0 0 0 0 0 0 0 0 0 0 0 0 0 0 1 0 0 0 0 0 0]\n",
      "ST Threshold Anomaly!\n",
      "Threshold  nan On_Off_State\n",
      "NaN, Skipping!\n",
      "Threshold  0.5781033595633808 DbTime\n",
      "[0 1 0 0 0 0 0 0 0 0 0 0 0 0 0 0 0 1 1 0 0 1 1 1 1 1 0 0 0 0]\n",
      "ST Threshold Anomaly!\n",
      "Threshold  1.3305238806335913 Sess_Active\n",
      "[0 0 0 0 0 0 0 0 0 0 0 0 0 0 0 0 0 1 0 0 0 1 0 1 1 0 0 0 0 0]\n",
      "ST Threshold Anomaly!\n",
      "Threshold  1.6352877991872432 Physical_Read_Per_Sec\n"
     ]
    },
    {
     "name": "stderr",
     "output_type": "stream",
     "text": [
      "<ipython-input-82-dcc1e2084555>:27: UserWarning: Boolean Series key will be reindexed to match DataFrame index.\n",
      "  df_hk = df[df.cmdb_id == host][df.name == kpi]\n",
      "<ipython-input-82-dcc1e2084555>:27: UserWarning: Boolean Series key will be reindexed to match DataFrame index.\n",
      "  df_hk = df[df.cmdb_id == host][df.name == kpi]\n",
      "<ipython-input-82-dcc1e2084555>:27: UserWarning: Boolean Series key will be reindexed to match DataFrame index.\n",
      "  df_hk = df[df.cmdb_id == host][df.name == kpi]\n",
      "<ipython-input-82-dcc1e2084555>:27: UserWarning: Boolean Series key will be reindexed to match DataFrame index.\n",
      "  df_hk = df[df.cmdb_id == host][df.name == kpi]\n"
     ]
    },
    {
     "name": "stdout",
     "output_type": "stream",
     "text": [
      "[0 0 1 1 1 0 0 0 0 0 0 0 0 1 0 0 0 0 0 0 0 0 0 1 1 0 0 0 0 0]\n",
      "ST Threshold Anomaly!\n",
      "Threshold  0.5633673575757445 Call_Per_Sec\n",
      "[1 1 1 0 0 0 0 1 1 0 0 0 0 0 0 0 0 0 0 0 0 0 1 1 0 0 1 1 1 1]\n",
      "ST Threshold Anomaly!\n",
      "Threshold  2.0025527883388885 Login_Per_Sec\n",
      "[0 0 0 0 0 0 0 0 0 0 0 0 0 0 0 0 0 0 0 0 0 0 0 0 1 0 0 0 0 0]\n",
      "ST Threshold Anomaly!\n",
      "Threshold  17.44320568251479 User_Commit\n",
      "Threshold  0.5787798869227829 Sess_Connect\n",
      "Threshold  0.5787017958212244 Logic_Read_Per_Sec\n"
     ]
    },
    {
     "name": "stderr",
     "output_type": "stream",
     "text": [
      "<ipython-input-82-dcc1e2084555>:27: UserWarning: Boolean Series key will be reindexed to match DataFrame index.\n",
      "  df_hk = df[df.cmdb_id == host][df.name == kpi]\n",
      "<ipython-input-82-dcc1e2084555>:27: UserWarning: Boolean Series key will be reindexed to match DataFrame index.\n",
      "  df_hk = df[df.cmdb_id == host][df.name == kpi]\n",
      "/Users/baconbaker/anaconda3/envs/ml/lib/python3.8/site-packages/alibi_detect/od/sr.py:96: RuntimeWarning: divide by zero encountered in log\n",
      "  log_amp = np.log(amp)\n",
      "/Users/baconbaker/anaconda3/envs/ml/lib/python3.8/site-packages/alibi_detect/od/sr.py:99: RuntimeWarning: invalid value encountered in subtract\n",
      "  res_amp = log_amp - ma_log_amp\n",
      "/Users/baconbaker/anaconda3/envs/ml/lib/python3.8/site-packages/alibi_detect/od/sr.py:207: RuntimeWarning: invalid value encountered in greater\n",
      "  outlier_pred = (iscore > self.threshold).astype(int)\n",
      "<ipython-input-82-dcc1e2084555>:27: UserWarning: Boolean Series key will be reindexed to match DataFrame index.\n",
      "  df_hk = df[df.cmdb_id == host][df.name == kpi]\n",
      "/Users/baconbaker/anaconda3/envs/ml/lib/python3.8/site-packages/alibi_detect/od/sr.py:96: RuntimeWarning: divide by zero encountered in log\n",
      "  log_amp = np.log(amp)\n",
      "/Users/baconbaker/anaconda3/envs/ml/lib/python3.8/site-packages/alibi_detect/od/sr.py:99: RuntimeWarning: invalid value encountered in subtract\n",
      "  res_amp = log_amp - ma_log_amp\n",
      "/Users/baconbaker/anaconda3/envs/ml/lib/python3.8/site-packages/alibi_detect/od/sr.py:207: RuntimeWarning: invalid value encountered in greater\n",
      "  outlier_pred = (iscore > self.threshold).astype(int)\n",
      "<ipython-input-82-dcc1e2084555>:27: UserWarning: Boolean Series key will be reindexed to match DataFrame index.\n",
      "  df_hk = df[df.cmdb_id == host][df.name == kpi]\n",
      "<ipython-input-82-dcc1e2084555>:27: UserWarning: Boolean Series key will be reindexed to match DataFrame index.\n",
      "  df_hk = df[df.cmdb_id == host][df.name == kpi]\n"
     ]
    },
    {
     "name": "stdout",
     "output_type": "stream",
     "text": [
      "Threshold  0.6505335453440213 TPS_Per_Sec\n",
      "Threshold  nan Hang\n",
      "NaN, Skipping!\n",
      "Threshold  0.6223676000725784 Redo_Per_Sec\n",
      "Threshold  0.5882384458617289 Exec_Per_Sec\n"
     ]
    },
    {
     "name": "stderr",
     "output_type": "stream",
     "text": [
      "<ipython-input-82-dcc1e2084555>:27: UserWarning: Boolean Series key will be reindexed to match DataFrame index.\n",
      "  df_hk = df[df.cmdb_id == host][df.name == kpi]\n",
      "<ipython-input-82-dcc1e2084555>:27: UserWarning: Boolean Series key will be reindexed to match DataFrame index.\n",
      "  df_hk = df[df.cmdb_id == host][df.name == kpi]\n",
      "<ipython-input-82-dcc1e2084555>:27: UserWarning: Boolean Series key will be reindexed to match DataFrame index.\n",
      "  df_hk = df[df.cmdb_id == host][df.name == kpi]\n",
      "<ipython-input-82-dcc1e2084555>:27: UserWarning: Boolean Series key will be reindexed to match DataFrame index.\n",
      "  df_hk = df[df.cmdb_id == host][df.name == kpi]\n"
     ]
    },
    {
     "name": "stdout",
     "output_type": "stream",
     "text": [
      "Threshold  -1.0 TempTbs_Pct\n",
      "Threshold  nan Total_Tbs_Size\n",
      "NaN, Skipping!\n",
      "Threshold  0.555341130298214 New_Tbs_Free_Gb\n",
      "Threshold  0.4540490032396983 New_Tbs_Used_Pct\n"
     ]
    },
    {
     "name": "stderr",
     "output_type": "stream",
     "text": [
      "<ipython-input-82-dcc1e2084555>:27: UserWarning: Boolean Series key will be reindexed to match DataFrame index.\n",
      "  df_hk = df[df.cmdb_id == host][df.name == kpi]\n",
      "<ipython-input-82-dcc1e2084555>:27: UserWarning: Boolean Series key will be reindexed to match DataFrame index.\n",
      "  df_hk = df[df.cmdb_id == host][df.name == kpi]\n",
      "<ipython-input-82-dcc1e2084555>:27: UserWarning: Boolean Series key will be reindexed to match DataFrame index.\n",
      "  df_hk = df[df.cmdb_id == host][df.name == kpi]\n",
      "<ipython-input-82-dcc1e2084555>:27: UserWarning: Boolean Series key will be reindexed to match DataFrame index.\n",
      "  df_hk = df[df.cmdb_id == host][df.name == kpi]\n"
     ]
    },
    {
     "name": "stdout",
     "output_type": "stream",
     "text": [
      "Threshold  nan Tbs_Used_Pct\n",
      "NaN, Skipping!\n",
      "Threshold  0.5789342308413704 Tbs_Free_Gb\n",
      "Threshold  nan UndoTbs_Pct\n",
      "NaN, Skipping!\n",
      "Threshold  0.6629428270435063 DbFile_Used_Pct\n",
      "No valid data to use, skipping\n",
      "db_013  completed in  2.502640962600708\n",
      "************************************************************\n",
      "Checking  db_006\n",
      "Threshold  0.5788949244649769 CPU_free_pct\n"
     ]
    },
    {
     "name": "stderr",
     "output_type": "stream",
     "text": [
      "<ipython-input-82-dcc1e2084555>:27: UserWarning: Boolean Series key will be reindexed to match DataFrame index.\n",
      "  df_hk = df[df.cmdb_id == host][df.name == kpi]\n",
      "<ipython-input-82-dcc1e2084555>:27: UserWarning: Boolean Series key will be reindexed to match DataFrame index.\n",
      "  df_hk = df[df.cmdb_id == host][df.name == kpi]\n",
      "<ipython-input-82-dcc1e2084555>:27: UserWarning: Boolean Series key will be reindexed to match DataFrame index.\n",
      "  df_hk = df[df.cmdb_id == host][df.name == kpi]\n",
      "<ipython-input-82-dcc1e2084555>:27: UserWarning: Boolean Series key will be reindexed to match DataFrame index.\n",
      "  df_hk = df[df.cmdb_id == host][df.name == kpi]\n"
     ]
    },
    {
     "name": "stdout",
     "output_type": "stream",
     "text": [
      "Threshold  -1.0 MEM_real_util\n",
      "Threshold  0.9711964299068112 tnsping_result_time\n",
      "[0 0 0 0 0 0 1 0 0 0 0 0 0 1 1 1 0 1 1 0 0 0 0 1 0 0 0 0 0 0]\n",
      "ST Threshold Anomaly!\n",
      "Threshold  0.6550368097211157 CPU_Used_Pct\n",
      "Threshold  0.5786282069262447 MEM_Used\n"
     ]
    },
    {
     "name": "stderr",
     "output_type": "stream",
     "text": [
      "<ipython-input-82-dcc1e2084555>:27: UserWarning: Boolean Series key will be reindexed to match DataFrame index.\n",
      "  df_hk = df[df.cmdb_id == host][df.name == kpi]\n",
      "<ipython-input-82-dcc1e2084555>:27: UserWarning: Boolean Series key will be reindexed to match DataFrame index.\n",
      "  df_hk = df[df.cmdb_id == host][df.name == kpi]\n",
      "<ipython-input-82-dcc1e2084555>:27: UserWarning: Boolean Series key will be reindexed to match DataFrame index.\n",
      "  df_hk = df[df.cmdb_id == host][df.name == kpi]\n",
      "<ipython-input-82-dcc1e2084555>:27: UserWarning: Boolean Series key will be reindexed to match DataFrame index.\n",
      "  df_hk = df[df.cmdb_id == host][df.name == kpi]\n"
     ]
    },
    {
     "name": "stdout",
     "output_type": "stream",
     "text": [
      "Threshold  nan MEM_Total\n",
      "NaN, Skipping!\n",
      "Threshold  0.5780690759421583 MEM_Used_Pct\n",
      "Threshold  0.5789487726704445 Used_Tbs_Size\n",
      "Threshold  nan SEQ_Used_Pct\n",
      "No valid data to use, skipping\n",
      "Threshold  nan Asm_Free_Tb\n",
      "NaN, Skipping!"
     ]
    },
    {
     "name": "stderr",
     "output_type": "stream",
     "text": [
      "<ipython-input-82-dcc1e2084555>:27: UserWarning: Boolean Series key will be reindexed to match DataFrame index.\n",
      "  df_hk = df[df.cmdb_id == host][df.name == kpi]\n",
      "<ipython-input-82-dcc1e2084555>:27: UserWarning: Boolean Series key will be reindexed to match DataFrame index.\n",
      "  df_hk = df[df.cmdb_id == host][df.name == kpi]\n",
      "<ipython-input-82-dcc1e2084555>:27: UserWarning: Boolean Series key will be reindexed to match DataFrame index.\n",
      "  df_hk = df[df.cmdb_id == host][df.name == kpi]\n",
      "<ipython-input-82-dcc1e2084555>:27: UserWarning: Boolean Series key will be reindexed to match DataFrame index.\n",
      "  df_hk = df[df.cmdb_id == host][df.name == kpi]\n"
     ]
    },
    {
     "name": "stdout",
     "output_type": "stream",
     "text": [
      "\n",
      "Threshold  nan PGA_used_total\n",
      "NaN, Skipping!\n",
      "Threshold  -1.0 Sess_Used_Undo\n",
      "Threshold  -1.0 Sess_Used_Temp\n",
      "Threshold  -1.0 SctRead_Per_Sec\n"
     ]
    },
    {
     "name": "stderr",
     "output_type": "stream",
     "text": [
      "<ipython-input-82-dcc1e2084555>:27: UserWarning: Boolean Series key will be reindexed to match DataFrame index.\n",
      "  df_hk = df[df.cmdb_id == host][df.name == kpi]\n",
      "<ipython-input-82-dcc1e2084555>:27: UserWarning: Boolean Series key will be reindexed to match DataFrame index.\n",
      "  df_hk = df[df.cmdb_id == host][df.name == kpi]\n",
      "<ipython-input-82-dcc1e2084555>:27: UserWarning: Boolean Series key will be reindexed to match DataFrame index.\n",
      "  df_hk = df[df.cmdb_id == host][df.name == kpi]\n",
      "<ipython-input-82-dcc1e2084555>:27: UserWarning: Boolean Series key will be reindexed to match DataFrame index.\n",
      "  df_hk = df[df.cmdb_id == host][df.name == kpi]\n"
     ]
    },
    {
     "name": "stdout",
     "output_type": "stream",
     "text": [
      "Threshold  0.8812777138084662 SeqRead_Per_Sec\n",
      "[0 1 1 1 0 1 0 1 1 0 0 0 0 0 0 0 0 0 0 0 0 0 0 1 0 1 0 1 1 1]\n",
      "ST Threshold Anomaly!\n",
      "Threshold  2.283679012681351 DFParaWrite_Per_Sec\n",
      "[1 1 0 0 0 0 1 0 0 0 0 1 0 0 0 0 0 0 0 0 0 1 0 0 0 0 1 0 0 0]\n",
      "ST Threshold Anomaly!\n",
      "Threshold  -1.0 PGA_Used_Pct\n",
      "Threshold  -1.0 Row_Lock\n"
     ]
    },
    {
     "name": "stderr",
     "output_type": "stream",
     "text": [
      "<ipython-input-82-dcc1e2084555>:27: UserWarning: Boolean Series key will be reindexed to match DataFrame index.\n",
      "  df_hk = df[df.cmdb_id == host][df.name == kpi]\n",
      "<ipython-input-82-dcc1e2084555>:27: UserWarning: Boolean Series key will be reindexed to match DataFrame index.\n",
      "  df_hk = df[df.cmdb_id == host][df.name == kpi]\n",
      "<ipython-input-82-dcc1e2084555>:27: UserWarning: Boolean Series key will be reindexed to match DataFrame index.\n",
      "  df_hk = df[df.cmdb_id == host][df.name == kpi]\n",
      "<ipython-input-82-dcc1e2084555>:27: UserWarning: Boolean Series key will be reindexed to match DataFrame index.\n",
      "  df_hk = df[df.cmdb_id == host][df.name == kpi]\n"
     ]
    },
    {
     "name": "stdout",
     "output_type": "stream",
     "text": [
      "Threshold  0.5803291566241184 Proc_Used_Pct\n",
      "Threshold  5.617616984549357 Session_pct\n",
      "[0 0 0 0 0 0 0 0 0 0 0 0 0 0 0 0 0 0 0 0 0 0 0 1 0 0 0 0 0 0]\n",
      "ST Threshold Anomaly!\n",
      "Threshold  1.1780285409668785 LFParaWrite_Per_Sec\n",
      "[1 1 0 0 0 0 1 0 0 0 0 1 0 0 0 0 1 0 0 0 0 1 0 0 0 1 1 0 0 0]\n",
      "ST Threshold Anomaly!\n",
      "Threshold  5.2928286878726105 AWS\n"
     ]
    },
    {
     "name": "stderr",
     "output_type": "stream",
     "text": [
      "<ipython-input-82-dcc1e2084555>:27: UserWarning: Boolean Series key will be reindexed to match DataFrame index.\n",
      "  df_hk = df[df.cmdb_id == host][df.name == kpi]\n",
      "<ipython-input-82-dcc1e2084555>:27: UserWarning: Boolean Series key will be reindexed to match DataFrame index.\n",
      "  df_hk = df[df.cmdb_id == host][df.name == kpi]\n",
      "<ipython-input-82-dcc1e2084555>:27: UserWarning: Boolean Series key will be reindexed to match DataFrame index.\n",
      "  df_hk = df[df.cmdb_id == host][df.name == kpi]\n",
      "<ipython-input-82-dcc1e2084555>:27: UserWarning: Boolean Series key will be reindexed to match DataFrame index.\n",
      "  df_hk = df[df.cmdb_id == host][df.name == kpi]\n"
     ]
    },
    {
     "name": "stdout",
     "output_type": "stream",
     "text": [
      "Threshold  1.5786485214649053 LFSync_Per_Sec\n",
      "[1 1 0 0 0 0 0 0 0 0 0 1 0 0 0 0 0 0 0 0 0 1 0 0 0 1 0 0 0 0]\n",
      "ST Threshold Anomaly!\n",
      "Threshold  0.5805511536752406 Proc_User_Used_Pct\n",
      "Threshold  11.253783238982715 AIOS\n",
      "Threshold  1.5647603556735037 ACS\n",
      "[0 0 0 0 1 0 1 0 0 0 0 0 0 0 0 0 0 0 0 0 0 0 1 0 1 0 0 0 0 0]\n",
      "ST Threshold Anomaly!\n",
      "Threshold  nan On_Off_State\n"
     ]
    },
    {
     "name": "stderr",
     "output_type": "stream",
     "text": [
      "<ipython-input-82-dcc1e2084555>:27: UserWarning: Boolean Series key will be reindexed to match DataFrame index.\n",
      "  df_hk = df[df.cmdb_id == host][df.name == kpi]\n",
      "<ipython-input-82-dcc1e2084555>:27: UserWarning: Boolean Series key will be reindexed to match DataFrame index.\n",
      "  df_hk = df[df.cmdb_id == host][df.name == kpi]\n",
      "<ipython-input-82-dcc1e2084555>:27: UserWarning: Boolean Series key will be reindexed to match DataFrame index.\n",
      "  df_hk = df[df.cmdb_id == host][df.name == kpi]\n",
      "<ipython-input-82-dcc1e2084555>:27: UserWarning: Boolean Series key will be reindexed to match DataFrame index.\n",
      "  df_hk = df[df.cmdb_id == host][df.name == kpi]\n",
      "<ipython-input-82-dcc1e2084555>:27: UserWarning: Boolean Series key will be reindexed to match DataFrame index.\n",
      "  df_hk = df[df.cmdb_id == host][df.name == kpi]\n"
     ]
    },
    {
     "name": "stdout",
     "output_type": "stream",
     "text": [
      "NaN, Skipping!\n",
      "Threshold  0.6373328827126384 DbTime\n",
      "[0 1 1 1 0 0 0 0 0 0 0 0 0 0 0 0 0 0 0 0 0 0 0 1 0 0 0 0 1 0]\n",
      "ST Threshold Anomaly!\n",
      "Threshold  4.087048891826467 Sess_Active\n",
      "Threshold  2.300377096191312 Physical_Read_Per_Sec\n",
      "[0 0 0 1 0 0 0 0 0 0 0 0 1 0 0 0 0 0 0 0 0 0 1 1 0 0 0 0 0 0]\n",
      "ST Threshold Anomaly!\n",
      "Threshold  0.5792051772793163 Call_Per_Sec\n",
      "Threshold  1.6647066704319071 Login_Per_Sec\n",
      "Threshold "
     ]
    },
    {
     "name": "stderr",
     "output_type": "stream",
     "text": [
      "<ipython-input-82-dcc1e2084555>:27: UserWarning: Boolean Series key will be reindexed to match DataFrame index.\n",
      "  df_hk = df[df.cmdb_id == host][df.name == kpi]\n",
      "<ipython-input-82-dcc1e2084555>:27: UserWarning: Boolean Series key will be reindexed to match DataFrame index.\n",
      "  df_hk = df[df.cmdb_id == host][df.name == kpi]\n",
      "<ipython-input-82-dcc1e2084555>:27: UserWarning: Boolean Series key will be reindexed to match DataFrame index.\n",
      "  df_hk = df[df.cmdb_id == host][df.name == kpi]\n",
      "<ipython-input-82-dcc1e2084555>:27: UserWarning: Boolean Series key will be reindexed to match DataFrame index.\n",
      "  df_hk = df[df.cmdb_id == host][df.name == kpi]\n",
      "<ipython-input-82-dcc1e2084555>:27: UserWarning: Boolean Series key will be reindexed to match DataFrame index.\n",
      "  df_hk = df[df.cmdb_id == host][df.name == kpi]\n"
     ]
    },
    {
     "name": "stdout",
     "output_type": "stream",
     "text": [
      " 16.93217762276151 User_Commit\n",
      "Threshold  0.5773754662124583 Sess_Connect\n",
      "Threshold  0.5728076744922821 Logic_Read_Per_Sec\n",
      "[1 1 1 1 0 0 0 0 0 0 1 1 1 0 0 0 0 0 0 0 0 0 1 1 1 1 1 1 1 1]\n",
      "ST Threshold Anomaly!\n",
      "Threshold  0.5792257601189681 TPS_Per_Sec\n",
      "Threshold  nan Hang\n",
      "NaN, Skipping!"
     ]
    },
    {
     "name": "stderr",
     "output_type": "stream",
     "text": [
      "<ipython-input-82-dcc1e2084555>:27: UserWarning: Boolean Series key will be reindexed to match DataFrame index.\n",
      "  df_hk = df[df.cmdb_id == host][df.name == kpi]\n",
      "<ipython-input-82-dcc1e2084555>:27: UserWarning: Boolean Series key will be reindexed to match DataFrame index.\n",
      "  df_hk = df[df.cmdb_id == host][df.name == kpi]\n",
      "<ipython-input-82-dcc1e2084555>:27: UserWarning: Boolean Series key will be reindexed to match DataFrame index.\n",
      "  df_hk = df[df.cmdb_id == host][df.name == kpi]\n",
      "<ipython-input-82-dcc1e2084555>:27: UserWarning: Boolean Series key will be reindexed to match DataFrame index.\n",
      "  df_hk = df[df.cmdb_id == host][df.name == kpi]\n",
      "<ipython-input-82-dcc1e2084555>:27: UserWarning: Boolean Series key will be reindexed to match DataFrame index.\n",
      "  df_hk = df[df.cmdb_id == host][df.name == kpi]\n"
     ]
    },
    {
     "name": "stdout",
     "output_type": "stream",
     "text": [
      "\n",
      "Threshold  0.5690702469021411 Redo_Per_Sec\n",
      "[1 1 1 0 0 0 0 0 0 0 1 1 0 0 0 0 0 0 0 0 0 0 0 0 1 1 1 1 1 1]\n",
      "ST Threshold Anomaly!\n",
      "Threshold  0.5593196202426217 Exec_Per_Sec\n",
      "[1 1 1 1 1 0 0 0 0 0 0 0 0 0 0 0 0 0 0 0 0 0 1 1 1 1 0 0 0 1]\n",
      "ST Threshold Anomaly!\n",
      "Threshold  -1.0 TempTbs_Pct\n",
      "Threshold  nan Total_Tbs_Size\n",
      "NaN, Skipping!"
     ]
    },
    {
     "name": "stderr",
     "output_type": "stream",
     "text": [
      "<ipython-input-82-dcc1e2084555>:27: UserWarning: Boolean Series key will be reindexed to match DataFrame index.\n",
      "  df_hk = df[df.cmdb_id == host][df.name == kpi]\n",
      "<ipython-input-82-dcc1e2084555>:27: UserWarning: Boolean Series key will be reindexed to match DataFrame index.\n",
      "  df_hk = df[df.cmdb_id == host][df.name == kpi]\n",
      "<ipython-input-82-dcc1e2084555>:27: UserWarning: Boolean Series key will be reindexed to match DataFrame index.\n",
      "  df_hk = df[df.cmdb_id == host][df.name == kpi]\n",
      "<ipython-input-82-dcc1e2084555>:27: UserWarning: Boolean Series key will be reindexed to match DataFrame index.\n",
      "  df_hk = df[df.cmdb_id == host][df.name == kpi]\n"
     ]
    },
    {
     "name": "stdout",
     "output_type": "stream",
     "text": [
      "\n",
      "Threshold  0.5650115546858426 New_Tbs_Free_Gb\n",
      "[1 0 0 0 0 0 0 0 0 0 0 0 0 0 0 0 0 0 0 1 1 1 1 1 1 1 1 1 1 1]\n",
      "ST Threshold Anomaly!\n",
      "Threshold  0.539434980990008 New_Tbs_Used_Pct\n",
      "[1 0 0 0 0 0 0 0 0 0 0 0 0 0 0 0 0 0 0 1 1 1 1 1 1 1 1 1 1 1]\n",
      "ST Threshold Anomaly!\n",
      "Threshold  nan Tbs_Used_Pct\n",
      "NaN, Skipping!\n",
      "Threshold  nan Tbs_Free_Gb\n",
      "NaN, Skipping!\n",
      "Threshold  0.5760130267827362 UndoTbs_Pct\n"
     ]
    },
    {
     "name": "stderr",
     "output_type": "stream",
     "text": [
      "<ipython-input-82-dcc1e2084555>:27: UserWarning: Boolean Series key will be reindexed to match DataFrame index.\n",
      "  df_hk = df[df.cmdb_id == host][df.name == kpi]\n",
      "<ipython-input-82-dcc1e2084555>:27: UserWarning: Boolean Series key will be reindexed to match DataFrame index.\n",
      "  df_hk = df[df.cmdb_id == host][df.name == kpi]\n",
      "<ipython-input-82-dcc1e2084555>:27: UserWarning: Boolean Series key will be reindexed to match DataFrame index.\n",
      "  df_hk = df[df.cmdb_id == host][df.name == kpi]\n",
      "<ipython-input-82-dcc1e2084555>:27: UserWarning: Boolean Series key will be reindexed to match DataFrame index.\n",
      "  df_hk = df[df.cmdb_id == host][df.name == kpi]\n"
     ]
    },
    {
     "name": "stdout",
     "output_type": "stream",
     "text": [
      "Threshold  0.6518365835412383 DbFile_Used_Pct\n",
      "No valid data to use, skipping\n",
      "db_006  completed in  2.497420072555542\n",
      "************************************************************\n",
      "Checking  db_007\n",
      "Threshold  0.5800512664145061 CPU_free_pct\n",
      "Threshold  0.5811228773050379 MEM_real_util\n",
      "Threshold  0.6214415588124989 tnsping_result_time\n",
      "[0 0 0 0 1 1 1 0 0 0 0 0 1 0 0 1 0 0 0 0 1 1 0 0 0 0 1 0 0 0]\n",
      "ST Threshold Anomaly!\n",
      "Threshold  1.0786592252093246 CPU_Used_Pct\n"
     ]
    },
    {
     "name": "stderr",
     "output_type": "stream",
     "text": [
      "<ipython-input-82-dcc1e2084555>:27: UserWarning: Boolean Series key will be reindexed to match DataFrame index.\n",
      "  df_hk = df[df.cmdb_id == host][df.name == kpi]\n",
      "<ipython-input-82-dcc1e2084555>:27: UserWarning: Boolean Series key will be reindexed to match DataFrame index.\n",
      "  df_hk = df[df.cmdb_id == host][df.name == kpi]\n",
      "<ipython-input-82-dcc1e2084555>:27: UserWarning: Boolean Series key will be reindexed to match DataFrame index.\n",
      "  df_hk = df[df.cmdb_id == host][df.name == kpi]\n",
      "<ipython-input-82-dcc1e2084555>:27: UserWarning: Boolean Series key will be reindexed to match DataFrame index.\n",
      "  df_hk = df[df.cmdb_id == host][df.name == kpi]\n"
     ]
    },
    {
     "name": "stdout",
     "output_type": "stream",
     "text": [
      "Threshold  0.5791782519122789 MEM_Used\n",
      "Threshold  nan MEM_Total\n",
      "NaN, Skipping!\n",
      "Threshold  0.5800229578561846 MEM_Used_Pct\n",
      "Threshold  0.5789432275268592 Used_Tbs_Size\n"
     ]
    },
    {
     "name": "stderr",
     "output_type": "stream",
     "text": [
      "<ipython-input-82-dcc1e2084555>:27: UserWarning: Boolean Series key will be reindexed to match DataFrame index.\n",
      "  df_hk = df[df.cmdb_id == host][df.name == kpi]\n",
      "<ipython-input-82-dcc1e2084555>:27: UserWarning: Boolean Series key will be reindexed to match DataFrame index.\n",
      "  df_hk = df[df.cmdb_id == host][df.name == kpi]\n",
      "<ipython-input-82-dcc1e2084555>:27: UserWarning: Boolean Series key will be reindexed to match DataFrame index.\n",
      "  df_hk = df[df.cmdb_id == host][df.name == kpi]\n",
      "<ipython-input-82-dcc1e2084555>:27: UserWarning: Boolean Series key will be reindexed to match DataFrame index.\n",
      "  df_hk = df[df.cmdb_id == host][df.name == kpi]\n"
     ]
    },
    {
     "name": "stdout",
     "output_type": "stream",
     "text": [
      "Threshold  nan SEQ_Used_Pct\n",
      "No valid data to use, skipping\n",
      "Threshold  nan Asm_Free_Tb\n",
      "NaN, Skipping!\n",
      "Threshold  nan PGA_used_total\n",
      "NaN, Skipping!\n",
      "Threshold  -1.0 Sess_Used_Undo\n",
      "Threshold  -1.0 Sess_Used_Temp\n"
     ]
    },
    {
     "name": "stderr",
     "output_type": "stream",
     "text": [
      "<ipython-input-82-dcc1e2084555>:27: UserWarning: Boolean Series key will be reindexed to match DataFrame index.\n",
      "  df_hk = df[df.cmdb_id == host][df.name == kpi]\n",
      "<ipython-input-82-dcc1e2084555>:27: UserWarning: Boolean Series key will be reindexed to match DataFrame index.\n",
      "  df_hk = df[df.cmdb_id == host][df.name == kpi]\n",
      "<ipython-input-82-dcc1e2084555>:27: UserWarning: Boolean Series key will be reindexed to match DataFrame index.\n",
      "  df_hk = df[df.cmdb_id == host][df.name == kpi]\n",
      "<ipython-input-82-dcc1e2084555>:27: UserWarning: Boolean Series key will be reindexed to match DataFrame index.\n",
      "  df_hk = df[df.cmdb_id == host][df.name == kpi]\n"
     ]
    },
    {
     "name": "stdout",
     "output_type": "stream",
     "text": [
      "Threshold  8.092339475028426 SctRead_Per_Sec\n",
      "Threshold  0.7911193049744203 SeqRead_Per_Sec\n",
      "[0 1 0 1 0 1 0 1 1 0 0 1 1 0 0 0 0 0 1 0 0 0 0 1 0 0 1 1 1 1]\n",
      "ST Threshold Anomaly!\n",
      "Threshold  0.8228520009747621 DFParaWrite_Per_Sec\n",
      "Threshold  -1.0 PGA_Used_Pct\n"
     ]
    },
    {
     "name": "stderr",
     "output_type": "stream",
     "text": [
      "<ipython-input-82-dcc1e2084555>:27: UserWarning: Boolean Series key will be reindexed to match DataFrame index.\n",
      "  df_hk = df[df.cmdb_id == host][df.name == kpi]\n",
      "/Users/baconbaker/anaconda3/envs/ml/lib/python3.8/site-packages/alibi_detect/od/sr.py:96: RuntimeWarning: divide by zero encountered in log\n",
      "  log_amp = np.log(amp)\n",
      "/Users/baconbaker/anaconda3/envs/ml/lib/python3.8/site-packages/alibi_detect/od/sr.py:99: RuntimeWarning: invalid value encountered in subtract\n",
      "  res_amp = log_amp - ma_log_amp\n",
      "/Users/baconbaker/anaconda3/envs/ml/lib/python3.8/site-packages/alibi_detect/od/sr.py:207: RuntimeWarning: invalid value encountered in greater\n",
      "  outlier_pred = (iscore > self.threshold).astype(int)\n",
      "<ipython-input-82-dcc1e2084555>:27: UserWarning: Boolean Series key will be reindexed to match DataFrame index.\n",
      "  df_hk = df[df.cmdb_id == host][df.name == kpi]\n",
      "<ipython-input-82-dcc1e2084555>:27: UserWarning: Boolean Series key will be reindexed to match DataFrame index.\n",
      "  df_hk = df[df.cmdb_id == host][df.name == kpi]\n",
      "<ipython-input-82-dcc1e2084555>:27: UserWarning: Boolean Series key will be reindexed to match DataFrame index.\n",
      "  df_hk = df[df.cmdb_id == host][df.name == kpi]\n"
     ]
    },
    {
     "name": "stdout",
     "output_type": "stream",
     "text": [
      "Threshold  -1.0 Row_Lock\n",
      "Threshold  0.5810043153976416 Proc_Used_Pct\n",
      "Threshold  6.531190771129595 Session_pct\n",
      "[0 0 0 0 0 0 0 0 0 0 0 0 0 0 0 0 0 0 0 0 0 0 0 1 0 0 0 0 0 0]\n",
      "ST Threshold Anomaly!\n",
      "Threshold  0.7265014682795161 LFParaWrite_Per_Sec\n",
      "Threshold  1.93659214762849 AWS\n",
      "Threshold  0.8473277843129325 LFSync_Per_Sec\n"
     ]
    },
    {
     "name": "stderr",
     "output_type": "stream",
     "text": [
      "<ipython-input-82-dcc1e2084555>:27: UserWarning: Boolean Series key will be reindexed to match DataFrame index.\n",
      "  df_hk = df[df.cmdb_id == host][df.name == kpi]\n",
      "<ipython-input-82-dcc1e2084555>:27: UserWarning: Boolean Series key will be reindexed to match DataFrame index.\n",
      "  df_hk = df[df.cmdb_id == host][df.name == kpi]\n",
      "<ipython-input-82-dcc1e2084555>:27: UserWarning: Boolean Series key will be reindexed to match DataFrame index.\n",
      "  df_hk = df[df.cmdb_id == host][df.name == kpi]\n",
      "<ipython-input-82-dcc1e2084555>:27: UserWarning: Boolean Series key will be reindexed to match DataFrame index.\n",
      "  df_hk = df[df.cmdb_id == host][df.name == kpi]\n",
      "<ipython-input-82-dcc1e2084555>:27: UserWarning: Boolean Series key will be reindexed to match DataFrame index.\n",
      "  df_hk = df[df.cmdb_id == host][df.name == kpi]\n",
      "<ipython-input-82-dcc1e2084555>:27: UserWarning: Boolean Series key will be reindexed to match DataFrame index.\n",
      "  df_hk = df[df.cmdb_id == host][df.name == kpi]\n"
     ]
    },
    {
     "name": "stdout",
     "output_type": "stream",
     "text": [
      "[0 0 0 0 1 0 0 0 0 0 0 0 0 0 0 0 0 0 0 0 0 0 0 0 1 0 0 0 0 0]\n",
      "ST Threshold Anomaly!\n",
      "Threshold  0.5810043153976416 Proc_User_Used_Pct\n",
      "Threshold  -1.0 AIOS\n",
      "Non-Zero Anomaly!\n",
      "Threshold  1.6970316797788725 ACS\n",
      "[0 0 0 1 0 0 0 0 0 0 0 0 0 0 0 0 0 1 0 0 0 0 1 0 0 0 0 0 0 0]\n",
      "ST Threshold Anomaly!\n",
      "Threshold  nan On_Off_State\n",
      "NaN, Skipping!\n",
      "Threshold  0.5829455135877291 DbTime\n"
     ]
    },
    {
     "name": "stderr",
     "output_type": "stream",
     "text": [
      "<ipython-input-82-dcc1e2084555>:27: UserWarning: Boolean Series key will be reindexed to match DataFrame index.\n",
      "  df_hk = df[df.cmdb_id == host][df.name == kpi]\n",
      "<ipython-input-82-dcc1e2084555>:27: UserWarning: Boolean Series key will be reindexed to match DataFrame index.\n",
      "  df_hk = df[df.cmdb_id == host][df.name == kpi]\n",
      "<ipython-input-82-dcc1e2084555>:27: UserWarning: Boolean Series key will be reindexed to match DataFrame index.\n",
      "  df_hk = df[df.cmdb_id == host][df.name == kpi]\n",
      "<ipython-input-82-dcc1e2084555>:27: UserWarning: Boolean Series key will be reindexed to match DataFrame index.\n",
      "  df_hk = df[df.cmdb_id == host][df.name == kpi]\n",
      "<ipython-input-82-dcc1e2084555>:27: UserWarning: Boolean Series key will be reindexed to match DataFrame index.\n",
      "  df_hk = df[df.cmdb_id == host][df.name == kpi]\n"
     ]
    },
    {
     "name": "stdout",
     "output_type": "stream",
     "text": [
      "[1 1 1 1 1 0 0 0 0 0 0 0 0 0 0 0 0 0 0 0 0 0 1 1 1 0 0 0 0 0]\n",
      "ST Threshold Anomaly!\n",
      "Threshold  1.7561475195384122 Sess_Active\n",
      "[0 0 0 1 0 0 0 0 0 0 0 0 0 0 0 0 0 0 0 0 0 0 0 1 0 0 0 0 0 0]\n",
      "ST Threshold Anomaly!\n",
      "Threshold  3.0797776413038997 Physical_Read_Per_Sec\n",
      "[0 0 0 1 0 0 0 0 0 0 0 0 0 0 0 0 0 0 0 0 0 0 0 1 0 0 0 0 0 0]\n",
      "ST Threshold Anomaly!\n",
      "Threshold  0.5609813345744753 Call_Per_Sec\n",
      "Threshold  0.6153237369202459 Login_Per_Sec\n"
     ]
    },
    {
     "name": "stderr",
     "output_type": "stream",
     "text": [
      "<ipython-input-82-dcc1e2084555>:27: UserWarning: Boolean Series key will be reindexed to match DataFrame index.\n",
      "  df_hk = df[df.cmdb_id == host][df.name == kpi]\n",
      "<ipython-input-82-dcc1e2084555>:27: UserWarning: Boolean Series key will be reindexed to match DataFrame index.\n",
      "  df_hk = df[df.cmdb_id == host][df.name == kpi]\n",
      "<ipython-input-82-dcc1e2084555>:27: UserWarning: Boolean Series key will be reindexed to match DataFrame index.\n",
      "  df_hk = df[df.cmdb_id == host][df.name == kpi]\n",
      "<ipython-input-82-dcc1e2084555>:27: UserWarning: Boolean Series key will be reindexed to match DataFrame index.\n",
      "  df_hk = df[df.cmdb_id == host][df.name == kpi]\n",
      "<ipython-input-82-dcc1e2084555>:27: UserWarning: Boolean Series key will be reindexed to match DataFrame index.\n",
      "  df_hk = df[df.cmdb_id == host][df.name == kpi]\n"
     ]
    },
    {
     "name": "stdout",
     "output_type": "stream",
     "text": [
      "Threshold  0.608546797145332 User_Commit\n",
      "Threshold  0.578880641009646 Sess_Connect\n",
      "Threshold  0.5613614328083549 Logic_Read_Per_Sec\n",
      "[1 1 1 1 1 0 0 0 0 0 0 0 0 0 0 0 0 0 0 0 0 0 1 1 1 0 0 0 0 0]\n",
      "ST Threshold Anomaly!\n",
      "Threshold  0.518356806188961 TPS_Per_Sec\n",
      "Threshold  nan Hang\n"
     ]
    },
    {
     "name": "stderr",
     "output_type": "stream",
     "text": [
      "<ipython-input-82-dcc1e2084555>:27: UserWarning: Boolean Series key will be reindexed to match DataFrame index.\n",
      "  df_hk = df[df.cmdb_id == host][df.name == kpi]\n",
      "<ipython-input-82-dcc1e2084555>:27: UserWarning: Boolean Series key will be reindexed to match DataFrame index.\n",
      "  df_hk = df[df.cmdb_id == host][df.name == kpi]\n",
      "<ipython-input-82-dcc1e2084555>:27: UserWarning: Boolean Series key will be reindexed to match DataFrame index.\n",
      "  df_hk = df[df.cmdb_id == host][df.name == kpi]\n",
      "<ipython-input-82-dcc1e2084555>:27: UserWarning: Boolean Series key will be reindexed to match DataFrame index.\n",
      "  df_hk = df[df.cmdb_id == host][df.name == kpi]\n",
      "<ipython-input-82-dcc1e2084555>:27: UserWarning: Boolean Series key will be reindexed to match DataFrame index.\n",
      "  df_hk = df[df.cmdb_id == host][df.name == kpi]\n"
     ]
    },
    {
     "name": "stdout",
     "output_type": "stream",
     "text": [
      "NaN, Skipping!\n",
      "Threshold  0.5773405219853615 Redo_Per_Sec\n",
      "Threshold  0.5488604482395554 Exec_Per_Sec\n",
      "[1 1 1 1 1 0 0 0 0 0 0 0 0 1 0 0 0 0 0 0 0 0 1 1 1 0 0 0 0 1]\n",
      "ST Threshold Anomaly!\n",
      "Threshold  -1.0 TempTbs_Pct\n",
      "Threshold  nan Total_Tbs_Size\n"
     ]
    },
    {
     "name": "stderr",
     "output_type": "stream",
     "text": [
      "<ipython-input-82-dcc1e2084555>:27: UserWarning: Boolean Series key will be reindexed to match DataFrame index.\n",
      "  df_hk = df[df.cmdb_id == host][df.name == kpi]\n",
      "<ipython-input-82-dcc1e2084555>:27: UserWarning: Boolean Series key will be reindexed to match DataFrame index.\n",
      "  df_hk = df[df.cmdb_id == host][df.name == kpi]\n",
      "<ipython-input-82-dcc1e2084555>:27: UserWarning: Boolean Series key will be reindexed to match DataFrame index.\n",
      "  df_hk = df[df.cmdb_id == host][df.name == kpi]\n",
      "<ipython-input-82-dcc1e2084555>:27: UserWarning: Boolean Series key will be reindexed to match DataFrame index.\n",
      "  df_hk = df[df.cmdb_id == host][df.name == kpi]\n"
     ]
    },
    {
     "name": "stdout",
     "output_type": "stream",
     "text": [
      "NaN, Skipping!\n",
      "Threshold  0.649081788264911 New_Tbs_Free_Gb\n",
      "Threshold  0.7356341761761014 New_Tbs_Used_Pct\n",
      "Threshold  nan Tbs_Used_Pct\n",
      "NaN, Skipping!\n",
      "Threshold  nan Tbs_Free_Gb\n"
     ]
    },
    {
     "name": "stderr",
     "output_type": "stream",
     "text": [
      "<ipython-input-82-dcc1e2084555>:27: UserWarning: Boolean Series key will be reindexed to match DataFrame index.\n",
      "  df_hk = df[df.cmdb_id == host][df.name == kpi]\n",
      "<ipython-input-82-dcc1e2084555>:27: UserWarning: Boolean Series key will be reindexed to match DataFrame index.\n",
      "  df_hk = df[df.cmdb_id == host][df.name == kpi]\n",
      "<ipython-input-82-dcc1e2084555>:27: UserWarning: Boolean Series key will be reindexed to match DataFrame index.\n",
      "  df_hk = df[df.cmdb_id == host][df.name == kpi]\n",
      "<ipython-input-82-dcc1e2084555>:27: UserWarning: Boolean Series key will be reindexed to match DataFrame index.\n",
      "  df_hk = df[df.cmdb_id == host][df.name == kpi]\n"
     ]
    },
    {
     "name": "stdout",
     "output_type": "stream",
     "text": [
      "NaN, Skipping!\n",
      "Threshold  0.5969388586013579 UndoTbs_Pct\n",
      "Threshold  0.6144483379636079 DbFile_Used_Pct\n",
      "No valid data to use, skipping\n",
      "db_007  completed in  2.484860897064209\n",
      "************************************************************\n",
      "Checking  db_004\n",
      "Threshold  0.5827472776738147 CPU_free_pct\n",
      "Threshold  0.5759566885288595 MEM_real_util\n",
      "Threshold  0.9133642560416864 tnsping_result_time\n",
      "Threshold  0.5695051056360142 CPU_Used_Pct\n"
     ]
    },
    {
     "name": "stderr",
     "output_type": "stream",
     "text": [
      "<ipython-input-82-dcc1e2084555>:27: UserWarning: Boolean Series key will be reindexed to match DataFrame index.\n",
      "  df_hk = df[df.cmdb_id == host][df.name == kpi]\n",
      "<ipython-input-82-dcc1e2084555>:27: UserWarning: Boolean Series key will be reindexed to match DataFrame index.\n",
      "  df_hk = df[df.cmdb_id == host][df.name == kpi]\n",
      "<ipython-input-82-dcc1e2084555>:27: UserWarning: Boolean Series key will be reindexed to match DataFrame index.\n",
      "  df_hk = df[df.cmdb_id == host][df.name == kpi]\n",
      "<ipython-input-82-dcc1e2084555>:27: UserWarning: Boolean Series key will be reindexed to match DataFrame index.\n",
      "  df_hk = df[df.cmdb_id == host][df.name == kpi]\n"
     ]
    },
    {
     "name": "stdout",
     "output_type": "stream",
     "text": [
      "[1 1 0 1 1 1 0 0 0 0 0 0 0 0 0 0 0 0 0 0 0 0 0 0 1 1 1 0 1 1]\n",
      "ST Threshold Anomaly!\n",
      "Threshold  0.5784000057144484 MEM_Used\n",
      "Threshold  nan MEM_Total\n",
      "NaN, Skipping!\n",
      "Threshold  0.5792122662125513 MEM_Used_Pct\n",
      "Threshold  0.5789477331045687 Used_Tbs_Size\n"
     ]
    },
    {
     "name": "stderr",
     "output_type": "stream",
     "text": [
      "<ipython-input-82-dcc1e2084555>:27: UserWarning: Boolean Series key will be reindexed to match DataFrame index.\n",
      "  df_hk = df[df.cmdb_id == host][df.name == kpi]\n",
      "<ipython-input-82-dcc1e2084555>:27: UserWarning: Boolean Series key will be reindexed to match DataFrame index.\n",
      "  df_hk = df[df.cmdb_id == host][df.name == kpi]\n",
      "<ipython-input-82-dcc1e2084555>:27: UserWarning: Boolean Series key will be reindexed to match DataFrame index.\n",
      "  df_hk = df[df.cmdb_id == host][df.name == kpi]\n",
      "<ipython-input-82-dcc1e2084555>:27: UserWarning: Boolean Series key will be reindexed to match DataFrame index.\n",
      "  df_hk = df[df.cmdb_id == host][df.name == kpi]\n"
     ]
    },
    {
     "name": "stdout",
     "output_type": "stream",
     "text": [
      "Threshold  nan SEQ_Used_Pct\n",
      "No valid data to use, skipping\n",
      "Threshold  nan Asm_Free_Tb\n",
      "NaN, Skipping!\n",
      "Threshold  nan PGA_used_total\n",
      "NaN, Skipping!\n",
      "Threshold  -1.0 Sess_Used_Undo\n",
      "Threshold "
     ]
    },
    {
     "name": "stderr",
     "output_type": "stream",
     "text": [
      "<ipython-input-82-dcc1e2084555>:27: UserWarning: Boolean Series key will be reindexed to match DataFrame index.\n",
      "  df_hk = df[df.cmdb_id == host][df.name == kpi]\n",
      "<ipython-input-82-dcc1e2084555>:27: UserWarning: Boolean Series key will be reindexed to match DataFrame index.\n",
      "  df_hk = df[df.cmdb_id == host][df.name == kpi]\n",
      "<ipython-input-82-dcc1e2084555>:27: UserWarning: Boolean Series key will be reindexed to match DataFrame index.\n",
      "  df_hk = df[df.cmdb_id == host][df.name == kpi]\n",
      "<ipython-input-82-dcc1e2084555>:27: UserWarning: Boolean Series key will be reindexed to match DataFrame index.\n",
      "  df_hk = df[df.cmdb_id == host][df.name == kpi]\n"
     ]
    },
    {
     "name": "stdout",
     "output_type": "stream",
     "text": [
      " -1.0 Sess_Used_Temp\n",
      "Threshold  -1.0 SctRead_Per_Sec\n",
      "Threshold  1.1243169325365088 SeqRead_Per_Sec\n",
      "Threshold  1.3571740157701768 DFParaWrite_Per_Sec\n"
     ]
    },
    {
     "name": "stderr",
     "output_type": "stream",
     "text": [
      "<ipython-input-82-dcc1e2084555>:27: UserWarning: Boolean Series key will be reindexed to match DataFrame index.\n",
      "  df_hk = df[df.cmdb_id == host][df.name == kpi]\n",
      "<ipython-input-82-dcc1e2084555>:27: UserWarning: Boolean Series key will be reindexed to match DataFrame index.\n",
      "  df_hk = df[df.cmdb_id == host][df.name == kpi]\n",
      "<ipython-input-82-dcc1e2084555>:27: UserWarning: Boolean Series key will be reindexed to match DataFrame index.\n",
      "  df_hk = df[df.cmdb_id == host][df.name == kpi]\n",
      "<ipython-input-82-dcc1e2084555>:27: UserWarning: Boolean Series key will be reindexed to match DataFrame index.\n",
      "  df_hk = df[df.cmdb_id == host][df.name == kpi]\n"
     ]
    },
    {
     "name": "stdout",
     "output_type": "stream",
     "text": [
      "Threshold  -1.0 PGA_Used_Pct\n",
      "Threshold  -1.0 Row_Lock\n",
      "Threshold  0.582160803922235 Proc_Used_Pct\n",
      "Threshold  4.2314034352924415 Session_pct\n"
     ]
    },
    {
     "name": "stderr",
     "output_type": "stream",
     "text": [
      "<ipython-input-82-dcc1e2084555>:27: UserWarning: Boolean Series key will be reindexed to match DataFrame index.\n",
      "  df_hk = df[df.cmdb_id == host][df.name == kpi]\n",
      "<ipython-input-82-dcc1e2084555>:27: UserWarning: Boolean Series key will be reindexed to match DataFrame index.\n",
      "  df_hk = df[df.cmdb_id == host][df.name == kpi]\n",
      "<ipython-input-82-dcc1e2084555>:27: UserWarning: Boolean Series key will be reindexed to match DataFrame index.\n",
      "  df_hk = df[df.cmdb_id == host][df.name == kpi]\n",
      "<ipython-input-82-dcc1e2084555>:27: UserWarning: Boolean Series key will be reindexed to match DataFrame index.\n",
      "  df_hk = df[df.cmdb_id == host][df.name == kpi]\n",
      "<ipython-input-82-dcc1e2084555>:27: UserWarning: Boolean Series key will be reindexed to match DataFrame index.\n",
      "  df_hk = df[df.cmdb_id == host][df.name == kpi]\n",
      "<ipython-input-82-dcc1e2084555>:27: UserWarning: Boolean Series key will be reindexed to match DataFrame index.\n",
      "  df_hk = df[df.cmdb_id == host][df.name == kpi]\n"
     ]
    },
    {
     "name": "stdout",
     "output_type": "stream",
     "text": [
      "Threshold  0.951238092771627 LFParaWrite_Per_Sec\n",
      "Threshold  2.605892071260476 AWS\n",
      "[0 0 0 0 0 0 0 0 0 0 0 1 0 0 0 0 0 0 0 0 0 0 0 0 1 0 0 0 1 0]\n",
      "ST Threshold Anomaly!\n",
      "Threshold  0.9516652981588796 LFSync_Per_Sec\n",
      "[0 1 1 1 0 0 0 1 0 0 0 0 0 0 0 0 0 0 0 0 0 0 0 1 0 0 0 1 0 0]\n",
      "ST Threshold Anomaly!\n",
      "Threshold  0.582160803922235 Proc_User_Used_Pct\n",
      "Threshold  7.201994385969112 AIOS\n"
     ]
    },
    {
     "name": "stderr",
     "output_type": "stream",
     "text": [
      "<ipython-input-82-dcc1e2084555>:27: UserWarning: Boolean Series key will be reindexed to match DataFrame index.\n",
      "  df_hk = df[df.cmdb_id == host][df.name == kpi]\n",
      "<ipython-input-82-dcc1e2084555>:27: UserWarning: Boolean Series key will be reindexed to match DataFrame index.\n",
      "  df_hk = df[df.cmdb_id == host][df.name == kpi]\n",
      "<ipython-input-82-dcc1e2084555>:27: UserWarning: Boolean Series key will be reindexed to match DataFrame index.\n",
      "  df_hk = df[df.cmdb_id == host][df.name == kpi]\n",
      "<ipython-input-82-dcc1e2084555>:27: UserWarning: Boolean Series key will be reindexed to match DataFrame index.\n",
      "  df_hk = df[df.cmdb_id == host][df.name == kpi]\n"
     ]
    },
    {
     "name": "stdout",
     "output_type": "stream",
     "text": [
      "Threshold  2.478030944607055 ACS\n",
      "[0 0 0 0 0 0 0 0 0 0 0 1 0 0 0 0 0 0 0 0 0 0 0 0 1 0 0 0 0 0]\n",
      "ST Threshold Anomaly!\n",
      "Threshold  nan On_Off_State\n",
      "NaN, Skipping!\n",
      "Threshold  0.5367844189841794 DbTime\n",
      "[1 1 1 1 1 1 0 0 0 0 0 0 0 0 0 0 0 0 0 0 0 0 0 0 1 1 1 1 1 1]\n",
      "ST Threshold Anomaly!\n",
      "Threshold  2.5843630175385663 Sess_Active\n",
      "Threshold  0.9255518435157928 Physical_Read_Per_Sec\n"
     ]
    },
    {
     "name": "stderr",
     "output_type": "stream",
     "text": [
      "<ipython-input-82-dcc1e2084555>:27: UserWarning: Boolean Series key will be reindexed to match DataFrame index.\n",
      "  df_hk = df[df.cmdb_id == host][df.name == kpi]\n",
      "<ipython-input-82-dcc1e2084555>:27: UserWarning: Boolean Series key will be reindexed to match DataFrame index.\n",
      "  df_hk = df[df.cmdb_id == host][df.name == kpi]\n",
      "<ipython-input-82-dcc1e2084555>:27: UserWarning: Boolean Series key will be reindexed to match DataFrame index.\n",
      "  df_hk = df[df.cmdb_id == host][df.name == kpi]\n",
      "<ipython-input-82-dcc1e2084555>:27: UserWarning: Boolean Series key will be reindexed to match DataFrame index.\n",
      "  df_hk = df[df.cmdb_id == host][df.name == kpi]\n",
      "<ipython-input-82-dcc1e2084555>:27: UserWarning: Boolean Series key will be reindexed to match DataFrame index.\n",
      "  df_hk = df[df.cmdb_id == host][df.name == kpi]\n"
     ]
    },
    {
     "name": "stdout",
     "output_type": "stream",
     "text": [
      "[0 0 0 1 1 1 0 0 0 0 0 0 0 1 1 0 0 0 0 0 0 0 0 1 1 1 0 0 0 0]\n",
      "ST Threshold Anomaly!\n",
      "Threshold  0.5857070292140943 Call_Per_Sec\n",
      "[1 1 1 1 0 0 0 0 0 0 0 0 0 0 0 0 0 0 0 0 0 0 0 0 1 1 1 1 1 1]\n",
      "ST Threshold Anomaly!\n",
      "Threshold  0.8193811454669905 Login_Per_Sec\n",
      "[1 1 1 0 0 0 0 0 0 0 0 0 0 0 0 0 0 0 0 0 0 0 0 0 1 1 1 1 1 1]\n",
      "ST Threshold Anomaly!\n",
      "Threshold  0.5562420900718388 User_Commit\n",
      "Threshold  0.5830417270161454 Sess_Connect\n",
      "Threshold  0.6042314519597412 Logic_Read_Per_Sec\n"
     ]
    },
    {
     "name": "stderr",
     "output_type": "stream",
     "text": [
      "<ipython-input-82-dcc1e2084555>:27: UserWarning: Boolean Series key will be reindexed to match DataFrame index.\n",
      "  df_hk = df[df.cmdb_id == host][df.name == kpi]\n",
      "<ipython-input-82-dcc1e2084555>:27: UserWarning: Boolean Series key will be reindexed to match DataFrame index.\n",
      "  df_hk = df[df.cmdb_id == host][df.name == kpi]\n",
      "<ipython-input-82-dcc1e2084555>:27: UserWarning: Boolean Series key will be reindexed to match DataFrame index.\n",
      "  df_hk = df[df.cmdb_id == host][df.name == kpi]\n",
      "<ipython-input-82-dcc1e2084555>:27: UserWarning: Boolean Series key will be reindexed to match DataFrame index.\n",
      "  df_hk = df[df.cmdb_id == host][df.name == kpi]\n"
     ]
    },
    {
     "name": "stdout",
     "output_type": "stream",
     "text": [
      "Threshold  0.5966583537240352 TPS_Per_Sec\n",
      "Threshold  nan Hang\n",
      "NaN, Skipping!\n",
      "Threshold  0.5793591063293528 Redo_Per_Sec\n",
      "[1 1 1 1 0 0 0 0 0 0 0 0 0 0 0 0 0 0 0 0 0 0 0 0 1 1 1 1 1 1]\n",
      "ST Threshold Anomaly!\n",
      "Threshold  0.53048993548513 Exec_Per_Sec\n",
      "[1 1 1 1 1 1 0 0 0 0 0 0 0 0 0 0 0 0 0 0 0 0 0 1 1 1 1 1 1 1]\n",
      "ST Threshold Anomaly!\n",
      "Threshold  -1.0 TempTbs_Pct\n"
     ]
    },
    {
     "name": "stderr",
     "output_type": "stream",
     "text": [
      "<ipython-input-82-dcc1e2084555>:27: UserWarning: Boolean Series key will be reindexed to match DataFrame index.\n",
      "  df_hk = df[df.cmdb_id == host][df.name == kpi]\n",
      "<ipython-input-82-dcc1e2084555>:27: UserWarning: Boolean Series key will be reindexed to match DataFrame index.\n",
      "  df_hk = df[df.cmdb_id == host][df.name == kpi]\n",
      "<ipython-input-82-dcc1e2084555>:27: UserWarning: Boolean Series key will be reindexed to match DataFrame index.\n",
      "  df_hk = df[df.cmdb_id == host][df.name == kpi]\n",
      "<ipython-input-82-dcc1e2084555>:27: UserWarning: Boolean Series key will be reindexed to match DataFrame index.\n",
      "  df_hk = df[df.cmdb_id == host][df.name == kpi]\n"
     ]
    },
    {
     "name": "stdout",
     "output_type": "stream",
     "text": [
      "Threshold  nan Total_Tbs_Size\n",
      "NaN, Skipping!\n",
      "Threshold  0.5639272618178994 New_Tbs_Free_Gb\n",
      "[0 0 0 0 0 0 0 0 0 0 0 0 0 0 0 0 0 0 0 0 1 1 1 1 1 1 1 1 1 1]\n",
      "ST Threshold Anomaly!\n",
      "Threshold  0.7690826818593948 New_Tbs_Used_Pct\n"
     ]
    },
    {
     "name": "stderr",
     "output_type": "stream",
     "text": [
      "<ipython-input-82-dcc1e2084555>:27: UserWarning: Boolean Series key will be reindexed to match DataFrame index.\n",
      "  df_hk = df[df.cmdb_id == host][df.name == kpi]\n",
      "<ipython-input-82-dcc1e2084555>:27: UserWarning: Boolean Series key will be reindexed to match DataFrame index.\n",
      "  df_hk = df[df.cmdb_id == host][df.name == kpi]\n",
      "<ipython-input-82-dcc1e2084555>:27: UserWarning: Boolean Series key will be reindexed to match DataFrame index.\n",
      "  df_hk = df[df.cmdb_id == host][df.name == kpi]\n"
     ]
    },
    {
     "name": "stdout",
     "output_type": "stream",
     "text": [
      "Threshold  nan Tbs_Used_Pct\n",
      "NaN, Skipping!\n",
      "Threshold  nan Tbs_Free_Gb\n",
      "NaN, Skipping!\n",
      "Threshold  0.5829968897868512 UndoTbs_Pct\n",
      "Threshold  0.6161820264611209 DbFile_Used_Pct\n"
     ]
    },
    {
     "name": "stderr",
     "output_type": "stream",
     "text": [
      "<ipython-input-82-dcc1e2084555>:27: UserWarning: Boolean Series key will be reindexed to match DataFrame index.\n",
      "  df_hk = df[df.cmdb_id == host][df.name == kpi]\n",
      "<ipython-input-82-dcc1e2084555>:27: UserWarning: Boolean Series key will be reindexed to match DataFrame index.\n",
      "  df_hk = df[df.cmdb_id == host][df.name == kpi]\n",
      "<ipython-input-82-dcc1e2084555>:27: UserWarning: Boolean Series key will be reindexed to match DataFrame index.\n",
      "  df_hk = df[df.cmdb_id == host][df.name == kpi]\n",
      "<ipython-input-82-dcc1e2084555>:27: UserWarning: Boolean Series key will be reindexed to match DataFrame index.\n",
      "  df_hk = df[df.cmdb_id == host][df.name == kpi]\n"
     ]
    },
    {
     "name": "stdout",
     "output_type": "stream",
     "text": [
      "No valid data to use, skipping\n",
      "db_004  completed in  2.4953982830047607\n",
      "************************************************************\n",
      "Checking  db_002\n",
      "Threshold  0.5828861582436436 CPU_free_pct\n",
      "Threshold  0.5785563114744137 MEM_real_util\n",
      "Threshold  0.681453440265619 tnsping_result_time\n",
      "[1 0 0 0 1 0 1 0 0 0 1 0 1 0 1 1 0 1 0 0 0 0 0 0 1 0 0 0 0 0]\n",
      "ST Threshold Anomaly!\n",
      "Threshold  0.7142337888517808 CPU_Used_Pct\n"
     ]
    },
    {
     "name": "stderr",
     "output_type": "stream",
     "text": [
      "<ipython-input-82-dcc1e2084555>:27: UserWarning: Boolean Series key will be reindexed to match DataFrame index.\n",
      "  df_hk = df[df.cmdb_id == host][df.name == kpi]\n",
      "<ipython-input-82-dcc1e2084555>:27: UserWarning: Boolean Series key will be reindexed to match DataFrame index.\n",
      "  df_hk = df[df.cmdb_id == host][df.name == kpi]\n",
      "<ipython-input-82-dcc1e2084555>:27: UserWarning: Boolean Series key will be reindexed to match DataFrame index.\n",
      "  df_hk = df[df.cmdb_id == host][df.name == kpi]\n",
      "<ipython-input-82-dcc1e2084555>:27: UserWarning: Boolean Series key will be reindexed to match DataFrame index.\n",
      "  df_hk = df[df.cmdb_id == host][df.name == kpi]\n",
      "<ipython-input-82-dcc1e2084555>:27: UserWarning: Boolean Series key will be reindexed to match DataFrame index.\n",
      "  df_hk = df[df.cmdb_id == host][df.name == kpi]\n"
     ]
    },
    {
     "name": "stdout",
     "output_type": "stream",
     "text": [
      "[1 1 0 1 1 0 0 0 0 0 0 0 0 0 0 0 0 0 0 0 0 0 0 0 1 1 0 0 1 1]\n",
      "ST Threshold Anomaly!\n",
      "Threshold  0.5789505131809778 MEM_Used\n",
      "Threshold  nan MEM_Total\n",
      "NaN, Skipping!\n",
      "Threshold  0.5782647037016581 MEM_Used_Pct\n",
      "Threshold  0.5789498287134384 Used_Tbs_Size\n"
     ]
    },
    {
     "name": "stderr",
     "output_type": "stream",
     "text": [
      "<ipython-input-82-dcc1e2084555>:27: UserWarning: Boolean Series key will be reindexed to match DataFrame index.\n",
      "  df_hk = df[df.cmdb_id == host][df.name == kpi]\n",
      "<ipython-input-82-dcc1e2084555>:27: UserWarning: Boolean Series key will be reindexed to match DataFrame index.\n",
      "  df_hk = df[df.cmdb_id == host][df.name == kpi]\n",
      "<ipython-input-82-dcc1e2084555>:27: UserWarning: Boolean Series key will be reindexed to match DataFrame index.\n",
      "  df_hk = df[df.cmdb_id == host][df.name == kpi]\n",
      "<ipython-input-82-dcc1e2084555>:27: UserWarning: Boolean Series key will be reindexed to match DataFrame index.\n",
      "  df_hk = df[df.cmdb_id == host][df.name == kpi]\n",
      "<ipython-input-82-dcc1e2084555>:27: UserWarning: Boolean Series key will be reindexed to match DataFrame index.\n",
      "  df_hk = df[df.cmdb_id == host][df.name == kpi]\n",
      "/Users/baconbaker/anaconda3/envs/ml/lib/python3.8/site-packages/alibi_detect/od/sr.py:96: RuntimeWarning: divide by zero encountered in log\n",
      "  log_amp = np.log(amp)\n"
     ]
    },
    {
     "name": "stdout",
     "output_type": "stream",
     "text": [
      "Threshold  nan SEQ_Used_Pct\n",
      "No valid data to use, skipping\n",
      "Threshold  nan Asm_Free_Tb\n",
      "NaN, Skipping!\n",
      "Threshold  nan PGA_used_total\n",
      "NaN, Skipping!\n",
      "Threshold  1.6800571944917029 Sess_Used_Undo\n",
      "Threshold  -1.0 Sess_Used_Temp\n",
      "Threshold "
     ]
    },
    {
     "name": "stderr",
     "output_type": "stream",
     "text": [
      "/Users/baconbaker/anaconda3/envs/ml/lib/python3.8/site-packages/alibi_detect/od/sr.py:99: RuntimeWarning: invalid value encountered in subtract\n",
      "  res_amp = log_amp - ma_log_amp\n",
      "/Users/baconbaker/anaconda3/envs/ml/lib/python3.8/site-packages/alibi_detect/od/sr.py:207: RuntimeWarning: invalid value encountered in greater\n",
      "  outlier_pred = (iscore > self.threshold).astype(int)\n",
      "<ipython-input-82-dcc1e2084555>:27: UserWarning: Boolean Series key will be reindexed to match DataFrame index.\n",
      "  df_hk = df[df.cmdb_id == host][df.name == kpi]\n",
      "<ipython-input-82-dcc1e2084555>:27: UserWarning: Boolean Series key will be reindexed to match DataFrame index.\n",
      "  df_hk = df[df.cmdb_id == host][df.name == kpi]\n",
      "/Users/baconbaker/anaconda3/envs/ml/lib/python3.8/site-packages/alibi_detect/od/sr.py:96: RuntimeWarning: divide by zero encountered in log\n",
      "  log_amp = np.log(amp)\n",
      "/Users/baconbaker/anaconda3/envs/ml/lib/python3.8/site-packages/alibi_detect/od/sr.py:99: RuntimeWarning: invalid value encountered in subtract\n",
      "  res_amp = log_amp - ma_log_amp\n",
      "/Users/baconbaker/anaconda3/envs/ml/lib/python3.8/site-packages/alibi_detect/od/sr.py:207: RuntimeWarning: invalid value encountered in greater\n",
      "  outlier_pred = (iscore > self.threshold).astype(int)\n",
      "<ipython-input-82-dcc1e2084555>:27: UserWarning: Boolean Series key will be reindexed to match DataFrame index.\n",
      "  df_hk = df[df.cmdb_id == host][df.name == kpi]\n",
      "<ipython-input-82-dcc1e2084555>:27: UserWarning: Boolean Series key will be reindexed to match DataFrame index.\n",
      "  df_hk = df[df.cmdb_id == host][df.name == kpi]\n"
     ]
    },
    {
     "name": "stdout",
     "output_type": "stream",
     "text": [
      " 0.5748526997059498 SctRead_Per_Sec\n",
      "Threshold  1.4827739484713824 SeqRead_Per_Sec\n",
      "[0 0 0 1 0 0 0 1 1 0 0 0 0 0 0 0 0 0 0 0 0 0 0 1 0 0 0 0 0 1]\n",
      "ST Threshold Anomaly!\n",
      "Threshold  0.9299141276506918 DFParaWrite_Per_Sec\n",
      "Threshold  -1.0 PGA_Used_Pct\n"
     ]
    },
    {
     "name": "stderr",
     "output_type": "stream",
     "text": [
      "<ipython-input-82-dcc1e2084555>:27: UserWarning: Boolean Series key will be reindexed to match DataFrame index.\n",
      "  df_hk = df[df.cmdb_id == host][df.name == kpi]\n",
      "<ipython-input-82-dcc1e2084555>:27: UserWarning: Boolean Series key will be reindexed to match DataFrame index.\n",
      "  df_hk = df[df.cmdb_id == host][df.name == kpi]\n",
      "<ipython-input-82-dcc1e2084555>:27: UserWarning: Boolean Series key will be reindexed to match DataFrame index.\n",
      "  df_hk = df[df.cmdb_id == host][df.name == kpi]\n",
      "<ipython-input-82-dcc1e2084555>:27: UserWarning: Boolean Series key will be reindexed to match DataFrame index.\n",
      "  df_hk = df[df.cmdb_id == host][df.name == kpi]\n"
     ]
    },
    {
     "name": "stdout",
     "output_type": "stream",
     "text": [
      "Threshold  -1.0 Row_Lock\n",
      "Threshold  0.5805824159586415 Proc_Used_Pct\n",
      "Threshold  3.4606411900444867 Session_pct\n",
      "Threshold  0.9374740405673474 LFParaWrite_Per_Sec\n",
      "[0 0 0 0 0 0 0 0 0 0 0 0 0 0 0 1 0 0 0 0 1 0 0 0 0 1 0 0 0 0]\n",
      "ST Threshold Anomaly!\n",
      "Threshold  2.4072806744863566 AWS\n"
     ]
    },
    {
     "name": "stderr",
     "output_type": "stream",
     "text": [
      "<ipython-input-82-dcc1e2084555>:27: UserWarning: Boolean Series key will be reindexed to match DataFrame index.\n",
      "  df_hk = df[df.cmdb_id == host][df.name == kpi]\n",
      "<ipython-input-82-dcc1e2084555>:27: UserWarning: Boolean Series key will be reindexed to match DataFrame index.\n",
      "  df_hk = df[df.cmdb_id == host][df.name == kpi]\n",
      "<ipython-input-82-dcc1e2084555>:27: UserWarning: Boolean Series key will be reindexed to match DataFrame index.\n",
      "  df_hk = df[df.cmdb_id == host][df.name == kpi]\n",
      "<ipython-input-82-dcc1e2084555>:27: UserWarning: Boolean Series key will be reindexed to match DataFrame index.\n",
      "  df_hk = df[df.cmdb_id == host][df.name == kpi]\n"
     ]
    },
    {
     "name": "stdout",
     "output_type": "stream",
     "text": [
      "Threshold  0.971412109221832 LFSync_Per_Sec\n",
      "[1 0 0 0 0 1 0 0 0 0 0 0 0 0 0 0 0 0 0 0 1 0 0 0 0 0 0 0 0 0]\n",
      "ST Threshold Anomaly!\n",
      "Threshold  0.5796968163527172 Proc_User_Used_Pct\n",
      "Threshold  1.952143601582708 AIOS\n",
      "[0 0 0 0 0 0 0 0 0 0 0 0 0 0 0 0 0 0 0 0 0 0 1 1 1 0 0 0 0 0]\n",
      "ST Threshold Anomaly!\n",
      "Threshold  1.7677409810232243 ACS\n"
     ]
    },
    {
     "name": "stderr",
     "output_type": "stream",
     "text": [
      "<ipython-input-82-dcc1e2084555>:27: UserWarning: Boolean Series key will be reindexed to match DataFrame index.\n",
      "  df_hk = df[df.cmdb_id == host][df.name == kpi]\n",
      "<ipython-input-82-dcc1e2084555>:27: UserWarning: Boolean Series key will be reindexed to match DataFrame index.\n",
      "  df_hk = df[df.cmdb_id == host][df.name == kpi]\n",
      "<ipython-input-82-dcc1e2084555>:27: UserWarning: Boolean Series key will be reindexed to match DataFrame index.\n",
      "  df_hk = df[df.cmdb_id == host][df.name == kpi]\n",
      "<ipython-input-82-dcc1e2084555>:27: UserWarning: Boolean Series key will be reindexed to match DataFrame index.\n",
      "  df_hk = df[df.cmdb_id == host][df.name == kpi]\n",
      "<ipython-input-82-dcc1e2084555>:27: UserWarning: Boolean Series key will be reindexed to match DataFrame index.\n",
      "  df_hk = df[df.cmdb_id == host][df.name == kpi]\n"
     ]
    },
    {
     "name": "stdout",
     "output_type": "stream",
     "text": [
      "Threshold  nan On_Off_State\n",
      "NaN, Skipping!\n",
      "Threshold  0.5294945426010638 DbTime\n",
      "[0 0 1 1 1 0 1 0 0 0 0 0 0 0 0 0 0 0 0 0 0 0 1 1 1 0 1 0 1 0]\n",
      "ST Threshold Anomaly!\n",
      "Threshold  3.0007796630311896 Sess_Active\n",
      "Threshold  5.759384630037665 Physical_Read_Per_Sec\n"
     ]
    },
    {
     "name": "stderr",
     "output_type": "stream",
     "text": [
      "<ipython-input-82-dcc1e2084555>:27: UserWarning: Boolean Series key will be reindexed to match DataFrame index.\n",
      "  df_hk = df[df.cmdb_id == host][df.name == kpi]\n",
      "<ipython-input-82-dcc1e2084555>:27: UserWarning: Boolean Series key will be reindexed to match DataFrame index.\n",
      "  df_hk = df[df.cmdb_id == host][df.name == kpi]\n",
      "<ipython-input-82-dcc1e2084555>:27: UserWarning: Boolean Series key will be reindexed to match DataFrame index.\n",
      "  df_hk = df[df.cmdb_id == host][df.name == kpi]\n",
      "/Users/baconbaker/anaconda3/envs/ml/lib/python3.8/site-packages/alibi_detect/od/sr.py:96: RuntimeWarning: divide by zero encountered in log\n",
      "  log_amp = np.log(amp)\n",
      "/Users/baconbaker/anaconda3/envs/ml/lib/python3.8/site-packages/alibi_detect/od/sr.py:99: RuntimeWarning: invalid value encountered in subtract\n",
      "  res_amp = log_amp - ma_log_amp\n",
      "/Users/baconbaker/anaconda3/envs/ml/lib/python3.8/site-packages/alibi_detect/od/sr.py:207: RuntimeWarning: invalid value encountered in greater\n",
      "  outlier_pred = (iscore > self.threshold).astype(int)\n",
      "<ipython-input-82-dcc1e2084555>:27: UserWarning: Boolean Series key will be reindexed to match DataFrame index.\n",
      "  df_hk = df[df.cmdb_id == host][df.name == kpi]\n",
      "<ipython-input-82-dcc1e2084555>:27: UserWarning: Boolean Series key will be reindexed to match DataFrame index.\n",
      "  df_hk = df[df.cmdb_id == host][df.name == kpi]\n"
     ]
    },
    {
     "name": "stdout",
     "output_type": "stream",
     "text": [
      "[0 0 0 0 0 0 0 0 0 0 0 0 0 0 0 0 0 0 0 0 0 0 0 1 0 0 0 0 0 0]\n",
      "ST Threshold Anomaly!\n",
      "Threshold  0.5950391720785742 Call_Per_Sec\n",
      "Threshold  2.5172056740854853 Login_Per_Sec\n",
      "Threshold  0.555729041420721 User_Commit\n",
      "[1 0 1 0 1 0 0 0 0 0 0 1 0 0 0 0 0 0 0 0 0 0 0 0 1 0 1 0 1 1]\n",
      "ST Threshold Anomaly!\n",
      "Threshold  0.5769241227346337 Sess_Connect\n",
      "Threshold  0.553901330912455 Logic_Read_Per_Sec\n"
     ]
    },
    {
     "name": "stderr",
     "output_type": "stream",
     "text": [
      "<ipython-input-82-dcc1e2084555>:27: UserWarning: Boolean Series key will be reindexed to match DataFrame index.\n",
      "  df_hk = df[df.cmdb_id == host][df.name == kpi]\n",
      "<ipython-input-82-dcc1e2084555>:27: UserWarning: Boolean Series key will be reindexed to match DataFrame index.\n",
      "  df_hk = df[df.cmdb_id == host][df.name == kpi]\n",
      "<ipython-input-82-dcc1e2084555>:27: UserWarning: Boolean Series key will be reindexed to match DataFrame index.\n",
      "  df_hk = df[df.cmdb_id == host][df.name == kpi]\n",
      "<ipython-input-82-dcc1e2084555>:27: UserWarning: Boolean Series key will be reindexed to match DataFrame index.\n",
      "  df_hk = df[df.cmdb_id == host][df.name == kpi]\n"
     ]
    },
    {
     "name": "stdout",
     "output_type": "stream",
     "text": [
      "[0 1 1 1 1 0 0 0 0 0 0 0 0 0 0 0 0 0 0 0 0 0 1 1 1 1 1 1 0 0]\n",
      "ST Threshold Anomaly!\n",
      "Threshold  0.6267450447546843 TPS_Per_Sec\n",
      "Threshold  nan Hang\n",
      "NaN, Skipping!\n",
      "Threshold  0.5750249208575231 Redo_Per_Sec\n",
      "Threshold  0.5164178024667216 Exec_Per_Sec\n",
      "[1 1 1 1 1 0 0 0 0 0 0 0 0 0 0 0 0 0 0 0 0 0 1 1 1 1 1 1 1 1]\n",
      "ST Threshold Anomaly!\n",
      "Threshold  -1.0 TempTbs_Pct\n"
     ]
    },
    {
     "name": "stderr",
     "output_type": "stream",
     "text": [
      "<ipython-input-82-dcc1e2084555>:27: UserWarning: Boolean Series key will be reindexed to match DataFrame index.\n",
      "  df_hk = df[df.cmdb_id == host][df.name == kpi]\n",
      "<ipython-input-82-dcc1e2084555>:27: UserWarning: Boolean Series key will be reindexed to match DataFrame index.\n",
      "  df_hk = df[df.cmdb_id == host][df.name == kpi]\n",
      "<ipython-input-82-dcc1e2084555>:27: UserWarning: Boolean Series key will be reindexed to match DataFrame index.\n",
      "  df_hk = df[df.cmdb_id == host][df.name == kpi]\n",
      "<ipython-input-82-dcc1e2084555>:27: UserWarning: Boolean Series key will be reindexed to match DataFrame index.\n",
      "  df_hk = df[df.cmdb_id == host][df.name == kpi]\n",
      "<ipython-input-82-dcc1e2084555>:27: UserWarning: Boolean Series key will be reindexed to match DataFrame index.\n",
      "  df_hk = df[df.cmdb_id == host][df.name == kpi]\n"
     ]
    },
    {
     "name": "stdout",
     "output_type": "stream",
     "text": [
      "Threshold  nan Total_Tbs_Size\n",
      "NaN, Skipping!\n",
      "Threshold  0.616410013027399 New_Tbs_Free_Gb\n",
      "[1 1 1 1 1 0 0 0 0 0 0 0 0 0 0 0 0 0 0 0 1 1 1 1 1 1 1 1 1 1]\n",
      "ST Threshold Anomaly!\n",
      "Threshold  0.6032372784288911 New_Tbs_Used_Pct\n",
      "Threshold  nan Tbs_Used_Pct\n",
      "NaN, Skipping!\n",
      "Threshold  0.5642109731766555 Tbs_Free_Gb\n",
      "Threshold  0.5796991798804695 UndoTbs_Pct\n",
      "Threshold  0.6309148597240504 DbFile_Used_Pct\n"
     ]
    },
    {
     "name": "stderr",
     "output_type": "stream",
     "text": [
      "<ipython-input-82-dcc1e2084555>:27: UserWarning: Boolean Series key will be reindexed to match DataFrame index.\n",
      "  df_hk = df[df.cmdb_id == host][df.name == kpi]\n",
      "<ipython-input-82-dcc1e2084555>:27: UserWarning: Boolean Series key will be reindexed to match DataFrame index.\n",
      "  df_hk = df[df.cmdb_id == host][df.name == kpi]\n",
      "<ipython-input-82-dcc1e2084555>:27: UserWarning: Boolean Series key will be reindexed to match DataFrame index.\n",
      "  df_hk = df[df.cmdb_id == host][df.name == kpi]\n",
      "<ipython-input-82-dcc1e2084555>:27: UserWarning: Boolean Series key will be reindexed to match DataFrame index.\n",
      "  df_hk = df[df.cmdb_id == host][df.name == kpi]\n",
      "<ipython-input-82-dcc1e2084555>:27: UserWarning: Boolean Series key will be reindexed to match DataFrame index.\n",
      "  df_hk = df[df.cmdb_id == host][df.name == kpi]\n",
      "<ipython-input-82-dcc1e2084555>:27: UserWarning: Boolean Series key will be reindexed to match DataFrame index.\n",
      "  df_hk = df[df.cmdb_id == host][df.name == kpi]\n",
      "<ipython-input-82-dcc1e2084555>:27: UserWarning: Boolean Series key will be reindexed to match DataFrame index.\n",
      "  df_hk = df[df.cmdb_id == host][df.name == kpi]\n"
     ]
    },
    {
     "name": "stdout",
     "output_type": "stream",
     "text": [
      "No valid data to use, skipping\n",
      "db_002  completed in  2.5372650623321533\n",
      "************************************************************\n",
      "Checking  db_001\n",
      "Threshold  0.582825470079294 CPU_free_pct\n",
      "Threshold  0.578778239234806 MEM_real_util\n",
      "Threshold  0.6049064962834887 tnsping_result_time\n",
      "[0 1 0 0 0 1 1 1 0 0 0 0 0 0 0 0 0 0 0 1 1 1 1 0 0 0 1 1 0 0]\n",
      "ST Threshold Anomaly!\n",
      "Threshold  0.6139114284395834 CPU_Used_Pct\n",
      "[1 1 1 1 1 0 0 0 0 0 0 0 0 0 0 0 0 0 0 0 0 0 0 1 0 0 1 1 1 1]\n",
      "ST Threshold Anomaly!\n",
      "Threshold  0.5791047255213382 MEM_Used\n",
      "Threshold  nan MEM_Total\n",
      "NaN, Skipping!\n",
      "Threshold  0.5809657472097358 MEM_Used_Pct\n",
      "Threshold  0.5789441451433037 Used_Tbs_Size\n"
     ]
    },
    {
     "name": "stderr",
     "output_type": "stream",
     "text": [
      "<ipython-input-82-dcc1e2084555>:27: UserWarning: Boolean Series key will be reindexed to match DataFrame index.\n",
      "  df_hk = df[df.cmdb_id == host][df.name == kpi]\n",
      "<ipython-input-82-dcc1e2084555>:27: UserWarning: Boolean Series key will be reindexed to match DataFrame index.\n",
      "  df_hk = df[df.cmdb_id == host][df.name == kpi]\n",
      "<ipython-input-82-dcc1e2084555>:27: UserWarning: Boolean Series key will be reindexed to match DataFrame index.\n",
      "  df_hk = df[df.cmdb_id == host][df.name == kpi]\n",
      "<ipython-input-82-dcc1e2084555>:27: UserWarning: Boolean Series key will be reindexed to match DataFrame index.\n",
      "  df_hk = df[df.cmdb_id == host][df.name == kpi]\n"
     ]
    },
    {
     "name": "stdout",
     "output_type": "stream",
     "text": [
      "Threshold  nan SEQ_Used_Pct\n",
      "No valid data to use, skipping\n",
      "Threshold  nan Asm_Free_Tb\n",
      "NaN, Skipping!\n",
      "Threshold  nan PGA_used_total\n",
      "NaN, Skipping!\n",
      "Threshold  -1.0 Sess_Used_Undo\n",
      "Non-Zero Anomaly!\n",
      "Threshold  -1.0 Sess_Used_Temp\n",
      "Threshold "
     ]
    },
    {
     "name": "stderr",
     "output_type": "stream",
     "text": [
      "<ipython-input-82-dcc1e2084555>:27: UserWarning: Boolean Series key will be reindexed to match DataFrame index.\n",
      "  df_hk = df[df.cmdb_id == host][df.name == kpi]\n",
      "<ipython-input-82-dcc1e2084555>:27: UserWarning: Boolean Series key will be reindexed to match DataFrame index.\n",
      "  df_hk = df[df.cmdb_id == host][df.name == kpi]\n",
      "<ipython-input-82-dcc1e2084555>:27: UserWarning: Boolean Series key will be reindexed to match DataFrame index.\n",
      "  df_hk = df[df.cmdb_id == host][df.name == kpi]\n",
      "<ipython-input-82-dcc1e2084555>:27: UserWarning: Boolean Series key will be reindexed to match DataFrame index.\n",
      "  df_hk = df[df.cmdb_id == host][df.name == kpi]\n"
     ]
    },
    {
     "name": "stdout",
     "output_type": "stream",
     "text": [
      " 7.925605224157171 SctRead_Per_Sec\n",
      "Threshold  1.1398997795440835 SeqRead_Per_Sec\n",
      "Threshold  1.4023553459811098 DFParaWrite_Per_Sec\n",
      "[0 0 0 0 0 0 1 0 0 0 0 0 0 0 1 0 0 0 0 0 0 0 0 0 1 0 0 0 0 0]\n",
      "ST Threshold Anomaly!\n",
      "Threshold  -1.0 PGA_Used_Pct\n",
      "Threshold  -1.0 Row_Lock\n",
      "Threshold "
     ]
    },
    {
     "name": "stderr",
     "output_type": "stream",
     "text": [
      "<ipython-input-82-dcc1e2084555>:27: UserWarning: Boolean Series key will be reindexed to match DataFrame index.\n",
      "  df_hk = df[df.cmdb_id == host][df.name == kpi]\n",
      "/Users/baconbaker/anaconda3/envs/ml/lib/python3.8/site-packages/alibi_detect/od/sr.py:96: RuntimeWarning: divide by zero encountered in log\n",
      "  log_amp = np.log(amp)\n",
      "/Users/baconbaker/anaconda3/envs/ml/lib/python3.8/site-packages/alibi_detect/od/sr.py:99: RuntimeWarning: invalid value encountered in subtract\n",
      "  res_amp = log_amp - ma_log_amp\n",
      "/Users/baconbaker/anaconda3/envs/ml/lib/python3.8/site-packages/alibi_detect/od/sr.py:207: RuntimeWarning: invalid value encountered in greater\n",
      "  outlier_pred = (iscore > self.threshold).astype(int)\n",
      "<ipython-input-82-dcc1e2084555>:27: UserWarning: Boolean Series key will be reindexed to match DataFrame index.\n",
      "  df_hk = df[df.cmdb_id == host][df.name == kpi]\n",
      "<ipython-input-82-dcc1e2084555>:27: UserWarning: Boolean Series key will be reindexed to match DataFrame index.\n",
      "  df_hk = df[df.cmdb_id == host][df.name == kpi]\n",
      "<ipython-input-82-dcc1e2084555>:27: UserWarning: Boolean Series key will be reindexed to match DataFrame index.\n",
      "  df_hk = df[df.cmdb_id == host][df.name == kpi]\n",
      "<ipython-input-82-dcc1e2084555>:27: UserWarning: Boolean Series key will be reindexed to match DataFrame index.\n",
      "  df_hk = df[df.cmdb_id == host][df.name == kpi]\n",
      "<ipython-input-82-dcc1e2084555>:27: UserWarning: Boolean Series key will be reindexed to match DataFrame index.\n",
      "  df_hk = df[df.cmdb_id == host][df.name == kpi]\n"
     ]
    },
    {
     "name": "stdout",
     "output_type": "stream",
     "text": [
      " 0.5892285723403896 Proc_Used_Pct\n",
      "Threshold  3.2361220357567846 Session_pct\n",
      "[0 0 0 1 0 0 0 0 0 0 0 0 0 1 0 0 0 0 0 0 0 0 0 1 0 0 0 0 0 0]\n",
      "ST Threshold Anomaly!\n",
      "Threshold  0.6059990414575726 LFParaWrite_Per_Sec\n",
      "Threshold  1.315471881191442 AWS\n"
     ]
    },
    {
     "name": "stderr",
     "output_type": "stream",
     "text": [
      "<ipython-input-82-dcc1e2084555>:27: UserWarning: Boolean Series key will be reindexed to match DataFrame index.\n",
      "  df_hk = df[df.cmdb_id == host][df.name == kpi]\n",
      "<ipython-input-82-dcc1e2084555>:27: UserWarning: Boolean Series key will be reindexed to match DataFrame index.\n",
      "  df_hk = df[df.cmdb_id == host][df.name == kpi]\n",
      "<ipython-input-82-dcc1e2084555>:27: UserWarning: Boolean Series key will be reindexed to match DataFrame index.\n",
      "  df_hk = df[df.cmdb_id == host][df.name == kpi]\n",
      "<ipython-input-82-dcc1e2084555>:27: UserWarning: Boolean Series key will be reindexed to match DataFrame index.\n",
      "  df_hk = df[df.cmdb_id == host][df.name == kpi]\n"
     ]
    },
    {
     "name": "stdout",
     "output_type": "stream",
     "text": [
      "[1 1 1 0 0 0 0 0 0 0 0 0 0 0 0 0 0 0 0 1 0 1 0 0 0 0 0 1 0 0]\n",
      "ST Threshold Anomaly!\n",
      "Threshold  0.7654002245567473 LFSync_Per_Sec\n",
      "Threshold  0.5864138355067587 Proc_User_Used_Pct\n",
      "Threshold  2.000812765014057 AIOS\n",
      "[0 0 1 1 1 0 0 0 0 0 0 0 0 1 0 0 0 0 0 0 0 0 0 1 1 0 0 0 0 0]\n",
      "ST Threshold Anomaly!\n",
      "Threshold  2.4801005006038377 ACS\n",
      "Threshold  nan On_Off_State\n"
     ]
    },
    {
     "name": "stderr",
     "output_type": "stream",
     "text": [
      "<ipython-input-82-dcc1e2084555>:27: UserWarning: Boolean Series key will be reindexed to match DataFrame index.\n",
      "  df_hk = df[df.cmdb_id == host][df.name == kpi]\n",
      "<ipython-input-82-dcc1e2084555>:27: UserWarning: Boolean Series key will be reindexed to match DataFrame index.\n",
      "  df_hk = df[df.cmdb_id == host][df.name == kpi]\n",
      "<ipython-input-82-dcc1e2084555>:27: UserWarning: Boolean Series key will be reindexed to match DataFrame index.\n",
      "  df_hk = df[df.cmdb_id == host][df.name == kpi]\n",
      "<ipython-input-82-dcc1e2084555>:27: UserWarning: Boolean Series key will be reindexed to match DataFrame index.\n",
      "  df_hk = df[df.cmdb_id == host][df.name == kpi]\n",
      "<ipython-input-82-dcc1e2084555>:27: UserWarning: Boolean Series key will be reindexed to match DataFrame index.\n",
      "  df_hk = df[df.cmdb_id == host][df.name == kpi]\n"
     ]
    },
    {
     "name": "stdout",
     "output_type": "stream",
     "text": [
      "NaN, Skipping!\n",
      "Threshold  0.646330075458861 DbTime\n",
      "[1 1 1 1 1 0 0 0 0 0 0 0 0 1 0 0 0 0 0 0 0 0 1 1 1 0 0 0 0 1]\n",
      "ST Threshold Anomaly!\n",
      "Threshold  4.314493184436803 Sess_Active\n",
      "[0 0 0 1 0 0 0 0 0 0 0 0 0 0 0 0 0 0 0 0 0 0 0 1 0 0 0 0 0 0]\n",
      "ST Threshold Anomaly!\n",
      "Threshold  1.1085102796490784 Physical_Read_Per_Sec\n",
      "[0 0 1 1 1 0 0 0 0 0 0 0 0 1 0 0 0 0 0 0 0 0 1 1 1 0 0 0 0 0]\n",
      "ST Threshold Anomaly!\n",
      "Threshold  0.5788705888905856 Call_Per_Sec\n"
     ]
    },
    {
     "name": "stderr",
     "output_type": "stream",
     "text": [
      "<ipython-input-82-dcc1e2084555>:27: UserWarning: Boolean Series key will be reindexed to match DataFrame index.\n",
      "  df_hk = df[df.cmdb_id == host][df.name == kpi]\n",
      "<ipython-input-82-dcc1e2084555>:27: UserWarning: Boolean Series key will be reindexed to match DataFrame index.\n",
      "  df_hk = df[df.cmdb_id == host][df.name == kpi]\n",
      "<ipython-input-82-dcc1e2084555>:27: UserWarning: Boolean Series key will be reindexed to match DataFrame index.\n",
      "  df_hk = df[df.cmdb_id == host][df.name == kpi]\n",
      "<ipython-input-82-dcc1e2084555>:27: UserWarning: Boolean Series key will be reindexed to match DataFrame index.\n",
      "  df_hk = df[df.cmdb_id == host][df.name == kpi]\n"
     ]
    },
    {
     "name": "stdout",
     "output_type": "stream",
     "text": [
      "[1 1 1 1 0 0 0 0 0 0 0 0 0 0 0 0 0 0 0 0 0 1 0 0 0 0 0 1 1 1]\n",
      "ST Threshold Anomaly!\n",
      "Threshold  4.9528631956008455 Login_Per_Sec\n",
      "[0 0 0 0 0 0 0 0 0 0 0 0 0 0 0 0 0 0 0 0 0 1 0 0 0 0 0 0 0 0]\n",
      "ST Threshold Anomaly!\n",
      "Threshold  6.481866385658988 User_Commit\n",
      "Threshold  0.5833965280578725 Sess_Connect\n",
      "Threshold  0.5516992283604317 Logic_Read_Per_Sec\n",
      "[1 1 1 1 1 0 0 0 0 0 0 0 0 0 0 0 0 0 0 1 1 1 1 1 1 0 0 0 0 0]"
     ]
    },
    {
     "name": "stderr",
     "output_type": "stream",
     "text": [
      "<ipython-input-82-dcc1e2084555>:27: UserWarning: Boolean Series key will be reindexed to match DataFrame index.\n",
      "  df_hk = df[df.cmdb_id == host][df.name == kpi]\n",
      "<ipython-input-82-dcc1e2084555>:27: UserWarning: Boolean Series key will be reindexed to match DataFrame index.\n",
      "  df_hk = df[df.cmdb_id == host][df.name == kpi]\n",
      "<ipython-input-82-dcc1e2084555>:27: UserWarning: Boolean Series key will be reindexed to match DataFrame index.\n",
      "  df_hk = df[df.cmdb_id == host][df.name == kpi]\n",
      "<ipython-input-82-dcc1e2084555>:27: UserWarning: Boolean Series key will be reindexed to match DataFrame index.\n",
      "  df_hk = df[df.cmdb_id == host][df.name == kpi]\n"
     ]
    },
    {
     "name": "stdout",
     "output_type": "stream",
     "text": [
      "\n",
      "ST Threshold Anomaly!\n",
      "Threshold  6.201588436578525 TPS_Per_Sec\n",
      "Threshold  nan Hang\n",
      "NaN, Skipping!\n",
      "Threshold  0.5687827542321975 Redo_Per_Sec\n",
      "[1 1 1 0 0 0 0 0 0 1 1 1 0 0 0 0 0 0 0 0 0 0 0 0 1 1 1 1 1 1]\n",
      "ST Threshold Anomaly!\n",
      "Threshold  0.8570479095197132 Exec_Per_Sec\n",
      "[0 0 1 1 1 0 0 0 0 0 0 0 0 1 0 0 0 0 0 0 0 0 1 1 1 0 0 0 0 0]\n",
      "ST Threshold Anomaly!\n",
      "Threshold  -1.0 TempTbs_Pct\n",
      "Threshold "
     ]
    },
    {
     "name": "stderr",
     "output_type": "stream",
     "text": [
      "<ipython-input-82-dcc1e2084555>:27: UserWarning: Boolean Series key will be reindexed to match DataFrame index.\n",
      "  df_hk = df[df.cmdb_id == host][df.name == kpi]\n",
      "<ipython-input-82-dcc1e2084555>:27: UserWarning: Boolean Series key will be reindexed to match DataFrame index.\n",
      "  df_hk = df[df.cmdb_id == host][df.name == kpi]\n",
      "<ipython-input-82-dcc1e2084555>:27: UserWarning: Boolean Series key will be reindexed to match DataFrame index.\n",
      "  df_hk = df[df.cmdb_id == host][df.name == kpi]\n",
      "<ipython-input-82-dcc1e2084555>:27: UserWarning: Boolean Series key will be reindexed to match DataFrame index.\n",
      "  df_hk = df[df.cmdb_id == host][df.name == kpi]\n"
     ]
    },
    {
     "name": "stdout",
     "output_type": "stream",
     "text": [
      " nan Total_Tbs_Size\n",
      "NaN, Skipping!\n",
      "Threshold  0.5839129344234251 New_Tbs_Free_Gb\n",
      "Threshold  0.6340507982835102 New_Tbs_Used_Pct\n",
      "[1 1 1 0 0 0 0 0 0 0 0 0 0 0 0 0 0 0 0 1 1 1 1 1 1 1 1 1 1 1]\n",
      "ST Threshold Anomaly!\n",
      "Threshold  nan Tbs_Used_Pct\n",
      "NaN, Skipping!\n",
      "Threshold  nan Tbs_Free_Gb\n",
      "NaN, Skipping!\n",
      "Threshold  0.5753734609974841 UndoTbs_Pct\n"
     ]
    },
    {
     "name": "stderr",
     "output_type": "stream",
     "text": [
      "<ipython-input-82-dcc1e2084555>:27: UserWarning: Boolean Series key will be reindexed to match DataFrame index.\n",
      "  df_hk = df[df.cmdb_id == host][df.name == kpi]\n",
      "<ipython-input-82-dcc1e2084555>:27: UserWarning: Boolean Series key will be reindexed to match DataFrame index.\n",
      "  df_hk = df[df.cmdb_id == host][df.name == kpi]\n",
      "<ipython-input-82-dcc1e2084555>:27: UserWarning: Boolean Series key will be reindexed to match DataFrame index.\n",
      "  df_hk = df[df.cmdb_id == host][df.name == kpi]\n",
      "<ipython-input-82-dcc1e2084555>:27: UserWarning: Boolean Series key will be reindexed to match DataFrame index.\n",
      "  df_hk = df[df.cmdb_id == host][df.name == kpi]\n",
      "<ipython-input-82-dcc1e2084555>:27: UserWarning: Boolean Series key will be reindexed to match DataFrame index.\n",
      "  df_hk = df[df.cmdb_id == host][df.name == kpi]\n",
      "<ipython-input-82-dcc1e2084555>:27: UserWarning: Boolean Series key will be reindexed to match DataFrame index.\n",
      "  df_hk = df[df.cmdb_id == host][df.name == kpi]\n",
      "<ipython-input-82-dcc1e2084555>:27: UserWarning: Boolean Series key will be reindexed to match DataFrame index.\n",
      "  df_hk = df[df.cmdb_id == host][df.name == kpi]\n",
      "<ipython-input-82-dcc1e2084555>:27: UserWarning: Boolean Series key will be reindexed to match DataFrame index.\n",
      "  df_hk = df[df.cmdb_id == host][df.name == kpi]\n",
      "<ipython-input-82-dcc1e2084555>:27: UserWarning: Boolean Series key will be reindexed to match DataFrame index.\n",
      "  df_hk = df[df.cmdb_id == host][df.name == kpi]\n"
     ]
    },
    {
     "name": "stdout",
     "output_type": "stream",
     "text": [
      "Threshold  0.6172888121818535 DbFile_Used_Pct\n",
      "No valid data to use, skipping\n",
      "db_001  completed in  2.5023727416992188\n",
      "************************************************************\n",
      "Checking  container_001\n",
      "Threshold  -1.0 container_fail_percent\n",
      "container_001  completed in  0.06510114669799805\n",
      "************************************************************\n",
      "Checking  container_002\n",
      "Threshold  -1.0 container_fail_percent\n",
      "container_002  completed in  0.07052493095397949\n",
      "************************************************************\n",
      "Checking  docker_002\n",
      "Threshold  -1.0 container_session_used\n",
      "Threshold "
     ]
    },
    {
     "name": "stderr",
     "output_type": "stream",
     "text": [
      "<ipython-input-82-dcc1e2084555>:27: UserWarning: Boolean Series key will be reindexed to match DataFrame index.\n",
      "  df_hk = df[df.cmdb_id == host][df.name == kpi]\n",
      "<ipython-input-82-dcc1e2084555>:27: UserWarning: Boolean Series key will be reindexed to match DataFrame index.\n",
      "  df_hk = df[df.cmdb_id == host][df.name == kpi]\n",
      "<ipython-input-82-dcc1e2084555>:27: UserWarning: Boolean Series key will be reindexed to match DataFrame index.\n",
      "  df_hk = df[df.cmdb_id == host][df.name == kpi]\n",
      "<ipython-input-82-dcc1e2084555>:27: UserWarning: Boolean Series key will be reindexed to match DataFrame index.\n",
      "  df_hk = df[df.cmdb_id == host][df.name == kpi]\n",
      "<ipython-input-82-dcc1e2084555>:27: UserWarning: Boolean Series key will be reindexed to match DataFrame index.\n",
      "  df_hk = df[df.cmdb_id == host][df.name == kpi]\n"
     ]
    },
    {
     "name": "stdout",
     "output_type": "stream",
     "text": [
      " -1.0 container_fgct\n",
      "Threshold  0.6088011921752176 container_cpu_used\n",
      "Threshold  -1.0 container_thread_idle\n",
      "Threshold  -1.0 container_thread_running\n",
      "Threshold  -1.0 container_thread_total\n",
      "Threshold "
     ]
    },
    {
     "name": "stderr",
     "output_type": "stream",
     "text": [
      "<ipython-input-82-dcc1e2084555>:27: UserWarning: Boolean Series key will be reindexed to match DataFrame index.\n",
      "  df_hk = df[df.cmdb_id == host][df.name == kpi]\n",
      "<ipython-input-82-dcc1e2084555>:27: UserWarning: Boolean Series key will be reindexed to match DataFrame index.\n",
      "  df_hk = df[df.cmdb_id == host][df.name == kpi]\n",
      "<ipython-input-82-dcc1e2084555>:27: UserWarning: Boolean Series key will be reindexed to match DataFrame index.\n",
      "  df_hk = df[df.cmdb_id == host][df.name == kpi]\n",
      "<ipython-input-82-dcc1e2084555>:27: UserWarning: Boolean Series key will be reindexed to match DataFrame index.\n",
      "  df_hk = df[df.cmdb_id == host][df.name == kpi]\n"
     ]
    },
    {
     "name": "stdout",
     "output_type": "stream",
     "text": [
      " -1.0 container_fgc\n",
      "Threshold  -1.0 container_thread_used_pct\n",
      "Threshold  0.584649443228071 container_mem_used\n",
      "docker_002  completed in  0.6405191421508789\n",
      "************************************************************\n",
      "Checking  docker_005\n",
      "Threshold  -1.0 container_session_used\n",
      "Threshold "
     ]
    },
    {
     "name": "stderr",
     "output_type": "stream",
     "text": [
      "<ipython-input-82-dcc1e2084555>:27: UserWarning: Boolean Series key will be reindexed to match DataFrame index.\n",
      "  df_hk = df[df.cmdb_id == host][df.name == kpi]\n",
      "<ipython-input-82-dcc1e2084555>:27: UserWarning: Boolean Series key will be reindexed to match DataFrame index.\n",
      "  df_hk = df[df.cmdb_id == host][df.name == kpi]\n",
      "<ipython-input-82-dcc1e2084555>:27: UserWarning: Boolean Series key will be reindexed to match DataFrame index.\n",
      "  df_hk = df[df.cmdb_id == host][df.name == kpi]\n",
      "<ipython-input-82-dcc1e2084555>:27: UserWarning: Boolean Series key will be reindexed to match DataFrame index.\n",
      "  df_hk = df[df.cmdb_id == host][df.name == kpi]\n"
     ]
    },
    {
     "name": "stdout",
     "output_type": "stream",
     "text": [
      " -1.0 container_fgct\n",
      "Threshold  5.457902697348615 container_cpu_used\n",
      "Threshold  -1.0 container_thread_idle\n",
      "Threshold  -1.0 container_thread_running\n",
      "Threshold "
     ]
    },
    {
     "name": "stderr",
     "output_type": "stream",
     "text": [
      "<ipython-input-82-dcc1e2084555>:27: UserWarning: Boolean Series key will be reindexed to match DataFrame index.\n",
      "  df_hk = df[df.cmdb_id == host][df.name == kpi]\n",
      "<ipython-input-82-dcc1e2084555>:27: UserWarning: Boolean Series key will be reindexed to match DataFrame index.\n",
      "  df_hk = df[df.cmdb_id == host][df.name == kpi]\n",
      "<ipython-input-82-dcc1e2084555>:27: UserWarning: Boolean Series key will be reindexed to match DataFrame index.\n",
      "  df_hk = df[df.cmdb_id == host][df.name == kpi]\n",
      "<ipython-input-82-dcc1e2084555>:27: UserWarning: Boolean Series key will be reindexed to match DataFrame index.\n",
      "  df_hk = df[df.cmdb_id == host][df.name == kpi]\n",
      "<ipython-input-82-dcc1e2084555>:27: UserWarning: Boolean Series key will be reindexed to match DataFrame index.\n",
      "  df_hk = df[df.cmdb_id == host][df.name == kpi]\n",
      "<ipython-input-82-dcc1e2084555>:27: UserWarning: Boolean Series key will be reindexed to match DataFrame index.\n",
      "  df_hk = df[df.cmdb_id == host][df.name == kpi]\n",
      "<ipython-input-82-dcc1e2084555>:27: UserWarning: Boolean Series key will be reindexed to match DataFrame index.\n",
      "  df_hk = df[df.cmdb_id == host][df.name == kpi]\n"
     ]
    },
    {
     "name": "stdout",
     "output_type": "stream",
     "text": [
      " -1.0 container_thread_total\n",
      "Threshold  -1.0 container_fgc\n",
      "Threshold  -1.0 container_thread_used_pct\n",
      "Threshold  nan container_mem_used\n",
      "NaN, Skipping!\n",
      "docker_005  completed in  0.5664210319519043\n",
      "************************************************************\n",
      "Checking  docker_004\n",
      "Threshold  -1.0 container_session_used\n",
      "Threshold  -1.0 container_fgct\n",
      "Threshold  0.6583723468800856 container_cpu_used\n",
      "[0 0 0 0 1 1 1 1 0 0 0 0 0 0 0 0 0 0 0 0 0 0 0 0 1 1 1 1 1 0]\n",
      "ST Threshold Anomaly!\n",
      "Threshold  -1.0 container_thread_idle\n",
      "Threshold  -1.0 container_thread_running\n",
      "Threshold  -1.0 container_thread_total\n",
      "Threshold  -1.0 container_fgc\n"
     ]
    },
    {
     "name": "stderr",
     "output_type": "stream",
     "text": [
      "<ipython-input-82-dcc1e2084555>:27: UserWarning: Boolean Series key will be reindexed to match DataFrame index.\n",
      "  df_hk = df[df.cmdb_id == host][df.name == kpi]\n",
      "<ipython-input-82-dcc1e2084555>:27: UserWarning: Boolean Series key will be reindexed to match DataFrame index.\n",
      "  df_hk = df[df.cmdb_id == host][df.name == kpi]\n",
      "<ipython-input-82-dcc1e2084555>:27: UserWarning: Boolean Series key will be reindexed to match DataFrame index.\n",
      "  df_hk = df[df.cmdb_id == host][df.name == kpi]\n",
      "<ipython-input-82-dcc1e2084555>:27: UserWarning: Boolean Series key will be reindexed to match DataFrame index.\n",
      "  df_hk = df[df.cmdb_id == host][df.name == kpi]\n"
     ]
    },
    {
     "name": "stdout",
     "output_type": "stream",
     "text": [
      "Threshold  -1.0 container_thread_used_pct\n",
      "Threshold  nan container_mem_used\n",
      "NaN, Skipping!\n",
      "docker_004  completed in  0.6167962551116943\n",
      "************************************************************\n",
      "Checking  docker_008\n",
      "Threshold  -1.0 container_session_used\n",
      "Threshold "
     ]
    },
    {
     "name": "stderr",
     "output_type": "stream",
     "text": [
      "<ipython-input-82-dcc1e2084555>:27: UserWarning: Boolean Series key will be reindexed to match DataFrame index.\n",
      "  df_hk = df[df.cmdb_id == host][df.name == kpi]\n",
      "<ipython-input-82-dcc1e2084555>:27: UserWarning: Boolean Series key will be reindexed to match DataFrame index.\n",
      "  df_hk = df[df.cmdb_id == host][df.name == kpi]\n",
      "<ipython-input-82-dcc1e2084555>:27: UserWarning: Boolean Series key will be reindexed to match DataFrame index.\n",
      "  df_hk = df[df.cmdb_id == host][df.name == kpi]\n",
      "<ipython-input-82-dcc1e2084555>:27: UserWarning: Boolean Series key will be reindexed to match DataFrame index.\n",
      "  df_hk = df[df.cmdb_id == host][df.name == kpi]\n",
      "<ipython-input-82-dcc1e2084555>:27: UserWarning: Boolean Series key will be reindexed to match DataFrame index.\n",
      "  df_hk = df[df.cmdb_id == host][df.name == kpi]\n"
     ]
    },
    {
     "name": "stdout",
     "output_type": "stream",
     "text": [
      " -1.0 container_fgct\n",
      "Threshold  0.855108156938283 container_cpu_used\n",
      "Threshold  -1.0 container_thread_idle\n",
      "Threshold  -1.0 container_thread_running\n"
     ]
    },
    {
     "name": "stderr",
     "output_type": "stream",
     "text": [
      "<ipython-input-82-dcc1e2084555>:27: UserWarning: Boolean Series key will be reindexed to match DataFrame index.\n",
      "  df_hk = df[df.cmdb_id == host][df.name == kpi]\n",
      "<ipython-input-82-dcc1e2084555>:27: UserWarning: Boolean Series key will be reindexed to match DataFrame index.\n",
      "  df_hk = df[df.cmdb_id == host][df.name == kpi]\n",
      "<ipython-input-82-dcc1e2084555>:27: UserWarning: Boolean Series key will be reindexed to match DataFrame index.\n",
      "  df_hk = df[df.cmdb_id == host][df.name == kpi]\n",
      "<ipython-input-82-dcc1e2084555>:27: UserWarning: Boolean Series key will be reindexed to match DataFrame index.\n",
      "  df_hk = df[df.cmdb_id == host][df.name == kpi]\n"
     ]
    },
    {
     "name": "stdout",
     "output_type": "stream",
     "text": [
      "Threshold  -1.0 container_thread_total\n",
      "Threshold  -1.0 container_fgc\n",
      "Threshold  -1.0 container_thread_used_pct\n",
      "Threshold  0.577278862731318 container_mem_used\n",
      "docker_008  completed in  0.6171917915344238\n",
      "************************************************************\n",
      "Checking  docker_003\n"
     ]
    },
    {
     "name": "stderr",
     "output_type": "stream",
     "text": [
      "<ipython-input-82-dcc1e2084555>:27: UserWarning: Boolean Series key will be reindexed to match DataFrame index.\n",
      "  df_hk = df[df.cmdb_id == host][df.name == kpi]\n",
      "<ipython-input-82-dcc1e2084555>:27: UserWarning: Boolean Series key will be reindexed to match DataFrame index.\n",
      "  df_hk = df[df.cmdb_id == host][df.name == kpi]\n",
      "/Users/baconbaker/anaconda3/envs/ml/lib/python3.8/site-packages/alibi_detect/od/sr.py:96: RuntimeWarning: divide by zero encountered in log\n",
      "  log_amp = np.log(amp)\n",
      "/Users/baconbaker/anaconda3/envs/ml/lib/python3.8/site-packages/alibi_detect/od/sr.py:99: RuntimeWarning: invalid value encountered in subtract\n",
      "  res_amp = log_amp - ma_log_amp\n",
      "/Users/baconbaker/anaconda3/envs/ml/lib/python3.8/site-packages/alibi_detect/od/sr.py:207: RuntimeWarning: invalid value encountered in greater\n",
      "  outlier_pred = (iscore > self.threshold).astype(int)\n",
      "<ipython-input-82-dcc1e2084555>:27: UserWarning: Boolean Series key will be reindexed to match DataFrame index.\n",
      "  df_hk = df[df.cmdb_id == host][df.name == kpi]\n",
      "<ipython-input-82-dcc1e2084555>:27: UserWarning: Boolean Series key will be reindexed to match DataFrame index.\n",
      "  df_hk = df[df.cmdb_id == host][df.name == kpi]\n",
      "<ipython-input-82-dcc1e2084555>:27: UserWarning: Boolean Series key will be reindexed to match DataFrame index.\n",
      "  df_hk = df[df.cmdb_id == host][df.name == kpi]\n",
      "<ipython-input-82-dcc1e2084555>:27: UserWarning: Boolean Series key will be reindexed to match DataFrame index.\n",
      "  df_hk = df[df.cmdb_id == host][df.name == kpi]\n"
     ]
    },
    {
     "name": "stdout",
     "output_type": "stream",
     "text": [
      "Threshold  -1.0 container_session_used\n",
      "Threshold  -1.0 container_fgct\n",
      "Threshold  0.5908093895100615 container_cpu_used\n",
      "Threshold  -1.0 container_thread_idle\n",
      "Threshold "
     ]
    },
    {
     "name": "stderr",
     "output_type": "stream",
     "text": [
      "<ipython-input-82-dcc1e2084555>:27: UserWarning: Boolean Series key will be reindexed to match DataFrame index.\n",
      "  df_hk = df[df.cmdb_id == host][df.name == kpi]\n",
      "<ipython-input-82-dcc1e2084555>:27: UserWarning: Boolean Series key will be reindexed to match DataFrame index.\n",
      "  df_hk = df[df.cmdb_id == host][df.name == kpi]\n",
      "<ipython-input-82-dcc1e2084555>:27: UserWarning: Boolean Series key will be reindexed to match DataFrame index.\n",
      "  df_hk = df[df.cmdb_id == host][df.name == kpi]\n",
      "<ipython-input-82-dcc1e2084555>:27: UserWarning: Boolean Series key will be reindexed to match DataFrame index.\n",
      "  df_hk = df[df.cmdb_id == host][df.name == kpi]\n",
      "<ipython-input-82-dcc1e2084555>:27: UserWarning: Boolean Series key will be reindexed to match DataFrame index.\n",
      "  df_hk = df[df.cmdb_id == host][df.name == kpi]\n",
      "<ipython-input-82-dcc1e2084555>:27: UserWarning: Boolean Series key will be reindexed to match DataFrame index.\n",
      "  df_hk = df[df.cmdb_id == host][df.name == kpi]\n",
      "<ipython-input-82-dcc1e2084555>:27: UserWarning: Boolean Series key will be reindexed to match DataFrame index.\n",
      "  df_hk = df[df.cmdb_id == host][df.name == kpi]\n"
     ]
    },
    {
     "name": "stdout",
     "output_type": "stream",
     "text": [
      " -1.0 container_thread_running\n",
      "Threshold  -1.0 container_thread_total\n",
      "Threshold  -1.0 container_fgc\n",
      "Threshold  -1.0 container_thread_used_pct\n",
      "Threshold  nan container_mem_used\n",
      "NaN, Skipping!\n",
      "docker_003  completed in  0.5467038154602051\n",
      "************************************************************\n",
      "Checking  docker_001\n",
      "Threshold  -1.0 container_session_used\n",
      "Threshold  -1.0 container_fgct\n",
      "Threshold "
     ]
    },
    {
     "name": "stderr",
     "output_type": "stream",
     "text": [
      "<ipython-input-82-dcc1e2084555>:27: UserWarning: Boolean Series key will be reindexed to match DataFrame index.\n",
      "  df_hk = df[df.cmdb_id == host][df.name == kpi]\n",
      "<ipython-input-82-dcc1e2084555>:27: UserWarning: Boolean Series key will be reindexed to match DataFrame index.\n",
      "  df_hk = df[df.cmdb_id == host][df.name == kpi]\n",
      "<ipython-input-82-dcc1e2084555>:27: UserWarning: Boolean Series key will be reindexed to match DataFrame index.\n",
      "  df_hk = df[df.cmdb_id == host][df.name == kpi]\n",
      "<ipython-input-82-dcc1e2084555>:27: UserWarning: Boolean Series key will be reindexed to match DataFrame index.\n",
      "  df_hk = df[df.cmdb_id == host][df.name == kpi]\n"
     ]
    },
    {
     "name": "stdout",
     "output_type": "stream",
     "text": [
      " 0.7483672681467404 container_cpu_used\n",
      "Threshold  -1.0 container_thread_idle\n",
      "Threshold  -1.0 container_thread_running\n",
      "Threshold  -1.0 container_thread_total\n",
      "Threshold "
     ]
    },
    {
     "name": "stderr",
     "output_type": "stream",
     "text": [
      "<ipython-input-82-dcc1e2084555>:27: UserWarning: Boolean Series key will be reindexed to match DataFrame index.\n",
      "  df_hk = df[df.cmdb_id == host][df.name == kpi]\n",
      "<ipython-input-82-dcc1e2084555>:27: UserWarning: Boolean Series key will be reindexed to match DataFrame index.\n",
      "  df_hk = df[df.cmdb_id == host][df.name == kpi]\n",
      "<ipython-input-82-dcc1e2084555>:27: UserWarning: Boolean Series key will be reindexed to match DataFrame index.\n",
      "  df_hk = df[df.cmdb_id == host][df.name == kpi]\n",
      "<ipython-input-82-dcc1e2084555>:27: UserWarning: Boolean Series key will be reindexed to match DataFrame index.\n",
      "  df_hk = df[df.cmdb_id == host][df.name == kpi]\n",
      "<ipython-input-82-dcc1e2084555>:27: UserWarning: Boolean Series key will be reindexed to match DataFrame index.\n",
      "  df_hk = df[df.cmdb_id == host][df.name == kpi]\n",
      "<ipython-input-82-dcc1e2084555>:27: UserWarning: Boolean Series key will be reindexed to match DataFrame index.\n",
      "  df_hk = df[df.cmdb_id == host][df.name == kpi]\n"
     ]
    },
    {
     "name": "stdout",
     "output_type": "stream",
     "text": [
      " -1.0 container_fgc\n",
      "Threshold  -1.0 container_thread_used_pct\n",
      "Threshold  0.5882970973248931 container_mem_used\n",
      "docker_001  completed in  0.6393640041351318\n",
      "************************************************************\n",
      "Checking  docker_007\n",
      "Threshold  -1.0 container_session_used\n",
      "Threshold  -1.0 container_fgct\n",
      "Threshold  0.8787325059394849 container_cpu_used\n",
      "[0 0 0 0 0 0 0 1 1 0 0 0 0 0 0 0 0 0 1 0 1 1 0 0 0 0 1 1 0 0]\n",
      "ST Threshold Anomaly!\n",
      "Threshold  -1.0 container_thread_idle\n",
      "Threshold  -1.0 container_thread_running\n",
      "Threshold  -1.0 container_thread_total\n",
      "Threshold  -1.0 container_fgc\n"
     ]
    },
    {
     "name": "stderr",
     "output_type": "stream",
     "text": [
      "<ipython-input-82-dcc1e2084555>:27: UserWarning: Boolean Series key will be reindexed to match DataFrame index.\n",
      "  df_hk = df[df.cmdb_id == host][df.name == kpi]\n",
      "<ipython-input-82-dcc1e2084555>:27: UserWarning: Boolean Series key will be reindexed to match DataFrame index.\n",
      "  df_hk = df[df.cmdb_id == host][df.name == kpi]\n",
      "<ipython-input-82-dcc1e2084555>:27: UserWarning: Boolean Series key will be reindexed to match DataFrame index.\n",
      "  df_hk = df[df.cmdb_id == host][df.name == kpi]\n",
      "<ipython-input-82-dcc1e2084555>:27: UserWarning: Boolean Series key will be reindexed to match DataFrame index.\n",
      "  df_hk = df[df.cmdb_id == host][df.name == kpi]\n",
      "<ipython-input-82-dcc1e2084555>:27: UserWarning: Boolean Series key will be reindexed to match DataFrame index.\n",
      "  df_hk = df[df.cmdb_id == host][df.name == kpi]\n",
      "<ipython-input-82-dcc1e2084555>:27: UserWarning: Boolean Series key will be reindexed to match DataFrame index.\n",
      "  df_hk = df[df.cmdb_id == host][df.name == kpi]\n"
     ]
    },
    {
     "name": "stdout",
     "output_type": "stream",
     "text": [
      "Threshold  -1.0 container_thread_used_pct\n",
      "Threshold  0.5831801011804084 container_mem_used\n",
      "docker_007  completed in  0.620682954788208\n",
      "************************************************************\n",
      "Checking  docker_006\n",
      "Threshold  -1.0 container_session_used\n",
      "Threshold  -1.0 container_fgct\n",
      "Threshold  0.7115709705310929 container_cpu_used\n"
     ]
    },
    {
     "name": "stderr",
     "output_type": "stream",
     "text": [
      "/Users/baconbaker/anaconda3/envs/ml/lib/python3.8/site-packages/alibi_detect/od/sr.py:96: RuntimeWarning: divide by zero encountered in log\n",
      "  log_amp = np.log(amp)\n",
      "/Users/baconbaker/anaconda3/envs/ml/lib/python3.8/site-packages/alibi_detect/od/sr.py:99: RuntimeWarning: invalid value encountered in subtract\n",
      "  res_amp = log_amp - ma_log_amp\n",
      "/Users/baconbaker/anaconda3/envs/ml/lib/python3.8/site-packages/alibi_detect/od/sr.py:207: RuntimeWarning: invalid value encountered in greater\n",
      "  outlier_pred = (iscore > self.threshold).astype(int)\n",
      "<ipython-input-82-dcc1e2084555>:27: UserWarning: Boolean Series key will be reindexed to match DataFrame index.\n",
      "  df_hk = df[df.cmdb_id == host][df.name == kpi]\n",
      "<ipython-input-82-dcc1e2084555>:27: UserWarning: Boolean Series key will be reindexed to match DataFrame index.\n",
      "  df_hk = df[df.cmdb_id == host][df.name == kpi]\n",
      "<ipython-input-82-dcc1e2084555>:27: UserWarning: Boolean Series key will be reindexed to match DataFrame index.\n",
      "  df_hk = df[df.cmdb_id == host][df.name == kpi]\n",
      "<ipython-input-82-dcc1e2084555>:27: UserWarning: Boolean Series key will be reindexed to match DataFrame index.\n",
      "  df_hk = df[df.cmdb_id == host][df.name == kpi]\n"
     ]
    },
    {
     "name": "stdout",
     "output_type": "stream",
     "text": [
      "[1 1 0 0 0 0 0 0 0 0 0 0 0 0 0 0 0 0 1 1 0 0 0 1 1 1 1 1 1 0]\n",
      "ST Threshold Anomaly!\n",
      "Threshold  -1.0 container_thread_idle\n",
      "Threshold  -1.0 container_thread_running\n",
      "Threshold  -1.0 container_thread_total\n",
      "Threshold  -1.0 container_fgc\n",
      "Threshold "
     ]
    },
    {
     "name": "stderr",
     "output_type": "stream",
     "text": [
      "<ipython-input-82-dcc1e2084555>:27: UserWarning: Boolean Series key will be reindexed to match DataFrame index.\n",
      "  df_hk = df[df.cmdb_id == host][df.name == kpi]\n",
      "<ipython-input-82-dcc1e2084555>:27: UserWarning: Boolean Series key will be reindexed to match DataFrame index.\n",
      "  df_hk = df[df.cmdb_id == host][df.name == kpi]\n",
      "<ipython-input-82-dcc1e2084555>:27: UserWarning: Boolean Series key will be reindexed to match DataFrame index.\n",
      "  df_hk = df[df.cmdb_id == host][df.name == kpi]\n",
      "<ipython-input-82-dcc1e2084555>:27: UserWarning: Boolean Series key will be reindexed to match DataFrame index.\n",
      "  df_hk = df[df.cmdb_id == host][df.name == kpi]\n",
      "<ipython-input-82-dcc1e2084555>:27: UserWarning: Boolean Series key will be reindexed to match DataFrame index.\n",
      "  df_hk = df[df.cmdb_id == host][df.name == kpi]\n"
     ]
    },
    {
     "name": "stdout",
     "output_type": "stream",
     "text": [
      " -1.0 container_thread_used_pct\n",
      "Threshold  0.5930922506060641 container_mem_used\n",
      "docker_006  completed in  0.5734000205993652\n",
      "************************************************************\n",
      "Checking  redis_003\n",
      "Threshold  0.579067686215465 used_memory_rss\n",
      "Threshold  -1.0 rejected_connections\n",
      "Threshold  -1.0 keyspace_misses\n",
      "Threshold  -1.0 blocked_clients\n",
      "Threshold "
     ]
    },
    {
     "name": "stderr",
     "output_type": "stream",
     "text": [
      "<ipython-input-82-dcc1e2084555>:27: UserWarning: Boolean Series key will be reindexed to match DataFrame index.\n",
      "  df_hk = df[df.cmdb_id == host][df.name == kpi]\n",
      "<ipython-input-82-dcc1e2084555>:27: UserWarning: Boolean Series key will be reindexed to match DataFrame index.\n",
      "  df_hk = df[df.cmdb_id == host][df.name == kpi]\n",
      "<ipython-input-82-dcc1e2084555>:27: UserWarning: Boolean Series key will be reindexed to match DataFrame index.\n",
      "  df_hk = df[df.cmdb_id == host][df.name == kpi]\n",
      "<ipython-input-82-dcc1e2084555>:27: UserWarning: Boolean Series key will be reindexed to match DataFrame index.\n",
      "  df_hk = df[df.cmdb_id == host][df.name == kpi]\n",
      "<ipython-input-82-dcc1e2084555>:27: UserWarning: Boolean Series key will be reindexed to match DataFrame index.\n",
      "  df_hk = df[df.cmdb_id == host][df.name == kpi]\n"
     ]
    },
    {
     "name": "stdout",
     "output_type": "stream",
     "text": [
      " 0.5857330041289637 instantaneous_ops_per_sec\n",
      "[1 1 1 1 1 1 0 0 0 0 0 0 0 0 0 0 0 0 0 0 0 0 0 0 1 1 1 1 1 1]\n",
      "ST Threshold Anomaly!\n",
      "Threshold  -1.0 redis_load\n",
      "Threshold  nan connected_clients\n",
      "NaN, Skipping!\n",
      "Threshold  0.5930066692672679 mem_fragmentation_ratio\n",
      "Threshold  0.5792746256371134 total_commands_processed\n"
     ]
    },
    {
     "name": "stderr",
     "output_type": "stream",
     "text": [
      "<ipython-input-82-dcc1e2084555>:27: UserWarning: Boolean Series key will be reindexed to match DataFrame index.\n",
      "  df_hk = df[df.cmdb_id == host][df.name == kpi]\n",
      "<ipython-input-82-dcc1e2084555>:27: UserWarning: Boolean Series key will be reindexed to match DataFrame index.\n",
      "  df_hk = df[df.cmdb_id == host][df.name == kpi]\n",
      "<ipython-input-82-dcc1e2084555>:27: UserWarning: Boolean Series key will be reindexed to match DataFrame index.\n",
      "  df_hk = df[df.cmdb_id == host][df.name == kpi]\n",
      "<ipython-input-82-dcc1e2084555>:27: UserWarning: Boolean Series key will be reindexed to match DataFrame index.\n",
      "  df_hk = df[df.cmdb_id == host][df.name == kpi]\n",
      "<ipython-input-82-dcc1e2084555>:27: UserWarning: Boolean Series key will be reindexed to match DataFrame index.\n",
      "  df_hk = df[df.cmdb_id == host][df.name == kpi]\n"
     ]
    },
    {
     "name": "stdout",
     "output_type": "stream",
     "text": [
      "Threshold  0.5790621841780937 total_connections_received\n",
      "Threshold  nan keyspace_hits\n",
      "NaN, Skipping!\n",
      "Threshold  -1.0 expired_keys\n",
      "Threshold  nan redis_ping\n",
      "NaN, Skipping!\n",
      "Threshold  nan used_memory_peak\n"
     ]
    },
    {
     "name": "stderr",
     "output_type": "stream",
     "text": [
      "<ipython-input-82-dcc1e2084555>:27: UserWarning: Boolean Series key will be reindexed to match DataFrame index.\n",
      "  df_hk = df[df.cmdb_id == host][df.name == kpi]\n",
      "<ipython-input-82-dcc1e2084555>:27: UserWarning: Boolean Series key will be reindexed to match DataFrame index.\n",
      "  df_hk = df[df.cmdb_id == host][df.name == kpi]\n",
      "<ipython-input-82-dcc1e2084555>:27: UserWarning: Boolean Series key will be reindexed to match DataFrame index.\n",
      "  df_hk = df[df.cmdb_id == host][df.name == kpi]\n",
      "<ipython-input-82-dcc1e2084555>:27: UserWarning: Boolean Series key will be reindexed to match DataFrame index.\n",
      "  df_hk = df[df.cmdb_id == host][df.name == kpi]\n",
      "<ipython-input-82-dcc1e2084555>:27: UserWarning: Boolean Series key will be reindexed to match DataFrame index.\n",
      "  df_hk = df[df.cmdb_id == host][df.name == kpi]\n"
     ]
    },
    {
     "name": "stdout",
     "output_type": "stream",
     "text": [
      "NaN, Skipping!\n",
      "Threshold  1.488157002244808 instantaneous_output_kbps\n",
      "Threshold  0.5981166365250994 instantaneous_input_kbps\n",
      "Threshold  nan Redis_key_count\n",
      "NaN, Skipping!\n",
      "Threshold  -1.0 evicted_keys\n",
      "Threshold "
     ]
    },
    {
     "name": "stderr",
     "output_type": "stream",
     "text": [
      "<ipython-input-82-dcc1e2084555>:27: UserWarning: Boolean Series key will be reindexed to match DataFrame index.\n",
      "  df_hk = df[df.cmdb_id == host][df.name == kpi]\n",
      "<ipython-input-82-dcc1e2084555>:27: UserWarning: Boolean Series key will be reindexed to match DataFrame index.\n",
      "  df_hk = df[df.cmdb_id == host][df.name == kpi]\n",
      "<ipython-input-82-dcc1e2084555>:27: UserWarning: Boolean Series key will be reindexed to match DataFrame index.\n",
      "  df_hk = df[df.cmdb_id == host][df.name == kpi]\n",
      "<ipython-input-82-dcc1e2084555>:27: UserWarning: Boolean Series key will be reindexed to match DataFrame index.\n",
      "  df_hk = df[df.cmdb_id == host][df.name == kpi]\n"
     ]
    },
    {
     "name": "stdout",
     "output_type": "stream",
     "text": [
      " 0.5861706118039552 used_cpu_user\n",
      "[1 1 0 0 0 0 1 0 0 1 0 0 0 0 0 0 0 0 0 0 0 0 0 0 1 0 1 1 0 1]\n",
      "ST Threshold Anomaly!\n",
      "Threshold  0.580135288069161 used_memory\n",
      "Threshold  nan maxmemory\n",
      "NaN, Skipping!\n",
      "Threshold  0.6754002630449065 used_cpu_sys\n",
      "redis_003  completed in  1.112771987915039\n",
      "************************************************************\n",
      "Checking  redis_012\n"
     ]
    },
    {
     "name": "stderr",
     "output_type": "stream",
     "text": [
      "<ipython-input-82-dcc1e2084555>:27: UserWarning: Boolean Series key will be reindexed to match DataFrame index.\n",
      "  df_hk = df[df.cmdb_id == host][df.name == kpi]\n",
      "<ipython-input-82-dcc1e2084555>:27: UserWarning: Boolean Series key will be reindexed to match DataFrame index.\n",
      "  df_hk = df[df.cmdb_id == host][df.name == kpi]\n",
      "<ipython-input-82-dcc1e2084555>:27: UserWarning: Boolean Series key will be reindexed to match DataFrame index.\n",
      "  df_hk = df[df.cmdb_id == host][df.name == kpi]\n",
      "<ipython-input-82-dcc1e2084555>:27: UserWarning: Boolean Series key will be reindexed to match DataFrame index.\n",
      "  df_hk = df[df.cmdb_id == host][df.name == kpi]\n"
     ]
    },
    {
     "name": "stdout",
     "output_type": "stream",
     "text": [
      "Threshold  nan used_memory_rss\n",
      "NaN, Skipping!\n",
      "Threshold  -1.0 rejected_connections\n",
      "Threshold  nan keyspace_misses\n",
      "NaN, Skipping!\n",
      "Threshold  -1.0 blocked_clients\n",
      "Threshold "
     ]
    },
    {
     "name": "stderr",
     "output_type": "stream",
     "text": [
      "<ipython-input-82-dcc1e2084555>:27: UserWarning: Boolean Series key will be reindexed to match DataFrame index.\n",
      "  df_hk = df[df.cmdb_id == host][df.name == kpi]\n",
      "<ipython-input-82-dcc1e2084555>:27: UserWarning: Boolean Series key will be reindexed to match DataFrame index.\n",
      "  df_hk = df[df.cmdb_id == host][df.name == kpi]\n",
      "<ipython-input-82-dcc1e2084555>:27: UserWarning: Boolean Series key will be reindexed to match DataFrame index.\n",
      "  df_hk = df[df.cmdb_id == host][df.name == kpi]\n",
      "<ipython-input-82-dcc1e2084555>:27: UserWarning: Boolean Series key will be reindexed to match DataFrame index.\n",
      "  df_hk = df[df.cmdb_id == host][df.name == kpi]\n",
      "<ipython-input-82-dcc1e2084555>:27: UserWarning: Boolean Series key will be reindexed to match DataFrame index.\n",
      "  df_hk = df[df.cmdb_id == host][df.name == kpi]\n"
     ]
    },
    {
     "name": "stdout",
     "output_type": "stream",
     "text": [
      " 4.202585641562617 instantaneous_ops_per_sec\n",
      "Threshold  -1.0 redis_load\n",
      "Threshold  nan connected_clients\n",
      "NaN, Skipping!\n",
      "Threshold  nan mem_fragmentation_ratio\n",
      "NaN, Skipping!\n",
      "Threshold  0.5778007378379016 total_commands_processed\n"
     ]
    },
    {
     "name": "stderr",
     "output_type": "stream",
     "text": [
      "<ipython-input-82-dcc1e2084555>:27: UserWarning: Boolean Series key will be reindexed to match DataFrame index.\n",
      "  df_hk = df[df.cmdb_id == host][df.name == kpi]\n",
      "<ipython-input-82-dcc1e2084555>:27: UserWarning: Boolean Series key will be reindexed to match DataFrame index.\n",
      "  df_hk = df[df.cmdb_id == host][df.name == kpi]\n",
      "<ipython-input-82-dcc1e2084555>:27: UserWarning: Boolean Series key will be reindexed to match DataFrame index.\n",
      "  df_hk = df[df.cmdb_id == host][df.name == kpi]\n",
      "<ipython-input-82-dcc1e2084555>:27: UserWarning: Boolean Series key will be reindexed to match DataFrame index.\n",
      "  df_hk = df[df.cmdb_id == host][df.name == kpi]\n"
     ]
    },
    {
     "name": "stdout",
     "output_type": "stream",
     "text": [
      "Threshold  0.5789501890266497 total_connections_received\n",
      "Threshold  nan keyspace_hits\n",
      "NaN, Skipping!\n",
      "Threshold  nan expired_keys\n",
      "NaN, Skipping!\n",
      "Threshold  nan redis_ping\n",
      "NaN, Skipping!\n",
      "Threshold  nan used_memory_peak\n",
      "NaN, Skipping!"
     ]
    },
    {
     "name": "stderr",
     "output_type": "stream",
     "text": [
      "<ipython-input-82-dcc1e2084555>:27: UserWarning: Boolean Series key will be reindexed to match DataFrame index.\n",
      "  df_hk = df[df.cmdb_id == host][df.name == kpi]\n",
      "<ipython-input-82-dcc1e2084555>:27: UserWarning: Boolean Series key will be reindexed to match DataFrame index.\n",
      "  df_hk = df[df.cmdb_id == host][df.name == kpi]\n",
      "<ipython-input-82-dcc1e2084555>:27: UserWarning: Boolean Series key will be reindexed to match DataFrame index.\n",
      "  df_hk = df[df.cmdb_id == host][df.name == kpi]\n",
      "<ipython-input-82-dcc1e2084555>:27: UserWarning: Boolean Series key will be reindexed to match DataFrame index.\n",
      "  df_hk = df[df.cmdb_id == host][df.name == kpi]\n",
      "<ipython-input-82-dcc1e2084555>:27: UserWarning: Boolean Series key will be reindexed to match DataFrame index.\n",
      "  df_hk = df[df.cmdb_id == host][df.name == kpi]\n"
     ]
    },
    {
     "name": "stdout",
     "output_type": "stream",
     "text": [
      "\n",
      "Threshold  1.2857981345968574 instantaneous_output_kbps\n",
      "Threshold  9.49912561586348 instantaneous_input_kbps\n",
      "Threshold  nan Redis_key_count\n",
      "NaN, Skipping!\n",
      "Threshold  -1.0 evicted_keys\n",
      "Threshold  1.7039848928409458 used_cpu_user\n"
     ]
    },
    {
     "name": "stderr",
     "output_type": "stream",
     "text": [
      "<ipython-input-82-dcc1e2084555>:27: UserWarning: Boolean Series key will be reindexed to match DataFrame index.\n",
      "  df_hk = df[df.cmdb_id == host][df.name == kpi]\n",
      "<ipython-input-82-dcc1e2084555>:27: UserWarning: Boolean Series key will be reindexed to match DataFrame index.\n",
      "  df_hk = df[df.cmdb_id == host][df.name == kpi]\n",
      "<ipython-input-82-dcc1e2084555>:27: UserWarning: Boolean Series key will be reindexed to match DataFrame index.\n",
      "  df_hk = df[df.cmdb_id == host][df.name == kpi]\n",
      "<ipython-input-82-dcc1e2084555>:27: UserWarning: Boolean Series key will be reindexed to match DataFrame index.\n",
      "  df_hk = df[df.cmdb_id == host][df.name == kpi]\n",
      "<ipython-input-82-dcc1e2084555>:27: UserWarning: Boolean Series key will be reindexed to match DataFrame index.\n",
      "  df_hk = df[df.cmdb_id == host][df.name == kpi]\n"
     ]
    },
    {
     "name": "stdout",
     "output_type": "stream",
     "text": [
      "Threshold  0.5789489704659994 used_memory\n",
      "Threshold  nan maxmemory\n",
      "NaN, Skipping!\n",
      "Threshold  2.4870345534092366 used_cpu_sys\n",
      "redis_012  completed in  1.1540920734405518\n",
      "************************************************************\n",
      "Checking  redis_007\n",
      "Threshold  0.5789654862044794 used_memory_rss\n"
     ]
    },
    {
     "name": "stderr",
     "output_type": "stream",
     "text": [
      "<ipython-input-82-dcc1e2084555>:27: UserWarning: Boolean Series key will be reindexed to match DataFrame index.\n",
      "  df_hk = df[df.cmdb_id == host][df.name == kpi]\n",
      "<ipython-input-82-dcc1e2084555>:27: UserWarning: Boolean Series key will be reindexed to match DataFrame index.\n",
      "  df_hk = df[df.cmdb_id == host][df.name == kpi]\n",
      "<ipython-input-82-dcc1e2084555>:27: UserWarning: Boolean Series key will be reindexed to match DataFrame index.\n",
      "  df_hk = df[df.cmdb_id == host][df.name == kpi]\n",
      "<ipython-input-82-dcc1e2084555>:27: UserWarning: Boolean Series key will be reindexed to match DataFrame index.\n",
      "  df_hk = df[df.cmdb_id == host][df.name == kpi]\n"
     ]
    },
    {
     "name": "stdout",
     "output_type": "stream",
     "text": [
      "Threshold  -1.0 rejected_connections\n",
      "Threshold  -1.0 keyspace_misses\n",
      "Threshold  -1.0 blocked_clients\n",
      "Threshold  0.5738779691162245 instantaneous_ops_per_sec\n",
      "Threshold  -1.0 redis_load\n"
     ]
    },
    {
     "name": "stderr",
     "output_type": "stream",
     "text": [
      "<ipython-input-82-dcc1e2084555>:27: UserWarning: Boolean Series key will be reindexed to match DataFrame index.\n",
      "  df_hk = df[df.cmdb_id == host][df.name == kpi]\n",
      "<ipython-input-82-dcc1e2084555>:27: UserWarning: Boolean Series key will be reindexed to match DataFrame index.\n",
      "  df_hk = df[df.cmdb_id == host][df.name == kpi]\n",
      "<ipython-input-82-dcc1e2084555>:27: UserWarning: Boolean Series key will be reindexed to match DataFrame index.\n",
      "  df_hk = df[df.cmdb_id == host][df.name == kpi]\n",
      "<ipython-input-82-dcc1e2084555>:27: UserWarning: Boolean Series key will be reindexed to match DataFrame index.\n",
      "  df_hk = df[df.cmdb_id == host][df.name == kpi]\n",
      "<ipython-input-82-dcc1e2084555>:27: UserWarning: Boolean Series key will be reindexed to match DataFrame index.\n",
      "  df_hk = df[df.cmdb_id == host][df.name == kpi]\n"
     ]
    },
    {
     "name": "stdout",
     "output_type": "stream",
     "text": [
      "Threshold  nan connected_clients\n",
      "NaN, Skipping!\n",
      "Threshold  0.5679672014772026 mem_fragmentation_ratio\n",
      "Threshold  0.5792558527672098 total_commands_processed\n",
      "Threshold  0.5790634494799285 total_connections_received\n",
      "Threshold  nan keyspace_hits\n"
     ]
    },
    {
     "name": "stderr",
     "output_type": "stream",
     "text": [
      "<ipython-input-82-dcc1e2084555>:27: UserWarning: Boolean Series key will be reindexed to match DataFrame index.\n",
      "  df_hk = df[df.cmdb_id == host][df.name == kpi]\n",
      "<ipython-input-82-dcc1e2084555>:27: UserWarning: Boolean Series key will be reindexed to match DataFrame index.\n",
      "  df_hk = df[df.cmdb_id == host][df.name == kpi]\n",
      "<ipython-input-82-dcc1e2084555>:27: UserWarning: Boolean Series key will be reindexed to match DataFrame index.\n",
      "  df_hk = df[df.cmdb_id == host][df.name == kpi]\n",
      "<ipython-input-82-dcc1e2084555>:27: UserWarning: Boolean Series key will be reindexed to match DataFrame index.\n",
      "  df_hk = df[df.cmdb_id == host][df.name == kpi]\n",
      "<ipython-input-82-dcc1e2084555>:27: UserWarning: Boolean Series key will be reindexed to match DataFrame index.\n",
      "  df_hk = df[df.cmdb_id == host][df.name == kpi]\n"
     ]
    },
    {
     "name": "stdout",
     "output_type": "stream",
     "text": [
      "NaN, Skipping!\n",
      "Threshold  -1.0 expired_keys\n",
      "Threshold  nan redis_ping\n",
      "NaN, Skipping!\n",
      "Threshold  nan used_memory_peak\n",
      "NaN, Skipping!\n",
      "Threshold  1.922509432271984 instantaneous_output_kbps\n",
      "Threshold  0.5866303898155213 instantaneous_input_kbps\n"
     ]
    },
    {
     "name": "stderr",
     "output_type": "stream",
     "text": [
      "<ipython-input-82-dcc1e2084555>:27: UserWarning: Boolean Series key will be reindexed to match DataFrame index.\n",
      "  df_hk = df[df.cmdb_id == host][df.name == kpi]\n",
      "<ipython-input-82-dcc1e2084555>:27: UserWarning: Boolean Series key will be reindexed to match DataFrame index.\n",
      "  df_hk = df[df.cmdb_id == host][df.name == kpi]\n",
      "<ipython-input-82-dcc1e2084555>:27: UserWarning: Boolean Series key will be reindexed to match DataFrame index.\n",
      "  df_hk = df[df.cmdb_id == host][df.name == kpi]\n",
      "<ipython-input-82-dcc1e2084555>:27: UserWarning: Boolean Series key will be reindexed to match DataFrame index.\n",
      "  df_hk = df[df.cmdb_id == host][df.name == kpi]\n",
      "<ipython-input-82-dcc1e2084555>:27: UserWarning: Boolean Series key will be reindexed to match DataFrame index.\n",
      "  df_hk = df[df.cmdb_id == host][df.name == kpi]\n"
     ]
    },
    {
     "name": "stdout",
     "output_type": "stream",
     "text": [
      "Threshold  nan Redis_key_count\n",
      "NaN, Skipping!\n",
      "Threshold  -1.0 evicted_keys\n",
      "Threshold  0.6139047486786906 used_cpu_user\n",
      "Threshold  0.5791493930637983 used_memory\n",
      "Threshold  nan maxmemory\n"
     ]
    },
    {
     "name": "stderr",
     "output_type": "stream",
     "text": [
      "<ipython-input-82-dcc1e2084555>:27: UserWarning: Boolean Series key will be reindexed to match DataFrame index.\n",
      "  df_hk = df[df.cmdb_id == host][df.name == kpi]\n",
      "<ipython-input-82-dcc1e2084555>:27: UserWarning: Boolean Series key will be reindexed to match DataFrame index.\n",
      "  df_hk = df[df.cmdb_id == host][df.name == kpi]\n",
      "<ipython-input-82-dcc1e2084555>:27: UserWarning: Boolean Series key will be reindexed to match DataFrame index.\n",
      "  df_hk = df[df.cmdb_id == host][df.name == kpi]\n",
      "<ipython-input-82-dcc1e2084555>:27: UserWarning: Boolean Series key will be reindexed to match DataFrame index.\n",
      "  df_hk = df[df.cmdb_id == host][df.name == kpi]\n",
      "<ipython-input-82-dcc1e2084555>:27: UserWarning: Boolean Series key will be reindexed to match DataFrame index.\n",
      "  df_hk = df[df.cmdb_id == host][df.name == kpi]\n"
     ]
    },
    {
     "name": "stdout",
     "output_type": "stream",
     "text": [
      "NaN, Skipping!\n",
      "Threshold  0.6477223255843012 used_cpu_sys\n",
      "redis_007  completed in  1.0949349403381348\n",
      "************************************************************\n",
      "Checking  redis_011\n",
      "Threshold  0.5789415966262033 used_memory_rss\n",
      "Threshold  -1.0 rejected_connections\n",
      "Threshold  -1.0 keyspace_misses\n",
      "Threshold  -1.0 blocked_clients\n",
      "Threshold "
     ]
    },
    {
     "name": "stderr",
     "output_type": "stream",
     "text": [
      "<ipython-input-82-dcc1e2084555>:27: UserWarning: Boolean Series key will be reindexed to match DataFrame index.\n",
      "  df_hk = df[df.cmdb_id == host][df.name == kpi]\n",
      "<ipython-input-82-dcc1e2084555>:27: UserWarning: Boolean Series key will be reindexed to match DataFrame index.\n",
      "  df_hk = df[df.cmdb_id == host][df.name == kpi]\n",
      "<ipython-input-82-dcc1e2084555>:27: UserWarning: Boolean Series key will be reindexed to match DataFrame index.\n",
      "  df_hk = df[df.cmdb_id == host][df.name == kpi]\n",
      "<ipython-input-82-dcc1e2084555>:27: UserWarning: Boolean Series key will be reindexed to match DataFrame index.\n",
      "  df_hk = df[df.cmdb_id == host][df.name == kpi]\n",
      "<ipython-input-82-dcc1e2084555>:27: UserWarning: Boolean Series key will be reindexed to match DataFrame index.\n",
      "  df_hk = df[df.cmdb_id == host][df.name == kpi]\n"
     ]
    },
    {
     "name": "stdout",
     "output_type": "stream",
     "text": [
      " 0.5799574498951364 instantaneous_ops_per_sec\n",
      "[1 1 1 1 1 0 0 0 0 0 0 0 0 0 0 0 0 0 0 0 0 0 0 0 1 1 1 1 1 1]\n",
      "ST Threshold Anomaly!\n",
      "Threshold  -1.0 redis_load\n",
      "Threshold  nan connected_clients\n",
      "NaN, Skipping!\n",
      "Threshold  0.5847283173506294 mem_fragmentation_ratio\n"
     ]
    },
    {
     "name": "stderr",
     "output_type": "stream",
     "text": [
      "<ipython-input-82-dcc1e2084555>:27: UserWarning: Boolean Series key will be reindexed to match DataFrame index.\n",
      "  df_hk = df[df.cmdb_id == host][df.name == kpi]\n",
      "<ipython-input-82-dcc1e2084555>:27: UserWarning: Boolean Series key will be reindexed to match DataFrame index.\n",
      "  df_hk = df[df.cmdb_id == host][df.name == kpi]\n",
      "<ipython-input-82-dcc1e2084555>:27: UserWarning: Boolean Series key will be reindexed to match DataFrame index.\n",
      "  df_hk = df[df.cmdb_id == host][df.name == kpi]\n",
      "<ipython-input-82-dcc1e2084555>:27: UserWarning: Boolean Series key will be reindexed to match DataFrame index.\n",
      "  df_hk = df[df.cmdb_id == host][df.name == kpi]\n"
     ]
    },
    {
     "name": "stdout",
     "output_type": "stream",
     "text": [
      "Threshold  0.5794085780137441 total_commands_processed\n",
      "Threshold  0.5790610524714335 total_connections_received\n",
      "Threshold  nan keyspace_hits\n",
      "NaN, Skipping!\n",
      "Threshold  -1.0 expired_keys\n",
      "Threshold "
     ]
    },
    {
     "name": "stderr",
     "output_type": "stream",
     "text": [
      "<ipython-input-82-dcc1e2084555>:27: UserWarning: Boolean Series key will be reindexed to match DataFrame index.\n",
      "  df_hk = df[df.cmdb_id == host][df.name == kpi]\n",
      "<ipython-input-82-dcc1e2084555>:27: UserWarning: Boolean Series key will be reindexed to match DataFrame index.\n",
      "  df_hk = df[df.cmdb_id == host][df.name == kpi]\n",
      "<ipython-input-82-dcc1e2084555>:27: UserWarning: Boolean Series key will be reindexed to match DataFrame index.\n",
      "  df_hk = df[df.cmdb_id == host][df.name == kpi]\n",
      "<ipython-input-82-dcc1e2084555>:27: UserWarning: Boolean Series key will be reindexed to match DataFrame index.\n",
      "  df_hk = df[df.cmdb_id == host][df.name == kpi]\n"
     ]
    },
    {
     "name": "stdout",
     "output_type": "stream",
     "text": [
      " nan redis_ping\n",
      "NaN, Skipping!\n",
      "Threshold  nan used_memory_peak\n",
      "NaN, Skipping!\n",
      "Threshold  2.010608189086364 instantaneous_output_kbps\n",
      "Threshold  0.5821037015178001 instantaneous_input_kbps\n",
      "[1 1 1 0 0 0 0 0 0 0 0 0 0 0 0 1 1 0 0 0 0 0 0 0 1 1 1 1 1 0]"
     ]
    },
    {
     "name": "stderr",
     "output_type": "stream",
     "text": [
      "<ipython-input-82-dcc1e2084555>:27: UserWarning: Boolean Series key will be reindexed to match DataFrame index.\n",
      "  df_hk = df[df.cmdb_id == host][df.name == kpi]\n",
      "<ipython-input-82-dcc1e2084555>:27: UserWarning: Boolean Series key will be reindexed to match DataFrame index.\n",
      "  df_hk = df[df.cmdb_id == host][df.name == kpi]\n",
      "<ipython-input-82-dcc1e2084555>:27: UserWarning: Boolean Series key will be reindexed to match DataFrame index.\n",
      "  df_hk = df[df.cmdb_id == host][df.name == kpi]\n",
      "<ipython-input-82-dcc1e2084555>:27: UserWarning: Boolean Series key will be reindexed to match DataFrame index.\n",
      "  df_hk = df[df.cmdb_id == host][df.name == kpi]\n",
      "<ipython-input-82-dcc1e2084555>:27: UserWarning: Boolean Series key will be reindexed to match DataFrame index.\n",
      "  df_hk = df[df.cmdb_id == host][df.name == kpi]\n"
     ]
    },
    {
     "name": "stdout",
     "output_type": "stream",
     "text": [
      "\n",
      "ST Threshold Anomaly!\n",
      "Threshold  nan Redis_key_count\n",
      "NaN, Skipping!\n",
      "Threshold  -1.0 evicted_keys\n",
      "Threshold  0.5694766772552667 used_cpu_user\n",
      "Threshold  0.5791887256452681 used_memory\n",
      "Threshold  nan maxmemory\n",
      "NaN, Skipping!\n",
      "Threshold  0.5796793169023019 used_cpu_sys\n"
     ]
    },
    {
     "name": "stderr",
     "output_type": "stream",
     "text": [
      "<ipython-input-82-dcc1e2084555>:27: UserWarning: Boolean Series key will be reindexed to match DataFrame index.\n",
      "  df_hk = df[df.cmdb_id == host][df.name == kpi]\n",
      "<ipython-input-82-dcc1e2084555>:27: UserWarning: Boolean Series key will be reindexed to match DataFrame index.\n",
      "  df_hk = df[df.cmdb_id == host][df.name == kpi]\n",
      "<ipython-input-82-dcc1e2084555>:27: UserWarning: Boolean Series key will be reindexed to match DataFrame index.\n",
      "  df_hk = df[df.cmdb_id == host][df.name == kpi]\n",
      "<ipython-input-82-dcc1e2084555>:27: UserWarning: Boolean Series key will be reindexed to match DataFrame index.\n",
      "  df_hk = df[df.cmdb_id == host][df.name == kpi]\n",
      "<ipython-input-82-dcc1e2084555>:27: UserWarning: Boolean Series key will be reindexed to match DataFrame index.\n",
      "  df_hk = df[df.cmdb_id == host][df.name == kpi]\n"
     ]
    },
    {
     "name": "stdout",
     "output_type": "stream",
     "text": [
      "redis_011  completed in  1.1354687213897705\n",
      "************************************************************\n",
      "Checking  redis_005\n",
      "Threshold  0.5789704850819108 used_memory_rss\n",
      "Threshold  -1.0 rejected_connections\n",
      "Threshold  -1.0 keyspace_misses\n",
      "Threshold  -1.0 blocked_clients\n",
      "Threshold "
     ]
    },
    {
     "name": "stderr",
     "output_type": "stream",
     "text": [
      "<ipython-input-82-dcc1e2084555>:27: UserWarning: Boolean Series key will be reindexed to match DataFrame index.\n",
      "  df_hk = df[df.cmdb_id == host][df.name == kpi]\n",
      "<ipython-input-82-dcc1e2084555>:27: UserWarning: Boolean Series key will be reindexed to match DataFrame index.\n",
      "  df_hk = df[df.cmdb_id == host][df.name == kpi]\n",
      "<ipython-input-82-dcc1e2084555>:27: UserWarning: Boolean Series key will be reindexed to match DataFrame index.\n",
      "  df_hk = df[df.cmdb_id == host][df.name == kpi]\n",
      "<ipython-input-82-dcc1e2084555>:27: UserWarning: Boolean Series key will be reindexed to match DataFrame index.\n",
      "  df_hk = df[df.cmdb_id == host][df.name == kpi]\n",
      "<ipython-input-82-dcc1e2084555>:27: UserWarning: Boolean Series key will be reindexed to match DataFrame index.\n",
      "  df_hk = df[df.cmdb_id == host][df.name == kpi]\n"
     ]
    },
    {
     "name": "stdout",
     "output_type": "stream",
     "text": [
      " 0.5769116096690893 instantaneous_ops_per_sec\n",
      "[1 1 1 1 1 1 1 0 0 0 0 0 0 0 0 0 0 0 0 0 0 0 0 0 1 1 1 1 1 1]\n",
      "ST Threshold Anomaly!\n",
      "Threshold  -1.0 redis_load\n",
      "Threshold  nan connected_clients\n",
      "NaN, Skipping!\n",
      "Threshold  0.5925224815063308 mem_fragmentation_ratio\n",
      "Threshold  0.5793068182359432 total_commands_processed\n"
     ]
    },
    {
     "name": "stderr",
     "output_type": "stream",
     "text": [
      "<ipython-input-82-dcc1e2084555>:27: UserWarning: Boolean Series key will be reindexed to match DataFrame index.\n",
      "  df_hk = df[df.cmdb_id == host][df.name == kpi]\n",
      "<ipython-input-82-dcc1e2084555>:27: UserWarning: Boolean Series key will be reindexed to match DataFrame index.\n",
      "  df_hk = df[df.cmdb_id == host][df.name == kpi]\n",
      "<ipython-input-82-dcc1e2084555>:27: UserWarning: Boolean Series key will be reindexed to match DataFrame index.\n",
      "  df_hk = df[df.cmdb_id == host][df.name == kpi]\n",
      "<ipython-input-82-dcc1e2084555>:27: UserWarning: Boolean Series key will be reindexed to match DataFrame index.\n",
      "  df_hk = df[df.cmdb_id == host][df.name == kpi]\n",
      "<ipython-input-82-dcc1e2084555>:27: UserWarning: Boolean Series key will be reindexed to match DataFrame index.\n",
      "  df_hk = df[df.cmdb_id == host][df.name == kpi]\n"
     ]
    },
    {
     "name": "stdout",
     "output_type": "stream",
     "text": [
      "Threshold  0.5790620403282122 total_connections_received\n",
      "Threshold  nan keyspace_hits\n",
      "NaN, Skipping!\n",
      "Threshold  -1.0 expired_keys\n",
      "Threshold  nan redis_ping\n",
      "NaN, Skipping!\n",
      "Threshold  nan used_memory_peak\n"
     ]
    },
    {
     "name": "stderr",
     "output_type": "stream",
     "text": [
      "<ipython-input-82-dcc1e2084555>:27: UserWarning: Boolean Series key will be reindexed to match DataFrame index.\n",
      "  df_hk = df[df.cmdb_id == host][df.name == kpi]\n",
      "<ipython-input-82-dcc1e2084555>:27: UserWarning: Boolean Series key will be reindexed to match DataFrame index.\n",
      "  df_hk = df[df.cmdb_id == host][df.name == kpi]\n",
      "<ipython-input-82-dcc1e2084555>:27: UserWarning: Boolean Series key will be reindexed to match DataFrame index.\n",
      "  df_hk = df[df.cmdb_id == host][df.name == kpi]\n",
      "<ipython-input-82-dcc1e2084555>:27: UserWarning: Boolean Series key will be reindexed to match DataFrame index.\n",
      "  df_hk = df[df.cmdb_id == host][df.name == kpi]\n",
      "<ipython-input-82-dcc1e2084555>:27: UserWarning: Boolean Series key will be reindexed to match DataFrame index.\n",
      "  df_hk = df[df.cmdb_id == host][df.name == kpi]\n"
     ]
    },
    {
     "name": "stdout",
     "output_type": "stream",
     "text": [
      "NaN, Skipping!\n",
      "Threshold  1.1094959049343402 instantaneous_output_kbps\n",
      "Threshold  0.5963083683086245 instantaneous_input_kbps\n",
      "Threshold  nan Redis_key_count\n",
      "NaN, Skipping!\n",
      "Threshold  -1.0 evicted_keys\n",
      "Threshold  0.6371537145827169 used_cpu_user\n",
      "[1 1 0 0 0 1 0 0 0 0 0 0 0 0 0 0 0 0 0 0 0 0 1 0 0 0 1 0 0 1]\n",
      "ST Threshold Anomaly!\n",
      "Threshold  0.5794829274276511 used_memory"
     ]
    },
    {
     "name": "stderr",
     "output_type": "stream",
     "text": [
      "<ipython-input-82-dcc1e2084555>:27: UserWarning: Boolean Series key will be reindexed to match DataFrame index.\n",
      "  df_hk = df[df.cmdb_id == host][df.name == kpi]\n",
      "<ipython-input-82-dcc1e2084555>:27: UserWarning: Boolean Series key will be reindexed to match DataFrame index.\n",
      "  df_hk = df[df.cmdb_id == host][df.name == kpi]\n",
      "<ipython-input-82-dcc1e2084555>:27: UserWarning: Boolean Series key will be reindexed to match DataFrame index.\n",
      "  df_hk = df[df.cmdb_id == host][df.name == kpi]\n",
      "<ipython-input-82-dcc1e2084555>:27: UserWarning: Boolean Series key will be reindexed to match DataFrame index.\n",
      "  df_hk = df[df.cmdb_id == host][df.name == kpi]\n",
      "<ipython-input-82-dcc1e2084555>:27: UserWarning: Boolean Series key will be reindexed to match DataFrame index.\n",
      "  df_hk = df[df.cmdb_id == host][df.name == kpi]\n",
      "<ipython-input-82-dcc1e2084555>:27: UserWarning: Boolean Series key will be reindexed to match DataFrame index.\n",
      "  df_hk = df[df.cmdb_id == host][df.name == kpi]\n"
     ]
    },
    {
     "name": "stdout",
     "output_type": "stream",
     "text": [
      "\n",
      "Threshold  nan maxmemory\n",
      "NaN, Skipping!\n",
      "Threshold  0.7226915050986421 used_cpu_sys\n",
      "[1 1 0 0 0 0 0 0 0 0 0 0 0 0 0 0 0 0 0 0 0 0 0 1 0 0 0 1 1 1]\n",
      "ST Threshold Anomaly!\n",
      "redis_005  completed in  1.1030769348144531\n",
      "************************************************************\n",
      "Checking  redis_001\n",
      "Threshold  0.5789427227599633 used_memory_rss\n",
      "Threshold "
     ]
    },
    {
     "name": "stderr",
     "output_type": "stream",
     "text": [
      "<ipython-input-82-dcc1e2084555>:27: UserWarning: Boolean Series key will be reindexed to match DataFrame index.\n",
      "  df_hk = df[df.cmdb_id == host][df.name == kpi]\n",
      "<ipython-input-82-dcc1e2084555>:27: UserWarning: Boolean Series key will be reindexed to match DataFrame index.\n",
      "  df_hk = df[df.cmdb_id == host][df.name == kpi]\n",
      "<ipython-input-82-dcc1e2084555>:27: UserWarning: Boolean Series key will be reindexed to match DataFrame index.\n",
      "  df_hk = df[df.cmdb_id == host][df.name == kpi]\n",
      "<ipython-input-82-dcc1e2084555>:27: UserWarning: Boolean Series key will be reindexed to match DataFrame index.\n",
      "  df_hk = df[df.cmdb_id == host][df.name == kpi]\n"
     ]
    },
    {
     "name": "stdout",
     "output_type": "stream",
     "text": [
      " -1.0 rejected_connections\n",
      "Threshold  0.5790905783470686 keyspace_misses\n",
      "Threshold  -1.0 blocked_clients\n",
      "Threshold  0.5798864925048899 instantaneous_ops_per_sec\n"
     ]
    },
    {
     "name": "stderr",
     "output_type": "stream",
     "text": [
      "<ipython-input-82-dcc1e2084555>:27: UserWarning: Boolean Series key will be reindexed to match DataFrame index.\n",
      "  df_hk = df[df.cmdb_id == host][df.name == kpi]\n",
      "<ipython-input-82-dcc1e2084555>:27: UserWarning: Boolean Series key will be reindexed to match DataFrame index.\n",
      "  df_hk = df[df.cmdb_id == host][df.name == kpi]\n",
      "<ipython-input-82-dcc1e2084555>:27: UserWarning: Boolean Series key will be reindexed to match DataFrame index.\n",
      "  df_hk = df[df.cmdb_id == host][df.name == kpi]\n",
      "<ipython-input-82-dcc1e2084555>:27: UserWarning: Boolean Series key will be reindexed to match DataFrame index.\n",
      "  df_hk = df[df.cmdb_id == host][df.name == kpi]\n",
      "<ipython-input-82-dcc1e2084555>:27: UserWarning: Boolean Series key will be reindexed to match DataFrame index.\n",
      "  df_hk = df[df.cmdb_id == host][df.name == kpi]\n"
     ]
    },
    {
     "name": "stdout",
     "output_type": "stream",
     "text": [
      "Threshold  -1.0 redis_load\n",
      "Threshold  0.5794219543099342 connected_clients\n",
      "Threshold  0.605620368677457 mem_fragmentation_ratio\n",
      "Threshold  0.5790915971640552 total_commands_processed\n",
      "Threshold  0.5791255824501118 total_connections_received\n"
     ]
    },
    {
     "name": "stderr",
     "output_type": "stream",
     "text": [
      "<ipython-input-82-dcc1e2084555>:27: UserWarning: Boolean Series key will be reindexed to match DataFrame index.\n",
      "  df_hk = df[df.cmdb_id == host][df.name == kpi]\n",
      "<ipython-input-82-dcc1e2084555>:27: UserWarning: Boolean Series key will be reindexed to match DataFrame index.\n",
      "  df_hk = df[df.cmdb_id == host][df.name == kpi]\n",
      "<ipython-input-82-dcc1e2084555>:27: UserWarning: Boolean Series key will be reindexed to match DataFrame index.\n",
      "  df_hk = df[df.cmdb_id == host][df.name == kpi]\n",
      "<ipython-input-82-dcc1e2084555>:27: UserWarning: Boolean Series key will be reindexed to match DataFrame index.\n",
      "  df_hk = df[df.cmdb_id == host][df.name == kpi]\n"
     ]
    },
    {
     "name": "stdout",
     "output_type": "stream",
     "text": [
      "Threshold  0.5790869455422333 keyspace_hits\n",
      "Threshold  nan expired_keys\n",
      "NaN, Skipping!\n",
      "Threshold  nan redis_ping\n",
      "NaN, Skipping!\n",
      "Threshold  nan used_memory_peak\n",
      "NaN, Skipping!"
     ]
    },
    {
     "name": "stderr",
     "output_type": "stream",
     "text": [
      "<ipython-input-82-dcc1e2084555>:27: UserWarning: Boolean Series key will be reindexed to match DataFrame index.\n",
      "  df_hk = df[df.cmdb_id == host][df.name == kpi]\n",
      "<ipython-input-82-dcc1e2084555>:27: UserWarning: Boolean Series key will be reindexed to match DataFrame index.\n",
      "  df_hk = df[df.cmdb_id == host][df.name == kpi]\n",
      "<ipython-input-82-dcc1e2084555>:27: UserWarning: Boolean Series key will be reindexed to match DataFrame index.\n",
      "  df_hk = df[df.cmdb_id == host][df.name == kpi]\n",
      "<ipython-input-82-dcc1e2084555>:27: UserWarning: Boolean Series key will be reindexed to match DataFrame index.\n",
      "  df_hk = df[df.cmdb_id == host][df.name == kpi]\n"
     ]
    },
    {
     "name": "stdout",
     "output_type": "stream",
     "text": [
      "\n",
      "Threshold  0.5861216793561694 instantaneous_output_kbps\n",
      "[1 1 1 0 0 0 0 0 0 0 0 0 0 0 0 0 0 0 0 0 0 0 0 0 1 1 1 1 1 1]\n",
      "ST Threshold Anomaly!\n",
      "Threshold  0.5853275574925776 instantaneous_input_kbps\n",
      "[1 1 1 1 0 0 0 0 0 0 0 0 0 0 0 0 0 0 0 0 0 0 0 0 1 1 1 1 1 1]\n",
      "ST Threshold Anomaly!\n",
      "Threshold  nan Redis_key_count\n",
      "NaN, Skipping!\n",
      "Threshold  -1.0 evicted_keys\n",
      "Threshold "
     ]
    },
    {
     "name": "stderr",
     "output_type": "stream",
     "text": [
      "<ipython-input-82-dcc1e2084555>:27: UserWarning: Boolean Series key will be reindexed to match DataFrame index.\n",
      "  df_hk = df[df.cmdb_id == host][df.name == kpi]\n",
      "<ipython-input-82-dcc1e2084555>:27: UserWarning: Boolean Series key will be reindexed to match DataFrame index.\n",
      "  df_hk = df[df.cmdb_id == host][df.name == kpi]\n",
      "<ipython-input-82-dcc1e2084555>:27: UserWarning: Boolean Series key will be reindexed to match DataFrame index.\n",
      "  df_hk = df[df.cmdb_id == host][df.name == kpi]\n",
      "<ipython-input-82-dcc1e2084555>:27: UserWarning: Boolean Series key will be reindexed to match DataFrame index.\n",
      "  df_hk = df[df.cmdb_id == host][df.name == kpi]\n"
     ]
    },
    {
     "name": "stdout",
     "output_type": "stream",
     "text": [
      " 0.5583185577431662 used_cpu_user\n",
      "Threshold  0.5790815845331854 used_memory\n",
      "Threshold  nan maxmemory\n",
      "NaN, Skipping!\n",
      "Threshold  0.6466702570998879 used_cpu_sys\n",
      "redis_001  completed in  1.1349132061004639\n",
      "************************************************************\n",
      "Checking  redis_008\n"
     ]
    },
    {
     "name": "stderr",
     "output_type": "stream",
     "text": [
      "<ipython-input-82-dcc1e2084555>:27: UserWarning: Boolean Series key will be reindexed to match DataFrame index.\n",
      "  df_hk = df[df.cmdb_id == host][df.name == kpi]\n",
      "<ipython-input-82-dcc1e2084555>:27: UserWarning: Boolean Series key will be reindexed to match DataFrame index.\n",
      "  df_hk = df[df.cmdb_id == host][df.name == kpi]\n",
      "<ipython-input-82-dcc1e2084555>:27: UserWarning: Boolean Series key will be reindexed to match DataFrame index.\n",
      "  df_hk = df[df.cmdb_id == host][df.name == kpi]\n",
      "<ipython-input-82-dcc1e2084555>:27: UserWarning: Boolean Series key will be reindexed to match DataFrame index.\n",
      "  df_hk = df[df.cmdb_id == host][df.name == kpi]\n",
      "<ipython-input-82-dcc1e2084555>:27: UserWarning: Boolean Series key will be reindexed to match DataFrame index.\n",
      "  df_hk = df[df.cmdb_id == host][df.name == kpi]\n"
     ]
    },
    {
     "name": "stdout",
     "output_type": "stream",
     "text": [
      "Threshold  nan used_memory_rss\n",
      "NaN, Skipping!\n",
      "Threshold  -1.0 rejected_connections\n",
      "Threshold  nan keyspace_misses\n",
      "NaN, Skipping!\n",
      "Threshold  -1.0 blocked_clients\n",
      "Threshold  3.204242507823309 instantaneous_ops_per_sec\n"
     ]
    },
    {
     "name": "stderr",
     "output_type": "stream",
     "text": [
      "<ipython-input-82-dcc1e2084555>:27: UserWarning: Boolean Series key will be reindexed to match DataFrame index.\n",
      "  df_hk = df[df.cmdb_id == host][df.name == kpi]\n",
      "/Users/baconbaker/anaconda3/envs/ml/lib/python3.8/site-packages/alibi_detect/od/sr.py:96: RuntimeWarning: divide by zero encountered in log\n",
      "  log_amp = np.log(amp)\n",
      "/Users/baconbaker/anaconda3/envs/ml/lib/python3.8/site-packages/alibi_detect/od/sr.py:99: RuntimeWarning: invalid value encountered in subtract\n",
      "  res_amp = log_amp - ma_log_amp\n",
      "/Users/baconbaker/anaconda3/envs/ml/lib/python3.8/site-packages/alibi_detect/od/sr.py:207: RuntimeWarning: invalid value encountered in greater\n",
      "  outlier_pred = (iscore > self.threshold).astype(int)\n",
      "<ipython-input-82-dcc1e2084555>:27: UserWarning: Boolean Series key will be reindexed to match DataFrame index.\n",
      "  df_hk = df[df.cmdb_id == host][df.name == kpi]\n",
      "<ipython-input-82-dcc1e2084555>:27: UserWarning: Boolean Series key will be reindexed to match DataFrame index.\n",
      "  df_hk = df[df.cmdb_id == host][df.name == kpi]\n",
      "<ipython-input-82-dcc1e2084555>:27: UserWarning: Boolean Series key will be reindexed to match DataFrame index.\n",
      "  df_hk = df[df.cmdb_id == host][df.name == kpi]\n",
      "<ipython-input-82-dcc1e2084555>:27: UserWarning: Boolean Series key will be reindexed to match DataFrame index.\n",
      "  df_hk = df[df.cmdb_id == host][df.name == kpi]\n"
     ]
    },
    {
     "name": "stdout",
     "output_type": "stream",
     "text": [
      "Threshold  -1.0 redis_load\n",
      "Threshold  nan connected_clients\n",
      "NaN, Skipping!\n",
      "Threshold  nan mem_fragmentation_ratio\n",
      "NaN, Skipping!\n",
      "Threshold  0.5878110680248009 total_commands_processed\n",
      "Threshold  0.5789501890424684 total_connections_received\n"
     ]
    },
    {
     "name": "stderr",
     "output_type": "stream",
     "text": [
      "<ipython-input-82-dcc1e2084555>:27: UserWarning: Boolean Series key will be reindexed to match DataFrame index.\n",
      "  df_hk = df[df.cmdb_id == host][df.name == kpi]\n",
      "<ipython-input-82-dcc1e2084555>:27: UserWarning: Boolean Series key will be reindexed to match DataFrame index.\n",
      "  df_hk = df[df.cmdb_id == host][df.name == kpi]\n",
      "<ipython-input-82-dcc1e2084555>:27: UserWarning: Boolean Series key will be reindexed to match DataFrame index.\n",
      "  df_hk = df[df.cmdb_id == host][df.name == kpi]\n",
      "<ipython-input-82-dcc1e2084555>:27: UserWarning: Boolean Series key will be reindexed to match DataFrame index.\n",
      "  df_hk = df[df.cmdb_id == host][df.name == kpi]\n"
     ]
    },
    {
     "name": "stdout",
     "output_type": "stream",
     "text": [
      "Threshold  nan keyspace_hits\n",
      "NaN, Skipping!\n",
      "Threshold  nan expired_keys\n",
      "NaN, Skipping!\n",
      "Threshold  nan redis_ping\n",
      "NaN, Skipping!\n",
      "Threshold  nan used_memory_peak\n",
      "NaN, Skipping!"
     ]
    },
    {
     "name": "stderr",
     "output_type": "stream",
     "text": [
      "<ipython-input-82-dcc1e2084555>:27: UserWarning: Boolean Series key will be reindexed to match DataFrame index.\n",
      "  df_hk = df[df.cmdb_id == host][df.name == kpi]\n",
      "<ipython-input-82-dcc1e2084555>:27: UserWarning: Boolean Series key will be reindexed to match DataFrame index.\n",
      "  df_hk = df[df.cmdb_id == host][df.name == kpi]\n",
      "<ipython-input-82-dcc1e2084555>:27: UserWarning: Boolean Series key will be reindexed to match DataFrame index.\n",
      "  df_hk = df[df.cmdb_id == host][df.name == kpi]\n",
      "<ipython-input-82-dcc1e2084555>:27: UserWarning: Boolean Series key will be reindexed to match DataFrame index.\n",
      "  df_hk = df[df.cmdb_id == host][df.name == kpi]\n"
     ]
    },
    {
     "name": "stdout",
     "output_type": "stream",
     "text": [
      "\n",
      "Threshold  1.3139922274214246 instantaneous_output_kbps\n",
      "[1 1 0 0 0 0 0 0 1 1 1 1 1 1 0 0 0 0 0 0 1 1 0 0 0 0 0 0 1 1]\n",
      "ST Threshold Anomaly!\n",
      "Threshold  1.5591746195777747 instantaneous_input_kbps\n",
      "Threshold  nan Redis_key_count\n",
      "NaN, Skipping!\n",
      "Threshold  -1.0 evicted_keys\n",
      "Threshold  2.511604320678093 used_cpu_user\n"
     ]
    },
    {
     "name": "stderr",
     "output_type": "stream",
     "text": [
      "<ipython-input-82-dcc1e2084555>:27: UserWarning: Boolean Series key will be reindexed to match DataFrame index.\n",
      "  df_hk = df[df.cmdb_id == host][df.name == kpi]\n",
      "<ipython-input-82-dcc1e2084555>:27: UserWarning: Boolean Series key will be reindexed to match DataFrame index.\n",
      "  df_hk = df[df.cmdb_id == host][df.name == kpi]\n",
      "<ipython-input-82-dcc1e2084555>:27: UserWarning: Boolean Series key will be reindexed to match DataFrame index.\n",
      "  df_hk = df[df.cmdb_id == host][df.name == kpi]\n",
      "<ipython-input-82-dcc1e2084555>:27: UserWarning: Boolean Series key will be reindexed to match DataFrame index.\n",
      "  df_hk = df[df.cmdb_id == host][df.name == kpi]\n",
      "<ipython-input-82-dcc1e2084555>:27: UserWarning: Boolean Series key will be reindexed to match DataFrame index.\n",
      "  df_hk = df[df.cmdb_id == host][df.name == kpi]\n"
     ]
    },
    {
     "name": "stdout",
     "output_type": "stream",
     "text": [
      "Threshold  0.5789520896466254 used_memory\n",
      "Threshold  nan maxmemory\n",
      "NaN, Skipping!\n",
      "Threshold  2.42258949889623 used_cpu_sys\n",
      "redis_008  completed in  1.121588945388794\n",
      "************************************************************\n",
      "Checking  redis_009\n",
      "Threshold  0.5790591029137694 used_memory_rss\n"
     ]
    },
    {
     "name": "stderr",
     "output_type": "stream",
     "text": [
      "<ipython-input-82-dcc1e2084555>:27: UserWarning: Boolean Series key will be reindexed to match DataFrame index.\n",
      "  df_hk = df[df.cmdb_id == host][df.name == kpi]\n",
      "<ipython-input-82-dcc1e2084555>:27: UserWarning: Boolean Series key will be reindexed to match DataFrame index.\n",
      "  df_hk = df[df.cmdb_id == host][df.name == kpi]\n",
      "<ipython-input-82-dcc1e2084555>:27: UserWarning: Boolean Series key will be reindexed to match DataFrame index.\n",
      "  df_hk = df[df.cmdb_id == host][df.name == kpi]\n",
      "<ipython-input-82-dcc1e2084555>:27: UserWarning: Boolean Series key will be reindexed to match DataFrame index.\n",
      "  df_hk = df[df.cmdb_id == host][df.name == kpi]\n",
      "<ipython-input-82-dcc1e2084555>:27: UserWarning: Boolean Series key will be reindexed to match DataFrame index.\n",
      "  df_hk = df[df.cmdb_id == host][df.name == kpi]\n"
     ]
    },
    {
     "name": "stdout",
     "output_type": "stream",
     "text": [
      "Threshold  -1.0 rejected_connections\n",
      "Threshold  0.5790908627230553 keyspace_misses\n",
      "Threshold  -1.0 blocked_clients\n",
      "Threshold  0.5779942990904651 instantaneous_ops_per_sec\n",
      "Threshold  -1.0 redis_load\n"
     ]
    },
    {
     "name": "stderr",
     "output_type": "stream",
     "text": [
      "<ipython-input-82-dcc1e2084555>:27: UserWarning: Boolean Series key will be reindexed to match DataFrame index.\n",
      "  df_hk = df[df.cmdb_id == host][df.name == kpi]\n",
      "<ipython-input-82-dcc1e2084555>:27: UserWarning: Boolean Series key will be reindexed to match DataFrame index.\n",
      "  df_hk = df[df.cmdb_id == host][df.name == kpi]\n",
      "<ipython-input-82-dcc1e2084555>:27: UserWarning: Boolean Series key will be reindexed to match DataFrame index.\n",
      "  df_hk = df[df.cmdb_id == host][df.name == kpi]\n",
      "<ipython-input-82-dcc1e2084555>:27: UserWarning: Boolean Series key will be reindexed to match DataFrame index.\n",
      "  df_hk = df[df.cmdb_id == host][df.name == kpi]\n"
     ]
    },
    {
     "name": "stdout",
     "output_type": "stream",
     "text": [
      "Threshold  0.5709307574208575 connected_clients\n",
      "Threshold  0.5811094814164166 mem_fragmentation_ratio\n",
      "Threshold  0.5791609063404791 total_commands_processed\n",
      "Threshold  0.5791217430621103 total_connections_received\n"
     ]
    },
    {
     "name": "stderr",
     "output_type": "stream",
     "text": [
      "<ipython-input-82-dcc1e2084555>:27: UserWarning: Boolean Series key will be reindexed to match DataFrame index.\n",
      "  df_hk = df[df.cmdb_id == host][df.name == kpi]\n",
      "<ipython-input-82-dcc1e2084555>:27: UserWarning: Boolean Series key will be reindexed to match DataFrame index.\n",
      "  df_hk = df[df.cmdb_id == host][df.name == kpi]\n",
      "<ipython-input-82-dcc1e2084555>:27: UserWarning: Boolean Series key will be reindexed to match DataFrame index.\n",
      "  df_hk = df[df.cmdb_id == host][df.name == kpi]\n",
      "<ipython-input-82-dcc1e2084555>:27: UserWarning: Boolean Series key will be reindexed to match DataFrame index.\n",
      "  df_hk = df[df.cmdb_id == host][df.name == kpi]\n"
     ]
    },
    {
     "name": "stdout",
     "output_type": "stream",
     "text": [
      "Threshold  0.5790873292643588 keyspace_hits\n",
      "Threshold  nan expired_keys\n",
      "NaN, Skipping!\n",
      "Threshold  nan redis_ping\n",
      "NaN, Skipping!\n",
      "Threshold  nan used_memory_peak\n",
      "NaN, Skipping!\n",
      "Threshold  0.5818527515627949 instantaneous_output_kbps"
     ]
    },
    {
     "name": "stderr",
     "output_type": "stream",
     "text": [
      "<ipython-input-82-dcc1e2084555>:27: UserWarning: Boolean Series key will be reindexed to match DataFrame index.\n",
      "  df_hk = df[df.cmdb_id == host][df.name == kpi]\n",
      "<ipython-input-82-dcc1e2084555>:27: UserWarning: Boolean Series key will be reindexed to match DataFrame index.\n",
      "  df_hk = df[df.cmdb_id == host][df.name == kpi]\n",
      "<ipython-input-82-dcc1e2084555>:27: UserWarning: Boolean Series key will be reindexed to match DataFrame index.\n",
      "  df_hk = df[df.cmdb_id == host][df.name == kpi]\n",
      "<ipython-input-82-dcc1e2084555>:27: UserWarning: Boolean Series key will be reindexed to match DataFrame index.\n",
      "  df_hk = df[df.cmdb_id == host][df.name == kpi]\n",
      "<ipython-input-82-dcc1e2084555>:27: UserWarning: Boolean Series key will be reindexed to match DataFrame index.\n",
      "  df_hk = df[df.cmdb_id == host][df.name == kpi]\n"
     ]
    },
    {
     "name": "stdout",
     "output_type": "stream",
     "text": [
      "\n",
      "[1 1 1 1 0 0 0 0 0 0 0 0 0 0 0 0 0 0 0 0 0 0 0 0 1 1 1 1 1 1]\n",
      "ST Threshold Anomaly!\n",
      "Threshold  0.5783698732432878 instantaneous_input_kbps\n",
      "[1 1 1 0 0 0 0 0 0 0 0 0 0 0 0 0 0 0 0 0 0 0 0 0 1 1 1 1 1 1]\n",
      "ST Threshold Anomaly!\n",
      "Threshold  nan Redis_key_count\n",
      "NaN, Skipping!\n",
      "Threshold  -1.0 evicted_keys\n",
      "Threshold "
     ]
    },
    {
     "name": "stderr",
     "output_type": "stream",
     "text": [
      "<ipython-input-82-dcc1e2084555>:27: UserWarning: Boolean Series key will be reindexed to match DataFrame index.\n",
      "  df_hk = df[df.cmdb_id == host][df.name == kpi]\n",
      "<ipython-input-82-dcc1e2084555>:27: UserWarning: Boolean Series key will be reindexed to match DataFrame index.\n",
      "  df_hk = df[df.cmdb_id == host][df.name == kpi]\n",
      "<ipython-input-82-dcc1e2084555>:27: UserWarning: Boolean Series key will be reindexed to match DataFrame index.\n",
      "  df_hk = df[df.cmdb_id == host][df.name == kpi]\n",
      "<ipython-input-82-dcc1e2084555>:27: UserWarning: Boolean Series key will be reindexed to match DataFrame index.\n",
      "  df_hk = df[df.cmdb_id == host][df.name == kpi]\n",
      "<ipython-input-82-dcc1e2084555>:27: UserWarning: Boolean Series key will be reindexed to match DataFrame index.\n",
      "  df_hk = df[df.cmdb_id == host][df.name == kpi]\n"
     ]
    },
    {
     "name": "stdout",
     "output_type": "stream",
     "text": [
      " 0.5493940937267887 used_cpu_user\n",
      "Threshold  0.5789051475777539 used_memory\n",
      "Threshold  nan maxmemory\n",
      "NaN, Skipping!\n",
      "Threshold  0.6023420151904201 used_cpu_sys\n",
      "redis_009  completed in  1.1335737705230713\n",
      "************************************************************\n",
      "Checking  redis_004\n",
      "Threshold  nan used_memory_rss\n",
      "NaN, Skipping!"
     ]
    },
    {
     "name": "stderr",
     "output_type": "stream",
     "text": [
      "<ipython-input-82-dcc1e2084555>:27: UserWarning: Boolean Series key will be reindexed to match DataFrame index.\n",
      "  df_hk = df[df.cmdb_id == host][df.name == kpi]\n",
      "<ipython-input-82-dcc1e2084555>:27: UserWarning: Boolean Series key will be reindexed to match DataFrame index.\n",
      "  df_hk = df[df.cmdb_id == host][df.name == kpi]\n",
      "<ipython-input-82-dcc1e2084555>:27: UserWarning: Boolean Series key will be reindexed to match DataFrame index.\n",
      "  df_hk = df[df.cmdb_id == host][df.name == kpi]\n",
      "<ipython-input-82-dcc1e2084555>:27: UserWarning: Boolean Series key will be reindexed to match DataFrame index.\n",
      "  df_hk = df[df.cmdb_id == host][df.name == kpi]\n",
      "<ipython-input-82-dcc1e2084555>:27: UserWarning: Boolean Series key will be reindexed to match DataFrame index.\n",
      "  df_hk = df[df.cmdb_id == host][df.name == kpi]\n",
      "<ipython-input-82-dcc1e2084555>:27: UserWarning: Boolean Series key will be reindexed to match DataFrame index.\n",
      "  df_hk = df[df.cmdb_id == host][df.name == kpi]\n",
      "<ipython-input-82-dcc1e2084555>:27: UserWarning: Boolean Series key will be reindexed to match DataFrame index.\n",
      "  df_hk = df[df.cmdb_id == host][df.name == kpi]\n"
     ]
    },
    {
     "name": "stdout",
     "output_type": "stream",
     "text": [
      "\n",
      "Threshold  -1.0 rejected_connections\n",
      "Threshold  nan keyspace_misses\n",
      "NaN, Skipping!\n",
      "Threshold  -1.0 blocked_clients\n",
      "Threshold  1.7574823443323129 instantaneous_ops_per_sec\n",
      "Threshold  -1.0 redis_load\n",
      "Threshold  nan connected_clients\n",
      "NaN, Skipping!\n",
      "Threshold  nan mem_fragmentation_ratio\n"
     ]
    },
    {
     "name": "stderr",
     "output_type": "stream",
     "text": [
      "<ipython-input-82-dcc1e2084555>:27: UserWarning: Boolean Series key will be reindexed to match DataFrame index.\n",
      "  df_hk = df[df.cmdb_id == host][df.name == kpi]\n",
      "<ipython-input-82-dcc1e2084555>:27: UserWarning: Boolean Series key will be reindexed to match DataFrame index.\n",
      "  df_hk = df[df.cmdb_id == host][df.name == kpi]\n",
      "<ipython-input-82-dcc1e2084555>:27: UserWarning: Boolean Series key will be reindexed to match DataFrame index.\n",
      "  df_hk = df[df.cmdb_id == host][df.name == kpi]\n",
      "<ipython-input-82-dcc1e2084555>:27: UserWarning: Boolean Series key will be reindexed to match DataFrame index.\n",
      "  df_hk = df[df.cmdb_id == host][df.name == kpi]\n"
     ]
    },
    {
     "name": "stdout",
     "output_type": "stream",
     "text": [
      "NaN, Skipping!\n",
      "Threshold  0.6023716749700602 total_commands_processed\n",
      "Threshold  0.578950189021513 total_connections_received\n",
      "Threshold  nan keyspace_hits\n",
      "NaN, Skipping!\n",
      "Threshold  nan expired_keys\n",
      "NaN, Skipping!\n",
      "Threshold  nan redis_ping\n",
      "NaN, Skipping!"
     ]
    },
    {
     "name": "stderr",
     "output_type": "stream",
     "text": [
      "<ipython-input-82-dcc1e2084555>:27: UserWarning: Boolean Series key will be reindexed to match DataFrame index.\n",
      "  df_hk = df[df.cmdb_id == host][df.name == kpi]\n",
      "<ipython-input-82-dcc1e2084555>:27: UserWarning: Boolean Series key will be reindexed to match DataFrame index.\n",
      "  df_hk = df[df.cmdb_id == host][df.name == kpi]\n",
      "<ipython-input-82-dcc1e2084555>:27: UserWarning: Boolean Series key will be reindexed to match DataFrame index.\n",
      "  df_hk = df[df.cmdb_id == host][df.name == kpi]\n",
      "<ipython-input-82-dcc1e2084555>:27: UserWarning: Boolean Series key will be reindexed to match DataFrame index.\n",
      "  df_hk = df[df.cmdb_id == host][df.name == kpi]\n"
     ]
    },
    {
     "name": "stdout",
     "output_type": "stream",
     "text": [
      "\n",
      "Threshold  nan used_memory_peak\n",
      "NaN, Skipping!\n",
      "Threshold  0.7080841645009122 instantaneous_output_kbps\n",
      "Threshold  6.2419795689801525 instantaneous_input_kbps\n",
      "Threshold  nan Redis_key_count\n",
      "NaN, Skipping!\n",
      "Threshold  -1.0 evicted_keys\n"
     ]
    },
    {
     "name": "stderr",
     "output_type": "stream",
     "text": [
      "<ipython-input-82-dcc1e2084555>:27: UserWarning: Boolean Series key will be reindexed to match DataFrame index.\n",
      "  df_hk = df[df.cmdb_id == host][df.name == kpi]\n",
      "<ipython-input-82-dcc1e2084555>:27: UserWarning: Boolean Series key will be reindexed to match DataFrame index.\n",
      "  df_hk = df[df.cmdb_id == host][df.name == kpi]\n",
      "<ipython-input-82-dcc1e2084555>:27: UserWarning: Boolean Series key will be reindexed to match DataFrame index.\n",
      "  df_hk = df[df.cmdb_id == host][df.name == kpi]\n",
      "<ipython-input-82-dcc1e2084555>:27: UserWarning: Boolean Series key will be reindexed to match DataFrame index.\n",
      "  df_hk = df[df.cmdb_id == host][df.name == kpi]\n"
     ]
    },
    {
     "name": "stdout",
     "output_type": "stream",
     "text": [
      "Threshold  2.3220552565444628 used_cpu_user\n",
      "Threshold  0.5789492652675302 used_memory\n",
      "Threshold  nan maxmemory\n",
      "NaN, Skipping!\n",
      "Threshold  2.2976474363393904 used_cpu_sys\n",
      "redis_004  completed in  1.1375558376312256\n",
      "************************************************************\n",
      "Checking  redis_006\n",
      "Threshold  0.5789630218651003 used_memory_rss\n"
     ]
    },
    {
     "name": "stderr",
     "output_type": "stream",
     "text": [
      "<ipython-input-82-dcc1e2084555>:27: UserWarning: Boolean Series key will be reindexed to match DataFrame index.\n",
      "  df_hk = df[df.cmdb_id == host][df.name == kpi]\n",
      "<ipython-input-82-dcc1e2084555>:27: UserWarning: Boolean Series key will be reindexed to match DataFrame index.\n",
      "  df_hk = df[df.cmdb_id == host][df.name == kpi]\n",
      "<ipython-input-82-dcc1e2084555>:27: UserWarning: Boolean Series key will be reindexed to match DataFrame index.\n",
      "  df_hk = df[df.cmdb_id == host][df.name == kpi]\n",
      "<ipython-input-82-dcc1e2084555>:27: UserWarning: Boolean Series key will be reindexed to match DataFrame index.\n",
      "  df_hk = df[df.cmdb_id == host][df.name == kpi]\n"
     ]
    },
    {
     "name": "stdout",
     "output_type": "stream",
     "text": [
      "Threshold  -1.0 rejected_connections\n",
      "Threshold  -1.0 keyspace_misses\n",
      "Threshold  -1.0 blocked_clients\n",
      "Threshold  0.5729811195508172 instantaneous_ops_per_sec\n",
      "Threshold  -1.0 redis_load\n"
     ]
    },
    {
     "name": "stderr",
     "output_type": "stream",
     "text": [
      "<ipython-input-82-dcc1e2084555>:27: UserWarning: Boolean Series key will be reindexed to match DataFrame index.\n",
      "  df_hk = df[df.cmdb_id == host][df.name == kpi]\n",
      "<ipython-input-82-dcc1e2084555>:27: UserWarning: Boolean Series key will be reindexed to match DataFrame index.\n",
      "  df_hk = df[df.cmdb_id == host][df.name == kpi]\n",
      "<ipython-input-82-dcc1e2084555>:27: UserWarning: Boolean Series key will be reindexed to match DataFrame index.\n",
      "  df_hk = df[df.cmdb_id == host][df.name == kpi]\n",
      "<ipython-input-82-dcc1e2084555>:27: UserWarning: Boolean Series key will be reindexed to match DataFrame index.\n",
      "  df_hk = df[df.cmdb_id == host][df.name == kpi]\n",
      "<ipython-input-82-dcc1e2084555>:27: UserWarning: Boolean Series key will be reindexed to match DataFrame index.\n",
      "  df_hk = df[df.cmdb_id == host][df.name == kpi]\n"
     ]
    },
    {
     "name": "stdout",
     "output_type": "stream",
     "text": [
      "Threshold  nan connected_clients\n",
      "NaN, Skipping!\n",
      "Threshold  0.5861092853794526 mem_fragmentation_ratio\n",
      "Threshold  0.5792693528281719 total_commands_processed\n",
      "Threshold  0.5790638760170423 total_connections_received\n",
      "Threshold  nan keyspace_hits\n"
     ]
    },
    {
     "name": "stderr",
     "output_type": "stream",
     "text": [
      "<ipython-input-82-dcc1e2084555>:27: UserWarning: Boolean Series key will be reindexed to match DataFrame index.\n",
      "  df_hk = df[df.cmdb_id == host][df.name == kpi]\n",
      "<ipython-input-82-dcc1e2084555>:27: UserWarning: Boolean Series key will be reindexed to match DataFrame index.\n",
      "  df_hk = df[df.cmdb_id == host][df.name == kpi]\n",
      "<ipython-input-82-dcc1e2084555>:27: UserWarning: Boolean Series key will be reindexed to match DataFrame index.\n",
      "  df_hk = df[df.cmdb_id == host][df.name == kpi]\n",
      "<ipython-input-82-dcc1e2084555>:27: UserWarning: Boolean Series key will be reindexed to match DataFrame index.\n",
      "  df_hk = df[df.cmdb_id == host][df.name == kpi]\n",
      "<ipython-input-82-dcc1e2084555>:27: UserWarning: Boolean Series key will be reindexed to match DataFrame index.\n",
      "  df_hk = df[df.cmdb_id == host][df.name == kpi]\n"
     ]
    },
    {
     "name": "stdout",
     "output_type": "stream",
     "text": [
      "NaN, Skipping!\n",
      "Threshold  -1.0 expired_keys\n",
      "Threshold  nan redis_ping\n",
      "NaN, Skipping!\n",
      "Threshold  nan used_memory_peak\n",
      "NaN, Skipping!\n",
      "Threshold  0.8237838212170998 instantaneous_output_kbps\n",
      "Threshold  0.5759109820329257 instantaneous_input_kbps\n"
     ]
    },
    {
     "name": "stderr",
     "output_type": "stream",
     "text": [
      "<ipython-input-82-dcc1e2084555>:27: UserWarning: Boolean Series key will be reindexed to match DataFrame index.\n",
      "  df_hk = df[df.cmdb_id == host][df.name == kpi]\n",
      "<ipython-input-82-dcc1e2084555>:27: UserWarning: Boolean Series key will be reindexed to match DataFrame index.\n",
      "  df_hk = df[df.cmdb_id == host][df.name == kpi]\n",
      "<ipython-input-82-dcc1e2084555>:27: UserWarning: Boolean Series key will be reindexed to match DataFrame index.\n",
      "  df_hk = df[df.cmdb_id == host][df.name == kpi]\n",
      "<ipython-input-82-dcc1e2084555>:27: UserWarning: Boolean Series key will be reindexed to match DataFrame index.\n",
      "  df_hk = df[df.cmdb_id == host][df.name == kpi]\n",
      "<ipython-input-82-dcc1e2084555>:27: UserWarning: Boolean Series key will be reindexed to match DataFrame index.\n",
      "  df_hk = df[df.cmdb_id == host][df.name == kpi]\n"
     ]
    },
    {
     "name": "stdout",
     "output_type": "stream",
     "text": [
      "[0 0 1 1 1 1 1 0 0 0 0 0 0 0 0 0 0 0 0 0 1 0 0 0 0 0 1 1 0 0]\n",
      "ST Threshold Anomaly!\n",
      "Threshold  nan Redis_key_count\n",
      "NaN, Skipping!\n",
      "Threshold  -1.0 evicted_keys\n",
      "Threshold  0.5868937083050778 used_cpu_user\n",
      "[0 1 1 0 1 1 0 0 1 0 0 0 0 0 0 0 0 0 0 0 0 0 0 0 1 0 0 0 1 1]\n",
      "ST Threshold Anomaly!\n",
      "Threshold  0.5794540883757782 used_memory\n",
      "Threshold  nan maxmemory\n"
     ]
    },
    {
     "name": "stderr",
     "output_type": "stream",
     "text": [
      "<ipython-input-82-dcc1e2084555>:27: UserWarning: Boolean Series key will be reindexed to match DataFrame index.\n",
      "  df_hk = df[df.cmdb_id == host][df.name == kpi]\n",
      "<ipython-input-82-dcc1e2084555>:27: UserWarning: Boolean Series key will be reindexed to match DataFrame index.\n",
      "  df_hk = df[df.cmdb_id == host][df.name == kpi]\n",
      "<ipython-input-82-dcc1e2084555>:27: UserWarning: Boolean Series key will be reindexed to match DataFrame index.\n",
      "  df_hk = df[df.cmdb_id == host][df.name == kpi]\n",
      "<ipython-input-82-dcc1e2084555>:27: UserWarning: Boolean Series key will be reindexed to match DataFrame index.\n",
      "  df_hk = df[df.cmdb_id == host][df.name == kpi]\n",
      "<ipython-input-82-dcc1e2084555>:27: UserWarning: Boolean Series key will be reindexed to match DataFrame index.\n",
      "  df_hk = df[df.cmdb_id == host][df.name == kpi]\n"
     ]
    },
    {
     "name": "stdout",
     "output_type": "stream",
     "text": [
      "NaN, Skipping!\n",
      "Threshold  0.5635708965562816 used_cpu_sys\n",
      "[1 1 0 1 0 0 0 1 0 0 0 0 0 0 0 0 0 0 0 0 0 0 0 1 0 1 0 1 1 1]\n",
      "ST Threshold Anomaly!\n",
      "redis_006  completed in  1.1147148609161377\n",
      "************************************************************\n",
      "Checking  redis_002\n",
      "Threshold  0.5789474725678624 used_memory_rss\n",
      "Threshold  -1.0 rejected_connections\n",
      "Threshold  0.5790901159802163 keyspace_misses\n"
     ]
    },
    {
     "name": "stderr",
     "output_type": "stream",
     "text": [
      "<ipython-input-82-dcc1e2084555>:27: UserWarning: Boolean Series key will be reindexed to match DataFrame index.\n",
      "  df_hk = df[df.cmdb_id == host][df.name == kpi]\n",
      "<ipython-input-82-dcc1e2084555>:27: UserWarning: Boolean Series key will be reindexed to match DataFrame index.\n",
      "  df_hk = df[df.cmdb_id == host][df.name == kpi]\n",
      "<ipython-input-82-dcc1e2084555>:27: UserWarning: Boolean Series key will be reindexed to match DataFrame index.\n",
      "  df_hk = df[df.cmdb_id == host][df.name == kpi]\n",
      "<ipython-input-82-dcc1e2084555>:27: UserWarning: Boolean Series key will be reindexed to match DataFrame index.\n",
      "  df_hk = df[df.cmdb_id == host][df.name == kpi]\n"
     ]
    },
    {
     "name": "stdout",
     "output_type": "stream",
     "text": [
      "Threshold  -1.0 blocked_clients\n",
      "Threshold  0.582658930293627 instantaneous_ops_per_sec\n",
      "Threshold  -1.0 redis_load\n",
      "Threshold  0.5820869560177478 connected_clients\n",
      "Threshold "
     ]
    },
    {
     "name": "stderr",
     "output_type": "stream",
     "text": [
      "<ipython-input-82-dcc1e2084555>:27: UserWarning: Boolean Series key will be reindexed to match DataFrame index.\n",
      "  df_hk = df[df.cmdb_id == host][df.name == kpi]\n",
      "<ipython-input-82-dcc1e2084555>:27: UserWarning: Boolean Series key will be reindexed to match DataFrame index.\n",
      "  df_hk = df[df.cmdb_id == host][df.name == kpi]\n",
      "<ipython-input-82-dcc1e2084555>:27: UserWarning: Boolean Series key will be reindexed to match DataFrame index.\n",
      "  df_hk = df[df.cmdb_id == host][df.name == kpi]\n",
      "<ipython-input-82-dcc1e2084555>:27: UserWarning: Boolean Series key will be reindexed to match DataFrame index.\n",
      "  df_hk = df[df.cmdb_id == host][df.name == kpi]\n"
     ]
    },
    {
     "name": "stdout",
     "output_type": "stream",
     "text": [
      " 0.5948889366863825 mem_fragmentation_ratio\n",
      "Threshold  0.579185232961334 total_commands_processed\n",
      "Threshold  0.5791189280718059 total_connections_received\n",
      "Threshold  0.5790872682634678 keyspace_hits\n",
      "Threshold  nan expired_keys\n",
      "NaN, Skipping!"
     ]
    },
    {
     "name": "stderr",
     "output_type": "stream",
     "text": [
      "<ipython-input-82-dcc1e2084555>:27: UserWarning: Boolean Series key will be reindexed to match DataFrame index.\n",
      "  df_hk = df[df.cmdb_id == host][df.name == kpi]\n",
      "<ipython-input-82-dcc1e2084555>:27: UserWarning: Boolean Series key will be reindexed to match DataFrame index.\n",
      "  df_hk = df[df.cmdb_id == host][df.name == kpi]\n",
      "<ipython-input-82-dcc1e2084555>:27: UserWarning: Boolean Series key will be reindexed to match DataFrame index.\n",
      "  df_hk = df[df.cmdb_id == host][df.name == kpi]\n",
      "<ipython-input-82-dcc1e2084555>:27: UserWarning: Boolean Series key will be reindexed to match DataFrame index.\n",
      "  df_hk = df[df.cmdb_id == host][df.name == kpi]\n"
     ]
    },
    {
     "name": "stdout",
     "output_type": "stream",
     "text": [
      "\n",
      "Threshold  nan redis_ping\n",
      "NaN, Skipping!\n",
      "Threshold  nan used_memory_peak\n",
      "NaN, Skipping!\n",
      "Threshold  0.5691423366884618 instantaneous_output_kbps\n",
      "Threshold  0.5633414347490252 instantaneous_input_kbps\n",
      "Threshold  nan Redis_key_count\n"
     ]
    },
    {
     "name": "stderr",
     "output_type": "stream",
     "text": [
      "<ipython-input-82-dcc1e2084555>:27: UserWarning: Boolean Series key will be reindexed to match DataFrame index.\n",
      "  df_hk = df[df.cmdb_id == host][df.name == kpi]\n",
      "<ipython-input-82-dcc1e2084555>:27: UserWarning: Boolean Series key will be reindexed to match DataFrame index.\n",
      "  df_hk = df[df.cmdb_id == host][df.name == kpi]\n",
      "<ipython-input-82-dcc1e2084555>:27: UserWarning: Boolean Series key will be reindexed to match DataFrame index.\n",
      "  df_hk = df[df.cmdb_id == host][df.name == kpi]\n",
      "<ipython-input-82-dcc1e2084555>:27: UserWarning: Boolean Series key will be reindexed to match DataFrame index.\n",
      "  df_hk = df[df.cmdb_id == host][df.name == kpi]\n",
      "<ipython-input-82-dcc1e2084555>:27: UserWarning: Boolean Series key will be reindexed to match DataFrame index.\n",
      "  df_hk = df[df.cmdb_id == host][df.name == kpi]\n"
     ]
    },
    {
     "name": "stdout",
     "output_type": "stream",
     "text": [
      "NaN, Skipping!\n",
      "Threshold  -1.0 evicted_keys\n",
      "Threshold  0.6047790740991271 used_cpu_user\n",
      "Threshold  0.5789949728571362 used_memory\n",
      "Threshold  nan maxmemory\n",
      "NaN, Skipping!"
     ]
    },
    {
     "name": "stderr",
     "output_type": "stream",
     "text": [
      "<ipython-input-82-dcc1e2084555>:27: UserWarning: Boolean Series key will be reindexed to match DataFrame index.\n",
      "  df_hk = df[df.cmdb_id == host][df.name == kpi]\n",
      "<ipython-input-82-dcc1e2084555>:27: UserWarning: Boolean Series key will be reindexed to match DataFrame index.\n",
      "  df_hk = df[df.cmdb_id == host][df.name == kpi]\n",
      "<ipython-input-82-dcc1e2084555>:27: UserWarning: Boolean Series key will be reindexed to match DataFrame index.\n",
      "  df_hk = df[df.cmdb_id == host][df.name == kpi]\n",
      "<ipython-input-82-dcc1e2084555>:27: UserWarning: Boolean Series key will be reindexed to match DataFrame index.\n",
      "  df_hk = df[df.cmdb_id == host][df.name == kpi]\n",
      "<ipython-input-82-dcc1e2084555>:27: UserWarning: Boolean Series key will be reindexed to match DataFrame index.\n",
      "  df_hk = df[df.cmdb_id == host][df.name == kpi]\n"
     ]
    },
    {
     "name": "stdout",
     "output_type": "stream",
     "text": [
      "\n",
      "Threshold  0.6340783388120798 used_cpu_sys\n",
      "redis_002  completed in  1.2299468517303467\n",
      "************************************************************\n",
      "Checking  redis_010\n",
      "Threshold  0.5790311130709268 used_memory_rss\n",
      "Threshold  -1.0 rejected_connections\n",
      "Threshold  -1.0 keyspace_misses\n",
      "Threshold  -1.0 blocked_clients\n",
      "Threshold "
     ]
    },
    {
     "name": "stderr",
     "output_type": "stream",
     "text": [
      "<ipython-input-82-dcc1e2084555>:27: UserWarning: Boolean Series key will be reindexed to match DataFrame index.\n",
      "  df_hk = df[df.cmdb_id == host][df.name == kpi]\n",
      "<ipython-input-82-dcc1e2084555>:27: UserWarning: Boolean Series key will be reindexed to match DataFrame index.\n",
      "  df_hk = df[df.cmdb_id == host][df.name == kpi]\n",
      "<ipython-input-82-dcc1e2084555>:27: UserWarning: Boolean Series key will be reindexed to match DataFrame index.\n",
      "  df_hk = df[df.cmdb_id == host][df.name == kpi]\n",
      "<ipython-input-82-dcc1e2084555>:27: UserWarning: Boolean Series key will be reindexed to match DataFrame index.\n",
      "  df_hk = df[df.cmdb_id == host][df.name == kpi]\n"
     ]
    },
    {
     "name": "stdout",
     "output_type": "stream",
     "text": [
      " 0.5802757191651955 instantaneous_ops_per_sec\n",
      "Threshold  -1.0 redis_load\n",
      "Threshold  nan connected_clients\n",
      "NaN, Skipping!\n",
      "Threshold  0.5826212125277711 mem_fragmentation_ratio\n",
      "Threshold  0.5794012999523679 total_commands_processed\n"
     ]
    },
    {
     "name": "stderr",
     "output_type": "stream",
     "text": [
      "<ipython-input-82-dcc1e2084555>:27: UserWarning: Boolean Series key will be reindexed to match DataFrame index.\n",
      "  df_hk = df[df.cmdb_id == host][df.name == kpi]\n",
      "<ipython-input-82-dcc1e2084555>:27: UserWarning: Boolean Series key will be reindexed to match DataFrame index.\n",
      "  df_hk = df[df.cmdb_id == host][df.name == kpi]\n",
      "<ipython-input-82-dcc1e2084555>:27: UserWarning: Boolean Series key will be reindexed to match DataFrame index.\n",
      "  df_hk = df[df.cmdb_id == host][df.name == kpi]\n",
      "<ipython-input-82-dcc1e2084555>:27: UserWarning: Boolean Series key will be reindexed to match DataFrame index.\n",
      "  df_hk = df[df.cmdb_id == host][df.name == kpi]\n",
      "<ipython-input-82-dcc1e2084555>:27: UserWarning: Boolean Series key will be reindexed to match DataFrame index.\n",
      "  df_hk = df[df.cmdb_id == host][df.name == kpi]\n",
      "<ipython-input-82-dcc1e2084555>:27: UserWarning: Boolean Series key will be reindexed to match DataFrame index.\n",
      "  df_hk = df[df.cmdb_id == host][df.name == kpi]\n",
      "<ipython-input-82-dcc1e2084555>:27: UserWarning: Boolean Series key will be reindexed to match DataFrame index.\n",
      "  df_hk = df[df.cmdb_id == host][df.name == kpi]\n",
      "<ipython-input-82-dcc1e2084555>:27: UserWarning: Boolean Series key will be reindexed to match DataFrame index.\n",
      "  df_hk = df[df.cmdb_id == host][df.name == kpi]\n",
      "<ipython-input-82-dcc1e2084555>:27: UserWarning: Boolean Series key will be reindexed to match DataFrame index.\n",
      "  df_hk = df[df.cmdb_id == host][df.name == kpi]\n"
     ]
    },
    {
     "name": "stdout",
     "output_type": "stream",
     "text": [
      "Threshold  0.5790618511074045 total_connections_received\n",
      "Threshold  nan keyspace_hits\n",
      "NaN, Skipping!\n",
      "Threshold  -1.0 expired_keys\n",
      "Threshold  nan redis_ping\n",
      "NaN, Skipping!"
     ]
    },
    {
     "name": "stderr",
     "output_type": "stream",
     "text": [
      "<ipython-input-82-dcc1e2084555>:27: UserWarning: Boolean Series key will be reindexed to match DataFrame index.\n",
      "  df_hk = df[df.cmdb_id == host][df.name == kpi]\n",
      "<ipython-input-82-dcc1e2084555>:27: UserWarning: Boolean Series key will be reindexed to match DataFrame index.\n",
      "  df_hk = df[df.cmdb_id == host][df.name == kpi]\n",
      "<ipython-input-82-dcc1e2084555>:27: UserWarning: Boolean Series key will be reindexed to match DataFrame index.\n",
      "  df_hk = df[df.cmdb_id == host][df.name == kpi]\n",
      "<ipython-input-82-dcc1e2084555>:27: UserWarning: Boolean Series key will be reindexed to match DataFrame index.\n",
      "  df_hk = df[df.cmdb_id == host][df.name == kpi]\n",
      "<ipython-input-82-dcc1e2084555>:27: UserWarning: Boolean Series key will be reindexed to match DataFrame index.\n",
      "  df_hk = df[df.cmdb_id == host][df.name == kpi]\n"
     ]
    },
    {
     "name": "stdout",
     "output_type": "stream",
     "text": [
      "\n",
      "Threshold  nan used_memory_peak\n",
      "NaN, Skipping!\n",
      "Threshold  3.1223797047270327 instantaneous_output_kbps\n",
      "Threshold  0.5615364080577432 instantaneous_input_kbps\n",
      "[1 1 1 0 0 0 1 1 0 0 0 0 0 0 0 0 0 0 0 0 0 0 0 0 1 1 1 1 1 1]\n",
      "ST Threshold Anomaly!\n",
      "Threshold  nan Redis_key_count\n",
      "NaN, Skipping!\n",
      "Threshold  -1.0 evicted_keys\n",
      "Threshold "
     ]
    },
    {
     "name": "stderr",
     "output_type": "stream",
     "text": [
      "<ipython-input-82-dcc1e2084555>:27: UserWarning: Boolean Series key will be reindexed to match DataFrame index.\n",
      "  df_hk = df[df.cmdb_id == host][df.name == kpi]\n",
      "<ipython-input-82-dcc1e2084555>:27: UserWarning: Boolean Series key will be reindexed to match DataFrame index.\n",
      "  df_hk = df[df.cmdb_id == host][df.name == kpi]\n",
      "<ipython-input-82-dcc1e2084555>:27: UserWarning: Boolean Series key will be reindexed to match DataFrame index.\n",
      "  df_hk = df[df.cmdb_id == host][df.name == kpi]\n",
      "<ipython-input-82-dcc1e2084555>:27: UserWarning: Boolean Series key will be reindexed to match DataFrame index.\n",
      "  df_hk = df[df.cmdb_id == host][df.name == kpi]\n",
      "<ipython-input-82-dcc1e2084555>:27: UserWarning: Boolean Series key will be reindexed to match DataFrame index.\n",
      "  df_hk = df[df.cmdb_id == host][df.name == kpi]\n"
     ]
    },
    {
     "name": "stdout",
     "output_type": "stream",
     "text": [
      " 0.5942640433756077 used_cpu_user\n",
      "[1 0 1 0 1 0 1 0 0 0 0 0 0 0 0 0 0 0 0 0 0 0 0 0 1 1 0 1 1 1]\n",
      "ST Threshold Anomaly!\n",
      "Threshold  0.5788836073963164 used_memory\n",
      "Threshold  nan maxmemory\n",
      "NaN, Skipping!\n",
      "Threshold  0.6186619663939171 used_cpu_sys\n",
      "[1 1 1 0 1 0 0 0 0 0 0 0 0 0 0 0 0 0 0 0 0 1 0 0 0 1 1 0 1 1]\n",
      "ST Threshold Anomaly!\n",
      "redis_010  completed in  1.180063009262085\n",
      "************************************************************\n",
      "Checking  os_003\n",
      "Threshold  -1.0 Sent_errors_packets\n",
      "Threshold "
     ]
    },
    {
     "name": "stderr",
     "output_type": "stream",
     "text": [
      "<ipython-input-82-dcc1e2084555>:27: UserWarning: Boolean Series key will be reindexed to match DataFrame index.\n",
      "  df_hk = df[df.cmdb_id == host][df.name == kpi]\n",
      "<ipython-input-82-dcc1e2084555>:27: UserWarning: Boolean Series key will be reindexed to match DataFrame index.\n",
      "  df_hk = df[df.cmdb_id == host][df.name == kpi]\n",
      "<ipython-input-82-dcc1e2084555>:27: UserWarning: Boolean Series key will be reindexed to match DataFrame index.\n",
      "  df_hk = df[df.cmdb_id == host][df.name == kpi]\n",
      "<ipython-input-82-dcc1e2084555>:27: UserWarning: Boolean Series key will be reindexed to match DataFrame index.\n",
      "  df_hk = df[df.cmdb_id == host][df.name == kpi]\n"
     ]
    },
    {
     "name": "stdout",
     "output_type": "stream",
     "text": [
      " 3.762140289421727 Processor_load_5_min\n",
      "Threshold  -1.0 Disk_rd_ios\n",
      "Threshold  0.6577354322946158 CPU_util_pct\n",
      "Threshold  3.0367910604400628 Disk_io_util\n",
      "Threshold  0.5724441222985784 Num_of_processes\n"
     ]
    },
    {
     "name": "stderr",
     "output_type": "stream",
     "text": [
      "<ipython-input-82-dcc1e2084555>:27: UserWarning: Boolean Series key will be reindexed to match DataFrame index.\n",
      "  df_hk = df[df.cmdb_id == host][df.name == kpi]\n",
      "<ipython-input-82-dcc1e2084555>:27: UserWarning: Boolean Series key will be reindexed to match DataFrame index.\n",
      "  df_hk = df[df.cmdb_id == host][df.name == kpi]\n",
      "<ipython-input-82-dcc1e2084555>:27: UserWarning: Boolean Series key will be reindexed to match DataFrame index.\n",
      "  df_hk = df[df.cmdb_id == host][df.name == kpi]\n",
      "<ipython-input-82-dcc1e2084555>:27: UserWarning: Boolean Series key will be reindexed to match DataFrame index.\n",
      "  df_hk = df[df.cmdb_id == host][df.name == kpi]\n"
     ]
    },
    {
     "name": "stdout",
     "output_type": "stream",
     "text": [
      "Threshold  0.6127500404639452 Send_total\n",
      "Threshold  0.5826652802481613 Outgoing_network_traffic\n",
      "Threshold  0.5791574390742972 Memory_available_pct\n",
      "Threshold  0.6489282906443044 Incoming_network_traffic\n"
     ]
    },
    {
     "name": "stderr",
     "output_type": "stream",
     "text": [
      "<ipython-input-82-dcc1e2084555>:27: UserWarning: Boolean Series key will be reindexed to match DataFrame index.\n",
      "  df_hk = df[df.cmdb_id == host][df.name == kpi]\n",
      "<ipython-input-82-dcc1e2084555>:27: UserWarning: Boolean Series key will be reindexed to match DataFrame index.\n",
      "  df_hk = df[df.cmdb_id == host][df.name == kpi]\n",
      "/Users/baconbaker/anaconda3/envs/ml/lib/python3.8/site-packages/alibi_detect/od/sr.py:96: RuntimeWarning: divide by zero encountered in log\n",
      "  log_amp = np.log(amp)\n",
      "/Users/baconbaker/anaconda3/envs/ml/lib/python3.8/site-packages/alibi_detect/od/sr.py:99: RuntimeWarning: invalid value encountered in subtract\n",
      "  res_amp = log_amp - ma_log_amp\n",
      "/Users/baconbaker/anaconda3/envs/ml/lib/python3.8/site-packages/alibi_detect/od/sr.py:207: RuntimeWarning: invalid value encountered in greater\n",
      "  outlier_pred = (iscore > self.threshold).astype(int)\n",
      "<ipython-input-82-dcc1e2084555>:27: UserWarning: Boolean Series key will be reindexed to match DataFrame index.\n",
      "  df_hk = df[df.cmdb_id == host][df.name == kpi]\n",
      "<ipython-input-82-dcc1e2084555>:27: UserWarning: Boolean Series key will be reindexed to match DataFrame index.\n",
      "  df_hk = df[df.cmdb_id == host][df.name == kpi]\n"
     ]
    },
    {
     "name": "stdout",
     "output_type": "stream",
     "text": [
      "Threshold  2.573437212359544 Zombie_Process\n",
      "Threshold  0.5792545665194825 Recv_total\n",
      "Threshold  0.5777088888825538 Page_po\n",
      "Threshold  0.5779767037861827 CPU_idle_pct\n"
     ]
    },
    {
     "name": "stderr",
     "output_type": "stream",
     "text": [
      "<ipython-input-82-dcc1e2084555>:27: UserWarning: Boolean Series key will be reindexed to match DataFrame index.\n",
      "  df_hk = df[df.cmdb_id == host][df.name == kpi]\n",
      "<ipython-input-82-dcc1e2084555>:27: UserWarning: Boolean Series key will be reindexed to match DataFrame index.\n",
      "  df_hk = df[df.cmdb_id == host][df.name == kpi]\n",
      "<ipython-input-82-dcc1e2084555>:27: UserWarning: Boolean Series key will be reindexed to match DataFrame index.\n",
      "  df_hk = df[df.cmdb_id == host][df.name == kpi]\n",
      "<ipython-input-82-dcc1e2084555>:27: UserWarning: Boolean Series key will be reindexed to match DataFrame index.\n",
      "  df_hk = df[df.cmdb_id == host][df.name == kpi]\n"
     ]
    },
    {
     "name": "stdout",
     "output_type": "stream",
     "text": [
      "Threshold  5.044408316976936 Processor_load_1_min\n",
      "Threshold  nan Agent_ping\n",
      "NaN, Skipping!\n",
      "Threshold  1.1115811615537936 Num_of_running_processes\n",
      "Threshold  0.5907992517461359 ss_total\n"
     ]
    },
    {
     "name": "stderr",
     "output_type": "stream",
     "text": [
      "/Users/baconbaker/anaconda3/envs/ml/lib/python3.8/site-packages/alibi_detect/od/sr.py:96: RuntimeWarning: divide by zero encountered in log\n",
      "  log_amp = np.log(amp)\n",
      "/Users/baconbaker/anaconda3/envs/ml/lib/python3.8/site-packages/alibi_detect/od/sr.py:99: RuntimeWarning: invalid value encountered in subtract\n",
      "  res_amp = log_amp - ma_log_amp\n",
      "/Users/baconbaker/anaconda3/envs/ml/lib/python3.8/site-packages/alibi_detect/od/sr.py:207: RuntimeWarning: invalid value encountered in greater\n",
      "  outlier_pred = (iscore > self.threshold).astype(int)\n",
      "<ipython-input-82-dcc1e2084555>:27: UserWarning: Boolean Series key will be reindexed to match DataFrame index.\n",
      "  df_hk = df[df.cmdb_id == host][df.name == kpi]\n",
      "<ipython-input-82-dcc1e2084555>:27: UserWarning: Boolean Series key will be reindexed to match DataFrame index.\n",
      "  df_hk = df[df.cmdb_id == host][df.name == kpi]\n",
      "<ipython-input-82-dcc1e2084555>:27: UserWarning: Boolean Series key will be reindexed to match DataFrame index.\n",
      "  df_hk = df[df.cmdb_id == host][df.name == kpi]\n",
      "<ipython-input-82-dcc1e2084555>:27: UserWarning: Boolean Series key will be reindexed to match DataFrame index.\n",
      "  df_hk = df[df.cmdb_id == host][df.name == kpi]\n"
     ]
    },
    {
     "name": "stdout",
     "output_type": "stream",
     "text": [
      "Threshold  2.778411511192723 Processor_load_15_min\n",
      "Threshold  -1.0 Page_pi\n",
      "Threshold  1.8314378063749621 Disk_avgqu_sz\n",
      "Threshold  0.5466850499119615 Disk_wr_kbs\n",
      "Threshold  1.4911088435435853 Disk_await\n"
     ]
    },
    {
     "name": "stderr",
     "output_type": "stream",
     "text": [
      "<ipython-input-82-dcc1e2084555>:27: UserWarning: Boolean Series key will be reindexed to match DataFrame index.\n",
      "  df_hk = df[df.cmdb_id == host][df.name == kpi]\n",
      "<ipython-input-82-dcc1e2084555>:27: UserWarning: Boolean Series key will be reindexed to match DataFrame index.\n",
      "  df_hk = df[df.cmdb_id == host][df.name == kpi]\n",
      "<ipython-input-82-dcc1e2084555>:27: UserWarning: Boolean Series key will be reindexed to match DataFrame index.\n",
      "  df_hk = df[df.cmdb_id == host][df.name == kpi]\n",
      "<ipython-input-82-dcc1e2084555>:27: UserWarning: Boolean Series key will be reindexed to match DataFrame index.\n",
      "  df_hk = df[df.cmdb_id == host][df.name == kpi]\n"
     ]
    },
    {
     "name": "stdout",
     "output_type": "stream",
     "text": [
      "Threshold  nan Shared_memory\n",
      "NaN, Skipping!\n",
      "Threshold  0.5996116889131426 CPU_user_time\n",
      "Threshold  1.3825094125786128 Disk_svctm\n",
      "Threshold  0.6150080828163076 Disk_wr_ios\n"
     ]
    },
    {
     "name": "stderr",
     "output_type": "stream",
     "text": [
      "<ipython-input-82-dcc1e2084555>:27: UserWarning: Boolean Series key will be reindexed to match DataFrame index.\n",
      "  df_hk = df[df.cmdb_id == host][df.name == kpi]\n",
      "<ipython-input-82-dcc1e2084555>:27: UserWarning: Boolean Series key will be reindexed to match DataFrame index.\n",
      "  df_hk = df[df.cmdb_id == host][df.name == kpi]\n",
      "<ipython-input-82-dcc1e2084555>:27: UserWarning: Boolean Series key will be reindexed to match DataFrame index.\n",
      "  df_hk = df[df.cmdb_id == host][df.name == kpi]\n",
      "<ipython-input-82-dcc1e2084555>:27: UserWarning: Boolean Series key will be reindexed to match DataFrame index.\n",
      "  df_hk = df[df.cmdb_id == host][df.name == kpi]\n",
      "<ipython-input-82-dcc1e2084555>:27: UserWarning: Boolean Series key will be reindexed to match DataFrame index.\n",
      "  df_hk = df[df.cmdb_id == host][df.name == kpi]\n"
     ]
    },
    {
     "name": "stdout",
     "output_type": "stream",
     "text": [
      "Threshold  0.5796208865299689 Memory_used_pct\n",
      "Threshold  1.383245039146106 CPU_iowait_time\n",
      "Threshold  0.8043978479485087 System_wait_queue_length\n",
      "Threshold  0.6447378916848535 CPU_system_time\n"
     ]
    },
    {
     "name": "stderr",
     "output_type": "stream",
     "text": [
      "<ipython-input-82-dcc1e2084555>:27: UserWarning: Boolean Series key will be reindexed to match DataFrame index.\n",
      "  df_hk = df[df.cmdb_id == host][df.name == kpi]\n",
      "<ipython-input-82-dcc1e2084555>:27: UserWarning: Boolean Series key will be reindexed to match DataFrame index.\n",
      "  df_hk = df[df.cmdb_id == host][df.name == kpi]\n",
      "<ipython-input-82-dcc1e2084555>:27: UserWarning: Boolean Series key will be reindexed to match DataFrame index.\n",
      "  df_hk = df[df.cmdb_id == host][df.name == kpi]\n",
      "<ipython-input-82-dcc1e2084555>:27: UserWarning: Boolean Series key will be reindexed to match DataFrame index.\n",
      "  df_hk = df[df.cmdb_id == host][df.name == kpi]\n"
     ]
    },
    {
     "name": "stdout",
     "output_type": "stream",
     "text": [
      "Threshold  -1.0 Disk_rd_kbs\n",
      "Threshold  0.5801592383553372 Memory_available\n",
      "Threshold  0.579610166927539 Memory_used\n",
      "Threshold  2.340608067208458 System_block_queue_length\n",
      "Threshold  0.579287218322016 Received_packets\n"
     ]
    },
    {
     "name": "stderr",
     "output_type": "stream",
     "text": [
      "<ipython-input-82-dcc1e2084555>:27: UserWarning: Boolean Series key will be reindexed to match DataFrame index.\n",
      "  df_hk = df[df.cmdb_id == host][df.name == kpi]\n",
      "/Users/baconbaker/anaconda3/envs/ml/lib/python3.8/site-packages/alibi_detect/od/sr.py:96: RuntimeWarning: divide by zero encountered in log\n",
      "  log_amp = np.log(amp)\n",
      "/Users/baconbaker/anaconda3/envs/ml/lib/python3.8/site-packages/alibi_detect/od/sr.py:99: RuntimeWarning: invalid value encountered in subtract\n",
      "  res_amp = log_amp - ma_log_amp\n",
      "/Users/baconbaker/anaconda3/envs/ml/lib/python3.8/site-packages/alibi_detect/od/sr.py:207: RuntimeWarning: invalid value encountered in greater\n",
      "  outlier_pred = (iscore > self.threshold).astype(int)\n",
      "<ipython-input-82-dcc1e2084555>:27: UserWarning: Boolean Series key will be reindexed to match DataFrame index.\n",
      "  df_hk = df[df.cmdb_id == host][df.name == kpi]\n",
      "<ipython-input-82-dcc1e2084555>:27: UserWarning: Boolean Series key will be reindexed to match DataFrame index.\n",
      "  df_hk = df[df.cmdb_id == host][df.name == kpi]\n",
      "<ipython-input-82-dcc1e2084555>:27: UserWarning: Boolean Series key will be reindexed to match DataFrame index.\n",
      "  df_hk = df[df.cmdb_id == host][df.name == kpi]\n",
      "<ipython-input-82-dcc1e2084555>:27: UserWarning: Boolean Series key will be reindexed to match DataFrame index.\n",
      "  df_hk = df[df.cmdb_id == host][df.name == kpi]\n"
     ]
    },
    {
     "name": "stdout",
     "output_type": "stream",
     "text": [
      "Threshold  -1.0 Received_errors_packets\n",
      "Threshold  0.7268107631376015 Memory_free\n",
      "Threshold  0.5591832518217745 Sent_queue\n",
      "Threshold  0.624684000496961 Cache_used\n"
     ]
    },
    {
     "name": "stderr",
     "output_type": "stream",
     "text": [
      "<ipython-input-82-dcc1e2084555>:27: UserWarning: Boolean Series key will be reindexed to match DataFrame index.\n",
      "  df_hk = df[df.cmdb_id == host][df.name == kpi]\n",
      "<ipython-input-82-dcc1e2084555>:27: UserWarning: Boolean Series key will be reindexed to match DataFrame index.\n",
      "  df_hk = df[df.cmdb_id == host][df.name == kpi]\n",
      "<ipython-input-82-dcc1e2084555>:27: UserWarning: Boolean Series key will be reindexed to match DataFrame index.\n",
      "  df_hk = df[df.cmdb_id == host][df.name == kpi]\n"
     ]
    },
    {
     "name": "stdout",
     "output_type": "stream",
     "text": [
      "Threshold  0.6079389135068455 Received_queue\n",
      "Threshold  0.5972541101320111 Buffers_used\n",
      "Threshold  0.5825071611537658 FS_used_space\n"
     ]
    },
    {
     "name": "stderr",
     "output_type": "stream",
     "text": [
      "<ipython-input-82-dcc1e2084555>:27: UserWarning: Boolean Series key will be reindexed to match DataFrame index.\n",
      "  df_hk = df[df.cmdb_id == host][df.name == kpi]\n",
      "<ipython-input-82-dcc1e2084555>:27: UserWarning: Boolean Series key will be reindexed to match DataFrame index.\n",
      "  df_hk = df[df.cmdb_id == host][df.name == kpi]\n",
      "<ipython-input-82-dcc1e2084555>:27: UserWarning: Boolean Series key will be reindexed to match DataFrame index.\n",
      "  df_hk = df[df.cmdb_id == host][df.name == kpi]\n",
      "<ipython-input-82-dcc1e2084555>:27: UserWarning: Boolean Series key will be reindexed to match DataFrame index.\n",
      "  df_hk = df[df.cmdb_id == host][df.name == kpi]\n"
     ]
    },
    {
     "name": "stdout",
     "output_type": "stream",
     "text": [
      "Threshold  0.5793332871560324 Sent_packets\n",
      "Threshold  0.5814329431168923 FS_used_pct\n",
      "Threshold  nan FS_total_space\n",
      "NaN, Skipping!\n",
      "Threshold  nan FS_max_util\n"
     ]
    },
    {
     "name": "stderr",
     "output_type": "stream",
     "text": [
      "<ipython-input-82-dcc1e2084555>:27: UserWarning: Boolean Series key will be reindexed to match DataFrame index.\n",
      "  df_hk = df[df.cmdb_id == host][df.name == kpi]\n",
      "<ipython-input-82-dcc1e2084555>:27: UserWarning: Boolean Series key will be reindexed to match DataFrame index.\n",
      "  df_hk = df[df.cmdb_id == host][df.name == kpi]\n",
      "<ipython-input-82-dcc1e2084555>:27: UserWarning: Boolean Series key will be reindexed to match DataFrame index.\n",
      "  df_hk = df[df.cmdb_id == host][df.name == kpi]\n",
      "<ipython-input-82-dcc1e2084555>:27: UserWarning: Boolean Series key will be reindexed to match DataFrame index.\n",
      "  df_hk = df[df.cmdb_id == host][df.name == kpi]\n"
     ]
    },
    {
     "name": "stdout",
     "output_type": "stream",
     "text": [
      "NaN, Skipping!\n",
      "Threshold  nan ICMP_ping\n",
      "NaN, Skipping!\n",
      "Threshold  0.5710161245362558 FS_max_avail\n",
      "Threshold  -1.0 Swap_used_pct\n",
      "Threshold  nan Memory_total\n",
      "No valid data to use, skipping\n",
      "os_003  completed in  2.968294143676758\n",
      "************************************************************\n",
      "Checking  os_017\n",
      "Threshold  -1.0 Sent_errors_packets\n"
     ]
    },
    {
     "name": "stderr",
     "output_type": "stream",
     "text": [
      "<ipython-input-82-dcc1e2084555>:27: UserWarning: Boolean Series key will be reindexed to match DataFrame index.\n",
      "  df_hk = df[df.cmdb_id == host][df.name == kpi]\n",
      "<ipython-input-82-dcc1e2084555>:27: UserWarning: Boolean Series key will be reindexed to match DataFrame index.\n",
      "  df_hk = df[df.cmdb_id == host][df.name == kpi]\n",
      "<ipython-input-82-dcc1e2084555>:27: UserWarning: Boolean Series key will be reindexed to match DataFrame index.\n",
      "  df_hk = df[df.cmdb_id == host][df.name == kpi]\n",
      "<ipython-input-82-dcc1e2084555>:27: UserWarning: Boolean Series key will be reindexed to match DataFrame index.\n",
      "  df_hk = df[df.cmdb_id == host][df.name == kpi]\n"
     ]
    },
    {
     "name": "stdout",
     "output_type": "stream",
     "text": [
      "Threshold  3.1203899485377287 Processor_load_5_min\n",
      "Threshold  -1.0 Disk_rd_ios\n",
      "Threshold  0.6095824080702128 CPU_util_pct\n",
      "Threshold  3.244435182550937e-09 Disk_io_util\n"
     ]
    },
    {
     "name": "stderr",
     "output_type": "stream",
     "text": [
      "<ipython-input-82-dcc1e2084555>:27: UserWarning: Boolean Series key will be reindexed to match DataFrame index.\n",
      "  df_hk = df[df.cmdb_id == host][df.name == kpi]\n",
      "/Users/baconbaker/anaconda3/envs/ml/lib/python3.8/site-packages/alibi_detect/od/sr.py:96: RuntimeWarning: divide by zero encountered in log\n",
      "  log_amp = np.log(amp)\n",
      "/Users/baconbaker/anaconda3/envs/ml/lib/python3.8/site-packages/alibi_detect/od/sr.py:99: RuntimeWarning: invalid value encountered in subtract\n",
      "  res_amp = log_amp - ma_log_amp\n",
      "/Users/baconbaker/anaconda3/envs/ml/lib/python3.8/site-packages/alibi_detect/od/sr.py:207: RuntimeWarning: invalid value encountered in greater\n",
      "  outlier_pred = (iscore > self.threshold).astype(int)\n",
      "<ipython-input-82-dcc1e2084555>:27: UserWarning: Boolean Series key will be reindexed to match DataFrame index.\n",
      "  df_hk = df[df.cmdb_id == host][df.name == kpi]\n",
      "<ipython-input-82-dcc1e2084555>:27: UserWarning: Boolean Series key will be reindexed to match DataFrame index.\n",
      "  df_hk = df[df.cmdb_id == host][df.name == kpi]\n",
      "<ipython-input-82-dcc1e2084555>:27: UserWarning: Boolean Series key will be reindexed to match DataFrame index.\n",
      "  df_hk = df[df.cmdb_id == host][df.name == kpi]\n"
     ]
    },
    {
     "name": "stdout",
     "output_type": "stream",
     "text": [
      "Threshold  0.5780427541013425 Num_of_processes\n",
      "Threshold  0.9618866265611522 Send_total\n",
      "Threshold  1.0411265820444071 Outgoing_network_traffic\n",
      "Threshold  0.5803680448717783 Memory_available_pct\n"
     ]
    },
    {
     "name": "stderr",
     "output_type": "stream",
     "text": [
      "<ipython-input-82-dcc1e2084555>:27: UserWarning: Boolean Series key will be reindexed to match DataFrame index.\n",
      "  df_hk = df[df.cmdb_id == host][df.name == kpi]\n",
      "<ipython-input-82-dcc1e2084555>:27: UserWarning: Boolean Series key will be reindexed to match DataFrame index.\n",
      "  df_hk = df[df.cmdb_id == host][df.name == kpi]\n",
      "<ipython-input-82-dcc1e2084555>:27: UserWarning: Boolean Series key will be reindexed to match DataFrame index.\n",
      "  df_hk = df[df.cmdb_id == host][df.name == kpi]\n",
      "/Users/baconbaker/anaconda3/envs/ml/lib/python3.8/site-packages/alibi_detect/od/sr.py:96: RuntimeWarning: divide by zero encountered in log\n",
      "  log_amp = np.log(amp)\n",
      "/Users/baconbaker/anaconda3/envs/ml/lib/python3.8/site-packages/alibi_detect/od/sr.py:99: RuntimeWarning: invalid value encountered in subtract\n",
      "  res_amp = log_amp - ma_log_amp\n",
      "/Users/baconbaker/anaconda3/envs/ml/lib/python3.8/site-packages/alibi_detect/od/sr.py:207: RuntimeWarning: invalid value encountered in greater\n",
      "  outlier_pred = (iscore > self.threshold).astype(int)\n",
      "<ipython-input-82-dcc1e2084555>:27: UserWarning: Boolean Series key will be reindexed to match DataFrame index.\n",
      "  df_hk = df[df.cmdb_id == host][df.name == kpi]\n"
     ]
    },
    {
     "name": "stdout",
     "output_type": "stream",
     "text": [
      "Threshold  2.1472844215680134 Incoming_network_traffic\n",
      "Threshold  2.5911794330924187 Zombie_Process\n",
      "Threshold  0.5751258534892297 Recv_total\n",
      "Threshold  0.5706365699607533 Page_po\n"
     ]
    },
    {
     "name": "stderr",
     "output_type": "stream",
     "text": [
      "<ipython-input-82-dcc1e2084555>:27: UserWarning: Boolean Series key will be reindexed to match DataFrame index.\n",
      "  df_hk = df[df.cmdb_id == host][df.name == kpi]\n",
      "<ipython-input-82-dcc1e2084555>:27: UserWarning: Boolean Series key will be reindexed to match DataFrame index.\n",
      "  df_hk = df[df.cmdb_id == host][df.name == kpi]\n",
      "<ipython-input-82-dcc1e2084555>:27: UserWarning: Boolean Series key will be reindexed to match DataFrame index.\n",
      "  df_hk = df[df.cmdb_id == host][df.name == kpi]\n",
      "<ipython-input-82-dcc1e2084555>:27: UserWarning: Boolean Series key will be reindexed to match DataFrame index.\n",
      "  df_hk = df[df.cmdb_id == host][df.name == kpi]\n",
      "<ipython-input-82-dcc1e2084555>:27: UserWarning: Boolean Series key will be reindexed to match DataFrame index.\n",
      "  df_hk = df[df.cmdb_id == host][df.name == kpi]\n"
     ]
    },
    {
     "name": "stdout",
     "output_type": "stream",
     "text": [
      "Threshold  0.579527675033046 CPU_idle_pct\n",
      "Threshold  4.348605365930787 Processor_load_1_min\n",
      "Threshold  nan Agent_ping\n",
      "NaN, Skipping!\n",
      "Threshold  0.8367906660033795 Num_of_running_processes\n",
      "[0 1 0 1 0 0 0 0 0 0 0 0 0 0 1 0 0 0 0 0 0 0 0 1 0 0 0 0 0 1]\n",
      "ST Threshold Anomaly!\n",
      "Threshold  0.5709852287855977 ss_total\n",
      "Threshold  2.593213785763653 Processor_load_15_min\n",
      "Threshold  7.676362939995188 Page_pi\n",
      "Threshold  4.148922005559453 Disk_avgqu_sz\n"
     ]
    },
    {
     "name": "stderr",
     "output_type": "stream",
     "text": [
      "<ipython-input-82-dcc1e2084555>:27: UserWarning: Boolean Series key will be reindexed to match DataFrame index.\n",
      "  df_hk = df[df.cmdb_id == host][df.name == kpi]\n",
      "<ipython-input-82-dcc1e2084555>:27: UserWarning: Boolean Series key will be reindexed to match DataFrame index.\n",
      "  df_hk = df[df.cmdb_id == host][df.name == kpi]\n",
      "<ipython-input-82-dcc1e2084555>:27: UserWarning: Boolean Series key will be reindexed to match DataFrame index.\n",
      "  df_hk = df[df.cmdb_id == host][df.name == kpi]\n",
      "/Users/baconbaker/anaconda3/envs/ml/lib/python3.8/site-packages/alibi_detect/od/sr.py:96: RuntimeWarning: divide by zero encountered in log\n",
      "  log_amp = np.log(amp)\n",
      "/Users/baconbaker/anaconda3/envs/ml/lib/python3.8/site-packages/alibi_detect/od/sr.py:99: RuntimeWarning: invalid value encountered in subtract\n",
      "  res_amp = log_amp - ma_log_amp\n",
      "/Users/baconbaker/anaconda3/envs/ml/lib/python3.8/site-packages/alibi_detect/od/sr.py:207: RuntimeWarning: invalid value encountered in greater\n",
      "  outlier_pred = (iscore > self.threshold).astype(int)\n",
      "<ipython-input-82-dcc1e2084555>:27: UserWarning: Boolean Series key will be reindexed to match DataFrame index.\n",
      "  df_hk = df[df.cmdb_id == host][df.name == kpi]\n"
     ]
    },
    {
     "name": "stdout",
     "output_type": "stream",
     "text": [
      "Threshold  1.1491437445826562 Disk_wr_kbs\n",
      "Threshold  1.8151406903681195 Disk_await\n",
      "Threshold  0.5806347821601352 Shared_memory\n",
      "Threshold  0.5350014421018694 CPU_user_time\n"
     ]
    },
    {
     "name": "stderr",
     "output_type": "stream",
     "text": [
      "<ipython-input-82-dcc1e2084555>:27: UserWarning: Boolean Series key will be reindexed to match DataFrame index.\n",
      "  df_hk = df[df.cmdb_id == host][df.name == kpi]\n",
      "<ipython-input-82-dcc1e2084555>:27: UserWarning: Boolean Series key will be reindexed to match DataFrame index.\n",
      "  df_hk = df[df.cmdb_id == host][df.name == kpi]\n",
      "<ipython-input-82-dcc1e2084555>:27: UserWarning: Boolean Series key will be reindexed to match DataFrame index.\n",
      "  df_hk = df[df.cmdb_id == host][df.name == kpi]\n",
      "<ipython-input-82-dcc1e2084555>:27: UserWarning: Boolean Series key will be reindexed to match DataFrame index.\n",
      "  df_hk = df[df.cmdb_id == host][df.name == kpi]\n"
     ]
    },
    {
     "name": "stdout",
     "output_type": "stream",
     "text": [
      "Threshold  1.9321900911288967 Disk_svctm\n",
      "Threshold  0.7619116382567552 Disk_wr_ios\n",
      "Threshold  0.5805158367434963 Memory_used_pct\n",
      "Threshold  5.387864129514271 CPU_iowait_time\n"
     ]
    },
    {
     "name": "stderr",
     "output_type": "stream",
     "text": [
      "<ipython-input-82-dcc1e2084555>:27: UserWarning: Boolean Series key will be reindexed to match DataFrame index.\n",
      "  df_hk = df[df.cmdb_id == host][df.name == kpi]\n",
      "<ipython-input-82-dcc1e2084555>:27: UserWarning: Boolean Series key will be reindexed to match DataFrame index.\n",
      "  df_hk = df[df.cmdb_id == host][df.name == kpi]\n",
      "<ipython-input-82-dcc1e2084555>:27: UserWarning: Boolean Series key will be reindexed to match DataFrame index.\n",
      "  df_hk = df[df.cmdb_id == host][df.name == kpi]\n",
      "<ipython-input-82-dcc1e2084555>:27: UserWarning: Boolean Series key will be reindexed to match DataFrame index.\n",
      "  df_hk = df[df.cmdb_id == host][df.name == kpi]\n"
     ]
    },
    {
     "name": "stdout",
     "output_type": "stream",
     "text": [
      "Threshold  1.6410316082292289 System_wait_queue_length\n",
      "[1 1 1 1 0 0 0 0 0 0 0 0 0 0 0 0 0 0 0 1 1 1 1 1 0 0 0 0 0 0]\n",
      "ST Threshold Anomaly!\n",
      "Threshold  0.5978876167543421 CPU_system_time\n",
      "Threshold  2.9856144524839907 Disk_rd_kbs\n",
      "Threshold  0.5776603287305219 Memory_available\n"
     ]
    },
    {
     "name": "stderr",
     "output_type": "stream",
     "text": [
      "<ipython-input-82-dcc1e2084555>:27: UserWarning: Boolean Series key will be reindexed to match DataFrame index.\n",
      "  df_hk = df[df.cmdb_id == host][df.name == kpi]\n",
      "<ipython-input-82-dcc1e2084555>:27: UserWarning: Boolean Series key will be reindexed to match DataFrame index.\n",
      "  df_hk = df[df.cmdb_id == host][df.name == kpi]\n",
      "<ipython-input-82-dcc1e2084555>:27: UserWarning: Boolean Series key will be reindexed to match DataFrame index.\n",
      "  df_hk = df[df.cmdb_id == host][df.name == kpi]\n",
      "/Users/baconbaker/anaconda3/envs/ml/lib/python3.8/site-packages/alibi_detect/od/sr.py:96: RuntimeWarning: divide by zero encountered in log\n",
      "  log_amp = np.log(amp)\n",
      "/Users/baconbaker/anaconda3/envs/ml/lib/python3.8/site-packages/alibi_detect/od/sr.py:99: RuntimeWarning: invalid value encountered in subtract\n",
      "  res_amp = log_amp - ma_log_amp\n",
      "/Users/baconbaker/anaconda3/envs/ml/lib/python3.8/site-packages/alibi_detect/od/sr.py:207: RuntimeWarning: invalid value encountered in greater\n",
      "  outlier_pred = (iscore > self.threshold).astype(int)\n",
      "<ipython-input-82-dcc1e2084555>:27: UserWarning: Boolean Series key will be reindexed to match DataFrame index.\n",
      "  df_hk = df[df.cmdb_id == host][df.name == kpi]\n"
     ]
    },
    {
     "name": "stdout",
     "output_type": "stream",
     "text": [
      "Threshold  0.6212805209889858 Memory_used\n",
      "Threshold  2.6543331505264933 System_block_queue_length\n",
      "Threshold  0.5703562877174612 Received_packets\n",
      "Threshold  -1.0 Received_errors_packets\n"
     ]
    },
    {
     "name": "stderr",
     "output_type": "stream",
     "text": [
      "<ipython-input-82-dcc1e2084555>:27: UserWarning: Boolean Series key will be reindexed to match DataFrame index.\n",
      "  df_hk = df[df.cmdb_id == host][df.name == kpi]\n",
      "<ipython-input-82-dcc1e2084555>:27: UserWarning: Boolean Series key will be reindexed to match DataFrame index.\n",
      "  df_hk = df[df.cmdb_id == host][df.name == kpi]\n",
      "/Users/baconbaker/anaconda3/envs/ml/lib/python3.8/site-packages/alibi_detect/od/sr.py:96: RuntimeWarning: divide by zero encountered in log\n",
      "  log_amp = np.log(amp)\n",
      "/Users/baconbaker/anaconda3/envs/ml/lib/python3.8/site-packages/alibi_detect/od/sr.py:99: RuntimeWarning: invalid value encountered in subtract\n",
      "  res_amp = log_amp - ma_log_amp\n",
      "/Users/baconbaker/anaconda3/envs/ml/lib/python3.8/site-packages/alibi_detect/od/sr.py:207: RuntimeWarning: invalid value encountered in greater\n",
      "  outlier_pred = (iscore > self.threshold).astype(int)\n",
      "<ipython-input-82-dcc1e2084555>:27: UserWarning: Boolean Series key will be reindexed to match DataFrame index.\n",
      "  df_hk = df[df.cmdb_id == host][df.name == kpi]\n",
      "<ipython-input-82-dcc1e2084555>:27: UserWarning: Boolean Series key will be reindexed to match DataFrame index.\n",
      "  df_hk = df[df.cmdb_id == host][df.name == kpi]\n"
     ]
    },
    {
     "name": "stdout",
     "output_type": "stream",
     "text": [
      "Threshold  0.5796814811474701 Memory_free\n",
      "Threshold  0.7339019545641519 Sent_queue\n",
      "Threshold  0.578038280414284 Cache_used\n",
      "Threshold  -1.0 Received_queue\n"
     ]
    },
    {
     "name": "stderr",
     "output_type": "stream",
     "text": [
      "<ipython-input-82-dcc1e2084555>:27: UserWarning: Boolean Series key will be reindexed to match DataFrame index.\n",
      "  df_hk = df[df.cmdb_id == host][df.name == kpi]\n",
      "<ipython-input-82-dcc1e2084555>:27: UserWarning: Boolean Series key will be reindexed to match DataFrame index.\n",
      "  df_hk = df[df.cmdb_id == host][df.name == kpi]\n",
      "/Users/baconbaker/anaconda3/envs/ml/lib/python3.8/site-packages/alibi_detect/od/sr.py:96: RuntimeWarning: divide by zero encountered in log\n",
      "  log_amp = np.log(amp)\n",
      "/Users/baconbaker/anaconda3/envs/ml/lib/python3.8/site-packages/alibi_detect/od/sr.py:99: RuntimeWarning: invalid value encountered in subtract\n",
      "  res_amp = log_amp - ma_log_amp\n",
      "/Users/baconbaker/anaconda3/envs/ml/lib/python3.8/site-packages/alibi_detect/od/sr.py:207: RuntimeWarning: invalid value encountered in greater\n",
      "  outlier_pred = (iscore > self.threshold).astype(int)\n",
      "<ipython-input-82-dcc1e2084555>:27: UserWarning: Boolean Series key will be reindexed to match DataFrame index.\n",
      "  df_hk = df[df.cmdb_id == host][df.name == kpi]\n",
      "<ipython-input-82-dcc1e2084555>:27: UserWarning: Boolean Series key will be reindexed to match DataFrame index.\n",
      "  df_hk = df[df.cmdb_id == host][df.name == kpi]\n"
     ]
    },
    {
     "name": "stdout",
     "output_type": "stream",
     "text": [
      "Threshold  nan Buffers_used\n",
      "NaN, Skipping!\n",
      "Threshold  0.5864144414895279 FS_used_space\n",
      "Threshold  0.5889487038026132 Sent_packets\n"
     ]
    },
    {
     "name": "stderr",
     "output_type": "stream",
     "text": [
      "<ipython-input-82-dcc1e2084555>:27: UserWarning: Boolean Series key will be reindexed to match DataFrame index.\n",
      "  df_hk = df[df.cmdb_id == host][df.name == kpi]\n",
      "<ipython-input-82-dcc1e2084555>:27: UserWarning: Boolean Series key will be reindexed to match DataFrame index.\n",
      "  df_hk = df[df.cmdb_id == host][df.name == kpi]\n",
      "<ipython-input-82-dcc1e2084555>:27: UserWarning: Boolean Series key will be reindexed to match DataFrame index.\n",
      "  df_hk = df[df.cmdb_id == host][df.name == kpi]\n"
     ]
    },
    {
     "name": "stdout",
     "output_type": "stream",
     "text": [
      "Threshold  0.59034614546388 FS_used_pct\n",
      "Threshold  nan FS_total_space\n",
      "NaN, Skipping!\n",
      "Threshold  nan FS_max_util\n",
      "NaN, Skipping!"
     ]
    },
    {
     "name": "stderr",
     "output_type": "stream",
     "text": [
      "<ipython-input-82-dcc1e2084555>:27: UserWarning: Boolean Series key will be reindexed to match DataFrame index.\n",
      "  df_hk = df[df.cmdb_id == host][df.name == kpi]\n",
      "<ipython-input-82-dcc1e2084555>:27: UserWarning: Boolean Series key will be reindexed to match DataFrame index.\n",
      "  df_hk = df[df.cmdb_id == host][df.name == kpi]\n",
      "<ipython-input-82-dcc1e2084555>:27: UserWarning: Boolean Series key will be reindexed to match DataFrame index.\n",
      "  df_hk = df[df.cmdb_id == host][df.name == kpi]\n",
      "<ipython-input-82-dcc1e2084555>:27: UserWarning: Boolean Series key will be reindexed to match DataFrame index.\n",
      "  df_hk = df[df.cmdb_id == host][df.name == kpi]\n"
     ]
    },
    {
     "name": "stdout",
     "output_type": "stream",
     "text": [
      "\n",
      "Threshold  nan ICMP_ping\n",
      "NaN, Skipping!\n",
      "Threshold  0.5891523301668721 FS_max_avail\n",
      "Threshold  -1.0 Swap_used_pct\n",
      "Threshold  nan Memory_total\n"
     ]
    },
    {
     "name": "stderr",
     "output_type": "stream",
     "text": [
      "<ipython-input-82-dcc1e2084555>:27: UserWarning: Boolean Series key will be reindexed to match DataFrame index.\n",
      "  df_hk = df[df.cmdb_id == host][df.name == kpi]\n",
      "<ipython-input-82-dcc1e2084555>:27: UserWarning: Boolean Series key will be reindexed to match DataFrame index.\n",
      "  df_hk = df[df.cmdb_id == host][df.name == kpi]\n",
      "<ipython-input-82-dcc1e2084555>:27: UserWarning: Boolean Series key will be reindexed to match DataFrame index.\n",
      "  df_hk = df[df.cmdb_id == host][df.name == kpi]\n"
     ]
    },
    {
     "name": "stdout",
     "output_type": "stream",
     "text": [
      "NaN, Skipping!\n",
      "os_017  completed in  3.037537097930908\n",
      "************************************************************\n",
      "Checking  os_008\n",
      "Threshold  -1.0 Sent_errors_packets\n",
      "Threshold  5.179490284254031 Processor_load_5_min\n",
      "Threshold  -1.0 Disk_rd_ios\n",
      "Threshold  0.9044957454391768 CPU_util_pct\n"
     ]
    },
    {
     "name": "stderr",
     "output_type": "stream",
     "text": [
      "<ipython-input-82-dcc1e2084555>:27: UserWarning: Boolean Series key will be reindexed to match DataFrame index.\n",
      "  df_hk = df[df.cmdb_id == host][df.name == kpi]\n",
      "<ipython-input-82-dcc1e2084555>:27: UserWarning: Boolean Series key will be reindexed to match DataFrame index.\n",
      "  df_hk = df[df.cmdb_id == host][df.name == kpi]\n",
      "/Users/baconbaker/anaconda3/envs/ml/lib/python3.8/site-packages/alibi_detect/od/sr.py:96: RuntimeWarning: divide by zero encountered in log\n",
      "  log_amp = np.log(amp)\n",
      "/Users/baconbaker/anaconda3/envs/ml/lib/python3.8/site-packages/alibi_detect/od/sr.py:99: RuntimeWarning: invalid value encountered in subtract\n",
      "  res_amp = log_amp - ma_log_amp\n",
      "/Users/baconbaker/anaconda3/envs/ml/lib/python3.8/site-packages/alibi_detect/od/sr.py:207: RuntimeWarning: invalid value encountered in greater\n",
      "  outlier_pred = (iscore > self.threshold).astype(int)\n",
      "<ipython-input-82-dcc1e2084555>:27: UserWarning: Boolean Series key will be reindexed to match DataFrame index.\n",
      "  df_hk = df[df.cmdb_id == host][df.name == kpi]\n",
      "<ipython-input-82-dcc1e2084555>:27: UserWarning: Boolean Series key will be reindexed to match DataFrame index.\n",
      "  df_hk = df[df.cmdb_id == host][df.name == kpi]\n"
     ]
    },
    {
     "name": "stdout",
     "output_type": "stream",
     "text": [
      "Threshold  -1.0 Disk_io_util\n",
      "Threshold  0.5788475345779801 Num_of_processes\n",
      "Threshold  2.3208729317304693 Send_total\n",
      "Threshold  2.2665743124651216 Outgoing_network_traffic\n"
     ]
    },
    {
     "name": "stderr",
     "output_type": "stream",
     "text": [
      "<ipython-input-82-dcc1e2084555>:27: UserWarning: Boolean Series key will be reindexed to match DataFrame index.\n",
      "  df_hk = df[df.cmdb_id == host][df.name == kpi]\n",
      "<ipython-input-82-dcc1e2084555>:27: UserWarning: Boolean Series key will be reindexed to match DataFrame index.\n",
      "  df_hk = df[df.cmdb_id == host][df.name == kpi]\n",
      "/Users/baconbaker/anaconda3/envs/ml/lib/python3.8/site-packages/alibi_detect/od/sr.py:96: RuntimeWarning: divide by zero encountered in log\n",
      "  log_amp = np.log(amp)\n",
      "/Users/baconbaker/anaconda3/envs/ml/lib/python3.8/site-packages/alibi_detect/od/sr.py:99: RuntimeWarning: invalid value encountered in subtract\n",
      "  res_amp = log_amp - ma_log_amp\n",
      "/Users/baconbaker/anaconda3/envs/ml/lib/python3.8/site-packages/alibi_detect/od/sr.py:207: RuntimeWarning: invalid value encountered in greater\n",
      "  outlier_pred = (iscore > self.threshold).astype(int)\n",
      "<ipython-input-82-dcc1e2084555>:27: UserWarning: Boolean Series key will be reindexed to match DataFrame index.\n",
      "  df_hk = df[df.cmdb_id == host][df.name == kpi]\n",
      "<ipython-input-82-dcc1e2084555>:27: UserWarning: Boolean Series key will be reindexed to match DataFrame index.\n",
      "  df_hk = df[df.cmdb_id == host][df.name == kpi]\n",
      "/Users/baconbaker/anaconda3/envs/ml/lib/python3.8/site-packages/alibi_detect/od/sr.py:96: RuntimeWarning: divide by zero encountered in log\n",
      "  log_amp = np.log(amp)\n",
      "/Users/baconbaker/anaconda3/envs/ml/lib/python3.8/site-packages/alibi_detect/od/sr.py:99: RuntimeWarning: invalid value encountered in subtract\n",
      "  res_amp = log_amp - ma_log_amp\n",
      "/Users/baconbaker/anaconda3/envs/ml/lib/python3.8/site-packages/alibi_detect/od/sr.py:207: RuntimeWarning: invalid value encountered in greater\n",
      "  outlier_pred = (iscore > self.threshold).astype(int)\n",
      "<ipython-input-82-dcc1e2084555>:27: UserWarning: Boolean Series key will be reindexed to match DataFrame index.\n",
      "  df_hk = df[df.cmdb_id == host][df.name == kpi]\n",
      "/Users/baconbaker/anaconda3/envs/ml/lib/python3.8/site-packages/alibi_detect/od/sr.py:96: RuntimeWarning: divide by zero encountered in log\n",
      "  log_amp = np.log(amp)\n",
      "/Users/baconbaker/anaconda3/envs/ml/lib/python3.8/site-packages/alibi_detect/od/sr.py:99: RuntimeWarning: invalid value encountered in subtract\n",
      "  res_amp = log_amp - ma_log_amp\n",
      "/Users/baconbaker/anaconda3/envs/ml/lib/python3.8/site-packages/alibi_detect/od/sr.py:207: RuntimeWarning: invalid value encountered in greater\n",
      "  outlier_pred = (iscore > self.threshold).astype(int)\n",
      "<ipython-input-82-dcc1e2084555>:27: UserWarning: Boolean Series key will be reindexed to match DataFrame index.\n",
      "  df_hk = df[df.cmdb_id == host][df.name == kpi]\n",
      "/Users/baconbaker/anaconda3/envs/ml/lib/python3.8/site-packages/alibi_detect/od/sr.py:96: RuntimeWarning: divide by zero encountered in log\n",
      "  log_amp = np.log(amp)\n",
      "/Users/baconbaker/anaconda3/envs/ml/lib/python3.8/site-packages/alibi_detect/od/sr.py:99: RuntimeWarning: invalid value encountered in subtract\n",
      "  res_amp = log_amp - ma_log_amp\n",
      "/Users/baconbaker/anaconda3/envs/ml/lib/python3.8/site-packages/alibi_detect/od/sr.py:207: RuntimeWarning: invalid value encountered in greater\n",
      "  outlier_pred = (iscore > self.threshold).astype(int)\n",
      "<ipython-input-82-dcc1e2084555>:27: UserWarning: Boolean Series key will be reindexed to match DataFrame index.\n",
      "  df_hk = df[df.cmdb_id == host][df.name == kpi]\n",
      "<ipython-input-82-dcc1e2084555>:27: UserWarning: Boolean Series key will be reindexed to match DataFrame index.\n",
      "  df_hk = df[df.cmdb_id == host][df.name == kpi]\n"
     ]
    },
    {
     "name": "stdout",
     "output_type": "stream",
     "text": [
      "Threshold  0.5787806627514608 Memory_available_pct\n",
      "Threshold  11.43291500186996 Incoming_network_traffic\n",
      "Threshold  -1.0 Zombie_Process\n",
      "Threshold  0.7260447329698587 Recv_total\n",
      "Threshold  0.5102310723030327 Page_po\n",
      "Threshold  0.5796951787501018 CPU_idle_pct\n",
      "Threshold  7.986346219563277 Processor_load_1_min\n",
      "Threshold  nan Agent_ping\n"
     ]
    },
    {
     "name": "stderr",
     "output_type": "stream",
     "text": [
      "<ipython-input-82-dcc1e2084555>:27: UserWarning: Boolean Series key will be reindexed to match DataFrame index.\n",
      "  df_hk = df[df.cmdb_id == host][df.name == kpi]\n",
      "<ipython-input-82-dcc1e2084555>:27: UserWarning: Boolean Series key will be reindexed to match DataFrame index.\n",
      "  df_hk = df[df.cmdb_id == host][df.name == kpi]\n",
      "<ipython-input-82-dcc1e2084555>:27: UserWarning: Boolean Series key will be reindexed to match DataFrame index.\n",
      "  df_hk = df[df.cmdb_id == host][df.name == kpi]\n",
      "/Users/baconbaker/anaconda3/envs/ml/lib/python3.8/site-packages/alibi_detect/od/sr.py:96: RuntimeWarning: divide by zero encountered in log\n",
      "  log_amp = np.log(amp)\n",
      "/Users/baconbaker/anaconda3/envs/ml/lib/python3.8/site-packages/alibi_detect/od/sr.py:99: RuntimeWarning: invalid value encountered in subtract\n",
      "  res_amp = log_amp - ma_log_amp\n",
      "/Users/baconbaker/anaconda3/envs/ml/lib/python3.8/site-packages/alibi_detect/od/sr.py:207: RuntimeWarning: invalid value encountered in greater\n",
      "  outlier_pred = (iscore > self.threshold).astype(int)\n",
      "<ipython-input-82-dcc1e2084555>:27: UserWarning: Boolean Series key will be reindexed to match DataFrame index.\n",
      "  df_hk = df[df.cmdb_id == host][df.name == kpi]\n"
     ]
    },
    {
     "name": "stdout",
     "output_type": "stream",
     "text": [
      "NaN, Skipping!\n",
      "Threshold  0.8659127188419006 Num_of_running_processes\n",
      "Threshold  0.6299437913017196 ss_total\n",
      "Threshold  3.8963441360673214 Processor_load_15_min\n",
      "Threshold  -1.0 Page_pi\n",
      "Threshold  3.510224601340057 Disk_avgqu_sz\n"
     ]
    },
    {
     "name": "stderr",
     "output_type": "stream",
     "text": [
      "<ipython-input-82-dcc1e2084555>:27: UserWarning: Boolean Series key will be reindexed to match DataFrame index.\n",
      "  df_hk = df[df.cmdb_id == host][df.name == kpi]\n",
      "<ipython-input-82-dcc1e2084555>:27: UserWarning: Boolean Series key will be reindexed to match DataFrame index.\n",
      "  df_hk = df[df.cmdb_id == host][df.name == kpi]\n",
      "<ipython-input-82-dcc1e2084555>:27: UserWarning: Boolean Series key will be reindexed to match DataFrame index.\n",
      "  df_hk = df[df.cmdb_id == host][df.name == kpi]\n",
      "/Users/baconbaker/anaconda3/envs/ml/lib/python3.8/site-packages/alibi_detect/od/sr.py:96: RuntimeWarning: divide by zero encountered in log\n",
      "  log_amp = np.log(amp)\n",
      "/Users/baconbaker/anaconda3/envs/ml/lib/python3.8/site-packages/alibi_detect/od/sr.py:99: RuntimeWarning: invalid value encountered in subtract\n",
      "  res_amp = log_amp - ma_log_amp\n",
      "/Users/baconbaker/anaconda3/envs/ml/lib/python3.8/site-packages/alibi_detect/od/sr.py:207: RuntimeWarning: invalid value encountered in greater\n",
      "  outlier_pred = (iscore > self.threshold).astype(int)\n",
      "<ipython-input-82-dcc1e2084555>:27: UserWarning: Boolean Series key will be reindexed to match DataFrame index.\n",
      "  df_hk = df[df.cmdb_id == host][df.name == kpi]\n",
      "<ipython-input-82-dcc1e2084555>:27: UserWarning: Boolean Series key will be reindexed to match DataFrame index.\n",
      "  df_hk = df[df.cmdb_id == host][df.name == kpi]\n",
      "<ipython-input-82-dcc1e2084555>:27: UserWarning: Boolean Series key will be reindexed to match DataFrame index.\n",
      "  df_hk = df[df.cmdb_id == host][df.name == kpi]\n",
      "<ipython-input-82-dcc1e2084555>:27: UserWarning: Boolean Series key will be reindexed to match DataFrame index.\n",
      "  df_hk = df[df.cmdb_id == host][df.name == kpi]\n",
      "/Users/baconbaker/anaconda3/envs/ml/lib/python3.8/site-packages/alibi_detect/od/sr.py:96: RuntimeWarning: divide by zero encountered in log\n",
      "  log_amp = np.log(amp)\n",
      "/Users/baconbaker/anaconda3/envs/ml/lib/python3.8/site-packages/alibi_detect/od/sr.py:99: RuntimeWarning: invalid value encountered in subtract\n",
      "  res_amp = log_amp - ma_log_amp\n",
      "/Users/baconbaker/anaconda3/envs/ml/lib/python3.8/site-packages/alibi_detect/od/sr.py:207: RuntimeWarning: invalid value encountered in greater\n",
      "  outlier_pred = (iscore > self.threshold).astype(int)\n",
      "<ipython-input-82-dcc1e2084555>:27: UserWarning: Boolean Series key will be reindexed to match DataFrame index.\n",
      "  df_hk = df[df.cmdb_id == host][df.name == kpi]\n"
     ]
    },
    {
     "name": "stdout",
     "output_type": "stream",
     "text": [
      "Threshold  5.058232353527225 Disk_wr_kbs\n",
      "Threshold  3.689566653228444 Disk_await\n",
      "Threshold  nan Shared_memory\n",
      "NaN, Skipping!\n",
      "Threshold  1.2748627284239469 CPU_user_time\n"
     ]
    },
    {
     "name": "stderr",
     "output_type": "stream",
     "text": [
      "<ipython-input-82-dcc1e2084555>:27: UserWarning: Boolean Series key will be reindexed to match DataFrame index.\n",
      "  df_hk = df[df.cmdb_id == host][df.name == kpi]\n",
      "<ipython-input-82-dcc1e2084555>:27: UserWarning: Boolean Series key will be reindexed to match DataFrame index.\n",
      "  df_hk = df[df.cmdb_id == host][df.name == kpi]\n",
      "<ipython-input-82-dcc1e2084555>:27: UserWarning: Boolean Series key will be reindexed to match DataFrame index.\n",
      "  df_hk = df[df.cmdb_id == host][df.name == kpi]\n",
      "/Users/baconbaker/anaconda3/envs/ml/lib/python3.8/site-packages/alibi_detect/od/sr.py:96: RuntimeWarning: divide by zero encountered in log\n",
      "  log_amp = np.log(amp)\n",
      "/Users/baconbaker/anaconda3/envs/ml/lib/python3.8/site-packages/alibi_detect/od/sr.py:99: RuntimeWarning: invalid value encountered in subtract\n",
      "  res_amp = log_amp - ma_log_amp\n",
      "/Users/baconbaker/anaconda3/envs/ml/lib/python3.8/site-packages/alibi_detect/od/sr.py:207: RuntimeWarning: invalid value encountered in greater\n",
      "  outlier_pred = (iscore > self.threshold).astype(int)\n",
      "<ipython-input-82-dcc1e2084555>:27: UserWarning: Boolean Series key will be reindexed to match DataFrame index.\n",
      "  df_hk = df[df.cmdb_id == host][df.name == kpi]\n"
     ]
    },
    {
     "name": "stdout",
     "output_type": "stream",
     "text": [
      "[1 0 1 0 0 0 0 0 0 0 0 0 0 0 0 0 0 0 0 0 0 0 1 0 0 0 0 1 0 0]\n",
      "ST Threshold Anomaly!\n",
      "Threshold  4.106026389102043 Disk_svctm\n",
      "Threshold  7.149380554030088 Disk_wr_ios\n",
      "Threshold  0.5807888201791537 Memory_used_pct\n",
      "Threshold  2.2666863587488537 CPU_iowait_time\n"
     ]
    },
    {
     "name": "stderr",
     "output_type": "stream",
     "text": [
      "/Users/baconbaker/anaconda3/envs/ml/lib/python3.8/site-packages/alibi_detect/od/sr.py:96: RuntimeWarning: divide by zero encountered in log\n",
      "  log_amp = np.log(amp)\n",
      "/Users/baconbaker/anaconda3/envs/ml/lib/python3.8/site-packages/alibi_detect/od/sr.py:99: RuntimeWarning: invalid value encountered in subtract\n",
      "  res_amp = log_amp - ma_log_amp\n",
      "/Users/baconbaker/anaconda3/envs/ml/lib/python3.8/site-packages/alibi_detect/od/sr.py:207: RuntimeWarning: invalid value encountered in greater\n",
      "  outlier_pred = (iscore > self.threshold).astype(int)\n",
      "<ipython-input-82-dcc1e2084555>:27: UserWarning: Boolean Series key will be reindexed to match DataFrame index.\n",
      "  df_hk = df[df.cmdb_id == host][df.name == kpi]\n",
      "<ipython-input-82-dcc1e2084555>:27: UserWarning: Boolean Series key will be reindexed to match DataFrame index.\n",
      "  df_hk = df[df.cmdb_id == host][df.name == kpi]\n",
      "<ipython-input-82-dcc1e2084555>:27: UserWarning: Boolean Series key will be reindexed to match DataFrame index.\n",
      "  df_hk = df[df.cmdb_id == host][df.name == kpi]\n",
      "<ipython-input-82-dcc1e2084555>:27: UserWarning: Boolean Series key will be reindexed to match DataFrame index.\n",
      "  df_hk = df[df.cmdb_id == host][df.name == kpi]\n"
     ]
    },
    {
     "name": "stdout",
     "output_type": "stream",
     "text": [
      "Threshold  1.3901419682571483 System_wait_queue_length\n",
      "Threshold  1.524931843062681 CPU_system_time\n",
      "Threshold  -1.0 Disk_rd_kbs\n",
      "Threshold  0.5783342034064736 Memory_available\n"
     ]
    },
    {
     "name": "stderr",
     "output_type": "stream",
     "text": [
      "<ipython-input-82-dcc1e2084555>:27: UserWarning: Boolean Series key will be reindexed to match DataFrame index.\n",
      "  df_hk = df[df.cmdb_id == host][df.name == kpi]\n",
      "<ipython-input-82-dcc1e2084555>:27: UserWarning: Boolean Series key will be reindexed to match DataFrame index.\n",
      "  df_hk = df[df.cmdb_id == host][df.name == kpi]\n",
      "<ipython-input-82-dcc1e2084555>:27: UserWarning: Boolean Series key will be reindexed to match DataFrame index.\n",
      "  df_hk = df[df.cmdb_id == host][df.name == kpi]\n",
      "<ipython-input-82-dcc1e2084555>:27: UserWarning: Boolean Series key will be reindexed to match DataFrame index.\n",
      "  df_hk = df[df.cmdb_id == host][df.name == kpi]\n"
     ]
    },
    {
     "name": "stdout",
     "output_type": "stream",
     "text": [
      "Threshold  0.5799100145472075 Memory_used\n",
      "Threshold  -1.0 System_block_queue_length\n",
      "Threshold  -1.0 Received_packets\n",
      "Threshold  -1.0 Received_errors_packets\n",
      "Threshold "
     ]
    },
    {
     "name": "stderr",
     "output_type": "stream",
     "text": [
      "<ipython-input-82-dcc1e2084555>:27: UserWarning: Boolean Series key will be reindexed to match DataFrame index.\n",
      "  df_hk = df[df.cmdb_id == host][df.name == kpi]\n",
      "<ipython-input-82-dcc1e2084555>:27: UserWarning: Boolean Series key will be reindexed to match DataFrame index.\n",
      "  df_hk = df[df.cmdb_id == host][df.name == kpi]\n",
      "<ipython-input-82-dcc1e2084555>:27: UserWarning: Boolean Series key will be reindexed to match DataFrame index.\n",
      "  df_hk = df[df.cmdb_id == host][df.name == kpi]\n",
      "/Users/baconbaker/anaconda3/envs/ml/lib/python3.8/site-packages/alibi_detect/od/sr.py:96: RuntimeWarning: divide by zero encountered in log\n",
      "  log_amp = np.log(amp)\n",
      "/Users/baconbaker/anaconda3/envs/ml/lib/python3.8/site-packages/alibi_detect/od/sr.py:99: RuntimeWarning: invalid value encountered in subtract\n",
      "  res_amp = log_amp - ma_log_amp\n",
      "/Users/baconbaker/anaconda3/envs/ml/lib/python3.8/site-packages/alibi_detect/od/sr.py:207: RuntimeWarning: invalid value encountered in greater\n",
      "  outlier_pred = (iscore > self.threshold).astype(int)\n",
      "<ipython-input-82-dcc1e2084555>:27: UserWarning: Boolean Series key will be reindexed to match DataFrame index.\n",
      "  df_hk = df[df.cmdb_id == host][df.name == kpi]\n",
      "<ipython-input-82-dcc1e2084555>:27: UserWarning: Boolean Series key will be reindexed to match DataFrame index.\n",
      "  df_hk = df[df.cmdb_id == host][df.name == kpi]\n"
     ]
    },
    {
     "name": "stdout",
     "output_type": "stream",
     "text": [
      " 0.5797868717401149 Memory_free\n",
      "Threshold  1.217470736833083 Sent_queue\n",
      "Threshold  0.5737847927584865 Cache_used\n",
      "Threshold  -1.0 Received_queue\n",
      "Threshold  nan Buffers_used\n",
      "NaN, Skipping!\n",
      "Threshold  0.5988349932761199 FS_used_space\n",
      "Threshold  -1.0 Sent_packets\n",
      "Threshold  0.5916477056285683 FS_used_pct\n"
     ]
    },
    {
     "name": "stderr",
     "output_type": "stream",
     "text": [
      "<ipython-input-82-dcc1e2084555>:27: UserWarning: Boolean Series key will be reindexed to match DataFrame index.\n",
      "  df_hk = df[df.cmdb_id == host][df.name == kpi]\n",
      "<ipython-input-82-dcc1e2084555>:27: UserWarning: Boolean Series key will be reindexed to match DataFrame index.\n",
      "  df_hk = df[df.cmdb_id == host][df.name == kpi]\n",
      "<ipython-input-82-dcc1e2084555>:27: UserWarning: Boolean Series key will be reindexed to match DataFrame index.\n",
      "  df_hk = df[df.cmdb_id == host][df.name == kpi]\n",
      "<ipython-input-82-dcc1e2084555>:27: UserWarning: Boolean Series key will be reindexed to match DataFrame index.\n",
      "  df_hk = df[df.cmdb_id == host][df.name == kpi]\n",
      "/Users/baconbaker/anaconda3/envs/ml/lib/python3.8/site-packages/alibi_detect/od/sr.py:96: RuntimeWarning: divide by zero encountered in log\n",
      "  log_amp = np.log(amp)\n",
      "/Users/baconbaker/anaconda3/envs/ml/lib/python3.8/site-packages/alibi_detect/od/sr.py:99: RuntimeWarning: invalid value encountered in subtract\n",
      "  res_amp = log_amp - ma_log_amp\n",
      "/Users/baconbaker/anaconda3/envs/ml/lib/python3.8/site-packages/alibi_detect/od/sr.py:207: RuntimeWarning: invalid value encountered in greater\n",
      "  outlier_pred = (iscore > self.threshold).astype(int)\n",
      "<ipython-input-82-dcc1e2084555>:27: UserWarning: Boolean Series key will be reindexed to match DataFrame index.\n",
      "  df_hk = df[df.cmdb_id == host][df.name == kpi]\n",
      "<ipython-input-82-dcc1e2084555>:27: UserWarning: Boolean Series key will be reindexed to match DataFrame index.\n",
      "  df_hk = df[df.cmdb_id == host][df.name == kpi]\n",
      "<ipython-input-82-dcc1e2084555>:27: UserWarning: Boolean Series key will be reindexed to match DataFrame index.\n",
      "  df_hk = df[df.cmdb_id == host][df.name == kpi]\n"
     ]
    },
    {
     "name": "stdout",
     "output_type": "stream",
     "text": [
      "Threshold  nan FS_total_space\n",
      "NaN, Skipping!\n",
      "Threshold  nan FS_max_util\n",
      "NaN, Skipping!\n",
      "Threshold  nan ICMP_ping\n",
      "NaN, Skipping!\n",
      "Threshold  0.5781165613517251 FS_max_avail\n"
     ]
    },
    {
     "name": "stderr",
     "output_type": "stream",
     "text": [
      "<ipython-input-82-dcc1e2084555>:27: UserWarning: Boolean Series key will be reindexed to match DataFrame index.\n",
      "  df_hk = df[df.cmdb_id == host][df.name == kpi]\n",
      "<ipython-input-82-dcc1e2084555>:27: UserWarning: Boolean Series key will be reindexed to match DataFrame index.\n",
      "  df_hk = df[df.cmdb_id == host][df.name == kpi]\n",
      "<ipython-input-82-dcc1e2084555>:27: UserWarning: Boolean Series key will be reindexed to match DataFrame index.\n",
      "  df_hk = df[df.cmdb_id == host][df.name == kpi]\n"
     ]
    },
    {
     "name": "stdout",
     "output_type": "stream",
     "text": [
      "Threshold  -1.0 Swap_used_pct\n",
      "Threshold  nan Memory_total\n",
      "No valid data to use, skipping\n",
      "os_008  completed in  3.002242088317871\n",
      "************************************************************\n",
      "Checking  os_014\n",
      "Threshold  -1.0 Sent_errors_packets\n",
      "Threshold  5.131341003614546 Processor_load_5_min\n",
      "Threshold  -1.0 Disk_rd_ios\n",
      "Threshold "
     ]
    },
    {
     "name": "stderr",
     "output_type": "stream",
     "text": [
      "<ipython-input-82-dcc1e2084555>:27: UserWarning: Boolean Series key will be reindexed to match DataFrame index.\n",
      "  df_hk = df[df.cmdb_id == host][df.name == kpi]\n",
      "<ipython-input-82-dcc1e2084555>:27: UserWarning: Boolean Series key will be reindexed to match DataFrame index.\n",
      "  df_hk = df[df.cmdb_id == host][df.name == kpi]\n",
      "<ipython-input-82-dcc1e2084555>:27: UserWarning: Boolean Series key will be reindexed to match DataFrame index.\n",
      "  df_hk = df[df.cmdb_id == host][df.name == kpi]\n",
      "<ipython-input-82-dcc1e2084555>:27: UserWarning: Boolean Series key will be reindexed to match DataFrame index.\n",
      "  df_hk = df[df.cmdb_id == host][df.name == kpi]\n"
     ]
    },
    {
     "name": "stdout",
     "output_type": "stream",
     "text": [
      " 1.0853800785086865 CPU_util_pct\n",
      "Threshold  4.004462348565123e-09 Disk_io_util\n",
      "Threshold  0.5814487519878853 Num_of_processes\n",
      "Threshold  1.2539971655626947 Send_total\n"
     ]
    },
    {
     "name": "stderr",
     "output_type": "stream",
     "text": [
      "<ipython-input-82-dcc1e2084555>:27: UserWarning: Boolean Series key will be reindexed to match DataFrame index.\n",
      "  df_hk = df[df.cmdb_id == host][df.name == kpi]\n",
      "/Users/baconbaker/anaconda3/envs/ml/lib/python3.8/site-packages/alibi_detect/od/sr.py:96: RuntimeWarning: divide by zero encountered in log\n",
      "  log_amp = np.log(amp)\n",
      "/Users/baconbaker/anaconda3/envs/ml/lib/python3.8/site-packages/alibi_detect/od/sr.py:99: RuntimeWarning: invalid value encountered in subtract\n",
      "  res_amp = log_amp - ma_log_amp\n",
      "/Users/baconbaker/anaconda3/envs/ml/lib/python3.8/site-packages/alibi_detect/od/sr.py:207: RuntimeWarning: invalid value encountered in greater\n",
      "  outlier_pred = (iscore > self.threshold).astype(int)\n",
      "<ipython-input-82-dcc1e2084555>:27: UserWarning: Boolean Series key will be reindexed to match DataFrame index.\n",
      "  df_hk = df[df.cmdb_id == host][df.name == kpi]\n",
      "<ipython-input-82-dcc1e2084555>:27: UserWarning: Boolean Series key will be reindexed to match DataFrame index.\n",
      "  df_hk = df[df.cmdb_id == host][df.name == kpi]\n",
      "/Users/baconbaker/anaconda3/envs/ml/lib/python3.8/site-packages/alibi_detect/od/sr.py:96: RuntimeWarning: divide by zero encountered in log\n",
      "  log_amp = np.log(amp)\n",
      "/Users/baconbaker/anaconda3/envs/ml/lib/python3.8/site-packages/alibi_detect/od/sr.py:99: RuntimeWarning: invalid value encountered in subtract\n",
      "  res_amp = log_amp - ma_log_amp\n",
      "/Users/baconbaker/anaconda3/envs/ml/lib/python3.8/site-packages/alibi_detect/od/sr.py:207: RuntimeWarning: invalid value encountered in greater\n",
      "  outlier_pred = (iscore > self.threshold).astype(int)\n",
      "<ipython-input-82-dcc1e2084555>:27: UserWarning: Boolean Series key will be reindexed to match DataFrame index.\n",
      "  df_hk = df[df.cmdb_id == host][df.name == kpi]\n"
     ]
    },
    {
     "name": "stdout",
     "output_type": "stream",
     "text": [
      "[1 0 1 0 1 0 0 0 0 0 0 0 0 0 0 0 0 0 0 0 0 0 1 0 1 0 0 0 0 0]\n",
      "ST Threshold Anomaly!\n",
      "Threshold  1.0607191079055818 Outgoing_network_traffic\n",
      "Threshold  0.5793072165246473 Memory_available_pct\n",
      "Threshold  -1.0 Incoming_network_traffic\n",
      "Threshold  -1.0 Zombie_Process\n",
      "Threshold "
     ]
    },
    {
     "name": "stderr",
     "output_type": "stream",
     "text": [
      "<ipython-input-82-dcc1e2084555>:27: UserWarning: Boolean Series key will be reindexed to match DataFrame index.\n",
      "  df_hk = df[df.cmdb_id == host][df.name == kpi]\n",
      "<ipython-input-82-dcc1e2084555>:27: UserWarning: Boolean Series key will be reindexed to match DataFrame index.\n",
      "  df_hk = df[df.cmdb_id == host][df.name == kpi]\n",
      "<ipython-input-82-dcc1e2084555>:27: UserWarning: Boolean Series key will be reindexed to match DataFrame index.\n",
      "  df_hk = df[df.cmdb_id == host][df.name == kpi]\n",
      "<ipython-input-82-dcc1e2084555>:27: UserWarning: Boolean Series key will be reindexed to match DataFrame index.\n",
      "  df_hk = df[df.cmdb_id == host][df.name == kpi]\n"
     ]
    },
    {
     "name": "stdout",
     "output_type": "stream",
     "text": [
      " 0.6046199262716122 Recv_total\n",
      "Threshold  0.5823694066171128 Page_po\n",
      "Threshold  0.5806657644411333 CPU_idle_pct\n",
      "Threshold  9.81569889094109 Processor_load_1_min\n",
      "Threshold  nan Agent_ping\n"
     ]
    },
    {
     "name": "stderr",
     "output_type": "stream",
     "text": [
      "<ipython-input-82-dcc1e2084555>:27: UserWarning: Boolean Series key will be reindexed to match DataFrame index.\n",
      "  df_hk = df[df.cmdb_id == host][df.name == kpi]\n",
      "<ipython-input-82-dcc1e2084555>:27: UserWarning: Boolean Series key will be reindexed to match DataFrame index.\n",
      "  df_hk = df[df.cmdb_id == host][df.name == kpi]\n",
      "<ipython-input-82-dcc1e2084555>:27: UserWarning: Boolean Series key will be reindexed to match DataFrame index.\n",
      "  df_hk = df[df.cmdb_id == host][df.name == kpi]\n",
      "<ipython-input-82-dcc1e2084555>:27: UserWarning: Boolean Series key will be reindexed to match DataFrame index.\n",
      "  df_hk = df[df.cmdb_id == host][df.name == kpi]\n",
      "<ipython-input-82-dcc1e2084555>:27: UserWarning: Boolean Series key will be reindexed to match DataFrame index.\n",
      "  df_hk = df[df.cmdb_id == host][df.name == kpi]\n"
     ]
    },
    {
     "name": "stdout",
     "output_type": "stream",
     "text": [
      "NaN, Skipping!\n",
      "Threshold  nan Num_of_running_processes\n",
      "NaN, Skipping!\n",
      "Threshold  0.5958945931439129 ss_total\n",
      "Threshold  5.577896487549938 Processor_load_15_min\n",
      "Threshold  -1.0 Page_pi\n",
      "Threshold  2.7499386836564885 Disk_avgqu_sz\n",
      "Threshold  1.3143657680696679 Disk_wr_kbs\n"
     ]
    },
    {
     "name": "stderr",
     "output_type": "stream",
     "text": [
      "<ipython-input-82-dcc1e2084555>:27: UserWarning: Boolean Series key will be reindexed to match DataFrame index.\n",
      "  df_hk = df[df.cmdb_id == host][df.name == kpi]\n",
      "<ipython-input-82-dcc1e2084555>:27: UserWarning: Boolean Series key will be reindexed to match DataFrame index.\n",
      "  df_hk = df[df.cmdb_id == host][df.name == kpi]\n",
      "<ipython-input-82-dcc1e2084555>:27: UserWarning: Boolean Series key will be reindexed to match DataFrame index.\n",
      "  df_hk = df[df.cmdb_id == host][df.name == kpi]\n",
      "<ipython-input-82-dcc1e2084555>:27: UserWarning: Boolean Series key will be reindexed to match DataFrame index.\n",
      "  df_hk = df[df.cmdb_id == host][df.name == kpi]\n",
      "<ipython-input-82-dcc1e2084555>:27: UserWarning: Boolean Series key will be reindexed to match DataFrame index.\n",
      "  df_hk = df[df.cmdb_id == host][df.name == kpi]\n"
     ]
    },
    {
     "name": "stdout",
     "output_type": "stream",
     "text": [
      "Threshold  1.5517953279830063 Disk_await\n",
      "Threshold  0.5789473684899311 Shared_memory\n",
      "Threshold  2.5927267769359847 CPU_user_time\n",
      "Threshold  2.156698481618024 Disk_svctm\n"
     ]
    },
    {
     "name": "stderr",
     "output_type": "stream",
     "text": [
      "<ipython-input-82-dcc1e2084555>:27: UserWarning: Boolean Series key will be reindexed to match DataFrame index.\n",
      "  df_hk = df[df.cmdb_id == host][df.name == kpi]\n",
      "/Users/baconbaker/anaconda3/envs/ml/lib/python3.8/site-packages/alibi_detect/od/sr.py:96: RuntimeWarning: divide by zero encountered in log\n",
      "  log_amp = np.log(amp)\n",
      "/Users/baconbaker/anaconda3/envs/ml/lib/python3.8/site-packages/alibi_detect/od/sr.py:99: RuntimeWarning: invalid value encountered in subtract\n",
      "  res_amp = log_amp - ma_log_amp\n",
      "/Users/baconbaker/anaconda3/envs/ml/lib/python3.8/site-packages/alibi_detect/od/sr.py:207: RuntimeWarning: invalid value encountered in greater\n",
      "  outlier_pred = (iscore > self.threshold).astype(int)\n",
      "<ipython-input-82-dcc1e2084555>:27: UserWarning: Boolean Series key will be reindexed to match DataFrame index.\n",
      "  df_hk = df[df.cmdb_id == host][df.name == kpi]\n",
      "<ipython-input-82-dcc1e2084555>:27: UserWarning: Boolean Series key will be reindexed to match DataFrame index.\n",
      "  df_hk = df[df.cmdb_id == host][df.name == kpi]\n",
      "<ipython-input-82-dcc1e2084555>:27: UserWarning: Boolean Series key will be reindexed to match DataFrame index.\n",
      "  df_hk = df[df.cmdb_id == host][df.name == kpi]\n"
     ]
    },
    {
     "name": "stdout",
     "output_type": "stream",
     "text": [
      "[1 0 0 1 1 0 0 0 0 0 0 0 0 0 0 0 0 0 0 0 1 1 0 1 0 0 0 0 0 1]\n",
      "ST Threshold Anomaly!\n",
      "Threshold  0.578515393084795 Disk_wr_ios\n",
      "Threshold  0.5798884450381039 Memory_used_pct\n",
      "Threshold  1.5896669733642756 CPU_iowait_time\n",
      "Threshold  2.420681242684408 System_wait_queue_length\n"
     ]
    },
    {
     "name": "stderr",
     "output_type": "stream",
     "text": [
      "<ipython-input-82-dcc1e2084555>:27: UserWarning: Boolean Series key will be reindexed to match DataFrame index.\n",
      "  df_hk = df[df.cmdb_id == host][df.name == kpi]\n",
      "<ipython-input-82-dcc1e2084555>:27: UserWarning: Boolean Series key will be reindexed to match DataFrame index.\n",
      "  df_hk = df[df.cmdb_id == host][df.name == kpi]\n",
      "<ipython-input-82-dcc1e2084555>:27: UserWarning: Boolean Series key will be reindexed to match DataFrame index.\n",
      "  df_hk = df[df.cmdb_id == host][df.name == kpi]\n",
      "<ipython-input-82-dcc1e2084555>:27: UserWarning: Boolean Series key will be reindexed to match DataFrame index.\n",
      "  df_hk = df[df.cmdb_id == host][df.name == kpi]\n",
      "<ipython-input-82-dcc1e2084555>:27: UserWarning: Boolean Series key will be reindexed to match DataFrame index.\n",
      "  df_hk = df[df.cmdb_id == host][df.name == kpi]\n"
     ]
    },
    {
     "name": "stdout",
     "output_type": "stream",
     "text": [
      "Threshold  1.5075754612578651 CPU_system_time\n",
      "[0 0 1 0 0 0 0 0 0 0 0 0 0 0 0 0 0 0 0 0 0 0 1 0 0 0 0 1 0 0]\n",
      "ST Threshold Anomaly!\n",
      "Threshold  -1.0 Disk_rd_kbs\n",
      "Threshold  0.5801763799940753 Memory_available\n",
      "Threshold  0.5815255243159426 Memory_used\n",
      "Threshold  -1.0 System_block_queue_length\n",
      "Threshold "
     ]
    },
    {
     "name": "stderr",
     "output_type": "stream",
     "text": [
      "<ipython-input-82-dcc1e2084555>:27: UserWarning: Boolean Series key will be reindexed to match DataFrame index.\n",
      "  df_hk = df[df.cmdb_id == host][df.name == kpi]\n",
      "<ipython-input-82-dcc1e2084555>:27: UserWarning: Boolean Series key will be reindexed to match DataFrame index.\n",
      "  df_hk = df[df.cmdb_id == host][df.name == kpi]\n",
      "<ipython-input-82-dcc1e2084555>:27: UserWarning: Boolean Series key will be reindexed to match DataFrame index.\n",
      "  df_hk = df[df.cmdb_id == host][df.name == kpi]\n",
      "<ipython-input-82-dcc1e2084555>:27: UserWarning: Boolean Series key will be reindexed to match DataFrame index.\n",
      "  df_hk = df[df.cmdb_id == host][df.name == kpi]\n",
      "/Users/baconbaker/anaconda3/envs/ml/lib/python3.8/site-packages/alibi_detect/od/sr.py:96: RuntimeWarning: divide by zero encountered in log\n",
      "  log_amp = np.log(amp)\n",
      "/Users/baconbaker/anaconda3/envs/ml/lib/python3.8/site-packages/alibi_detect/od/sr.py:99: RuntimeWarning: invalid value encountered in subtract\n",
      "  res_amp = log_amp - ma_log_amp\n",
      "/Users/baconbaker/anaconda3/envs/ml/lib/python3.8/site-packages/alibi_detect/od/sr.py:207: RuntimeWarning: invalid value encountered in greater\n",
      "  outlier_pred = (iscore > self.threshold).astype(int)\n",
      "<ipython-input-82-dcc1e2084555>:27: UserWarning: Boolean Series key will be reindexed to match DataFrame index.\n",
      "  df_hk = df[df.cmdb_id == host][df.name == kpi]\n"
     ]
    },
    {
     "name": "stdout",
     "output_type": "stream",
     "text": [
      " 2.238131312423907 Received_packets\n",
      "Threshold  -1.0 Received_errors_packets\n",
      "Threshold  0.580505395153914 Memory_free\n",
      "Threshold  1.1245674512082404 Sent_queue\n",
      "Threshold  0.5749150553676956 Cache_used\n"
     ]
    },
    {
     "name": "stderr",
     "output_type": "stream",
     "text": [
      "<ipython-input-82-dcc1e2084555>:27: UserWarning: Boolean Series key will be reindexed to match DataFrame index.\n",
      "  df_hk = df[df.cmdb_id == host][df.name == kpi]\n",
      "<ipython-input-82-dcc1e2084555>:27: UserWarning: Boolean Series key will be reindexed to match DataFrame index.\n",
      "  df_hk = df[df.cmdb_id == host][df.name == kpi]\n",
      "/Users/baconbaker/anaconda3/envs/ml/lib/python3.8/site-packages/alibi_detect/od/sr.py:96: RuntimeWarning: divide by zero encountered in log\n",
      "  log_amp = np.log(amp)\n",
      "/Users/baconbaker/anaconda3/envs/ml/lib/python3.8/site-packages/alibi_detect/od/sr.py:99: RuntimeWarning: invalid value encountered in subtract\n",
      "  res_amp = log_amp - ma_log_amp\n",
      "/Users/baconbaker/anaconda3/envs/ml/lib/python3.8/site-packages/alibi_detect/od/sr.py:207: RuntimeWarning: invalid value encountered in greater\n",
      "  outlier_pred = (iscore > self.threshold).astype(int)\n",
      "<ipython-input-82-dcc1e2084555>:27: UserWarning: Boolean Series key will be reindexed to match DataFrame index.\n",
      "  df_hk = df[df.cmdb_id == host][df.name == kpi]\n",
      "<ipython-input-82-dcc1e2084555>:27: UserWarning: Boolean Series key will be reindexed to match DataFrame index.\n",
      "  df_hk = df[df.cmdb_id == host][df.name == kpi]\n"
     ]
    },
    {
     "name": "stdout",
     "output_type": "stream",
     "text": [
      "Threshold  -1.0 Received_queue\n",
      "Threshold  nan Buffers_used\n",
      "NaN, Skipping!\n",
      "Threshold  0.5800245050831863 FS_used_space\n"
     ]
    },
    {
     "name": "stderr",
     "output_type": "stream",
     "text": [
      "<ipython-input-82-dcc1e2084555>:27: UserWarning: Boolean Series key will be reindexed to match DataFrame index.\n",
      "  df_hk = df[df.cmdb_id == host][df.name == kpi]\n",
      "<ipython-input-82-dcc1e2084555>:27: UserWarning: Boolean Series key will be reindexed to match DataFrame index.\n",
      "  df_hk = df[df.cmdb_id == host][df.name == kpi]\n",
      "<ipython-input-82-dcc1e2084555>:27: UserWarning: Boolean Series key will be reindexed to match DataFrame index.\n",
      "  df_hk = df[df.cmdb_id == host][df.name == kpi]\n",
      "/Users/baconbaker/anaconda3/envs/ml/lib/python3.8/site-packages/alibi_detect/od/sr.py:96: RuntimeWarning: divide by zero encountered in log\n",
      "  log_amp = np.log(amp)\n",
      "/Users/baconbaker/anaconda3/envs/ml/lib/python3.8/site-packages/alibi_detect/od/sr.py:99: RuntimeWarning: invalid value encountered in subtract\n",
      "  res_amp = log_amp - ma_log_amp\n",
      "/Users/baconbaker/anaconda3/envs/ml/lib/python3.8/site-packages/alibi_detect/od/sr.py:207: RuntimeWarning: invalid value encountered in greater\n",
      "  outlier_pred = (iscore > self.threshold).astype(int)\n",
      "<ipython-input-82-dcc1e2084555>:27: UserWarning: Boolean Series key will be reindexed to match DataFrame index.\n",
      "  df_hk = df[df.cmdb_id == host][df.name == kpi]\n"
     ]
    },
    {
     "name": "stdout",
     "output_type": "stream",
     "text": [
      "Threshold  0.7859431224208072 Sent_packets\n",
      "Threshold  0.5795557809735302 FS_used_pct\n",
      "Threshold  nan FS_total_space\n",
      "NaN, Skipping!\n",
      "Threshold  nan FS_max_util\n"
     ]
    },
    {
     "name": "stderr",
     "output_type": "stream",
     "text": [
      "<ipython-input-82-dcc1e2084555>:27: UserWarning: Boolean Series key will be reindexed to match DataFrame index.\n",
      "  df_hk = df[df.cmdb_id == host][df.name == kpi]\n",
      "<ipython-input-82-dcc1e2084555>:27: UserWarning: Boolean Series key will be reindexed to match DataFrame index.\n",
      "  df_hk = df[df.cmdb_id == host][df.name == kpi]\n",
      "<ipython-input-82-dcc1e2084555>:27: UserWarning: Boolean Series key will be reindexed to match DataFrame index.\n",
      "  df_hk = df[df.cmdb_id == host][df.name == kpi]\n"
     ]
    },
    {
     "name": "stdout",
     "output_type": "stream",
     "text": [
      "NaN, Skipping!\n",
      "Threshold  nan ICMP_ping\n",
      "NaN, Skipping!\n",
      "Threshold  0.5789034532385154 FS_max_avail\n",
      "Threshold  -1.0 Swap_used_pct\n",
      "Threshold  nan Memory_total\n",
      "NaN, Skipping!"
     ]
    },
    {
     "name": "stderr",
     "output_type": "stream",
     "text": [
      "<ipython-input-82-dcc1e2084555>:27: UserWarning: Boolean Series key will be reindexed to match DataFrame index.\n",
      "  df_hk = df[df.cmdb_id == host][df.name == kpi]\n",
      "<ipython-input-82-dcc1e2084555>:27: UserWarning: Boolean Series key will be reindexed to match DataFrame index.\n",
      "  df_hk = df[df.cmdb_id == host][df.name == kpi]\n",
      "<ipython-input-82-dcc1e2084555>:27: UserWarning: Boolean Series key will be reindexed to match DataFrame index.\n",
      "  df_hk = df[df.cmdb_id == host][df.name == kpi]\n",
      "<ipython-input-82-dcc1e2084555>:27: UserWarning: Boolean Series key will be reindexed to match DataFrame index.\n",
      "  df_hk = df[df.cmdb_id == host][df.name == kpi]\n"
     ]
    },
    {
     "name": "stdout",
     "output_type": "stream",
     "text": [
      "\n",
      "os_014  completed in  2.938478946685791\n",
      "************************************************************\n",
      "Checking  os_005\n",
      "Threshold  -1.0 Sent_errors_packets\n",
      "Threshold  2.9918815865677804 Processor_load_5_min\n",
      "Threshold  -1.0 Disk_rd_ios\n",
      "Threshold  0.5345825018639287 CPU_util_pct\n"
     ]
    },
    {
     "name": "stderr",
     "output_type": "stream",
     "text": [
      "<ipython-input-82-dcc1e2084555>:27: UserWarning: Boolean Series key will be reindexed to match DataFrame index.\n",
      "  df_hk = df[df.cmdb_id == host][df.name == kpi]\n",
      "<ipython-input-82-dcc1e2084555>:27: UserWarning: Boolean Series key will be reindexed to match DataFrame index.\n",
      "  df_hk = df[df.cmdb_id == host][df.name == kpi]\n",
      "<ipython-input-82-dcc1e2084555>:27: UserWarning: Boolean Series key will be reindexed to match DataFrame index.\n",
      "  df_hk = df[df.cmdb_id == host][df.name == kpi]\n",
      "<ipython-input-82-dcc1e2084555>:27: UserWarning: Boolean Series key will be reindexed to match DataFrame index.\n",
      "  df_hk = df[df.cmdb_id == host][df.name == kpi]\n"
     ]
    },
    {
     "name": "stdout",
     "output_type": "stream",
     "text": [
      "Threshold  5.95782863948421 Disk_io_util\n",
      "Threshold  0.5925659148278721 Num_of_processes\n",
      "Threshold  0.6520250452409463 Send_total\n",
      "Threshold  0.5983445943313996 Outgoing_network_traffic\n"
     ]
    },
    {
     "name": "stderr",
     "output_type": "stream",
     "text": [
      "<ipython-input-82-dcc1e2084555>:27: UserWarning: Boolean Series key will be reindexed to match DataFrame index.\n",
      "  df_hk = df[df.cmdb_id == host][df.name == kpi]\n",
      "<ipython-input-82-dcc1e2084555>:27: UserWarning: Boolean Series key will be reindexed to match DataFrame index.\n",
      "  df_hk = df[df.cmdb_id == host][df.name == kpi]\n",
      "<ipython-input-82-dcc1e2084555>:27: UserWarning: Boolean Series key will be reindexed to match DataFrame index.\n",
      "  df_hk = df[df.cmdb_id == host][df.name == kpi]\n",
      "<ipython-input-82-dcc1e2084555>:27: UserWarning: Boolean Series key will be reindexed to match DataFrame index.\n",
      "  df_hk = df[df.cmdb_id == host][df.name == kpi]\n",
      "<ipython-input-82-dcc1e2084555>:27: UserWarning: Boolean Series key will be reindexed to match DataFrame index.\n",
      "  df_hk = df[df.cmdb_id == host][df.name == kpi]\n"
     ]
    },
    {
     "name": "stdout",
     "output_type": "stream",
     "text": [
      "[1 1 0 0 0 0 0 0 0 0 1 0 0 0 0 0 0 0 0 0 0 0 1 0 0 0 0 1 1 1]\n",
      "ST Threshold Anomaly!\n",
      "Threshold  0.5781741977384375 Memory_available_pct\n",
      "Threshold  0.6637088308086891 Incoming_network_traffic\n",
      "Threshold  -1.0 Zombie_Process\n",
      "Threshold  0.5792622258841295 Recv_total\n"
     ]
    },
    {
     "name": "stderr",
     "output_type": "stream",
     "text": [
      "<ipython-input-82-dcc1e2084555>:27: UserWarning: Boolean Series key will be reindexed to match DataFrame index.\n",
      "  df_hk = df[df.cmdb_id == host][df.name == kpi]\n",
      "<ipython-input-82-dcc1e2084555>:27: UserWarning: Boolean Series key will be reindexed to match DataFrame index.\n",
      "  df_hk = df[df.cmdb_id == host][df.name == kpi]\n",
      "<ipython-input-82-dcc1e2084555>:27: UserWarning: Boolean Series key will be reindexed to match DataFrame index.\n",
      "  df_hk = df[df.cmdb_id == host][df.name == kpi]\n",
      "<ipython-input-82-dcc1e2084555>:27: UserWarning: Boolean Series key will be reindexed to match DataFrame index.\n",
      "  df_hk = df[df.cmdb_id == host][df.name == kpi]\n"
     ]
    },
    {
     "name": "stdout",
     "output_type": "stream",
     "text": [
      "Threshold  0.5773254582113035 Page_po\n",
      "Threshold  0.5820917005005954 CPU_idle_pct\n",
      "Threshold  3.5837664273742185 Processor_load_1_min\n",
      "Threshold  nan Agent_ping\n",
      "NaN, Skipping!"
     ]
    },
    {
     "name": "stderr",
     "output_type": "stream",
     "text": [
      "<ipython-input-82-dcc1e2084555>:27: UserWarning: Boolean Series key will be reindexed to match DataFrame index.\n",
      "  df_hk = df[df.cmdb_id == host][df.name == kpi]\n",
      "<ipython-input-82-dcc1e2084555>:27: UserWarning: Boolean Series key will be reindexed to match DataFrame index.\n",
      "  df_hk = df[df.cmdb_id == host][df.name == kpi]\n",
      "<ipython-input-82-dcc1e2084555>:27: UserWarning: Boolean Series key will be reindexed to match DataFrame index.\n",
      "  df_hk = df[df.cmdb_id == host][df.name == kpi]\n",
      "<ipython-input-82-dcc1e2084555>:27: UserWarning: Boolean Series key will be reindexed to match DataFrame index.\n",
      "  df_hk = df[df.cmdb_id == host][df.name == kpi]\n"
     ]
    },
    {
     "name": "stdout",
     "output_type": "stream",
     "text": [
      "\n",
      "Threshold  1.0102079553340864 Num_of_running_processes\n",
      "Threshold  0.5643427859399484 ss_total\n",
      "Threshold  2.7158398102220285 Processor_load_15_min\n",
      "Threshold  -1.0 Page_pi\n"
     ]
    },
    {
     "name": "stderr",
     "output_type": "stream",
     "text": [
      "<ipython-input-82-dcc1e2084555>:27: UserWarning: Boolean Series key will be reindexed to match DataFrame index.\n",
      "  df_hk = df[df.cmdb_id == host][df.name == kpi]\n",
      "<ipython-input-82-dcc1e2084555>:27: UserWarning: Boolean Series key will be reindexed to match DataFrame index.\n",
      "  df_hk = df[df.cmdb_id == host][df.name == kpi]\n",
      "<ipython-input-82-dcc1e2084555>:27: UserWarning: Boolean Series key will be reindexed to match DataFrame index.\n",
      "  df_hk = df[df.cmdb_id == host][df.name == kpi]\n",
      "<ipython-input-82-dcc1e2084555>:27: UserWarning: Boolean Series key will be reindexed to match DataFrame index.\n",
      "  df_hk = df[df.cmdb_id == host][df.name == kpi]\n",
      "<ipython-input-82-dcc1e2084555>:27: UserWarning: Boolean Series key will be reindexed to match DataFrame index.\n",
      "  df_hk = df[df.cmdb_id == host][df.name == kpi]\n"
     ]
    },
    {
     "name": "stdout",
     "output_type": "stream",
     "text": [
      "Threshold  3.654459227778714 Disk_avgqu_sz\n",
      "Threshold  0.5736578541970178 Disk_wr_kbs\n",
      "Threshold  1.1543094493858996 Disk_await\n",
      "Threshold  nan Shared_memory\n",
      "NaN, Skipping!\n",
      "Threshold  0.5760646910877616 CPU_user_time\n"
     ]
    },
    {
     "name": "stderr",
     "output_type": "stream",
     "text": [
      "<ipython-input-82-dcc1e2084555>:27: UserWarning: Boolean Series key will be reindexed to match DataFrame index.\n",
      "  df_hk = df[df.cmdb_id == host][df.name == kpi]\n",
      "<ipython-input-82-dcc1e2084555>:27: UserWarning: Boolean Series key will be reindexed to match DataFrame index.\n",
      "  df_hk = df[df.cmdb_id == host][df.name == kpi]\n",
      "<ipython-input-82-dcc1e2084555>:27: UserWarning: Boolean Series key will be reindexed to match DataFrame index.\n",
      "  df_hk = df[df.cmdb_id == host][df.name == kpi]\n",
      "<ipython-input-82-dcc1e2084555>:27: UserWarning: Boolean Series key will be reindexed to match DataFrame index.\n",
      "  df_hk = df[df.cmdb_id == host][df.name == kpi]\n"
     ]
    },
    {
     "name": "stdout",
     "output_type": "stream",
     "text": [
      "Threshold  1.5688299147658795 Disk_svctm\n",
      "[1 1 0 0 0 1 0 1 0 0 0 0 0 0 0 0 0 0 0 0 0 0 0 0 1 0 1 0 0 0]\n",
      "ST Threshold Anomaly!\n",
      "Threshold  0.5897884457983804 Disk_wr_ios\n",
      "Threshold  0.5811414008199163 Memory_used_pct\n",
      "Threshold  1.7026527135625673 CPU_iowait_time\n"
     ]
    },
    {
     "name": "stderr",
     "output_type": "stream",
     "text": [
      "<ipython-input-82-dcc1e2084555>:27: UserWarning: Boolean Series key will be reindexed to match DataFrame index.\n",
      "  df_hk = df[df.cmdb_id == host][df.name == kpi]\n",
      "<ipython-input-82-dcc1e2084555>:27: UserWarning: Boolean Series key will be reindexed to match DataFrame index.\n",
      "  df_hk = df[df.cmdb_id == host][df.name == kpi]\n",
      "<ipython-input-82-dcc1e2084555>:27: UserWarning: Boolean Series key will be reindexed to match DataFrame index.\n",
      "  df_hk = df[df.cmdb_id == host][df.name == kpi]\n",
      "<ipython-input-82-dcc1e2084555>:27: UserWarning: Boolean Series key will be reindexed to match DataFrame index.\n",
      "  df_hk = df[df.cmdb_id == host][df.name == kpi]\n"
     ]
    },
    {
     "name": "stdout",
     "output_type": "stream",
     "text": [
      "Threshold  0.7786079331524527 System_wait_queue_length\n",
      "Threshold  0.5985905633031309 CPU_system_time\n",
      "Threshold  -1.0 Disk_rd_kbs\n",
      "Threshold  0.5764248510543457 Memory_available\n"
     ]
    },
    {
     "name": "stderr",
     "output_type": "stream",
     "text": [
      "<ipython-input-82-dcc1e2084555>:27: UserWarning: Boolean Series key will be reindexed to match DataFrame index.\n",
      "  df_hk = df[df.cmdb_id == host][df.name == kpi]\n",
      "<ipython-input-82-dcc1e2084555>:27: UserWarning: Boolean Series key will be reindexed to match DataFrame index.\n",
      "  df_hk = df[df.cmdb_id == host][df.name == kpi]\n",
      "<ipython-input-82-dcc1e2084555>:27: UserWarning: Boolean Series key will be reindexed to match DataFrame index.\n",
      "  df_hk = df[df.cmdb_id == host][df.name == kpi]\n",
      "<ipython-input-82-dcc1e2084555>:27: UserWarning: Boolean Series key will be reindexed to match DataFrame index.\n",
      "  df_hk = df[df.cmdb_id == host][df.name == kpi]\n"
     ]
    },
    {
     "name": "stdout",
     "output_type": "stream",
     "text": [
      "Threshold  0.5822911409978231 Memory_used\n",
      "Threshold  2.626777624700656 System_block_queue_length\n",
      "Threshold  0.5788659408742662 Received_packets\n",
      "Threshold  -1.0 Received_errors_packets\n",
      "Threshold "
     ]
    },
    {
     "name": "stderr",
     "output_type": "stream",
     "text": [
      "/Users/baconbaker/anaconda3/envs/ml/lib/python3.8/site-packages/alibi_detect/od/sr.py:96: RuntimeWarning: divide by zero encountered in log\n",
      "  log_amp = np.log(amp)\n",
      "/Users/baconbaker/anaconda3/envs/ml/lib/python3.8/site-packages/alibi_detect/od/sr.py:99: RuntimeWarning: invalid value encountered in subtract\n",
      "  res_amp = log_amp - ma_log_amp\n",
      "/Users/baconbaker/anaconda3/envs/ml/lib/python3.8/site-packages/alibi_detect/od/sr.py:207: RuntimeWarning: invalid value encountered in greater\n",
      "  outlier_pred = (iscore > self.threshold).astype(int)\n",
      "<ipython-input-82-dcc1e2084555>:27: UserWarning: Boolean Series key will be reindexed to match DataFrame index.\n",
      "  df_hk = df[df.cmdb_id == host][df.name == kpi]\n",
      "<ipython-input-82-dcc1e2084555>:27: UserWarning: Boolean Series key will be reindexed to match DataFrame index.\n",
      "  df_hk = df[df.cmdb_id == host][df.name == kpi]\n",
      "<ipython-input-82-dcc1e2084555>:27: UserWarning: Boolean Series key will be reindexed to match DataFrame index.\n",
      "  df_hk = df[df.cmdb_id == host][df.name == kpi]\n",
      "<ipython-input-82-dcc1e2084555>:27: UserWarning: Boolean Series key will be reindexed to match DataFrame index.\n",
      "  df_hk = df[df.cmdb_id == host][df.name == kpi]\n"
     ]
    },
    {
     "name": "stdout",
     "output_type": "stream",
     "text": [
      " 0.6033127564415032 Memory_free\n",
      "Threshold  0.5981700658915403 Sent_queue\n",
      "Threshold  0.5922964527832087 Cache_used\n",
      "Threshold  0.5838784660603948 Received_queue\n"
     ]
    },
    {
     "name": "stderr",
     "output_type": "stream",
     "text": [
      "<ipython-input-82-dcc1e2084555>:27: UserWarning: Boolean Series key will be reindexed to match DataFrame index.\n",
      "  df_hk = df[df.cmdb_id == host][df.name == kpi]\n",
      "<ipython-input-82-dcc1e2084555>:27: UserWarning: Boolean Series key will be reindexed to match DataFrame index.\n",
      "  df_hk = df[df.cmdb_id == host][df.name == kpi]\n",
      "<ipython-input-82-dcc1e2084555>:27: UserWarning: Boolean Series key will be reindexed to match DataFrame index.\n",
      "  df_hk = df[df.cmdb_id == host][df.name == kpi]\n",
      "<ipython-input-82-dcc1e2084555>:27: UserWarning: Boolean Series key will be reindexed to match DataFrame index.\n",
      "  df_hk = df[df.cmdb_id == host][df.name == kpi]\n"
     ]
    },
    {
     "name": "stdout",
     "output_type": "stream",
     "text": [
      "[0 0 0 1 0 0 0 0 0 0 0 0 0 0 0 0 0 0 0 1 1 1 1 1 0 0 0 0 0 0]\n",
      "ST Threshold Anomaly!\n",
      "Threshold  0.5798279113495719 Buffers_used\n",
      "Threshold  0.5806563857021246 FS_used_space\n",
      "Threshold  0.5787960180239511 Sent_packets\n",
      "Threshold  0.5805639944575582 FS_used_pct\n"
     ]
    },
    {
     "name": "stderr",
     "output_type": "stream",
     "text": [
      "<ipython-input-82-dcc1e2084555>:27: UserWarning: Boolean Series key will be reindexed to match DataFrame index.\n",
      "  df_hk = df[df.cmdb_id == host][df.name == kpi]\n",
      "<ipython-input-82-dcc1e2084555>:27: UserWarning: Boolean Series key will be reindexed to match DataFrame index.\n",
      "  df_hk = df[df.cmdb_id == host][df.name == kpi]\n",
      "<ipython-input-82-dcc1e2084555>:27: UserWarning: Boolean Series key will be reindexed to match DataFrame index.\n",
      "  df_hk = df[df.cmdb_id == host][df.name == kpi]\n",
      "<ipython-input-82-dcc1e2084555>:27: UserWarning: Boolean Series key will be reindexed to match DataFrame index.\n",
      "  df_hk = df[df.cmdb_id == host][df.name == kpi]\n"
     ]
    },
    {
     "name": "stdout",
     "output_type": "stream",
     "text": [
      "Threshold  nan FS_total_space\n",
      "NaN, Skipping!\n",
      "Threshold  0.5770068673269074 FS_max_util\n",
      "Threshold  nan ICMP_ping\n"
     ]
    },
    {
     "name": "stderr",
     "output_type": "stream",
     "text": [
      "<ipython-input-82-dcc1e2084555>:27: UserWarning: Boolean Series key will be reindexed to match DataFrame index.\n",
      "  df_hk = df[df.cmdb_id == host][df.name == kpi]\n",
      "<ipython-input-82-dcc1e2084555>:27: UserWarning: Boolean Series key will be reindexed to match DataFrame index.\n",
      "  df_hk = df[df.cmdb_id == host][df.name == kpi]\n",
      "<ipython-input-82-dcc1e2084555>:27: UserWarning: Boolean Series key will be reindexed to match DataFrame index.\n",
      "  df_hk = df[df.cmdb_id == host][df.name == kpi]\n"
     ]
    },
    {
     "name": "stdout",
     "output_type": "stream",
     "text": [
      "NaN, Skipping!\n",
      "Threshold  0.5841372793094217 FS_max_avail\n",
      "Threshold  -1.0 Swap_used_pct\n",
      "Threshold  nan Memory_total\n",
      "No valid data to use, skipping\n",
      "os_005  completed in  2.9811151027679443\n",
      "************************************************************\n",
      "Checking  os_012\n",
      "Threshold  -1.0 Sent_errors_packets\n",
      "Threshold "
     ]
    },
    {
     "name": "stderr",
     "output_type": "stream",
     "text": [
      "<ipython-input-82-dcc1e2084555>:27: UserWarning: Boolean Series key will be reindexed to match DataFrame index.\n",
      "  df_hk = df[df.cmdb_id == host][df.name == kpi]\n",
      "<ipython-input-82-dcc1e2084555>:27: UserWarning: Boolean Series key will be reindexed to match DataFrame index.\n",
      "  df_hk = df[df.cmdb_id == host][df.name == kpi]\n",
      "<ipython-input-82-dcc1e2084555>:27: UserWarning: Boolean Series key will be reindexed to match DataFrame index.\n",
      "  df_hk = df[df.cmdb_id == host][df.name == kpi]\n"
     ]
    },
    {
     "name": "stdout",
     "output_type": "stream",
     "text": [
      " 3.9752825967580754 Processor_load_5_min\n",
      "Threshold  -1.0 Disk_rd_ios\n",
      "Threshold  0.6000592543749433 CPU_util_pct\n",
      "[0 0 1 1 0 0 0 0 1 0 0 0 0 0 0 0 0 0 0 0 0 0 0 0 1 1 1 1 0 0]\n",
      "ST Threshold Anomaly!\n",
      "Threshold  2.7583620257815364 Disk_io_util\n"
     ]
    },
    {
     "name": "stderr",
     "output_type": "stream",
     "text": [
      "<ipython-input-82-dcc1e2084555>:27: UserWarning: Boolean Series key will be reindexed to match DataFrame index.\n",
      "  df_hk = df[df.cmdb_id == host][df.name == kpi]\n",
      "<ipython-input-82-dcc1e2084555>:27: UserWarning: Boolean Series key will be reindexed to match DataFrame index.\n",
      "  df_hk = df[df.cmdb_id == host][df.name == kpi]\n",
      "<ipython-input-82-dcc1e2084555>:27: UserWarning: Boolean Series key will be reindexed to match DataFrame index.\n",
      "  df_hk = df[df.cmdb_id == host][df.name == kpi]\n",
      "/Users/baconbaker/anaconda3/envs/ml/lib/python3.8/site-packages/alibi_detect/od/sr.py:96: RuntimeWarning: divide by zero encountered in log\n",
      "  log_amp = np.log(amp)\n",
      "/Users/baconbaker/anaconda3/envs/ml/lib/python3.8/site-packages/alibi_detect/od/sr.py:99: RuntimeWarning: invalid value encountered in subtract\n",
      "  res_amp = log_amp - ma_log_amp\n",
      "/Users/baconbaker/anaconda3/envs/ml/lib/python3.8/site-packages/alibi_detect/od/sr.py:207: RuntimeWarning: invalid value encountered in greater\n",
      "  outlier_pred = (iscore > self.threshold).astype(int)\n",
      "<ipython-input-82-dcc1e2084555>:27: UserWarning: Boolean Series key will be reindexed to match DataFrame index.\n",
      "  df_hk = df[df.cmdb_id == host][df.name == kpi]\n"
     ]
    },
    {
     "name": "stdout",
     "output_type": "stream",
     "text": [
      "Threshold  0.5786611991753375 Num_of_processes\n",
      "Threshold  1.1331397999602455 Send_total\n",
      "Threshold  1.4691093555028751 Outgoing_network_traffic\n",
      "Threshold  0.5879186510747482 Memory_available_pct\n"
     ]
    },
    {
     "name": "stderr",
     "output_type": "stream",
     "text": [
      "<ipython-input-82-dcc1e2084555>:27: UserWarning: Boolean Series key will be reindexed to match DataFrame index.\n",
      "  df_hk = df[df.cmdb_id == host][df.name == kpi]\n",
      "/Users/baconbaker/anaconda3/envs/ml/lib/python3.8/site-packages/alibi_detect/od/sr.py:96: RuntimeWarning: divide by zero encountered in log\n",
      "  log_amp = np.log(amp)\n",
      "/Users/baconbaker/anaconda3/envs/ml/lib/python3.8/site-packages/alibi_detect/od/sr.py:99: RuntimeWarning: invalid value encountered in subtract\n",
      "  res_amp = log_amp - ma_log_amp\n",
      "/Users/baconbaker/anaconda3/envs/ml/lib/python3.8/site-packages/alibi_detect/od/sr.py:207: RuntimeWarning: invalid value encountered in greater\n",
      "  outlier_pred = (iscore > self.threshold).astype(int)\n",
      "<ipython-input-82-dcc1e2084555>:27: UserWarning: Boolean Series key will be reindexed to match DataFrame index.\n",
      "  df_hk = df[df.cmdb_id == host][df.name == kpi]\n",
      "<ipython-input-82-dcc1e2084555>:27: UserWarning: Boolean Series key will be reindexed to match DataFrame index.\n",
      "  df_hk = df[df.cmdb_id == host][df.name == kpi]\n",
      "/Users/baconbaker/anaconda3/envs/ml/lib/python3.8/site-packages/alibi_detect/od/sr.py:96: RuntimeWarning: divide by zero encountered in log\n",
      "  log_amp = np.log(amp)\n",
      "/Users/baconbaker/anaconda3/envs/ml/lib/python3.8/site-packages/alibi_detect/od/sr.py:99: RuntimeWarning: invalid value encountered in subtract\n",
      "  res_amp = log_amp - ma_log_amp\n",
      "/Users/baconbaker/anaconda3/envs/ml/lib/python3.8/site-packages/alibi_detect/od/sr.py:207: RuntimeWarning: invalid value encountered in greater\n",
      "  outlier_pred = (iscore > self.threshold).astype(int)\n",
      "<ipython-input-82-dcc1e2084555>:27: UserWarning: Boolean Series key will be reindexed to match DataFrame index.\n",
      "  df_hk = df[df.cmdb_id == host][df.name == kpi]\n"
     ]
    },
    {
     "name": "stdout",
     "output_type": "stream",
     "text": [
      "Threshold  2.2139021260241813 Incoming_network_traffic\n",
      "Threshold  -1.0 Zombie_Process\n",
      "Threshold  0.6031505061857668 Recv_total\n",
      "Threshold  0.6170231043699258 Page_po\n"
     ]
    },
    {
     "name": "stderr",
     "output_type": "stream",
     "text": [
      "<ipython-input-82-dcc1e2084555>:27: UserWarning: Boolean Series key will be reindexed to match DataFrame index.\n",
      "  df_hk = df[df.cmdb_id == host][df.name == kpi]\n",
      "<ipython-input-82-dcc1e2084555>:27: UserWarning: Boolean Series key will be reindexed to match DataFrame index.\n",
      "  df_hk = df[df.cmdb_id == host][df.name == kpi]\n",
      "<ipython-input-82-dcc1e2084555>:27: UserWarning: Boolean Series key will be reindexed to match DataFrame index.\n",
      "  df_hk = df[df.cmdb_id == host][df.name == kpi]\n",
      "<ipython-input-82-dcc1e2084555>:27: UserWarning: Boolean Series key will be reindexed to match DataFrame index.\n",
      "  df_hk = df[df.cmdb_id == host][df.name == kpi]\n"
     ]
    },
    {
     "name": "stdout",
     "output_type": "stream",
     "text": [
      "Threshold  0.5800335027299405 CPU_idle_pct\n",
      "Threshold  6.137765178403965 Processor_load_1_min\n",
      "Threshold  nan Agent_ping\n",
      "NaN, Skipping!\n",
      "Threshold  0.7848227759697293 Num_of_running_processes\n"
     ]
    },
    {
     "name": "stderr",
     "output_type": "stream",
     "text": [
      "<ipython-input-82-dcc1e2084555>:27: UserWarning: Boolean Series key will be reindexed to match DataFrame index.\n",
      "  df_hk = df[df.cmdb_id == host][df.name == kpi]\n",
      "<ipython-input-82-dcc1e2084555>:27: UserWarning: Boolean Series key will be reindexed to match DataFrame index.\n",
      "  df_hk = df[df.cmdb_id == host][df.name == kpi]\n",
      "/Users/baconbaker/anaconda3/envs/ml/lib/python3.8/site-packages/alibi_detect/od/sr.py:96: RuntimeWarning: divide by zero encountered in log\n",
      "  log_amp = np.log(amp)\n",
      "/Users/baconbaker/anaconda3/envs/ml/lib/python3.8/site-packages/alibi_detect/od/sr.py:99: RuntimeWarning: invalid value encountered in subtract\n",
      "  res_amp = log_amp - ma_log_amp\n",
      "/Users/baconbaker/anaconda3/envs/ml/lib/python3.8/site-packages/alibi_detect/od/sr.py:207: RuntimeWarning: invalid value encountered in greater\n",
      "  outlier_pred = (iscore > self.threshold).astype(int)\n",
      "<ipython-input-82-dcc1e2084555>:27: UserWarning: Boolean Series key will be reindexed to match DataFrame index.\n",
      "  df_hk = df[df.cmdb_id == host][df.name == kpi]\n",
      "<ipython-input-82-dcc1e2084555>:27: UserWarning: Boolean Series key will be reindexed to match DataFrame index.\n",
      "  df_hk = df[df.cmdb_id == host][df.name == kpi]\n"
     ]
    },
    {
     "name": "stdout",
     "output_type": "stream",
     "text": [
      "Threshold  0.5895610724619808 ss_total\n",
      "Threshold  3.6375370951132595 Processor_load_15_min\n",
      "Threshold  0.8217826582497736 Page_pi\n",
      "Threshold  3.232205166383558 Disk_avgqu_sz\n",
      "Threshold  1.2765922801316942 Disk_wr_kbs\n"
     ]
    },
    {
     "name": "stderr",
     "output_type": "stream",
     "text": [
      "<ipython-input-82-dcc1e2084555>:27: UserWarning: Boolean Series key will be reindexed to match DataFrame index.\n",
      "  df_hk = df[df.cmdb_id == host][df.name == kpi]\n",
      "/Users/baconbaker/anaconda3/envs/ml/lib/python3.8/site-packages/alibi_detect/od/sr.py:96: RuntimeWarning: divide by zero encountered in log\n",
      "  log_amp = np.log(amp)\n",
      "/Users/baconbaker/anaconda3/envs/ml/lib/python3.8/site-packages/alibi_detect/od/sr.py:99: RuntimeWarning: invalid value encountered in subtract\n",
      "  res_amp = log_amp - ma_log_amp\n",
      "/Users/baconbaker/anaconda3/envs/ml/lib/python3.8/site-packages/alibi_detect/od/sr.py:207: RuntimeWarning: invalid value encountered in greater\n",
      "  outlier_pred = (iscore > self.threshold).astype(int)\n",
      "<ipython-input-82-dcc1e2084555>:27: UserWarning: Boolean Series key will be reindexed to match DataFrame index.\n",
      "  df_hk = df[df.cmdb_id == host][df.name == kpi]\n",
      "<ipython-input-82-dcc1e2084555>:27: UserWarning: Boolean Series key will be reindexed to match DataFrame index.\n",
      "  df_hk = df[df.cmdb_id == host][df.name == kpi]\n",
      "<ipython-input-82-dcc1e2084555>:27: UserWarning: Boolean Series key will be reindexed to match DataFrame index.\n",
      "  df_hk = df[df.cmdb_id == host][df.name == kpi]\n",
      "<ipython-input-82-dcc1e2084555>:27: UserWarning: Boolean Series key will be reindexed to match DataFrame index.\n",
      "  df_hk = df[df.cmdb_id == host][df.name == kpi]\n"
     ]
    },
    {
     "name": "stdout",
     "output_type": "stream",
     "text": [
      "Threshold  1.5454473620611626 Disk_await\n",
      "Threshold  nan Shared_memory\n",
      "NaN, Skipping!\n",
      "Threshold  1.01067573269699 CPU_user_time\n",
      "Threshold  1.4374154867637372 Disk_svctm\n"
     ]
    },
    {
     "name": "stderr",
     "output_type": "stream",
     "text": [
      "<ipython-input-82-dcc1e2084555>:27: UserWarning: Boolean Series key will be reindexed to match DataFrame index.\n",
      "  df_hk = df[df.cmdb_id == host][df.name == kpi]\n",
      "<ipython-input-82-dcc1e2084555>:27: UserWarning: Boolean Series key will be reindexed to match DataFrame index.\n",
      "  df_hk = df[df.cmdb_id == host][df.name == kpi]\n",
      "<ipython-input-82-dcc1e2084555>:27: UserWarning: Boolean Series key will be reindexed to match DataFrame index.\n",
      "  df_hk = df[df.cmdb_id == host][df.name == kpi]\n",
      "<ipython-input-82-dcc1e2084555>:27: UserWarning: Boolean Series key will be reindexed to match DataFrame index.\n",
      "  df_hk = df[df.cmdb_id == host][df.name == kpi]\n"
     ]
    },
    {
     "name": "stdout",
     "output_type": "stream",
     "text": [
      "[0 1 0 0 1 0 0 0 0 0 0 0 0 0 0 0 0 1 0 0 0 0 0 0 1 0 0 0 0 0]\n",
      "ST Threshold Anomaly!\n",
      "Threshold  0.6703615323345157 Disk_wr_ios\n",
      "Threshold  0.5799203977531691 Memory_used_pct\n",
      "Threshold  1.5772346088454976 CPU_iowait_time\n",
      "[0 1 1 0 0 0 0 0 0 0 0 0 0 0 0 0 0 0 0 0 0 0 0 1 0 0 1 0 0 0]\n",
      "ST Threshold Anomaly!\n",
      "Threshold  2.4833621949099243 System_wait_queue_length\n"
     ]
    },
    {
     "name": "stderr",
     "output_type": "stream",
     "text": [
      "<ipython-input-82-dcc1e2084555>:27: UserWarning: Boolean Series key will be reindexed to match DataFrame index.\n",
      "  df_hk = df[df.cmdb_id == host][df.name == kpi]\n",
      "<ipython-input-82-dcc1e2084555>:27: UserWarning: Boolean Series key will be reindexed to match DataFrame index.\n",
      "  df_hk = df[df.cmdb_id == host][df.name == kpi]\n",
      "<ipython-input-82-dcc1e2084555>:27: UserWarning: Boolean Series key will be reindexed to match DataFrame index.\n",
      "  df_hk = df[df.cmdb_id == host][df.name == kpi]\n",
      "<ipython-input-82-dcc1e2084555>:27: UserWarning: Boolean Series key will be reindexed to match DataFrame index.\n",
      "  df_hk = df[df.cmdb_id == host][df.name == kpi]\n"
     ]
    },
    {
     "name": "stdout",
     "output_type": "stream",
     "text": [
      "Threshold  0.7229272575617838 CPU_system_time\n",
      "Threshold  1.0637737035761048 Disk_rd_kbs\n",
      "Threshold  0.5992238232850924 Memory_available\n",
      "Threshold  0.5800221941160111 Memory_used\n"
     ]
    },
    {
     "name": "stderr",
     "output_type": "stream",
     "text": [
      "/Users/baconbaker/anaconda3/envs/ml/lib/python3.8/site-packages/alibi_detect/od/sr.py:96: RuntimeWarning: divide by zero encountered in log\n",
      "  log_amp = np.log(amp)\n",
      "/Users/baconbaker/anaconda3/envs/ml/lib/python3.8/site-packages/alibi_detect/od/sr.py:99: RuntimeWarning: invalid value encountered in subtract\n",
      "  res_amp = log_amp - ma_log_amp\n",
      "/Users/baconbaker/anaconda3/envs/ml/lib/python3.8/site-packages/alibi_detect/od/sr.py:207: RuntimeWarning: invalid value encountered in greater\n",
      "  outlier_pred = (iscore > self.threshold).astype(int)\n",
      "<ipython-input-82-dcc1e2084555>:27: UserWarning: Boolean Series key will be reindexed to match DataFrame index.\n",
      "  df_hk = df[df.cmdb_id == host][df.name == kpi]\n",
      "<ipython-input-82-dcc1e2084555>:27: UserWarning: Boolean Series key will be reindexed to match DataFrame index.\n",
      "  df_hk = df[df.cmdb_id == host][df.name == kpi]\n",
      "<ipython-input-82-dcc1e2084555>:27: UserWarning: Boolean Series key will be reindexed to match DataFrame index.\n",
      "  df_hk = df[df.cmdb_id == host][df.name == kpi]\n",
      "/Users/baconbaker/anaconda3/envs/ml/lib/python3.8/site-packages/alibi_detect/od/sr.py:96: RuntimeWarning: divide by zero encountered in log\n",
      "  log_amp = np.log(amp)\n",
      "/Users/baconbaker/anaconda3/envs/ml/lib/python3.8/site-packages/alibi_detect/od/sr.py:99: RuntimeWarning: invalid value encountered in subtract\n",
      "  res_amp = log_amp - ma_log_amp\n",
      "/Users/baconbaker/anaconda3/envs/ml/lib/python3.8/site-packages/alibi_detect/od/sr.py:207: RuntimeWarning: invalid value encountered in greater\n",
      "  outlier_pred = (iscore > self.threshold).astype(int)\n",
      "<ipython-input-82-dcc1e2084555>:27: UserWarning: Boolean Series key will be reindexed to match DataFrame index.\n",
      "  df_hk = df[df.cmdb_id == host][df.name == kpi]\n"
     ]
    },
    {
     "name": "stdout",
     "output_type": "stream",
     "text": [
      "Threshold  2.47028848857841 System_block_queue_length\n",
      "Threshold  1.7305023625710525 Received_packets\n",
      "Threshold  -1.0 Received_errors_packets\n"
     ]
    },
    {
     "name": "stderr",
     "output_type": "stream",
     "text": [
      "/Users/baconbaker/anaconda3/envs/ml/lib/python3.8/site-packages/alibi_detect/od/sr.py:96: RuntimeWarning: divide by zero encountered in log\n",
      "  log_amp = np.log(amp)\n",
      "/Users/baconbaker/anaconda3/envs/ml/lib/python3.8/site-packages/alibi_detect/od/sr.py:99: RuntimeWarning: invalid value encountered in subtract\n",
      "  res_amp = log_amp - ma_log_amp\n",
      "/Users/baconbaker/anaconda3/envs/ml/lib/python3.8/site-packages/alibi_detect/od/sr.py:207: RuntimeWarning: invalid value encountered in greater\n",
      "  outlier_pred = (iscore > self.threshold).astype(int)\n",
      "<ipython-input-82-dcc1e2084555>:27: UserWarning: Boolean Series key will be reindexed to match DataFrame index.\n",
      "  df_hk = df[df.cmdb_id == host][df.name == kpi]\n",
      "<ipython-input-82-dcc1e2084555>:27: UserWarning: Boolean Series key will be reindexed to match DataFrame index.\n",
      "  df_hk = df[df.cmdb_id == host][df.name == kpi]\n",
      "<ipython-input-82-dcc1e2084555>:27: UserWarning: Boolean Series key will be reindexed to match DataFrame index.\n",
      "  df_hk = df[df.cmdb_id == host][df.name == kpi]\n"
     ]
    },
    {
     "name": "stdout",
     "output_type": "stream",
     "text": [
      "Threshold  0.6608852632621965 Memory_free\n",
      "Threshold  0.6184127010143399 Sent_queue\n",
      "Threshold  0.5805705936312716 Cache_used\n",
      "Threshold  1.0548135024365133 Received_queue\n"
     ]
    },
    {
     "name": "stderr",
     "output_type": "stream",
     "text": [
      "/Users/baconbaker/anaconda3/envs/ml/lib/python3.8/site-packages/alibi_detect/od/sr.py:96: RuntimeWarning: divide by zero encountered in log\n",
      "  log_amp = np.log(amp)\n",
      "/Users/baconbaker/anaconda3/envs/ml/lib/python3.8/site-packages/alibi_detect/od/sr.py:99: RuntimeWarning: invalid value encountered in subtract\n",
      "  res_amp = log_amp - ma_log_amp\n",
      "/Users/baconbaker/anaconda3/envs/ml/lib/python3.8/site-packages/alibi_detect/od/sr.py:207: RuntimeWarning: invalid value encountered in greater\n",
      "  outlier_pred = (iscore > self.threshold).astype(int)\n",
      "<ipython-input-82-dcc1e2084555>:27: UserWarning: Boolean Series key will be reindexed to match DataFrame index.\n",
      "  df_hk = df[df.cmdb_id == host][df.name == kpi]\n",
      "<ipython-input-82-dcc1e2084555>:27: UserWarning: Boolean Series key will be reindexed to match DataFrame index.\n",
      "  df_hk = df[df.cmdb_id == host][df.name == kpi]\n",
      "/Users/baconbaker/anaconda3/envs/ml/lib/python3.8/site-packages/alibi_detect/od/sr.py:96: RuntimeWarning: divide by zero encountered in log\n",
      "  log_amp = np.log(amp)\n",
      "/Users/baconbaker/anaconda3/envs/ml/lib/python3.8/site-packages/alibi_detect/od/sr.py:99: RuntimeWarning: invalid value encountered in subtract\n",
      "  res_amp = log_amp - ma_log_amp\n",
      "/Users/baconbaker/anaconda3/envs/ml/lib/python3.8/site-packages/alibi_detect/od/sr.py:207: RuntimeWarning: invalid value encountered in greater\n",
      "  outlier_pred = (iscore > self.threshold).astype(int)\n",
      "<ipython-input-82-dcc1e2084555>:27: UserWarning: Boolean Series key will be reindexed to match DataFrame index.\n",
      "  df_hk = df[df.cmdb_id == host][df.name == kpi]\n"
     ]
    },
    {
     "name": "stdout",
     "output_type": "stream",
     "text": [
      "Threshold  nan Buffers_used\n",
      "NaN, Skipping!\n",
      "Threshold  0.5820451494693517 FS_used_space\n",
      "Threshold  1.1571175873264727 Sent_packets\n"
     ]
    },
    {
     "name": "stderr",
     "output_type": "stream",
     "text": [
      "<ipython-input-82-dcc1e2084555>:27: UserWarning: Boolean Series key will be reindexed to match DataFrame index.\n",
      "  df_hk = df[df.cmdb_id == host][df.name == kpi]\n",
      "<ipython-input-82-dcc1e2084555>:27: UserWarning: Boolean Series key will be reindexed to match DataFrame index.\n",
      "  df_hk = df[df.cmdb_id == host][df.name == kpi]\n",
      "/Users/baconbaker/anaconda3/envs/ml/lib/python3.8/site-packages/alibi_detect/od/sr.py:96: RuntimeWarning: divide by zero encountered in log\n",
      "  log_amp = np.log(amp)\n",
      "/Users/baconbaker/anaconda3/envs/ml/lib/python3.8/site-packages/alibi_detect/od/sr.py:99: RuntimeWarning: invalid value encountered in subtract\n",
      "  res_amp = log_amp - ma_log_amp\n",
      "/Users/baconbaker/anaconda3/envs/ml/lib/python3.8/site-packages/alibi_detect/od/sr.py:207: RuntimeWarning: invalid value encountered in greater\n",
      "  outlier_pred = (iscore > self.threshold).astype(int)\n",
      "<ipython-input-82-dcc1e2084555>:27: UserWarning: Boolean Series key will be reindexed to match DataFrame index.\n",
      "  df_hk = df[df.cmdb_id == host][df.name == kpi]\n",
      "<ipython-input-82-dcc1e2084555>:27: UserWarning: Boolean Series key will be reindexed to match DataFrame index.\n",
      "  df_hk = df[df.cmdb_id == host][df.name == kpi]\n"
     ]
    },
    {
     "name": "stdout",
     "output_type": "stream",
     "text": [
      "Threshold  0.5809518023549061 FS_used_pct\n",
      "Threshold  nan FS_total_space\n",
      "NaN, Skipping!\n",
      "Threshold  nan FS_max_util\n",
      "NaN, Skipping!\n",
      "Threshold  nan ICMP_ping\n"
     ]
    },
    {
     "name": "stderr",
     "output_type": "stream",
     "text": [
      "<ipython-input-82-dcc1e2084555>:27: UserWarning: Boolean Series key will be reindexed to match DataFrame index.\n",
      "  df_hk = df[df.cmdb_id == host][df.name == kpi]\n",
      "<ipython-input-82-dcc1e2084555>:27: UserWarning: Boolean Series key will be reindexed to match DataFrame index.\n",
      "  df_hk = df[df.cmdb_id == host][df.name == kpi]\n",
      "<ipython-input-82-dcc1e2084555>:27: UserWarning: Boolean Series key will be reindexed to match DataFrame index.\n",
      "  df_hk = df[df.cmdb_id == host][df.name == kpi]\n",
      "<ipython-input-82-dcc1e2084555>:27: UserWarning: Boolean Series key will be reindexed to match DataFrame index.\n",
      "  df_hk = df[df.cmdb_id == host][df.name == kpi]\n"
     ]
    },
    {
     "name": "stdout",
     "output_type": "stream",
     "text": [
      "NaN, Skipping!\n",
      "Threshold  0.5784706726984449 FS_max_avail\n",
      "Threshold  -1.0 Swap_used_pct\n",
      "Threshold  nan Memory_total\n",
      "NaN, Skipping!\n",
      "os_012  completed in  3.0455191135406494\n",
      "************************************************************\n",
      "Checking  os_009\n",
      "Threshold  -1.0 Sent_errors_packets\n"
     ]
    },
    {
     "name": "stderr",
     "output_type": "stream",
     "text": [
      "<ipython-input-82-dcc1e2084555>:27: UserWarning: Boolean Series key will be reindexed to match DataFrame index.\n",
      "  df_hk = df[df.cmdb_id == host][df.name == kpi]\n",
      "<ipython-input-82-dcc1e2084555>:27: UserWarning: Boolean Series key will be reindexed to match DataFrame index.\n",
      "  df_hk = df[df.cmdb_id == host][df.name == kpi]\n",
      "<ipython-input-82-dcc1e2084555>:27: UserWarning: Boolean Series key will be reindexed to match DataFrame index.\n",
      "  df_hk = df[df.cmdb_id == host][df.name == kpi]\n",
      "<ipython-input-82-dcc1e2084555>:27: UserWarning: Boolean Series key will be reindexed to match DataFrame index.\n",
      "  df_hk = df[df.cmdb_id == host][df.name == kpi]\n"
     ]
    },
    {
     "name": "stdout",
     "output_type": "stream",
     "text": [
      "Threshold  3.0316977927298754 Processor_load_5_min\n",
      "Threshold  -1.0 Disk_rd_ios\n",
      "Threshold  0.8236139707713858 CPU_util_pct\n",
      "Threshold  -1.0 Disk_io_util\n"
     ]
    },
    {
     "name": "stderr",
     "output_type": "stream",
     "text": [
      "<ipython-input-82-dcc1e2084555>:27: UserWarning: Boolean Series key will be reindexed to match DataFrame index.\n",
      "  df_hk = df[df.cmdb_id == host][df.name == kpi]\n",
      "<ipython-input-82-dcc1e2084555>:27: UserWarning: Boolean Series key will be reindexed to match DataFrame index.\n",
      "  df_hk = df[df.cmdb_id == host][df.name == kpi]\n",
      "<ipython-input-82-dcc1e2084555>:27: UserWarning: Boolean Series key will be reindexed to match DataFrame index.\n",
      "  df_hk = df[df.cmdb_id == host][df.name == kpi]\n",
      "<ipython-input-82-dcc1e2084555>:27: UserWarning: Boolean Series key will be reindexed to match DataFrame index.\n",
      "  df_hk = df[df.cmdb_id == host][df.name == kpi]\n"
     ]
    },
    {
     "name": "stdout",
     "output_type": "stream",
     "text": [
      "Threshold  0.5764080063558249 Num_of_processes\n",
      "Threshold  1.7168073083599025 Send_total\n",
      "[0 0 0 0 0 0 1 0 0 0 1 0 0 0 0 0 0 0 0 0 0 0 1 0 0 0 0 0 0 0]\n",
      "ST Threshold Anomaly!\n",
      "Threshold  3.2363454126877897 Outgoing_network_traffic\n",
      "Threshold  0.5796619132857741 Memory_available_pct\n"
     ]
    },
    {
     "name": "stderr",
     "output_type": "stream",
     "text": [
      "<ipython-input-82-dcc1e2084555>:27: UserWarning: Boolean Series key will be reindexed to match DataFrame index.\n",
      "  df_hk = df[df.cmdb_id == host][df.name == kpi]\n",
      "<ipython-input-82-dcc1e2084555>:27: UserWarning: Boolean Series key will be reindexed to match DataFrame index.\n",
      "  df_hk = df[df.cmdb_id == host][df.name == kpi]\n",
      "<ipython-input-82-dcc1e2084555>:27: UserWarning: Boolean Series key will be reindexed to match DataFrame index.\n",
      "  df_hk = df[df.cmdb_id == host][df.name == kpi]\n",
      "<ipython-input-82-dcc1e2084555>:27: UserWarning: Boolean Series key will be reindexed to match DataFrame index.\n",
      "  df_hk = df[df.cmdb_id == host][df.name == kpi]\n"
     ]
    },
    {
     "name": "stdout",
     "output_type": "stream",
     "text": [
      "Threshold  2.4127748044069786 Incoming_network_traffic\n",
      "Threshold  -1.0 Zombie_Process\n",
      "Threshold  0.5536461393044451 Recv_total\n",
      "Threshold  0.5651808595103462 Page_po\n"
     ]
    },
    {
     "name": "stderr",
     "output_type": "stream",
     "text": [
      "<ipython-input-82-dcc1e2084555>:27: UserWarning: Boolean Series key will be reindexed to match DataFrame index.\n",
      "  df_hk = df[df.cmdb_id == host][df.name == kpi]\n",
      "<ipython-input-82-dcc1e2084555>:27: UserWarning: Boolean Series key will be reindexed to match DataFrame index.\n",
      "  df_hk = df[df.cmdb_id == host][df.name == kpi]\n",
      "<ipython-input-82-dcc1e2084555>:27: UserWarning: Boolean Series key will be reindexed to match DataFrame index.\n",
      "  df_hk = df[df.cmdb_id == host][df.name == kpi]\n",
      "<ipython-input-82-dcc1e2084555>:27: UserWarning: Boolean Series key will be reindexed to match DataFrame index.\n",
      "  df_hk = df[df.cmdb_id == host][df.name == kpi]\n"
     ]
    },
    {
     "name": "stdout",
     "output_type": "stream",
     "text": [
      "Threshold  0.5812192370227441 CPU_idle_pct\n",
      "Threshold  4.323650932299871 Processor_load_1_min\n",
      "Threshold  nan Agent_ping\n",
      "NaN, Skipping!\n",
      "Threshold  0.6881391171521023 Num_of_running_processes\n"
     ]
    },
    {
     "name": "stderr",
     "output_type": "stream",
     "text": [
      "<ipython-input-82-dcc1e2084555>:27: UserWarning: Boolean Series key will be reindexed to match DataFrame index.\n",
      "  df_hk = df[df.cmdb_id == host][df.name == kpi]\n",
      "<ipython-input-82-dcc1e2084555>:27: UserWarning: Boolean Series key will be reindexed to match DataFrame index.\n",
      "  df_hk = df[df.cmdb_id == host][df.name == kpi]\n",
      "/Users/baconbaker/anaconda3/envs/ml/lib/python3.8/site-packages/alibi_detect/od/sr.py:96: RuntimeWarning: divide by zero encountered in log\n",
      "  log_amp = np.log(amp)\n",
      "/Users/baconbaker/anaconda3/envs/ml/lib/python3.8/site-packages/alibi_detect/od/sr.py:99: RuntimeWarning: invalid value encountered in subtract\n",
      "  res_amp = log_amp - ma_log_amp\n",
      "/Users/baconbaker/anaconda3/envs/ml/lib/python3.8/site-packages/alibi_detect/od/sr.py:207: RuntimeWarning: invalid value encountered in greater\n",
      "  outlier_pred = (iscore > self.threshold).astype(int)\n",
      "<ipython-input-82-dcc1e2084555>:27: UserWarning: Boolean Series key will be reindexed to match DataFrame index.\n",
      "  df_hk = df[df.cmdb_id == host][df.name == kpi]\n",
      "<ipython-input-82-dcc1e2084555>:27: UserWarning: Boolean Series key will be reindexed to match DataFrame index.\n",
      "  df_hk = df[df.cmdb_id == host][df.name == kpi]\n",
      "<ipython-input-82-dcc1e2084555>:27: UserWarning: Boolean Series key will be reindexed to match DataFrame index.\n",
      "  df_hk = df[df.cmdb_id == host][df.name == kpi]\n"
     ]
    },
    {
     "name": "stdout",
     "output_type": "stream",
     "text": [
      "Threshold  0.5930629698102585 ss_total\n",
      "Threshold  2.984292133008061 Processor_load_15_min\n",
      "Threshold  0.4591726752266984 Page_pi\n",
      "Threshold  6.5988107359275 Disk_avgqu_sz\n"
     ]
    },
    {
     "name": "stderr",
     "output_type": "stream",
     "text": [
      "/Users/baconbaker/anaconda3/envs/ml/lib/python3.8/site-packages/alibi_detect/od/sr.py:96: RuntimeWarning: divide by zero encountered in log\n",
      "  log_amp = np.log(amp)\n",
      "/Users/baconbaker/anaconda3/envs/ml/lib/python3.8/site-packages/alibi_detect/od/sr.py:99: RuntimeWarning: invalid value encountered in subtract\n",
      "  res_amp = log_amp - ma_log_amp\n",
      "/Users/baconbaker/anaconda3/envs/ml/lib/python3.8/site-packages/alibi_detect/od/sr.py:207: RuntimeWarning: invalid value encountered in greater\n",
      "  outlier_pred = (iscore > self.threshold).astype(int)\n",
      "<ipython-input-82-dcc1e2084555>:27: UserWarning: Boolean Series key will be reindexed to match DataFrame index.\n",
      "  df_hk = df[df.cmdb_id == host][df.name == kpi]\n",
      "<ipython-input-82-dcc1e2084555>:27: UserWarning: Boolean Series key will be reindexed to match DataFrame index.\n",
      "  df_hk = df[df.cmdb_id == host][df.name == kpi]\n",
      "<ipython-input-82-dcc1e2084555>:27: UserWarning: Boolean Series key will be reindexed to match DataFrame index.\n",
      "  df_hk = df[df.cmdb_id == host][df.name == kpi]\n",
      "/Users/baconbaker/anaconda3/envs/ml/lib/python3.8/site-packages/alibi_detect/od/sr.py:96: RuntimeWarning: divide by zero encountered in log\n",
      "  log_amp = np.log(amp)\n",
      "/Users/baconbaker/anaconda3/envs/ml/lib/python3.8/site-packages/alibi_detect/od/sr.py:99: RuntimeWarning: invalid value encountered in subtract\n",
      "  res_amp = log_amp - ma_log_amp\n",
      "/Users/baconbaker/anaconda3/envs/ml/lib/python3.8/site-packages/alibi_detect/od/sr.py:207: RuntimeWarning: invalid value encountered in greater\n",
      "  outlier_pred = (iscore > self.threshold).astype(int)\n",
      "<ipython-input-82-dcc1e2084555>:27: UserWarning: Boolean Series key will be reindexed to match DataFrame index.\n",
      "  df_hk = df[df.cmdb_id == host][df.name == kpi]\n"
     ]
    },
    {
     "name": "stdout",
     "output_type": "stream",
     "text": [
      "Threshold  2.250993529969359 Disk_wr_kbs\n",
      "Threshold  7.039054983733777 Disk_await\n",
      "Threshold  0.5789451859124493 Shared_memory\n",
      "Threshold  0.7434643933278908 CPU_user_time\n"
     ]
    },
    {
     "name": "stderr",
     "output_type": "stream",
     "text": [
      "<ipython-input-82-dcc1e2084555>:27: UserWarning: Boolean Series key will be reindexed to match DataFrame index.\n",
      "  df_hk = df[df.cmdb_id == host][df.name == kpi]\n",
      "<ipython-input-82-dcc1e2084555>:27: UserWarning: Boolean Series key will be reindexed to match DataFrame index.\n",
      "  df_hk = df[df.cmdb_id == host][df.name == kpi]\n",
      "/Users/baconbaker/anaconda3/envs/ml/lib/python3.8/site-packages/alibi_detect/od/sr.py:96: RuntimeWarning: divide by zero encountered in log\n",
      "  log_amp = np.log(amp)\n",
      "/Users/baconbaker/anaconda3/envs/ml/lib/python3.8/site-packages/alibi_detect/od/sr.py:99: RuntimeWarning: invalid value encountered in subtract\n",
      "  res_amp = log_amp - ma_log_amp\n",
      "/Users/baconbaker/anaconda3/envs/ml/lib/python3.8/site-packages/alibi_detect/od/sr.py:207: RuntimeWarning: invalid value encountered in greater\n",
      "  outlier_pred = (iscore > self.threshold).astype(int)\n",
      "<ipython-input-82-dcc1e2084555>:27: UserWarning: Boolean Series key will be reindexed to match DataFrame index.\n",
      "  df_hk = df[df.cmdb_id == host][df.name == kpi]\n",
      "<ipython-input-82-dcc1e2084555>:27: UserWarning: Boolean Series key will be reindexed to match DataFrame index.\n",
      "  df_hk = df[df.cmdb_id == host][df.name == kpi]\n",
      "<ipython-input-82-dcc1e2084555>:27: UserWarning: Boolean Series key will be reindexed to match DataFrame index.\n",
      "  df_hk = df[df.cmdb_id == host][df.name == kpi]\n"
     ]
    },
    {
     "name": "stdout",
     "output_type": "stream",
     "text": [
      "Threshold  0.2888529762801626 Disk_svctm\n",
      "Threshold  0.6375031812047927 Disk_wr_ios\n",
      "[1 1 1 0 0 0 1 1 0 0 0 0 0 0 0 0 0 0 0 0 0 0 0 0 1 1 0 1 1 1]\n",
      "ST Threshold Anomaly!\n",
      "Threshold  0.5832763153817384 Memory_used_pct\n",
      "Threshold  1.5017644338127023 CPU_iowait_time\n",
      "Threshold  1.0695165362896748 System_wait_queue_length\n"
     ]
    },
    {
     "name": "stderr",
     "output_type": "stream",
     "text": [
      "<ipython-input-82-dcc1e2084555>:27: UserWarning: Boolean Series key will be reindexed to match DataFrame index.\n",
      "  df_hk = df[df.cmdb_id == host][df.name == kpi]\n",
      "<ipython-input-82-dcc1e2084555>:27: UserWarning: Boolean Series key will be reindexed to match DataFrame index.\n",
      "  df_hk = df[df.cmdb_id == host][df.name == kpi]\n",
      "<ipython-input-82-dcc1e2084555>:27: UserWarning: Boolean Series key will be reindexed to match DataFrame index.\n",
      "  df_hk = df[df.cmdb_id == host][df.name == kpi]\n",
      "/Users/baconbaker/anaconda3/envs/ml/lib/python3.8/site-packages/alibi_detect/od/sr.py:96: RuntimeWarning: divide by zero encountered in log\n",
      "  log_amp = np.log(amp)\n",
      "/Users/baconbaker/anaconda3/envs/ml/lib/python3.8/site-packages/alibi_detect/od/sr.py:99: RuntimeWarning: invalid value encountered in subtract\n",
      "  res_amp = log_amp - ma_log_amp\n",
      "/Users/baconbaker/anaconda3/envs/ml/lib/python3.8/site-packages/alibi_detect/od/sr.py:207: RuntimeWarning: invalid value encountered in greater\n",
      "  outlier_pred = (iscore > self.threshold).astype(int)\n",
      "<ipython-input-82-dcc1e2084555>:27: UserWarning: Boolean Series key will be reindexed to match DataFrame index.\n",
      "  df_hk = df[df.cmdb_id == host][df.name == kpi]\n"
     ]
    },
    {
     "name": "stdout",
     "output_type": "stream",
     "text": [
      "Threshold  1.4847891439867649 CPU_system_time\n",
      "Threshold  1.057259800969865 Disk_rd_kbs\n",
      "Threshold  0.5923284070328036 Memory_available\n",
      "Threshold  0.5884827726520846 Memory_used\n"
     ]
    },
    {
     "name": "stderr",
     "output_type": "stream",
     "text": [
      "<ipython-input-82-dcc1e2084555>:27: UserWarning: Boolean Series key will be reindexed to match DataFrame index.\n",
      "  df_hk = df[df.cmdb_id == host][df.name == kpi]\n",
      "<ipython-input-82-dcc1e2084555>:27: UserWarning: Boolean Series key will be reindexed to match DataFrame index.\n",
      "  df_hk = df[df.cmdb_id == host][df.name == kpi]\n",
      "<ipython-input-82-dcc1e2084555>:27: UserWarning: Boolean Series key will be reindexed to match DataFrame index.\n",
      "  df_hk = df[df.cmdb_id == host][df.name == kpi]\n",
      "<ipython-input-82-dcc1e2084555>:27: UserWarning: Boolean Series key will be reindexed to match DataFrame index.\n",
      "  df_hk = df[df.cmdb_id == host][df.name == kpi]\n"
     ]
    },
    {
     "name": "stdout",
     "output_type": "stream",
     "text": [
      "Threshold  -1.0 System_block_queue_length\n",
      "Threshold  0.5474363885415695 Received_packets\n",
      "Threshold  -1.0 Received_errors_packets\n",
      "Threshold  0.5789888655006279 Memory_free\n"
     ]
    },
    {
     "name": "stderr",
     "output_type": "stream",
     "text": [
      "<ipython-input-82-dcc1e2084555>:27: UserWarning: Boolean Series key will be reindexed to match DataFrame index.\n",
      "  df_hk = df[df.cmdb_id == host][df.name == kpi]\n",
      "<ipython-input-82-dcc1e2084555>:27: UserWarning: Boolean Series key will be reindexed to match DataFrame index.\n",
      "  df_hk = df[df.cmdb_id == host][df.name == kpi]\n",
      "<ipython-input-82-dcc1e2084555>:27: UserWarning: Boolean Series key will be reindexed to match DataFrame index.\n",
      "  df_hk = df[df.cmdb_id == host][df.name == kpi]\n",
      "<ipython-input-82-dcc1e2084555>:27: UserWarning: Boolean Series key will be reindexed to match DataFrame index.\n",
      "  df_hk = df[df.cmdb_id == host][df.name == kpi]\n",
      "/Users/baconbaker/anaconda3/envs/ml/lib/python3.8/site-packages/alibi_detect/od/sr.py:96: RuntimeWarning: divide by zero encountered in log\n",
      "  log_amp = np.log(amp)\n",
      "/Users/baconbaker/anaconda3/envs/ml/lib/python3.8/site-packages/alibi_detect/od/sr.py:99: RuntimeWarning: invalid value encountered in subtract\n",
      "  res_amp = log_amp - ma_log_amp\n",
      "/Users/baconbaker/anaconda3/envs/ml/lib/python3.8/site-packages/alibi_detect/od/sr.py:207: RuntimeWarning: invalid value encountered in greater\n",
      "  outlier_pred = (iscore > self.threshold).astype(int)\n",
      "<ipython-input-82-dcc1e2084555>:27: UserWarning: Boolean Series key will be reindexed to match DataFrame index.\n",
      "  df_hk = df[df.cmdb_id == host][df.name == kpi]\n"
     ]
    },
    {
     "name": "stdout",
     "output_type": "stream",
     "text": [
      "Threshold  0.8300603426203622 Sent_queue\n",
      "Threshold  0.5702702287735325 Cache_used\n",
      "Threshold  1.1783849243305848 Received_queue\n",
      "Threshold  0.5770244874375251 Buffers_used\n",
      "Threshold  0.5452385302497302 FS_used_space\n",
      "Threshold  0.5467265239957957 Sent_packets\n",
      "Threshold  0.6359478839851538 FS_used_pct\n",
      "Threshold  nan FS_total_space\n"
     ]
    },
    {
     "name": "stderr",
     "output_type": "stream",
     "text": [
      "<ipython-input-82-dcc1e2084555>:27: UserWarning: Boolean Series key will be reindexed to match DataFrame index.\n",
      "  df_hk = df[df.cmdb_id == host][df.name == kpi]\n",
      "<ipython-input-82-dcc1e2084555>:27: UserWarning: Boolean Series key will be reindexed to match DataFrame index.\n",
      "  df_hk = df[df.cmdb_id == host][df.name == kpi]\n",
      "<ipython-input-82-dcc1e2084555>:27: UserWarning: Boolean Series key will be reindexed to match DataFrame index.\n",
      "  df_hk = df[df.cmdb_id == host][df.name == kpi]\n",
      "<ipython-input-82-dcc1e2084555>:27: UserWarning: Boolean Series key will be reindexed to match DataFrame index.\n",
      "  df_hk = df[df.cmdb_id == host][df.name == kpi]\n"
     ]
    },
    {
     "name": "stdout",
     "output_type": "stream",
     "text": [
      "NaN, Skipping!\n",
      "Threshold  nan FS_max_util\n",
      "NaN, Skipping!\n",
      "Threshold  nan ICMP_ping\n",
      "NaN, Skipping!\n",
      "Threshold  0.5783802997832059 FS_max_avail\n",
      "Threshold  -1.0 Swap_used_pct\n",
      "Threshold "
     ]
    },
    {
     "name": "stderr",
     "output_type": "stream",
     "text": [
      "<ipython-input-82-dcc1e2084555>:27: UserWarning: Boolean Series key will be reindexed to match DataFrame index.\n",
      "  df_hk = df[df.cmdb_id == host][df.name == kpi]\n",
      "<ipython-input-82-dcc1e2084555>:27: UserWarning: Boolean Series key will be reindexed to match DataFrame index.\n",
      "  df_hk = df[df.cmdb_id == host][df.name == kpi]\n",
      "<ipython-input-82-dcc1e2084555>:27: UserWarning: Boolean Series key will be reindexed to match DataFrame index.\n",
      "  df_hk = df[df.cmdb_id == host][df.name == kpi]\n",
      "<ipython-input-82-dcc1e2084555>:27: UserWarning: Boolean Series key will be reindexed to match DataFrame index.\n",
      "  df_hk = df[df.cmdb_id == host][df.name == kpi]\n"
     ]
    },
    {
     "name": "stdout",
     "output_type": "stream",
     "text": [
      " nan Memory_total\n",
      "No valid data to use, skipping\n",
      "os_009  completed in  2.9634671211242676\n",
      "************************************************************\n",
      "Checking  os_015\n",
      "Threshold  -1.0 Sent_errors_packets\n",
      "Threshold  5.988509303960409 Processor_load_5_min\n",
      "Threshold  -1.0 Disk_rd_ios\n",
      "Threshold  1.0359779849723871 CPU_util_pct\n"
     ]
    },
    {
     "name": "stderr",
     "output_type": "stream",
     "text": [
      "<ipython-input-82-dcc1e2084555>:27: UserWarning: Boolean Series key will be reindexed to match DataFrame index.\n",
      "  df_hk = df[df.cmdb_id == host][df.name == kpi]\n",
      "<ipython-input-82-dcc1e2084555>:27: UserWarning: Boolean Series key will be reindexed to match DataFrame index.\n",
      "  df_hk = df[df.cmdb_id == host][df.name == kpi]\n",
      "<ipython-input-82-dcc1e2084555>:27: UserWarning: Boolean Series key will be reindexed to match DataFrame index.\n",
      "  df_hk = df[df.cmdb_id == host][df.name == kpi]\n",
      "<ipython-input-82-dcc1e2084555>:27: UserWarning: Boolean Series key will be reindexed to match DataFrame index.\n",
      "  df_hk = df[df.cmdb_id == host][df.name == kpi]\n"
     ]
    },
    {
     "name": "stdout",
     "output_type": "stream",
     "text": [
      "Threshold  1.6169527107652009 Disk_io_util\n",
      "Threshold  0.581875440627255 Num_of_processes\n",
      "Threshold  1.1095053195272917 Send_total\n",
      "Threshold  -1.0 Outgoing_network_traffic\n"
     ]
    },
    {
     "name": "stderr",
     "output_type": "stream",
     "text": [
      "<ipython-input-82-dcc1e2084555>:27: UserWarning: Boolean Series key will be reindexed to match DataFrame index.\n",
      "  df_hk = df[df.cmdb_id == host][df.name == kpi]\n",
      "<ipython-input-82-dcc1e2084555>:27: UserWarning: Boolean Series key will be reindexed to match DataFrame index.\n",
      "  df_hk = df[df.cmdb_id == host][df.name == kpi]\n",
      "/Users/baconbaker/anaconda3/envs/ml/lib/python3.8/site-packages/alibi_detect/od/sr.py:96: RuntimeWarning: divide by zero encountered in log\n",
      "  log_amp = np.log(amp)\n",
      "/Users/baconbaker/anaconda3/envs/ml/lib/python3.8/site-packages/alibi_detect/od/sr.py:99: RuntimeWarning: invalid value encountered in subtract\n",
      "  res_amp = log_amp - ma_log_amp\n",
      "/Users/baconbaker/anaconda3/envs/ml/lib/python3.8/site-packages/alibi_detect/od/sr.py:207: RuntimeWarning: invalid value encountered in greater\n",
      "  outlier_pred = (iscore > self.threshold).astype(int)\n",
      "<ipython-input-82-dcc1e2084555>:27: UserWarning: Boolean Series key will be reindexed to match DataFrame index.\n",
      "  df_hk = df[df.cmdb_id == host][df.name == kpi]\n",
      "<ipython-input-82-dcc1e2084555>:27: UserWarning: Boolean Series key will be reindexed to match DataFrame index.\n",
      "  df_hk = df[df.cmdb_id == host][df.name == kpi]\n"
     ]
    },
    {
     "name": "stdout",
     "output_type": "stream",
     "text": [
      "Threshold  0.5792410711839601 Memory_available_pct\n",
      "Threshold  1.4747143137588947 Incoming_network_traffic\n",
      "Threshold  -1.0 Zombie_Process\n",
      "Threshold  0.5803050946040841 Recv_total\n",
      "Threshold  0.5652250876645186 Page_po\n"
     ]
    },
    {
     "name": "stderr",
     "output_type": "stream",
     "text": [
      "<ipython-input-82-dcc1e2084555>:27: UserWarning: Boolean Series key will be reindexed to match DataFrame index.\n",
      "  df_hk = df[df.cmdb_id == host][df.name == kpi]\n",
      "<ipython-input-82-dcc1e2084555>:27: UserWarning: Boolean Series key will be reindexed to match DataFrame index.\n",
      "  df_hk = df[df.cmdb_id == host][df.name == kpi]\n",
      "/Users/baconbaker/anaconda3/envs/ml/lib/python3.8/site-packages/alibi_detect/od/sr.py:96: RuntimeWarning: divide by zero encountered in log\n",
      "  log_amp = np.log(amp)\n",
      "/Users/baconbaker/anaconda3/envs/ml/lib/python3.8/site-packages/alibi_detect/od/sr.py:99: RuntimeWarning: invalid value encountered in subtract\n",
      "  res_amp = log_amp - ma_log_amp\n",
      "/Users/baconbaker/anaconda3/envs/ml/lib/python3.8/site-packages/alibi_detect/od/sr.py:207: RuntimeWarning: invalid value encountered in greater\n",
      "  outlier_pred = (iscore > self.threshold).astype(int)\n",
      "<ipython-input-82-dcc1e2084555>:27: UserWarning: Boolean Series key will be reindexed to match DataFrame index.\n",
      "  df_hk = df[df.cmdb_id == host][df.name == kpi]\n",
      "<ipython-input-82-dcc1e2084555>:27: UserWarning: Boolean Series key will be reindexed to match DataFrame index.\n",
      "  df_hk = df[df.cmdb_id == host][df.name == kpi]\n",
      "<ipython-input-82-dcc1e2084555>:27: UserWarning: Boolean Series key will be reindexed to match DataFrame index.\n",
      "  df_hk = df[df.cmdb_id == host][df.name == kpi]\n"
     ]
    },
    {
     "name": "stdout",
     "output_type": "stream",
     "text": [
      "Threshold  0.5796158324146681 CPU_idle_pct\n",
      "Threshold  11.298276071965976 Processor_load_1_min\n",
      "Threshold  nan Agent_ping\n",
      "NaN, Skipping!\n",
      "Threshold  0.7425943442970602 Num_of_running_processes\n"
     ]
    },
    {
     "name": "stderr",
     "output_type": "stream",
     "text": [
      "<ipython-input-82-dcc1e2084555>:27: UserWarning: Boolean Series key will be reindexed to match DataFrame index.\n",
      "  df_hk = df[df.cmdb_id == host][df.name == kpi]\n",
      "<ipython-input-82-dcc1e2084555>:27: UserWarning: Boolean Series key will be reindexed to match DataFrame index.\n",
      "  df_hk = df[df.cmdb_id == host][df.name == kpi]\n",
      "<ipython-input-82-dcc1e2084555>:27: UserWarning: Boolean Series key will be reindexed to match DataFrame index.\n",
      "  df_hk = df[df.cmdb_id == host][df.name == kpi]\n",
      "<ipython-input-82-dcc1e2084555>:27: UserWarning: Boolean Series key will be reindexed to match DataFrame index.\n",
      "  df_hk = df[df.cmdb_id == host][df.name == kpi]\n",
      "/Users/baconbaker/anaconda3/envs/ml/lib/python3.8/site-packages/alibi_detect/od/sr.py:96: RuntimeWarning: divide by zero encountered in log\n",
      "  log_amp = np.log(amp)\n",
      "/Users/baconbaker/anaconda3/envs/ml/lib/python3.8/site-packages/alibi_detect/od/sr.py:99: RuntimeWarning: invalid value encountered in subtract\n",
      "  res_amp = log_amp - ma_log_amp\n",
      "/Users/baconbaker/anaconda3/envs/ml/lib/python3.8/site-packages/alibi_detect/od/sr.py:207: RuntimeWarning: invalid value encountered in greater\n",
      "  outlier_pred = (iscore > self.threshold).astype(int)\n",
      "<ipython-input-82-dcc1e2084555>:27: UserWarning: Boolean Series key will be reindexed to match DataFrame index.\n",
      "  df_hk = df[df.cmdb_id == host][df.name == kpi]\n",
      "<ipython-input-82-dcc1e2084555>:27: UserWarning: Boolean Series key will be reindexed to match DataFrame index.\n",
      "  df_hk = df[df.cmdb_id == host][df.name == kpi]\n",
      "<ipython-input-82-dcc1e2084555>:27: UserWarning: Boolean Series key will be reindexed to match DataFrame index.\n",
      "  df_hk = df[df.cmdb_id == host][df.name == kpi]\n",
      "<ipython-input-82-dcc1e2084555>:27: UserWarning: Boolean Series key will be reindexed to match DataFrame index.\n",
      "  df_hk = df[df.cmdb_id == host][df.name == kpi]\n"
     ]
    },
    {
     "name": "stdout",
     "output_type": "stream",
     "text": [
      "Threshold  0.5950900044298036 ss_total\n",
      "Threshold  5.470160874909563 Processor_load_15_min\n",
      "Threshold  -1.0 Page_pi\n",
      "Threshold  2.0210820346010467 Disk_avgqu_sz\n",
      "[1 0 0 0 0 0 0 0 0 0 0 0 0 0 0 0 0 0 0 0 0 0 1 0 0 0 0 0 0 0]\n",
      "ST Threshold Anomaly!\n",
      "Threshold  1.0834429885742474 Disk_wr_kbs\n",
      "Threshold  1.7742350251209271 Disk_await\n",
      "Threshold  nan Shared_memory\n",
      "NaN, Skipping!\n",
      "Threshold  2.9475442436945967 CPU_user_time\n"
     ]
    },
    {
     "name": "stderr",
     "output_type": "stream",
     "text": [
      "<ipython-input-82-dcc1e2084555>:27: UserWarning: Boolean Series key will be reindexed to match DataFrame index.\n",
      "  df_hk = df[df.cmdb_id == host][df.name == kpi]\n",
      "<ipython-input-82-dcc1e2084555>:27: UserWarning: Boolean Series key will be reindexed to match DataFrame index.\n",
      "  df_hk = df[df.cmdb_id == host][df.name == kpi]\n",
      "<ipython-input-82-dcc1e2084555>:27: UserWarning: Boolean Series key will be reindexed to match DataFrame index.\n",
      "  df_hk = df[df.cmdb_id == host][df.name == kpi]\n",
      "<ipython-input-82-dcc1e2084555>:27: UserWarning: Boolean Series key will be reindexed to match DataFrame index.\n",
      "  df_hk = df[df.cmdb_id == host][df.name == kpi]\n"
     ]
    },
    {
     "name": "stdout",
     "output_type": "stream",
     "text": [
      "Threshold  1.6106805940299866 Disk_svctm\n",
      "[1 1 1 1 0 1 1 1 0 0 0 0 0 0 0 0 0 0 0 0 0 0 0 1 1 1 1 1 1 1]\n",
      "ST Threshold Anomaly!\n",
      "Threshold  0.5908826239289359 Disk_wr_ios\n",
      "Threshold  0.5794505609401297 Memory_used_pct\n",
      "Threshold  1.1909955205882676 CPU_iowait_time\n"
     ]
    },
    {
     "name": "stderr",
     "output_type": "stream",
     "text": [
      "<ipython-input-82-dcc1e2084555>:27: UserWarning: Boolean Series key will be reindexed to match DataFrame index.\n",
      "  df_hk = df[df.cmdb_id == host][df.name == kpi]\n",
      "<ipython-input-82-dcc1e2084555>:27: UserWarning: Boolean Series key will be reindexed to match DataFrame index.\n",
      "  df_hk = df[df.cmdb_id == host][df.name == kpi]\n",
      "<ipython-input-82-dcc1e2084555>:27: UserWarning: Boolean Series key will be reindexed to match DataFrame index.\n",
      "  df_hk = df[df.cmdb_id == host][df.name == kpi]\n",
      "<ipython-input-82-dcc1e2084555>:27: UserWarning: Boolean Series key will be reindexed to match DataFrame index.\n",
      "  df_hk = df[df.cmdb_id == host][df.name == kpi]\n"
     ]
    },
    {
     "name": "stdout",
     "output_type": "stream",
     "text": [
      "[0 0 0 0 1 0 0 0 0 0 0 0 0 0 0 0 0 0 0 0 0 0 1 0 0 0 0 0 0 0]\n",
      "ST Threshold Anomaly!\n",
      "Threshold  2.4330426144208914 System_wait_queue_length\n",
      "[0 0 0 0 0 0 0 0 0 0 0 0 0 0 0 0 0 0 0 1 0 0 0 1 0 0 0 0 0 0]\n",
      "ST Threshold Anomaly!\n",
      "Threshold  1.2091461305924414 CPU_system_time\n",
      "Threshold  -1.0 Disk_rd_kbs\n",
      "Threshold  0.5810525963039413 Memory_available\n"
     ]
    },
    {
     "name": "stderr",
     "output_type": "stream",
     "text": [
      "<ipython-input-82-dcc1e2084555>:27: UserWarning: Boolean Series key will be reindexed to match DataFrame index.\n",
      "  df_hk = df[df.cmdb_id == host][df.name == kpi]\n",
      "<ipython-input-82-dcc1e2084555>:27: UserWarning: Boolean Series key will be reindexed to match DataFrame index.\n",
      "  df_hk = df[df.cmdb_id == host][df.name == kpi]\n",
      "<ipython-input-82-dcc1e2084555>:27: UserWarning: Boolean Series key will be reindexed to match DataFrame index.\n",
      "  df_hk = df[df.cmdb_id == host][df.name == kpi]\n",
      "<ipython-input-82-dcc1e2084555>:27: UserWarning: Boolean Series key will be reindexed to match DataFrame index.\n",
      "  df_hk = df[df.cmdb_id == host][df.name == kpi]\n"
     ]
    },
    {
     "name": "stdout",
     "output_type": "stream",
     "text": [
      "Threshold  0.5808882998708693 Memory_used\n",
      "Threshold  -1.0 System_block_queue_length\n",
      "Threshold  -1.0 Received_packets\n",
      "Threshold  -1.0 Received_errors_packets\n"
     ]
    },
    {
     "name": "stderr",
     "output_type": "stream",
     "text": [
      "<ipython-input-82-dcc1e2084555>:27: UserWarning: Boolean Series key will be reindexed to match DataFrame index.\n",
      "  df_hk = df[df.cmdb_id == host][df.name == kpi]\n",
      "<ipython-input-82-dcc1e2084555>:27: UserWarning: Boolean Series key will be reindexed to match DataFrame index.\n",
      "  df_hk = df[df.cmdb_id == host][df.name == kpi]\n",
      "<ipython-input-82-dcc1e2084555>:27: UserWarning: Boolean Series key will be reindexed to match DataFrame index.\n",
      "  df_hk = df[df.cmdb_id == host][df.name == kpi]\n",
      "<ipython-input-82-dcc1e2084555>:27: UserWarning: Boolean Series key will be reindexed to match DataFrame index.\n",
      "  df_hk = df[df.cmdb_id == host][df.name == kpi]\n"
     ]
    },
    {
     "name": "stdout",
     "output_type": "stream",
     "text": [
      "Threshold  0.5781579744724705 Memory_free\n",
      "Threshold  0.7079792993730689 Sent_queue\n",
      "Threshold  0.6011135772041064 Cache_used\n",
      "Threshold  -1.0 Received_queue\n"
     ]
    },
    {
     "name": "stderr",
     "output_type": "stream",
     "text": [
      "<ipython-input-82-dcc1e2084555>:27: UserWarning: Boolean Series key will be reindexed to match DataFrame index.\n",
      "  df_hk = df[df.cmdb_id == host][df.name == kpi]\n",
      "<ipython-input-82-dcc1e2084555>:27: UserWarning: Boolean Series key will be reindexed to match DataFrame index.\n",
      "  df_hk = df[df.cmdb_id == host][df.name == kpi]\n",
      "/Users/baconbaker/anaconda3/envs/ml/lib/python3.8/site-packages/alibi_detect/od/sr.py:96: RuntimeWarning: divide by zero encountered in log\n",
      "  log_amp = np.log(amp)\n",
      "/Users/baconbaker/anaconda3/envs/ml/lib/python3.8/site-packages/alibi_detect/od/sr.py:99: RuntimeWarning: invalid value encountered in subtract\n",
      "  res_amp = log_amp - ma_log_amp\n",
      "/Users/baconbaker/anaconda3/envs/ml/lib/python3.8/site-packages/alibi_detect/od/sr.py:207: RuntimeWarning: invalid value encountered in greater\n",
      "  outlier_pred = (iscore > self.threshold).astype(int)\n",
      "<ipython-input-82-dcc1e2084555>:27: UserWarning: Boolean Series key will be reindexed to match DataFrame index.\n",
      "  df_hk = df[df.cmdb_id == host][df.name == kpi]\n",
      "<ipython-input-82-dcc1e2084555>:27: UserWarning: Boolean Series key will be reindexed to match DataFrame index.\n",
      "  df_hk = df[df.cmdb_id == host][df.name == kpi]\n",
      "<ipython-input-82-dcc1e2084555>:27: UserWarning: Boolean Series key will be reindexed to match DataFrame index.\n",
      "  df_hk = df[df.cmdb_id == host][df.name == kpi]\n",
      "<ipython-input-82-dcc1e2084555>:27: UserWarning: Boolean Series key will be reindexed to match DataFrame index.\n",
      "  df_hk = df[df.cmdb_id == host][df.name == kpi]\n",
      "<ipython-input-82-dcc1e2084555>:27: UserWarning: Boolean Series key will be reindexed to match DataFrame index.\n",
      "  df_hk = df[df.cmdb_id == host][df.name == kpi]\n"
     ]
    },
    {
     "name": "stdout",
     "output_type": "stream",
     "text": [
      "Threshold  nan Buffers_used\n",
      "NaN, Skipping!\n",
      "Threshold  0.5775635376635639 FS_used_space\n",
      "Threshold  -1.0 Sent_packets\n",
      "Threshold  0.578152106827449 FS_used_pct\n"
     ]
    },
    {
     "name": "stderr",
     "output_type": "stream",
     "text": [
      "<ipython-input-82-dcc1e2084555>:27: UserWarning: Boolean Series key will be reindexed to match DataFrame index.\n",
      "  df_hk = df[df.cmdb_id == host][df.name == kpi]\n",
      "<ipython-input-82-dcc1e2084555>:27: UserWarning: Boolean Series key will be reindexed to match DataFrame index.\n",
      "  df_hk = df[df.cmdb_id == host][df.name == kpi]\n",
      "<ipython-input-82-dcc1e2084555>:27: UserWarning: Boolean Series key will be reindexed to match DataFrame index.\n",
      "  df_hk = df[df.cmdb_id == host][df.name == kpi]\n",
      "<ipython-input-82-dcc1e2084555>:27: UserWarning: Boolean Series key will be reindexed to match DataFrame index.\n",
      "  df_hk = df[df.cmdb_id == host][df.name == kpi]\n"
     ]
    },
    {
     "name": "stdout",
     "output_type": "stream",
     "text": [
      "Threshold  nan FS_total_space\n",
      "NaN, Skipping!\n",
      "Threshold  nan FS_max_util\n",
      "NaN, Skipping!\n",
      "Threshold  nan ICMP_ping\n",
      "NaN, Skipping!\n",
      "Threshold  0.5792004363642596 FS_max_avail\n"
     ]
    },
    {
     "name": "stderr",
     "output_type": "stream",
     "text": [
      "<ipython-input-82-dcc1e2084555>:27: UserWarning: Boolean Series key will be reindexed to match DataFrame index.\n",
      "  df_hk = df[df.cmdb_id == host][df.name == kpi]\n",
      "<ipython-input-82-dcc1e2084555>:27: UserWarning: Boolean Series key will be reindexed to match DataFrame index.\n",
      "  df_hk = df[df.cmdb_id == host][df.name == kpi]\n",
      "<ipython-input-82-dcc1e2084555>:27: UserWarning: Boolean Series key will be reindexed to match DataFrame index.\n",
      "  df_hk = df[df.cmdb_id == host][df.name == kpi]\n",
      "<ipython-input-82-dcc1e2084555>:27: UserWarning: Boolean Series key will be reindexed to match DataFrame index.\n",
      "  df_hk = df[df.cmdb_id == host][df.name == kpi]\n"
     ]
    },
    {
     "name": "stdout",
     "output_type": "stream",
     "text": [
      "Threshold  -1.0 Swap_used_pct\n",
      "Threshold  nan Memory_total\n",
      "NaN, Skipping!\n",
      "os_015  completed in  2.997746229171753\n",
      "************************************************************\n",
      "Checking  os_004\n",
      "Threshold  -1.0 Sent_errors_packets\n",
      "Threshold  2.8121490777679803 Processor_load_5_min\n"
     ]
    },
    {
     "name": "stderr",
     "output_type": "stream",
     "text": [
      "<ipython-input-82-dcc1e2084555>:27: UserWarning: Boolean Series key will be reindexed to match DataFrame index.\n",
      "  df_hk = df[df.cmdb_id == host][df.name == kpi]\n",
      "<ipython-input-82-dcc1e2084555>:27: UserWarning: Boolean Series key will be reindexed to match DataFrame index.\n",
      "  df_hk = df[df.cmdb_id == host][df.name == kpi]\n",
      "<ipython-input-82-dcc1e2084555>:27: UserWarning: Boolean Series key will be reindexed to match DataFrame index.\n",
      "  df_hk = df[df.cmdb_id == host][df.name == kpi]\n",
      "<ipython-input-82-dcc1e2084555>:27: UserWarning: Boolean Series key will be reindexed to match DataFrame index.\n",
      "  df_hk = df[df.cmdb_id == host][df.name == kpi]\n"
     ]
    },
    {
     "name": "stdout",
     "output_type": "stream",
     "text": [
      "Threshold  -1.0 Disk_rd_ios\n",
      "Threshold  0.7210168751131067 CPU_util_pct\n",
      "Threshold  9.725608693067606 Disk_io_util\n",
      "Threshold  0.579179376968978 Num_of_processes\n"
     ]
    },
    {
     "name": "stderr",
     "output_type": "stream",
     "text": [
      "<ipython-input-82-dcc1e2084555>:27: UserWarning: Boolean Series key will be reindexed to match DataFrame index.\n",
      "  df_hk = df[df.cmdb_id == host][df.name == kpi]\n",
      "<ipython-input-82-dcc1e2084555>:27: UserWarning: Boolean Series key will be reindexed to match DataFrame index.\n",
      "  df_hk = df[df.cmdb_id == host][df.name == kpi]\n",
      "<ipython-input-82-dcc1e2084555>:27: UserWarning: Boolean Series key will be reindexed to match DataFrame index.\n",
      "  df_hk = df[df.cmdb_id == host][df.name == kpi]\n",
      "<ipython-input-82-dcc1e2084555>:27: UserWarning: Boolean Series key will be reindexed to match DataFrame index.\n",
      "  df_hk = df[df.cmdb_id == host][df.name == kpi]\n"
     ]
    },
    {
     "name": "stdout",
     "output_type": "stream",
     "text": [
      "Threshold  0.6891178506290907 Send_total\n",
      "Threshold  0.4894030460627116 Outgoing_network_traffic\n",
      "Threshold  0.5790987067414227 Memory_available_pct\n",
      "Threshold  0.6854136161107395 Incoming_network_traffic\n"
     ]
    },
    {
     "name": "stderr",
     "output_type": "stream",
     "text": [
      "<ipython-input-82-dcc1e2084555>:27: UserWarning: Boolean Series key will be reindexed to match DataFrame index.\n",
      "  df_hk = df[df.cmdb_id == host][df.name == kpi]\n",
      "<ipython-input-82-dcc1e2084555>:27: UserWarning: Boolean Series key will be reindexed to match DataFrame index.\n",
      "  df_hk = df[df.cmdb_id == host][df.name == kpi]\n",
      "<ipython-input-82-dcc1e2084555>:27: UserWarning: Boolean Series key will be reindexed to match DataFrame index.\n",
      "  df_hk = df[df.cmdb_id == host][df.name == kpi]\n",
      "<ipython-input-82-dcc1e2084555>:27: UserWarning: Boolean Series key will be reindexed to match DataFrame index.\n",
      "  df_hk = df[df.cmdb_id == host][df.name == kpi]\n"
     ]
    },
    {
     "name": "stdout",
     "output_type": "stream",
     "text": [
      "Threshold  -1.0 Zombie_Process\n",
      "Threshold  0.5792004098418171 Recv_total\n",
      "Threshold  0.5810354742368316 Page_po\n",
      "Threshold  0.5790897650417766 CPU_idle_pct\n"
     ]
    },
    {
     "name": "stderr",
     "output_type": "stream",
     "text": [
      "<ipython-input-82-dcc1e2084555>:27: UserWarning: Boolean Series key will be reindexed to match DataFrame index.\n",
      "  df_hk = df[df.cmdb_id == host][df.name == kpi]\n",
      "<ipython-input-82-dcc1e2084555>:27: UserWarning: Boolean Series key will be reindexed to match DataFrame index.\n",
      "  df_hk = df[df.cmdb_id == host][df.name == kpi]\n",
      "<ipython-input-82-dcc1e2084555>:27: UserWarning: Boolean Series key will be reindexed to match DataFrame index.\n",
      "  df_hk = df[df.cmdb_id == host][df.name == kpi]\n",
      "<ipython-input-82-dcc1e2084555>:27: UserWarning: Boolean Series key will be reindexed to match DataFrame index.\n",
      "  df_hk = df[df.cmdb_id == host][df.name == kpi]\n"
     ]
    },
    {
     "name": "stdout",
     "output_type": "stream",
     "text": [
      "Threshold  3.941285727465918 Processor_load_1_min\n",
      "Threshold  nan Agent_ping\n",
      "NaN, Skipping!\n",
      "Threshold  0.9103291776897141 Num_of_running_processes\n",
      "[1 1 1 1 0 0 0 0 0 0 0 0 0 0 0 0 0 0 0 0 0 0 0 0 1 1 1 1 1 0]\n",
      "ST Threshold Anomaly!\n",
      "Threshold  0.5830604636787801 ss_total\n",
      "Threshold  2.4734385336569424 Processor_load_15_min\n"
     ]
    },
    {
     "name": "stderr",
     "output_type": "stream",
     "text": [
      "<ipython-input-82-dcc1e2084555>:27: UserWarning: Boolean Series key will be reindexed to match DataFrame index.\n",
      "  df_hk = df[df.cmdb_id == host][df.name == kpi]\n",
      "<ipython-input-82-dcc1e2084555>:27: UserWarning: Boolean Series key will be reindexed to match DataFrame index.\n",
      "  df_hk = df[df.cmdb_id == host][df.name == kpi]\n",
      "<ipython-input-82-dcc1e2084555>:27: UserWarning: Boolean Series key will be reindexed to match DataFrame index.\n",
      "  df_hk = df[df.cmdb_id == host][df.name == kpi]\n",
      "/Users/baconbaker/anaconda3/envs/ml/lib/python3.8/site-packages/alibi_detect/od/sr.py:96: RuntimeWarning: divide by zero encountered in log\n",
      "  log_amp = np.log(amp)\n",
      "/Users/baconbaker/anaconda3/envs/ml/lib/python3.8/site-packages/alibi_detect/od/sr.py:99: RuntimeWarning: invalid value encountered in subtract\n",
      "  res_amp = log_amp - ma_log_amp\n",
      "/Users/baconbaker/anaconda3/envs/ml/lib/python3.8/site-packages/alibi_detect/od/sr.py:207: RuntimeWarning: invalid value encountered in greater\n",
      "  outlier_pred = (iscore > self.threshold).astype(int)\n",
      "<ipython-input-82-dcc1e2084555>:27: UserWarning: Boolean Series key will be reindexed to match DataFrame index.\n",
      "  df_hk = df[df.cmdb_id == host][df.name == kpi]\n"
     ]
    },
    {
     "name": "stdout",
     "output_type": "stream",
     "text": [
      "Threshold  0.7737977090558376 Page_pi\n",
      "Threshold  10.963444909638527 Disk_avgqu_sz\n",
      "Threshold  0.6470476911992628 Disk_wr_kbs\n",
      "Threshold  2.374175157507526 Disk_await\n"
     ]
    },
    {
     "name": "stderr",
     "output_type": "stream",
     "text": [
      "<ipython-input-82-dcc1e2084555>:27: UserWarning: Boolean Series key will be reindexed to match DataFrame index.\n",
      "  df_hk = df[df.cmdb_id == host][df.name == kpi]\n",
      "<ipython-input-82-dcc1e2084555>:27: UserWarning: Boolean Series key will be reindexed to match DataFrame index.\n",
      "  df_hk = df[df.cmdb_id == host][df.name == kpi]\n",
      "<ipython-input-82-dcc1e2084555>:27: UserWarning: Boolean Series key will be reindexed to match DataFrame index.\n",
      "  df_hk = df[df.cmdb_id == host][df.name == kpi]\n",
      "<ipython-input-82-dcc1e2084555>:27: UserWarning: Boolean Series key will be reindexed to match DataFrame index.\n",
      "  df_hk = df[df.cmdb_id == host][df.name == kpi]\n"
     ]
    },
    {
     "name": "stdout",
     "output_type": "stream",
     "text": [
      "Threshold  nan Shared_memory\n",
      "NaN, Skipping!\n",
      "Threshold  0.6070677857724797 CPU_user_time\n",
      "Threshold  1.8536738012881884 Disk_svctm\n",
      "Threshold  0.6000523862665126 Disk_wr_ios\n"
     ]
    },
    {
     "name": "stderr",
     "output_type": "stream",
     "text": [
      "<ipython-input-82-dcc1e2084555>:27: UserWarning: Boolean Series key will be reindexed to match DataFrame index.\n",
      "  df_hk = df[df.cmdb_id == host][df.name == kpi]\n",
      "<ipython-input-82-dcc1e2084555>:27: UserWarning: Boolean Series key will be reindexed to match DataFrame index.\n",
      "  df_hk = df[df.cmdb_id == host][df.name == kpi]\n",
      "<ipython-input-82-dcc1e2084555>:27: UserWarning: Boolean Series key will be reindexed to match DataFrame index.\n",
      "  df_hk = df[df.cmdb_id == host][df.name == kpi]\n",
      "<ipython-input-82-dcc1e2084555>:27: UserWarning: Boolean Series key will be reindexed to match DataFrame index.\n",
      "  df_hk = df[df.cmdb_id == host][df.name == kpi]\n"
     ]
    },
    {
     "name": "stdout",
     "output_type": "stream",
     "text": [
      "Threshold  0.5793710618797163 Memory_used_pct\n",
      "Threshold  5.21363010074904 CPU_iowait_time\n",
      "Threshold  0.5870477395617921 System_wait_queue_length\n",
      "Threshold  0.6433789130521246 CPU_system_time\n"
     ]
    },
    {
     "name": "stderr",
     "output_type": "stream",
     "text": [
      "<ipython-input-82-dcc1e2084555>:27: UserWarning: Boolean Series key will be reindexed to match DataFrame index.\n",
      "  df_hk = df[df.cmdb_id == host][df.name == kpi]\n",
      "/Users/baconbaker/anaconda3/envs/ml/lib/python3.8/site-packages/alibi_detect/od/sr.py:96: RuntimeWarning: divide by zero encountered in log\n",
      "  log_amp = np.log(amp)\n",
      "/Users/baconbaker/anaconda3/envs/ml/lib/python3.8/site-packages/alibi_detect/od/sr.py:99: RuntimeWarning: invalid value encountered in subtract\n",
      "  res_amp = log_amp - ma_log_amp\n",
      "/Users/baconbaker/anaconda3/envs/ml/lib/python3.8/site-packages/alibi_detect/od/sr.py:207: RuntimeWarning: invalid value encountered in greater\n",
      "  outlier_pred = (iscore > self.threshold).astype(int)\n",
      "<ipython-input-82-dcc1e2084555>:27: UserWarning: Boolean Series key will be reindexed to match DataFrame index.\n",
      "  df_hk = df[df.cmdb_id == host][df.name == kpi]\n",
      "<ipython-input-82-dcc1e2084555>:27: UserWarning: Boolean Series key will be reindexed to match DataFrame index.\n",
      "  df_hk = df[df.cmdb_id == host][df.name == kpi]\n",
      "/Users/baconbaker/anaconda3/envs/ml/lib/python3.8/site-packages/alibi_detect/od/sr.py:96: RuntimeWarning: divide by zero encountered in log\n",
      "  log_amp = np.log(amp)\n",
      "/Users/baconbaker/anaconda3/envs/ml/lib/python3.8/site-packages/alibi_detect/od/sr.py:99: RuntimeWarning: invalid value encountered in subtract\n",
      "  res_amp = log_amp - ma_log_amp\n",
      "/Users/baconbaker/anaconda3/envs/ml/lib/python3.8/site-packages/alibi_detect/od/sr.py:207: RuntimeWarning: invalid value encountered in greater\n",
      "  outlier_pred = (iscore > self.threshold).astype(int)\n",
      "<ipython-input-82-dcc1e2084555>:27: UserWarning: Boolean Series key will be reindexed to match DataFrame index.\n",
      "  df_hk = df[df.cmdb_id == host][df.name == kpi]\n"
     ]
    },
    {
     "name": "stdout",
     "output_type": "stream",
     "text": [
      "Threshold  0.9293370228344521 Disk_rd_kbs\n",
      "Threshold  0.5783714498193995 Memory_available\n",
      "Threshold  0.585169624691477 Memory_used\n",
      "Threshold  2.1566548076279672 System_block_queue_length\n"
     ]
    },
    {
     "name": "stderr",
     "output_type": "stream",
     "text": [
      "<ipython-input-82-dcc1e2084555>:27: UserWarning: Boolean Series key will be reindexed to match DataFrame index.\n",
      "  df_hk = df[df.cmdb_id == host][df.name == kpi]\n",
      "<ipython-input-82-dcc1e2084555>:27: UserWarning: Boolean Series key will be reindexed to match DataFrame index.\n",
      "  df_hk = df[df.cmdb_id == host][df.name == kpi]\n",
      "/Users/baconbaker/anaconda3/envs/ml/lib/python3.8/site-packages/alibi_detect/od/sr.py:96: RuntimeWarning: divide by zero encountered in log\n",
      "  log_amp = np.log(amp)\n",
      "/Users/baconbaker/anaconda3/envs/ml/lib/python3.8/site-packages/alibi_detect/od/sr.py:99: RuntimeWarning: invalid value encountered in subtract\n",
      "  res_amp = log_amp - ma_log_amp\n",
      "/Users/baconbaker/anaconda3/envs/ml/lib/python3.8/site-packages/alibi_detect/od/sr.py:207: RuntimeWarning: invalid value encountered in greater\n",
      "  outlier_pred = (iscore > self.threshold).astype(int)\n",
      "<ipython-input-82-dcc1e2084555>:27: UserWarning: Boolean Series key will be reindexed to match DataFrame index.\n",
      "  df_hk = df[df.cmdb_id == host][df.name == kpi]\n",
      "<ipython-input-82-dcc1e2084555>:27: UserWarning: Boolean Series key will be reindexed to match DataFrame index.\n",
      "  df_hk = df[df.cmdb_id == host][df.name == kpi]\n"
     ]
    },
    {
     "name": "stdout",
     "output_type": "stream",
     "text": [
      "Threshold  0.5951233744114557 Received_packets\n",
      "Threshold  -1.0 Received_errors_packets\n",
      "Threshold  0.6463758397103019 Memory_free\n"
     ]
    },
    {
     "name": "stderr",
     "output_type": "stream",
     "text": [
      "<ipython-input-82-dcc1e2084555>:27: UserWarning: Boolean Series key will be reindexed to match DataFrame index.\n",
      "  df_hk = df[df.cmdb_id == host][df.name == kpi]\n",
      "<ipython-input-82-dcc1e2084555>:27: UserWarning: Boolean Series key will be reindexed to match DataFrame index.\n",
      "  df_hk = df[df.cmdb_id == host][df.name == kpi]\n",
      "<ipython-input-82-dcc1e2084555>:27: UserWarning: Boolean Series key will be reindexed to match DataFrame index.\n",
      "  df_hk = df[df.cmdb_id == host][df.name == kpi]\n",
      "<ipython-input-82-dcc1e2084555>:27: UserWarning: Boolean Series key will be reindexed to match DataFrame index.\n",
      "  df_hk = df[df.cmdb_id == host][df.name == kpi]\n"
     ]
    },
    {
     "name": "stdout",
     "output_type": "stream",
     "text": [
      "Threshold  0.6429102716614314 Sent_queue\n",
      "Threshold  0.5788461618993949 Cache_used\n",
      "Threshold  -1.0 Received_queue\n",
      "Threshold  0.5833247688671916 Buffers_used\n"
     ]
    },
    {
     "name": "stderr",
     "output_type": "stream",
     "text": [
      "<ipython-input-82-dcc1e2084555>:27: UserWarning: Boolean Series key will be reindexed to match DataFrame index.\n",
      "  df_hk = df[df.cmdb_id == host][df.name == kpi]\n",
      "<ipython-input-82-dcc1e2084555>:27: UserWarning: Boolean Series key will be reindexed to match DataFrame index.\n",
      "  df_hk = df[df.cmdb_id == host][df.name == kpi]\n",
      "<ipython-input-82-dcc1e2084555>:27: UserWarning: Boolean Series key will be reindexed to match DataFrame index.\n",
      "  df_hk = df[df.cmdb_id == host][df.name == kpi]\n",
      "<ipython-input-82-dcc1e2084555>:27: UserWarning: Boolean Series key will be reindexed to match DataFrame index.\n",
      "  df_hk = df[df.cmdb_id == host][df.name == kpi]\n"
     ]
    },
    {
     "name": "stdout",
     "output_type": "stream",
     "text": [
      "Threshold  0.5853219352977852 FS_used_space\n",
      "Threshold  0.5851077990079516 Sent_packets\n",
      "Threshold  0.5844661861121214 FS_used_pct\n",
      "Threshold  nan FS_total_space\n"
     ]
    },
    {
     "name": "stderr",
     "output_type": "stream",
     "text": [
      "<ipython-input-82-dcc1e2084555>:27: UserWarning: Boolean Series key will be reindexed to match DataFrame index.\n",
      "  df_hk = df[df.cmdb_id == host][df.name == kpi]\n",
      "<ipython-input-82-dcc1e2084555>:27: UserWarning: Boolean Series key will be reindexed to match DataFrame index.\n",
      "  df_hk = df[df.cmdb_id == host][df.name == kpi]\n",
      "<ipython-input-82-dcc1e2084555>:27: UserWarning: Boolean Series key will be reindexed to match DataFrame index.\n",
      "  df_hk = df[df.cmdb_id == host][df.name == kpi]\n"
     ]
    },
    {
     "name": "stdout",
     "output_type": "stream",
     "text": [
      "NaN, Skipping!\n",
      "Threshold  0.5991898016375178 FS_max_util\n",
      "Threshold  nan ICMP_ping\n",
      "NaN, Skipping!\n",
      "Threshold  0.5766060423269624 FS_max_avail\n",
      "Threshold  -1.0 Swap_used_pct\n"
     ]
    },
    {
     "name": "stderr",
     "output_type": "stream",
     "text": [
      "<ipython-input-82-dcc1e2084555>:27: UserWarning: Boolean Series key will be reindexed to match DataFrame index.\n",
      "  df_hk = df[df.cmdb_id == host][df.name == kpi]\n",
      "<ipython-input-82-dcc1e2084555>:27: UserWarning: Boolean Series key will be reindexed to match DataFrame index.\n",
      "  df_hk = df[df.cmdb_id == host][df.name == kpi]\n",
      "<ipython-input-82-dcc1e2084555>:27: UserWarning: Boolean Series key will be reindexed to match DataFrame index.\n",
      "  df_hk = df[df.cmdb_id == host][df.name == kpi]\n",
      "<ipython-input-82-dcc1e2084555>:27: UserWarning: Boolean Series key will be reindexed to match DataFrame index.\n",
      "  df_hk = df[df.cmdb_id == host][df.name == kpi]\n"
     ]
    },
    {
     "name": "stdout",
     "output_type": "stream",
     "text": [
      "Threshold  nan Memory_total\n",
      "NaN, Skipping!\n",
      "os_004  completed in  3.0483109951019287\n",
      "************************************************************\n",
      "Checking  os_006\n",
      "Threshold  -1.0 Sent_errors_packets\n",
      "Threshold  8.122375620969207 Processor_load_5_min\n",
      "Threshold  -1.0 Disk_rd_ios\n",
      "Threshold  0.9402399018645956 CPU_util_pct\n"
     ]
    },
    {
     "name": "stderr",
     "output_type": "stream",
     "text": [
      "<ipython-input-82-dcc1e2084555>:27: UserWarning: Boolean Series key will be reindexed to match DataFrame index.\n",
      "  df_hk = df[df.cmdb_id == host][df.name == kpi]\n",
      "<ipython-input-82-dcc1e2084555>:27: UserWarning: Boolean Series key will be reindexed to match DataFrame index.\n",
      "  df_hk = df[df.cmdb_id == host][df.name == kpi]\n",
      "<ipython-input-82-dcc1e2084555>:27: UserWarning: Boolean Series key will be reindexed to match DataFrame index.\n",
      "  df_hk = df[df.cmdb_id == host][df.name == kpi]\n",
      "<ipython-input-82-dcc1e2084555>:27: UserWarning: Boolean Series key will be reindexed to match DataFrame index.\n",
      "  df_hk = df[df.cmdb_id == host][df.name == kpi]\n"
     ]
    },
    {
     "name": "stdout",
     "output_type": "stream",
     "text": [
      "[0 0 0 0 1 0 0 0 0 0 0 0 0 0 0 0 0 0 0 0 0 0 0 0 1 0 0 0 0 1]\n",
      "ST Threshold Anomaly!\n",
      "Threshold  -1.0 Disk_io_util\n",
      "Threshold  0.5794358263487266 Num_of_processes\n",
      "Threshold  2.2017279309690125 Send_total\n",
      "Threshold  0.9031002291810626 Outgoing_network_traffic\n"
     ]
    },
    {
     "name": "stderr",
     "output_type": "stream",
     "text": [
      "<ipython-input-82-dcc1e2084555>:27: UserWarning: Boolean Series key will be reindexed to match DataFrame index.\n",
      "  df_hk = df[df.cmdb_id == host][df.name == kpi]\n",
      "/Users/baconbaker/anaconda3/envs/ml/lib/python3.8/site-packages/alibi_detect/od/sr.py:96: RuntimeWarning: divide by zero encountered in log\n",
      "  log_amp = np.log(amp)\n",
      "/Users/baconbaker/anaconda3/envs/ml/lib/python3.8/site-packages/alibi_detect/od/sr.py:99: RuntimeWarning: invalid value encountered in subtract\n",
      "  res_amp = log_amp - ma_log_amp\n",
      "/Users/baconbaker/anaconda3/envs/ml/lib/python3.8/site-packages/alibi_detect/od/sr.py:207: RuntimeWarning: invalid value encountered in greater\n",
      "  outlier_pred = (iscore > self.threshold).astype(int)\n",
      "<ipython-input-82-dcc1e2084555>:27: UserWarning: Boolean Series key will be reindexed to match DataFrame index.\n",
      "  df_hk = df[df.cmdb_id == host][df.name == kpi]\n",
      "<ipython-input-82-dcc1e2084555>:27: UserWarning: Boolean Series key will be reindexed to match DataFrame index.\n",
      "  df_hk = df[df.cmdb_id == host][df.name == kpi]\n",
      "/Users/baconbaker/anaconda3/envs/ml/lib/python3.8/site-packages/alibi_detect/od/sr.py:96: RuntimeWarning: divide by zero encountered in log\n",
      "  log_amp = np.log(amp)\n",
      "/Users/baconbaker/anaconda3/envs/ml/lib/python3.8/site-packages/alibi_detect/od/sr.py:99: RuntimeWarning: invalid value encountered in subtract\n",
      "  res_amp = log_amp - ma_log_amp\n",
      "/Users/baconbaker/anaconda3/envs/ml/lib/python3.8/site-packages/alibi_detect/od/sr.py:207: RuntimeWarning: invalid value encountered in greater\n",
      "  outlier_pred = (iscore > self.threshold).astype(int)\n",
      "<ipython-input-82-dcc1e2084555>:27: UserWarning: Boolean Series key will be reindexed to match DataFrame index.\n",
      "  df_hk = df[df.cmdb_id == host][df.name == kpi]\n"
     ]
    },
    {
     "name": "stdout",
     "output_type": "stream",
     "text": [
      "Threshold  0.579629471634729 Memory_available_pct\n",
      "Threshold  0.8794641188192981 Incoming_network_traffic\n",
      "Threshold  -1.0 Zombie_Process\n",
      "Threshold  0.5908861480629327 Recv_total\n"
     ]
    },
    {
     "name": "stderr",
     "output_type": "stream",
     "text": [
      "/Users/baconbaker/anaconda3/envs/ml/lib/python3.8/site-packages/alibi_detect/od/sr.py:96: RuntimeWarning: divide by zero encountered in log\n",
      "  log_amp = np.log(amp)\n",
      "/Users/baconbaker/anaconda3/envs/ml/lib/python3.8/site-packages/alibi_detect/od/sr.py:99: RuntimeWarning: invalid value encountered in subtract\n",
      "  res_amp = log_amp - ma_log_amp\n",
      "/Users/baconbaker/anaconda3/envs/ml/lib/python3.8/site-packages/alibi_detect/od/sr.py:207: RuntimeWarning: invalid value encountered in greater\n",
      "  outlier_pred = (iscore > self.threshold).astype(int)\n",
      "<ipython-input-82-dcc1e2084555>:27: UserWarning: Boolean Series key will be reindexed to match DataFrame index.\n",
      "  df_hk = df[df.cmdb_id == host][df.name == kpi]\n",
      "/Users/baconbaker/anaconda3/envs/ml/lib/python3.8/site-packages/alibi_detect/od/sr.py:96: RuntimeWarning: divide by zero encountered in log\n",
      "  log_amp = np.log(amp)\n",
      "/Users/baconbaker/anaconda3/envs/ml/lib/python3.8/site-packages/alibi_detect/od/sr.py:99: RuntimeWarning: invalid value encountered in subtract\n",
      "  res_amp = log_amp - ma_log_amp\n",
      "/Users/baconbaker/anaconda3/envs/ml/lib/python3.8/site-packages/alibi_detect/od/sr.py:207: RuntimeWarning: invalid value encountered in greater\n",
      "  outlier_pred = (iscore > self.threshold).astype(int)\n",
      "<ipython-input-82-dcc1e2084555>:27: UserWarning: Boolean Series key will be reindexed to match DataFrame index.\n",
      "  df_hk = df[df.cmdb_id == host][df.name == kpi]\n",
      "<ipython-input-82-dcc1e2084555>:27: UserWarning: Boolean Series key will be reindexed to match DataFrame index.\n",
      "  df_hk = df[df.cmdb_id == host][df.name == kpi]\n",
      "<ipython-input-82-dcc1e2084555>:27: UserWarning: Boolean Series key will be reindexed to match DataFrame index.\n",
      "  df_hk = df[df.cmdb_id == host][df.name == kpi]\n"
     ]
    },
    {
     "name": "stdout",
     "output_type": "stream",
     "text": [
      "[1 0 1 0 1 0 0 1 0 0 0 0 0 0 0 0 0 0 0 0 0 0 1 0 0 0 0 1 0 1]\n",
      "ST Threshold Anomaly!\n",
      "Threshold  0.6261844590715269 Page_po\n",
      "Threshold  0.5793810322795072 CPU_idle_pct\n",
      "Threshold  11.227974014142443 Processor_load_1_min\n",
      "[0 1 0 0 0 0 0 0 0 0 0 0 0 0 0 0 0 0 0 0 0 1 0 0 0 0 0 0 0 0]\n",
      "ST Threshold Anomaly!\n",
      "Threshold  nan Agent_ping\n",
      "NaN, Skipping!"
     ]
    },
    {
     "name": "stderr",
     "output_type": "stream",
     "text": [
      "<ipython-input-82-dcc1e2084555>:27: UserWarning: Boolean Series key will be reindexed to match DataFrame index.\n",
      "  df_hk = df[df.cmdb_id == host][df.name == kpi]\n",
      "<ipython-input-82-dcc1e2084555>:27: UserWarning: Boolean Series key will be reindexed to match DataFrame index.\n",
      "  df_hk = df[df.cmdb_id == host][df.name == kpi]\n",
      "<ipython-input-82-dcc1e2084555>:27: UserWarning: Boolean Series key will be reindexed to match DataFrame index.\n",
      "  df_hk = df[df.cmdb_id == host][df.name == kpi]\n",
      "<ipython-input-82-dcc1e2084555>:27: UserWarning: Boolean Series key will be reindexed to match DataFrame index.\n",
      "  df_hk = df[df.cmdb_id == host][df.name == kpi]\n"
     ]
    },
    {
     "name": "stdout",
     "output_type": "stream",
     "text": [
      "\n",
      "Threshold  0.8359777718850898 Num_of_running_processes\n",
      "Threshold  0.6086899734769896 ss_total\n",
      "Threshold  3.6714636650222223 Processor_load_15_min\n",
      "Threshold  -1.0 Page_pi\n",
      "Threshold "
     ]
    },
    {
     "name": "stderr",
     "output_type": "stream",
     "text": [
      "/Users/baconbaker/anaconda3/envs/ml/lib/python3.8/site-packages/alibi_detect/od/sr.py:96: RuntimeWarning: divide by zero encountered in log\n",
      "  log_amp = np.log(amp)\n",
      "/Users/baconbaker/anaconda3/envs/ml/lib/python3.8/site-packages/alibi_detect/od/sr.py:99: RuntimeWarning: invalid value encountered in subtract\n",
      "  res_amp = log_amp - ma_log_amp\n",
      "/Users/baconbaker/anaconda3/envs/ml/lib/python3.8/site-packages/alibi_detect/od/sr.py:207: RuntimeWarning: invalid value encountered in greater\n",
      "  outlier_pred = (iscore > self.threshold).astype(int)\n",
      "<ipython-input-82-dcc1e2084555>:27: UserWarning: Boolean Series key will be reindexed to match DataFrame index.\n",
      "  df_hk = df[df.cmdb_id == host][df.name == kpi]\n",
      "<ipython-input-82-dcc1e2084555>:27: UserWarning: Boolean Series key will be reindexed to match DataFrame index.\n",
      "  df_hk = df[df.cmdb_id == host][df.name == kpi]\n",
      "<ipython-input-82-dcc1e2084555>:27: UserWarning: Boolean Series key will be reindexed to match DataFrame index.\n",
      "  df_hk = df[df.cmdb_id == host][df.name == kpi]\n",
      "<ipython-input-82-dcc1e2084555>:27: UserWarning: Boolean Series key will be reindexed to match DataFrame index.\n",
      "  df_hk = df[df.cmdb_id == host][df.name == kpi]\n"
     ]
    },
    {
     "name": "stdout",
     "output_type": "stream",
     "text": [
      " 4.857231488928679 Disk_avgqu_sz\n",
      "Threshold  4.1533641381436 Disk_wr_kbs\n",
      "Threshold  5.0333605996391135 Disk_await\n",
      "Threshold  nan Shared_memory\n"
     ]
    },
    {
     "name": "stderr",
     "output_type": "stream",
     "text": [
      "<ipython-input-82-dcc1e2084555>:27: UserWarning: Boolean Series key will be reindexed to match DataFrame index.\n",
      "  df_hk = df[df.cmdb_id == host][df.name == kpi]\n",
      "<ipython-input-82-dcc1e2084555>:27: UserWarning: Boolean Series key will be reindexed to match DataFrame index.\n",
      "  df_hk = df[df.cmdb_id == host][df.name == kpi]\n",
      "<ipython-input-82-dcc1e2084555>:27: UserWarning: Boolean Series key will be reindexed to match DataFrame index.\n",
      "  df_hk = df[df.cmdb_id == host][df.name == kpi]\n",
      "<ipython-input-82-dcc1e2084555>:27: UserWarning: Boolean Series key will be reindexed to match DataFrame index.\n",
      "  df_hk = df[df.cmdb_id == host][df.name == kpi]\n"
     ]
    },
    {
     "name": "stdout",
     "output_type": "stream",
     "text": [
      "NaN, Skipping!\n",
      "Threshold  1.5995911567280372 CPU_user_time\n",
      "Threshold  3.752910264081603 Disk_svctm\n",
      "Threshold  -1.0 Disk_wr_ios\n",
      "Threshold  0.5762834026822176 Memory_used_pct\n"
     ]
    },
    {
     "name": "stderr",
     "output_type": "stream",
     "text": [
      "<ipython-input-82-dcc1e2084555>:27: UserWarning: Boolean Series key will be reindexed to match DataFrame index.\n",
      "  df_hk = df[df.cmdb_id == host][df.name == kpi]\n",
      "<ipython-input-82-dcc1e2084555>:27: UserWarning: Boolean Series key will be reindexed to match DataFrame index.\n",
      "  df_hk = df[df.cmdb_id == host][df.name == kpi]\n",
      "<ipython-input-82-dcc1e2084555>:27: UserWarning: Boolean Series key will be reindexed to match DataFrame index.\n",
      "  df_hk = df[df.cmdb_id == host][df.name == kpi]\n",
      "/Users/baconbaker/anaconda3/envs/ml/lib/python3.8/site-packages/alibi_detect/od/sr.py:96: RuntimeWarning: divide by zero encountered in log\n",
      "  log_amp = np.log(amp)\n",
      "/Users/baconbaker/anaconda3/envs/ml/lib/python3.8/site-packages/alibi_detect/od/sr.py:99: RuntimeWarning: invalid value encountered in subtract\n",
      "  res_amp = log_amp - ma_log_amp\n",
      "/Users/baconbaker/anaconda3/envs/ml/lib/python3.8/site-packages/alibi_detect/od/sr.py:207: RuntimeWarning: invalid value encountered in greater\n",
      "  outlier_pred = (iscore > self.threshold).astype(int)\n",
      "<ipython-input-82-dcc1e2084555>:27: UserWarning: Boolean Series key will be reindexed to match DataFrame index.\n",
      "  df_hk = df[df.cmdb_id == host][df.name == kpi]\n",
      "<ipython-input-82-dcc1e2084555>:27: UserWarning: Boolean Series key will be reindexed to match DataFrame index.\n",
      "  df_hk = df[df.cmdb_id == host][df.name == kpi]\n"
     ]
    },
    {
     "name": "stdout",
     "output_type": "stream",
     "text": [
      "Threshold  4.145871295002268 CPU_iowait_time\n",
      "Threshold  2.7496603461943168 System_wait_queue_length\n",
      "Threshold  1.3096689656672538 CPU_system_time\n",
      "Threshold  -1.0 Disk_rd_kbs\n",
      "Threshold "
     ]
    },
    {
     "name": "stderr",
     "output_type": "stream",
     "text": [
      "/Users/baconbaker/anaconda3/envs/ml/lib/python3.8/site-packages/alibi_detect/od/sr.py:96: RuntimeWarning: divide by zero encountered in log\n",
      "  log_amp = np.log(amp)\n",
      "/Users/baconbaker/anaconda3/envs/ml/lib/python3.8/site-packages/alibi_detect/od/sr.py:99: RuntimeWarning: invalid value encountered in subtract\n",
      "  res_amp = log_amp - ma_log_amp\n",
      "/Users/baconbaker/anaconda3/envs/ml/lib/python3.8/site-packages/alibi_detect/od/sr.py:207: RuntimeWarning: invalid value encountered in greater\n",
      "  outlier_pred = (iscore > self.threshold).astype(int)\n",
      "<ipython-input-82-dcc1e2084555>:27: UserWarning: Boolean Series key will be reindexed to match DataFrame index.\n",
      "  df_hk = df[df.cmdb_id == host][df.name == kpi]\n",
      "<ipython-input-82-dcc1e2084555>:27: UserWarning: Boolean Series key will be reindexed to match DataFrame index.\n",
      "  df_hk = df[df.cmdb_id == host][df.name == kpi]\n",
      "<ipython-input-82-dcc1e2084555>:27: UserWarning: Boolean Series key will be reindexed to match DataFrame index.\n",
      "  df_hk = df[df.cmdb_id == host][df.name == kpi]\n",
      "<ipython-input-82-dcc1e2084555>:27: UserWarning: Boolean Series key will be reindexed to match DataFrame index.\n",
      "  df_hk = df[df.cmdb_id == host][df.name == kpi]\n"
     ]
    },
    {
     "name": "stdout",
     "output_type": "stream",
     "text": [
      " 0.5798343392054599 Memory_available\n",
      "Threshold  0.5787555011089748 Memory_used\n",
      "Threshold  -1.0 System_block_queue_length\n",
      "Threshold  1.025382057610593 Received_packets\n"
     ]
    },
    {
     "name": "stderr",
     "output_type": "stream",
     "text": [
      "<ipython-input-82-dcc1e2084555>:27: UserWarning: Boolean Series key will be reindexed to match DataFrame index.\n",
      "  df_hk = df[df.cmdb_id == host][df.name == kpi]\n",
      "<ipython-input-82-dcc1e2084555>:27: UserWarning: Boolean Series key will be reindexed to match DataFrame index.\n",
      "  df_hk = df[df.cmdb_id == host][df.name == kpi]\n",
      "/Users/baconbaker/anaconda3/envs/ml/lib/python3.8/site-packages/alibi_detect/od/sr.py:96: RuntimeWarning: divide by zero encountered in log\n",
      "  log_amp = np.log(amp)\n",
      "/Users/baconbaker/anaconda3/envs/ml/lib/python3.8/site-packages/alibi_detect/od/sr.py:99: RuntimeWarning: invalid value encountered in subtract\n",
      "  res_amp = log_amp - ma_log_amp\n",
      "/Users/baconbaker/anaconda3/envs/ml/lib/python3.8/site-packages/alibi_detect/od/sr.py:207: RuntimeWarning: invalid value encountered in greater\n",
      "  outlier_pred = (iscore > self.threshold).astype(int)\n",
      "<ipython-input-82-dcc1e2084555>:27: UserWarning: Boolean Series key will be reindexed to match DataFrame index.\n",
      "  df_hk = df[df.cmdb_id == host][df.name == kpi]\n",
      "<ipython-input-82-dcc1e2084555>:27: UserWarning: Boolean Series key will be reindexed to match DataFrame index.\n",
      "  df_hk = df[df.cmdb_id == host][df.name == kpi]\n",
      "<ipython-input-82-dcc1e2084555>:27: UserWarning: Boolean Series key will be reindexed to match DataFrame index.\n",
      "  df_hk = df[df.cmdb_id == host][df.name == kpi]\n"
     ]
    },
    {
     "name": "stdout",
     "output_type": "stream",
     "text": [
      "Threshold  -1.0 Received_errors_packets\n",
      "Threshold  0.5798783473259962 Memory_free\n",
      "Threshold  nan Sent_queue\n",
      "NaN, Skipping!\n",
      "Threshold  0.5726910791086327 Cache_used\n"
     ]
    },
    {
     "name": "stderr",
     "output_type": "stream",
     "text": [
      "<ipython-input-82-dcc1e2084555>:27: UserWarning: Boolean Series key will be reindexed to match DataFrame index.\n",
      "  df_hk = df[df.cmdb_id == host][df.name == kpi]\n",
      "<ipython-input-82-dcc1e2084555>:27: UserWarning: Boolean Series key will be reindexed to match DataFrame index.\n",
      "  df_hk = df[df.cmdb_id == host][df.name == kpi]\n",
      "<ipython-input-82-dcc1e2084555>:27: UserWarning: Boolean Series key will be reindexed to match DataFrame index.\n",
      "  df_hk = df[df.cmdb_id == host][df.name == kpi]\n"
     ]
    },
    {
     "name": "stdout",
     "output_type": "stream",
     "text": [
      "Threshold  -1.0 Received_queue\n",
      "Threshold  nan Buffers_used\n",
      "NaN, Skipping!\n",
      "Threshold  0.5777125732952003 FS_used_space\n",
      "Threshold  -1.0 Sent_packets\n"
     ]
    },
    {
     "name": "stderr",
     "output_type": "stream",
     "text": [
      "<ipython-input-82-dcc1e2084555>:27: UserWarning: Boolean Series key will be reindexed to match DataFrame index.\n",
      "  df_hk = df[df.cmdb_id == host][df.name == kpi]\n",
      "<ipython-input-82-dcc1e2084555>:27: UserWarning: Boolean Series key will be reindexed to match DataFrame index.\n",
      "  df_hk = df[df.cmdb_id == host][df.name == kpi]\n",
      "<ipython-input-82-dcc1e2084555>:27: UserWarning: Boolean Series key will be reindexed to match DataFrame index.\n",
      "  df_hk = df[df.cmdb_id == host][df.name == kpi]\n",
      "/Users/baconbaker/anaconda3/envs/ml/lib/python3.8/site-packages/alibi_detect/od/sr.py:96: RuntimeWarning: divide by zero encountered in log\n",
      "  log_amp = np.log(amp)\n",
      "/Users/baconbaker/anaconda3/envs/ml/lib/python3.8/site-packages/alibi_detect/od/sr.py:99: RuntimeWarning: invalid value encountered in subtract\n",
      "  res_amp = log_amp - ma_log_amp\n",
      "/Users/baconbaker/anaconda3/envs/ml/lib/python3.8/site-packages/alibi_detect/od/sr.py:207: RuntimeWarning: invalid value encountered in greater\n",
      "  outlier_pred = (iscore > self.threshold).astype(int)\n",
      "<ipython-input-82-dcc1e2084555>:27: UserWarning: Boolean Series key will be reindexed to match DataFrame index.\n",
      "  df_hk = df[df.cmdb_id == host][df.name == kpi]\n"
     ]
    },
    {
     "name": "stdout",
     "output_type": "stream",
     "text": [
      "Threshold  0.5781580861131652 FS_used_pct\n",
      "Threshold  nan FS_total_space\n",
      "NaN, Skipping!\n",
      "Threshold  nan FS_max_util\n",
      "NaN, Skipping!\n",
      "Threshold  nan ICMP_ping\n"
     ]
    },
    {
     "name": "stderr",
     "output_type": "stream",
     "text": [
      "<ipython-input-82-dcc1e2084555>:27: UserWarning: Boolean Series key will be reindexed to match DataFrame index.\n",
      "  df_hk = df[df.cmdb_id == host][df.name == kpi]\n",
      "<ipython-input-82-dcc1e2084555>:27: UserWarning: Boolean Series key will be reindexed to match DataFrame index.\n",
      "  df_hk = df[df.cmdb_id == host][df.name == kpi]\n",
      "<ipython-input-82-dcc1e2084555>:27: UserWarning: Boolean Series key will be reindexed to match DataFrame index.\n",
      "  df_hk = df[df.cmdb_id == host][df.name == kpi]\n",
      "/Users/baconbaker/anaconda3/envs/ml/lib/python3.8/site-packages/alibi_detect/od/sr.py:96: RuntimeWarning: divide by zero encountered in log\n",
      "  log_amp = np.log(amp)\n",
      "/Users/baconbaker/anaconda3/envs/ml/lib/python3.8/site-packages/alibi_detect/od/sr.py:99: RuntimeWarning: invalid value encountered in subtract\n",
      "  res_amp = log_amp - ma_log_amp\n",
      "/Users/baconbaker/anaconda3/envs/ml/lib/python3.8/site-packages/alibi_detect/od/sr.py:207: RuntimeWarning: invalid value encountered in greater\n",
      "  outlier_pred = (iscore > self.threshold).astype(int)\n",
      "<ipython-input-82-dcc1e2084555>:27: UserWarning: Boolean Series key will be reindexed to match DataFrame index.\n",
      "  df_hk = df[df.cmdb_id == host][df.name == kpi]\n"
     ]
    },
    {
     "name": "stdout",
     "output_type": "stream",
     "text": [
      "NaN, Skipping!\n",
      "Threshold  0.5799001365267537 FS_max_avail\n",
      "Threshold  -1.0 Swap_used_pct\n",
      "Threshold  nan Memory_total\n",
      "NaN, Skipping!\n",
      "os_006  completed in  2.966456651687622\n",
      "************************************************************\n",
      "Checking  os_020\n",
      "Threshold  -1.0 Sent_errors_packets\n",
      "Threshold "
     ]
    },
    {
     "name": "stderr",
     "output_type": "stream",
     "text": [
      "<ipython-input-82-dcc1e2084555>:27: UserWarning: Boolean Series key will be reindexed to match DataFrame index.\n",
      "  df_hk = df[df.cmdb_id == host][df.name == kpi]\n",
      "<ipython-input-82-dcc1e2084555>:27: UserWarning: Boolean Series key will be reindexed to match DataFrame index.\n",
      "  df_hk = df[df.cmdb_id == host][df.name == kpi]\n",
      "<ipython-input-82-dcc1e2084555>:27: UserWarning: Boolean Series key will be reindexed to match DataFrame index.\n",
      "  df_hk = df[df.cmdb_id == host][df.name == kpi]\n",
      "<ipython-input-82-dcc1e2084555>:27: UserWarning: Boolean Series key will be reindexed to match DataFrame index.\n",
      "  df_hk = df[df.cmdb_id == host][df.name == kpi]\n",
      "<ipython-input-82-dcc1e2084555>:27: UserWarning: Boolean Series key will be reindexed to match DataFrame index.\n",
      "  df_hk = df[df.cmdb_id == host][df.name == kpi]\n"
     ]
    },
    {
     "name": "stdout",
     "output_type": "stream",
     "text": [
      " 2.837217911221438 Processor_load_5_min\n",
      "Threshold  -1.0 Disk_rd_ios\n",
      "Threshold  0.5548223506244127 CPU_util_pct\n",
      "Threshold  7.0109753051422325 Disk_io_util\n",
      "Threshold  0.5770209375655844 Num_of_processes\n"
     ]
    },
    {
     "name": "stderr",
     "output_type": "stream",
     "text": [
      "<ipython-input-82-dcc1e2084555>:27: UserWarning: Boolean Series key will be reindexed to match DataFrame index.\n",
      "  df_hk = df[df.cmdb_id == host][df.name == kpi]\n",
      "/Users/baconbaker/anaconda3/envs/ml/lib/python3.8/site-packages/alibi_detect/od/sr.py:96: RuntimeWarning: divide by zero encountered in log\n",
      "  log_amp = np.log(amp)\n",
      "/Users/baconbaker/anaconda3/envs/ml/lib/python3.8/site-packages/alibi_detect/od/sr.py:99: RuntimeWarning: invalid value encountered in subtract\n",
      "  res_amp = log_amp - ma_log_amp\n",
      "/Users/baconbaker/anaconda3/envs/ml/lib/python3.8/site-packages/alibi_detect/od/sr.py:207: RuntimeWarning: invalid value encountered in greater\n",
      "  outlier_pred = (iscore > self.threshold).astype(int)\n",
      "<ipython-input-82-dcc1e2084555>:27: UserWarning: Boolean Series key will be reindexed to match DataFrame index.\n",
      "  df_hk = df[df.cmdb_id == host][df.name == kpi]\n",
      "<ipython-input-82-dcc1e2084555>:27: UserWarning: Boolean Series key will be reindexed to match DataFrame index.\n",
      "  df_hk = df[df.cmdb_id == host][df.name == kpi]\n",
      "<ipython-input-82-dcc1e2084555>:27: UserWarning: Boolean Series key will be reindexed to match DataFrame index.\n",
      "  df_hk = df[df.cmdb_id == host][df.name == kpi]\n"
     ]
    },
    {
     "name": "stdout",
     "output_type": "stream",
     "text": [
      "Threshold  0.5879315262486726 Send_total\n",
      "Threshold  7.0409226675244225 Outgoing_network_traffic\n",
      "Threshold  0.5793148898160362 Memory_available_pct\n",
      "Threshold  -1.0 Incoming_network_traffic\n",
      "Threshold "
     ]
    },
    {
     "name": "stderr",
     "output_type": "stream",
     "text": [
      "/Users/baconbaker/anaconda3/envs/ml/lib/python3.8/site-packages/alibi_detect/od/sr.py:96: RuntimeWarning: divide by zero encountered in log\n",
      "  log_amp = np.log(amp)\n",
      "/Users/baconbaker/anaconda3/envs/ml/lib/python3.8/site-packages/alibi_detect/od/sr.py:99: RuntimeWarning: invalid value encountered in subtract\n",
      "  res_amp = log_amp - ma_log_amp\n",
      "/Users/baconbaker/anaconda3/envs/ml/lib/python3.8/site-packages/alibi_detect/od/sr.py:207: RuntimeWarning: invalid value encountered in greater\n",
      "  outlier_pred = (iscore > self.threshold).astype(int)\n",
      "<ipython-input-82-dcc1e2084555>:27: UserWarning: Boolean Series key will be reindexed to match DataFrame index.\n",
      "  df_hk = df[df.cmdb_id == host][df.name == kpi]\n",
      "<ipython-input-82-dcc1e2084555>:27: UserWarning: Boolean Series key will be reindexed to match DataFrame index.\n",
      "  df_hk = df[df.cmdb_id == host][df.name == kpi]\n",
      "<ipython-input-82-dcc1e2084555>:27: UserWarning: Boolean Series key will be reindexed to match DataFrame index.\n",
      "  df_hk = df[df.cmdb_id == host][df.name == kpi]\n",
      "/Users/baconbaker/anaconda3/envs/ml/lib/python3.8/site-packages/alibi_detect/od/sr.py:96: RuntimeWarning: divide by zero encountered in log\n",
      "  log_amp = np.log(amp)\n",
      "/Users/baconbaker/anaconda3/envs/ml/lib/python3.8/site-packages/alibi_detect/od/sr.py:99: RuntimeWarning: invalid value encountered in subtract\n",
      "  res_amp = log_amp - ma_log_amp\n",
      "/Users/baconbaker/anaconda3/envs/ml/lib/python3.8/site-packages/alibi_detect/od/sr.py:207: RuntimeWarning: invalid value encountered in greater\n",
      "  outlier_pred = (iscore > self.threshold).astype(int)\n",
      "<ipython-input-82-dcc1e2084555>:27: UserWarning: Boolean Series key will be reindexed to match DataFrame index.\n",
      "  df_hk = df[df.cmdb_id == host][df.name == kpi]\n"
     ]
    },
    {
     "name": "stdout",
     "output_type": "stream",
     "text": [
      " 3.1394758965666107 Zombie_Process\n",
      "Threshold  0.573548538753306 Recv_total\n",
      "Threshold  0.5724782674180451 Page_po\n",
      "Threshold  0.5799078271975939 CPU_idle_pct\n",
      "Threshold  3.9112595424034415 Processor_load_1_min\n"
     ]
    },
    {
     "name": "stderr",
     "output_type": "stream",
     "text": [
      "<ipython-input-82-dcc1e2084555>:27: UserWarning: Boolean Series key will be reindexed to match DataFrame index.\n",
      "  df_hk = df[df.cmdb_id == host][df.name == kpi]\n",
      "<ipython-input-82-dcc1e2084555>:27: UserWarning: Boolean Series key will be reindexed to match DataFrame index.\n",
      "  df_hk = df[df.cmdb_id == host][df.name == kpi]\n",
      "<ipython-input-82-dcc1e2084555>:27: UserWarning: Boolean Series key will be reindexed to match DataFrame index.\n",
      "  df_hk = df[df.cmdb_id == host][df.name == kpi]\n",
      "<ipython-input-82-dcc1e2084555>:27: UserWarning: Boolean Series key will be reindexed to match DataFrame index.\n",
      "  df_hk = df[df.cmdb_id == host][df.name == kpi]\n",
      "<ipython-input-82-dcc1e2084555>:27: UserWarning: Boolean Series key will be reindexed to match DataFrame index.\n",
      "  df_hk = df[df.cmdb_id == host][df.name == kpi]\n"
     ]
    },
    {
     "name": "stdout",
     "output_type": "stream",
     "text": [
      "Threshold  nan Agent_ping\n",
      "NaN, Skipping!\n",
      "Threshold  0.9432704232023764 Num_of_running_processes\n",
      "Threshold  0.5726649827931373 ss_total\n",
      "Threshold  2.4051365139173924 Processor_load_15_min\n",
      "Threshold  3.6618744720108367 Page_pi\n"
     ]
    },
    {
     "name": "stderr",
     "output_type": "stream",
     "text": [
      "<ipython-input-82-dcc1e2084555>:27: UserWarning: Boolean Series key will be reindexed to match DataFrame index.\n",
      "  df_hk = df[df.cmdb_id == host][df.name == kpi]\n",
      "<ipython-input-82-dcc1e2084555>:27: UserWarning: Boolean Series key will be reindexed to match DataFrame index.\n",
      "  df_hk = df[df.cmdb_id == host][df.name == kpi]\n",
      "<ipython-input-82-dcc1e2084555>:27: UserWarning: Boolean Series key will be reindexed to match DataFrame index.\n",
      "  df_hk = df[df.cmdb_id == host][df.name == kpi]\n",
      "/Users/baconbaker/anaconda3/envs/ml/lib/python3.8/site-packages/alibi_detect/od/sr.py:96: RuntimeWarning: divide by zero encountered in log\n",
      "  log_amp = np.log(amp)\n",
      "/Users/baconbaker/anaconda3/envs/ml/lib/python3.8/site-packages/alibi_detect/od/sr.py:99: RuntimeWarning: invalid value encountered in subtract\n",
      "  res_amp = log_amp - ma_log_amp\n",
      "/Users/baconbaker/anaconda3/envs/ml/lib/python3.8/site-packages/alibi_detect/od/sr.py:207: RuntimeWarning: invalid value encountered in greater\n",
      "  outlier_pred = (iscore > self.threshold).astype(int)\n",
      "<ipython-input-82-dcc1e2084555>:27: UserWarning: Boolean Series key will be reindexed to match DataFrame index.\n",
      "  df_hk = df[df.cmdb_id == host][df.name == kpi]\n"
     ]
    },
    {
     "name": "stdout",
     "output_type": "stream",
     "text": [
      "Threshold  2.7505030327732922 Disk_avgqu_sz\n",
      "Threshold  0.7876525919022545 Disk_wr_kbs\n",
      "Threshold  1.0651801175189934 Disk_await\n",
      "Threshold  0.5799640237016629 Shared_memory\n"
     ]
    },
    {
     "name": "stderr",
     "output_type": "stream",
     "text": [
      "<ipython-input-82-dcc1e2084555>:27: UserWarning: Boolean Series key will be reindexed to match DataFrame index.\n",
      "  df_hk = df[df.cmdb_id == host][df.name == kpi]\n",
      "<ipython-input-82-dcc1e2084555>:27: UserWarning: Boolean Series key will be reindexed to match DataFrame index.\n",
      "  df_hk = df[df.cmdb_id == host][df.name == kpi]\n",
      "<ipython-input-82-dcc1e2084555>:27: UserWarning: Boolean Series key will be reindexed to match DataFrame index.\n",
      "  df_hk = df[df.cmdb_id == host][df.name == kpi]\n",
      "<ipython-input-82-dcc1e2084555>:27: UserWarning: Boolean Series key will be reindexed to match DataFrame index.\n",
      "  df_hk = df[df.cmdb_id == host][df.name == kpi]\n"
     ]
    },
    {
     "name": "stdout",
     "output_type": "stream",
     "text": [
      "Threshold  0.5648717200024768 CPU_user_time\n",
      "Threshold  1.5781784278220117 Disk_svctm\n",
      "Threshold  0.6398010167243735 Disk_wr_ios\n",
      "Threshold  0.5808401859998339 Memory_used_pct\n",
      "Threshold  3.999444825004612 CPU_iowait_time\n"
     ]
    },
    {
     "name": "stderr",
     "output_type": "stream",
     "text": [
      "<ipython-input-82-dcc1e2084555>:27: UserWarning: Boolean Series key will be reindexed to match DataFrame index.\n",
      "  df_hk = df[df.cmdb_id == host][df.name == kpi]\n",
      "<ipython-input-82-dcc1e2084555>:27: UserWarning: Boolean Series key will be reindexed to match DataFrame index.\n",
      "  df_hk = df[df.cmdb_id == host][df.name == kpi]\n",
      "<ipython-input-82-dcc1e2084555>:27: UserWarning: Boolean Series key will be reindexed to match DataFrame index.\n",
      "  df_hk = df[df.cmdb_id == host][df.name == kpi]\n",
      "<ipython-input-82-dcc1e2084555>:27: UserWarning: Boolean Series key will be reindexed to match DataFrame index.\n",
      "  df_hk = df[df.cmdb_id == host][df.name == kpi]\n"
     ]
    },
    {
     "name": "stdout",
     "output_type": "stream",
     "text": [
      "Threshold  1.1039687008669483 System_wait_queue_length\n",
      "[0 0 0 1 1 0 1 0 1 1 0 0 0 0 0 0 0 0 0 0 0 0 0 0 1 0 1 0 1 0]\n",
      "ST Threshold Anomaly!\n",
      "Threshold  0.6591579582175395 CPU_system_time\n",
      "Threshold  4.962960658246746 Disk_rd_kbs\n",
      "Threshold  0.5777939311603685 Memory_available\n"
     ]
    },
    {
     "name": "stderr",
     "output_type": "stream",
     "text": [
      "<ipython-input-82-dcc1e2084555>:27: UserWarning: Boolean Series key will be reindexed to match DataFrame index.\n",
      "  df_hk = df[df.cmdb_id == host][df.name == kpi]\n",
      "<ipython-input-82-dcc1e2084555>:27: UserWarning: Boolean Series key will be reindexed to match DataFrame index.\n",
      "  df_hk = df[df.cmdb_id == host][df.name == kpi]\n",
      "<ipython-input-82-dcc1e2084555>:27: UserWarning: Boolean Series key will be reindexed to match DataFrame index.\n",
      "  df_hk = df[df.cmdb_id == host][df.name == kpi]\n",
      "/Users/baconbaker/anaconda3/envs/ml/lib/python3.8/site-packages/alibi_detect/od/sr.py:96: RuntimeWarning: divide by zero encountered in log\n",
      "  log_amp = np.log(amp)\n",
      "/Users/baconbaker/anaconda3/envs/ml/lib/python3.8/site-packages/alibi_detect/od/sr.py:99: RuntimeWarning: invalid value encountered in subtract\n",
      "  res_amp = log_amp - ma_log_amp\n",
      "/Users/baconbaker/anaconda3/envs/ml/lib/python3.8/site-packages/alibi_detect/od/sr.py:207: RuntimeWarning: invalid value encountered in greater\n",
      "  outlier_pred = (iscore > self.threshold).astype(int)\n",
      "<ipython-input-82-dcc1e2084555>:27: UserWarning: Boolean Series key will be reindexed to match DataFrame index.\n",
      "  df_hk = df[df.cmdb_id == host][df.name == kpi]\n"
     ]
    },
    {
     "name": "stdout",
     "output_type": "stream",
     "text": [
      "Threshold  0.5937110217914003 Memory_used\n",
      "Threshold  -1.0 System_block_queue_length\n",
      "Threshold  -1.0 Received_packets\n",
      "Threshold  -1.0 Received_errors_packets\n",
      "Threshold "
     ]
    },
    {
     "name": "stderr",
     "output_type": "stream",
     "text": [
      "<ipython-input-82-dcc1e2084555>:27: UserWarning: Boolean Series key will be reindexed to match DataFrame index.\n",
      "  df_hk = df[df.cmdb_id == host][df.name == kpi]\n",
      "<ipython-input-82-dcc1e2084555>:27: UserWarning: Boolean Series key will be reindexed to match DataFrame index.\n",
      "  df_hk = df[df.cmdb_id == host][df.name == kpi]\n",
      "<ipython-input-82-dcc1e2084555>:27: UserWarning: Boolean Series key will be reindexed to match DataFrame index.\n",
      "  df_hk = df[df.cmdb_id == host][df.name == kpi]\n",
      "<ipython-input-82-dcc1e2084555>:27: UserWarning: Boolean Series key will be reindexed to match DataFrame index.\n",
      "  df_hk = df[df.cmdb_id == host][df.name == kpi]\n"
     ]
    },
    {
     "name": "stdout",
     "output_type": "stream",
     "text": [
      " 0.5775952484039844 Memory_free\n",
      "Threshold  3.0667593333565866 Sent_queue\n",
      "Threshold  0.5787757492839674 Cache_used\n",
      "Threshold  -1.0 Received_queue\n"
     ]
    },
    {
     "name": "stderr",
     "output_type": "stream",
     "text": [
      "<ipython-input-82-dcc1e2084555>:27: UserWarning: Boolean Series key will be reindexed to match DataFrame index.\n",
      "  df_hk = df[df.cmdb_id == host][df.name == kpi]\n",
      "<ipython-input-82-dcc1e2084555>:27: UserWarning: Boolean Series key will be reindexed to match DataFrame index.\n",
      "  df_hk = df[df.cmdb_id == host][df.name == kpi]\n",
      "<ipython-input-82-dcc1e2084555>:27: UserWarning: Boolean Series key will be reindexed to match DataFrame index.\n",
      "  df_hk = df[df.cmdb_id == host][df.name == kpi]\n",
      "<ipython-input-82-dcc1e2084555>:27: UserWarning: Boolean Series key will be reindexed to match DataFrame index.\n",
      "  df_hk = df[df.cmdb_id == host][df.name == kpi]\n"
     ]
    },
    {
     "name": "stdout",
     "output_type": "stream",
     "text": [
      "Threshold  nan Buffers_used\n",
      "NaN, Skipping!\n",
      "Threshold  0.6089951610808242 FS_used_space\n",
      "Threshold  -1.0 Sent_packets\n",
      "Threshold  0.6298297215462769 FS_used_pct\n"
     ]
    },
    {
     "name": "stderr",
     "output_type": "stream",
     "text": [
      "<ipython-input-82-dcc1e2084555>:27: UserWarning: Boolean Series key will be reindexed to match DataFrame index.\n",
      "  df_hk = df[df.cmdb_id == host][df.name == kpi]\n",
      "<ipython-input-82-dcc1e2084555>:27: UserWarning: Boolean Series key will be reindexed to match DataFrame index.\n",
      "  df_hk = df[df.cmdb_id == host][df.name == kpi]\n",
      "<ipython-input-82-dcc1e2084555>:27: UserWarning: Boolean Series key will be reindexed to match DataFrame index.\n",
      "  df_hk = df[df.cmdb_id == host][df.name == kpi]\n",
      "<ipython-input-82-dcc1e2084555>:27: UserWarning: Boolean Series key will be reindexed to match DataFrame index.\n",
      "  df_hk = df[df.cmdb_id == host][df.name == kpi]\n"
     ]
    },
    {
     "name": "stdout",
     "output_type": "stream",
     "text": [
      "Threshold  nan FS_total_space\n",
      "NaN, Skipping!\n",
      "Threshold  0.5984253016874683 FS_max_util\n",
      "Threshold  nan ICMP_ping\n",
      "NaN, Skipping!"
     ]
    },
    {
     "name": "stderr",
     "output_type": "stream",
     "text": [
      "<ipython-input-82-dcc1e2084555>:27: UserWarning: Boolean Series key will be reindexed to match DataFrame index.\n",
      "  df_hk = df[df.cmdb_id == host][df.name == kpi]\n",
      "<ipython-input-82-dcc1e2084555>:27: UserWarning: Boolean Series key will be reindexed to match DataFrame index.\n",
      "  df_hk = df[df.cmdb_id == host][df.name == kpi]\n",
      "<ipython-input-82-dcc1e2084555>:27: UserWarning: Boolean Series key will be reindexed to match DataFrame index.\n",
      "  df_hk = df[df.cmdb_id == host][df.name == kpi]\n"
     ]
    },
    {
     "name": "stdout",
     "output_type": "stream",
     "text": [
      "\n",
      "Threshold  0.5812791176867989 FS_max_avail\n",
      "Threshold  -1.0 Swap_used_pct\n",
      "Threshold  nan Memory_total\n",
      "NaN, Skipping!\n",
      "os_020  completed in  3.0838420391082764\n",
      "************************************************************\n",
      "Checking  os_001\n"
     ]
    },
    {
     "name": "stderr",
     "output_type": "stream",
     "text": [
      "<ipython-input-82-dcc1e2084555>:27: UserWarning: Boolean Series key will be reindexed to match DataFrame index.\n",
      "  df_hk = df[df.cmdb_id == host][df.name == kpi]\n",
      "<ipython-input-82-dcc1e2084555>:27: UserWarning: Boolean Series key will be reindexed to match DataFrame index.\n",
      "  df_hk = df[df.cmdb_id == host][df.name == kpi]\n",
      "<ipython-input-82-dcc1e2084555>:27: UserWarning: Boolean Series key will be reindexed to match DataFrame index.\n",
      "  df_hk = df[df.cmdb_id == host][df.name == kpi]\n"
     ]
    },
    {
     "name": "stdout",
     "output_type": "stream",
     "text": [
      "Threshold  -1.0 Sent_errors_packets\n",
      "Threshold  1.877321011916128 Processor_load_5_min\n",
      "Threshold  -1.0 Disk_rd_ios\n",
      "Threshold  0.7100556712536231 CPU_util_pct\n"
     ]
    },
    {
     "name": "stderr",
     "output_type": "stream",
     "text": [
      "<ipython-input-82-dcc1e2084555>:27: UserWarning: Boolean Series key will be reindexed to match DataFrame index.\n",
      "  df_hk = df[df.cmdb_id == host][df.name == kpi]\n",
      "<ipython-input-82-dcc1e2084555>:27: UserWarning: Boolean Series key will be reindexed to match DataFrame index.\n",
      "  df_hk = df[df.cmdb_id == host][df.name == kpi]\n",
      "<ipython-input-82-dcc1e2084555>:27: UserWarning: Boolean Series key will be reindexed to match DataFrame index.\n",
      "  df_hk = df[df.cmdb_id == host][df.name == kpi]\n",
      "<ipython-input-82-dcc1e2084555>:27: UserWarning: Boolean Series key will be reindexed to match DataFrame index.\n",
      "  df_hk = df[df.cmdb_id == host][df.name == kpi]\n"
     ]
    },
    {
     "name": "stdout",
     "output_type": "stream",
     "text": [
      "Threshold  1.280786340647403 Disk_io_util\n",
      "Threshold  0.5788806325817705 Num_of_processes\n",
      "Threshold  2.083917014033029 Send_total\n",
      "Threshold  2.65819096188574 Outgoing_network_traffic\n"
     ]
    },
    {
     "name": "stderr",
     "output_type": "stream",
     "text": [
      "<ipython-input-82-dcc1e2084555>:27: UserWarning: Boolean Series key will be reindexed to match DataFrame index.\n",
      "  df_hk = df[df.cmdb_id == host][df.name == kpi]\n",
      "/Users/baconbaker/anaconda3/envs/ml/lib/python3.8/site-packages/alibi_detect/od/sr.py:96: RuntimeWarning: divide by zero encountered in log\n",
      "  log_amp = np.log(amp)\n",
      "/Users/baconbaker/anaconda3/envs/ml/lib/python3.8/site-packages/alibi_detect/od/sr.py:99: RuntimeWarning: invalid value encountered in subtract\n",
      "  res_amp = log_amp - ma_log_amp\n",
      "/Users/baconbaker/anaconda3/envs/ml/lib/python3.8/site-packages/alibi_detect/od/sr.py:207: RuntimeWarning: invalid value encountered in greater\n",
      "  outlier_pred = (iscore > self.threshold).astype(int)\n",
      "<ipython-input-82-dcc1e2084555>:27: UserWarning: Boolean Series key will be reindexed to match DataFrame index.\n",
      "  df_hk = df[df.cmdb_id == host][df.name == kpi]\n",
      "<ipython-input-82-dcc1e2084555>:27: UserWarning: Boolean Series key will be reindexed to match DataFrame index.\n",
      "  df_hk = df[df.cmdb_id == host][df.name == kpi]\n",
      "<ipython-input-82-dcc1e2084555>:27: UserWarning: Boolean Series key will be reindexed to match DataFrame index.\n",
      "  df_hk = df[df.cmdb_id == host][df.name == kpi]\n"
     ]
    },
    {
     "name": "stdout",
     "output_type": "stream",
     "text": [
      "Threshold  0.5794211215187942 Memory_available_pct\n",
      "Threshold  2.0305931106794377 Incoming_network_traffic\n",
      "Threshold  -1.0 Zombie_Process\n",
      "Threshold  0.5456950148758349 Recv_total\n"
     ]
    },
    {
     "name": "stderr",
     "output_type": "stream",
     "text": [
      "<ipython-input-82-dcc1e2084555>:27: UserWarning: Boolean Series key will be reindexed to match DataFrame index.\n",
      "  df_hk = df[df.cmdb_id == host][df.name == kpi]\n",
      "<ipython-input-82-dcc1e2084555>:27: UserWarning: Boolean Series key will be reindexed to match DataFrame index.\n",
      "  df_hk = df[df.cmdb_id == host][df.name == kpi]\n",
      "<ipython-input-82-dcc1e2084555>:27: UserWarning: Boolean Series key will be reindexed to match DataFrame index.\n",
      "  df_hk = df[df.cmdb_id == host][df.name == kpi]\n",
      "<ipython-input-82-dcc1e2084555>:27: UserWarning: Boolean Series key will be reindexed to match DataFrame index.\n",
      "  df_hk = df[df.cmdb_id == host][df.name == kpi]\n"
     ]
    },
    {
     "name": "stdout",
     "output_type": "stream",
     "text": [
      "Threshold  0.4932831287868921 Page_po\n",
      "Threshold  0.5791199200565548 CPU_idle_pct\n",
      "Threshold  2.172648926656233 Processor_load_1_min\n",
      "Threshold  nan Agent_ping\n"
     ]
    },
    {
     "name": "stderr",
     "output_type": "stream",
     "text": [
      "<ipython-input-82-dcc1e2084555>:27: UserWarning: Boolean Series key will be reindexed to match DataFrame index.\n",
      "  df_hk = df[df.cmdb_id == host][df.name == kpi]\n",
      "<ipython-input-82-dcc1e2084555>:27: UserWarning: Boolean Series key will be reindexed to match DataFrame index.\n",
      "  df_hk = df[df.cmdb_id == host][df.name == kpi]\n",
      "<ipython-input-82-dcc1e2084555>:27: UserWarning: Boolean Series key will be reindexed to match DataFrame index.\n",
      "  df_hk = df[df.cmdb_id == host][df.name == kpi]\n",
      "<ipython-input-82-dcc1e2084555>:27: UserWarning: Boolean Series key will be reindexed to match DataFrame index.\n",
      "  df_hk = df[df.cmdb_id == host][df.name == kpi]\n"
     ]
    },
    {
     "name": "stdout",
     "output_type": "stream",
     "text": [
      "NaN, Skipping!\n",
      "Threshold  0.6892385998389359 Num_of_running_processes\n",
      "Threshold  0.6022530407326858 ss_total\n",
      "Threshold  1.6509116654468288 Processor_load_15_min\n",
      "Threshold  -1.0 Page_pi\n",
      "Threshold "
     ]
    },
    {
     "name": "stderr",
     "output_type": "stream",
     "text": [
      "<ipython-input-82-dcc1e2084555>:27: UserWarning: Boolean Series key will be reindexed to match DataFrame index.\n",
      "  df_hk = df[df.cmdb_id == host][df.name == kpi]\n",
      "<ipython-input-82-dcc1e2084555>:27: UserWarning: Boolean Series key will be reindexed to match DataFrame index.\n",
      "  df_hk = df[df.cmdb_id == host][df.name == kpi]\n",
      "<ipython-input-82-dcc1e2084555>:27: UserWarning: Boolean Series key will be reindexed to match DataFrame index.\n",
      "  df_hk = df[df.cmdb_id == host][df.name == kpi]\n",
      "<ipython-input-82-dcc1e2084555>:27: UserWarning: Boolean Series key will be reindexed to match DataFrame index.\n",
      "  df_hk = df[df.cmdb_id == host][df.name == kpi]\n"
     ]
    },
    {
     "name": "stdout",
     "output_type": "stream",
     "text": [
      " 6.601257271384813 Disk_avgqu_sz\n",
      "Threshold  2.450961981243122 Disk_wr_kbs\n",
      "Threshold  2.851637780865678 Disk_await\n",
      "Threshold  -1.0 Shared_memory\n",
      "Threshold  1.092738810178316 CPU_user_time\n"
     ]
    },
    {
     "name": "stderr",
     "output_type": "stream",
     "text": [
      "<ipython-input-82-dcc1e2084555>:27: UserWarning: Boolean Series key will be reindexed to match DataFrame index.\n",
      "  df_hk = df[df.cmdb_id == host][df.name == kpi]\n",
      "<ipython-input-82-dcc1e2084555>:27: UserWarning: Boolean Series key will be reindexed to match DataFrame index.\n",
      "  df_hk = df[df.cmdb_id == host][df.name == kpi]\n",
      "<ipython-input-82-dcc1e2084555>:27: UserWarning: Boolean Series key will be reindexed to match DataFrame index.\n",
      "  df_hk = df[df.cmdb_id == host][df.name == kpi]\n",
      "/Users/baconbaker/anaconda3/envs/ml/lib/python3.8/site-packages/alibi_detect/od/sr.py:96: RuntimeWarning: divide by zero encountered in log\n",
      "  log_amp = np.log(amp)\n",
      "/Users/baconbaker/anaconda3/envs/ml/lib/python3.8/site-packages/alibi_detect/od/sr.py:99: RuntimeWarning: invalid value encountered in subtract\n",
      "  res_amp = log_amp - ma_log_amp\n",
      "/Users/baconbaker/anaconda3/envs/ml/lib/python3.8/site-packages/alibi_detect/od/sr.py:207: RuntimeWarning: invalid value encountered in greater\n",
      "  outlier_pred = (iscore > self.threshold).astype(int)\n",
      "<ipython-input-82-dcc1e2084555>:27: UserWarning: Boolean Series key will be reindexed to match DataFrame index.\n",
      "  df_hk = df[df.cmdb_id == host][df.name == kpi]\n",
      "<ipython-input-82-dcc1e2084555>:27: UserWarning: Boolean Series key will be reindexed to match DataFrame index.\n",
      "  df_hk = df[df.cmdb_id == host][df.name == kpi]\n"
     ]
    },
    {
     "name": "stdout",
     "output_type": "stream",
     "text": [
      "Threshold  0.7076358089304013 Disk_svctm\n",
      "Threshold  0.6866936133530567 Disk_wr_ios\n",
      "[0 1 0 1 0 0 0 0 1 1 0 1 0 0 0 0 0 1 1 1 1 0 1 0 1 0 1 1 1 1]\n",
      "ST Threshold Anomaly!\n",
      "Threshold  0.5795416781676901 Memory_used_pct\n",
      "Threshold  7.701563839873312 CPU_iowait_time\n",
      "Threshold  0.9146392228697188 System_wait_queue_length\n"
     ]
    },
    {
     "name": "stderr",
     "output_type": "stream",
     "text": [
      "<ipython-input-82-dcc1e2084555>:27: UserWarning: Boolean Series key will be reindexed to match DataFrame index.\n",
      "  df_hk = df[df.cmdb_id == host][df.name == kpi]\n",
      "/Users/baconbaker/anaconda3/envs/ml/lib/python3.8/site-packages/alibi_detect/od/sr.py:96: RuntimeWarning: divide by zero encountered in log\n",
      "  log_amp = np.log(amp)\n",
      "/Users/baconbaker/anaconda3/envs/ml/lib/python3.8/site-packages/alibi_detect/od/sr.py:99: RuntimeWarning: invalid value encountered in subtract\n",
      "  res_amp = log_amp - ma_log_amp\n",
      "/Users/baconbaker/anaconda3/envs/ml/lib/python3.8/site-packages/alibi_detect/od/sr.py:207: RuntimeWarning: invalid value encountered in greater\n",
      "  outlier_pred = (iscore > self.threshold).astype(int)\n",
      "<ipython-input-82-dcc1e2084555>:27: UserWarning: Boolean Series key will be reindexed to match DataFrame index.\n",
      "  df_hk = df[df.cmdb_id == host][df.name == kpi]\n",
      "<ipython-input-82-dcc1e2084555>:27: UserWarning: Boolean Series key will be reindexed to match DataFrame index.\n",
      "  df_hk = df[df.cmdb_id == host][df.name == kpi]\n",
      "<ipython-input-82-dcc1e2084555>:27: UserWarning: Boolean Series key will be reindexed to match DataFrame index.\n",
      "  df_hk = df[df.cmdb_id == host][df.name == kpi]\n",
      "<ipython-input-82-dcc1e2084555>:27: UserWarning: Boolean Series key will be reindexed to match DataFrame index.\n",
      "  df_hk = df[df.cmdb_id == host][df.name == kpi]\n"
     ]
    },
    {
     "name": "stdout",
     "output_type": "stream",
     "text": [
      "Threshold  0.5386360169585175 CPU_system_time\n",
      "Threshold  -1.0 Disk_rd_kbs\n",
      "Threshold  0.5780687185603302 Memory_available\n",
      "Threshold  0.5811082253792533 Memory_used\n",
      "Threshold  nan System_block_queue_length\n"
     ]
    },
    {
     "name": "stderr",
     "output_type": "stream",
     "text": [
      "<ipython-input-82-dcc1e2084555>:27: UserWarning: Boolean Series key will be reindexed to match DataFrame index.\n",
      "  df_hk = df[df.cmdb_id == host][df.name == kpi]\n",
      "<ipython-input-82-dcc1e2084555>:27: UserWarning: Boolean Series key will be reindexed to match DataFrame index.\n",
      "  df_hk = df[df.cmdb_id == host][df.name == kpi]\n",
      "<ipython-input-82-dcc1e2084555>:27: UserWarning: Boolean Series key will be reindexed to match DataFrame index.\n",
      "  df_hk = df[df.cmdb_id == host][df.name == kpi]\n",
      "<ipython-input-82-dcc1e2084555>:27: UserWarning: Boolean Series key will be reindexed to match DataFrame index.\n",
      "  df_hk = df[df.cmdb_id == host][df.name == kpi]\n",
      "<ipython-input-82-dcc1e2084555>:27: UserWarning: Boolean Series key will be reindexed to match DataFrame index.\n",
      "  df_hk = df[df.cmdb_id == host][df.name == kpi]\n"
     ]
    },
    {
     "name": "stdout",
     "output_type": "stream",
     "text": [
      "NaN, Skipping!\n",
      "Threshold  0.6256681081626579 Received_packets\n",
      "[1 0 0 0 0 0 0 0 0 0 0 0 0 0 0 0 0 0 0 0 0 0 0 0 1 1 1 1 1 1]\n",
      "ST Threshold Anomaly!\n",
      "Threshold  -1.0 Received_errors_packets\n",
      "Threshold  0.5730665118003746 Memory_free\n"
     ]
    },
    {
     "name": "stderr",
     "output_type": "stream",
     "text": [
      "<ipython-input-82-dcc1e2084555>:27: UserWarning: Boolean Series key will be reindexed to match DataFrame index.\n",
      "  df_hk = df[df.cmdb_id == host][df.name == kpi]\n",
      "<ipython-input-82-dcc1e2084555>:27: UserWarning: Boolean Series key will be reindexed to match DataFrame index.\n",
      "  df_hk = df[df.cmdb_id == host][df.name == kpi]\n",
      "<ipython-input-82-dcc1e2084555>:27: UserWarning: Boolean Series key will be reindexed to match DataFrame index.\n",
      "  df_hk = df[df.cmdb_id == host][df.name == kpi]\n"
     ]
    },
    {
     "name": "stdout",
     "output_type": "stream",
     "text": [
      "Threshold  0.5744634177335483 Sent_queue\n",
      "Threshold  0.5800233760156733 Cache_used\n",
      "Threshold  2.6606262082740795 Received_queue\n"
     ]
    },
    {
     "name": "stderr",
     "output_type": "stream",
     "text": [
      "<ipython-input-82-dcc1e2084555>:27: UserWarning: Boolean Series key will be reindexed to match DataFrame index.\n",
      "  df_hk = df[df.cmdb_id == host][df.name == kpi]\n",
      "<ipython-input-82-dcc1e2084555>:27: UserWarning: Boolean Series key will be reindexed to match DataFrame index.\n",
      "  df_hk = df[df.cmdb_id == host][df.name == kpi]\n",
      "<ipython-input-82-dcc1e2084555>:27: UserWarning: Boolean Series key will be reindexed to match DataFrame index.\n",
      "  df_hk = df[df.cmdb_id == host][df.name == kpi]\n",
      "/Users/baconbaker/anaconda3/envs/ml/lib/python3.8/site-packages/alibi_detect/od/sr.py:96: RuntimeWarning: divide by zero encountered in log\n",
      "  log_amp = np.log(amp)\n",
      "/Users/baconbaker/anaconda3/envs/ml/lib/python3.8/site-packages/alibi_detect/od/sr.py:99: RuntimeWarning: invalid value encountered in subtract\n",
      "  res_amp = log_amp - ma_log_amp\n",
      "/Users/baconbaker/anaconda3/envs/ml/lib/python3.8/site-packages/alibi_detect/od/sr.py:207: RuntimeWarning: invalid value encountered in greater\n",
      "  outlier_pred = (iscore > self.threshold).astype(int)\n",
      "<ipython-input-82-dcc1e2084555>:27: UserWarning: Boolean Series key will be reindexed to match DataFrame index.\n",
      "  df_hk = df[df.cmdb_id == host][df.name == kpi]\n",
      "<ipython-input-82-dcc1e2084555>:27: UserWarning: Boolean Series key will be reindexed to match DataFrame index.\n",
      "  df_hk = df[df.cmdb_id == host][df.name == kpi]\n",
      "<ipython-input-82-dcc1e2084555>:27: UserWarning: Boolean Series key will be reindexed to match DataFrame index.\n",
      "  df_hk = df[df.cmdb_id == host][df.name == kpi]\n"
     ]
    },
    {
     "name": "stdout",
     "output_type": "stream",
     "text": [
      "Threshold  nan Buffers_used\n",
      "NaN, Skipping!\n",
      "Threshold  0.5793024552732774 FS_used_space\n",
      "Threshold  0.6281132503633253 Sent_packets\n",
      "[1 0 0 0 0 0 0 0 0 0 0 0 0 0 0 0 0 0 0 0 0 0 0 0 1 1 1 1 1 1]\n",
      "ST Threshold Anomaly!\n",
      "Threshold  0.5792183792960337 FS_used_pct\n",
      "Threshold  nan FS_total_space\n",
      "NaN, Skipping!\n",
      "Threshold  nan FS_max_util\n",
      "NaN, Skipping!\n",
      "Threshold  nan ICMP_ping\n",
      "NaN, Skipping!"
     ]
    },
    {
     "name": "stderr",
     "output_type": "stream",
     "text": [
      "<ipython-input-82-dcc1e2084555>:27: UserWarning: Boolean Series key will be reindexed to match DataFrame index.\n",
      "  df_hk = df[df.cmdb_id == host][df.name == kpi]\n",
      "/Users/baconbaker/anaconda3/envs/ml/lib/python3.8/site-packages/alibi_detect/od/sr.py:96: RuntimeWarning: divide by zero encountered in log\n",
      "  log_amp = np.log(amp)\n",
      "/Users/baconbaker/anaconda3/envs/ml/lib/python3.8/site-packages/alibi_detect/od/sr.py:99: RuntimeWarning: invalid value encountered in subtract\n",
      "  res_amp = log_amp - ma_log_amp\n",
      "/Users/baconbaker/anaconda3/envs/ml/lib/python3.8/site-packages/alibi_detect/od/sr.py:207: RuntimeWarning: invalid value encountered in greater\n",
      "  outlier_pred = (iscore > self.threshold).astype(int)\n",
      "<ipython-input-82-dcc1e2084555>:27: UserWarning: Boolean Series key will be reindexed to match DataFrame index.\n",
      "  df_hk = df[df.cmdb_id == host][df.name == kpi]\n",
      "<ipython-input-82-dcc1e2084555>:27: UserWarning: Boolean Series key will be reindexed to match DataFrame index.\n",
      "  df_hk = df[df.cmdb_id == host][df.name == kpi]\n",
      "<ipython-input-82-dcc1e2084555>:27: UserWarning: Boolean Series key will be reindexed to match DataFrame index.\n",
      "  df_hk = df[df.cmdb_id == host][df.name == kpi]\n"
     ]
    },
    {
     "name": "stdout",
     "output_type": "stream",
     "text": [
      "\n",
      "Threshold  0.5787149924886761 FS_max_avail\n",
      "Threshold  -1.0 Swap_used_pct\n",
      "Threshold  nan Memory_total\n",
      "NaN, Skipping!\n",
      "os_001  completed in  3.035961866378784\n",
      "************************************************************\n",
      "Checking  os_011\n",
      "Threshold  -1.0 Sent_errors_packets\n"
     ]
    },
    {
     "name": "stderr",
     "output_type": "stream",
     "text": [
      "<ipython-input-82-dcc1e2084555>:27: UserWarning: Boolean Series key will be reindexed to match DataFrame index.\n",
      "  df_hk = df[df.cmdb_id == host][df.name == kpi]\n",
      "<ipython-input-82-dcc1e2084555>:27: UserWarning: Boolean Series key will be reindexed to match DataFrame index.\n",
      "  df_hk = df[df.cmdb_id == host][df.name == kpi]\n",
      "<ipython-input-82-dcc1e2084555>:27: UserWarning: Boolean Series key will be reindexed to match DataFrame index.\n",
      "  df_hk = df[df.cmdb_id == host][df.name == kpi]\n",
      "<ipython-input-82-dcc1e2084555>:27: UserWarning: Boolean Series key will be reindexed to match DataFrame index.\n",
      "  df_hk = df[df.cmdb_id == host][df.name == kpi]\n",
      "<ipython-input-82-dcc1e2084555>:27: UserWarning: Boolean Series key will be reindexed to match DataFrame index.\n",
      "  df_hk = df[df.cmdb_id == host][df.name == kpi]\n"
     ]
    },
    {
     "name": "stdout",
     "output_type": "stream",
     "text": [
      "Threshold  5.618023221905498 Processor_load_5_min\n",
      "[0 0 0 0 0 0 0 0 0 0 0 0 0 0 0 0 0 0 0 0 1 0 0 0 0 0 0 0 0 0]\n",
      "ST Threshold Anomaly!\n",
      "Threshold  -1.0 Disk_rd_ios\n",
      "Threshold  0.6282596109491871 CPU_util_pct\n",
      "Threshold  0.7737523264798423 Disk_io_util\n"
     ]
    },
    {
     "name": "stderr",
     "output_type": "stream",
     "text": [
      "<ipython-input-82-dcc1e2084555>:27: UserWarning: Boolean Series key will be reindexed to match DataFrame index.\n",
      "  df_hk = df[df.cmdb_id == host][df.name == kpi]\n",
      "<ipython-input-82-dcc1e2084555>:27: UserWarning: Boolean Series key will be reindexed to match DataFrame index.\n",
      "  df_hk = df[df.cmdb_id == host][df.name == kpi]\n",
      "<ipython-input-82-dcc1e2084555>:27: UserWarning: Boolean Series key will be reindexed to match DataFrame index.\n",
      "  df_hk = df[df.cmdb_id == host][df.name == kpi]\n",
      "/Users/baconbaker/anaconda3/envs/ml/lib/python3.8/site-packages/alibi_detect/od/sr.py:96: RuntimeWarning: divide by zero encountered in log\n",
      "  log_amp = np.log(amp)\n",
      "/Users/baconbaker/anaconda3/envs/ml/lib/python3.8/site-packages/alibi_detect/od/sr.py:99: RuntimeWarning: invalid value encountered in subtract\n",
      "  res_amp = log_amp - ma_log_amp\n",
      "/Users/baconbaker/anaconda3/envs/ml/lib/python3.8/site-packages/alibi_detect/od/sr.py:207: RuntimeWarning: invalid value encountered in greater\n",
      "  outlier_pred = (iscore > self.threshold).astype(int)\n",
      "<ipython-input-82-dcc1e2084555>:27: UserWarning: Boolean Series key will be reindexed to match DataFrame index.\n",
      "  df_hk = df[df.cmdb_id == host][df.name == kpi]\n"
     ]
    },
    {
     "name": "stdout",
     "output_type": "stream",
     "text": [
      "Threshold  0.5773778529032348 Num_of_processes\n",
      "Threshold  0.8264771393610443 Send_total\n",
      "Threshold  -1.0 Outgoing_network_traffic\n",
      "Threshold  0.5796309753058008 Memory_available_pct\n"
     ]
    },
    {
     "name": "stderr",
     "output_type": "stream",
     "text": [
      "/Users/baconbaker/anaconda3/envs/ml/lib/python3.8/site-packages/alibi_detect/od/sr.py:96: RuntimeWarning: divide by zero encountered in log\n",
      "  log_amp = np.log(amp)\n",
      "/Users/baconbaker/anaconda3/envs/ml/lib/python3.8/site-packages/alibi_detect/od/sr.py:99: RuntimeWarning: invalid value encountered in subtract\n",
      "  res_amp = log_amp - ma_log_amp\n",
      "/Users/baconbaker/anaconda3/envs/ml/lib/python3.8/site-packages/alibi_detect/od/sr.py:207: RuntimeWarning: invalid value encountered in greater\n",
      "  outlier_pred = (iscore > self.threshold).astype(int)\n",
      "<ipython-input-82-dcc1e2084555>:27: UserWarning: Boolean Series key will be reindexed to match DataFrame index.\n",
      "  df_hk = df[df.cmdb_id == host][df.name == kpi]\n",
      "<ipython-input-82-dcc1e2084555>:27: UserWarning: Boolean Series key will be reindexed to match DataFrame index.\n",
      "  df_hk = df[df.cmdb_id == host][df.name == kpi]\n",
      "<ipython-input-82-dcc1e2084555>:27: UserWarning: Boolean Series key will be reindexed to match DataFrame index.\n",
      "  df_hk = df[df.cmdb_id == host][df.name == kpi]\n",
      "<ipython-input-82-dcc1e2084555>:27: UserWarning: Boolean Series key will be reindexed to match DataFrame index.\n",
      "  df_hk = df[df.cmdb_id == host][df.name == kpi]\n"
     ]
    },
    {
     "name": "stdout",
     "output_type": "stream",
     "text": [
      "Threshold  -1.0 Incoming_network_traffic\n",
      "Threshold  -1.0 Zombie_Process\n",
      "Threshold  0.5834822264835192 Recv_total\n",
      "Threshold  0.5749820106806776 Page_po\n"
     ]
    },
    {
     "name": "stderr",
     "output_type": "stream",
     "text": [
      "<ipython-input-82-dcc1e2084555>:27: UserWarning: Boolean Series key will be reindexed to match DataFrame index.\n",
      "  df_hk = df[df.cmdb_id == host][df.name == kpi]\n",
      "<ipython-input-82-dcc1e2084555>:27: UserWarning: Boolean Series key will be reindexed to match DataFrame index.\n",
      "  df_hk = df[df.cmdb_id == host][df.name == kpi]\n",
      "<ipython-input-82-dcc1e2084555>:27: UserWarning: Boolean Series key will be reindexed to match DataFrame index.\n",
      "  df_hk = df[df.cmdb_id == host][df.name == kpi]\n",
      "<ipython-input-82-dcc1e2084555>:27: UserWarning: Boolean Series key will be reindexed to match DataFrame index.\n",
      "  df_hk = df[df.cmdb_id == host][df.name == kpi]\n"
     ]
    },
    {
     "name": "stdout",
     "output_type": "stream",
     "text": [
      "Threshold  0.5799865512695983 CPU_idle_pct\n",
      "Threshold  9.899303383549386 Processor_load_1_min\n",
      "[0 0 0 0 0 0 0 0 0 0 0 0 0 0 0 0 0 0 0 0 1 0 0 0 0 0 0 0 0 0]\n",
      "ST Threshold Anomaly!\n",
      "Threshold  nan Agent_ping\n",
      "NaN, Skipping!\n",
      "Threshold  nan Num_of_running_processes\n",
      "NaN, Skipping!"
     ]
    },
    {
     "name": "stderr",
     "output_type": "stream",
     "text": [
      "<ipython-input-82-dcc1e2084555>:27: UserWarning: Boolean Series key will be reindexed to match DataFrame index.\n",
      "  df_hk = df[df.cmdb_id == host][df.name == kpi]\n",
      "<ipython-input-82-dcc1e2084555>:27: UserWarning: Boolean Series key will be reindexed to match DataFrame index.\n",
      "  df_hk = df[df.cmdb_id == host][df.name == kpi]\n",
      "<ipython-input-82-dcc1e2084555>:27: UserWarning: Boolean Series key will be reindexed to match DataFrame index.\n",
      "  df_hk = df[df.cmdb_id == host][df.name == kpi]\n",
      "<ipython-input-82-dcc1e2084555>:27: UserWarning: Boolean Series key will be reindexed to match DataFrame index.\n",
      "  df_hk = df[df.cmdb_id == host][df.name == kpi]\n"
     ]
    },
    {
     "name": "stdout",
     "output_type": "stream",
     "text": [
      "\n",
      "Threshold  0.5915426579657838 ss_total\n",
      "Threshold  5.346914950185535 Processor_load_15_min\n",
      "Threshold  -1.0 Page_pi\n",
      "Threshold  1.3655074713061697 Disk_avgqu_sz\n",
      "Threshold  1.047514119934065 Disk_wr_kbs\n"
     ]
    },
    {
     "name": "stderr",
     "output_type": "stream",
     "text": [
      "<ipython-input-82-dcc1e2084555>:27: UserWarning: Boolean Series key will be reindexed to match DataFrame index.\n",
      "  df_hk = df[df.cmdb_id == host][df.name == kpi]\n",
      "<ipython-input-82-dcc1e2084555>:27: UserWarning: Boolean Series key will be reindexed to match DataFrame index.\n",
      "  df_hk = df[df.cmdb_id == host][df.name == kpi]\n",
      "<ipython-input-82-dcc1e2084555>:27: UserWarning: Boolean Series key will be reindexed to match DataFrame index.\n",
      "  df_hk = df[df.cmdb_id == host][df.name == kpi]\n",
      "<ipython-input-82-dcc1e2084555>:27: UserWarning: Boolean Series key will be reindexed to match DataFrame index.\n",
      "  df_hk = df[df.cmdb_id == host][df.name == kpi]\n"
     ]
    },
    {
     "name": "stdout",
     "output_type": "stream",
     "text": [
      "Threshold  1.8961645861126524 Disk_await\n",
      "Threshold  nan Shared_memory\n",
      "NaN, Skipping!\n",
      "Threshold  1.0188884316094295 CPU_user_time\n",
      "Threshold  0.7298841839617178 Disk_svctm\n"
     ]
    },
    {
     "name": "stderr",
     "output_type": "stream",
     "text": [
      "<ipython-input-82-dcc1e2084555>:27: UserWarning: Boolean Series key will be reindexed to match DataFrame index.\n",
      "  df_hk = df[df.cmdb_id == host][df.name == kpi]\n",
      "<ipython-input-82-dcc1e2084555>:27: UserWarning: Boolean Series key will be reindexed to match DataFrame index.\n",
      "  df_hk = df[df.cmdb_id == host][df.name == kpi]\n",
      "<ipython-input-82-dcc1e2084555>:27: UserWarning: Boolean Series key will be reindexed to match DataFrame index.\n",
      "  df_hk = df[df.cmdb_id == host][df.name == kpi]\n",
      "<ipython-input-82-dcc1e2084555>:27: UserWarning: Boolean Series key will be reindexed to match DataFrame index.\n",
      "  df_hk = df[df.cmdb_id == host][df.name == kpi]\n"
     ]
    },
    {
     "name": "stdout",
     "output_type": "stream",
     "text": [
      "[1 1 1 0 0 1 0 0 0 0 0 0 0 0 0 0 0 1 0 0 0 0 0 0 1 1 1 1 0 0]\n",
      "ST Threshold Anomaly!\n",
      "Threshold  0.5662860725057259 Disk_wr_ios\n",
      "Threshold  0.5807294948551006 Memory_used_pct\n",
      "Threshold  1.2559733508815616 CPU_iowait_time\n",
      "Threshold  3.0452398738853366 System_wait_queue_length\n"
     ]
    },
    {
     "name": "stderr",
     "output_type": "stream",
     "text": [
      "<ipython-input-82-dcc1e2084555>:27: UserWarning: Boolean Series key will be reindexed to match DataFrame index.\n",
      "  df_hk = df[df.cmdb_id == host][df.name == kpi]\n",
      "<ipython-input-82-dcc1e2084555>:27: UserWarning: Boolean Series key will be reindexed to match DataFrame index.\n",
      "  df_hk = df[df.cmdb_id == host][df.name == kpi]\n",
      "<ipython-input-82-dcc1e2084555>:27: UserWarning: Boolean Series key will be reindexed to match DataFrame index.\n",
      "  df_hk = df[df.cmdb_id == host][df.name == kpi]\n",
      "<ipython-input-82-dcc1e2084555>:27: UserWarning: Boolean Series key will be reindexed to match DataFrame index.\n",
      "  df_hk = df[df.cmdb_id == host][df.name == kpi]\n"
     ]
    },
    {
     "name": "stdout",
     "output_type": "stream",
     "text": [
      "Threshold  0.7547532185475501 CPU_system_time\n",
      "Threshold  -1.0 Disk_rd_kbs\n",
      "Threshold  0.5807181426614108 Memory_available\n",
      "Threshold  0.576501751026401 Memory_used\n"
     ]
    },
    {
     "name": "stderr",
     "output_type": "stream",
     "text": [
      "<ipython-input-82-dcc1e2084555>:27: UserWarning: Boolean Series key will be reindexed to match DataFrame index.\n",
      "  df_hk = df[df.cmdb_id == host][df.name == kpi]\n",
      "<ipython-input-82-dcc1e2084555>:27: UserWarning: Boolean Series key will be reindexed to match DataFrame index.\n",
      "  df_hk = df[df.cmdb_id == host][df.name == kpi]\n",
      "<ipython-input-82-dcc1e2084555>:27: UserWarning: Boolean Series key will be reindexed to match DataFrame index.\n",
      "  df_hk = df[df.cmdb_id == host][df.name == kpi]\n",
      "<ipython-input-82-dcc1e2084555>:27: UserWarning: Boolean Series key will be reindexed to match DataFrame index.\n",
      "  df_hk = df[df.cmdb_id == host][df.name == kpi]\n"
     ]
    },
    {
     "name": "stdout",
     "output_type": "stream",
     "text": [
      "Threshold  -1.0 System_block_queue_length\n",
      "Threshold  -1.0 Received_packets\n",
      "Threshold  -1.0 Received_errors_packets\n",
      "Threshold  0.5790702551808199 Memory_free\n"
     ]
    },
    {
     "name": "stderr",
     "output_type": "stream",
     "text": [
      "<ipython-input-82-dcc1e2084555>:27: UserWarning: Boolean Series key will be reindexed to match DataFrame index.\n",
      "  df_hk = df[df.cmdb_id == host][df.name == kpi]\n",
      "<ipython-input-82-dcc1e2084555>:27: UserWarning: Boolean Series key will be reindexed to match DataFrame index.\n",
      "  df_hk = df[df.cmdb_id == host][df.name == kpi]\n",
      "<ipython-input-82-dcc1e2084555>:27: UserWarning: Boolean Series key will be reindexed to match DataFrame index.\n",
      "  df_hk = df[df.cmdb_id == host][df.name == kpi]\n",
      "<ipython-input-82-dcc1e2084555>:27: UserWarning: Boolean Series key will be reindexed to match DataFrame index.\n",
      "  df_hk = df[df.cmdb_id == host][df.name == kpi]\n",
      "<ipython-input-82-dcc1e2084555>:27: UserWarning: Boolean Series key will be reindexed to match DataFrame index.\n",
      "  df_hk = df[df.cmdb_id == host][df.name == kpi]\n",
      "<ipython-input-82-dcc1e2084555>:27: UserWarning: Boolean Series key will be reindexed to match DataFrame index.\n",
      "  df_hk = df[df.cmdb_id == host][df.name == kpi]\n",
      "<ipython-input-82-dcc1e2084555>:27: UserWarning: Boolean Series key will be reindexed to match DataFrame index.\n",
      "  df_hk = df[df.cmdb_id == host][df.name == kpi]\n"
     ]
    },
    {
     "name": "stdout",
     "output_type": "stream",
     "text": [
      "Threshold  0.7002611397120817 Sent_queue\n",
      "Threshold  0.5795271646042198 Cache_used\n",
      "Threshold  -1.0 Received_queue\n",
      "Threshold  0.5806096184066838 Buffers_used\n"
     ]
    },
    {
     "name": "stderr",
     "output_type": "stream",
     "text": [
      "<ipython-input-82-dcc1e2084555>:27: UserWarning: Boolean Series key will be reindexed to match DataFrame index.\n",
      "  df_hk = df[df.cmdb_id == host][df.name == kpi]\n",
      "/Users/baconbaker/anaconda3/envs/ml/lib/python3.8/site-packages/alibi_detect/od/sr.py:96: RuntimeWarning: divide by zero encountered in log\n",
      "  log_amp = np.log(amp)\n",
      "/Users/baconbaker/anaconda3/envs/ml/lib/python3.8/site-packages/alibi_detect/od/sr.py:99: RuntimeWarning: invalid value encountered in subtract\n",
      "  res_amp = log_amp - ma_log_amp\n",
      "/Users/baconbaker/anaconda3/envs/ml/lib/python3.8/site-packages/alibi_detect/od/sr.py:207: RuntimeWarning: invalid value encountered in greater\n",
      "  outlier_pred = (iscore > self.threshold).astype(int)\n",
      "<ipython-input-82-dcc1e2084555>:27: UserWarning: Boolean Series key will be reindexed to match DataFrame index.\n",
      "  df_hk = df[df.cmdb_id == host][df.name == kpi]\n",
      "<ipython-input-82-dcc1e2084555>:27: UserWarning: Boolean Series key will be reindexed to match DataFrame index.\n",
      "  df_hk = df[df.cmdb_id == host][df.name == kpi]\n",
      "<ipython-input-82-dcc1e2084555>:27: UserWarning: Boolean Series key will be reindexed to match DataFrame index.\n",
      "  df_hk = df[df.cmdb_id == host][df.name == kpi]\n"
     ]
    },
    {
     "name": "stdout",
     "output_type": "stream",
     "text": [
      "Threshold  0.5786746593957239 FS_used_space\n",
      "Threshold  -1.0 Sent_packets\n",
      "Threshold  0.5787730521651682 FS_used_pct\n",
      "Threshold  nan FS_total_space\n",
      "NaN, Skipping!"
     ]
    },
    {
     "name": "stderr",
     "output_type": "stream",
     "text": [
      "<ipython-input-82-dcc1e2084555>:27: UserWarning: Boolean Series key will be reindexed to match DataFrame index.\n",
      "  df_hk = df[df.cmdb_id == host][df.name == kpi]\n",
      "<ipython-input-82-dcc1e2084555>:27: UserWarning: Boolean Series key will be reindexed to match DataFrame index.\n",
      "  df_hk = df[df.cmdb_id == host][df.name == kpi]\n",
      "<ipython-input-82-dcc1e2084555>:27: UserWarning: Boolean Series key will be reindexed to match DataFrame index.\n",
      "  df_hk = df[df.cmdb_id == host][df.name == kpi]\n",
      "<ipython-input-82-dcc1e2084555>:27: UserWarning: Boolean Series key will be reindexed to match DataFrame index.\n",
      "  df_hk = df[df.cmdb_id == host][df.name == kpi]\n"
     ]
    },
    {
     "name": "stdout",
     "output_type": "stream",
     "text": [
      "\n",
      "Threshold  nan FS_max_util\n",
      "NaN, Skipping!\n",
      "Threshold  nan ICMP_ping\n",
      "NaN, Skipping!\n",
      "Threshold  0.5790648306020605 FS_max_avail\n",
      "Threshold  -1.0 Swap_used_pct\n",
      "Threshold "
     ]
    },
    {
     "name": "stderr",
     "output_type": "stream",
     "text": [
      "<ipython-input-82-dcc1e2084555>:27: UserWarning: Boolean Series key will be reindexed to match DataFrame index.\n",
      "  df_hk = df[df.cmdb_id == host][df.name == kpi]\n",
      "<ipython-input-82-dcc1e2084555>:27: UserWarning: Boolean Series key will be reindexed to match DataFrame index.\n",
      "  df_hk = df[df.cmdb_id == host][df.name == kpi]\n",
      "<ipython-input-82-dcc1e2084555>:27: UserWarning: Boolean Series key will be reindexed to match DataFrame index.\n",
      "  df_hk = df[df.cmdb_id == host][df.name == kpi]\n",
      "<ipython-input-82-dcc1e2084555>:27: UserWarning: Boolean Series key will be reindexed to match DataFrame index.\n",
      "  df_hk = df[df.cmdb_id == host][df.name == kpi]\n"
     ]
    },
    {
     "name": "stdout",
     "output_type": "stream",
     "text": [
      " nan Memory_total\n",
      "NaN, Skipping!\n",
      "os_011  completed in  3.0437121391296387\n",
      "************************************************************\n",
      "Checking  os_010\n",
      "Threshold  -1.0 Sent_errors_packets\n",
      "Threshold  2.5481237738956084 Processor_load_5_min\n",
      "Threshold  -1.0 Disk_rd_ios\n",
      "Threshold "
     ]
    },
    {
     "name": "stderr",
     "output_type": "stream",
     "text": [
      "<ipython-input-82-dcc1e2084555>:27: UserWarning: Boolean Series key will be reindexed to match DataFrame index.\n",
      "  df_hk = df[df.cmdb_id == host][df.name == kpi]\n",
      "<ipython-input-82-dcc1e2084555>:27: UserWarning: Boolean Series key will be reindexed to match DataFrame index.\n",
      "  df_hk = df[df.cmdb_id == host][df.name == kpi]\n",
      "<ipython-input-82-dcc1e2084555>:27: UserWarning: Boolean Series key will be reindexed to match DataFrame index.\n",
      "  df_hk = df[df.cmdb_id == host][df.name == kpi]\n",
      "<ipython-input-82-dcc1e2084555>:27: UserWarning: Boolean Series key will be reindexed to match DataFrame index.\n",
      "  df_hk = df[df.cmdb_id == host][df.name == kpi]\n"
     ]
    },
    {
     "name": "stdout",
     "output_type": "stream",
     "text": [
      " 1.0559226503138344 CPU_util_pct\n",
      "Threshold  -1.0 Disk_io_util\n",
      "Threshold  0.5845767720434014 Num_of_processes\n",
      "Threshold  1.956079016623378 Send_total\n"
     ]
    },
    {
     "name": "stderr",
     "output_type": "stream",
     "text": [
      "<ipython-input-82-dcc1e2084555>:27: UserWarning: Boolean Series key will be reindexed to match DataFrame index.\n",
      "  df_hk = df[df.cmdb_id == host][df.name == kpi]\n",
      "<ipython-input-82-dcc1e2084555>:27: UserWarning: Boolean Series key will be reindexed to match DataFrame index.\n",
      "  df_hk = df[df.cmdb_id == host][df.name == kpi]\n",
      "<ipython-input-82-dcc1e2084555>:27: UserWarning: Boolean Series key will be reindexed to match DataFrame index.\n",
      "  df_hk = df[df.cmdb_id == host][df.name == kpi]\n",
      "<ipython-input-82-dcc1e2084555>:27: UserWarning: Boolean Series key will be reindexed to match DataFrame index.\n",
      "  df_hk = df[df.cmdb_id == host][df.name == kpi]\n"
     ]
    },
    {
     "name": "stdout",
     "output_type": "stream",
     "text": [
      "[0 1 0 0 0 0 1 0 0 0 0 0 0 0 0 0 0 0 0 0 0 0 1 0 0 0 1 0 0 0]\n",
      "ST Threshold Anomaly!\n",
      "Threshold  1.1398667694628593 Outgoing_network_traffic\n",
      "Threshold  0.5784565517056459 Memory_available_pct\n",
      "Threshold  1.6017178212571874 Incoming_network_traffic\n",
      "[0 1 0 0 0 0 1 0 0 0 0 0 0 0 0 0 0 0 0 0 0 1 0 0 0 0 1 0 0 0]\n",
      "ST Threshold Anomaly!\n",
      "Threshold  -1.0 Zombie_Process\n",
      "Threshold "
     ]
    },
    {
     "name": "stderr",
     "output_type": "stream",
     "text": [
      "<ipython-input-82-dcc1e2084555>:27: UserWarning: Boolean Series key will be reindexed to match DataFrame index.\n",
      "  df_hk = df[df.cmdb_id == host][df.name == kpi]\n",
      "<ipython-input-82-dcc1e2084555>:27: UserWarning: Boolean Series key will be reindexed to match DataFrame index.\n",
      "  df_hk = df[df.cmdb_id == host][df.name == kpi]\n",
      "<ipython-input-82-dcc1e2084555>:27: UserWarning: Boolean Series key will be reindexed to match DataFrame index.\n",
      "  df_hk = df[df.cmdb_id == host][df.name == kpi]\n",
      "<ipython-input-82-dcc1e2084555>:27: UserWarning: Boolean Series key will be reindexed to match DataFrame index.\n",
      "  df_hk = df[df.cmdb_id == host][df.name == kpi]\n"
     ]
    },
    {
     "name": "stdout",
     "output_type": "stream",
     "text": [
      " 0.8921956746566974 Recv_total\n",
      "[0 1 1 0 0 0 1 0 0 0 0 0 0 0 0 0 0 0 0 0 0 0 1 0 0 0 1 0 0 0]\n",
      "ST Threshold Anomaly!\n",
      "Threshold  0.621142152081121 Page_po\n",
      "Threshold  0.5793039006565857 CPU_idle_pct\n",
      "Threshold  3.075987940839293 Processor_load_1_min\n"
     ]
    },
    {
     "name": "stderr",
     "output_type": "stream",
     "text": [
      "<ipython-input-82-dcc1e2084555>:27: UserWarning: Boolean Series key will be reindexed to match DataFrame index.\n",
      "  df_hk = df[df.cmdb_id == host][df.name == kpi]\n",
      "<ipython-input-82-dcc1e2084555>:27: UserWarning: Boolean Series key will be reindexed to match DataFrame index.\n",
      "  df_hk = df[df.cmdb_id == host][df.name == kpi]\n",
      "<ipython-input-82-dcc1e2084555>:27: UserWarning: Boolean Series key will be reindexed to match DataFrame index.\n",
      "  df_hk = df[df.cmdb_id == host][df.name == kpi]\n",
      "<ipython-input-82-dcc1e2084555>:27: UserWarning: Boolean Series key will be reindexed to match DataFrame index.\n",
      "  df_hk = df[df.cmdb_id == host][df.name == kpi]\n",
      "<ipython-input-82-dcc1e2084555>:27: UserWarning: Boolean Series key will be reindexed to match DataFrame index.\n",
      "  df_hk = df[df.cmdb_id == host][df.name == kpi]\n"
     ]
    },
    {
     "name": "stdout",
     "output_type": "stream",
     "text": [
      "Threshold  nan Agent_ping\n",
      "NaN, Skipping!\n",
      "Threshold  0.49617132181064 Num_of_running_processes\n",
      "Threshold  0.5735405677278056 ss_total\n",
      "Threshold  2.4810993531205114 Processor_load_15_min\n",
      "Threshold  1.3122414582346922 Page_pi\n",
      "Threshold  13.470389806308134 Disk_avgqu_sz\n",
      "Threshold  3.8571525589597577 Disk_wr_kbs\n",
      "Threshold  -1.0 Disk_await\n",
      "Threshold  nan Shared_memory\n"
     ]
    },
    {
     "name": "stderr",
     "output_type": "stream",
     "text": [
      "<ipython-input-82-dcc1e2084555>:27: UserWarning: Boolean Series key will be reindexed to match DataFrame index.\n",
      "  df_hk = df[df.cmdb_id == host][df.name == kpi]\n",
      "/Users/baconbaker/anaconda3/envs/ml/lib/python3.8/site-packages/alibi_detect/od/sr.py:96: RuntimeWarning: divide by zero encountered in log\n",
      "  log_amp = np.log(amp)\n",
      "/Users/baconbaker/anaconda3/envs/ml/lib/python3.8/site-packages/alibi_detect/od/sr.py:99: RuntimeWarning: invalid value encountered in subtract\n",
      "  res_amp = log_amp - ma_log_amp\n",
      "/Users/baconbaker/anaconda3/envs/ml/lib/python3.8/site-packages/alibi_detect/od/sr.py:207: RuntimeWarning: invalid value encountered in greater\n",
      "  outlier_pred = (iscore > self.threshold).astype(int)\n",
      "<ipython-input-82-dcc1e2084555>:27: UserWarning: Boolean Series key will be reindexed to match DataFrame index.\n",
      "  df_hk = df[df.cmdb_id == host][df.name == kpi]\n",
      "<ipython-input-82-dcc1e2084555>:27: UserWarning: Boolean Series key will be reindexed to match DataFrame index.\n",
      "  df_hk = df[df.cmdb_id == host][df.name == kpi]\n",
      "<ipython-input-82-dcc1e2084555>:27: UserWarning: Boolean Series key will be reindexed to match DataFrame index.\n",
      "  df_hk = df[df.cmdb_id == host][df.name == kpi]\n",
      "<ipython-input-82-dcc1e2084555>:27: UserWarning: Boolean Series key will be reindexed to match DataFrame index.\n",
      "  df_hk = df[df.cmdb_id == host][df.name == kpi]\n"
     ]
    },
    {
     "name": "stdout",
     "output_type": "stream",
     "text": [
      "NaN, Skipping!\n",
      "Threshold  1.3631514915851928 CPU_user_time\n",
      "Threshold  -1.0 Disk_svctm\n",
      "Threshold  0.6469449334658849 Disk_wr_ios\n",
      "[1 0 1 0 1 0 1 0 1 0 1 0 1 0 0 0 0 0 1 1 0 1 0 1 0 1 0 1 1 1]\n",
      "ST Threshold Anomaly!\n",
      "Threshold  0.5825453880354413 Memory_used_pct\n",
      "Threshold  6.677276254548674 CPU_iowait_time\n"
     ]
    },
    {
     "name": "stderr",
     "output_type": "stream",
     "text": [
      "<ipython-input-82-dcc1e2084555>:27: UserWarning: Boolean Series key will be reindexed to match DataFrame index.\n",
      "  df_hk = df[df.cmdb_id == host][df.name == kpi]\n",
      "<ipython-input-82-dcc1e2084555>:27: UserWarning: Boolean Series key will be reindexed to match DataFrame index.\n",
      "  df_hk = df[df.cmdb_id == host][df.name == kpi]\n",
      "<ipython-input-82-dcc1e2084555>:27: UserWarning: Boolean Series key will be reindexed to match DataFrame index.\n",
      "  df_hk = df[df.cmdb_id == host][df.name == kpi]\n",
      "<ipython-input-82-dcc1e2084555>:27: UserWarning: Boolean Series key will be reindexed to match DataFrame index.\n",
      "  df_hk = df[df.cmdb_id == host][df.name == kpi]\n",
      "<ipython-input-82-dcc1e2084555>:27: UserWarning: Boolean Series key will be reindexed to match DataFrame index.\n",
      "  df_hk = df[df.cmdb_id == host][df.name == kpi]\n"
     ]
    },
    {
     "name": "stdout",
     "output_type": "stream",
     "text": [
      "Threshold  1.0017420674504227 System_wait_queue_length\n",
      "Threshold  1.789495227049555 CPU_system_time\n",
      "Threshold  1.11179764127907 Disk_rd_kbs\n",
      "Threshold  0.5796089402679601 Memory_available\n"
     ]
    },
    {
     "name": "stderr",
     "output_type": "stream",
     "text": [
      "<ipython-input-82-dcc1e2084555>:27: UserWarning: Boolean Series key will be reindexed to match DataFrame index.\n",
      "  df_hk = df[df.cmdb_id == host][df.name == kpi]\n",
      "<ipython-input-82-dcc1e2084555>:27: UserWarning: Boolean Series key will be reindexed to match DataFrame index.\n",
      "  df_hk = df[df.cmdb_id == host][df.name == kpi]\n",
      "<ipython-input-82-dcc1e2084555>:27: UserWarning: Boolean Series key will be reindexed to match DataFrame index.\n",
      "  df_hk = df[df.cmdb_id == host][df.name == kpi]\n",
      "/Users/baconbaker/anaconda3/envs/ml/lib/python3.8/site-packages/alibi_detect/od/sr.py:96: RuntimeWarning: divide by zero encountered in log\n",
      "  log_amp = np.log(amp)\n",
      "/Users/baconbaker/anaconda3/envs/ml/lib/python3.8/site-packages/alibi_detect/od/sr.py:99: RuntimeWarning: invalid value encountered in subtract\n",
      "  res_amp = log_amp - ma_log_amp\n",
      "/Users/baconbaker/anaconda3/envs/ml/lib/python3.8/site-packages/alibi_detect/od/sr.py:207: RuntimeWarning: invalid value encountered in greater\n",
      "  outlier_pred = (iscore > self.threshold).astype(int)\n",
      "<ipython-input-82-dcc1e2084555>:27: UserWarning: Boolean Series key will be reindexed to match DataFrame index.\n",
      "  df_hk = df[df.cmdb_id == host][df.name == kpi]\n"
     ]
    },
    {
     "name": "stdout",
     "output_type": "stream",
     "text": [
      "Threshold  0.5814973197950813 Memory_used\n",
      "Threshold  -1.0 System_block_queue_length\n",
      "Threshold  0.690967583093819 Received_packets\n",
      "Threshold  -1.0 Received_errors_packets\n"
     ]
    },
    {
     "name": "stderr",
     "output_type": "stream",
     "text": [
      "<ipython-input-82-dcc1e2084555>:27: UserWarning: Boolean Series key will be reindexed to match DataFrame index.\n",
      "  df_hk = df[df.cmdb_id == host][df.name == kpi]\n",
      "<ipython-input-82-dcc1e2084555>:27: UserWarning: Boolean Series key will be reindexed to match DataFrame index.\n",
      "  df_hk = df[df.cmdb_id == host][df.name == kpi]\n",
      "<ipython-input-82-dcc1e2084555>:27: UserWarning: Boolean Series key will be reindexed to match DataFrame index.\n",
      "  df_hk = df[df.cmdb_id == host][df.name == kpi]\n",
      "<ipython-input-82-dcc1e2084555>:27: UserWarning: Boolean Series key will be reindexed to match DataFrame index.\n",
      "  df_hk = df[df.cmdb_id == host][df.name == kpi]\n"
     ]
    },
    {
     "name": "stdout",
     "output_type": "stream",
     "text": [
      "Threshold  0.5781567260097932 Memory_free\n",
      "Threshold  0.6981089383226969 Sent_queue\n",
      "[1 1 1 1 1 1 1 1 0 0 0 0 0 0 0 0 0 0 0 0 0 0 0 0 1 1 1 1 1 1]\n",
      "ST Threshold Anomaly!\n",
      "Threshold  0.5807104265179648 Cache_used\n",
      "Threshold  -1.0 Received_queue\n"
     ]
    },
    {
     "name": "stderr",
     "output_type": "stream",
     "text": [
      "<ipython-input-82-dcc1e2084555>:27: UserWarning: Boolean Series key will be reindexed to match DataFrame index.\n",
      "  df_hk = df[df.cmdb_id == host][df.name == kpi]\n",
      "<ipython-input-82-dcc1e2084555>:27: UserWarning: Boolean Series key will be reindexed to match DataFrame index.\n",
      "  df_hk = df[df.cmdb_id == host][df.name == kpi]\n",
      "<ipython-input-82-dcc1e2084555>:27: UserWarning: Boolean Series key will be reindexed to match DataFrame index.\n",
      "  df_hk = df[df.cmdb_id == host][df.name == kpi]\n",
      "<ipython-input-82-dcc1e2084555>:27: UserWarning: Boolean Series key will be reindexed to match DataFrame index.\n",
      "  df_hk = df[df.cmdb_id == host][df.name == kpi]\n",
      "<ipython-input-82-dcc1e2084555>:27: UserWarning: Boolean Series key will be reindexed to match DataFrame index.\n",
      "  df_hk = df[df.cmdb_id == host][df.name == kpi]\n",
      "<ipython-input-82-dcc1e2084555>:27: UserWarning: Boolean Series key will be reindexed to match DataFrame index.\n",
      "  df_hk = df[df.cmdb_id == host][df.name == kpi]\n"
     ]
    },
    {
     "name": "stdout",
     "output_type": "stream",
     "text": [
      "Threshold  0.5796213188187482 Buffers_used\n",
      "Threshold  0.5791332784897861 FS_used_space\n",
      "Threshold  nan Sent_packets\n"
     ]
    },
    {
     "name": "stderr",
     "output_type": "stream",
     "text": [
      "<ipython-input-82-dcc1e2084555>:27: UserWarning: Boolean Series key will be reindexed to match DataFrame index.\n",
      "  df_hk = df[df.cmdb_id == host][df.name == kpi]\n",
      "<ipython-input-82-dcc1e2084555>:27: UserWarning: Boolean Series key will be reindexed to match DataFrame index.\n",
      "  df_hk = df[df.cmdb_id == host][df.name == kpi]\n",
      "/Users/baconbaker/anaconda3/envs/ml/lib/python3.8/site-packages/alibi_detect/od/sr.py:96: RuntimeWarning: divide by zero encountered in log\n",
      "  log_amp = np.log(amp)\n",
      "/Users/baconbaker/anaconda3/envs/ml/lib/python3.8/site-packages/alibi_detect/od/sr.py:99: RuntimeWarning: invalid value encountered in subtract\n",
      "  res_amp = log_amp - ma_log_amp\n",
      "/Users/baconbaker/anaconda3/envs/ml/lib/python3.8/site-packages/alibi_detect/od/sr.py:207: RuntimeWarning: invalid value encountered in greater\n",
      "  outlier_pred = (iscore > self.threshold).astype(int)\n",
      "<ipython-input-82-dcc1e2084555>:27: UserWarning: Boolean Series key will be reindexed to match DataFrame index.\n",
      "  df_hk = df[df.cmdb_id == host][df.name == kpi]\n"
     ]
    },
    {
     "name": "stdout",
     "output_type": "stream",
     "text": [
      "NaN, Skipping!\n",
      "Threshold  0.5791497884053899 FS_used_pct\n",
      "Threshold  nan FS_total_space\n",
      "NaN, Skipping!\n",
      "Threshold  nan FS_max_util\n",
      "NaN, Skipping!\n",
      "Threshold  nan ICMP_ping\n",
      "NaN, Skipping!\n",
      "Threshold  0.5776456097794463 FS_max_avail\n"
     ]
    },
    {
     "name": "stderr",
     "output_type": "stream",
     "text": [
      "<ipython-input-82-dcc1e2084555>:27: UserWarning: Boolean Series key will be reindexed to match DataFrame index.\n",
      "  df_hk = df[df.cmdb_id == host][df.name == kpi]\n",
      "<ipython-input-82-dcc1e2084555>:27: UserWarning: Boolean Series key will be reindexed to match DataFrame index.\n",
      "  df_hk = df[df.cmdb_id == host][df.name == kpi]\n",
      "<ipython-input-82-dcc1e2084555>:27: UserWarning: Boolean Series key will be reindexed to match DataFrame index.\n",
      "  df_hk = df[df.cmdb_id == host][df.name == kpi]\n",
      "<ipython-input-82-dcc1e2084555>:27: UserWarning: Boolean Series key will be reindexed to match DataFrame index.\n",
      "  df_hk = df[df.cmdb_id == host][df.name == kpi]\n"
     ]
    },
    {
     "name": "stdout",
     "output_type": "stream",
     "text": [
      "Threshold  -1.0 Swap_used_pct\n",
      "Threshold  nan Memory_total\n",
      "NaN, Skipping!\n",
      "os_010  completed in  3.0184943675994873\n",
      "************************************************************\n",
      "Checking  os_007\n",
      "Threshold  -1.0 Sent_errors_packets\n",
      "Threshold  6.2847066992387175 Processor_load_5_min\n"
     ]
    },
    {
     "name": "stderr",
     "output_type": "stream",
     "text": [
      "<ipython-input-82-dcc1e2084555>:27: UserWarning: Boolean Series key will be reindexed to match DataFrame index.\n",
      "  df_hk = df[df.cmdb_id == host][df.name == kpi]\n",
      "<ipython-input-82-dcc1e2084555>:27: UserWarning: Boolean Series key will be reindexed to match DataFrame index.\n",
      "  df_hk = df[df.cmdb_id == host][df.name == kpi]\n",
      "<ipython-input-82-dcc1e2084555>:27: UserWarning: Boolean Series key will be reindexed to match DataFrame index.\n",
      "  df_hk = df[df.cmdb_id == host][df.name == kpi]\n",
      "<ipython-input-82-dcc1e2084555>:27: UserWarning: Boolean Series key will be reindexed to match DataFrame index.\n",
      "  df_hk = df[df.cmdb_id == host][df.name == kpi]\n"
     ]
    },
    {
     "name": "stdout",
     "output_type": "stream",
     "text": [
      "Threshold  -1.0 Disk_rd_ios\n",
      "Threshold  1.6060464437005686 CPU_util_pct\n",
      "Threshold  -1.0 Disk_io_util\n",
      "Threshold  0.5793119700222741 Num_of_processes\n"
     ]
    },
    {
     "name": "stderr",
     "output_type": "stream",
     "text": [
      "<ipython-input-82-dcc1e2084555>:27: UserWarning: Boolean Series key will be reindexed to match DataFrame index.\n",
      "  df_hk = df[df.cmdb_id == host][df.name == kpi]\n",
      "<ipython-input-82-dcc1e2084555>:27: UserWarning: Boolean Series key will be reindexed to match DataFrame index.\n",
      "  df_hk = df[df.cmdb_id == host][df.name == kpi]\n",
      "<ipython-input-82-dcc1e2084555>:27: UserWarning: Boolean Series key will be reindexed to match DataFrame index.\n",
      "  df_hk = df[df.cmdb_id == host][df.name == kpi]\n"
     ]
    },
    {
     "name": "stdout",
     "output_type": "stream",
     "text": [
      "Threshold  1.7288095895152789 Send_total\n",
      "[1 0 0 0 1 0 0 0 0 0 0 0 0 0 0 0 0 0 0 1 0 0 0 0 1 0 0 0 0 0]\n",
      "ST Threshold Anomaly!\n",
      "Threshold  -1.0 Outgoing_network_traffic\n",
      "Threshold  0.5793738745977622 Memory_available_pct\n",
      "Threshold  -1.0 Incoming_network_traffic\n",
      "Threshold "
     ]
    },
    {
     "name": "stderr",
     "output_type": "stream",
     "text": [
      "<ipython-input-82-dcc1e2084555>:27: UserWarning: Boolean Series key will be reindexed to match DataFrame index.\n",
      "  df_hk = df[df.cmdb_id == host][df.name == kpi]\n",
      "<ipython-input-82-dcc1e2084555>:27: UserWarning: Boolean Series key will be reindexed to match DataFrame index.\n",
      "  df_hk = df[df.cmdb_id == host][df.name == kpi]\n",
      "<ipython-input-82-dcc1e2084555>:27: UserWarning: Boolean Series key will be reindexed to match DataFrame index.\n",
      "  df_hk = df[df.cmdb_id == host][df.name == kpi]\n",
      "/Users/baconbaker/anaconda3/envs/ml/lib/python3.8/site-packages/alibi_detect/od/sr.py:96: RuntimeWarning: divide by zero encountered in log\n",
      "  log_amp = np.log(amp)\n",
      "/Users/baconbaker/anaconda3/envs/ml/lib/python3.8/site-packages/alibi_detect/od/sr.py:99: RuntimeWarning: invalid value encountered in subtract\n",
      "  res_amp = log_amp - ma_log_amp\n",
      "/Users/baconbaker/anaconda3/envs/ml/lib/python3.8/site-packages/alibi_detect/od/sr.py:207: RuntimeWarning: invalid value encountered in greater\n",
      "  outlier_pred = (iscore > self.threshold).astype(int)\n",
      "<ipython-input-82-dcc1e2084555>:27: UserWarning: Boolean Series key will be reindexed to match DataFrame index.\n",
      "  df_hk = df[df.cmdb_id == host][df.name == kpi]\n",
      "<ipython-input-82-dcc1e2084555>:27: UserWarning: Boolean Series key will be reindexed to match DataFrame index.\n",
      "  df_hk = df[df.cmdb_id == host][df.name == kpi]\n"
     ]
    },
    {
     "name": "stdout",
     "output_type": "stream",
     "text": [
      " -1.0 Zombie_Process\n",
      "Threshold  0.8477093816945604 Recv_total\n",
      "[0 0 0 0 1 0 0 0 0 0 0 0 0 0 0 0 0 0 0 0 0 0 0 0 1 0 0 0 1 1]\n",
      "ST Threshold Anomaly!\n",
      "Threshold  0.5364992533452655 Page_po\n",
      "Threshold  0.5794661918267078 CPU_idle_pct\n",
      "Threshold  7.5405515220816435 Processor_load_1_min\n"
     ]
    },
    {
     "name": "stderr",
     "output_type": "stream",
     "text": [
      "<ipython-input-82-dcc1e2084555>:27: UserWarning: Boolean Series key will be reindexed to match DataFrame index.\n",
      "  df_hk = df[df.cmdb_id == host][df.name == kpi]\n",
      "<ipython-input-82-dcc1e2084555>:27: UserWarning: Boolean Series key will be reindexed to match DataFrame index.\n",
      "  df_hk = df[df.cmdb_id == host][df.name == kpi]\n",
      "<ipython-input-82-dcc1e2084555>:27: UserWarning: Boolean Series key will be reindexed to match DataFrame index.\n",
      "  df_hk = df[df.cmdb_id == host][df.name == kpi]\n",
      "<ipython-input-82-dcc1e2084555>:27: UserWarning: Boolean Series key will be reindexed to match DataFrame index.\n",
      "  df_hk = df[df.cmdb_id == host][df.name == kpi]\n"
     ]
    },
    {
     "name": "stdout",
     "output_type": "stream",
     "text": [
      "Threshold  nan Agent_ping\n",
      "NaN, Skipping!\n",
      "Threshold  0.973575163470787 Num_of_running_processes\n",
      "Threshold  0.6307849517672579 ss_total\n",
      "[1 1 0 1 1 0 0 0 0 0 0 0 0 0 0 0 0 0 0 0 0 0 0 0 1 0 0 0 1 1]\n",
      "ST Threshold Anomaly!\n",
      "Threshold  1.5940556926850629 Processor_load_15_min\n"
     ]
    },
    {
     "name": "stderr",
     "output_type": "stream",
     "text": [
      "<ipython-input-82-dcc1e2084555>:27: UserWarning: Boolean Series key will be reindexed to match DataFrame index.\n",
      "  df_hk = df[df.cmdb_id == host][df.name == kpi]\n",
      "<ipython-input-82-dcc1e2084555>:27: UserWarning: Boolean Series key will be reindexed to match DataFrame index.\n",
      "  df_hk = df[df.cmdb_id == host][df.name == kpi]\n",
      "/Users/baconbaker/anaconda3/envs/ml/lib/python3.8/site-packages/alibi_detect/od/sr.py:96: RuntimeWarning: divide by zero encountered in log\n",
      "  log_amp = np.log(amp)\n",
      "/Users/baconbaker/anaconda3/envs/ml/lib/python3.8/site-packages/alibi_detect/od/sr.py:99: RuntimeWarning: invalid value encountered in subtract\n",
      "  res_amp = log_amp - ma_log_amp\n",
      "/Users/baconbaker/anaconda3/envs/ml/lib/python3.8/site-packages/alibi_detect/od/sr.py:207: RuntimeWarning: invalid value encountered in greater\n",
      "  outlier_pred = (iscore > self.threshold).astype(int)\n",
      "<ipython-input-82-dcc1e2084555>:27: UserWarning: Boolean Series key will be reindexed to match DataFrame index.\n",
      "  df_hk = df[df.cmdb_id == host][df.name == kpi]\n",
      "<ipython-input-82-dcc1e2084555>:27: UserWarning: Boolean Series key will be reindexed to match DataFrame index.\n",
      "  df_hk = df[df.cmdb_id == host][df.name == kpi]\n"
     ]
    },
    {
     "name": "stdout",
     "output_type": "stream",
     "text": [
      "Threshold  -1.0 Page_pi\n",
      "Threshold  5.20288202996381 Disk_avgqu_sz\n",
      "Threshold  4.743961806096189 Disk_wr_kbs\n",
      "Threshold  5.15161812645352 Disk_await\n"
     ]
    },
    {
     "name": "stderr",
     "output_type": "stream",
     "text": [
      "<ipython-input-82-dcc1e2084555>:27: UserWarning: Boolean Series key will be reindexed to match DataFrame index.\n",
      "  df_hk = df[df.cmdb_id == host][df.name == kpi]\n",
      "<ipython-input-82-dcc1e2084555>:27: UserWarning: Boolean Series key will be reindexed to match DataFrame index.\n",
      "  df_hk = df[df.cmdb_id == host][df.name == kpi]\n",
      "<ipython-input-82-dcc1e2084555>:27: UserWarning: Boolean Series key will be reindexed to match DataFrame index.\n",
      "  df_hk = df[df.cmdb_id == host][df.name == kpi]\n",
      "<ipython-input-82-dcc1e2084555>:27: UserWarning: Boolean Series key will be reindexed to match DataFrame index.\n",
      "  df_hk = df[df.cmdb_id == host][df.name == kpi]\n"
     ]
    },
    {
     "name": "stdout",
     "output_type": "stream",
     "text": [
      "Threshold  nan Shared_memory\n",
      "NaN, Skipping!\n",
      "Threshold  1.5156096910013797 CPU_user_time\n",
      "Threshold  6.051151739801973 Disk_svctm\n",
      "Threshold  3.0470979839813618e-09 Disk_wr_ios\n"
     ]
    },
    {
     "name": "stderr",
     "output_type": "stream",
     "text": [
      "<ipython-input-82-dcc1e2084555>:27: UserWarning: Boolean Series key will be reindexed to match DataFrame index.\n",
      "  df_hk = df[df.cmdb_id == host][df.name == kpi]\n",
      "<ipython-input-82-dcc1e2084555>:27: UserWarning: Boolean Series key will be reindexed to match DataFrame index.\n",
      "  df_hk = df[df.cmdb_id == host][df.name == kpi]\n",
      "<ipython-input-82-dcc1e2084555>:27: UserWarning: Boolean Series key will be reindexed to match DataFrame index.\n",
      "  df_hk = df[df.cmdb_id == host][df.name == kpi]\n",
      "<ipython-input-82-dcc1e2084555>:27: UserWarning: Boolean Series key will be reindexed to match DataFrame index.\n",
      "  df_hk = df[df.cmdb_id == host][df.name == kpi]\n",
      "/Users/baconbaker/anaconda3/envs/ml/lib/python3.8/site-packages/alibi_detect/od/sr.py:96: RuntimeWarning: divide by zero encountered in log\n",
      "  log_amp = np.log(amp)\n",
      "/Users/baconbaker/anaconda3/envs/ml/lib/python3.8/site-packages/alibi_detect/od/sr.py:99: RuntimeWarning: invalid value encountered in subtract\n",
      "  res_amp = log_amp - ma_log_amp\n",
      "/Users/baconbaker/anaconda3/envs/ml/lib/python3.8/site-packages/alibi_detect/od/sr.py:207: RuntimeWarning: invalid value encountered in greater\n",
      "  outlier_pred = (iscore > self.threshold).astype(int)\n",
      "<ipython-input-82-dcc1e2084555>:27: UserWarning: Boolean Series key will be reindexed to match DataFrame index.\n",
      "  df_hk = df[df.cmdb_id == host][df.name == kpi]\n",
      "/Users/baconbaker/anaconda3/envs/ml/lib/python3.8/site-packages/alibi_detect/od/sr.py:96: RuntimeWarning: divide by zero encountered in log\n",
      "  log_amp = np.log(amp)\n",
      "/Users/baconbaker/anaconda3/envs/ml/lib/python3.8/site-packages/alibi_detect/od/sr.py:99: RuntimeWarning: invalid value encountered in subtract\n",
      "  res_amp = log_amp - ma_log_amp\n",
      "/Users/baconbaker/anaconda3/envs/ml/lib/python3.8/site-packages/alibi_detect/od/sr.py:207: RuntimeWarning: invalid value encountered in greater\n",
      "  outlier_pred = (iscore > self.threshold).astype(int)\n",
      "<ipython-input-82-dcc1e2084555>:27: UserWarning: Boolean Series key will be reindexed to match DataFrame index.\n",
      "  df_hk = df[df.cmdb_id == host][df.name == kpi]\n",
      "<ipython-input-82-dcc1e2084555>:27: UserWarning: Boolean Series key will be reindexed to match DataFrame index.\n",
      "  df_hk = df[df.cmdb_id == host][df.name == kpi]\n",
      "<ipython-input-82-dcc1e2084555>:27: UserWarning: Boolean Series key will be reindexed to match DataFrame index.\n",
      "  df_hk = df[df.cmdb_id == host][df.name == kpi]\n"
     ]
    },
    {
     "name": "stdout",
     "output_type": "stream",
     "text": [
      "Threshold  0.5831163519380052 Memory_used_pct\n",
      "Threshold  2.6745032531452857 CPU_iowait_time\n",
      "Threshold  nan System_wait_queue_length\n",
      "NaN, Skipping!\n",
      "Threshold  1.8673079940084485 CPU_system_time\n",
      "Threshold  -1.0 Disk_rd_kbs\n",
      "Threshold  0.5801803921289476 Memory_available\n",
      "Threshold  0.5762798718272976 Memory_used\n",
      "Threshold  -1.0 System_block_queue_length\n",
      "Threshold "
     ]
    },
    {
     "name": "stderr",
     "output_type": "stream",
     "text": [
      "<ipython-input-82-dcc1e2084555>:27: UserWarning: Boolean Series key will be reindexed to match DataFrame index.\n",
      "  df_hk = df[df.cmdb_id == host][df.name == kpi]\n",
      "<ipython-input-82-dcc1e2084555>:27: UserWarning: Boolean Series key will be reindexed to match DataFrame index.\n",
      "  df_hk = df[df.cmdb_id == host][df.name == kpi]\n",
      "<ipython-input-82-dcc1e2084555>:27: UserWarning: Boolean Series key will be reindexed to match DataFrame index.\n",
      "  df_hk = df[df.cmdb_id == host][df.name == kpi]\n",
      "<ipython-input-82-dcc1e2084555>:27: UserWarning: Boolean Series key will be reindexed to match DataFrame index.\n",
      "  df_hk = df[df.cmdb_id == host][df.name == kpi]\n"
     ]
    },
    {
     "name": "stdout",
     "output_type": "stream",
     "text": [
      " -1.0 Received_packets\n",
      "Threshold  -1.0 Received_errors_packets\n",
      "Threshold  0.5808375157933494 Memory_free\n",
      "Threshold  1.4758163988963129 Sent_queue\n",
      "Threshold  0.5980357543401994 Cache_used\n"
     ]
    },
    {
     "name": "stderr",
     "output_type": "stream",
     "text": [
      "<ipython-input-82-dcc1e2084555>:27: UserWarning: Boolean Series key will be reindexed to match DataFrame index.\n",
      "  df_hk = df[df.cmdb_id == host][df.name == kpi]\n",
      "<ipython-input-82-dcc1e2084555>:27: UserWarning: Boolean Series key will be reindexed to match DataFrame index.\n",
      "  df_hk = df[df.cmdb_id == host][df.name == kpi]\n",
      "<ipython-input-82-dcc1e2084555>:27: UserWarning: Boolean Series key will be reindexed to match DataFrame index.\n",
      "  df_hk = df[df.cmdb_id == host][df.name == kpi]\n",
      "<ipython-input-82-dcc1e2084555>:27: UserWarning: Boolean Series key will be reindexed to match DataFrame index.\n",
      "  df_hk = df[df.cmdb_id == host][df.name == kpi]\n",
      "/Users/baconbaker/anaconda3/envs/ml/lib/python3.8/site-packages/alibi_detect/od/sr.py:96: RuntimeWarning: divide by zero encountered in log\n",
      "  log_amp = np.log(amp)\n",
      "/Users/baconbaker/anaconda3/envs/ml/lib/python3.8/site-packages/alibi_detect/od/sr.py:99: RuntimeWarning: invalid value encountered in subtract\n",
      "  res_amp = log_amp - ma_log_amp\n",
      "/Users/baconbaker/anaconda3/envs/ml/lib/python3.8/site-packages/alibi_detect/od/sr.py:207: RuntimeWarning: invalid value encountered in greater\n",
      "  outlier_pred = (iscore > self.threshold).astype(int)\n",
      "<ipython-input-82-dcc1e2084555>:27: UserWarning: Boolean Series key will be reindexed to match DataFrame index.\n",
      "  df_hk = df[df.cmdb_id == host][df.name == kpi]\n"
     ]
    },
    {
     "name": "stdout",
     "output_type": "stream",
     "text": [
      "Threshold  -1.0 Received_queue\n",
      "Threshold  0.5799115691105152 Buffers_used\n",
      "Threshold  0.5766868019849054 FS_used_space\n",
      "Threshold  -1.0 Sent_packets\n"
     ]
    },
    {
     "name": "stderr",
     "output_type": "stream",
     "text": [
      "<ipython-input-82-dcc1e2084555>:27: UserWarning: Boolean Series key will be reindexed to match DataFrame index.\n",
      "  df_hk = df[df.cmdb_id == host][df.name == kpi]\n",
      "<ipython-input-82-dcc1e2084555>:27: UserWarning: Boolean Series key will be reindexed to match DataFrame index.\n",
      "  df_hk = df[df.cmdb_id == host][df.name == kpi]\n",
      "/Users/baconbaker/anaconda3/envs/ml/lib/python3.8/site-packages/alibi_detect/od/sr.py:96: RuntimeWarning: divide by zero encountered in log\n",
      "  log_amp = np.log(amp)\n",
      "/Users/baconbaker/anaconda3/envs/ml/lib/python3.8/site-packages/alibi_detect/od/sr.py:99: RuntimeWarning: invalid value encountered in subtract\n",
      "  res_amp = log_amp - ma_log_amp\n",
      "/Users/baconbaker/anaconda3/envs/ml/lib/python3.8/site-packages/alibi_detect/od/sr.py:207: RuntimeWarning: invalid value encountered in greater\n",
      "  outlier_pred = (iscore > self.threshold).astype(int)\n",
      "<ipython-input-82-dcc1e2084555>:27: UserWarning: Boolean Series key will be reindexed to match DataFrame index.\n",
      "  df_hk = df[df.cmdb_id == host][df.name == kpi]\n",
      "<ipython-input-82-dcc1e2084555>:27: UserWarning: Boolean Series key will be reindexed to match DataFrame index.\n",
      "  df_hk = df[df.cmdb_id == host][df.name == kpi]\n",
      "<ipython-input-82-dcc1e2084555>:27: UserWarning: Boolean Series key will be reindexed to match DataFrame index.\n",
      "  df_hk = df[df.cmdb_id == host][df.name == kpi]\n",
      "/Users/baconbaker/anaconda3/envs/ml/lib/python3.8/site-packages/alibi_detect/od/sr.py:96: RuntimeWarning: divide by zero encountered in log\n",
      "  log_amp = np.log(amp)\n",
      "/Users/baconbaker/anaconda3/envs/ml/lib/python3.8/site-packages/alibi_detect/od/sr.py:99: RuntimeWarning: invalid value encountered in subtract\n",
      "  res_amp = log_amp - ma_log_amp\n",
      "/Users/baconbaker/anaconda3/envs/ml/lib/python3.8/site-packages/alibi_detect/od/sr.py:207: RuntimeWarning: invalid value encountered in greater\n",
      "  outlier_pred = (iscore > self.threshold).astype(int)\n",
      "<ipython-input-82-dcc1e2084555>:27: UserWarning: Boolean Series key will be reindexed to match DataFrame index.\n",
      "  df_hk = df[df.cmdb_id == host][df.name == kpi]\n",
      "<ipython-input-82-dcc1e2084555>:27: UserWarning: Boolean Series key will be reindexed to match DataFrame index.\n",
      "  df_hk = df[df.cmdb_id == host][df.name == kpi]\n"
     ]
    },
    {
     "name": "stdout",
     "output_type": "stream",
     "text": [
      "Threshold  0.5776615708584019 FS_used_pct\n",
      "Threshold  nan FS_total_space\n",
      "NaN, Skipping!\n",
      "Threshold  nan FS_max_util\n",
      "NaN, Skipping!"
     ]
    },
    {
     "name": "stderr",
     "output_type": "stream",
     "text": [
      "<ipython-input-82-dcc1e2084555>:27: UserWarning: Boolean Series key will be reindexed to match DataFrame index.\n",
      "  df_hk = df[df.cmdb_id == host][df.name == kpi]\n",
      "<ipython-input-82-dcc1e2084555>:27: UserWarning: Boolean Series key will be reindexed to match DataFrame index.\n",
      "  df_hk = df[df.cmdb_id == host][df.name == kpi]\n",
      "<ipython-input-82-dcc1e2084555>:27: UserWarning: Boolean Series key will be reindexed to match DataFrame index.\n",
      "  df_hk = df[df.cmdb_id == host][df.name == kpi]\n",
      "<ipython-input-82-dcc1e2084555>:27: UserWarning: Boolean Series key will be reindexed to match DataFrame index.\n",
      "  df_hk = df[df.cmdb_id == host][df.name == kpi]\n"
     ]
    },
    {
     "name": "stdout",
     "output_type": "stream",
     "text": [
      "\n",
      "Threshold  nan ICMP_ping\n",
      "NaN, Skipping!\n",
      "Threshold  0.5794687929595828 FS_max_avail\n",
      "Threshold  -1.0 Swap_used_pct\n",
      "Threshold  nan Memory_total\n",
      "No valid data to use, skipping\n",
      "os_007  completed in  2.941107988357544\n",
      "************************************************************\n",
      "Checking  os_018\n",
      "Threshold  -1.0 Sent_errors_packets\n",
      "Threshold  2.8587649741122347 Processor_load_5_min\n"
     ]
    },
    {
     "name": "stderr",
     "output_type": "stream",
     "text": [
      "<ipython-input-82-dcc1e2084555>:27: UserWarning: Boolean Series key will be reindexed to match DataFrame index.\n",
      "  df_hk = df[df.cmdb_id == host][df.name == kpi]\n",
      "<ipython-input-82-dcc1e2084555>:27: UserWarning: Boolean Series key will be reindexed to match DataFrame index.\n",
      "  df_hk = df[df.cmdb_id == host][df.name == kpi]\n",
      "<ipython-input-82-dcc1e2084555>:27: UserWarning: Boolean Series key will be reindexed to match DataFrame index.\n",
      "  df_hk = df[df.cmdb_id == host][df.name == kpi]\n",
      "<ipython-input-82-dcc1e2084555>:27: UserWarning: Boolean Series key will be reindexed to match DataFrame index.\n",
      "  df_hk = df[df.cmdb_id == host][df.name == kpi]\n"
     ]
    },
    {
     "name": "stdout",
     "output_type": "stream",
     "text": [
      "Threshold  -1.0 Disk_rd_ios\n",
      "Threshold  0.5436884343537981 CPU_util_pct\n",
      "Threshold  15.825857137440153 Disk_io_util\n",
      "Threshold  0.5786021488175713 Num_of_processes\n",
      "Threshold "
     ]
    },
    {
     "name": "stderr",
     "output_type": "stream",
     "text": [
      "/Users/baconbaker/anaconda3/envs/ml/lib/python3.8/site-packages/alibi_detect/od/sr.py:96: RuntimeWarning: divide by zero encountered in log\n",
      "  log_amp = np.log(amp)\n",
      "/Users/baconbaker/anaconda3/envs/ml/lib/python3.8/site-packages/alibi_detect/od/sr.py:99: RuntimeWarning: invalid value encountered in subtract\n",
      "  res_amp = log_amp - ma_log_amp\n",
      "/Users/baconbaker/anaconda3/envs/ml/lib/python3.8/site-packages/alibi_detect/od/sr.py:207: RuntimeWarning: invalid value encountered in greater\n",
      "  outlier_pred = (iscore > self.threshold).astype(int)\n",
      "<ipython-input-82-dcc1e2084555>:27: UserWarning: Boolean Series key will be reindexed to match DataFrame index.\n",
      "  df_hk = df[df.cmdb_id == host][df.name == kpi]\n",
      "<ipython-input-82-dcc1e2084555>:27: UserWarning: Boolean Series key will be reindexed to match DataFrame index.\n",
      "  df_hk = df[df.cmdb_id == host][df.name == kpi]\n",
      "<ipython-input-82-dcc1e2084555>:27: UserWarning: Boolean Series key will be reindexed to match DataFrame index.\n",
      "  df_hk = df[df.cmdb_id == host][df.name == kpi]\n",
      "<ipython-input-82-dcc1e2084555>:27: UserWarning: Boolean Series key will be reindexed to match DataFrame index.\n",
      "  df_hk = df[df.cmdb_id == host][df.name == kpi]\n"
     ]
    },
    {
     "name": "stdout",
     "output_type": "stream",
     "text": [
      " 0.7649836909555995 Send_total\n",
      "Threshold  -1.0 Outgoing_network_traffic\n",
      "Threshold  0.5791987089860069 Memory_available_pct\n",
      "Threshold  1.050697456789111 Incoming_network_traffic\n"
     ]
    },
    {
     "name": "stderr",
     "output_type": "stream",
     "text": [
      "<ipython-input-82-dcc1e2084555>:27: UserWarning: Boolean Series key will be reindexed to match DataFrame index.\n",
      "  df_hk = df[df.cmdb_id == host][df.name == kpi]\n",
      "/Users/baconbaker/anaconda3/envs/ml/lib/python3.8/site-packages/alibi_detect/od/sr.py:96: RuntimeWarning: divide by zero encountered in log\n",
      "  log_amp = np.log(amp)\n",
      "/Users/baconbaker/anaconda3/envs/ml/lib/python3.8/site-packages/alibi_detect/od/sr.py:99: RuntimeWarning: invalid value encountered in subtract\n",
      "  res_amp = log_amp - ma_log_amp\n",
      "/Users/baconbaker/anaconda3/envs/ml/lib/python3.8/site-packages/alibi_detect/od/sr.py:207: RuntimeWarning: invalid value encountered in greater\n",
      "  outlier_pred = (iscore > self.threshold).astype(int)\n",
      "<ipython-input-82-dcc1e2084555>:27: UserWarning: Boolean Series key will be reindexed to match DataFrame index.\n",
      "  df_hk = df[df.cmdb_id == host][df.name == kpi]\n",
      "<ipython-input-82-dcc1e2084555>:27: UserWarning: Boolean Series key will be reindexed to match DataFrame index.\n",
      "  df_hk = df[df.cmdb_id == host][df.name == kpi]\n",
      "<ipython-input-82-dcc1e2084555>:27: UserWarning: Boolean Series key will be reindexed to match DataFrame index.\n",
      "  df_hk = df[df.cmdb_id == host][df.name == kpi]\n"
     ]
    },
    {
     "name": "stdout",
     "output_type": "stream",
     "text": [
      "Threshold  2.8260919490068974 Zombie_Process\n",
      "Threshold  0.58056865549505 Recv_total\n",
      "Threshold  0.5803476455959872 Page_po\n",
      "Threshold  0.5830975343587195 CPU_idle_pct\n"
     ]
    },
    {
     "name": "stderr",
     "output_type": "stream",
     "text": [
      "<ipython-input-82-dcc1e2084555>:27: UserWarning: Boolean Series key will be reindexed to match DataFrame index.\n",
      "  df_hk = df[df.cmdb_id == host][df.name == kpi]\n",
      "<ipython-input-82-dcc1e2084555>:27: UserWarning: Boolean Series key will be reindexed to match DataFrame index.\n",
      "  df_hk = df[df.cmdb_id == host][df.name == kpi]\n",
      "<ipython-input-82-dcc1e2084555>:27: UserWarning: Boolean Series key will be reindexed to match DataFrame index.\n",
      "  df_hk = df[df.cmdb_id == host][df.name == kpi]\n",
      "<ipython-input-82-dcc1e2084555>:27: UserWarning: Boolean Series key will be reindexed to match DataFrame index.\n",
      "  df_hk = df[df.cmdb_id == host][df.name == kpi]\n"
     ]
    },
    {
     "name": "stdout",
     "output_type": "stream",
     "text": [
      "Threshold  3.6363263877004917 Processor_load_1_min\n",
      "Threshold  nan Agent_ping\n",
      "NaN, Skipping!\n",
      "Threshold  0.8865119104105532 Num_of_running_processes\n",
      "[1 1 0 0 0 0 0 0 0 0 0 0 0 0 0 0 0 0 0 1 0 1 0 1 0 0 0 0 0 0]\n",
      "ST Threshold Anomaly!\n",
      "Threshold  0.5986503705179843 ss_total\n"
     ]
    },
    {
     "name": "stderr",
     "output_type": "stream",
     "text": [
      "<ipython-input-82-dcc1e2084555>:27: UserWarning: Boolean Series key will be reindexed to match DataFrame index.\n",
      "  df_hk = df[df.cmdb_id == host][df.name == kpi]\n",
      "<ipython-input-82-dcc1e2084555>:27: UserWarning: Boolean Series key will be reindexed to match DataFrame index.\n",
      "  df_hk = df[df.cmdb_id == host][df.name == kpi]\n",
      "<ipython-input-82-dcc1e2084555>:27: UserWarning: Boolean Series key will be reindexed to match DataFrame index.\n",
      "  df_hk = df[df.cmdb_id == host][df.name == kpi]\n",
      "<ipython-input-82-dcc1e2084555>:27: UserWarning: Boolean Series key will be reindexed to match DataFrame index.\n",
      "  df_hk = df[df.cmdb_id == host][df.name == kpi]\n",
      "<ipython-input-82-dcc1e2084555>:27: UserWarning: Boolean Series key will be reindexed to match DataFrame index.\n",
      "  df_hk = df[df.cmdb_id == host][df.name == kpi]\n"
     ]
    },
    {
     "name": "stdout",
     "output_type": "stream",
     "text": [
      "Threshold  2.441288417235455 Processor_load_15_min\n",
      "Threshold  3.9318924164983344 Page_pi\n",
      "[0 0 0 0 0 0 0 0 0 0 1 0 0 0 0 0 0 0 0 0 1 0 0 0 0 0 0 0 0 0]\n",
      "ST Threshold Anomaly!\n",
      "Threshold  2.6373842172543505 Disk_avgqu_sz\n",
      "Threshold  0.7631109566891491 Disk_wr_kbs\n",
      "[1 0 0 0 0 0 1 1 0 0 0 0 0 0 0 0 0 0 0 0 0 0 1 0 0 0 0 0 1 0]\n",
      "ST Threshold Anomaly!\n",
      "Threshold  1.3817231206874336 Disk_await\n"
     ]
    },
    {
     "name": "stderr",
     "output_type": "stream",
     "text": [
      "<ipython-input-82-dcc1e2084555>:27: UserWarning: Boolean Series key will be reindexed to match DataFrame index.\n",
      "  df_hk = df[df.cmdb_id == host][df.name == kpi]\n",
      "<ipython-input-82-dcc1e2084555>:27: UserWarning: Boolean Series key will be reindexed to match DataFrame index.\n",
      "  df_hk = df[df.cmdb_id == host][df.name == kpi]\n",
      "/Users/baconbaker/anaconda3/envs/ml/lib/python3.8/site-packages/alibi_detect/od/sr.py:96: RuntimeWarning: divide by zero encountered in log\n",
      "  log_amp = np.log(amp)\n",
      "/Users/baconbaker/anaconda3/envs/ml/lib/python3.8/site-packages/alibi_detect/od/sr.py:99: RuntimeWarning: invalid value encountered in subtract\n",
      "  res_amp = log_amp - ma_log_amp\n",
      "/Users/baconbaker/anaconda3/envs/ml/lib/python3.8/site-packages/alibi_detect/od/sr.py:207: RuntimeWarning: invalid value encountered in greater\n",
      "  outlier_pred = (iscore > self.threshold).astype(int)\n",
      "<ipython-input-82-dcc1e2084555>:27: UserWarning: Boolean Series key will be reindexed to match DataFrame index.\n",
      "  df_hk = df[df.cmdb_id == host][df.name == kpi]\n",
      "<ipython-input-82-dcc1e2084555>:27: UserWarning: Boolean Series key will be reindexed to match DataFrame index.\n",
      "  df_hk = df[df.cmdb_id == host][df.name == kpi]\n"
     ]
    },
    {
     "name": "stdout",
     "output_type": "stream",
     "text": [
      "Threshold  0.5799624428818684 Shared_memory\n",
      "Threshold  0.4981536831878106 CPU_user_time\n",
      "Threshold  0.8563159353363403 Disk_svctm\n",
      "[1 1 1 0 0 0 0 0 0 0 0 0 0 0 0 0 0 1 1 0 0 0 0 0 1 1 1 0 0 1]\n",
      "ST Threshold Anomaly!\n",
      "Threshold  0.6813476942308759 Disk_wr_ios\n"
     ]
    },
    {
     "name": "stderr",
     "output_type": "stream",
     "text": [
      "<ipython-input-82-dcc1e2084555>:27: UserWarning: Boolean Series key will be reindexed to match DataFrame index.\n",
      "  df_hk = df[df.cmdb_id == host][df.name == kpi]\n",
      "<ipython-input-82-dcc1e2084555>:27: UserWarning: Boolean Series key will be reindexed to match DataFrame index.\n",
      "  df_hk = df[df.cmdb_id == host][df.name == kpi]\n",
      "<ipython-input-82-dcc1e2084555>:27: UserWarning: Boolean Series key will be reindexed to match DataFrame index.\n",
      "  df_hk = df[df.cmdb_id == host][df.name == kpi]\n",
      "<ipython-input-82-dcc1e2084555>:27: UserWarning: Boolean Series key will be reindexed to match DataFrame index.\n",
      "  df_hk = df[df.cmdb_id == host][df.name == kpi]\n",
      "/Users/baconbaker/anaconda3/envs/ml/lib/python3.8/site-packages/alibi_detect/od/sr.py:96: RuntimeWarning: divide by zero encountered in log\n",
      "  log_amp = np.log(amp)\n"
     ]
    },
    {
     "name": "stdout",
     "output_type": "stream",
     "text": [
      "[1 0 0 0 0 0 0 0 0 0 0 0 0 0 0 0 0 0 0 0 0 0 1 0 0 0 0 0 1 1]\n",
      "ST Threshold Anomaly!\n",
      "Threshold  0.5846933671821621 Memory_used_pct\n",
      "Threshold  4.63959708739596 CPU_iowait_time\n",
      "[0 0 0 0 0 0 0 0 0 0 0 0 0 0 0 0 0 0 0 0 0 0 1 0 0 0 0 0 0 0]\n",
      "ST Threshold Anomaly!\n",
      "Threshold  0.7506420539787202 System_wait_queue_length\n",
      "Threshold  0.5939834590279279 CPU_system_time\n"
     ]
    },
    {
     "name": "stderr",
     "output_type": "stream",
     "text": [
      "/Users/baconbaker/anaconda3/envs/ml/lib/python3.8/site-packages/alibi_detect/od/sr.py:99: RuntimeWarning: invalid value encountered in subtract\n",
      "  res_amp = log_amp - ma_log_amp\n",
      "/Users/baconbaker/anaconda3/envs/ml/lib/python3.8/site-packages/alibi_detect/od/sr.py:207: RuntimeWarning: invalid value encountered in greater\n",
      "  outlier_pred = (iscore > self.threshold).astype(int)\n",
      "<ipython-input-82-dcc1e2084555>:27: UserWarning: Boolean Series key will be reindexed to match DataFrame index.\n",
      "  df_hk = df[df.cmdb_id == host][df.name == kpi]\n",
      "<ipython-input-82-dcc1e2084555>:27: UserWarning: Boolean Series key will be reindexed to match DataFrame index.\n",
      "  df_hk = df[df.cmdb_id == host][df.name == kpi]\n",
      "<ipython-input-82-dcc1e2084555>:27: UserWarning: Boolean Series key will be reindexed to match DataFrame index.\n",
      "  df_hk = df[df.cmdb_id == host][df.name == kpi]\n",
      "<ipython-input-82-dcc1e2084555>:27: UserWarning: Boolean Series key will be reindexed to match DataFrame index.\n",
      "  df_hk = df[df.cmdb_id == host][df.name == kpi]\n",
      "<ipython-input-82-dcc1e2084555>:27: UserWarning: Boolean Series key will be reindexed to match DataFrame index.\n",
      "  df_hk = df[df.cmdb_id == host][df.name == kpi]\n"
     ]
    },
    {
     "name": "stdout",
     "output_type": "stream",
     "text": [
      "Threshold  3.7391699854555327 Disk_rd_kbs\n",
      "Threshold  0.580005594315974 Memory_available\n",
      "Threshold  0.5626149001933343 Memory_used\n",
      "Threshold  1.8460588718219209 System_block_queue_length\n"
     ]
    },
    {
     "name": "stderr",
     "output_type": "stream",
     "text": [
      "/Users/baconbaker/anaconda3/envs/ml/lib/python3.8/site-packages/alibi_detect/od/sr.py:96: RuntimeWarning: divide by zero encountered in log\n",
      "  log_amp = np.log(amp)\n",
      "/Users/baconbaker/anaconda3/envs/ml/lib/python3.8/site-packages/alibi_detect/od/sr.py:99: RuntimeWarning: invalid value encountered in subtract\n",
      "  res_amp = log_amp - ma_log_amp\n",
      "/Users/baconbaker/anaconda3/envs/ml/lib/python3.8/site-packages/alibi_detect/od/sr.py:207: RuntimeWarning: invalid value encountered in greater\n",
      "  outlier_pred = (iscore > self.threshold).astype(int)\n",
      "<ipython-input-82-dcc1e2084555>:27: UserWarning: Boolean Series key will be reindexed to match DataFrame index.\n",
      "  df_hk = df[df.cmdb_id == host][df.name == kpi]\n",
      "/Users/baconbaker/anaconda3/envs/ml/lib/python3.8/site-packages/alibi_detect/od/sr.py:96: RuntimeWarning: divide by zero encountered in log\n",
      "  log_amp = np.log(amp)\n",
      "/Users/baconbaker/anaconda3/envs/ml/lib/python3.8/site-packages/alibi_detect/od/sr.py:99: RuntimeWarning: invalid value encountered in subtract\n",
      "  res_amp = log_amp - ma_log_amp\n",
      "/Users/baconbaker/anaconda3/envs/ml/lib/python3.8/site-packages/alibi_detect/od/sr.py:207: RuntimeWarning: invalid value encountered in greater\n",
      "  outlier_pred = (iscore > self.threshold).astype(int)\n",
      "<ipython-input-82-dcc1e2084555>:27: UserWarning: Boolean Series key will be reindexed to match DataFrame index.\n",
      "  df_hk = df[df.cmdb_id == host][df.name == kpi]\n",
      "<ipython-input-82-dcc1e2084555>:27: UserWarning: Boolean Series key will be reindexed to match DataFrame index.\n",
      "  df_hk = df[df.cmdb_id == host][df.name == kpi]\n",
      "<ipython-input-82-dcc1e2084555>:27: UserWarning: Boolean Series key will be reindexed to match DataFrame index.\n",
      "  df_hk = df[df.cmdb_id == host][df.name == kpi]\n"
     ]
    },
    {
     "name": "stdout",
     "output_type": "stream",
     "text": [
      "Threshold  0.5386553661317953 Received_packets\n",
      "Threshold  -1.0 Received_errors_packets\n",
      "Threshold  0.5779162527881876 Memory_free\n",
      "Threshold  1.8950509952972177 Sent_queue\n",
      "Threshold  0.6179431927178263 Cache_used\n",
      "Threshold  nan Received_queue\n",
      "NaN, Skipping!\n",
      "Threshold  nan Buffers_used\n",
      "NaN, Skipping!\n",
      "Threshold  0.5869686826174109 FS_used_space\n"
     ]
    },
    {
     "name": "stderr",
     "output_type": "stream",
     "text": [
      "<ipython-input-82-dcc1e2084555>:27: UserWarning: Boolean Series key will be reindexed to match DataFrame index.\n",
      "  df_hk = df[df.cmdb_id == host][df.name == kpi]\n",
      "<ipython-input-82-dcc1e2084555>:27: UserWarning: Boolean Series key will be reindexed to match DataFrame index.\n",
      "  df_hk = df[df.cmdb_id == host][df.name == kpi]\n",
      "<ipython-input-82-dcc1e2084555>:27: UserWarning: Boolean Series key will be reindexed to match DataFrame index.\n",
      "  df_hk = df[df.cmdb_id == host][df.name == kpi]\n",
      "<ipython-input-82-dcc1e2084555>:27: UserWarning: Boolean Series key will be reindexed to match DataFrame index.\n",
      "  df_hk = df[df.cmdb_id == host][df.name == kpi]\n"
     ]
    },
    {
     "name": "stdout",
     "output_type": "stream",
     "text": [
      "Threshold  -1.0 Sent_packets\n",
      "Threshold  0.5898030272969416 FS_used_pct\n",
      "Threshold  nan FS_total_space\n",
      "NaN, Skipping!\n",
      "Threshold  nan FS_max_util\n"
     ]
    },
    {
     "name": "stderr",
     "output_type": "stream",
     "text": [
      "<ipython-input-82-dcc1e2084555>:27: UserWarning: Boolean Series key will be reindexed to match DataFrame index.\n",
      "  df_hk = df[df.cmdb_id == host][df.name == kpi]\n",
      "<ipython-input-82-dcc1e2084555>:27: UserWarning: Boolean Series key will be reindexed to match DataFrame index.\n",
      "  df_hk = df[df.cmdb_id == host][df.name == kpi]\n",
      "<ipython-input-82-dcc1e2084555>:27: UserWarning: Boolean Series key will be reindexed to match DataFrame index.\n",
      "  df_hk = df[df.cmdb_id == host][df.name == kpi]\n",
      "<ipython-input-82-dcc1e2084555>:27: UserWarning: Boolean Series key will be reindexed to match DataFrame index.\n",
      "  df_hk = df[df.cmdb_id == host][df.name == kpi]\n"
     ]
    },
    {
     "name": "stdout",
     "output_type": "stream",
     "text": [
      "NaN, Skipping!\n",
      "Threshold  nan ICMP_ping\n",
      "NaN, Skipping!\n",
      "Threshold  0.575915232658653 FS_max_avail\n",
      "Threshold  -1.0 Swap_used_pct\n",
      "Threshold  nan Memory_total\n"
     ]
    },
    {
     "name": "stderr",
     "output_type": "stream",
     "text": [
      "<ipython-input-82-dcc1e2084555>:27: UserWarning: Boolean Series key will be reindexed to match DataFrame index.\n",
      "  df_hk = df[df.cmdb_id == host][df.name == kpi]\n",
      "<ipython-input-82-dcc1e2084555>:27: UserWarning: Boolean Series key will be reindexed to match DataFrame index.\n",
      "  df_hk = df[df.cmdb_id == host][df.name == kpi]\n",
      "<ipython-input-82-dcc1e2084555>:27: UserWarning: Boolean Series key will be reindexed to match DataFrame index.\n",
      "  df_hk = df[df.cmdb_id == host][df.name == kpi]\n",
      "<ipython-input-82-dcc1e2084555>:27: UserWarning: Boolean Series key will be reindexed to match DataFrame index.\n",
      "  df_hk = df[df.cmdb_id == host][df.name == kpi]\n"
     ]
    },
    {
     "name": "stdout",
     "output_type": "stream",
     "text": [
      "NaN, Skipping!\n",
      "os_018  completed in  3.022282123565674\n",
      "************************************************************\n",
      "Checking  os_013\n",
      "Threshold  -1.0 Sent_errors_packets\n",
      "Threshold  4.57592709409617 Processor_load_5_min\n",
      "Threshold  -1.0 Disk_rd_ios\n",
      "Threshold  1.2056932383915862 CPU_util_pct\n"
     ]
    },
    {
     "name": "stderr",
     "output_type": "stream",
     "text": [
      "<ipython-input-82-dcc1e2084555>:27: UserWarning: Boolean Series key will be reindexed to match DataFrame index.\n",
      "  df_hk = df[df.cmdb_id == host][df.name == kpi]\n",
      "<ipython-input-82-dcc1e2084555>:27: UserWarning: Boolean Series key will be reindexed to match DataFrame index.\n",
      "  df_hk = df[df.cmdb_id == host][df.name == kpi]\n",
      "<ipython-input-82-dcc1e2084555>:27: UserWarning: Boolean Series key will be reindexed to match DataFrame index.\n",
      "  df_hk = df[df.cmdb_id == host][df.name == kpi]\n",
      "<ipython-input-82-dcc1e2084555>:27: UserWarning: Boolean Series key will be reindexed to match DataFrame index.\n",
      "  df_hk = df[df.cmdb_id == host][df.name == kpi]\n",
      "<ipython-input-82-dcc1e2084555>:27: UserWarning: Boolean Series key will be reindexed to match DataFrame index.\n",
      "  df_hk = df[df.cmdb_id == host][df.name == kpi]\n"
     ]
    },
    {
     "name": "stdout",
     "output_type": "stream",
     "text": [
      "Threshold  7.994315780997244 Disk_io_util\n",
      "Threshold  0.5804449236465918 Num_of_processes\n",
      "Threshold  0.7336463755052325 Send_total\n",
      "Threshold  1.1096957182760818 Outgoing_network_traffic\n"
     ]
    },
    {
     "name": "stderr",
     "output_type": "stream",
     "text": [
      "<ipython-input-82-dcc1e2084555>:27: UserWarning: Boolean Series key will be reindexed to match DataFrame index.\n",
      "  df_hk = df[df.cmdb_id == host][df.name == kpi]\n",
      "/Users/baconbaker/anaconda3/envs/ml/lib/python3.8/site-packages/alibi_detect/od/sr.py:96: RuntimeWarning: divide by zero encountered in log\n",
      "  log_amp = np.log(amp)\n",
      "/Users/baconbaker/anaconda3/envs/ml/lib/python3.8/site-packages/alibi_detect/od/sr.py:99: RuntimeWarning: invalid value encountered in subtract\n",
      "  res_amp = log_amp - ma_log_amp\n",
      "/Users/baconbaker/anaconda3/envs/ml/lib/python3.8/site-packages/alibi_detect/od/sr.py:207: RuntimeWarning: invalid value encountered in greater\n",
      "  outlier_pred = (iscore > self.threshold).astype(int)\n",
      "<ipython-input-82-dcc1e2084555>:27: UserWarning: Boolean Series key will be reindexed to match DataFrame index.\n",
      "  df_hk = df[df.cmdb_id == host][df.name == kpi]\n",
      "<ipython-input-82-dcc1e2084555>:27: UserWarning: Boolean Series key will be reindexed to match DataFrame index.\n",
      "  df_hk = df[df.cmdb_id == host][df.name == kpi]\n",
      "/Users/baconbaker/anaconda3/envs/ml/lib/python3.8/site-packages/alibi_detect/od/sr.py:96: RuntimeWarning: divide by zero encountered in log\n",
      "  log_amp = np.log(amp)\n",
      "/Users/baconbaker/anaconda3/envs/ml/lib/python3.8/site-packages/alibi_detect/od/sr.py:99: RuntimeWarning: invalid value encountered in subtract\n",
      "  res_amp = log_amp - ma_log_amp\n",
      "/Users/baconbaker/anaconda3/envs/ml/lib/python3.8/site-packages/alibi_detect/od/sr.py:207: RuntimeWarning: invalid value encountered in greater\n",
      "  outlier_pred = (iscore > self.threshold).astype(int)\n",
      "<ipython-input-82-dcc1e2084555>:27: UserWarning: Boolean Series key will be reindexed to match DataFrame index.\n",
      "  df_hk = df[df.cmdb_id == host][df.name == kpi]\n"
     ]
    },
    {
     "name": "stdout",
     "output_type": "stream",
     "text": [
      "Threshold  0.5791883180392904 Memory_available_pct\n",
      "Threshold  -1.0 Incoming_network_traffic\n",
      "Non-Zero Anomaly!\n",
      "Threshold  -1.0 Zombie_Process\n",
      "Threshold  0.5874042703821369 Recv_total\n"
     ]
    },
    {
     "name": "stderr",
     "output_type": "stream",
     "text": [
      "/Users/baconbaker/anaconda3/envs/ml/lib/python3.8/site-packages/alibi_detect/od/sr.py:96: RuntimeWarning: divide by zero encountered in log\n",
      "  log_amp = np.log(amp)\n",
      "/Users/baconbaker/anaconda3/envs/ml/lib/python3.8/site-packages/alibi_detect/od/sr.py:99: RuntimeWarning: invalid value encountered in subtract\n",
      "  res_amp = log_amp - ma_log_amp\n",
      "/Users/baconbaker/anaconda3/envs/ml/lib/python3.8/site-packages/alibi_detect/od/sr.py:207: RuntimeWarning: invalid value encountered in greater\n",
      "  outlier_pred = (iscore > self.threshold).astype(int)\n",
      "<ipython-input-82-dcc1e2084555>:27: UserWarning: Boolean Series key will be reindexed to match DataFrame index.\n",
      "  df_hk = df[df.cmdb_id == host][df.name == kpi]\n",
      "<ipython-input-82-dcc1e2084555>:27: UserWarning: Boolean Series key will be reindexed to match DataFrame index.\n",
      "  df_hk = df[df.cmdb_id == host][df.name == kpi]\n",
      "<ipython-input-82-dcc1e2084555>:27: UserWarning: Boolean Series key will be reindexed to match DataFrame index.\n",
      "  df_hk = df[df.cmdb_id == host][df.name == kpi]\n",
      "<ipython-input-82-dcc1e2084555>:27: UserWarning: Boolean Series key will be reindexed to match DataFrame index.\n",
      "  df_hk = df[df.cmdb_id == host][df.name == kpi]\n"
     ]
    },
    {
     "name": "stdout",
     "output_type": "stream",
     "text": [
      "Threshold  0.5758585361701495 Page_po\n",
      "Threshold  0.5768006868669301 CPU_idle_pct\n",
      "Threshold  9.060799881553065 Processor_load_1_min\n",
      "Threshold  nan Agent_ping\n",
      "NaN, Skipping!\n",
      "Threshold  nan Num_of_running_processes\n"
     ]
    },
    {
     "name": "stderr",
     "output_type": "stream",
     "text": [
      "<ipython-input-82-dcc1e2084555>:27: UserWarning: Boolean Series key will be reindexed to match DataFrame index.\n",
      "  df_hk = df[df.cmdb_id == host][df.name == kpi]\n",
      "<ipython-input-82-dcc1e2084555>:27: UserWarning: Boolean Series key will be reindexed to match DataFrame index.\n",
      "  df_hk = df[df.cmdb_id == host][df.name == kpi]\n",
      "<ipython-input-82-dcc1e2084555>:27: UserWarning: Boolean Series key will be reindexed to match DataFrame index.\n",
      "  df_hk = df[df.cmdb_id == host][df.name == kpi]\n",
      "<ipython-input-82-dcc1e2084555>:27: UserWarning: Boolean Series key will be reindexed to match DataFrame index.\n",
      "  df_hk = df[df.cmdb_id == host][df.name == kpi]\n"
     ]
    },
    {
     "name": "stdout",
     "output_type": "stream",
     "text": [
      "NaN, Skipping!\n",
      "Threshold  0.5981830589967356 ss_total\n",
      "Threshold  3.8349606058477663 Processor_load_15_min\n",
      "Threshold  -1.0 Page_pi\n",
      "Threshold  5.094470430977164 Disk_avgqu_sz\n"
     ]
    },
    {
     "name": "stderr",
     "output_type": "stream",
     "text": [
      "<ipython-input-82-dcc1e2084555>:27: UserWarning: Boolean Series key will be reindexed to match DataFrame index.\n",
      "  df_hk = df[df.cmdb_id == host][df.name == kpi]\n",
      "<ipython-input-82-dcc1e2084555>:27: UserWarning: Boolean Series key will be reindexed to match DataFrame index.\n",
      "  df_hk = df[df.cmdb_id == host][df.name == kpi]\n",
      "<ipython-input-82-dcc1e2084555>:27: UserWarning: Boolean Series key will be reindexed to match DataFrame index.\n",
      "  df_hk = df[df.cmdb_id == host][df.name == kpi]\n",
      "<ipython-input-82-dcc1e2084555>:27: UserWarning: Boolean Series key will be reindexed to match DataFrame index.\n",
      "  df_hk = df[df.cmdb_id == host][df.name == kpi]\n",
      "<ipython-input-82-dcc1e2084555>:27: UserWarning: Boolean Series key will be reindexed to match DataFrame index.\n",
      "  df_hk = df[df.cmdb_id == host][df.name == kpi]\n"
     ]
    },
    {
     "name": "stdout",
     "output_type": "stream",
     "text": [
      "Threshold  1.5058245730643516 Disk_wr_kbs\n",
      "Threshold  1.0011286931431662 Disk_await\n",
      "Threshold  0.5789473684899311 Shared_memory\n",
      "Threshold  1.5532055632686752 CPU_user_time\n"
     ]
    },
    {
     "name": "stderr",
     "output_type": "stream",
     "text": [
      "<ipython-input-82-dcc1e2084555>:27: UserWarning: Boolean Series key will be reindexed to match DataFrame index.\n",
      "  df_hk = df[df.cmdb_id == host][df.name == kpi]\n",
      "<ipython-input-82-dcc1e2084555>:27: UserWarning: Boolean Series key will be reindexed to match DataFrame index.\n",
      "  df_hk = df[df.cmdb_id == host][df.name == kpi]\n",
      "/Users/baconbaker/anaconda3/envs/ml/lib/python3.8/site-packages/alibi_detect/od/sr.py:96: RuntimeWarning: divide by zero encountered in log\n",
      "  log_amp = np.log(amp)\n",
      "/Users/baconbaker/anaconda3/envs/ml/lib/python3.8/site-packages/alibi_detect/od/sr.py:99: RuntimeWarning: invalid value encountered in subtract\n",
      "  res_amp = log_amp - ma_log_amp\n",
      "/Users/baconbaker/anaconda3/envs/ml/lib/python3.8/site-packages/alibi_detect/od/sr.py:207: RuntimeWarning: invalid value encountered in greater\n",
      "  outlier_pred = (iscore > self.threshold).astype(int)\n",
      "<ipython-input-82-dcc1e2084555>:27: UserWarning: Boolean Series key will be reindexed to match DataFrame index.\n",
      "  df_hk = df[df.cmdb_id == host][df.name == kpi]\n",
      "<ipython-input-82-dcc1e2084555>:27: UserWarning: Boolean Series key will be reindexed to match DataFrame index.\n",
      "  df_hk = df[df.cmdb_id == host][df.name == kpi]\n"
     ]
    },
    {
     "name": "stdout",
     "output_type": "stream",
     "text": [
      "Threshold  1.5938966075843868 Disk_svctm\n",
      "Threshold  0.5675706233202059 Disk_wr_ios\n",
      "[1 1 1 1 1 0 0 0 0 0 0 0 0 0 0 0 0 0 0 0 0 0 0 0 1 1 1 1 0 1]\n",
      "ST Threshold Anomaly!\n",
      "Threshold  0.5785067950630117 Memory_used_pct\n",
      "Threshold  2.8447689574961315 CPU_iowait_time\n",
      "Threshold  1.9185466027321365 System_wait_queue_length\n"
     ]
    },
    {
     "name": "stderr",
     "output_type": "stream",
     "text": [
      "<ipython-input-82-dcc1e2084555>:27: UserWarning: Boolean Series key will be reindexed to match DataFrame index.\n",
      "  df_hk = df[df.cmdb_id == host][df.name == kpi]\n",
      "<ipython-input-82-dcc1e2084555>:27: UserWarning: Boolean Series key will be reindexed to match DataFrame index.\n",
      "  df_hk = df[df.cmdb_id == host][df.name == kpi]\n",
      "/Users/baconbaker/anaconda3/envs/ml/lib/python3.8/site-packages/alibi_detect/od/sr.py:96: RuntimeWarning: divide by zero encountered in log\n",
      "  log_amp = np.log(amp)\n",
      "/Users/baconbaker/anaconda3/envs/ml/lib/python3.8/site-packages/alibi_detect/od/sr.py:99: RuntimeWarning: invalid value encountered in subtract\n",
      "  res_amp = log_amp - ma_log_amp\n",
      "/Users/baconbaker/anaconda3/envs/ml/lib/python3.8/site-packages/alibi_detect/od/sr.py:207: RuntimeWarning: invalid value encountered in greater\n",
      "  outlier_pred = (iscore > self.threshold).astype(int)\n",
      "<ipython-input-82-dcc1e2084555>:27: UserWarning: Boolean Series key will be reindexed to match DataFrame index.\n",
      "  df_hk = df[df.cmdb_id == host][df.name == kpi]\n",
      "<ipython-input-82-dcc1e2084555>:27: UserWarning: Boolean Series key will be reindexed to match DataFrame index.\n",
      "  df_hk = df[df.cmdb_id == host][df.name == kpi]\n"
     ]
    },
    {
     "name": "stdout",
     "output_type": "stream",
     "text": [
      "Threshold  0.8605971573122767 CPU_system_time\n",
      "[0 1 0 1 0 0 0 0 1 0 0 0 0 0 0 0 0 0 0 0 0 0 0 1 0 0 0 0 1 1]\n",
      "ST Threshold Anomaly!\n",
      "Threshold  -1.0 Disk_rd_kbs\n",
      "Threshold  0.5820867979743454 Memory_available\n",
      "Threshold  0.5830766180390353 Memory_used\n",
      "Threshold  2.6354675601753597 System_block_queue_length\n"
     ]
    },
    {
     "name": "stderr",
     "output_type": "stream",
     "text": [
      "<ipython-input-82-dcc1e2084555>:27: UserWarning: Boolean Series key will be reindexed to match DataFrame index.\n",
      "  df_hk = df[df.cmdb_id == host][df.name == kpi]\n",
      "<ipython-input-82-dcc1e2084555>:27: UserWarning: Boolean Series key will be reindexed to match DataFrame index.\n",
      "  df_hk = df[df.cmdb_id == host][df.name == kpi]\n",
      "<ipython-input-82-dcc1e2084555>:27: UserWarning: Boolean Series key will be reindexed to match DataFrame index.\n",
      "  df_hk = df[df.cmdb_id == host][df.name == kpi]\n",
      "<ipython-input-82-dcc1e2084555>:27: UserWarning: Boolean Series key will be reindexed to match DataFrame index.\n",
      "  df_hk = df[df.cmdb_id == host][df.name == kpi]\n",
      "<ipython-input-82-dcc1e2084555>:27: UserWarning: Boolean Series key will be reindexed to match DataFrame index.\n",
      "  df_hk = df[df.cmdb_id == host][df.name == kpi]\n",
      "/Users/baconbaker/anaconda3/envs/ml/lib/python3.8/site-packages/alibi_detect/od/sr.py:96: RuntimeWarning: divide by zero encountered in log\n",
      "  log_amp = np.log(amp)\n",
      "/Users/baconbaker/anaconda3/envs/ml/lib/python3.8/site-packages/alibi_detect/od/sr.py:99: RuntimeWarning: invalid value encountered in subtract\n",
      "  res_amp = log_amp - ma_log_amp\n",
      "/Users/baconbaker/anaconda3/envs/ml/lib/python3.8/site-packages/alibi_detect/od/sr.py:207: RuntimeWarning: invalid value encountered in greater\n",
      "  outlier_pred = (iscore > self.threshold).astype(int)\n",
      "<ipython-input-82-dcc1e2084555>:27: UserWarning: Boolean Series key will be reindexed to match DataFrame index.\n",
      "  df_hk = df[df.cmdb_id == host][df.name == kpi]\n",
      "<ipython-input-82-dcc1e2084555>:27: UserWarning: Boolean Series key will be reindexed to match DataFrame index.\n",
      "  df_hk = df[df.cmdb_id == host][df.name == kpi]\n",
      "<ipython-input-82-dcc1e2084555>:27: UserWarning: Boolean Series key will be reindexed to match DataFrame index.\n",
      "  df_hk = df[df.cmdb_id == host][df.name == kpi]\n",
      "<ipython-input-82-dcc1e2084555>:27: UserWarning: Boolean Series key will be reindexed to match DataFrame index.\n",
      "  df_hk = df[df.cmdb_id == host][df.name == kpi]\n"
     ]
    },
    {
     "name": "stdout",
     "output_type": "stream",
     "text": [
      "Threshold  -1.0 Received_packets\n",
      "Threshold  -1.0 Received_errors_packets\n",
      "Threshold  0.5749144456357025 Memory_free\n",
      "Threshold  1.049280372042345 Sent_queue\n",
      "[1 1 1 0 1 0 0 0 0 0 0 0 0 0 0 0 0 0 0 0 0 0 0 0 1 1 1 1 1 0]"
     ]
    },
    {
     "name": "stderr",
     "output_type": "stream",
     "text": [
      "<ipython-input-82-dcc1e2084555>:27: UserWarning: Boolean Series key will be reindexed to match DataFrame index.\n",
      "  df_hk = df[df.cmdb_id == host][df.name == kpi]\n",
      "<ipython-input-82-dcc1e2084555>:27: UserWarning: Boolean Series key will be reindexed to match DataFrame index.\n",
      "  df_hk = df[df.cmdb_id == host][df.name == kpi]\n",
      "<ipython-input-82-dcc1e2084555>:27: UserWarning: Boolean Series key will be reindexed to match DataFrame index.\n",
      "  df_hk = df[df.cmdb_id == host][df.name == kpi]\n",
      "<ipython-input-82-dcc1e2084555>:27: UserWarning: Boolean Series key will be reindexed to match DataFrame index.\n",
      "  df_hk = df[df.cmdb_id == host][df.name == kpi]\n"
     ]
    },
    {
     "name": "stdout",
     "output_type": "stream",
     "text": [
      "\n",
      "ST Threshold Anomaly!\n",
      "Threshold  0.5882966528613799 Cache_used\n",
      "Threshold  -1.0 Received_queue\n",
      "Threshold  nan Buffers_used\n",
      "NaN, Skipping!\n",
      "Threshold  0.5799870070811783 FS_used_space\n",
      "Threshold  -1.0 Sent_packets\n",
      "Threshold  0.5796490729250063 FS_used_pct\n",
      "Threshold  nan FS_total_space\n",
      "NaN, Skipping!\n",
      "Threshold  nan FS_max_util\n",
      "NaN, Skipping!"
     ]
    },
    {
     "name": "stderr",
     "output_type": "stream",
     "text": [
      "<ipython-input-82-dcc1e2084555>:27: UserWarning: Boolean Series key will be reindexed to match DataFrame index.\n",
      "  df_hk = df[df.cmdb_id == host][df.name == kpi]\n",
      "<ipython-input-82-dcc1e2084555>:27: UserWarning: Boolean Series key will be reindexed to match DataFrame index.\n",
      "  df_hk = df[df.cmdb_id == host][df.name == kpi]\n",
      "<ipython-input-82-dcc1e2084555>:27: UserWarning: Boolean Series key will be reindexed to match DataFrame index.\n",
      "  df_hk = df[df.cmdb_id == host][df.name == kpi]\n",
      "<ipython-input-82-dcc1e2084555>:27: UserWarning: Boolean Series key will be reindexed to match DataFrame index.\n",
      "  df_hk = df[df.cmdb_id == host][df.name == kpi]\n"
     ]
    },
    {
     "name": "stdout",
     "output_type": "stream",
     "text": [
      "\n",
      "Threshold  nan ICMP_ping\n",
      "NaN, Skipping!\n",
      "Threshold  0.5788060066939985 FS_max_avail\n",
      "Threshold  -1.0 Swap_used_pct\n",
      "Threshold  nan Memory_total\n",
      "NaN, Skipping!"
     ]
    },
    {
     "name": "stderr",
     "output_type": "stream",
     "text": [
      "<ipython-input-82-dcc1e2084555>:27: UserWarning: Boolean Series key will be reindexed to match DataFrame index.\n",
      "  df_hk = df[df.cmdb_id == host][df.name == kpi]\n",
      "<ipython-input-82-dcc1e2084555>:27: UserWarning: Boolean Series key will be reindexed to match DataFrame index.\n",
      "  df_hk = df[df.cmdb_id == host][df.name == kpi]\n",
      "<ipython-input-82-dcc1e2084555>:27: UserWarning: Boolean Series key will be reindexed to match DataFrame index.\n",
      "  df_hk = df[df.cmdb_id == host][df.name == kpi]\n",
      "<ipython-input-82-dcc1e2084555>:27: UserWarning: Boolean Series key will be reindexed to match DataFrame index.\n",
      "  df_hk = df[df.cmdb_id == host][df.name == kpi]\n"
     ]
    },
    {
     "name": "stdout",
     "output_type": "stream",
     "text": [
      "\n",
      "os_013  completed in  2.9256131649017334\n",
      "************************************************************\n",
      "Checking  os_016\n",
      "Threshold  -1.0 Sent_errors_packets\n",
      "Threshold  5.952069789129393 Processor_load_5_min\n",
      "Threshold  -1.0 Disk_rd_ios\n",
      "Threshold  0.6929467942998424 CPU_util_pct\n"
     ]
    },
    {
     "name": "stderr",
     "output_type": "stream",
     "text": [
      "<ipython-input-82-dcc1e2084555>:27: UserWarning: Boolean Series key will be reindexed to match DataFrame index.\n",
      "  df_hk = df[df.cmdb_id == host][df.name == kpi]\n",
      "<ipython-input-82-dcc1e2084555>:27: UserWarning: Boolean Series key will be reindexed to match DataFrame index.\n",
      "  df_hk = df[df.cmdb_id == host][df.name == kpi]\n",
      "<ipython-input-82-dcc1e2084555>:27: UserWarning: Boolean Series key will be reindexed to match DataFrame index.\n",
      "  df_hk = df[df.cmdb_id == host][df.name == kpi]\n",
      "<ipython-input-82-dcc1e2084555>:27: UserWarning: Boolean Series key will be reindexed to match DataFrame index.\n",
      "  df_hk = df[df.cmdb_id == host][df.name == kpi]\n"
     ]
    },
    {
     "name": "stdout",
     "output_type": "stream",
     "text": [
      "Threshold  -1.0 Disk_io_util\n",
      "Threshold  0.5780224561185481 Num_of_processes\n",
      "Threshold  1.047011116344014 Send_total\n",
      "Threshold  1.1134793651288648 Outgoing_network_traffic\n",
      "Threshold  0.5804476018495384 Memory_available_pct\n"
     ]
    },
    {
     "name": "stderr",
     "output_type": "stream",
     "text": [
      "<ipython-input-82-dcc1e2084555>:27: UserWarning: Boolean Series key will be reindexed to match DataFrame index.\n",
      "  df_hk = df[df.cmdb_id == host][df.name == kpi]\n",
      "<ipython-input-82-dcc1e2084555>:27: UserWarning: Boolean Series key will be reindexed to match DataFrame index.\n",
      "  df_hk = df[df.cmdb_id == host][df.name == kpi]\n",
      "/Users/baconbaker/anaconda3/envs/ml/lib/python3.8/site-packages/alibi_detect/od/sr.py:96: RuntimeWarning: divide by zero encountered in log\n",
      "  log_amp = np.log(amp)\n",
      "/Users/baconbaker/anaconda3/envs/ml/lib/python3.8/site-packages/alibi_detect/od/sr.py:99: RuntimeWarning: invalid value encountered in subtract\n",
      "  res_amp = log_amp - ma_log_amp\n",
      "/Users/baconbaker/anaconda3/envs/ml/lib/python3.8/site-packages/alibi_detect/od/sr.py:207: RuntimeWarning: invalid value encountered in greater\n",
      "  outlier_pred = (iscore > self.threshold).astype(int)\n",
      "<ipython-input-82-dcc1e2084555>:27: UserWarning: Boolean Series key will be reindexed to match DataFrame index.\n",
      "  df_hk = df[df.cmdb_id == host][df.name == kpi]\n",
      "<ipython-input-82-dcc1e2084555>:27: UserWarning: Boolean Series key will be reindexed to match DataFrame index.\n",
      "  df_hk = df[df.cmdb_id == host][df.name == kpi]\n",
      "/Users/baconbaker/anaconda3/envs/ml/lib/python3.8/site-packages/alibi_detect/od/sr.py:96: RuntimeWarning: divide by zero encountered in log\n",
      "  log_amp = np.log(amp)\n",
      "/Users/baconbaker/anaconda3/envs/ml/lib/python3.8/site-packages/alibi_detect/od/sr.py:99: RuntimeWarning: invalid value encountered in subtract\n",
      "  res_amp = log_amp - ma_log_amp\n",
      "/Users/baconbaker/anaconda3/envs/ml/lib/python3.8/site-packages/alibi_detect/od/sr.py:207: RuntimeWarning: invalid value encountered in greater\n",
      "  outlier_pred = (iscore > self.threshold).astype(int)\n",
      "<ipython-input-82-dcc1e2084555>:27: UserWarning: Boolean Series key will be reindexed to match DataFrame index.\n",
      "  df_hk = df[df.cmdb_id == host][df.name == kpi]\n"
     ]
    },
    {
     "name": "stdout",
     "output_type": "stream",
     "text": [
      "Threshold  -1.0 Incoming_network_traffic\n",
      "Threshold  -1.0 Zombie_Process\n",
      "Threshold  0.610257910896454 Recv_total\n",
      "Threshold  0.6052181337806223 Page_po\n"
     ]
    },
    {
     "name": "stderr",
     "output_type": "stream",
     "text": [
      "<ipython-input-82-dcc1e2084555>:27: UserWarning: Boolean Series key will be reindexed to match DataFrame index.\n",
      "  df_hk = df[df.cmdb_id == host][df.name == kpi]\n",
      "<ipython-input-82-dcc1e2084555>:27: UserWarning: Boolean Series key will be reindexed to match DataFrame index.\n",
      "  df_hk = df[df.cmdb_id == host][df.name == kpi]\n",
      "<ipython-input-82-dcc1e2084555>:27: UserWarning: Boolean Series key will be reindexed to match DataFrame index.\n",
      "  df_hk = df[df.cmdb_id == host][df.name == kpi]\n",
      "<ipython-input-82-dcc1e2084555>:27: UserWarning: Boolean Series key will be reindexed to match DataFrame index.\n",
      "  df_hk = df[df.cmdb_id == host][df.name == kpi]\n"
     ]
    },
    {
     "name": "stdout",
     "output_type": "stream",
     "text": [
      "Threshold  0.5795523175117657 CPU_idle_pct\n",
      "Threshold  11.176590393737388 Processor_load_1_min\n",
      "Threshold  nan Agent_ping\n",
      "NaN, Skipping!\n",
      "Threshold  0.7338691985512837 Num_of_running_processes\n"
     ]
    },
    {
     "name": "stderr",
     "output_type": "stream",
     "text": [
      "<ipython-input-82-dcc1e2084555>:27: UserWarning: Boolean Series key will be reindexed to match DataFrame index.\n",
      "  df_hk = df[df.cmdb_id == host][df.name == kpi]\n",
      "<ipython-input-82-dcc1e2084555>:27: UserWarning: Boolean Series key will be reindexed to match DataFrame index.\n",
      "  df_hk = df[df.cmdb_id == host][df.name == kpi]\n",
      "<ipython-input-82-dcc1e2084555>:27: UserWarning: Boolean Series key will be reindexed to match DataFrame index.\n",
      "  df_hk = df[df.cmdb_id == host][df.name == kpi]\n",
      "<ipython-input-82-dcc1e2084555>:27: UserWarning: Boolean Series key will be reindexed to match DataFrame index.\n",
      "  df_hk = df[df.cmdb_id == host][df.name == kpi]\n",
      "/Users/baconbaker/anaconda3/envs/ml/lib/python3.8/site-packages/alibi_detect/od/sr.py:96: RuntimeWarning: divide by zero encountered in log\n",
      "  log_amp = np.log(amp)\n",
      "/Users/baconbaker/anaconda3/envs/ml/lib/python3.8/site-packages/alibi_detect/od/sr.py:99: RuntimeWarning: invalid value encountered in subtract\n",
      "  res_amp = log_amp - ma_log_amp\n",
      "/Users/baconbaker/anaconda3/envs/ml/lib/python3.8/site-packages/alibi_detect/od/sr.py:207: RuntimeWarning: invalid value encountered in greater\n",
      "  outlier_pred = (iscore > self.threshold).astype(int)\n",
      "<ipython-input-82-dcc1e2084555>:27: UserWarning: Boolean Series key will be reindexed to match DataFrame index.\n",
      "  df_hk = df[df.cmdb_id == host][df.name == kpi]\n",
      "<ipython-input-82-dcc1e2084555>:27: UserWarning: Boolean Series key will be reindexed to match DataFrame index.\n",
      "  df_hk = df[df.cmdb_id == host][df.name == kpi]\n",
      "<ipython-input-82-dcc1e2084555>:27: UserWarning: Boolean Series key will be reindexed to match DataFrame index.\n",
      "  df_hk = df[df.cmdb_id == host][df.name == kpi]\n",
      "<ipython-input-82-dcc1e2084555>:27: UserWarning: Boolean Series key will be reindexed to match DataFrame index.\n",
      "  df_hk = df[df.cmdb_id == host][df.name == kpi]\n"
     ]
    },
    {
     "name": "stdout",
     "output_type": "stream",
     "text": [
      "Threshold  0.5801637032409701 ss_total\n",
      "Threshold  4.132654417862603 Processor_load_15_min\n",
      "Threshold  -1.0 Page_pi\n",
      "Threshold  3.4095255964711444 Disk_avgqu_sz\n",
      "Threshold  1.195331674156797 Disk_wr_kbs\n"
     ]
    },
    {
     "name": "stderr",
     "output_type": "stream",
     "text": [
      "<ipython-input-82-dcc1e2084555>:27: UserWarning: Boolean Series key will be reindexed to match DataFrame index.\n",
      "  df_hk = df[df.cmdb_id == host][df.name == kpi]\n",
      "<ipython-input-82-dcc1e2084555>:27: UserWarning: Boolean Series key will be reindexed to match DataFrame index.\n",
      "  df_hk = df[df.cmdb_id == host][df.name == kpi]\n",
      "<ipython-input-82-dcc1e2084555>:27: UserWarning: Boolean Series key will be reindexed to match DataFrame index.\n",
      "  df_hk = df[df.cmdb_id == host][df.name == kpi]\n",
      "<ipython-input-82-dcc1e2084555>:27: UserWarning: Boolean Series key will be reindexed to match DataFrame index.\n",
      "  df_hk = df[df.cmdb_id == host][df.name == kpi]\n"
     ]
    },
    {
     "name": "stdout",
     "output_type": "stream",
     "text": [
      "Threshold  2.0753528187585917 Disk_await\n",
      "Threshold  nan Shared_memory\n",
      "NaN, Skipping!\n",
      "Threshold  1.226135912850239 CPU_user_time\n",
      "[0 1 0 0 0 0 0 0 0 0 0 0 0 0 0 0 0 0 0 0 0 0 0 1 1 0 0 0 0 0]\n",
      "ST Threshold Anomaly!\n",
      "Threshold  1.7069459273434815 Disk_svctm\n",
      "Threshold  0.5711126979680768 Disk_wr_ios\n"
     ]
    },
    {
     "name": "stderr",
     "output_type": "stream",
     "text": [
      "<ipython-input-82-dcc1e2084555>:27: UserWarning: Boolean Series key will be reindexed to match DataFrame index.\n",
      "  df_hk = df[df.cmdb_id == host][df.name == kpi]\n",
      "<ipython-input-82-dcc1e2084555>:27: UserWarning: Boolean Series key will be reindexed to match DataFrame index.\n",
      "  df_hk = df[df.cmdb_id == host][df.name == kpi]\n",
      "<ipython-input-82-dcc1e2084555>:27: UserWarning: Boolean Series key will be reindexed to match DataFrame index.\n",
      "  df_hk = df[df.cmdb_id == host][df.name == kpi]\n",
      "<ipython-input-82-dcc1e2084555>:27: UserWarning: Boolean Series key will be reindexed to match DataFrame index.\n",
      "  df_hk = df[df.cmdb_id == host][df.name == kpi]\n",
      "<ipython-input-82-dcc1e2084555>:27: UserWarning: Boolean Series key will be reindexed to match DataFrame index.\n",
      "  df_hk = df[df.cmdb_id == host][df.name == kpi]\n"
     ]
    },
    {
     "name": "stdout",
     "output_type": "stream",
     "text": [
      "Threshold  0.5781544098945072 Memory_used_pct\n",
      "Threshold  1.5843108899224785 CPU_iowait_time\n",
      "Threshold  1.7545923360059419 System_wait_queue_length\n",
      "Threshold  1.2997308300553163 CPU_system_time\n"
     ]
    },
    {
     "name": "stderr",
     "output_type": "stream",
     "text": [
      "<ipython-input-82-dcc1e2084555>:27: UserWarning: Boolean Series key will be reindexed to match DataFrame index.\n",
      "  df_hk = df[df.cmdb_id == host][df.name == kpi]\n",
      "<ipython-input-82-dcc1e2084555>:27: UserWarning: Boolean Series key will be reindexed to match DataFrame index.\n",
      "  df_hk = df[df.cmdb_id == host][df.name == kpi]\n",
      "<ipython-input-82-dcc1e2084555>:27: UserWarning: Boolean Series key will be reindexed to match DataFrame index.\n",
      "  df_hk = df[df.cmdb_id == host][df.name == kpi]\n",
      "<ipython-input-82-dcc1e2084555>:27: UserWarning: Boolean Series key will be reindexed to match DataFrame index.\n",
      "  df_hk = df[df.cmdb_id == host][df.name == kpi]\n",
      "<ipython-input-82-dcc1e2084555>:27: UserWarning: Boolean Series key will be reindexed to match DataFrame index.\n",
      "  df_hk = df[df.cmdb_id == host][df.name == kpi]\n"
     ]
    },
    {
     "name": "stdout",
     "output_type": "stream",
     "text": [
      "Threshold  -1.0 Disk_rd_kbs\n",
      "Threshold  0.581691802870616 Memory_available\n",
      "Threshold  0.5766164130543799 Memory_used\n",
      "Threshold  -1.0 System_block_queue_length\n",
      "Threshold  -1.0 Received_packets\n"
     ]
    },
    {
     "name": "stderr",
     "output_type": "stream",
     "text": [
      "<ipython-input-82-dcc1e2084555>:27: UserWarning: Boolean Series key will be reindexed to match DataFrame index.\n",
      "  df_hk = df[df.cmdb_id == host][df.name == kpi]\n",
      "<ipython-input-82-dcc1e2084555>:27: UserWarning: Boolean Series key will be reindexed to match DataFrame index.\n",
      "  df_hk = df[df.cmdb_id == host][df.name == kpi]\n",
      "<ipython-input-82-dcc1e2084555>:27: UserWarning: Boolean Series key will be reindexed to match DataFrame index.\n",
      "  df_hk = df[df.cmdb_id == host][df.name == kpi]\n",
      "<ipython-input-82-dcc1e2084555>:27: UserWarning: Boolean Series key will be reindexed to match DataFrame index.\n",
      "  df_hk = df[df.cmdb_id == host][df.name == kpi]\n"
     ]
    },
    {
     "name": "stdout",
     "output_type": "stream",
     "text": [
      "Threshold  -1.0 Received_errors_packets\n",
      "Threshold  0.5791468021708499 Memory_free\n",
      "Threshold  1.0341835204036791 Sent_queue\n",
      "Threshold  0.5449685365627879 Cache_used\n"
     ]
    },
    {
     "name": "stderr",
     "output_type": "stream",
     "text": [
      "/Users/baconbaker/anaconda3/envs/ml/lib/python3.8/site-packages/alibi_detect/od/sr.py:96: RuntimeWarning: divide by zero encountered in log\n",
      "  log_amp = np.log(amp)\n",
      "/Users/baconbaker/anaconda3/envs/ml/lib/python3.8/site-packages/alibi_detect/od/sr.py:99: RuntimeWarning: invalid value encountered in subtract\n",
      "  res_amp = log_amp - ma_log_amp\n",
      "/Users/baconbaker/anaconda3/envs/ml/lib/python3.8/site-packages/alibi_detect/od/sr.py:207: RuntimeWarning: invalid value encountered in greater\n",
      "  outlier_pred = (iscore > self.threshold).astype(int)\n",
      "<ipython-input-82-dcc1e2084555>:27: UserWarning: Boolean Series key will be reindexed to match DataFrame index.\n",
      "  df_hk = df[df.cmdb_id == host][df.name == kpi]\n",
      "<ipython-input-82-dcc1e2084555>:27: UserWarning: Boolean Series key will be reindexed to match DataFrame index.\n",
      "  df_hk = df[df.cmdb_id == host][df.name == kpi]\n",
      "<ipython-input-82-dcc1e2084555>:27: UserWarning: Boolean Series key will be reindexed to match DataFrame index.\n",
      "  df_hk = df[df.cmdb_id == host][df.name == kpi]\n"
     ]
    },
    {
     "name": "stdout",
     "output_type": "stream",
     "text": [
      "Threshold  -1.0 Received_queue\n",
      "Threshold  0.6036805031445119 Buffers_used\n",
      "Threshold  0.5809634651966513 FS_used_space\n",
      "Threshold  -1.0 Sent_packets\n",
      "Threshold "
     ]
    },
    {
     "name": "stderr",
     "output_type": "stream",
     "text": [
      "/Users/baconbaker/anaconda3/envs/ml/lib/python3.8/site-packages/alibi_detect/od/sr.py:96: RuntimeWarning: divide by zero encountered in log\n",
      "  log_amp = np.log(amp)\n",
      "/Users/baconbaker/anaconda3/envs/ml/lib/python3.8/site-packages/alibi_detect/od/sr.py:99: RuntimeWarning: invalid value encountered in subtract\n",
      "  res_amp = log_amp - ma_log_amp\n",
      "/Users/baconbaker/anaconda3/envs/ml/lib/python3.8/site-packages/alibi_detect/od/sr.py:207: RuntimeWarning: invalid value encountered in greater\n",
      "  outlier_pred = (iscore > self.threshold).astype(int)\n",
      "<ipython-input-82-dcc1e2084555>:27: UserWarning: Boolean Series key will be reindexed to match DataFrame index.\n",
      "  df_hk = df[df.cmdb_id == host][df.name == kpi]\n",
      "<ipython-input-82-dcc1e2084555>:27: UserWarning: Boolean Series key will be reindexed to match DataFrame index.\n",
      "  df_hk = df[df.cmdb_id == host][df.name == kpi]\n",
      "<ipython-input-82-dcc1e2084555>:27: UserWarning: Boolean Series key will be reindexed to match DataFrame index.\n",
      "  df_hk = df[df.cmdb_id == host][df.name == kpi]\n",
      "<ipython-input-82-dcc1e2084555>:27: UserWarning: Boolean Series key will be reindexed to match DataFrame index.\n",
      "  df_hk = df[df.cmdb_id == host][df.name == kpi]\n"
     ]
    },
    {
     "name": "stdout",
     "output_type": "stream",
     "text": [
      " 0.5802601269881384 FS_used_pct\n",
      "Threshold  nan FS_total_space\n",
      "NaN, Skipping!\n",
      "Threshold  nan FS_max_util\n",
      "NaN, Skipping!\n",
      "Threshold  nan ICMP_ping\n"
     ]
    },
    {
     "name": "stderr",
     "output_type": "stream",
     "text": [
      "<ipython-input-82-dcc1e2084555>:27: UserWarning: Boolean Series key will be reindexed to match DataFrame index.\n",
      "  df_hk = df[df.cmdb_id == host][df.name == kpi]\n",
      "<ipython-input-82-dcc1e2084555>:27: UserWarning: Boolean Series key will be reindexed to match DataFrame index.\n",
      "  df_hk = df[df.cmdb_id == host][df.name == kpi]\n",
      "<ipython-input-82-dcc1e2084555>:27: UserWarning: Boolean Series key will be reindexed to match DataFrame index.\n",
      "  df_hk = df[df.cmdb_id == host][df.name == kpi]\n",
      "<ipython-input-82-dcc1e2084555>:27: UserWarning: Boolean Series key will be reindexed to match DataFrame index.\n",
      "  df_hk = df[df.cmdb_id == host][df.name == kpi]\n"
     ]
    },
    {
     "name": "stdout",
     "output_type": "stream",
     "text": [
      "NaN, Skipping!\n",
      "Threshold  0.5792725987918079 FS_max_avail\n",
      "Threshold  -1.0 Swap_used_pct\n",
      "Threshold  nan Memory_total\n",
      "NaN, Skipping!"
     ]
    },
    {
     "name": "stderr",
     "output_type": "stream",
     "text": [
      "<ipython-input-82-dcc1e2084555>:27: UserWarning: Boolean Series key will be reindexed to match DataFrame index.\n",
      "  df_hk = df[df.cmdb_id == host][df.name == kpi]\n",
      "<ipython-input-82-dcc1e2084555>:27: UserWarning: Boolean Series key will be reindexed to match DataFrame index.\n",
      "  df_hk = df[df.cmdb_id == host][df.name == kpi]\n",
      "<ipython-input-82-dcc1e2084555>:27: UserWarning: Boolean Series key will be reindexed to match DataFrame index.\n",
      "  df_hk = df[df.cmdb_id == host][df.name == kpi]\n",
      "<ipython-input-82-dcc1e2084555>:27: UserWarning: Boolean Series key will be reindexed to match DataFrame index.\n",
      "  df_hk = df[df.cmdb_id == host][df.name == kpi]\n"
     ]
    },
    {
     "name": "stdout",
     "output_type": "stream",
     "text": [
      "\n",
      "os_016  completed in  2.9581446647644043\n",
      "************************************************************\n",
      "Checking  os_019\n",
      "Threshold  -1.0 Sent_errors_packets\n",
      "Threshold  2.6325478587659523 Processor_load_5_min\n",
      "Threshold  -1.0 Disk_rd_ios\n",
      "Threshold  0.5268067883506412 CPU_util_pct\n",
      "Threshold  -1.0 Disk_io_util\n"
     ]
    },
    {
     "name": "stderr",
     "output_type": "stream",
     "text": [
      "<ipython-input-82-dcc1e2084555>:27: UserWarning: Boolean Series key will be reindexed to match DataFrame index.\n",
      "  df_hk = df[df.cmdb_id == host][df.name == kpi]\n",
      "<ipython-input-82-dcc1e2084555>:27: UserWarning: Boolean Series key will be reindexed to match DataFrame index.\n",
      "  df_hk = df[df.cmdb_id == host][df.name == kpi]\n",
      "<ipython-input-82-dcc1e2084555>:27: UserWarning: Boolean Series key will be reindexed to match DataFrame index.\n",
      "  df_hk = df[df.cmdb_id == host][df.name == kpi]\n",
      "<ipython-input-82-dcc1e2084555>:27: UserWarning: Boolean Series key will be reindexed to match DataFrame index.\n",
      "  df_hk = df[df.cmdb_id == host][df.name == kpi]\n",
      "<ipython-input-82-dcc1e2084555>:27: UserWarning: Boolean Series key will be reindexed to match DataFrame index.\n",
      "  df_hk = df[df.cmdb_id == host][df.name == kpi]\n"
     ]
    },
    {
     "name": "stdout",
     "output_type": "stream",
     "text": [
      "Threshold  0.5811370526128272 Num_of_processes\n",
      "Threshold  0.7562213829496325 Send_total\n",
      "Threshold  0.9084646765685824 Outgoing_network_traffic\n",
      "Threshold  0.5803635803216158 Memory_available_pct\n"
     ]
    },
    {
     "name": "stderr",
     "output_type": "stream",
     "text": [
      "/Users/baconbaker/anaconda3/envs/ml/lib/python3.8/site-packages/alibi_detect/od/sr.py:96: RuntimeWarning: divide by zero encountered in log\n",
      "  log_amp = np.log(amp)\n",
      "/Users/baconbaker/anaconda3/envs/ml/lib/python3.8/site-packages/alibi_detect/od/sr.py:99: RuntimeWarning: invalid value encountered in subtract\n",
      "  res_amp = log_amp - ma_log_amp\n",
      "/Users/baconbaker/anaconda3/envs/ml/lib/python3.8/site-packages/alibi_detect/od/sr.py:207: RuntimeWarning: invalid value encountered in greater\n",
      "  outlier_pred = (iscore > self.threshold).astype(int)\n",
      "<ipython-input-82-dcc1e2084555>:27: UserWarning: Boolean Series key will be reindexed to match DataFrame index.\n",
      "  df_hk = df[df.cmdb_id == host][df.name == kpi]\n",
      "<ipython-input-82-dcc1e2084555>:27: UserWarning: Boolean Series key will be reindexed to match DataFrame index.\n",
      "  df_hk = df[df.cmdb_id == host][df.name == kpi]\n",
      "/Users/baconbaker/anaconda3/envs/ml/lib/python3.8/site-packages/alibi_detect/od/sr.py:96: RuntimeWarning: divide by zero encountered in log\n",
      "  log_amp = np.log(amp)\n",
      "/Users/baconbaker/anaconda3/envs/ml/lib/python3.8/site-packages/alibi_detect/od/sr.py:99: RuntimeWarning: invalid value encountered in subtract\n",
      "  res_amp = log_amp - ma_log_amp\n",
      "/Users/baconbaker/anaconda3/envs/ml/lib/python3.8/site-packages/alibi_detect/od/sr.py:207: RuntimeWarning: invalid value encountered in greater\n",
      "  outlier_pred = (iscore > self.threshold).astype(int)\n",
      "<ipython-input-82-dcc1e2084555>:27: UserWarning: Boolean Series key will be reindexed to match DataFrame index.\n",
      "  df_hk = df[df.cmdb_id == host][df.name == kpi]\n",
      "/Users/baconbaker/anaconda3/envs/ml/lib/python3.8/site-packages/alibi_detect/od/sr.py:96: RuntimeWarning: divide by zero encountered in log\n",
      "  log_amp = np.log(amp)\n",
      "/Users/baconbaker/anaconda3/envs/ml/lib/python3.8/site-packages/alibi_detect/od/sr.py:99: RuntimeWarning: invalid value encountered in subtract\n",
      "  res_amp = log_amp - ma_log_amp\n",
      "/Users/baconbaker/anaconda3/envs/ml/lib/python3.8/site-packages/alibi_detect/od/sr.py:207: RuntimeWarning: invalid value encountered in greater\n",
      "  outlier_pred = (iscore > self.threshold).astype(int)\n",
      "<ipython-input-82-dcc1e2084555>:27: UserWarning: Boolean Series key will be reindexed to match DataFrame index.\n",
      "  df_hk = df[df.cmdb_id == host][df.name == kpi]\n"
     ]
    },
    {
     "name": "stdout",
     "output_type": "stream",
     "text": [
      "Threshold  0.7130133623898853 Incoming_network_traffic\n",
      "Threshold  3.068036015681125 Zombie_Process\n",
      "Threshold  0.5782931206894251 Recv_total\n",
      "Threshold  0.5816040904640642 Page_po\n"
     ]
    },
    {
     "name": "stderr",
     "output_type": "stream",
     "text": [
      "<ipython-input-82-dcc1e2084555>:27: UserWarning: Boolean Series key will be reindexed to match DataFrame index.\n",
      "  df_hk = df[df.cmdb_id == host][df.name == kpi]\n",
      "<ipython-input-82-dcc1e2084555>:27: UserWarning: Boolean Series key will be reindexed to match DataFrame index.\n",
      "  df_hk = df[df.cmdb_id == host][df.name == kpi]\n",
      "<ipython-input-82-dcc1e2084555>:27: UserWarning: Boolean Series key will be reindexed to match DataFrame index.\n",
      "  df_hk = df[df.cmdb_id == host][df.name == kpi]\n",
      "<ipython-input-82-dcc1e2084555>:27: UserWarning: Boolean Series key will be reindexed to match DataFrame index.\n",
      "  df_hk = df[df.cmdb_id == host][df.name == kpi]\n"
     ]
    },
    {
     "name": "stdout",
     "output_type": "stream",
     "text": [
      "[0 0 0 0 0 0 1 0 0 0 0 0 0 0 0 0 0 0 0 0 1 1 0 0 0 0 1 1 1 1]\n",
      "ST Threshold Anomaly!\n",
      "Threshold  0.5815687917158954 CPU_idle_pct\n",
      "Threshold  3.948092031175937 Processor_load_1_min\n",
      "Threshold  nan Agent_ping\n",
      "NaN, Skipping!\n",
      "Threshold  1.1443347127039971 Num_of_running_processes\n",
      "Threshold "
     ]
    },
    {
     "name": "stderr",
     "output_type": "stream",
     "text": [
      "<ipython-input-82-dcc1e2084555>:27: UserWarning: Boolean Series key will be reindexed to match DataFrame index.\n",
      "  df_hk = df[df.cmdb_id == host][df.name == kpi]\n",
      "<ipython-input-82-dcc1e2084555>:27: UserWarning: Boolean Series key will be reindexed to match DataFrame index.\n",
      "  df_hk = df[df.cmdb_id == host][df.name == kpi]\n",
      "<ipython-input-82-dcc1e2084555>:27: UserWarning: Boolean Series key will be reindexed to match DataFrame index.\n",
      "  df_hk = df[df.cmdb_id == host][df.name == kpi]\n",
      "<ipython-input-82-dcc1e2084555>:27: UserWarning: Boolean Series key will be reindexed to match DataFrame index.\n",
      "  df_hk = df[df.cmdb_id == host][df.name == kpi]\n",
      "<ipython-input-82-dcc1e2084555>:27: UserWarning: Boolean Series key will be reindexed to match DataFrame index.\n",
      "  df_hk = df[df.cmdb_id == host][df.name == kpi]\n"
     ]
    },
    {
     "name": "stdout",
     "output_type": "stream",
     "text": [
      " 0.5912207449273618 ss_total\n",
      "Threshold  2.1846194158663135 Processor_load_15_min\n",
      "Threshold  7.636993342113772 Page_pi\n",
      "Threshold  2.430690807330948 Disk_avgqu_sz\n",
      "Threshold  1.076996797622768 Disk_wr_kbs\n",
      "[1 0 0 0 0 0 0 0 0 0 0 0 0 0 0 0 0 0 0 0 0 0 0 1 0 0 0 1 0 0]\n",
      "ST Threshold Anomaly!\n",
      "Threshold  2.4015085334696535 Disk_await\n",
      "Threshold  0.579794566226259 Shared_memory\n",
      "Threshold  0.5484350848865989 CPU_user_time\n",
      "Threshold  3.301077409088061 Disk_svctm\n"
     ]
    },
    {
     "name": "stderr",
     "output_type": "stream",
     "text": [
      "<ipython-input-82-dcc1e2084555>:27: UserWarning: Boolean Series key will be reindexed to match DataFrame index.\n",
      "  df_hk = df[df.cmdb_id == host][df.name == kpi]\n",
      "<ipython-input-82-dcc1e2084555>:27: UserWarning: Boolean Series key will be reindexed to match DataFrame index.\n",
      "  df_hk = df[df.cmdb_id == host][df.name == kpi]\n",
      "<ipython-input-82-dcc1e2084555>:27: UserWarning: Boolean Series key will be reindexed to match DataFrame index.\n",
      "  df_hk = df[df.cmdb_id == host][df.name == kpi]\n",
      "<ipython-input-82-dcc1e2084555>:27: UserWarning: Boolean Series key will be reindexed to match DataFrame index.\n",
      "  df_hk = df[df.cmdb_id == host][df.name == kpi]\n",
      "<ipython-input-82-dcc1e2084555>:27: UserWarning: Boolean Series key will be reindexed to match DataFrame index.\n",
      "  df_hk = df[df.cmdb_id == host][df.name == kpi]\n"
     ]
    },
    {
     "name": "stdout",
     "output_type": "stream",
     "text": [
      "Threshold  0.7863010591914366 Disk_wr_ios\n",
      "[1 1 0 0 0 0 0 0 0 0 0 0 0 0 0 0 0 0 0 0 0 0 1 0 0 0 0 0 1 1]\n",
      "ST Threshold Anomaly!\n",
      "Threshold  0.6062442152597277 Memory_used_pct\n",
      "Threshold  4.061944465285748 CPU_iowait_time\n",
      "Threshold  1.6503540057878885 System_wait_queue_length\n"
     ]
    },
    {
     "name": "stderr",
     "output_type": "stream",
     "text": [
      "<ipython-input-82-dcc1e2084555>:27: UserWarning: Boolean Series key will be reindexed to match DataFrame index.\n",
      "  df_hk = df[df.cmdb_id == host][df.name == kpi]\n",
      "<ipython-input-82-dcc1e2084555>:27: UserWarning: Boolean Series key will be reindexed to match DataFrame index.\n",
      "  df_hk = df[df.cmdb_id == host][df.name == kpi]\n",
      "<ipython-input-82-dcc1e2084555>:27: UserWarning: Boolean Series key will be reindexed to match DataFrame index.\n",
      "  df_hk = df[df.cmdb_id == host][df.name == kpi]\n",
      "<ipython-input-82-dcc1e2084555>:27: UserWarning: Boolean Series key will be reindexed to match DataFrame index.\n",
      "  df_hk = df[df.cmdb_id == host][df.name == kpi]\n"
     ]
    },
    {
     "name": "stdout",
     "output_type": "stream",
     "text": [
      "Threshold  0.6474806233590402 CPU_system_time\n",
      "Threshold  7.126528461794653 Disk_rd_kbs\n",
      "Threshold  0.5785183679472978 Memory_available\n",
      "Threshold  0.5838544540347521 Memory_used\n",
      "Threshold  -1.0 System_block_queue_length\n"
     ]
    },
    {
     "name": "stderr",
     "output_type": "stream",
     "text": [
      "<ipython-input-82-dcc1e2084555>:27: UserWarning: Boolean Series key will be reindexed to match DataFrame index.\n",
      "  df_hk = df[df.cmdb_id == host][df.name == kpi]\n",
      "<ipython-input-82-dcc1e2084555>:27: UserWarning: Boolean Series key will be reindexed to match DataFrame index.\n",
      "  df_hk = df[df.cmdb_id == host][df.name == kpi]\n",
      "<ipython-input-82-dcc1e2084555>:27: UserWarning: Boolean Series key will be reindexed to match DataFrame index.\n",
      "  df_hk = df[df.cmdb_id == host][df.name == kpi]\n",
      "<ipython-input-82-dcc1e2084555>:27: UserWarning: Boolean Series key will be reindexed to match DataFrame index.\n",
      "  df_hk = df[df.cmdb_id == host][df.name == kpi]\n",
      "<ipython-input-82-dcc1e2084555>:27: UserWarning: Boolean Series key will be reindexed to match DataFrame index.\n",
      "  df_hk = df[df.cmdb_id == host][df.name == kpi]\n",
      "<ipython-input-82-dcc1e2084555>:27: UserWarning: Boolean Series key will be reindexed to match DataFrame index.\n",
      "  df_hk = df[df.cmdb_id == host][df.name == kpi]\n",
      "<ipython-input-82-dcc1e2084555>:27: UserWarning: Boolean Series key will be reindexed to match DataFrame index.\n",
      "  df_hk = df[df.cmdb_id == host][df.name == kpi]\n",
      "<ipython-input-82-dcc1e2084555>:27: UserWarning: Boolean Series key will be reindexed to match DataFrame index.\n",
      "  df_hk = df[df.cmdb_id == host][df.name == kpi]\n"
     ]
    },
    {
     "name": "stdout",
     "output_type": "stream",
     "text": [
      "Threshold  -1.0 Received_packets\n",
      "Threshold  -1.0 Received_errors_packets\n",
      "Threshold  0.5797008160092617 Memory_free\n",
      "Threshold  1.9332059909747807 Sent_queue\n",
      "Threshold  0.5756892672922899 Cache_used\n",
      "Threshold  nan Received_queue\n",
      "NaN, Skipping!\n",
      "Threshold  nan Buffers_used\n"
     ]
    },
    {
     "name": "stderr",
     "output_type": "stream",
     "text": [
      "<ipython-input-82-dcc1e2084555>:27: UserWarning: Boolean Series key will be reindexed to match DataFrame index.\n",
      "  df_hk = df[df.cmdb_id == host][df.name == kpi]\n",
      "<ipython-input-82-dcc1e2084555>:27: UserWarning: Boolean Series key will be reindexed to match DataFrame index.\n",
      "  df_hk = df[df.cmdb_id == host][df.name == kpi]\n",
      "<ipython-input-82-dcc1e2084555>:27: UserWarning: Boolean Series key will be reindexed to match DataFrame index.\n",
      "  df_hk = df[df.cmdb_id == host][df.name == kpi]\n",
      "<ipython-input-82-dcc1e2084555>:27: UserWarning: Boolean Series key will be reindexed to match DataFrame index.\n",
      "  df_hk = df[df.cmdb_id == host][df.name == kpi]\n"
     ]
    },
    {
     "name": "stdout",
     "output_type": "stream",
     "text": [
      "NaN, Skipping!\n",
      "Threshold  0.5841954999403002 FS_used_space\n",
      "Threshold  -1.0 Sent_packets\n",
      "Threshold  0.5859004894971851 FS_used_pct\n",
      "Threshold  nan FS_total_space\n"
     ]
    },
    {
     "name": "stderr",
     "output_type": "stream",
     "text": [
      "<ipython-input-82-dcc1e2084555>:27: UserWarning: Boolean Series key will be reindexed to match DataFrame index.\n",
      "  df_hk = df[df.cmdb_id == host][df.name == kpi]\n",
      "<ipython-input-82-dcc1e2084555>:27: UserWarning: Boolean Series key will be reindexed to match DataFrame index.\n",
      "  df_hk = df[df.cmdb_id == host][df.name == kpi]\n",
      "<ipython-input-82-dcc1e2084555>:27: UserWarning: Boolean Series key will be reindexed to match DataFrame index.\n",
      "  df_hk = df[df.cmdb_id == host][df.name == kpi]\n",
      "<ipython-input-82-dcc1e2084555>:27: UserWarning: Boolean Series key will be reindexed to match DataFrame index.\n",
      "  df_hk = df[df.cmdb_id == host][df.name == kpi]\n"
     ]
    },
    {
     "name": "stdout",
     "output_type": "stream",
     "text": [
      "NaN, Skipping!\n",
      "Threshold  nan FS_max_util\n",
      "NaN, Skipping!\n",
      "Threshold  nan ICMP_ping\n",
      "NaN, Skipping!\n",
      "Threshold  0.5694443171442396 FS_max_avail\n",
      "Threshold  -1.0 Swap_used_pct\n",
      "Threshold "
     ]
    },
    {
     "name": "stderr",
     "output_type": "stream",
     "text": [
      "<ipython-input-82-dcc1e2084555>:27: UserWarning: Boolean Series key will be reindexed to match DataFrame index.\n",
      "  df_hk = df[df.cmdb_id == host][df.name == kpi]\n",
      "<ipython-input-82-dcc1e2084555>:27: UserWarning: Boolean Series key will be reindexed to match DataFrame index.\n",
      "  df_hk = df[df.cmdb_id == host][df.name == kpi]\n",
      "<ipython-input-82-dcc1e2084555>:27: UserWarning: Boolean Series key will be reindexed to match DataFrame index.\n",
      "  df_hk = df[df.cmdb_id == host][df.name == kpi]\n",
      "<ipython-input-82-dcc1e2084555>:27: UserWarning: Boolean Series key will be reindexed to match DataFrame index.\n",
      "  df_hk = df[df.cmdb_id == host][df.name == kpi]\n"
     ]
    },
    {
     "name": "stdout",
     "output_type": "stream",
     "text": [
      " nan Memory_total\n",
      "NaN, Skipping!\n",
      "os_019  completed in  2.969741106033325\n",
      "************************************************************\n",
      "Checking  os_002\n",
      "Threshold  -1.0 Sent_errors_packets\n",
      "Threshold  2.0130549837189293 Processor_load_5_min\n",
      "Threshold  -1.0 Disk_rd_ios\n"
     ]
    },
    {
     "name": "stderr",
     "output_type": "stream",
     "text": [
      "<ipython-input-82-dcc1e2084555>:27: UserWarning: Boolean Series key will be reindexed to match DataFrame index.\n",
      "  df_hk = df[df.cmdb_id == host][df.name == kpi]\n",
      "<ipython-input-82-dcc1e2084555>:27: UserWarning: Boolean Series key will be reindexed to match DataFrame index.\n",
      "  df_hk = df[df.cmdb_id == host][df.name == kpi]\n",
      "<ipython-input-82-dcc1e2084555>:27: UserWarning: Boolean Series key will be reindexed to match DataFrame index.\n",
      "  df_hk = df[df.cmdb_id == host][df.name == kpi]\n",
      "<ipython-input-82-dcc1e2084555>:27: UserWarning: Boolean Series key will be reindexed to match DataFrame index.\n",
      "  df_hk = df[df.cmdb_id == host][df.name == kpi]\n"
     ]
    },
    {
     "name": "stdout",
     "output_type": "stream",
     "text": [
      "Threshold  0.7493389459531177 CPU_util_pct\n",
      "Threshold  10.647608902942071 Disk_io_util\n",
      "Threshold  0.5881991647211358 Num_of_processes\n",
      "Threshold  3.4019444678363366 Send_total\n",
      "Threshold  2.7421901950001604 Outgoing_network_traffic\n"
     ]
    },
    {
     "name": "stderr",
     "output_type": "stream",
     "text": [
      "<ipython-input-82-dcc1e2084555>:27: UserWarning: Boolean Series key will be reindexed to match DataFrame index.\n",
      "  df_hk = df[df.cmdb_id == host][df.name == kpi]\n",
      "<ipython-input-82-dcc1e2084555>:27: UserWarning: Boolean Series key will be reindexed to match DataFrame index.\n",
      "  df_hk = df[df.cmdb_id == host][df.name == kpi]\n",
      "/Users/baconbaker/anaconda3/envs/ml/lib/python3.8/site-packages/alibi_detect/od/sr.py:96: RuntimeWarning: divide by zero encountered in log\n",
      "  log_amp = np.log(amp)\n",
      "/Users/baconbaker/anaconda3/envs/ml/lib/python3.8/site-packages/alibi_detect/od/sr.py:99: RuntimeWarning: invalid value encountered in subtract\n",
      "  res_amp = log_amp - ma_log_amp\n",
      "/Users/baconbaker/anaconda3/envs/ml/lib/python3.8/site-packages/alibi_detect/od/sr.py:207: RuntimeWarning: invalid value encountered in greater\n",
      "  outlier_pred = (iscore > self.threshold).astype(int)\n",
      "<ipython-input-82-dcc1e2084555>:27: UserWarning: Boolean Series key will be reindexed to match DataFrame index.\n",
      "  df_hk = df[df.cmdb_id == host][df.name == kpi]\n",
      "<ipython-input-82-dcc1e2084555>:27: UserWarning: Boolean Series key will be reindexed to match DataFrame index.\n",
      "  df_hk = df[df.cmdb_id == host][df.name == kpi]\n",
      "<ipython-input-82-dcc1e2084555>:27: UserWarning: Boolean Series key will be reindexed to match DataFrame index.\n",
      "  df_hk = df[df.cmdb_id == host][df.name == kpi]\n"
     ]
    },
    {
     "name": "stdout",
     "output_type": "stream",
     "text": [
      "Threshold  0.5770467463187521 Memory_available_pct\n",
      "Threshold  1.8734829782636035 Incoming_network_traffic\n",
      "Threshold  -1.0 Zombie_Process\n",
      "Threshold  0.5665679692380522 Recv_total\n"
     ]
    },
    {
     "name": "stderr",
     "output_type": "stream",
     "text": [
      "<ipython-input-82-dcc1e2084555>:27: UserWarning: Boolean Series key will be reindexed to match DataFrame index.\n",
      "  df_hk = df[df.cmdb_id == host][df.name == kpi]\n",
      "<ipython-input-82-dcc1e2084555>:27: UserWarning: Boolean Series key will be reindexed to match DataFrame index.\n",
      "  df_hk = df[df.cmdb_id == host][df.name == kpi]\n",
      "<ipython-input-82-dcc1e2084555>:27: UserWarning: Boolean Series key will be reindexed to match DataFrame index.\n",
      "  df_hk = df[df.cmdb_id == host][df.name == kpi]\n",
      "<ipython-input-82-dcc1e2084555>:27: UserWarning: Boolean Series key will be reindexed to match DataFrame index.\n",
      "  df_hk = df[df.cmdb_id == host][df.name == kpi]\n"
     ]
    },
    {
     "name": "stdout",
     "output_type": "stream",
     "text": [
      "[1 1 0 0 0 0 0 0 0 0 1 0 0 0 0 0 0 0 0 0 0 0 1 0 0 0 0 1 1 1]\n",
      "ST Threshold Anomaly!\n",
      "Threshold  0.5802764814872688 Page_po\n",
      "Threshold  0.5792571925921995 CPU_idle_pct\n",
      "Threshold  2.622785684407346 Processor_load_1_min\n",
      "Threshold  nan Agent_ping\n"
     ]
    },
    {
     "name": "stderr",
     "output_type": "stream",
     "text": [
      "<ipython-input-82-dcc1e2084555>:27: UserWarning: Boolean Series key will be reindexed to match DataFrame index.\n",
      "  df_hk = df[df.cmdb_id == host][df.name == kpi]\n",
      "<ipython-input-82-dcc1e2084555>:27: UserWarning: Boolean Series key will be reindexed to match DataFrame index.\n",
      "  df_hk = df[df.cmdb_id == host][df.name == kpi]\n",
      "<ipython-input-82-dcc1e2084555>:27: UserWarning: Boolean Series key will be reindexed to match DataFrame index.\n",
      "  df_hk = df[df.cmdb_id == host][df.name == kpi]\n",
      "<ipython-input-82-dcc1e2084555>:27: UserWarning: Boolean Series key will be reindexed to match DataFrame index.\n",
      "  df_hk = df[df.cmdb_id == host][df.name == kpi]\n",
      "<ipython-input-82-dcc1e2084555>:27: UserWarning: Boolean Series key will be reindexed to match DataFrame index.\n",
      "  df_hk = df[df.cmdb_id == host][df.name == kpi]\n"
     ]
    },
    {
     "name": "stdout",
     "output_type": "stream",
     "text": [
      "NaN, Skipping!\n",
      "Threshold  1.1299091956853158 Num_of_running_processes\n",
      "Threshold  0.6127100637601617 ss_total\n",
      "Threshold  1.7162629668852036 Processor_load_15_min\n",
      "Threshold  -1.0 Page_pi\n",
      "Threshold "
     ]
    },
    {
     "name": "stderr",
     "output_type": "stream",
     "text": [
      "/Users/baconbaker/anaconda3/envs/ml/lib/python3.8/site-packages/alibi_detect/od/sr.py:96: RuntimeWarning: divide by zero encountered in log\n",
      "  log_amp = np.log(amp)\n",
      "/Users/baconbaker/anaconda3/envs/ml/lib/python3.8/site-packages/alibi_detect/od/sr.py:99: RuntimeWarning: invalid value encountered in subtract\n",
      "  res_amp = log_amp - ma_log_amp\n",
      "/Users/baconbaker/anaconda3/envs/ml/lib/python3.8/site-packages/alibi_detect/od/sr.py:207: RuntimeWarning: invalid value encountered in greater\n",
      "  outlier_pred = (iscore > self.threshold).astype(int)\n",
      "<ipython-input-82-dcc1e2084555>:27: UserWarning: Boolean Series key will be reindexed to match DataFrame index.\n",
      "  df_hk = df[df.cmdb_id == host][df.name == kpi]\n",
      "<ipython-input-82-dcc1e2084555>:27: UserWarning: Boolean Series key will be reindexed to match DataFrame index.\n",
      "  df_hk = df[df.cmdb_id == host][df.name == kpi]\n",
      "<ipython-input-82-dcc1e2084555>:27: UserWarning: Boolean Series key will be reindexed to match DataFrame index.\n",
      "  df_hk = df[df.cmdb_id == host][df.name == kpi]\n",
      "<ipython-input-82-dcc1e2084555>:27: UserWarning: Boolean Series key will be reindexed to match DataFrame index.\n",
      "  df_hk = df[df.cmdb_id == host][df.name == kpi]\n"
     ]
    },
    {
     "name": "stdout",
     "output_type": "stream",
     "text": [
      " 4.725629506610943 Disk_avgqu_sz\n",
      "Threshold  2.6019693109132547 Disk_wr_kbs\n",
      "Threshold  0.6950844947467044 Disk_await\n",
      "Threshold  -1.0 Shared_memory\n"
     ]
    },
    {
     "name": "stderr",
     "output_type": "stream",
     "text": [
      "<ipython-input-82-dcc1e2084555>:27: UserWarning: Boolean Series key will be reindexed to match DataFrame index.\n",
      "  df_hk = df[df.cmdb_id == host][df.name == kpi]\n",
      "<ipython-input-82-dcc1e2084555>:27: UserWarning: Boolean Series key will be reindexed to match DataFrame index.\n",
      "  df_hk = df[df.cmdb_id == host][df.name == kpi]\n",
      "<ipython-input-82-dcc1e2084555>:27: UserWarning: Boolean Series key will be reindexed to match DataFrame index.\n",
      "  df_hk = df[df.cmdb_id == host][df.name == kpi]\n",
      "<ipython-input-82-dcc1e2084555>:27: UserWarning: Boolean Series key will be reindexed to match DataFrame index.\n",
      "  df_hk = df[df.cmdb_id == host][df.name == kpi]\n"
     ]
    },
    {
     "name": "stdout",
     "output_type": "stream",
     "text": [
      "Threshold  1.0282283411102968 CPU_user_time\n",
      "Threshold  2.2205998402561167 Disk_svctm\n",
      "Threshold  1.0824285148013872 Disk_wr_ios\n",
      "Threshold  0.5796003020959433 Memory_used_pct\n"
     ]
    },
    {
     "name": "stderr",
     "output_type": "stream",
     "text": [
      "<ipython-input-82-dcc1e2084555>:27: UserWarning: Boolean Series key will be reindexed to match DataFrame index.\n",
      "  df_hk = df[df.cmdb_id == host][df.name == kpi]\n",
      "/Users/baconbaker/anaconda3/envs/ml/lib/python3.8/site-packages/alibi_detect/od/sr.py:96: RuntimeWarning: divide by zero encountered in log\n",
      "  log_amp = np.log(amp)\n",
      "/Users/baconbaker/anaconda3/envs/ml/lib/python3.8/site-packages/alibi_detect/od/sr.py:99: RuntimeWarning: invalid value encountered in subtract\n",
      "  res_amp = log_amp - ma_log_amp\n",
      "/Users/baconbaker/anaconda3/envs/ml/lib/python3.8/site-packages/alibi_detect/od/sr.py:207: RuntimeWarning: invalid value encountered in greater\n",
      "  outlier_pred = (iscore > self.threshold).astype(int)\n",
      "<ipython-input-82-dcc1e2084555>:27: UserWarning: Boolean Series key will be reindexed to match DataFrame index.\n",
      "  df_hk = df[df.cmdb_id == host][df.name == kpi]\n",
      "<ipython-input-82-dcc1e2084555>:27: UserWarning: Boolean Series key will be reindexed to match DataFrame index.\n",
      "  df_hk = df[df.cmdb_id == host][df.name == kpi]\n",
      "<ipython-input-82-dcc1e2084555>:27: UserWarning: Boolean Series key will be reindexed to match DataFrame index.\n",
      "  df_hk = df[df.cmdb_id == host][df.name == kpi]\n"
     ]
    },
    {
     "name": "stdout",
     "output_type": "stream",
     "text": [
      "Threshold  5.629176700694591 CPU_iowait_time\n",
      "Threshold  0.915498679853441 System_wait_queue_length\n",
      "Threshold  0.5551854099322752 CPU_system_time\n",
      "[1 1 0 1 0 0 1 0 0 1 0 0 0 0 0 0 0 0 0 0 0 0 0 1 0 0 1 1 1 1]\n",
      "ST Threshold Anomaly!\n",
      "Threshold  -1.0 Disk_rd_kbs\n",
      "Threshold "
     ]
    },
    {
     "name": "stderr",
     "output_type": "stream",
     "text": [
      "<ipython-input-82-dcc1e2084555>:27: UserWarning: Boolean Series key will be reindexed to match DataFrame index.\n",
      "  df_hk = df[df.cmdb_id == host][df.name == kpi]\n",
      "<ipython-input-82-dcc1e2084555>:27: UserWarning: Boolean Series key will be reindexed to match DataFrame index.\n",
      "  df_hk = df[df.cmdb_id == host][df.name == kpi]\n",
      "<ipython-input-82-dcc1e2084555>:27: UserWarning: Boolean Series key will be reindexed to match DataFrame index.\n",
      "  df_hk = df[df.cmdb_id == host][df.name == kpi]\n",
      "<ipython-input-82-dcc1e2084555>:27: UserWarning: Boolean Series key will be reindexed to match DataFrame index.\n",
      "  df_hk = df[df.cmdb_id == host][df.name == kpi]\n",
      "<ipython-input-82-dcc1e2084555>:27: UserWarning: Boolean Series key will be reindexed to match DataFrame index.\n",
      "  df_hk = df[df.cmdb_id == host][df.name == kpi]\n"
     ]
    },
    {
     "name": "stdout",
     "output_type": "stream",
     "text": [
      " 0.5802986409386435 Memory_available\n",
      "Threshold  0.5807857441287072 Memory_used\n",
      "Threshold  2.3836823968343297 System_block_queue_length\n",
      "Threshold  0.5713425399198256 Received_packets\n",
      "Threshold  -1.0 Received_errors_packets\n"
     ]
    },
    {
     "name": "stderr",
     "output_type": "stream",
     "text": [
      "<ipython-input-82-dcc1e2084555>:27: UserWarning: Boolean Series key will be reindexed to match DataFrame index.\n",
      "  df_hk = df[df.cmdb_id == host][df.name == kpi]\n",
      "/Users/baconbaker/anaconda3/envs/ml/lib/python3.8/site-packages/alibi_detect/od/sr.py:96: RuntimeWarning: divide by zero encountered in log\n",
      "  log_amp = np.log(amp)\n",
      "/Users/baconbaker/anaconda3/envs/ml/lib/python3.8/site-packages/alibi_detect/od/sr.py:99: RuntimeWarning: invalid value encountered in subtract\n",
      "  res_amp = log_amp - ma_log_amp\n",
      "/Users/baconbaker/anaconda3/envs/ml/lib/python3.8/site-packages/alibi_detect/od/sr.py:207: RuntimeWarning: invalid value encountered in greater\n",
      "  outlier_pred = (iscore > self.threshold).astype(int)\n",
      "<ipython-input-82-dcc1e2084555>:27: UserWarning: Boolean Series key will be reindexed to match DataFrame index.\n",
      "  df_hk = df[df.cmdb_id == host][df.name == kpi]\n",
      "<ipython-input-82-dcc1e2084555>:27: UserWarning: Boolean Series key will be reindexed to match DataFrame index.\n",
      "  df_hk = df[df.cmdb_id == host][df.name == kpi]\n",
      "<ipython-input-82-dcc1e2084555>:27: UserWarning: Boolean Series key will be reindexed to match DataFrame index.\n",
      "  df_hk = df[df.cmdb_id == host][df.name == kpi]\n"
     ]
    },
    {
     "name": "stdout",
     "output_type": "stream",
     "text": [
      "Threshold  0.5661500976683462 Memory_free\n",
      "Threshold  0.7670180317496977 Sent_queue\n",
      "[1 1 1 1 1 1 1 0 0 0 0 0 0 0 0 0 0 0 0 0 0 0 0 0 1 1 1 1 1 1]\n",
      "ST Threshold Anomaly!\n",
      "Threshold  0.5785236918148435 Cache_used\n",
      "Threshold  -1.0 Received_queue\n",
      "Threshold "
     ]
    },
    {
     "name": "stderr",
     "output_type": "stream",
     "text": [
      "<ipython-input-82-dcc1e2084555>:27: UserWarning: Boolean Series key will be reindexed to match DataFrame index.\n",
      "  df_hk = df[df.cmdb_id == host][df.name == kpi]\n",
      "<ipython-input-82-dcc1e2084555>:27: UserWarning: Boolean Series key will be reindexed to match DataFrame index.\n",
      "  df_hk = df[df.cmdb_id == host][df.name == kpi]\n",
      "<ipython-input-82-dcc1e2084555>:27: UserWarning: Boolean Series key will be reindexed to match DataFrame index.\n",
      "  df_hk = df[df.cmdb_id == host][df.name == kpi]\n",
      "<ipython-input-82-dcc1e2084555>:27: UserWarning: Boolean Series key will be reindexed to match DataFrame index.\n",
      "  df_hk = df[df.cmdb_id == host][df.name == kpi]\n"
     ]
    },
    {
     "name": "stdout",
     "output_type": "stream",
     "text": [
      " 0.5811349755869822 Buffers_used\n",
      "Threshold  0.5790265210473218 FS_used_space\n",
      "Threshold  0.5428242442876597 Sent_packets\n",
      "Threshold  0.5790041389945231 FS_used_pct\n"
     ]
    },
    {
     "name": "stderr",
     "output_type": "stream",
     "text": [
      "<ipython-input-82-dcc1e2084555>:27: UserWarning: Boolean Series key will be reindexed to match DataFrame index.\n",
      "  df_hk = df[df.cmdb_id == host][df.name == kpi]\n",
      "<ipython-input-82-dcc1e2084555>:27: UserWarning: Boolean Series key will be reindexed to match DataFrame index.\n",
      "  df_hk = df[df.cmdb_id == host][df.name == kpi]\n",
      "<ipython-input-82-dcc1e2084555>:27: UserWarning: Boolean Series key will be reindexed to match DataFrame index.\n",
      "  df_hk = df[df.cmdb_id == host][df.name == kpi]\n",
      "<ipython-input-82-dcc1e2084555>:27: UserWarning: Boolean Series key will be reindexed to match DataFrame index.\n",
      "  df_hk = df[df.cmdb_id == host][df.name == kpi]\n"
     ]
    },
    {
     "name": "stdout",
     "output_type": "stream",
     "text": [
      "Threshold  nan FS_total_space\n",
      "NaN, Skipping!\n",
      "Threshold  nan FS_max_util\n",
      "NaN, Skipping!\n",
      "Threshold  nan ICMP_ping\n",
      "NaN, Skipping!\n",
      "Threshold  0.5774049507045639 FS_max_avail\n"
     ]
    },
    {
     "name": "stderr",
     "output_type": "stream",
     "text": [
      "<ipython-input-82-dcc1e2084555>:27: UserWarning: Boolean Series key will be reindexed to match DataFrame index.\n",
      "  df_hk = df[df.cmdb_id == host][df.name == kpi]\n",
      "<ipython-input-82-dcc1e2084555>:27: UserWarning: Boolean Series key will be reindexed to match DataFrame index.\n",
      "  df_hk = df[df.cmdb_id == host][df.name == kpi]\n",
      "<ipython-input-82-dcc1e2084555>:27: UserWarning: Boolean Series key will be reindexed to match DataFrame index.\n",
      "  df_hk = df[df.cmdb_id == host][df.name == kpi]\n",
      "<ipython-input-82-dcc1e2084555>:27: UserWarning: Boolean Series key will be reindexed to match DataFrame index.\n",
      "  df_hk = df[df.cmdb_id == host][df.name == kpi]\n"
     ]
    },
    {
     "name": "stdout",
     "output_type": "stream",
     "text": [
      "Threshold  -1.0 Swap_used_pct\n",
      "Threshold  nan Memory_total\n",
      "NaN, Skipping!\n",
      "os_002  completed in  2.9887280464172363\n",
      "************************************************************\n",
      "Checking  os_022\n",
      "Threshold  -1.0 Sent_errors_packets\n",
      "Threshold  2.230681732141866 Processor_load_5_min\n"
     ]
    },
    {
     "name": "stderr",
     "output_type": "stream",
     "text": [
      "<ipython-input-82-dcc1e2084555>:27: UserWarning: Boolean Series key will be reindexed to match DataFrame index.\n",
      "  df_hk = df[df.cmdb_id == host][df.name == kpi]\n",
      "<ipython-input-82-dcc1e2084555>:27: UserWarning: Boolean Series key will be reindexed to match DataFrame index.\n",
      "  df_hk = df[df.cmdb_id == host][df.name == kpi]\n",
      "<ipython-input-82-dcc1e2084555>:27: UserWarning: Boolean Series key will be reindexed to match DataFrame index.\n",
      "  df_hk = df[df.cmdb_id == host][df.name == kpi]\n",
      "<ipython-input-82-dcc1e2084555>:27: UserWarning: Boolean Series key will be reindexed to match DataFrame index.\n",
      "  df_hk = df[df.cmdb_id == host][df.name == kpi]\n"
     ]
    },
    {
     "name": "stdout",
     "output_type": "stream",
     "text": [
      "Threshold  -1.0 Disk_rd_ios\n",
      "Threshold  0.5904911833540492 CPU_util_pct\n",
      "Threshold  -1.0 Disk_io_util\n",
      "Threshold  0.5797070019526825 Num_of_processes\n",
      "Threshold "
     ]
    },
    {
     "name": "stderr",
     "output_type": "stream",
     "text": [
      "<ipython-input-82-dcc1e2084555>:27: UserWarning: Boolean Series key will be reindexed to match DataFrame index.\n",
      "  df_hk = df[df.cmdb_id == host][df.name == kpi]\n",
      "<ipython-input-82-dcc1e2084555>:27: UserWarning: Boolean Series key will be reindexed to match DataFrame index.\n",
      "  df_hk = df[df.cmdb_id == host][df.name == kpi]\n",
      "<ipython-input-82-dcc1e2084555>:27: UserWarning: Boolean Series key will be reindexed to match DataFrame index.\n",
      "  df_hk = df[df.cmdb_id == host][df.name == kpi]\n",
      "<ipython-input-82-dcc1e2084555>:27: UserWarning: Boolean Series key will be reindexed to match DataFrame index.\n",
      "  df_hk = df[df.cmdb_id == host][df.name == kpi]\n"
     ]
    },
    {
     "name": "stdout",
     "output_type": "stream",
     "text": [
      " 1.6075150385764747 Send_total\n",
      "Threshold  1.5123324171922077 Outgoing_network_traffic\n",
      "Threshold  0.5790272319456785 Memory_available_pct\n",
      "Threshold  1.6230345215524342 Incoming_network_traffic\n"
     ]
    },
    {
     "name": "stderr",
     "output_type": "stream",
     "text": [
      "<ipython-input-82-dcc1e2084555>:27: UserWarning: Boolean Series key will be reindexed to match DataFrame index.\n",
      "  df_hk = df[df.cmdb_id == host][df.name == kpi]\n",
      "<ipython-input-82-dcc1e2084555>:27: UserWarning: Boolean Series key will be reindexed to match DataFrame index.\n",
      "  df_hk = df[df.cmdb_id == host][df.name == kpi]\n",
      "<ipython-input-82-dcc1e2084555>:27: UserWarning: Boolean Series key will be reindexed to match DataFrame index.\n",
      "  df_hk = df[df.cmdb_id == host][df.name == kpi]\n",
      "<ipython-input-82-dcc1e2084555>:27: UserWarning: Boolean Series key will be reindexed to match DataFrame index.\n",
      "  df_hk = df[df.cmdb_id == host][df.name == kpi]\n"
     ]
    },
    {
     "name": "stdout",
     "output_type": "stream",
     "text": [
      "Threshold  -1.0 Zombie_Process\n",
      "Threshold  0.5722917058465771 Recv_total\n",
      "Threshold  0.5791768278157936 Page_po\n",
      "Threshold  0.5800401445452729 CPU_idle_pct\n"
     ]
    },
    {
     "name": "stderr",
     "output_type": "stream",
     "text": [
      "<ipython-input-82-dcc1e2084555>:27: UserWarning: Boolean Series key will be reindexed to match DataFrame index.\n",
      "  df_hk = df[df.cmdb_id == host][df.name == kpi]\n",
      "<ipython-input-82-dcc1e2084555>:27: UserWarning: Boolean Series key will be reindexed to match DataFrame index.\n",
      "  df_hk = df[df.cmdb_id == host][df.name == kpi]\n",
      "<ipython-input-82-dcc1e2084555>:27: UserWarning: Boolean Series key will be reindexed to match DataFrame index.\n",
      "  df_hk = df[df.cmdb_id == host][df.name == kpi]\n",
      "<ipython-input-82-dcc1e2084555>:27: UserWarning: Boolean Series key will be reindexed to match DataFrame index.\n",
      "  df_hk = df[df.cmdb_id == host][df.name == kpi]\n",
      "<ipython-input-82-dcc1e2084555>:27: UserWarning: Boolean Series key will be reindexed to match DataFrame index.\n",
      "  df_hk = df[df.cmdb_id == host][df.name == kpi]\n"
     ]
    },
    {
     "name": "stdout",
     "output_type": "stream",
     "text": [
      "Threshold  3.0421322600475924 Processor_load_1_min\n",
      "Threshold  nan Agent_ping\n",
      "NaN, Skipping!\n",
      "Threshold  1.0234761012477531 Num_of_running_processes\n",
      "Threshold  0.6063262206015836 ss_total\n",
      "Threshold  1.7880328762911075 Processor_load_15_min\n"
     ]
    },
    {
     "name": "stderr",
     "output_type": "stream",
     "text": [
      "<ipython-input-82-dcc1e2084555>:27: UserWarning: Boolean Series key will be reindexed to match DataFrame index.\n",
      "  df_hk = df[df.cmdb_id == host][df.name == kpi]\n",
      "<ipython-input-82-dcc1e2084555>:27: UserWarning: Boolean Series key will be reindexed to match DataFrame index.\n",
      "  df_hk = df[df.cmdb_id == host][df.name == kpi]\n",
      "<ipython-input-82-dcc1e2084555>:27: UserWarning: Boolean Series key will be reindexed to match DataFrame index.\n",
      "  df_hk = df[df.cmdb_id == host][df.name == kpi]\n",
      "<ipython-input-82-dcc1e2084555>:27: UserWarning: Boolean Series key will be reindexed to match DataFrame index.\n",
      "  df_hk = df[df.cmdb_id == host][df.name == kpi]\n",
      "<ipython-input-82-dcc1e2084555>:27: UserWarning: Boolean Series key will be reindexed to match DataFrame index.\n",
      "  df_hk = df[df.cmdb_id == host][df.name == kpi]\n"
     ]
    },
    {
     "name": "stdout",
     "output_type": "stream",
     "text": [
      "Threshold  0.7472988582708779 Page_pi\n",
      "Threshold  2.9715297692429217 Disk_avgqu_sz\n",
      "Threshold  0.6339019034753655 Disk_wr_kbs\n",
      "Threshold  0.6504227804414852 Disk_await\n"
     ]
    },
    {
     "name": "stderr",
     "output_type": "stream",
     "text": [
      "<ipython-input-82-dcc1e2084555>:27: UserWarning: Boolean Series key will be reindexed to match DataFrame index.\n",
      "  df_hk = df[df.cmdb_id == host][df.name == kpi]\n",
      "<ipython-input-82-dcc1e2084555>:27: UserWarning: Boolean Series key will be reindexed to match DataFrame index.\n",
      "  df_hk = df[df.cmdb_id == host][df.name == kpi]\n",
      "/Users/baconbaker/anaconda3/envs/ml/lib/python3.8/site-packages/alibi_detect/od/sr.py:96: RuntimeWarning: divide by zero encountered in log\n",
      "  log_amp = np.log(amp)\n",
      "/Users/baconbaker/anaconda3/envs/ml/lib/python3.8/site-packages/alibi_detect/od/sr.py:99: RuntimeWarning: invalid value encountered in subtract\n",
      "  res_amp = log_amp - ma_log_amp\n",
      "/Users/baconbaker/anaconda3/envs/ml/lib/python3.8/site-packages/alibi_detect/od/sr.py:207: RuntimeWarning: invalid value encountered in greater\n",
      "  outlier_pred = (iscore > self.threshold).astype(int)\n",
      "<ipython-input-82-dcc1e2084555>:27: UserWarning: Boolean Series key will be reindexed to match DataFrame index.\n",
      "  df_hk = df[df.cmdb_id == host][df.name == kpi]\n",
      "<ipython-input-82-dcc1e2084555>:27: UserWarning: Boolean Series key will be reindexed to match DataFrame index.\n",
      "  df_hk = df[df.cmdb_id == host][df.name == kpi]\n"
     ]
    },
    {
     "name": "stdout",
     "output_type": "stream",
     "text": [
      "Threshold  -1.0 Shared_memory\n",
      "Threshold  0.6160021640982408 CPU_user_time\n",
      "[1 0 1 1 0 0 0 0 0 0 0 0 0 0 0 0 0 0 0 0 0 0 0 0 1 0 0 1 0 1]\n",
      "ST Threshold Anomaly!\n",
      "Threshold  0.8019546850431739 Disk_svctm\n",
      "Threshold  0.5730437388748467 Disk_wr_ios\n",
      "Threshold  0.5791124518943871 Memory_used_pct\n"
     ]
    },
    {
     "name": "stderr",
     "output_type": "stream",
     "text": [
      "<ipython-input-82-dcc1e2084555>:27: UserWarning: Boolean Series key will be reindexed to match DataFrame index.\n",
      "  df_hk = df[df.cmdb_id == host][df.name == kpi]\n",
      "<ipython-input-82-dcc1e2084555>:27: UserWarning: Boolean Series key will be reindexed to match DataFrame index.\n",
      "  df_hk = df[df.cmdb_id == host][df.name == kpi]\n",
      "<ipython-input-82-dcc1e2084555>:27: UserWarning: Boolean Series key will be reindexed to match DataFrame index.\n",
      "  df_hk = df[df.cmdb_id == host][df.name == kpi]\n",
      "<ipython-input-82-dcc1e2084555>:27: UserWarning: Boolean Series key will be reindexed to match DataFrame index.\n",
      "  df_hk = df[df.cmdb_id == host][df.name == kpi]\n"
     ]
    },
    {
     "name": "stdout",
     "output_type": "stream",
     "text": [
      "Threshold  5.694025584341661 CPU_iowait_time\n",
      "Threshold  0.8081139056828394 System_wait_queue_length\n",
      "[1 1 1 1 0 0 1 0 1 1 0 0 0 0 0 0 0 0 0 0 0 0 0 1 1 0 1 0 1 1]\n",
      "ST Threshold Anomaly!\n",
      "Threshold  0.7775037241387486 CPU_system_time\n",
      "Threshold  0.8535378594407641 Disk_rd_kbs\n"
     ]
    },
    {
     "name": "stderr",
     "output_type": "stream",
     "text": [
      "<ipython-input-82-dcc1e2084555>:27: UserWarning: Boolean Series key will be reindexed to match DataFrame index.\n",
      "  df_hk = df[df.cmdb_id == host][df.name == kpi]\n",
      "<ipython-input-82-dcc1e2084555>:27: UserWarning: Boolean Series key will be reindexed to match DataFrame index.\n",
      "  df_hk = df[df.cmdb_id == host][df.name == kpi]\n",
      "<ipython-input-82-dcc1e2084555>:27: UserWarning: Boolean Series key will be reindexed to match DataFrame index.\n",
      "  df_hk = df[df.cmdb_id == host][df.name == kpi]\n",
      "<ipython-input-82-dcc1e2084555>:27: UserWarning: Boolean Series key will be reindexed to match DataFrame index.\n",
      "  df_hk = df[df.cmdb_id == host][df.name == kpi]\n"
     ]
    },
    {
     "name": "stdout",
     "output_type": "stream",
     "text": [
      "Threshold  0.5795133957858659 Memory_available\n",
      "Threshold  0.5789277275966529 Memory_used\n",
      "Threshold  2.3905419798290746 System_block_queue_length\n",
      "Threshold  0.5477647926049117 Received_packets\n"
     ]
    },
    {
     "name": "stderr",
     "output_type": "stream",
     "text": [
      "<ipython-input-82-dcc1e2084555>:27: UserWarning: Boolean Series key will be reindexed to match DataFrame index.\n",
      "  df_hk = df[df.cmdb_id == host][df.name == kpi]\n",
      "<ipython-input-82-dcc1e2084555>:27: UserWarning: Boolean Series key will be reindexed to match DataFrame index.\n",
      "  df_hk = df[df.cmdb_id == host][df.name == kpi]\n",
      "/Users/baconbaker/anaconda3/envs/ml/lib/python3.8/site-packages/alibi_detect/od/sr.py:96: RuntimeWarning: divide by zero encountered in log\n",
      "  log_amp = np.log(amp)\n",
      "/Users/baconbaker/anaconda3/envs/ml/lib/python3.8/site-packages/alibi_detect/od/sr.py:99: RuntimeWarning: invalid value encountered in subtract\n",
      "  res_amp = log_amp - ma_log_amp\n",
      "/Users/baconbaker/anaconda3/envs/ml/lib/python3.8/site-packages/alibi_detect/od/sr.py:207: RuntimeWarning: invalid value encountered in greater\n",
      "  outlier_pred = (iscore > self.threshold).astype(int)\n",
      "<ipython-input-82-dcc1e2084555>:27: UserWarning: Boolean Series key will be reindexed to match DataFrame index.\n",
      "  df_hk = df[df.cmdb_id == host][df.name == kpi]\n",
      "<ipython-input-82-dcc1e2084555>:27: UserWarning: Boolean Series key will be reindexed to match DataFrame index.\n",
      "  df_hk = df[df.cmdb_id == host][df.name == kpi]\n",
      "<ipython-input-82-dcc1e2084555>:27: UserWarning: Boolean Series key will be reindexed to match DataFrame index.\n",
      "  df_hk = df[df.cmdb_id == host][df.name == kpi]\n"
     ]
    },
    {
     "name": "stdout",
     "output_type": "stream",
     "text": [
      "Threshold  -1.0 Received_errors_packets\n",
      "Threshold  0.6080885858579687 Memory_free\n",
      "Threshold  0.8955118640267093 Sent_queue\n",
      "Threshold  0.5822502460067205 Cache_used\n"
     ]
    },
    {
     "name": "stderr",
     "output_type": "stream",
     "text": [
      "<ipython-input-82-dcc1e2084555>:27: UserWarning: Boolean Series key will be reindexed to match DataFrame index.\n",
      "  df_hk = df[df.cmdb_id == host][df.name == kpi]\n",
      "<ipython-input-82-dcc1e2084555>:27: UserWarning: Boolean Series key will be reindexed to match DataFrame index.\n",
      "  df_hk = df[df.cmdb_id == host][df.name == kpi]\n",
      "<ipython-input-82-dcc1e2084555>:27: UserWarning: Boolean Series key will be reindexed to match DataFrame index.\n",
      "  df_hk = df[df.cmdb_id == host][df.name == kpi]\n"
     ]
    },
    {
     "name": "stdout",
     "output_type": "stream",
     "text": [
      "Threshold  -1.0 Received_queue\n",
      "Threshold  0.5805355704719145 Buffers_used\n",
      "Threshold  0.5867816304422387 FS_used_space\n",
      "Threshold  0.5481037354907697 Sent_packets\n"
     ]
    },
    {
     "name": "stderr",
     "output_type": "stream",
     "text": [
      "<ipython-input-82-dcc1e2084555>:27: UserWarning: Boolean Series key will be reindexed to match DataFrame index.\n",
      "  df_hk = df[df.cmdb_id == host][df.name == kpi]\n",
      "<ipython-input-82-dcc1e2084555>:27: UserWarning: Boolean Series key will be reindexed to match DataFrame index.\n",
      "  df_hk = df[df.cmdb_id == host][df.name == kpi]\n",
      "<ipython-input-82-dcc1e2084555>:27: UserWarning: Boolean Series key will be reindexed to match DataFrame index.\n",
      "  df_hk = df[df.cmdb_id == host][df.name == kpi]\n",
      "<ipython-input-82-dcc1e2084555>:27: UserWarning: Boolean Series key will be reindexed to match DataFrame index.\n",
      "  df_hk = df[df.cmdb_id == host][df.name == kpi]\n"
     ]
    },
    {
     "name": "stdout",
     "output_type": "stream",
     "text": [
      "Threshold  0.58706133741989 FS_used_pct\n",
      "Threshold  nan FS_total_space\n",
      "NaN, Skipping!\n",
      "Threshold  nan FS_max_util\n",
      "NaN, Skipping!\n",
      "Threshold  nan ICMP_ping\n"
     ]
    },
    {
     "name": "stderr",
     "output_type": "stream",
     "text": [
      "<ipython-input-82-dcc1e2084555>:27: UserWarning: Boolean Series key will be reindexed to match DataFrame index.\n",
      "  df_hk = df[df.cmdb_id == host][df.name == kpi]\n",
      "<ipython-input-82-dcc1e2084555>:27: UserWarning: Boolean Series key will be reindexed to match DataFrame index.\n",
      "  df_hk = df[df.cmdb_id == host][df.name == kpi]\n",
      "<ipython-input-82-dcc1e2084555>:27: UserWarning: Boolean Series key will be reindexed to match DataFrame index.\n",
      "  df_hk = df[df.cmdb_id == host][df.name == kpi]\n",
      "<ipython-input-82-dcc1e2084555>:27: UserWarning: Boolean Series key will be reindexed to match DataFrame index.\n",
      "  df_hk = df[df.cmdb_id == host][df.name == kpi]\n"
     ]
    },
    {
     "name": "stdout",
     "output_type": "stream",
     "text": [
      "NaN, Skipping!\n",
      "Threshold  0.5844078922098307 FS_max_avail\n",
      "Threshold  -1.0 Swap_used_pct\n",
      "Threshold  nan Memory_total\n",
      "NaN, Skipping!\n",
      "os_022  completed in  3.009598970413208\n",
      "************************************************************\n",
      "Checking  os_021\n",
      "Threshold  -1.0 Sent_errors_packets\n"
     ]
    },
    {
     "name": "stderr",
     "output_type": "stream",
     "text": [
      "<ipython-input-82-dcc1e2084555>:27: UserWarning: Boolean Series key will be reindexed to match DataFrame index.\n",
      "  df_hk = df[df.cmdb_id == host][df.name == kpi]\n",
      "<ipython-input-82-dcc1e2084555>:27: UserWarning: Boolean Series key will be reindexed to match DataFrame index.\n",
      "  df_hk = df[df.cmdb_id == host][df.name == kpi]\n",
      "<ipython-input-82-dcc1e2084555>:27: UserWarning: Boolean Series key will be reindexed to match DataFrame index.\n",
      "  df_hk = df[df.cmdb_id == host][df.name == kpi]\n",
      "<ipython-input-82-dcc1e2084555>:27: UserWarning: Boolean Series key will be reindexed to match DataFrame index.\n",
      "  df_hk = df[df.cmdb_id == host][df.name == kpi]\n",
      "<ipython-input-82-dcc1e2084555>:27: UserWarning: Boolean Series key will be reindexed to match DataFrame index.\n",
      "  df_hk = df[df.cmdb_id == host][df.name == kpi]\n"
     ]
    },
    {
     "name": "stdout",
     "output_type": "stream",
     "text": [
      "Threshold  2.0462560227292514 Processor_load_5_min\n",
      "Threshold  -1.0 Disk_rd_ios\n",
      "Threshold  0.580789870642588 CPU_util_pct\n",
      "Threshold  9.023817455168212 Disk_io_util\n"
     ]
    },
    {
     "name": "stderr",
     "output_type": "stream",
     "text": [
      "<ipython-input-82-dcc1e2084555>:27: UserWarning: Boolean Series key will be reindexed to match DataFrame index.\n",
      "  df_hk = df[df.cmdb_id == host][df.name == kpi]\n",
      "<ipython-input-82-dcc1e2084555>:27: UserWarning: Boolean Series key will be reindexed to match DataFrame index.\n",
      "  df_hk = df[df.cmdb_id == host][df.name == kpi]\n",
      "/Users/baconbaker/anaconda3/envs/ml/lib/python3.8/site-packages/alibi_detect/od/sr.py:96: RuntimeWarning: divide by zero encountered in log\n",
      "  log_amp = np.log(amp)\n",
      "/Users/baconbaker/anaconda3/envs/ml/lib/python3.8/site-packages/alibi_detect/od/sr.py:99: RuntimeWarning: invalid value encountered in subtract\n",
      "  res_amp = log_amp - ma_log_amp\n",
      "/Users/baconbaker/anaconda3/envs/ml/lib/python3.8/site-packages/alibi_detect/od/sr.py:207: RuntimeWarning: invalid value encountered in greater\n",
      "  outlier_pred = (iscore > self.threshold).astype(int)\n",
      "<ipython-input-82-dcc1e2084555>:27: UserWarning: Boolean Series key will be reindexed to match DataFrame index.\n",
      "  df_hk = df[df.cmdb_id == host][df.name == kpi]\n",
      "/Users/baconbaker/anaconda3/envs/ml/lib/python3.8/site-packages/alibi_detect/od/sr.py:96: RuntimeWarning: divide by zero encountered in log\n",
      "  log_amp = np.log(amp)\n",
      "/Users/baconbaker/anaconda3/envs/ml/lib/python3.8/site-packages/alibi_detect/od/sr.py:99: RuntimeWarning: invalid value encountered in subtract\n",
      "  res_amp = log_amp - ma_log_amp\n",
      "/Users/baconbaker/anaconda3/envs/ml/lib/python3.8/site-packages/alibi_detect/od/sr.py:207: RuntimeWarning: invalid value encountered in greater\n",
      "  outlier_pred = (iscore > self.threshold).astype(int)\n",
      "<ipython-input-82-dcc1e2084555>:27: UserWarning: Boolean Series key will be reindexed to match DataFrame index.\n",
      "  df_hk = df[df.cmdb_id == host][df.name == kpi]\n"
     ]
    },
    {
     "name": "stdout",
     "output_type": "stream",
     "text": [
      "Threshold  0.5808591712414041 Num_of_processes\n",
      "Threshold  1.3555438825463035 Send_total\n",
      "Threshold  1.3374484607066672 Outgoing_network_traffic\n",
      "Threshold  0.5793236290800816 Memory_available_pct\n"
     ]
    },
    {
     "name": "stderr",
     "output_type": "stream",
     "text": [
      "<ipython-input-82-dcc1e2084555>:27: UserWarning: Boolean Series key will be reindexed to match DataFrame index.\n",
      "  df_hk = df[df.cmdb_id == host][df.name == kpi]\n",
      "<ipython-input-82-dcc1e2084555>:27: UserWarning: Boolean Series key will be reindexed to match DataFrame index.\n",
      "  df_hk = df[df.cmdb_id == host][df.name == kpi]\n",
      "<ipython-input-82-dcc1e2084555>:27: UserWarning: Boolean Series key will be reindexed to match DataFrame index.\n",
      "  df_hk = df[df.cmdb_id == host][df.name == kpi]\n",
      "<ipython-input-82-dcc1e2084555>:27: UserWarning: Boolean Series key will be reindexed to match DataFrame index.\n",
      "  df_hk = df[df.cmdb_id == host][df.name == kpi]\n"
     ]
    },
    {
     "name": "stdout",
     "output_type": "stream",
     "text": [
      "Threshold  1.7078109946398146 Incoming_network_traffic\n",
      "Threshold  -1.0 Zombie_Process\n",
      "Threshold  0.5765592592639509 Recv_total\n",
      "Threshold  0.5793706525211468 Page_po\n"
     ]
    },
    {
     "name": "stderr",
     "output_type": "stream",
     "text": [
      "<ipython-input-82-dcc1e2084555>:27: UserWarning: Boolean Series key will be reindexed to match DataFrame index.\n",
      "  df_hk = df[df.cmdb_id == host][df.name == kpi]\n",
      "<ipython-input-82-dcc1e2084555>:27: UserWarning: Boolean Series key will be reindexed to match DataFrame index.\n",
      "  df_hk = df[df.cmdb_id == host][df.name == kpi]\n",
      "<ipython-input-82-dcc1e2084555>:27: UserWarning: Boolean Series key will be reindexed to match DataFrame index.\n",
      "  df_hk = df[df.cmdb_id == host][df.name == kpi]\n",
      "<ipython-input-82-dcc1e2084555>:27: UserWarning: Boolean Series key will be reindexed to match DataFrame index.\n",
      "  df_hk = df[df.cmdb_id == host][df.name == kpi]\n",
      "<ipython-input-82-dcc1e2084555>:27: UserWarning: Boolean Series key will be reindexed to match DataFrame index.\n",
      "  df_hk = df[df.cmdb_id == host][df.name == kpi]\n"
     ]
    },
    {
     "name": "stdout",
     "output_type": "stream",
     "text": [
      "Threshold  0.5792646047582918 CPU_idle_pct\n",
      "Threshold  2.789901985713353 Processor_load_1_min\n",
      "Threshold  nan Agent_ping\n",
      "NaN, Skipping!\n",
      "Threshold  0.8732485343918317 Num_of_running_processes\n"
     ]
    },
    {
     "name": "stderr",
     "output_type": "stream",
     "text": [
      "<ipython-input-82-dcc1e2084555>:27: UserWarning: Boolean Series key will be reindexed to match DataFrame index.\n",
      "  df_hk = df[df.cmdb_id == host][df.name == kpi]\n",
      "/Users/baconbaker/anaconda3/envs/ml/lib/python3.8/site-packages/alibi_detect/od/sr.py:96: RuntimeWarning: divide by zero encountered in log\n",
      "  log_amp = np.log(amp)\n",
      "/Users/baconbaker/anaconda3/envs/ml/lib/python3.8/site-packages/alibi_detect/od/sr.py:99: RuntimeWarning: invalid value encountered in subtract\n",
      "  res_amp = log_amp - ma_log_amp\n",
      "/Users/baconbaker/anaconda3/envs/ml/lib/python3.8/site-packages/alibi_detect/od/sr.py:207: RuntimeWarning: invalid value encountered in greater\n",
      "  outlier_pred = (iscore > self.threshold).astype(int)\n",
      "<ipython-input-82-dcc1e2084555>:27: UserWarning: Boolean Series key will be reindexed to match DataFrame index.\n",
      "  df_hk = df[df.cmdb_id == host][df.name == kpi]\n",
      "<ipython-input-82-dcc1e2084555>:27: UserWarning: Boolean Series key will be reindexed to match DataFrame index.\n",
      "  df_hk = df[df.cmdb_id == host][df.name == kpi]\n",
      "<ipython-input-82-dcc1e2084555>:27: UserWarning: Boolean Series key will be reindexed to match DataFrame index.\n",
      "  df_hk = df[df.cmdb_id == host][df.name == kpi]\n",
      "<ipython-input-82-dcc1e2084555>:27: UserWarning: Boolean Series key will be reindexed to match DataFrame index.\n",
      "  df_hk = df[df.cmdb_id == host][df.name == kpi]\n"
     ]
    },
    {
     "name": "stdout",
     "output_type": "stream",
     "text": [
      "Threshold  0.5668830299753655 ss_total\n",
      "Threshold  1.8852846606560558 Processor_load_15_min\n",
      "Threshold  -1.0 Page_pi\n",
      "Threshold  3.0767734402886218 Disk_avgqu_sz\n",
      "Threshold  0.5882658014989364 Disk_wr_kbs\n",
      "Threshold  0.6549592377899189 Disk_await\n",
      "Threshold  -1.0 Shared_memory\n",
      "Threshold  0.7015085638837797 CPU_user_time\n"
     ]
    },
    {
     "name": "stderr",
     "output_type": "stream",
     "text": [
      "<ipython-input-82-dcc1e2084555>:27: UserWarning: Boolean Series key will be reindexed to match DataFrame index.\n",
      "  df_hk = df[df.cmdb_id == host][df.name == kpi]\n",
      "<ipython-input-82-dcc1e2084555>:27: UserWarning: Boolean Series key will be reindexed to match DataFrame index.\n",
      "  df_hk = df[df.cmdb_id == host][df.name == kpi]\n",
      "/Users/baconbaker/anaconda3/envs/ml/lib/python3.8/site-packages/alibi_detect/od/sr.py:96: RuntimeWarning: divide by zero encountered in log\n",
      "  log_amp = np.log(amp)\n",
      "/Users/baconbaker/anaconda3/envs/ml/lib/python3.8/site-packages/alibi_detect/od/sr.py:99: RuntimeWarning: invalid value encountered in subtract\n",
      "  res_amp = log_amp - ma_log_amp\n",
      "/Users/baconbaker/anaconda3/envs/ml/lib/python3.8/site-packages/alibi_detect/od/sr.py:207: RuntimeWarning: invalid value encountered in greater\n",
      "  outlier_pred = (iscore > self.threshold).astype(int)\n",
      "<ipython-input-82-dcc1e2084555>:27: UserWarning: Boolean Series key will be reindexed to match DataFrame index.\n",
      "  df_hk = df[df.cmdb_id == host][df.name == kpi]\n",
      "<ipython-input-82-dcc1e2084555>:27: UserWarning: Boolean Series key will be reindexed to match DataFrame index.\n",
      "  df_hk = df[df.cmdb_id == host][df.name == kpi]\n"
     ]
    },
    {
     "name": "stdout",
     "output_type": "stream",
     "text": [
      "Threshold  0.6235936609417935 Disk_svctm\n",
      "[1 1 0 0 0 0 0 0 0 0 0 0 0 0 0 0 0 0 1 1 1 0 0 0 0 0 0 0 0 0]\n",
      "ST Threshold Anomaly!\n",
      "Threshold  0.60554192480037 Disk_wr_ios\n",
      "Threshold  0.578821585983798 Memory_used_pct\n",
      "Threshold  5.199253100722627 CPU_iowait_time\n"
     ]
    },
    {
     "name": "stderr",
     "output_type": "stream",
     "text": [
      "<ipython-input-82-dcc1e2084555>:27: UserWarning: Boolean Series key will be reindexed to match DataFrame index.\n",
      "  df_hk = df[df.cmdb_id == host][df.name == kpi]\n",
      "<ipython-input-82-dcc1e2084555>:27: UserWarning: Boolean Series key will be reindexed to match DataFrame index.\n",
      "  df_hk = df[df.cmdb_id == host][df.name == kpi]\n",
      "<ipython-input-82-dcc1e2084555>:27: UserWarning: Boolean Series key will be reindexed to match DataFrame index.\n",
      "  df_hk = df[df.cmdb_id == host][df.name == kpi]\n",
      "<ipython-input-82-dcc1e2084555>:27: UserWarning: Boolean Series key will be reindexed to match DataFrame index.\n",
      "  df_hk = df[df.cmdb_id == host][df.name == kpi]\n"
     ]
    },
    {
     "name": "stdout",
     "output_type": "stream",
     "text": [
      "Threshold  1.0027931256989056 System_wait_queue_length\n",
      "Threshold  0.8728090662261808 CPU_system_time\n",
      "[0 1 0 0 0 0 0 0 0 0 0 0 0 0 0 0 0 0 0 0 0 0 0 1 0 0 0 1 0 1]\n",
      "ST Threshold Anomaly!\n",
      "Threshold  -1.0 Disk_rd_kbs\n",
      "Threshold  0.5791383655344088 Memory_available\n"
     ]
    },
    {
     "name": "stderr",
     "output_type": "stream",
     "text": [
      "<ipython-input-82-dcc1e2084555>:27: UserWarning: Boolean Series key will be reindexed to match DataFrame index.\n",
      "  df_hk = df[df.cmdb_id == host][df.name == kpi]\n",
      "<ipython-input-82-dcc1e2084555>:27: UserWarning: Boolean Series key will be reindexed to match DataFrame index.\n",
      "  df_hk = df[df.cmdb_id == host][df.name == kpi]\n",
      "<ipython-input-82-dcc1e2084555>:27: UserWarning: Boolean Series key will be reindexed to match DataFrame index.\n",
      "  df_hk = df[df.cmdb_id == host][df.name == kpi]\n",
      "<ipython-input-82-dcc1e2084555>:27: UserWarning: Boolean Series key will be reindexed to match DataFrame index.\n",
      "  df_hk = df[df.cmdb_id == host][df.name == kpi]\n"
     ]
    },
    {
     "name": "stdout",
     "output_type": "stream",
     "text": [
      "Threshold  0.5804376616506024 Memory_used\n",
      "Threshold  nan System_block_queue_length\n",
      "NaN, Skipping!\n",
      "Threshold  0.5697218591546253 Received_packets\n",
      "Threshold  -1.0 Received_errors_packets\n",
      "Threshold "
     ]
    },
    {
     "name": "stderr",
     "output_type": "stream",
     "text": [
      "<ipython-input-82-dcc1e2084555>:27: UserWarning: Boolean Series key will be reindexed to match DataFrame index.\n",
      "  df_hk = df[df.cmdb_id == host][df.name == kpi]\n",
      "<ipython-input-82-dcc1e2084555>:27: UserWarning: Boolean Series key will be reindexed to match DataFrame index.\n",
      "  df_hk = df[df.cmdb_id == host][df.name == kpi]\n",
      "<ipython-input-82-dcc1e2084555>:27: UserWarning: Boolean Series key will be reindexed to match DataFrame index.\n",
      "  df_hk = df[df.cmdb_id == host][df.name == kpi]\n",
      "<ipython-input-82-dcc1e2084555>:27: UserWarning: Boolean Series key will be reindexed to match DataFrame index.\n",
      "  df_hk = df[df.cmdb_id == host][df.name == kpi]\n"
     ]
    },
    {
     "name": "stdout",
     "output_type": "stream",
     "text": [
      " 0.5900452294456086 Memory_free\n",
      "Threshold  0.7649674779744094 Sent_queue\n",
      "Threshold  0.5804795167813186 Cache_used\n",
      "Threshold  -1.0 Received_queue\n"
     ]
    },
    {
     "name": "stderr",
     "output_type": "stream",
     "text": [
      "<ipython-input-82-dcc1e2084555>:27: UserWarning: Boolean Series key will be reindexed to match DataFrame index.\n",
      "  df_hk = df[df.cmdb_id == host][df.name == kpi]\n",
      "<ipython-input-82-dcc1e2084555>:27: UserWarning: Boolean Series key will be reindexed to match DataFrame index.\n",
      "  df_hk = df[df.cmdb_id == host][df.name == kpi]\n",
      "<ipython-input-82-dcc1e2084555>:27: UserWarning: Boolean Series key will be reindexed to match DataFrame index.\n",
      "  df_hk = df[df.cmdb_id == host][df.name == kpi]\n",
      "<ipython-input-82-dcc1e2084555>:27: UserWarning: Boolean Series key will be reindexed to match DataFrame index.\n",
      "  df_hk = df[df.cmdb_id == host][df.name == kpi]\n"
     ]
    },
    {
     "name": "stdout",
     "output_type": "stream",
     "text": [
      "Threshold  0.5794110034185926 Buffers_used\n",
      "Threshold  0.5806428671855391 FS_used_space\n",
      "Threshold  0.5658734363837754 Sent_packets\n"
     ]
    },
    {
     "name": "stderr",
     "output_type": "stream",
     "text": [
      "<ipython-input-82-dcc1e2084555>:27: UserWarning: Boolean Series key will be reindexed to match DataFrame index.\n",
      "  df_hk = df[df.cmdb_id == host][df.name == kpi]\n",
      "<ipython-input-82-dcc1e2084555>:27: UserWarning: Boolean Series key will be reindexed to match DataFrame index.\n",
      "  df_hk = df[df.cmdb_id == host][df.name == kpi]\n",
      "<ipython-input-82-dcc1e2084555>:27: UserWarning: Boolean Series key will be reindexed to match DataFrame index.\n",
      "  df_hk = df[df.cmdb_id == host][df.name == kpi]\n"
     ]
    },
    {
     "name": "stdout",
     "output_type": "stream",
     "text": [
      "Threshold  0.5806015196960354 FS_used_pct\n",
      "Threshold  nan FS_total_space\n",
      "NaN, Skipping!\n",
      "Threshold  nan FS_max_util\n",
      "NaN, Skipping!\n",
      "Threshold  nan ICMP_ping\n"
     ]
    },
    {
     "name": "stderr",
     "output_type": "stream",
     "text": [
      "<ipython-input-82-dcc1e2084555>:27: UserWarning: Boolean Series key will be reindexed to match DataFrame index.\n",
      "  df_hk = df[df.cmdb_id == host][df.name == kpi]\n",
      "<ipython-input-82-dcc1e2084555>:27: UserWarning: Boolean Series key will be reindexed to match DataFrame index.\n",
      "  df_hk = df[df.cmdb_id == host][df.name == kpi]\n",
      "<ipython-input-82-dcc1e2084555>:27: UserWarning: Boolean Series key will be reindexed to match DataFrame index.\n",
      "  df_hk = df[df.cmdb_id == host][df.name == kpi]\n",
      "<ipython-input-82-dcc1e2084555>:27: UserWarning: Boolean Series key will be reindexed to match DataFrame index.\n",
      "  df_hk = df[df.cmdb_id == host][df.name == kpi]\n"
     ]
    },
    {
     "name": "stdout",
     "output_type": "stream",
     "text": [
      "NaN, Skipping!\n",
      "Threshold  0.5933456387007685 FS_max_avail\n",
      "Threshold  -1.0 Swap_used_pct\n",
      "Threshold  nan Memory_total\n",
      "NaN, Skipping!\n",
      "os_021  completed in  3.012223958969116\n",
      "Completed detection of  57  hosts in  117.10171389579773 seconds\n"
     ]
    },
    {
     "name": "stderr",
     "output_type": "stream",
     "text": [
      "<ipython-input-82-dcc1e2084555>:27: UserWarning: Boolean Series key will be reindexed to match DataFrame index.\n",
      "  df_hk = df[df.cmdb_id == host][df.name == kpi]\n",
      "<ipython-input-82-dcc1e2084555>:27: UserWarning: Boolean Series key will be reindexed to match DataFrame index.\n",
      "  df_hk = df[df.cmdb_id == host][df.name == kpi]\n",
      "<ipython-input-82-dcc1e2084555>:27: UserWarning: Boolean Series key will be reindexed to match DataFrame index.\n",
      "  df_hk = df[df.cmdb_id == host][df.name == kpi]\n"
     ]
    },
    {
     "data": {
      "text/plain": [
       "[('db_003', 'tnsping_result_time'),\n",
       " ('db_003', 'Session_pct'),\n",
       " ('db_003', 'DbTime'),\n",
       " ('db_003', 'Sess_Active'),\n",
       " ('db_003', 'Logic_Read_Per_Sec'),\n",
       " ('db_003', 'Exec_Per_Sec'),\n",
       " ('db_003', 'New_Tbs_Free_Gb'),\n",
       " ('db_011', 'Session_pct'),\n",
       " ('db_011', 'DbTime'),\n",
       " ('db_011', 'Sess_Active'),\n",
       " ('db_011', 'Physical_Read_Per_Sec'),\n",
       " ('db_011', 'Call_Per_Sec'),\n",
       " ('db_011', 'Login_Per_Sec'),\n",
       " ('db_005', 'CPU_Used_Pct'),\n",
       " ('db_005', 'SeqRead_Per_Sec'),\n",
       " ('db_005', 'Session_pct'),\n",
       " ('db_005', 'LFParaWrite_Per_Sec'),\n",
       " ('db_005', 'AWS'),\n",
       " ('db_005', 'AIOS'),\n",
       " ('db_005', 'DbTime'),\n",
       " ('db_005', 'Sess_Active'),\n",
       " ('db_005', 'Physical_Read_Per_Sec'),\n",
       " ('db_005', 'Login_Per_Sec'),\n",
       " ('db_005', 'User_Commit'),\n",
       " ('db_005', 'Logic_Read_Per_Sec'),\n",
       " ('db_005', 'Redo_Per_Sec'),\n",
       " ('db_005', 'Exec_Per_Sec'),\n",
       " ('db_005', 'New_Tbs_Free_Gb'),\n",
       " ('db_005', 'New_Tbs_Used_Pct'),\n",
       " ('db_010', 'tnsping_result_time'),\n",
       " ('db_010', 'LFSync_Per_Sec'),\n",
       " ('db_010', 'DbTime'),\n",
       " ('db_010', 'Physical_Read_Per_Sec'),\n",
       " ('db_010', 'Login_Per_Sec'),\n",
       " ('db_010', 'New_Tbs_Used_Pct'),\n",
       " ('db_012', 'tnsping_result_time'),\n",
       " ('db_012', 'DFParaWrite_Per_Sec'),\n",
       " ('db_012', 'Session_pct'),\n",
       " ('db_012', 'LFParaWrite_Per_Sec'),\n",
       " ('db_012', 'ACS'),\n",
       " ('db_012', 'DbTime'),\n",
       " ('db_012', 'Sess_Active'),\n",
       " ('db_012', 'Physical_Read_Per_Sec'),\n",
       " ('db_012', 'Login_Per_Sec'),\n",
       " ('db_012', 'Logic_Read_Per_Sec'),\n",
       " ('db_012', 'New_Tbs_Used_Pct'),\n",
       " ('db_008', 'tnsping_result_time'),\n",
       " ('db_008', 'CPU_Used_Pct'),\n",
       " ('db_008', 'SeqRead_Per_Sec'),\n",
       " ('db_008', 'Session_pct'),\n",
       " ('db_008', 'AIOS'),\n",
       " ('db_008', 'DbTime'),\n",
       " ('db_008', 'Sess_Active'),\n",
       " ('db_008', 'Physical_Read_Per_Sec'),\n",
       " ('db_008', 'Login_Per_Sec'),\n",
       " ('db_008', 'Logic_Read_Per_Sec'),\n",
       " ('db_008', 'Exec_Per_Sec'),\n",
       " ('db_008', 'New_Tbs_Free_Gb'),\n",
       " ('db_009', 'tnsping_result_time'),\n",
       " ('db_009', 'SeqRead_Per_Sec'),\n",
       " ('db_009', 'AWS'),\n",
       " ('db_009', 'Physical_Read_Per_Sec'),\n",
       " ('db_009', 'Call_Per_Sec'),\n",
       " ('db_009', 'Login_Per_Sec'),\n",
       " ('db_009', 'New_Tbs_Used_Pct'),\n",
       " ('db_013', 'tnsping_result_time'),\n",
       " ('db_013', 'Session_pct'),\n",
       " ('db_013', 'ACS'),\n",
       " ('db_013', 'DbTime'),\n",
       " ('db_013', 'Sess_Active'),\n",
       " ('db_013', 'Physical_Read_Per_Sec'),\n",
       " ('db_013', 'Call_Per_Sec'),\n",
       " ('db_013', 'Login_Per_Sec'),\n",
       " ('db_006', 'tnsping_result_time'),\n",
       " ('db_006', 'SeqRead_Per_Sec'),\n",
       " ('db_006', 'DFParaWrite_Per_Sec'),\n",
       " ('db_006', 'Session_pct'),\n",
       " ('db_006', 'LFParaWrite_Per_Sec'),\n",
       " ('db_006', 'LFSync_Per_Sec'),\n",
       " ('db_006', 'ACS'),\n",
       " ('db_006', 'DbTime'),\n",
       " ('db_006', 'Physical_Read_Per_Sec'),\n",
       " ('db_006', 'Logic_Read_Per_Sec'),\n",
       " ('db_006', 'Redo_Per_Sec'),\n",
       " ('db_006', 'Exec_Per_Sec'),\n",
       " ('db_006', 'New_Tbs_Free_Gb'),\n",
       " ('db_006', 'New_Tbs_Used_Pct'),\n",
       " ('db_007', 'tnsping_result_time'),\n",
       " ('db_007', 'SeqRead_Per_Sec'),\n",
       " ('db_007', 'Session_pct'),\n",
       " ('db_007', 'LFSync_Per_Sec'),\n",
       " ('db_007', 'AIOS'),\n",
       " ('db_007', 'ACS'),\n",
       " ('db_007', 'DbTime'),\n",
       " ('db_007', 'Sess_Active'),\n",
       " ('db_007', 'Physical_Read_Per_Sec'),\n",
       " ('db_007', 'Logic_Read_Per_Sec'),\n",
       " ('db_007', 'Exec_Per_Sec'),\n",
       " ('db_004', 'CPU_Used_Pct'),\n",
       " ('db_004', 'AWS'),\n",
       " ('db_004', 'LFSync_Per_Sec'),\n",
       " ('db_004', 'ACS'),\n",
       " ('db_004', 'DbTime'),\n",
       " ('db_004', 'Physical_Read_Per_Sec'),\n",
       " ('db_004', 'Call_Per_Sec'),\n",
       " ('db_004', 'Login_Per_Sec'),\n",
       " ('db_004', 'Redo_Per_Sec'),\n",
       " ('db_004', 'Exec_Per_Sec'),\n",
       " ('db_004', 'New_Tbs_Free_Gb'),\n",
       " ('db_002', 'tnsping_result_time'),\n",
       " ('db_002', 'CPU_Used_Pct'),\n",
       " ('db_002', 'SeqRead_Per_Sec'),\n",
       " ('db_002', 'LFParaWrite_Per_Sec'),\n",
       " ('db_002', 'LFSync_Per_Sec'),\n",
       " ('db_002', 'AIOS'),\n",
       " ('db_002', 'DbTime'),\n",
       " ('db_002', 'Physical_Read_Per_Sec'),\n",
       " ('db_002', 'User_Commit'),\n",
       " ('db_002', 'Logic_Read_Per_Sec'),\n",
       " ('db_002', 'Exec_Per_Sec'),\n",
       " ('db_002', 'New_Tbs_Free_Gb'),\n",
       " ('db_001', 'tnsping_result_time'),\n",
       " ('db_001', 'CPU_Used_Pct'),\n",
       " ('db_001', 'Sess_Used_Undo'),\n",
       " ('db_001', 'DFParaWrite_Per_Sec'),\n",
       " ('db_001', 'Session_pct'),\n",
       " ('db_001', 'AWS'),\n",
       " ('db_001', 'AIOS'),\n",
       " ('db_001', 'DbTime'),\n",
       " ('db_001', 'Sess_Active'),\n",
       " ('db_001', 'Physical_Read_Per_Sec'),\n",
       " ('db_001', 'Call_Per_Sec'),\n",
       " ('db_001', 'Login_Per_Sec'),\n",
       " ('db_001', 'Logic_Read_Per_Sec'),\n",
       " ('db_001', 'Redo_Per_Sec'),\n",
       " ('db_001', 'Exec_Per_Sec'),\n",
       " ('db_001', 'New_Tbs_Used_Pct'),\n",
       " ('docker_004', 'container_cpu_used'),\n",
       " ('docker_007', 'container_cpu_used'),\n",
       " ('docker_006', 'container_cpu_used'),\n",
       " ('redis_003', 'instantaneous_ops_per_sec'),\n",
       " ('redis_003', 'used_cpu_user'),\n",
       " ('redis_011', 'instantaneous_ops_per_sec'),\n",
       " ('redis_011', 'instantaneous_input_kbps'),\n",
       " ('redis_005', 'instantaneous_ops_per_sec'),\n",
       " ('redis_005', 'used_cpu_user'),\n",
       " ('redis_005', 'used_cpu_sys'),\n",
       " ('redis_001', 'instantaneous_output_kbps'),\n",
       " ('redis_001', 'instantaneous_input_kbps'),\n",
       " ('redis_008', 'instantaneous_output_kbps'),\n",
       " ('redis_009', 'instantaneous_output_kbps'),\n",
       " ('redis_009', 'instantaneous_input_kbps'),\n",
       " ('redis_006', 'instantaneous_input_kbps'),\n",
       " ('redis_006', 'used_cpu_user'),\n",
       " ('redis_006', 'used_cpu_sys'),\n",
       " ('redis_010', 'instantaneous_input_kbps'),\n",
       " ('redis_010', 'used_cpu_user'),\n",
       " ('redis_010', 'used_cpu_sys'),\n",
       " ('os_017', 'Num_of_running_processes'),\n",
       " ('os_017', 'System_wait_queue_length'),\n",
       " ('os_008', 'CPU_user_time'),\n",
       " ('os_014', 'Send_total'),\n",
       " ('os_014', 'Disk_svctm'),\n",
       " ('os_014', 'CPU_system_time'),\n",
       " ('os_005', 'Outgoing_network_traffic'),\n",
       " ('os_005', 'Disk_svctm'),\n",
       " ('os_005', 'Received_queue'),\n",
       " ('os_012', 'CPU_util_pct'),\n",
       " ('os_012', 'Disk_svctm'),\n",
       " ('os_012', 'CPU_iowait_time'),\n",
       " ('os_009', 'Send_total'),\n",
       " ('os_009', 'Disk_wr_ios'),\n",
       " ('os_015', 'Disk_avgqu_sz'),\n",
       " ('os_015', 'Disk_svctm'),\n",
       " ('os_015', 'CPU_iowait_time'),\n",
       " ('os_015', 'System_wait_queue_length'),\n",
       " ('os_004', 'Num_of_running_processes'),\n",
       " ('os_006', 'CPU_util_pct'),\n",
       " ('os_006', 'Recv_total'),\n",
       " ('os_006', 'Processor_load_1_min'),\n",
       " ('os_020', 'System_wait_queue_length'),\n",
       " ('os_001', 'Disk_wr_ios'),\n",
       " ('os_001', 'Received_packets'),\n",
       " ('os_001', 'Sent_packets'),\n",
       " ('os_011', 'Processor_load_5_min'),\n",
       " ('os_011', 'Processor_load_1_min'),\n",
       " ('os_011', 'Disk_svctm'),\n",
       " ('os_010', 'Send_total'),\n",
       " ('os_010', 'Incoming_network_traffic'),\n",
       " ('os_010', 'Recv_total'),\n",
       " ('os_010', 'Disk_wr_ios'),\n",
       " ('os_010', 'Sent_queue'),\n",
       " ('os_007', 'Send_total'),\n",
       " ('os_007', 'Recv_total'),\n",
       " ('os_007', 'ss_total'),\n",
       " ('os_018', 'Num_of_running_processes'),\n",
       " ('os_018', 'Page_pi'),\n",
       " ('os_018', 'Disk_wr_kbs'),\n",
       " ('os_018', 'Disk_svctm'),\n",
       " ('os_018', 'Disk_wr_ios'),\n",
       " ('os_018', 'CPU_iowait_time'),\n",
       " ('os_013', 'Incoming_network_traffic'),\n",
       " ('os_013', 'Disk_wr_ios'),\n",
       " ('os_013', 'CPU_system_time'),\n",
       " ('os_013', 'Sent_queue'),\n",
       " ('os_016', 'CPU_user_time'),\n",
       " ('os_019', 'Page_po'),\n",
       " ('os_019', 'Disk_wr_kbs'),\n",
       " ('os_019', 'Disk_wr_ios'),\n",
       " ('os_002', 'Recv_total'),\n",
       " ('os_002', 'CPU_system_time'),\n",
       " ('os_002', 'Sent_queue'),\n",
       " ('os_022', 'CPU_user_time'),\n",
       " ('os_022', 'System_wait_queue_length'),\n",
       " ('os_021', 'Disk_svctm'),\n",
       " ('os_021', 'CPU_system_time')]"
      ]
     },
     "execution_count": 82,
     "metadata": {},
     "output_type": "execute_result"
    }
   ],
   "source": [
    "def get_key_thresh(host):\n",
    "    df_thresh = pd.read_csv('thresh.data')\n",
    "    df_thresh = df_thresh[df_thresh.host==host]\n",
    "\n",
    "    thresh = df_thresh[['name', 'thresh']].set_index('name')\n",
    "    thresh = thresh.to_dict()['thresh']\n",
    "    return thresh\n",
    "\n",
    "def find_anoms(hosts, df):\n",
    "    start = time.time()\n",
    "    anoms = []\n",
    "    for host in hosts:\n",
    "        start_host = time.time()\n",
    "        print('*'*60)\n",
    "        print('Checking ', host)\n",
    "        thresholds = get_key_thresh(host)\n",
    "        for kpi in thresholds:\n",
    "            thresh = thresholds[kpi]\n",
    "            print('Threshold ', thresh, kpi)\n",
    "            od = SpectralResidual(\n",
    "                threshold=thresh,\n",
    "                window_amp=30,\n",
    "                window_local=30,\n",
    "                n_est_points=5,\n",
    "                n_grad_points=5\n",
    "            )\n",
    "            df_hk = df[df.cmdb_id == host][df.name == kpi]\n",
    "            \n",
    "            if len(df_hk) == 0:\n",
    "                print('No valid data to use, skipping')\n",
    "                continue\n",
    "                \n",
    "            data = get_past(df_hk, np.max(df_hk.timestamp.unique()), 30)['value']\n",
    "            if thresh == -1:\n",
    "                if sum(data[-10:-5]) > 0:\n",
    "                    print(\"Non-Zero Anomaly!\")\n",
    "                    anoms.append((host, kpi))\n",
    "            elif np.isnan(thresh):\n",
    "                print('NaN, Skipping!')\n",
    "            else:\n",
    "                outliers = od.predict(data.values)['data']\n",
    "                if np.sum(outliers['is_outlier'][-10:-5]) > 0:\n",
    "                    print(outliers['is_outlier'])\n",
    "                    print(\"ST Threshold Anomaly!\")\n",
    "                    anoms.append((host,kpi))\n",
    "        print(host, ' completed in ', time.time() - start_host)\n",
    "    print('Completed detection of ', len(hosts), 'hosts in ', time.time() - start, 'seconds')\n",
    "    return anoms\n",
    "\n",
    "print(load_test(2).cmdb_id.unique())\n",
    "find_anoms(load_test(2).cmdb_id.unique(), load_test(2))"
   ]
  },
  {
   "cell_type": "code",
   "execution_count": null,
   "metadata": {},
   "outputs": [],
   "source": []
  }
 ],
 "metadata": {
  "kernelspec": {
   "display_name": "Python 3",
   "language": "python",
   "name": "python3"
  },
  "language_info": {
   "codemirror_mode": {
    "name": "ipython",
    "version": 3
   },
   "file_extension": ".py",
   "mimetype": "text/x-python",
   "name": "python",
   "nbconvert_exporter": "python",
   "pygments_lexer": "ipython3",
   "version": "3.8.5"
  }
 },
 "nbformat": 4,
 "nbformat_minor": 4
}
