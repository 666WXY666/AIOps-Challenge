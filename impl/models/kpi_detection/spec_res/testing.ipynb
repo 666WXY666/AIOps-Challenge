{
 "cells": [
  {
   "cell_type": "code",
   "execution_count": 100,
   "metadata": {},
   "outputs": [],
   "source": [
    "import pandas as pd\n",
    "import numpy as np\n",
    "import os\n",
    "\n",
    "import time\n",
    "from alibi_detect.od import SpectralResidual"
   ]
  },
  {
   "cell_type": "code",
   "execution_count": 101,
   "metadata": {},
   "outputs": [],
   "source": [
    "def get_data():\n",
    "    data_path = '../../../../data/train_data/host'\n",
    "    dfs = {}\n",
    "    for file in os.listdir(data_path):\n",
    "        print('Reading ' + file)\n",
    "        dfs[file[:-4]] = pd.read_csv(data_path+'/'+file) \n",
    "    return dfs\n",
    "\n",
    "def load_tiago_test(test):\n",
    "    data_path = '../../../../data/tiago_tests/test'\n",
    "    df = pd.read_csv(data_path+str(test)+'/kpis.csv')\n",
    "    return df\n",
    "\n",
    "def load_test():\n",
    "    data_path = '../../../../data/test_data/host'\n",
    "    df = pd.DataFrame(['item_id','name','bomc_id','timestamp','value','cmdb_id'])\n",
    "    for file in os.listdir(data_path):\n",
    "        df = pd.concatenate(df, pd.read_csv(data_path+'/'+file)) \n",
    "    return dfs"
   ]
  },
  {
   "cell_type": "code",
   "execution_count": 102,
   "metadata": {},
   "outputs": [],
   "source": [
    "def get_past(df, curr_time, window_size):\n",
    "    step_size = 1000*60\n",
    "    df_new = pd.DataFrame(columns=['timestamp', 'value'])\n",
    "\n",
    "    for time in [curr_time - step_size*x for x in range(window_size)][::-1]:\n",
    "        if len(df[df.timestamp == time]) == 0:\n",
    "            plug_time = np.max(df[df.timestamp < time]['timestamp'])\n",
    "            row = {}\n",
    "            row['timestamp'] = time\n",
    "            if len(df.loc[df.timestamp==plug_time, 'value']) == 0:\n",
    "                row['value'] = 0\n",
    "            else: \n",
    "                row['value'] = df.loc[df.timestamp==plug_time, 'value'].values[0]\n",
    "            df_new = df_new.append(row, ignore_index=True)\n",
    "        else:\n",
    "            row = {}\n",
    "            row['timestamp'] = time\n",
    "            row['value'] = df.loc[df.timestamp==time, 'value'].values[0]\n",
    "            df_new = df_new.append(row, ignore_index=True)\n",
    "    return df_new"
   ]
  },
  {
   "cell_type": "code",
   "execution_count": null,
   "metadata": {},
   "outputs": [
    {
     "name": "stdout",
     "output_type": "stream",
     "text": [
      "************************************************************\n",
      "Checking  db_011\n",
      "Threshold  0.857604463736166 CPU_free_pct\n",
      "[1 1 0 0 0 0 0 0 0 0 0 0 0 0 0 0 0 0 0 0 0 0 0 0 0 0 0 0 0 1]\n",
      "ST Threshold Anomaly!\n",
      "Threshold  0.8565888283685505 MEM_real_util\n",
      "[1 1 0 0 0 0 0 0 0 0 0 0 0 0 0 0 0 0 0 0 0 0 0 0 0 0 0 0 0 1]\n",
      "ST Threshold Anomaly!\n",
      "Threshold  0.7800049643982482 tnsping_result_time\n"
     ]
    },
    {
     "name": "stderr",
     "output_type": "stream",
     "text": [
      "<ipython-input-106-934139de14b0>:27: UserWarning: Boolean Series key will be reindexed to match DataFrame index.\n",
      "  df_hk = df[df.cmdb_id == host][df.name == kpi]\n",
      "<ipython-input-106-934139de14b0>:27: UserWarning: Boolean Series key will be reindexed to match DataFrame index.\n",
      "  df_hk = df[df.cmdb_id == host][df.name == kpi]\n",
      "<ipython-input-106-934139de14b0>:27: UserWarning: Boolean Series key will be reindexed to match DataFrame index.\n",
      "  df_hk = df[df.cmdb_id == host][df.name == kpi]\n",
      "<ipython-input-106-934139de14b0>:27: UserWarning: Boolean Series key will be reindexed to match DataFrame index.\n",
      "  df_hk = df[df.cmdb_id == host][df.name == kpi]\n"
     ]
    },
    {
     "name": "stdout",
     "output_type": "stream",
     "text": [
      "Threshold  0.9736504655586444 CPU_Used_Pct\n",
      "Threshold  0.8558544935510687 MEM_Used\n",
      "[1 1 0 0 0 0 0 0 0 0 0 0 0 0 0 0 0 0 0 0 0 0 0 0 0 0 0 0 0 1]\n",
      "ST Threshold Anomaly!\n",
      "Threshold  nan MEM_Total\n",
      "NaN, Skipping!\n",
      "Threshold  0.8503225686445326 MEM_Used_Pct\n"
     ]
    },
    {
     "name": "stderr",
     "output_type": "stream",
     "text": [
      "<ipython-input-106-934139de14b0>:27: UserWarning: Boolean Series key will be reindexed to match DataFrame index.\n",
      "  df_hk = df[df.cmdb_id == host][df.name == kpi]\n",
      "<ipython-input-106-934139de14b0>:27: UserWarning: Boolean Series key will be reindexed to match DataFrame index.\n",
      "  df_hk = df[df.cmdb_id == host][df.name == kpi]\n",
      "<ipython-input-106-934139de14b0>:27: UserWarning: Boolean Series key will be reindexed to match DataFrame index.\n",
      "  df_hk = df[df.cmdb_id == host][df.name == kpi]\n"
     ]
    },
    {
     "name": "stdout",
     "output_type": "stream",
     "text": [
      "[1 1 0 0 0 0 0 0 0 0 0 0 0 0 0 0 0 0 0 0 0 0 0 0 0 0 0 0 0 1]\n",
      "ST Threshold Anomaly!\n",
      "Threshold  0.8576184941963902 Used_Tbs_Size\n",
      "Threshold  nan SEQ_Used_Pct\n",
      "NaN, Skipping!\n",
      "Threshold  nan Asm_Free_Tb\n",
      "NaN, Skipping!"
     ]
    },
    {
     "name": "stderr",
     "output_type": "stream",
     "text": [
      "<ipython-input-106-934139de14b0>:27: UserWarning: Boolean Series key will be reindexed to match DataFrame index.\n",
      "  df_hk = df[df.cmdb_id == host][df.name == kpi]\n",
      "<ipython-input-106-934139de14b0>:27: UserWarning: Boolean Series key will be reindexed to match DataFrame index.\n",
      "  df_hk = df[df.cmdb_id == host][df.name == kpi]\n",
      "<ipython-input-106-934139de14b0>:27: UserWarning: Boolean Series key will be reindexed to match DataFrame index.\n",
      "  df_hk = df[df.cmdb_id == host][df.name == kpi]\n"
     ]
    },
    {
     "name": "stdout",
     "output_type": "stream",
     "text": [
      "\n",
      "Threshold  nan PGA_used_total\n",
      "NaN, Skipping!\n",
      "Threshold  -1.0 Sess_Used_Undo\n",
      "Threshold  -1.0 Sess_Used_Temp\n",
      "Threshold  1.8797925987022943 SctRead_Per_Sec\n"
     ]
    },
    {
     "name": "stderr",
     "output_type": "stream",
     "text": [
      "<ipython-input-106-934139de14b0>:27: UserWarning: Boolean Series key will be reindexed to match DataFrame index.\n",
      "  df_hk = df[df.cmdb_id == host][df.name == kpi]\n",
      "<ipython-input-106-934139de14b0>:27: UserWarning: Boolean Series key will be reindexed to match DataFrame index.\n",
      "  df_hk = df[df.cmdb_id == host][df.name == kpi]\n",
      "<ipython-input-106-934139de14b0>:27: UserWarning: Boolean Series key will be reindexed to match DataFrame index.\n",
      "  df_hk = df[df.cmdb_id == host][df.name == kpi]\n",
      "<ipython-input-106-934139de14b0>:27: UserWarning: Boolean Series key will be reindexed to match DataFrame index.\n",
      "  df_hk = df[df.cmdb_id == host][df.name == kpi]\n",
      "/Users/baconbaker/anaconda3/envs/ml/lib/python3.8/site-packages/alibi_detect/od/sr.py:96: RuntimeWarning: divide by zero encountered in log\n",
      "  log_amp = np.log(amp)\n",
      "/Users/baconbaker/anaconda3/envs/ml/lib/python3.8/site-packages/alibi_detect/od/sr.py:99: RuntimeWarning: invalid value encountered in subtract\n",
      "  res_amp = log_amp - ma_log_amp\n",
      "/Users/baconbaker/anaconda3/envs/ml/lib/python3.8/site-packages/alibi_detect/od/sr.py:207: RuntimeWarning: invalid value encountered in greater\n",
      "  outlier_pred = (iscore > self.threshold).astype(int)\n",
      "<ipython-input-106-934139de14b0>:27: UserWarning: Boolean Series key will be reindexed to match DataFrame index.\n",
      "  df_hk = df[df.cmdb_id == host][df.name == kpi]\n",
      "<ipython-input-106-934139de14b0>:27: UserWarning: Boolean Series key will be reindexed to match DataFrame index.\n",
      "  df_hk = df[df.cmdb_id == host][df.name == kpi]\n",
      "<ipython-input-106-934139de14b0>:27: UserWarning: Boolean Series key will be reindexed to match DataFrame index.\n",
      "  df_hk = df[df.cmdb_id == host][df.name == kpi]\n"
     ]
    },
    {
     "name": "stdout",
     "output_type": "stream",
     "text": [
      "Threshold  4.945109214645695 SeqRead_Per_Sec\n",
      "Threshold  6.1635683857867445 DFParaWrite_Per_Sec\n",
      "Threshold  -1.0 PGA_Used_Pct\n"
     ]
    },
    {
     "name": "stderr",
     "output_type": "stream",
     "text": [
      "<ipython-input-106-934139de14b0>:27: UserWarning: Boolean Series key will be reindexed to match DataFrame index.\n",
      "  df_hk = df[df.cmdb_id == host][df.name == kpi]\n",
      "<ipython-input-106-934139de14b0>:27: UserWarning: Boolean Series key will be reindexed to match DataFrame index.\n",
      "  df_hk = df[df.cmdb_id == host][df.name == kpi]\n",
      "<ipython-input-106-934139de14b0>:27: UserWarning: Boolean Series key will be reindexed to match DataFrame index.\n",
      "  df_hk = df[df.cmdb_id == host][df.name == kpi]\n",
      "<ipython-input-106-934139de14b0>:27: UserWarning: Boolean Series key will be reindexed to match DataFrame index.\n",
      "  df_hk = df[df.cmdb_id == host][df.name == kpi]\n"
     ]
    },
    {
     "name": "stdout",
     "output_type": "stream",
     "text": [
      "Threshold  -1.0 Row_Lock\n",
      "Threshold  0.8139812617117599 Proc_Used_Pct\n",
      "[1 1 0 0 0 0 0 0 0 0 0 0 0 0 0 0 0 0 0 0 0 0 0 0 0 0 0 0 0 1]\n",
      "ST Threshold Anomaly!\n",
      "Threshold  1.0831623433212894 Session_pct\n",
      "[1 0 0 0 0 0 1 0 1 0 0 0 0 0 0 0 0 0 1 0 0 0 0 0 0 0 0 0 1 0]\n",
      "ST Threshold Anomaly!\n",
      "Threshold  5.764385640066364 LFParaWrite_Per_Sec\n",
      "Threshold  3.6075745783928013 AWS\n",
      "Threshold  4.156245568303864 LFSync_Per_Sec\n",
      "Threshold  0.8150829297368873 Proc_User_Used_Pct\n"
     ]
    },
    {
     "name": "stderr",
     "output_type": "stream",
     "text": [
      "<ipython-input-106-934139de14b0>:27: UserWarning: Boolean Series key will be reindexed to match DataFrame index.\n",
      "  df_hk = df[df.cmdb_id == host][df.name == kpi]\n",
      "<ipython-input-106-934139de14b0>:27: UserWarning: Boolean Series key will be reindexed to match DataFrame index.\n",
      "  df_hk = df[df.cmdb_id == host][df.name == kpi]\n",
      "<ipython-input-106-934139de14b0>:27: UserWarning: Boolean Series key will be reindexed to match DataFrame index.\n",
      "  df_hk = df[df.cmdb_id == host][df.name == kpi]\n"
     ]
    },
    {
     "name": "stdout",
     "output_type": "stream",
     "text": [
      "[1 1 0 0 0 0 0 0 0 0 0 0 0 0 0 0 0 0 0 0 0 0 0 0 0 0 0 0 0 1]\n",
      "ST Threshold Anomaly!\n",
      "Threshold  -1.0 AIOS\n",
      "Threshold  4.569689394174262 ACS\n",
      "Threshold  nan On_Off_State\n"
     ]
    },
    {
     "name": "stderr",
     "output_type": "stream",
     "text": [
      "<ipython-input-106-934139de14b0>:27: UserWarning: Boolean Series key will be reindexed to match DataFrame index.\n",
      "  df_hk = df[df.cmdb_id == host][df.name == kpi]\n",
      "<ipython-input-106-934139de14b0>:27: UserWarning: Boolean Series key will be reindexed to match DataFrame index.\n",
      "  df_hk = df[df.cmdb_id == host][df.name == kpi]\n",
      "<ipython-input-106-934139de14b0>:27: UserWarning: Boolean Series key will be reindexed to match DataFrame index.\n",
      "  df_hk = df[df.cmdb_id == host][df.name == kpi]\n"
     ]
    },
    {
     "name": "stdout",
     "output_type": "stream",
     "text": [
      "NaN, Skipping!\n",
      "Threshold  0.8683392629019188 DbTime\n",
      "[0 0 0 0 0 0 0 0 0 0 0 0 0 0 0 0 0 0 0 0 0 0 0 0 0 0 0 0 1 0]\n",
      "ST Threshold Anomaly!\n",
      "Threshold  0.8794206860029 Sess_Active\n",
      "Threshold  1.11041868067469 Physical_Read_Per_Sec\n"
     ]
    },
    {
     "name": "stderr",
     "output_type": "stream",
     "text": [
      "<ipython-input-106-934139de14b0>:27: UserWarning: Boolean Series key will be reindexed to match DataFrame index.\n",
      "  df_hk = df[df.cmdb_id == host][df.name == kpi]\n",
      "<ipython-input-106-934139de14b0>:27: UserWarning: Boolean Series key will be reindexed to match DataFrame index.\n",
      "  df_hk = df[df.cmdb_id == host][df.name == kpi]\n",
      "/Users/baconbaker/anaconda3/envs/ml/lib/python3.8/site-packages/alibi_detect/od/sr.py:96: RuntimeWarning: divide by zero encountered in log\n",
      "  log_amp = np.log(amp)\n",
      "/Users/baconbaker/anaconda3/envs/ml/lib/python3.8/site-packages/alibi_detect/od/sr.py:99: RuntimeWarning: invalid value encountered in subtract\n",
      "  res_amp = log_amp - ma_log_amp\n",
      "/Users/baconbaker/anaconda3/envs/ml/lib/python3.8/site-packages/alibi_detect/od/sr.py:207: RuntimeWarning: invalid value encountered in greater\n",
      "  outlier_pred = (iscore > self.threshold).astype(int)\n",
      "<ipython-input-106-934139de14b0>:27: UserWarning: Boolean Series key will be reindexed to match DataFrame index.\n",
      "  df_hk = df[df.cmdb_id == host][df.name == kpi]\n"
     ]
    },
    {
     "name": "stdout",
     "output_type": "stream",
     "text": [
      "[1 0 0 0 0 0 0 1 1 1 0 0 0 0 0 0 0 1 1 1 0 0 0 0 0 0 0 1 1 0]\n",
      "ST Threshold Anomaly!\n",
      "Threshold  0.8529655041360216 Call_Per_Sec\n",
      "[1 0 0 0 0 0 0 0 0 0 0 0 0 0 0 0 0 0 0 0 0 0 0 0 0 0 0 0 1 0]\n",
      "ST Threshold Anomaly!\n",
      "Threshold  0.9669493772824259 Login_Per_Sec\n",
      "[1 0 0 0 0 0 0 0 0 0 0 0 0 0 0 0 0 0 0 0 0 0 0 0 0 0 0 0 1 0]\n",
      "ST Threshold Anomaly!\n",
      "Threshold  10.80169385267596 User_Commit\n"
     ]
    },
    {
     "name": "stderr",
     "output_type": "stream",
     "text": [
      "<ipython-input-106-934139de14b0>:27: UserWarning: Boolean Series key will be reindexed to match DataFrame index.\n",
      "  df_hk = df[df.cmdb_id == host][df.name == kpi]\n",
      "<ipython-input-106-934139de14b0>:27: UserWarning: Boolean Series key will be reindexed to match DataFrame index.\n",
      "  df_hk = df[df.cmdb_id == host][df.name == kpi]\n",
      "<ipython-input-106-934139de14b0>:27: UserWarning: Boolean Series key will be reindexed to match DataFrame index.\n",
      "  df_hk = df[df.cmdb_id == host][df.name == kpi]\n",
      "/Users/baconbaker/anaconda3/envs/ml/lib/python3.8/site-packages/alibi_detect/od/sr.py:96: RuntimeWarning: divide by zero encountered in log\n",
      "  log_amp = np.log(amp)\n",
      "/Users/baconbaker/anaconda3/envs/ml/lib/python3.8/site-packages/alibi_detect/od/sr.py:99: RuntimeWarning: invalid value encountered in subtract\n",
      "  res_amp = log_amp - ma_log_amp\n",
      "/Users/baconbaker/anaconda3/envs/ml/lib/python3.8/site-packages/alibi_detect/od/sr.py:207: RuntimeWarning: invalid value encountered in greater\n",
      "  outlier_pred = (iscore > self.threshold).astype(int)\n",
      "<ipython-input-106-934139de14b0>:27: UserWarning: Boolean Series key will be reindexed to match DataFrame index.\n",
      "  df_hk = df[df.cmdb_id == host][df.name == kpi]\n",
      "<ipython-input-106-934139de14b0>:27: UserWarning: Boolean Series key will be reindexed to match DataFrame index.\n",
      "  df_hk = df[df.cmdb_id == host][df.name == kpi]\n",
      "<ipython-input-106-934139de14b0>:27: UserWarning: Boolean Series key will be reindexed to match DataFrame index.\n",
      "  df_hk = df[df.cmdb_id == host][df.name == kpi]\n"
     ]
    },
    {
     "name": "stdout",
     "output_type": "stream",
     "text": [
      "Threshold  0.8530345175472619 Sess_Connect\n",
      "[1 1 0 0 0 0 0 0 0 0 0 0 0 0 0 0 0 0 0 0 0 0 0 0 0 0 0 0 0 1]\n",
      "ST Threshold Anomaly!\n",
      "Threshold  0.7981485786157367 Logic_Read_Per_Sec\n",
      "[1 0 0 0 0 0 0 1 1 1 0 0 0 0 0 0 0 1 1 1 0 0 0 0 0 0 0 1 1 0]\n",
      "ST Threshold Anomaly!\n",
      "Threshold  11.933078852944627 TPS_Per_Sec\n"
     ]
    },
    {
     "name": "stderr",
     "output_type": "stream",
     "text": [
      "/Users/baconbaker/anaconda3/envs/ml/lib/python3.8/site-packages/alibi_detect/od/sr.py:96: RuntimeWarning: divide by zero encountered in log\n",
      "  log_amp = np.log(amp)\n",
      "/Users/baconbaker/anaconda3/envs/ml/lib/python3.8/site-packages/alibi_detect/od/sr.py:99: RuntimeWarning: invalid value encountered in subtract\n",
      "  res_amp = log_amp - ma_log_amp\n",
      "/Users/baconbaker/anaconda3/envs/ml/lib/python3.8/site-packages/alibi_detect/od/sr.py:207: RuntimeWarning: invalid value encountered in greater\n",
      "  outlier_pred = (iscore > self.threshold).astype(int)\n",
      "<ipython-input-106-934139de14b0>:27: UserWarning: Boolean Series key will be reindexed to match DataFrame index.\n",
      "  df_hk = df[df.cmdb_id == host][df.name == kpi]\n",
      "<ipython-input-106-934139de14b0>:27: UserWarning: Boolean Series key will be reindexed to match DataFrame index.\n",
      "  df_hk = df[df.cmdb_id == host][df.name == kpi]\n",
      "<ipython-input-106-934139de14b0>:27: UserWarning: Boolean Series key will be reindexed to match DataFrame index.\n",
      "  df_hk = df[df.cmdb_id == host][df.name == kpi]\n"
     ]
    },
    {
     "name": "stdout",
     "output_type": "stream",
     "text": [
      "Threshold  nan Hang\n",
      "NaN, Skipping!\n",
      "Threshold  0.8061532539231474 Redo_Per_Sec\n",
      "[1 1 1 0 0 0 0 0 0 0 0 0 0 0 0 0 0 0 0 0 0 0 0 0 0 0 0 0 0 1]\n",
      "ST Threshold Anomaly!\n",
      "Threshold  0.9778043546149556 Exec_Per_Sec\n",
      "[1 0 0 0 0 0 0 0 0 0 0 0 0 0 0 0 0 0 0 0 0 0 0 0 0 0 0 0 1 0]\n",
      "ST Threshold Anomaly!\n",
      "Threshold  -1.0 TempTbs_Pct\n",
      "Threshold  nan Total_Tbs_Size\n",
      "NaN, Skipping!\n",
      "Threshold  0.8483919932524018 New_Tbs_Free_Gb\n"
     ]
    },
    {
     "name": "stderr",
     "output_type": "stream",
     "text": [
      "<ipython-input-106-934139de14b0>:27: UserWarning: Boolean Series key will be reindexed to match DataFrame index.\n",
      "  df_hk = df[df.cmdb_id == host][df.name == kpi]\n",
      "<ipython-input-106-934139de14b0>:27: UserWarning: Boolean Series key will be reindexed to match DataFrame index.\n",
      "  df_hk = df[df.cmdb_id == host][df.name == kpi]\n",
      "<ipython-input-106-934139de14b0>:27: UserWarning: Boolean Series key will be reindexed to match DataFrame index.\n",
      "  df_hk = df[df.cmdb_id == host][df.name == kpi]\n"
     ]
    },
    {
     "name": "stdout",
     "output_type": "stream",
     "text": [
      "[1 1 1 1 1 1 1 1 1 0 0 0 0 0 0 0 0 0 0 0 0 0 0 0 0 0 0 0 0 1]\n",
      "ST Threshold Anomaly!\n",
      "Threshold  3.514624414548114 New_Tbs_Used_Pct\n",
      "Threshold  nan Tbs_Used_Pct\n",
      "NaN, Skipping!\n",
      "Threshold  nan Tbs_Free_Gb\n",
      "NaN, Skipping!\n",
      "Threshold  2.3180153524914835 UndoTbs_Pct\n"
     ]
    },
    {
     "name": "stderr",
     "output_type": "stream",
     "text": [
      "<ipython-input-106-934139de14b0>:27: UserWarning: Boolean Series key will be reindexed to match DataFrame index.\n",
      "  df_hk = df[df.cmdb_id == host][df.name == kpi]\n",
      "<ipython-input-106-934139de14b0>:27: UserWarning: Boolean Series key will be reindexed to match DataFrame index.\n",
      "  df_hk = df[df.cmdb_id == host][df.name == kpi]\n",
      "<ipython-input-106-934139de14b0>:27: UserWarning: Boolean Series key will be reindexed to match DataFrame index.\n",
      "  df_hk = df[df.cmdb_id == host][df.name == kpi]\n",
      "<ipython-input-106-934139de14b0>:27: UserWarning: Boolean Series key will be reindexed to match DataFrame index.\n",
      "  df_hk = df[df.cmdb_id == host][df.name == kpi]\n"
     ]
    },
    {
     "name": "stdout",
     "output_type": "stream",
     "text": [
      "Threshold  0.7389224145657218 DbFile_Used_Pct\n",
      "No valid data to use, skipping\n",
      "db_011  completed in  3.3623452186584473\n",
      "************************************************************\n",
      "Checking  db_008\n",
      "Threshold  0.851197723778272 CPU_free_pct\n",
      "[1 1 0 0 0 0 0 0 0 0 0 0 0 0 0 0 0 0 0 0 0 0 0 0 0 0 0 0 0 1]\n",
      "ST Threshold Anomaly!\n",
      "Threshold  0.8590480172935103 MEM_real_util\n",
      "[1 1 0 0 0 0 0 0 0 0 0 0 0 0 0 0 0 0 0 0 0 0 0 0 0 0 0 0 0 1]\n",
      "ST Threshold Anomaly!\n",
      "Threshold  1.4443375881032632 tnsping_result_time\n",
      "[0 0 0 0 0 0 1 0 0 0 0 0 0 0 0 0 0 0 0 0 0 0 0 0 1 1 0 1 1 0]\n",
      "ST Threshold Anomaly!\n",
      "Threshold  0.9201743893136812 CPU_Used_Pct\n"
     ]
    },
    {
     "name": "stderr",
     "output_type": "stream",
     "text": [
      "<ipython-input-106-934139de14b0>:27: UserWarning: Boolean Series key will be reindexed to match DataFrame index.\n",
      "  df_hk = df[df.cmdb_id == host][df.name == kpi]\n",
      "<ipython-input-106-934139de14b0>:27: UserWarning: Boolean Series key will be reindexed to match DataFrame index.\n",
      "  df_hk = df[df.cmdb_id == host][df.name == kpi]\n",
      "<ipython-input-106-934139de14b0>:27: UserWarning: Boolean Series key will be reindexed to match DataFrame index.\n",
      "  df_hk = df[df.cmdb_id == host][df.name == kpi]\n",
      "<ipython-input-106-934139de14b0>:27: UserWarning: Boolean Series key will be reindexed to match DataFrame index.\n",
      "  df_hk = df[df.cmdb_id == host][df.name == kpi]\n"
     ]
    },
    {
     "name": "stdout",
     "output_type": "stream",
     "text": [
      "[1 0 0 0 0 0 0 0 0 0 0 0 0 0 0 0 0 0 0 0 0 0 0 0 0 0 0 0 0 1]\n",
      "ST Threshold Anomaly!\n",
      "Threshold  0.8605026155384294 MEM_Used\n",
      "[1 1 0 0 0 0 0 0 0 0 0 0 0 0 0 0 0 0 0 0 0 0 0 0 0 0 0 0 0 1]\n",
      "ST Threshold Anomaly!\n",
      "Threshold  nan MEM_Total\n",
      "NaN, Skipping!\n",
      "Threshold  0.8574500883540024 MEM_Used_Pct\n",
      "[1 1 0 0 0 0 0 0 0 0 0 0 0 0 0 0 0 0 0 0 0 0 0 0 0 0 0 0 0 1]\n",
      "ST Threshold Anomaly!\n",
      "Threshold  0.8576635905203236 Used_Tbs_Size\n"
     ]
    },
    {
     "name": "stderr",
     "output_type": "stream",
     "text": [
      "<ipython-input-106-934139de14b0>:27: UserWarning: Boolean Series key will be reindexed to match DataFrame index.\n",
      "  df_hk = df[df.cmdb_id == host][df.name == kpi]\n",
      "<ipython-input-106-934139de14b0>:27: UserWarning: Boolean Series key will be reindexed to match DataFrame index.\n",
      "  df_hk = df[df.cmdb_id == host][df.name == kpi]\n",
      "<ipython-input-106-934139de14b0>:27: UserWarning: Boolean Series key will be reindexed to match DataFrame index.\n",
      "  df_hk = df[df.cmdb_id == host][df.name == kpi]\n",
      "<ipython-input-106-934139de14b0>:27: UserWarning: Boolean Series key will be reindexed to match DataFrame index.\n",
      "  df_hk = df[df.cmdb_id == host][df.name == kpi]\n"
     ]
    },
    {
     "name": "stdout",
     "output_type": "stream",
     "text": [
      "[1 1 1 1 0 0 0 0 0 0 0 0 0 0 0 0 0 0 0 0 0 0 0 0 0 0 1 1 1 1]\n",
      "ST Threshold Anomaly!\n",
      "Threshold  nan SEQ_Used_Pct\n",
      "NaN, Skipping!\n",
      "Threshold  nan Asm_Free_Tb\n",
      "NaN, Skipping!\n",
      "Threshold  nan PGA_used_total\n",
      "NaN, Skipping!"
     ]
    },
    {
     "name": "stderr",
     "output_type": "stream",
     "text": [
      "<ipython-input-106-934139de14b0>:27: UserWarning: Boolean Series key will be reindexed to match DataFrame index.\n",
      "  df_hk = df[df.cmdb_id == host][df.name == kpi]\n",
      "<ipython-input-106-934139de14b0>:27: UserWarning: Boolean Series key will be reindexed to match DataFrame index.\n",
      "  df_hk = df[df.cmdb_id == host][df.name == kpi]\n",
      "<ipython-input-106-934139de14b0>:27: UserWarning: Boolean Series key will be reindexed to match DataFrame index.\n",
      "  df_hk = df[df.cmdb_id == host][df.name == kpi]\n"
     ]
    },
    {
     "name": "stdout",
     "output_type": "stream",
     "text": [
      "\n",
      "Threshold  -1.0 Sess_Used_Undo\n",
      "Threshold  -1.0 Sess_Used_Temp\n",
      "Threshold  -1.0 SctRead_Per_Sec\n"
     ]
    },
    {
     "name": "stderr",
     "output_type": "stream",
     "text": [
      "<ipython-input-106-934139de14b0>:27: UserWarning: Boolean Series key will be reindexed to match DataFrame index.\n",
      "  df_hk = df[df.cmdb_id == host][df.name == kpi]\n",
      "<ipython-input-106-934139de14b0>:27: UserWarning: Boolean Series key will be reindexed to match DataFrame index.\n",
      "  df_hk = df[df.cmdb_id == host][df.name == kpi]\n",
      "<ipython-input-106-934139de14b0>:27: UserWarning: Boolean Series key will be reindexed to match DataFrame index.\n",
      "  df_hk = df[df.cmdb_id == host][df.name == kpi]\n"
     ]
    },
    {
     "name": "stdout",
     "output_type": "stream",
     "text": [
      "Threshold  1.7908556186447773 SeqRead_Per_Sec\n",
      "Threshold  0.8949202479235869 DFParaWrite_Per_Sec\n",
      "[1 1 1 1 1 0 0 0 0 0 0 0 0 0 0 0 0 0 0 0 0 0 0 0 0 0 0 1 1 1]\n",
      "ST Threshold Anomaly!\n",
      "Threshold  -1.0 PGA_Used_Pct\n",
      "Threshold "
     ]
    },
    {
     "name": "stderr",
     "output_type": "stream",
     "text": [
      "<ipython-input-106-934139de14b0>:27: UserWarning: Boolean Series key will be reindexed to match DataFrame index.\n",
      "  df_hk = df[df.cmdb_id == host][df.name == kpi]\n",
      "<ipython-input-106-934139de14b0>:27: UserWarning: Boolean Series key will be reindexed to match DataFrame index.\n",
      "  df_hk = df[df.cmdb_id == host][df.name == kpi]\n",
      "<ipython-input-106-934139de14b0>:27: UserWarning: Boolean Series key will be reindexed to match DataFrame index.\n",
      "  df_hk = df[df.cmdb_id == host][df.name == kpi]\n"
     ]
    },
    {
     "name": "stdout",
     "output_type": "stream",
     "text": [
      " -1.0 Row_Lock\n",
      "Threshold  0.8527059548940975 Proc_Used_Pct\n",
      "[1 1 0 0 0 0 0 0 0 0 0 0 0 0 0 0 0 0 0 0 0 0 0 0 0 0 0 0 0 1]\n",
      "ST Threshold Anomaly!\n",
      "Threshold  3.5765840992003146 Session_pct\n"
     ]
    },
    {
     "name": "stderr",
     "output_type": "stream",
     "text": [
      "<ipython-input-106-934139de14b0>:27: UserWarning: Boolean Series key will be reindexed to match DataFrame index.\n",
      "  df_hk = df[df.cmdb_id == host][df.name == kpi]\n",
      "<ipython-input-106-934139de14b0>:27: UserWarning: Boolean Series key will be reindexed to match DataFrame index.\n",
      "  df_hk = df[df.cmdb_id == host][df.name == kpi]\n",
      "<ipython-input-106-934139de14b0>:27: UserWarning: Boolean Series key will be reindexed to match DataFrame index.\n",
      "  df_hk = df[df.cmdb_id == host][df.name == kpi]\n"
     ]
    },
    {
     "name": "stdout",
     "output_type": "stream",
     "text": [
      "[0 0 0 0 0 0 0 0 1 0 0 0 0 0 0 0 0 0 1 0 0 0 0 0 0 0 0 0 1 0]\n",
      "ST Threshold Anomaly!\n",
      "Threshold  0.99907810849544 LFParaWrite_Per_Sec\n",
      "Threshold  1.8541028472235488 AWS\n",
      "Threshold  0.8806708467306181 LFSync_Per_Sec\n"
     ]
    },
    {
     "name": "stderr",
     "output_type": "stream",
     "text": [
      "<ipython-input-106-934139de14b0>:27: UserWarning: Boolean Series key will be reindexed to match DataFrame index.\n",
      "  df_hk = df[df.cmdb_id == host][df.name == kpi]\n",
      "<ipython-input-106-934139de14b0>:27: UserWarning: Boolean Series key will be reindexed to match DataFrame index.\n",
      "  df_hk = df[df.cmdb_id == host][df.name == kpi]\n",
      "<ipython-input-106-934139de14b0>:27: UserWarning: Boolean Series key will be reindexed to match DataFrame index.\n",
      "  df_hk = df[df.cmdb_id == host][df.name == kpi]\n"
     ]
    },
    {
     "name": "stdout",
     "output_type": "stream",
     "text": [
      "Threshold  0.8535632512120059 Proc_User_Used_Pct\n",
      "[1 1 0 0 0 0 0 0 0 0 0 0 0 0 0 0 0 0 0 0 0 0 0 0 0 0 0 0 0 1]\n",
      "ST Threshold Anomaly!\n",
      "Threshold  2.2718665057806424 AIOS\n",
      "Threshold  2.6210940308722064 ACS\n",
      "Threshold  nan On_Off_State\n"
     ]
    },
    {
     "name": "stderr",
     "output_type": "stream",
     "text": [
      "<ipython-input-106-934139de14b0>:27: UserWarning: Boolean Series key will be reindexed to match DataFrame index.\n",
      "  df_hk = df[df.cmdb_id == host][df.name == kpi]\n",
      "<ipython-input-106-934139de14b0>:27: UserWarning: Boolean Series key will be reindexed to match DataFrame index.\n",
      "  df_hk = df[df.cmdb_id == host][df.name == kpi]\n",
      "/Users/baconbaker/anaconda3/envs/ml/lib/python3.8/site-packages/alibi_detect/od/sr.py:96: RuntimeWarning: divide by zero encountered in log\n",
      "  log_amp = np.log(amp)\n",
      "/Users/baconbaker/anaconda3/envs/ml/lib/python3.8/site-packages/alibi_detect/od/sr.py:99: RuntimeWarning: invalid value encountered in subtract\n",
      "  res_amp = log_amp - ma_log_amp\n",
      "/Users/baconbaker/anaconda3/envs/ml/lib/python3.8/site-packages/alibi_detect/od/sr.py:207: RuntimeWarning: invalid value encountered in greater\n",
      "  outlier_pred = (iscore > self.threshold).astype(int)\n",
      "<ipython-input-106-934139de14b0>:27: UserWarning: Boolean Series key will be reindexed to match DataFrame index.\n",
      "  df_hk = df[df.cmdb_id == host][df.name == kpi]\n",
      "<ipython-input-106-934139de14b0>:27: UserWarning: Boolean Series key will be reindexed to match DataFrame index.\n",
      "  df_hk = df[df.cmdb_id == host][df.name == kpi]\n",
      "<ipython-input-106-934139de14b0>:27: UserWarning: Boolean Series key will be reindexed to match DataFrame index.\n",
      "  df_hk = df[df.cmdb_id == host][df.name == kpi]\n",
      "<ipython-input-106-934139de14b0>:27: UserWarning: Boolean Series key will be reindexed to match DataFrame index.\n",
      "  df_hk = df[df.cmdb_id == host][df.name == kpi]\n",
      "<ipython-input-106-934139de14b0>:27: UserWarning: Boolean Series key will be reindexed to match DataFrame index.\n",
      "  df_hk = df[df.cmdb_id == host][df.name == kpi]\n"
     ]
    },
    {
     "name": "stdout",
     "output_type": "stream",
     "text": [
      "NaN, Skipping!\n",
      "Threshold  1.3487977389186157 DbTime\n",
      "[0 0 0 0 0 0 0 0 1 0 0 0 0 0 0 0 0 0 1 0 0 0 0 0 0 0 0 0 1 0]\n",
      "ST Threshold Anomaly!\n",
      "Threshold  5.905387160922063 Sess_Active\n",
      "Threshold  1.4117443453890133 Physical_Read_Per_Sec\n",
      "[1 0 0 0 0 0 0 0 1 0 0 0 0 0 0 0 0 0 1 0 0 0 0 0 0 0 0 1 1 0]\n",
      "ST Threshold Anomaly!\n",
      "Threshold  0.8649302385240605 Call_Per_Sec\n",
      "[1 1 0 0 0 0 0 0 0 0 0 0 0 0 0 0 0 0 0 0 0 0 0 0 0 0 0 0 0 1]\n",
      "ST Threshold Anomaly!\n",
      "Threshold  1.1236706909385934 Login_Per_Sec\n",
      "[1 1 0 1 0 0 0 0 0 0 0 0 0 0 0 0 0 0 0 0 0 1 0 0 0 0 0 1 0 1]\n",
      "ST Threshold Anomaly!\n",
      "Threshold  0.845554608915091 User_Commit\n",
      "Threshold "
     ]
    },
    {
     "name": "stderr",
     "output_type": "stream",
     "text": [
      "<ipython-input-106-934139de14b0>:27: UserWarning: Boolean Series key will be reindexed to match DataFrame index.\n",
      "  df_hk = df[df.cmdb_id == host][df.name == kpi]\n",
      "<ipython-input-106-934139de14b0>:27: UserWarning: Boolean Series key will be reindexed to match DataFrame index.\n",
      "  df_hk = df[df.cmdb_id == host][df.name == kpi]\n",
      "<ipython-input-106-934139de14b0>:27: UserWarning: Boolean Series key will be reindexed to match DataFrame index.\n",
      "  df_hk = df[df.cmdb_id == host][df.name == kpi]\n"
     ]
    },
    {
     "name": "stdout",
     "output_type": "stream",
     "text": [
      " 0.8576446806517785 Sess_Connect\n",
      "[1 1 0 0 0 0 0 0 0 0 0 0 0 0 0 0 0 0 0 0 0 0 0 0 0 0 0 0 0 1]\n",
      "ST Threshold Anomaly!\n",
      "Threshold  0.8285447452777582 Logic_Read_Per_Sec\n",
      "[1 0 0 0 0 0 0 1 1 1 0 0 0 0 0 0 0 1 1 1 0 0 0 0 0 0 0 1 1 0]\n",
      "ST Threshold Anomaly!\n",
      "Threshold  0.9528769861316926 TPS_Per_Sec\n"
     ]
    },
    {
     "name": "stderr",
     "output_type": "stream",
     "text": [
      "<ipython-input-106-934139de14b0>:27: UserWarning: Boolean Series key will be reindexed to match DataFrame index.\n",
      "  df_hk = df[df.cmdb_id == host][df.name == kpi]\n",
      "<ipython-input-106-934139de14b0>:27: UserWarning: Boolean Series key will be reindexed to match DataFrame index.\n",
      "  df_hk = df[df.cmdb_id == host][df.name == kpi]\n",
      "<ipython-input-106-934139de14b0>:27: UserWarning: Boolean Series key will be reindexed to match DataFrame index.\n",
      "  df_hk = df[df.cmdb_id == host][df.name == kpi]\n"
     ]
    },
    {
     "name": "stdout",
     "output_type": "stream",
     "text": [
      "Threshold  nan Hang\n",
      "NaN, Skipping!\n",
      "Threshold  0.8491605830163889 Redo_Per_Sec\n",
      "Threshold  1.0222061998676082 Exec_Per_Sec\n",
      "[1 0 0 0 0 0 0 1 1 1 0 0 0 0 0 0 0 0 1 0 0 0 0 0 0 0 0 1 1 0]\n",
      "ST Threshold Anomaly!\n",
      "Threshold  -1.0 TempTbs_Pct\n"
     ]
    },
    {
     "name": "stderr",
     "output_type": "stream",
     "text": [
      "<ipython-input-106-934139de14b0>:27: UserWarning: Boolean Series key will be reindexed to match DataFrame index.\n",
      "  df_hk = df[df.cmdb_id == host][df.name == kpi]\n",
      "<ipython-input-106-934139de14b0>:27: UserWarning: Boolean Series key will be reindexed to match DataFrame index.\n",
      "  df_hk = df[df.cmdb_id == host][df.name == kpi]\n",
      "<ipython-input-106-934139de14b0>:27: UserWarning: Boolean Series key will be reindexed to match DataFrame index.\n",
      "  df_hk = df[df.cmdb_id == host][df.name == kpi]\n",
      "<ipython-input-106-934139de14b0>:27: UserWarning: Boolean Series key will be reindexed to match DataFrame index.\n",
      "  df_hk = df[df.cmdb_id == host][df.name == kpi]\n"
     ]
    },
    {
     "name": "stdout",
     "output_type": "stream",
     "text": [
      "Threshold  nan Total_Tbs_Size\n",
      "NaN, Skipping!\n",
      "Threshold  0.7826356825620048 New_Tbs_Free_Gb\n",
      "[1 1 0 0 0 0 0 0 0 0 0 0 0 0 0 0 0 0 0 0 0 1 1 1 1 1 1 1 1 1]\n",
      "ST Threshold Anomaly!\n",
      "Threshold  0.8829940520029328 New_Tbs_Used_Pct\n",
      "Threshold  nan Tbs_Used_Pct\n"
     ]
    },
    {
     "name": "stderr",
     "output_type": "stream",
     "text": [
      "<ipython-input-106-934139de14b0>:27: UserWarning: Boolean Series key will be reindexed to match DataFrame index.\n",
      "  df_hk = df[df.cmdb_id == host][df.name == kpi]\n",
      "<ipython-input-106-934139de14b0>:27: UserWarning: Boolean Series key will be reindexed to match DataFrame index.\n",
      "  df_hk = df[df.cmdb_id == host][df.name == kpi]\n",
      "<ipython-input-106-934139de14b0>:27: UserWarning: Boolean Series key will be reindexed to match DataFrame index.\n",
      "  df_hk = df[df.cmdb_id == host][df.name == kpi]\n",
      "<ipython-input-106-934139de14b0>:27: UserWarning: Boolean Series key will be reindexed to match DataFrame index.\n",
      "  df_hk = df[df.cmdb_id == host][df.name == kpi]\n"
     ]
    },
    {
     "name": "stdout",
     "output_type": "stream",
     "text": [
      "NaN, Skipping!\n",
      "Threshold  nan Tbs_Free_Gb\n",
      "NaN, Skipping!\n",
      "Threshold  1.9060959040156653 UndoTbs_Pct\n",
      "Threshold  0.7364757323875408 DbFile_Used_Pct\n",
      "No valid data to use, skipping\n",
      "db_008  completed in  3.2014589309692383\n",
      "************************************************************\n",
      "Checking  db_003\n",
      "Threshold  0.8414094443241311 CPU_free_pct\n"
     ]
    },
    {
     "name": "stderr",
     "output_type": "stream",
     "text": [
      "<ipython-input-106-934139de14b0>:27: UserWarning: Boolean Series key will be reindexed to match DataFrame index.\n",
      "  df_hk = df[df.cmdb_id == host][df.name == kpi]\n",
      "<ipython-input-106-934139de14b0>:27: UserWarning: Boolean Series key will be reindexed to match DataFrame index.\n",
      "  df_hk = df[df.cmdb_id == host][df.name == kpi]\n",
      "<ipython-input-106-934139de14b0>:27: UserWarning: Boolean Series key will be reindexed to match DataFrame index.\n",
      "  df_hk = df[df.cmdb_id == host][df.name == kpi]\n"
     ]
    },
    {
     "name": "stdout",
     "output_type": "stream",
     "text": [
      "[1 1 0 0 0 0 0 0 0 0 0 0 0 0 0 0 0 0 0 0 0 0 0 0 0 0 0 0 0 1]\n",
      "ST Threshold Anomaly!\n",
      "Threshold  0.8568896017189398 MEM_real_util\n",
      "[1 1 0 0 0 0 0 0 0 0 0 0 0 0 0 0 0 0 0 0 0 0 0 0 0 0 0 0 0 1]\n",
      "ST Threshold Anomaly!\n",
      "Threshold  1.2020083629228644 tnsping_result_time\n",
      "[1 0 0 0 0 0 0 1 1 0 1 0 0 0 0 0 0 0 0 0 0 1 0 0 0 0 0 0 1 1]\n",
      "ST Threshold Anomaly!\n",
      "Threshold  1.0164178043618703 CPU_Used_Pct\n",
      "[1 1 1 0 0 0 0 0 0 0 0 0 0 0 0 0 0 0 0 0 0 0 0 0 0 1 0 0 0 1]\n",
      "ST Threshold Anomaly!\n",
      "Threshold  0.8581283327200987 MEM_Used\n"
     ]
    },
    {
     "name": "stderr",
     "output_type": "stream",
     "text": [
      "<ipython-input-106-934139de14b0>:27: UserWarning: Boolean Series key will be reindexed to match DataFrame index.\n",
      "  df_hk = df[df.cmdb_id == host][df.name == kpi]\n",
      "<ipython-input-106-934139de14b0>:27: UserWarning: Boolean Series key will be reindexed to match DataFrame index.\n",
      "  df_hk = df[df.cmdb_id == host][df.name == kpi]\n",
      "<ipython-input-106-934139de14b0>:27: UserWarning: Boolean Series key will be reindexed to match DataFrame index.\n",
      "  df_hk = df[df.cmdb_id == host][df.name == kpi]\n",
      "<ipython-input-106-934139de14b0>:27: UserWarning: Boolean Series key will be reindexed to match DataFrame index.\n",
      "  df_hk = df[df.cmdb_id == host][df.name == kpi]\n"
     ]
    },
    {
     "name": "stdout",
     "output_type": "stream",
     "text": [
      "[1 1 0 0 0 0 0 0 0 0 0 0 0 0 0 0 0 0 0 0 0 0 0 0 0 0 0 0 0 1]\n",
      "ST Threshold Anomaly!\n",
      "Threshold  nan MEM_Total\n",
      "NaN, Skipping!\n",
      "Threshold  0.8571716032846204 MEM_Used_Pct\n",
      "[1 1 0 0 0 0 0 0 0 0 0 0 0 0 0 0 0 0 0 0 0 0 0 0 0 0 0 0 0 1]\n",
      "ST Threshold Anomaly!\n",
      "Threshold  0.8576762752527446 Used_Tbs_Size\n",
      "[1 1 1 1 0 0 0 0 0 0 0 0 0 0 0 0 0 0 0 0 0 0 0 0 0 0 1 1 1 1]\n",
      "ST Threshold Anomaly!\n",
      "Threshold  nan SEQ_Used_Pct\n"
     ]
    },
    {
     "name": "stderr",
     "output_type": "stream",
     "text": [
      "<ipython-input-106-934139de14b0>:27: UserWarning: Boolean Series key will be reindexed to match DataFrame index.\n",
      "  df_hk = df[df.cmdb_id == host][df.name == kpi]\n",
      "<ipython-input-106-934139de14b0>:27: UserWarning: Boolean Series key will be reindexed to match DataFrame index.\n",
      "  df_hk = df[df.cmdb_id == host][df.name == kpi]\n",
      "<ipython-input-106-934139de14b0>:27: UserWarning: Boolean Series key will be reindexed to match DataFrame index.\n",
      "  df_hk = df[df.cmdb_id == host][df.name == kpi]\n",
      "<ipython-input-106-934139de14b0>:27: UserWarning: Boolean Series key will be reindexed to match DataFrame index.\n",
      "  df_hk = df[df.cmdb_id == host][df.name == kpi]\n"
     ]
    },
    {
     "name": "stdout",
     "output_type": "stream",
     "text": [
      "NaN, Skipping!\n",
      "Threshold  0.8461219611997377 Asm_Free_Tb\n",
      "Threshold  0.8606343912022577 PGA_used_total\n",
      "[1 1 0 0 0 0 0 0 0 0 0 0 0 0 0 0 0 0 0 0 0 0 0 0 0 0 0 0 0 1]\n",
      "ST Threshold Anomaly!\n",
      "Threshold  1.2197081432629062 Sess_Used_Undo\n",
      "Threshold  6.542177390350263 Sess_Used_Temp\n"
     ]
    },
    {
     "name": "stderr",
     "output_type": "stream",
     "text": [
      "<ipython-input-106-934139de14b0>:27: UserWarning: Boolean Series key will be reindexed to match DataFrame index.\n",
      "  df_hk = df[df.cmdb_id == host][df.name == kpi]\n",
      "/Users/baconbaker/anaconda3/envs/ml/lib/python3.8/site-packages/alibi_detect/od/sr.py:96: RuntimeWarning: divide by zero encountered in log\n",
      "  log_amp = np.log(amp)\n",
      "/Users/baconbaker/anaconda3/envs/ml/lib/python3.8/site-packages/alibi_detect/od/sr.py:99: RuntimeWarning: invalid value encountered in subtract\n",
      "  res_amp = log_amp - ma_log_amp\n",
      "/Users/baconbaker/anaconda3/envs/ml/lib/python3.8/site-packages/alibi_detect/od/sr.py:207: RuntimeWarning: invalid value encountered in greater\n",
      "  outlier_pred = (iscore > self.threshold).astype(int)\n",
      "<ipython-input-106-934139de14b0>:27: UserWarning: Boolean Series key will be reindexed to match DataFrame index.\n",
      "  df_hk = df[df.cmdb_id == host][df.name == kpi]\n",
      "<ipython-input-106-934139de14b0>:27: UserWarning: Boolean Series key will be reindexed to match DataFrame index.\n",
      "  df_hk = df[df.cmdb_id == host][df.name == kpi]\n",
      "<ipython-input-106-934139de14b0>:27: UserWarning: Boolean Series key will be reindexed to match DataFrame index.\n",
      "  df_hk = df[df.cmdb_id == host][df.name == kpi]\n",
      "<ipython-input-106-934139de14b0>:27: UserWarning: Boolean Series key will be reindexed to match DataFrame index.\n",
      "  df_hk = df[df.cmdb_id == host][df.name == kpi]\n",
      "<ipython-input-106-934139de14b0>:27: UserWarning: Boolean Series key will be reindexed to match DataFrame index.\n",
      "  df_hk = df[df.cmdb_id == host][df.name == kpi]\n",
      "<ipython-input-106-934139de14b0>:27: UserWarning: Boolean Series key will be reindexed to match DataFrame index.\n",
      "  df_hk = df[df.cmdb_id == host][df.name == kpi]\n"
     ]
    },
    {
     "name": "stdout",
     "output_type": "stream",
     "text": [
      "Threshold  1.001233825972112 SctRead_Per_Sec\n",
      "Threshold  0.7873113130077609 SeqRead_Per_Sec\n",
      "Threshold  0.8927835463426366 DFParaWrite_Per_Sec\n",
      "[0 0 1 0 0 0 0 0 0 0 0 0 0 0 0 0 0 0 0 0 0 0 1 0 0 0 0 0 0 1]\n",
      "ST Threshold Anomaly!\n",
      "Threshold  -1.0 PGA_Used_Pct\n"
     ]
    },
    {
     "name": "stderr",
     "output_type": "stream",
     "text": [
      "<ipython-input-106-934139de14b0>:27: UserWarning: Boolean Series key will be reindexed to match DataFrame index.\n",
      "  df_hk = df[df.cmdb_id == host][df.name == kpi]\n",
      "<ipython-input-106-934139de14b0>:27: UserWarning: Boolean Series key will be reindexed to match DataFrame index.\n",
      "  df_hk = df[df.cmdb_id == host][df.name == kpi]\n",
      "<ipython-input-106-934139de14b0>:27: UserWarning: Boolean Series key will be reindexed to match DataFrame index.\n",
      "  df_hk = df[df.cmdb_id == host][df.name == kpi]\n"
     ]
    },
    {
     "name": "stdout",
     "output_type": "stream",
     "text": [
      "Threshold  -1.0 Row_Lock\n",
      "Threshold  0.8456719318574782 Proc_Used_Pct\n",
      "[1 1 0 0 0 0 0 0 0 0 0 0 0 0 0 0 0 0 0 0 0 0 0 0 0 0 0 0 0 1]\n",
      "ST Threshold Anomaly!\n",
      "Threshold  2.4626709091838035 Session_pct\n"
     ]
    },
    {
     "name": "stderr",
     "output_type": "stream",
     "text": [
      "<ipython-input-106-934139de14b0>:27: UserWarning: Boolean Series key will be reindexed to match DataFrame index.\n",
      "  df_hk = df[df.cmdb_id == host][df.name == kpi]\n",
      "<ipython-input-106-934139de14b0>:27: UserWarning: Boolean Series key will be reindexed to match DataFrame index.\n",
      "  df_hk = df[df.cmdb_id == host][df.name == kpi]\n",
      "<ipython-input-106-934139de14b0>:27: UserWarning: Boolean Series key will be reindexed to match DataFrame index.\n",
      "  df_hk = df[df.cmdb_id == host][df.name == kpi]\n"
     ]
    },
    {
     "name": "stdout",
     "output_type": "stream",
     "text": [
      "[1 1 0 0 0 0 0 0 0 0 0 0 0 0 0 0 1 0 0 0 0 0 1 0 0 0 0 0 1 0]\n",
      "ST Threshold Anomaly!\n",
      "Threshold  1.054614289660287 LFParaWrite_Per_Sec\n",
      "Threshold  3.0036794890414757 AWS\n",
      "Threshold  0.9850872814220232 LFSync_Per_Sec\n"
     ]
    },
    {
     "name": "stderr",
     "output_type": "stream",
     "text": [
      "<ipython-input-106-934139de14b0>:27: UserWarning: Boolean Series key will be reindexed to match DataFrame index.\n",
      "  df_hk = df[df.cmdb_id == host][df.name == kpi]\n",
      "<ipython-input-106-934139de14b0>:27: UserWarning: Boolean Series key will be reindexed to match DataFrame index.\n",
      "  df_hk = df[df.cmdb_id == host][df.name == kpi]\n",
      "<ipython-input-106-934139de14b0>:27: UserWarning: Boolean Series key will be reindexed to match DataFrame index.\n",
      "  df_hk = df[df.cmdb_id == host][df.name == kpi]\n"
     ]
    },
    {
     "name": "stdout",
     "output_type": "stream",
     "text": [
      "Threshold  0.8456719318574782 Proc_User_Used_Pct\n",
      "[1 1 0 0 0 0 0 0 0 0 0 0 0 0 0 0 0 0 0 0 0 0 0 0 0 0 0 0 0 1]\n",
      "ST Threshold Anomaly!\n",
      "Threshold  7.139762165561616 AIOS\n",
      "Threshold  2.3494550134316032 ACS\n"
     ]
    },
    {
     "name": "stderr",
     "output_type": "stream",
     "text": [
      "<ipython-input-106-934139de14b0>:27: UserWarning: Boolean Series key will be reindexed to match DataFrame index.\n",
      "  df_hk = df[df.cmdb_id == host][df.name == kpi]\n",
      "<ipython-input-106-934139de14b0>:27: UserWarning: Boolean Series key will be reindexed to match DataFrame index.\n",
      "  df_hk = df[df.cmdb_id == host][df.name == kpi]\n",
      "<ipython-input-106-934139de14b0>:27: UserWarning: Boolean Series key will be reindexed to match DataFrame index.\n",
      "  df_hk = df[df.cmdb_id == host][df.name == kpi]\n"
     ]
    },
    {
     "name": "stdout",
     "output_type": "stream",
     "text": [
      "Threshold  nan On_Off_State\n",
      "NaN, Skipping!\n",
      "Threshold  0.8388989152094546 DbTime\n",
      "Threshold  1.7033537593003445 Sess_Active\n"
     ]
    },
    {
     "name": "stderr",
     "output_type": "stream",
     "text": [
      "<ipython-input-106-934139de14b0>:27: UserWarning: Boolean Series key will be reindexed to match DataFrame index.\n",
      "  df_hk = df[df.cmdb_id == host][df.name == kpi]\n",
      "<ipython-input-106-934139de14b0>:27: UserWarning: Boolean Series key will be reindexed to match DataFrame index.\n",
      "  df_hk = df[df.cmdb_id == host][df.name == kpi]\n",
      "<ipython-input-106-934139de14b0>:27: UserWarning: Boolean Series key will be reindexed to match DataFrame index.\n",
      "  df_hk = df[df.cmdb_id == host][df.name == kpi]\n"
     ]
    },
    {
     "name": "stdout",
     "output_type": "stream",
     "text": [
      "[1 1 0 0 0 0 0 0 0 0 0 0 0 0 0 0 1 0 0 0 0 0 1 1 0 0 0 0 1 0]\n",
      "ST Threshold Anomaly!\n",
      "Threshold  0.8563542902029769 Physical_Read_Per_Sec\n",
      "Threshold  0.8294321707285668 Call_Per_Sec\n",
      "[1 0 0 0 0 0 0 0 0 0 0 0 0 0 0 0 0 0 0 0 0 0 0 0 0 0 0 0 0 1]\n",
      "ST Threshold Anomaly!\n",
      "Threshold  1.0228381414281478 Login_Per_Sec\n"
     ]
    },
    {
     "name": "stderr",
     "output_type": "stream",
     "text": [
      "<ipython-input-106-934139de14b0>:27: UserWarning: Boolean Series key will be reindexed to match DataFrame index.\n",
      "  df_hk = df[df.cmdb_id == host][df.name == kpi]\n",
      "<ipython-input-106-934139de14b0>:27: UserWarning: Boolean Series key will be reindexed to match DataFrame index.\n",
      "  df_hk = df[df.cmdb_id == host][df.name == kpi]\n",
      "<ipython-input-106-934139de14b0>:27: UserWarning: Boolean Series key will be reindexed to match DataFrame index.\n",
      "  df_hk = df[df.cmdb_id == host][df.name == kpi]\n"
     ]
    },
    {
     "name": "stdout",
     "output_type": "stream",
     "text": [
      "Threshold  0.8475695477883829 User_Commit\n",
      "Threshold  0.8546420523372749 Sess_Connect\n",
      "Threshold  0.853990665936385 Logic_Read_Per_Sec\n"
     ]
    },
    {
     "name": "stderr",
     "output_type": "stream",
     "text": [
      "<ipython-input-106-934139de14b0>:27: UserWarning: Boolean Series key will be reindexed to match DataFrame index.\n",
      "  df_hk = df[df.cmdb_id == host][df.name == kpi]\n",
      "<ipython-input-106-934139de14b0>:27: UserWarning: Boolean Series key will be reindexed to match DataFrame index.\n",
      "  df_hk = df[df.cmdb_id == host][df.name == kpi]\n",
      "<ipython-input-106-934139de14b0>:27: UserWarning: Boolean Series key will be reindexed to match DataFrame index.\n",
      "  df_hk = df[df.cmdb_id == host][df.name == kpi]\n"
     ]
    },
    {
     "name": "stdout",
     "output_type": "stream",
     "text": [
      "Threshold  0.821349398716562 TPS_Per_Sec\n",
      "[1 0 0 0 0 0 0 0 0 0 0 0 0 0 0 0 0 0 0 0 0 0 0 0 0 0 0 0 0 1]\n",
      "ST Threshold Anomaly!\n",
      "Threshold  nan Hang\n",
      "NaN, Skipping!\n",
      "Threshold  0.8573995597071571 Redo_Per_Sec\n"
     ]
    },
    {
     "name": "stderr",
     "output_type": "stream",
     "text": [
      "<ipython-input-106-934139de14b0>:27: UserWarning: Boolean Series key will be reindexed to match DataFrame index.\n",
      "  df_hk = df[df.cmdb_id == host][df.name == kpi]\n",
      "<ipython-input-106-934139de14b0>:27: UserWarning: Boolean Series key will be reindexed to match DataFrame index.\n",
      "  df_hk = df[df.cmdb_id == host][df.name == kpi]\n",
      "<ipython-input-106-934139de14b0>:27: UserWarning: Boolean Series key will be reindexed to match DataFrame index.\n",
      "  df_hk = df[df.cmdb_id == host][df.name == kpi]\n"
     ]
    },
    {
     "name": "stdout",
     "output_type": "stream",
     "text": [
      "Threshold  0.8888628957015351 Exec_Per_Sec\n",
      "[0 0 0 0 0 0 0 0 1 0 0 0 0 0 0 0 0 0 1 0 0 0 0 0 0 0 0 0 1 0]\n",
      "ST Threshold Anomaly!\n",
      "Threshold  -1.0 TempTbs_Pct\n",
      "Threshold  nan Total_Tbs_Size\n"
     ]
    },
    {
     "name": "stderr",
     "output_type": "stream",
     "text": [
      "<ipython-input-106-934139de14b0>:27: UserWarning: Boolean Series key will be reindexed to match DataFrame index.\n",
      "  df_hk = df[df.cmdb_id == host][df.name == kpi]\n",
      "<ipython-input-106-934139de14b0>:27: UserWarning: Boolean Series key will be reindexed to match DataFrame index.\n",
      "  df_hk = df[df.cmdb_id == host][df.name == kpi]\n",
      "<ipython-input-106-934139de14b0>:27: UserWarning: Boolean Series key will be reindexed to match DataFrame index.\n",
      "  df_hk = df[df.cmdb_id == host][df.name == kpi]\n"
     ]
    },
    {
     "name": "stdout",
     "output_type": "stream",
     "text": [
      "NaN, Skipping!\n",
      "Threshold  0.8138846278404326 New_Tbs_Free_Gb\n",
      "Threshold  0.8485041015367214 New_Tbs_Used_Pct\n",
      "Threshold  nan Tbs_Used_Pct\n"
     ]
    },
    {
     "name": "stderr",
     "output_type": "stream",
     "text": [
      "<ipython-input-106-934139de14b0>:27: UserWarning: Boolean Series key will be reindexed to match DataFrame index.\n",
      "  df_hk = df[df.cmdb_id == host][df.name == kpi]\n",
      "<ipython-input-106-934139de14b0>:27: UserWarning: Boolean Series key will be reindexed to match DataFrame index.\n",
      "  df_hk = df[df.cmdb_id == host][df.name == kpi]\n",
      "<ipython-input-106-934139de14b0>:27: UserWarning: Boolean Series key will be reindexed to match DataFrame index.\n",
      "  df_hk = df[df.cmdb_id == host][df.name == kpi]\n"
     ]
    },
    {
     "name": "stdout",
     "output_type": "stream",
     "text": [
      "NaN, Skipping!\n",
      "Threshold  nan Tbs_Free_Gb\n",
      "NaN, Skipping!\n",
      "Threshold  0.7517941778794728 UndoTbs_Pct\n",
      "[1 1 1 0 0 0 0 0 0 0 0 0 0 0 0 0 0 0 0 0 0 0 0 0 0 0 0 0 0 1]\n",
      "ST Threshold Anomaly!\n",
      "Threshold  0.8909472422810994 DbFile_Used_Pct\n",
      "No valid data to use, skipping\n",
      "db_003  completed in  3.229011058807373\n",
      "************************************************************\n",
      "Checking  db_001\n",
      "Threshold  0.8529852049286035 CPU_free_pct\n"
     ]
    },
    {
     "name": "stderr",
     "output_type": "stream",
     "text": [
      "<ipython-input-106-934139de14b0>:27: UserWarning: Boolean Series key will be reindexed to match DataFrame index.\n",
      "  df_hk = df[df.cmdb_id == host][df.name == kpi]\n",
      "<ipython-input-106-934139de14b0>:27: UserWarning: Boolean Series key will be reindexed to match DataFrame index.\n",
      "  df_hk = df[df.cmdb_id == host][df.name == kpi]\n",
      "<ipython-input-106-934139de14b0>:27: UserWarning: Boolean Series key will be reindexed to match DataFrame index.\n",
      "  df_hk = df[df.cmdb_id == host][df.name == kpi]\n",
      "<ipython-input-106-934139de14b0>:27: UserWarning: Boolean Series key will be reindexed to match DataFrame index.\n",
      "  df_hk = df[df.cmdb_id == host][df.name == kpi]\n"
     ]
    },
    {
     "name": "stdout",
     "output_type": "stream",
     "text": [
      "[1 1 0 0 0 0 0 0 0 0 0 0 0 0 0 0 0 0 0 0 0 0 0 0 0 0 0 0 0 1]\n",
      "ST Threshold Anomaly!\n",
      "Threshold  0.8563985265341717 MEM_real_util\n",
      "[1 1 0 0 0 0 0 0 0 0 0 0 0 0 0 0 0 0 0 0 0 0 0 0 0 0 0 0 0 1]\n",
      "ST Threshold Anomaly!\n",
      "Threshold  1.1981446423956594 tnsping_result_time\n",
      "[1 1 0 0 0 0 0 0 1 0 0 0 0 0 0 0 0 0 0 0 0 1 0 0 0 0 0 0 1 1]\n",
      "ST Threshold Anomaly!\n",
      "Threshold  0.8736301634096659 CPU_Used_Pct\n",
      "[1 1 0 0 0 0 0 1 0 0 0 0 0 0 0 0 0 0 0 0 0 0 0 0 0 0 0 0 0 1]\n",
      "ST Threshold Anomaly!\n",
      "Threshold  0.8575586727239709 MEM_Used\n"
     ]
    },
    {
     "name": "stderr",
     "output_type": "stream",
     "text": [
      "<ipython-input-106-934139de14b0>:27: UserWarning: Boolean Series key will be reindexed to match DataFrame index.\n",
      "  df_hk = df[df.cmdb_id == host][df.name == kpi]\n",
      "<ipython-input-106-934139de14b0>:27: UserWarning: Boolean Series key will be reindexed to match DataFrame index.\n",
      "  df_hk = df[df.cmdb_id == host][df.name == kpi]\n",
      "<ipython-input-106-934139de14b0>:27: UserWarning: Boolean Series key will be reindexed to match DataFrame index.\n",
      "  df_hk = df[df.cmdb_id == host][df.name == kpi]\n",
      "<ipython-input-106-934139de14b0>:27: UserWarning: Boolean Series key will be reindexed to match DataFrame index.\n",
      "  df_hk = df[df.cmdb_id == host][df.name == kpi]\n"
     ]
    },
    {
     "name": "stdout",
     "output_type": "stream",
     "text": [
      "[1 1 0 0 0 0 0 0 0 0 0 0 0 0 0 0 0 0 0 0 0 0 0 0 0 0 0 0 0 1]\n",
      "ST Threshold Anomaly!\n",
      "Threshold  nan MEM_Total\n",
      "NaN, Skipping!\n",
      "Threshold  0.8572546138265436 MEM_Used_Pct\n",
      "[1 1 0 0 0 0 0 0 0 0 0 0 0 0 0 0 0 0 0 0 0 0 0 0 0 0 0 0 0 1]\n",
      "ST Threshold Anomaly!\n",
      "Threshold  0.8576721820426951 Used_Tbs_Size\n",
      "[1 1 1 1 0 0 0 0 0 0 0 0 0 0 0 0 0 0 0 0 0 0 0 0 0 0 1 1 1 1]\n",
      "ST Threshold Anomaly!\n",
      "Threshold  nan SEQ_Used_Pct\n",
      "NaN, Skipping!"
     ]
    },
    {
     "name": "stderr",
     "output_type": "stream",
     "text": [
      "<ipython-input-106-934139de14b0>:27: UserWarning: Boolean Series key will be reindexed to match DataFrame index.\n",
      "  df_hk = df[df.cmdb_id == host][df.name == kpi]\n",
      "<ipython-input-106-934139de14b0>:27: UserWarning: Boolean Series key will be reindexed to match DataFrame index.\n",
      "  df_hk = df[df.cmdb_id == host][df.name == kpi]\n",
      "<ipython-input-106-934139de14b0>:27: UserWarning: Boolean Series key will be reindexed to match DataFrame index.\n",
      "  df_hk = df[df.cmdb_id == host][df.name == kpi]\n",
      "<ipython-input-106-934139de14b0>:27: UserWarning: Boolean Series key will be reindexed to match DataFrame index.\n",
      "  df_hk = df[df.cmdb_id == host][df.name == kpi]\n"
     ]
    },
    {
     "name": "stdout",
     "output_type": "stream",
     "text": [
      "\n",
      "Threshold  nan Asm_Free_Tb\n",
      "NaN, Skipping!\n",
      "Threshold  nan PGA_used_total\n",
      "NaN, Skipping!\n",
      "Threshold  -1.0 Sess_Used_Undo\n",
      "Threshold  -1.0 Sess_Used_Temp\n",
      "Threshold  17.494860634670545 SctRead_Per_Sec\n",
      "Threshold  1.8678560714782777 SeqRead_Per_Sec\n"
     ]
    },
    {
     "name": "stderr",
     "output_type": "stream",
     "text": [
      "<ipython-input-106-934139de14b0>:27: UserWarning: Boolean Series key will be reindexed to match DataFrame index.\n",
      "  df_hk = df[df.cmdb_id == host][df.name == kpi]\n",
      "<ipython-input-106-934139de14b0>:27: UserWarning: Boolean Series key will be reindexed to match DataFrame index.\n",
      "  df_hk = df[df.cmdb_id == host][df.name == kpi]\n",
      "/Users/baconbaker/anaconda3/envs/ml/lib/python3.8/site-packages/alibi_detect/od/sr.py:96: RuntimeWarning: divide by zero encountered in log\n",
      "  log_amp = np.log(amp)\n",
      "/Users/baconbaker/anaconda3/envs/ml/lib/python3.8/site-packages/alibi_detect/od/sr.py:99: RuntimeWarning: invalid value encountered in subtract\n",
      "  res_amp = log_amp - ma_log_amp\n",
      "/Users/baconbaker/anaconda3/envs/ml/lib/python3.8/site-packages/alibi_detect/od/sr.py:207: RuntimeWarning: invalid value encountered in greater\n",
      "  outlier_pred = (iscore > self.threshold).astype(int)\n",
      "<ipython-input-106-934139de14b0>:27: UserWarning: Boolean Series key will be reindexed to match DataFrame index.\n",
      "  df_hk = df[df.cmdb_id == host][df.name == kpi]\n"
     ]
    },
    {
     "name": "stdout",
     "output_type": "stream",
     "text": [
      "Threshold  1.902758903864895 DFParaWrite_Per_Sec\n",
      "[0 1 0 0 0 0 0 1 0 0 0 0 0 0 0 0 0 0 0 0 0 0 0 0 0 0 0 0 0 1]\n",
      "ST Threshold Anomaly!\n",
      "Threshold  -1.0 PGA_Used_Pct\n",
      "Threshold  -1.0 Row_Lock\n",
      "Threshold "
     ]
    },
    {
     "name": "stderr",
     "output_type": "stream",
     "text": [
      "<ipython-input-106-934139de14b0>:27: UserWarning: Boolean Series key will be reindexed to match DataFrame index.\n",
      "  df_hk = df[df.cmdb_id == host][df.name == kpi]\n",
      "<ipython-input-106-934139de14b0>:27: UserWarning: Boolean Series key will be reindexed to match DataFrame index.\n",
      "  df_hk = df[df.cmdb_id == host][df.name == kpi]\n",
      "<ipython-input-106-934139de14b0>:27: UserWarning: Boolean Series key will be reindexed to match DataFrame index.\n",
      "  df_hk = df[df.cmdb_id == host][df.name == kpi]\n",
      "<ipython-input-106-934139de14b0>:27: UserWarning: Boolean Series key will be reindexed to match DataFrame index.\n",
      "  df_hk = df[df.cmdb_id == host][df.name == kpi]\n"
     ]
    },
    {
     "name": "stdout",
     "output_type": "stream",
     "text": [
      " 0.8435240764763395 Proc_Used_Pct\n",
      "[1 0 0 0 0 0 0 0 0 0 0 0 0 0 0 0 0 0 0 0 0 0 0 0 0 0 0 0 0 1]\n",
      "ST Threshold Anomaly!\n",
      "Threshold  3.331648739664223 Session_pct\n",
      "[0 0 0 0 0 0 0 0 1 0 0 0 0 0 0 0 0 0 1 0 0 0 0 0 0 0 0 0 1 0]\n",
      "ST Threshold Anomaly!\n",
      "Threshold  1.1166905154228397 LFParaWrite_Per_Sec\n"
     ]
    },
    {
     "name": "stderr",
     "output_type": "stream",
     "text": [
      "<ipython-input-106-934139de14b0>:27: UserWarning: Boolean Series key will be reindexed to match DataFrame index.\n",
      "  df_hk = df[df.cmdb_id == host][df.name == kpi]\n",
      "<ipython-input-106-934139de14b0>:27: UserWarning: Boolean Series key will be reindexed to match DataFrame index.\n",
      "  df_hk = df[df.cmdb_id == host][df.name == kpi]\n",
      "<ipython-input-106-934139de14b0>:27: UserWarning: Boolean Series key will be reindexed to match DataFrame index.\n",
      "  df_hk = df[df.cmdb_id == host][df.name == kpi]\n"
     ]
    },
    {
     "name": "stdout",
     "output_type": "stream",
     "text": [
      "Threshold  1.8033377994907367 AWS\n",
      "Threshold  1.229641628099111 LFSync_Per_Sec\n",
      "Threshold  0.8432698970460766 Proc_User_Used_Pct\n",
      "[1 0 0 0 0 0 0 0 0 0 0 0 0 0 0 0 0 0 0 0 0 0 0 0 0 0 0 0 0 1]"
     ]
    },
    {
     "name": "stderr",
     "output_type": "stream",
     "text": [
      "<ipython-input-106-934139de14b0>:27: UserWarning: Boolean Series key will be reindexed to match DataFrame index.\n",
      "  df_hk = df[df.cmdb_id == host][df.name == kpi]\n",
      "<ipython-input-106-934139de14b0>:27: UserWarning: Boolean Series key will be reindexed to match DataFrame index.\n",
      "  df_hk = df[df.cmdb_id == host][df.name == kpi]\n",
      "<ipython-input-106-934139de14b0>:27: UserWarning: Boolean Series key will be reindexed to match DataFrame index.\n",
      "  df_hk = df[df.cmdb_id == host][df.name == kpi]\n"
     ]
    },
    {
     "name": "stdout",
     "output_type": "stream",
     "text": [
      "\n",
      "ST Threshold Anomaly!\n",
      "Threshold  2.2718665057806424 AIOS\n",
      "Threshold  3.091233676781504 ACS\n",
      "Threshold  nan On_Off_State\n"
     ]
    },
    {
     "name": "stderr",
     "output_type": "stream",
     "text": [
      "/Users/baconbaker/anaconda3/envs/ml/lib/python3.8/site-packages/alibi_detect/od/sr.py:96: RuntimeWarning: divide by zero encountered in log\n",
      "  log_amp = np.log(amp)\n",
      "/Users/baconbaker/anaconda3/envs/ml/lib/python3.8/site-packages/alibi_detect/od/sr.py:99: RuntimeWarning: invalid value encountered in subtract\n",
      "  res_amp = log_amp - ma_log_amp\n",
      "/Users/baconbaker/anaconda3/envs/ml/lib/python3.8/site-packages/alibi_detect/od/sr.py:207: RuntimeWarning: invalid value encountered in greater\n",
      "  outlier_pred = (iscore > self.threshold).astype(int)\n",
      "<ipython-input-106-934139de14b0>:27: UserWarning: Boolean Series key will be reindexed to match DataFrame index.\n",
      "  df_hk = df[df.cmdb_id == host][df.name == kpi]\n",
      "<ipython-input-106-934139de14b0>:27: UserWarning: Boolean Series key will be reindexed to match DataFrame index.\n",
      "  df_hk = df[df.cmdb_id == host][df.name == kpi]\n",
      "<ipython-input-106-934139de14b0>:27: UserWarning: Boolean Series key will be reindexed to match DataFrame index.\n",
      "  df_hk = df[df.cmdb_id == host][df.name == kpi]\n"
     ]
    },
    {
     "name": "stdout",
     "output_type": "stream",
     "text": [
      "NaN, Skipping!\n",
      "Threshold  1.0955218502845292 DbTime\n",
      "[0 0 0 0 0 0 0 0 1 0 0 0 0 0 0 0 0 0 1 0 0 0 0 0 0 0 0 0 1 0]\n",
      "ST Threshold Anomaly!\n",
      "Threshold  4.821584013758984 Sess_Active\n",
      "[0 0 0 0 0 0 0 0 0 0 0 0 0 0 0 0 0 0 0 0 0 0 0 0 0 0 0 0 1 0]\n",
      "ST Threshold Anomaly!\n",
      "Threshold  1.4802633897152573 Physical_Read_Per_Sec\n"
     ]
    },
    {
     "name": "stderr",
     "output_type": "stream",
     "text": [
      "<ipython-input-106-934139de14b0>:27: UserWarning: Boolean Series key will be reindexed to match DataFrame index.\n",
      "  df_hk = df[df.cmdb_id == host][df.name == kpi]\n",
      "<ipython-input-106-934139de14b0>:27: UserWarning: Boolean Series key will be reindexed to match DataFrame index.\n",
      "  df_hk = df[df.cmdb_id == host][df.name == kpi]\n",
      "<ipython-input-106-934139de14b0>:27: UserWarning: Boolean Series key will be reindexed to match DataFrame index.\n",
      "  df_hk = df[df.cmdb_id == host][df.name == kpi]\n"
     ]
    },
    {
     "name": "stdout",
     "output_type": "stream",
     "text": [
      "[1 0 0 0 0 0 0 0 1 0 0 0 0 0 0 0 0 0 1 0 0 0 0 0 0 0 0 1 1 0]\n",
      "ST Threshold Anomaly!\n",
      "Threshold  0.8181800556837383 Call_Per_Sec\n",
      "Threshold  5.360908908773957 Login_Per_Sec\n",
      "Threshold  7.117882039542044 User_Commit\n"
     ]
    },
    {
     "name": "stderr",
     "output_type": "stream",
     "text": [
      "<ipython-input-106-934139de14b0>:27: UserWarning: Boolean Series key will be reindexed to match DataFrame index.\n",
      "  df_hk = df[df.cmdb_id == host][df.name == kpi]\n",
      "<ipython-input-106-934139de14b0>:27: UserWarning: Boolean Series key will be reindexed to match DataFrame index.\n",
      "  df_hk = df[df.cmdb_id == host][df.name == kpi]\n",
      "<ipython-input-106-934139de14b0>:27: UserWarning: Boolean Series key will be reindexed to match DataFrame index.\n",
      "  df_hk = df[df.cmdb_id == host][df.name == kpi]\n"
     ]
    },
    {
     "name": "stdout",
     "output_type": "stream",
     "text": [
      "Threshold  0.8559731834783482 Sess_Connect\n",
      "[1 1 0 0 0 0 0 0 0 0 0 0 0 0 0 0 0 0 0 0 0 0 0 0 0 0 0 0 0 1]\n",
      "ST Threshold Anomaly!\n",
      "Threshold  0.8180182538694564 Logic_Read_Per_Sec\n",
      "Threshold  7.0002210586305536 TPS_Per_Sec\n"
     ]
    },
    {
     "name": "stderr",
     "output_type": "stream",
     "text": [
      "<ipython-input-106-934139de14b0>:27: UserWarning: Boolean Series key will be reindexed to match DataFrame index.\n",
      "  df_hk = df[df.cmdb_id == host][df.name == kpi]\n",
      "<ipython-input-106-934139de14b0>:27: UserWarning: Boolean Series key will be reindexed to match DataFrame index.\n",
      "  df_hk = df[df.cmdb_id == host][df.name == kpi]\n",
      "<ipython-input-106-934139de14b0>:27: UserWarning: Boolean Series key will be reindexed to match DataFrame index.\n",
      "  df_hk = df[df.cmdb_id == host][df.name == kpi]\n"
     ]
    },
    {
     "name": "stdout",
     "output_type": "stream",
     "text": [
      "Threshold  nan Hang\n",
      "NaN, Skipping!\n",
      "Threshold  0.8405141841034434 Redo_Per_Sec\n",
      "Threshold  1.1677504646592969 Exec_Per_Sec\n"
     ]
    },
    {
     "name": "stderr",
     "output_type": "stream",
     "text": [
      "<ipython-input-106-934139de14b0>:27: UserWarning: Boolean Series key will be reindexed to match DataFrame index.\n",
      "  df_hk = df[df.cmdb_id == host][df.name == kpi]\n",
      "<ipython-input-106-934139de14b0>:27: UserWarning: Boolean Series key will be reindexed to match DataFrame index.\n",
      "  df_hk = df[df.cmdb_id == host][df.name == kpi]\n",
      "<ipython-input-106-934139de14b0>:27: UserWarning: Boolean Series key will be reindexed to match DataFrame index.\n",
      "  df_hk = df[df.cmdb_id == host][df.name == kpi]\n"
     ]
    },
    {
     "name": "stdout",
     "output_type": "stream",
     "text": [
      "[1 0 0 0 0 0 0 1 1 1 0 0 0 0 0 0 0 0 1 0 0 0 0 0 0 0 0 1 1 0]\n",
      "ST Threshold Anomaly!\n",
      "Threshold  -1.0 TempTbs_Pct\n",
      "Threshold  nan Total_Tbs_Size\n",
      "NaN, Skipping!\n",
      "Threshold  0.8371183645496633 New_Tbs_Free_Gb\n"
     ]
    },
    {
     "name": "stderr",
     "output_type": "stream",
     "text": [
      "<ipython-input-106-934139de14b0>:27: UserWarning: Boolean Series key will be reindexed to match DataFrame index.\n",
      "  df_hk = df[df.cmdb_id == host][df.name == kpi]\n",
      "<ipython-input-106-934139de14b0>:27: UserWarning: Boolean Series key will be reindexed to match DataFrame index.\n",
      "  df_hk = df[df.cmdb_id == host][df.name == kpi]\n",
      "<ipython-input-106-934139de14b0>:27: UserWarning: Boolean Series key will be reindexed to match DataFrame index.\n",
      "  df_hk = df[df.cmdb_id == host][df.name == kpi]\n"
     ]
    },
    {
     "name": "stdout",
     "output_type": "stream",
     "text": [
      "[1 1 0 0 0 0 0 0 0 0 0 0 0 0 0 0 0 0 0 0 0 0 0 0 0 0 0 0 0 1]\n",
      "ST Threshold Anomaly!\n",
      "Threshold  0.7757907234045178 New_Tbs_Used_Pct\n",
      "[1 1 1 1 0 0 0 0 0 0 0 0 0 0 0 0 0 0 0 0 1 1 1 1 1 1 1 1 1 1]\n",
      "ST Threshold Anomaly!\n",
      "Threshold  nan Tbs_Used_Pct\n",
      "NaN, Skipping!\n",
      "Threshold  nan Tbs_Free_Gb\n"
     ]
    },
    {
     "name": "stderr",
     "output_type": "stream",
     "text": [
      "<ipython-input-106-934139de14b0>:27: UserWarning: Boolean Series key will be reindexed to match DataFrame index.\n",
      "  df_hk = df[df.cmdb_id == host][df.name == kpi]\n",
      "<ipython-input-106-934139de14b0>:27: UserWarning: Boolean Series key will be reindexed to match DataFrame index.\n",
      "  df_hk = df[df.cmdb_id == host][df.name == kpi]\n",
      "<ipython-input-106-934139de14b0>:27: UserWarning: Boolean Series key will be reindexed to match DataFrame index.\n",
      "  df_hk = df[df.cmdb_id == host][df.name == kpi]\n"
     ]
    },
    {
     "name": "stdout",
     "output_type": "stream",
     "text": [
      "NaN, Skipping!\n",
      "Threshold  0.8444168402124311 UndoTbs_Pct\n",
      "[1 1 0 0 0 0 0 0 0 0 0 0 0 0 0 0 0 0 0 0 0 0 0 0 0 0 0 0 0 1]\n",
      "ST Threshold Anomaly!\n",
      "Threshold  0.7782176078292216 DbFile_Used_Pct\n",
      "No valid data to use, skipping\n",
      "db_001  completed in  3.264007806777954\n",
      "************************************************************\n",
      "Checking  db_004\n",
      "Threshold  0.8414535237010229 CPU_free_pct\n",
      "[1 1 0 0 0 0 0 0 0 0 0 0 0 0 0 0 0 0 0 0 0 0 0 0 0 0 0 0 0 1]\n",
      "ST Threshold Anomaly!\n",
      "Threshold  0.8477494669563053 MEM_real_util\n"
     ]
    },
    {
     "name": "stderr",
     "output_type": "stream",
     "text": [
      "<ipython-input-106-934139de14b0>:27: UserWarning: Boolean Series key will be reindexed to match DataFrame index.\n",
      "  df_hk = df[df.cmdb_id == host][df.name == kpi]\n",
      "<ipython-input-106-934139de14b0>:27: UserWarning: Boolean Series key will be reindexed to match DataFrame index.\n",
      "  df_hk = df[df.cmdb_id == host][df.name == kpi]\n",
      "<ipython-input-106-934139de14b0>:27: UserWarning: Boolean Series key will be reindexed to match DataFrame index.\n",
      "  df_hk = df[df.cmdb_id == host][df.name == kpi]\n",
      "<ipython-input-106-934139de14b0>:27: UserWarning: Boolean Series key will be reindexed to match DataFrame index.\n",
      "  df_hk = df[df.cmdb_id == host][df.name == kpi]\n"
     ]
    },
    {
     "name": "stdout",
     "output_type": "stream",
     "text": [
      "[1 1 0 0 0 0 0 0 0 0 0 0 0 0 0 0 0 0 0 0 0 0 0 0 0 0 0 0 0 1]\n",
      "ST Threshold Anomaly!\n",
      "Threshold  0.9751587691275851 tnsping_result_time\n",
      "[1 1 0 0 0 0 0 0 0 0 0 0 0 0 0 0 0 0 0 1 0 0 0 1 1 0 0 0 1 0]\n",
      "ST Threshold Anomaly!\n",
      "Threshold  0.9095269272593092 CPU_Used_Pct\n",
      "[1 1 0 0 0 0 0 0 0 0 0 0 0 0 0 0 0 0 0 0 0 0 0 0 0 0 0 0 0 1]\n",
      "ST Threshold Anomaly!\n",
      "Threshold  0.8575329863588721 MEM_Used\n",
      "[1 1 0 0 0 0 0 0 0 0 0 0 0 0 0 0 0 0 0 0 0 0 0 0 0 0 0 0 0 1]\n",
      "ST Threshold Anomaly!\n",
      "Threshold  nan MEM_Total\n",
      "NaN, Skipping!"
     ]
    },
    {
     "name": "stderr",
     "output_type": "stream",
     "text": [
      "<ipython-input-106-934139de14b0>:27: UserWarning: Boolean Series key will be reindexed to match DataFrame index.\n",
      "  df_hk = df[df.cmdb_id == host][df.name == kpi]\n",
      "<ipython-input-106-934139de14b0>:27: UserWarning: Boolean Series key will be reindexed to match DataFrame index.\n",
      "  df_hk = df[df.cmdb_id == host][df.name == kpi]\n",
      "<ipython-input-106-934139de14b0>:27: UserWarning: Boolean Series key will be reindexed to match DataFrame index.\n",
      "  df_hk = df[df.cmdb_id == host][df.name == kpi]\n",
      "<ipython-input-106-934139de14b0>:27: UserWarning: Boolean Series key will be reindexed to match DataFrame index.\n",
      "  df_hk = df[df.cmdb_id == host][df.name == kpi]\n"
     ]
    },
    {
     "name": "stdout",
     "output_type": "stream",
     "text": [
      "\n",
      "Threshold  0.8533696911855112 MEM_Used_Pct\n",
      "[1 1 0 0 0 0 0 0 0 0 0 0 0 0 0 0 0 0 0 0 0 0 0 0 0 0 0 0 0 1]\n",
      "ST Threshold Anomaly!\n",
      "Threshold  0.8576758492829542 Used_Tbs_Size\n",
      "[1 1 1 1 0 0 0 0 0 0 0 0 0 0 0 0 0 0 0 0 0 0 0 0 0 0 1 1 1 1]\n",
      "ST Threshold Anomaly!\n",
      "Threshold  nan SEQ_Used_Pct\n",
      "NaN, Skipping!\n",
      "Threshold  nan Asm_Free_Tb\n",
      "NaN, Skipping!"
     ]
    },
    {
     "name": "stderr",
     "output_type": "stream",
     "text": [
      "<ipython-input-106-934139de14b0>:27: UserWarning: Boolean Series key will be reindexed to match DataFrame index.\n",
      "  df_hk = df[df.cmdb_id == host][df.name == kpi]\n",
      "<ipython-input-106-934139de14b0>:27: UserWarning: Boolean Series key will be reindexed to match DataFrame index.\n",
      "  df_hk = df[df.cmdb_id == host][df.name == kpi]\n",
      "<ipython-input-106-934139de14b0>:27: UserWarning: Boolean Series key will be reindexed to match DataFrame index.\n",
      "  df_hk = df[df.cmdb_id == host][df.name == kpi]\n",
      "<ipython-input-106-934139de14b0>:27: UserWarning: Boolean Series key will be reindexed to match DataFrame index.\n",
      "  df_hk = df[df.cmdb_id == host][df.name == kpi]\n"
     ]
    },
    {
     "name": "stdout",
     "output_type": "stream",
     "text": [
      "\n",
      "Threshold  nan PGA_used_total\n",
      "NaN, Skipping!\n",
      "Threshold  -1.0 Sess_Used_Undo\n",
      "Threshold  -1.0 Sess_Used_Temp\n",
      "Threshold "
     ]
    },
    {
     "name": "stderr",
     "output_type": "stream",
     "text": [
      "<ipython-input-106-934139de14b0>:27: UserWarning: Boolean Series key will be reindexed to match DataFrame index.\n",
      "  df_hk = df[df.cmdb_id == host][df.name == kpi]\n",
      "<ipython-input-106-934139de14b0>:27: UserWarning: Boolean Series key will be reindexed to match DataFrame index.\n",
      "  df_hk = df[df.cmdb_id == host][df.name == kpi]\n",
      "<ipython-input-106-934139de14b0>:27: UserWarning: Boolean Series key will be reindexed to match DataFrame index.\n",
      "  df_hk = df[df.cmdb_id == host][df.name == kpi]\n"
     ]
    },
    {
     "name": "stdout",
     "output_type": "stream",
     "text": [
      " -1.0 SctRead_Per_Sec\n",
      "Threshold  1.9257691128985488 SeqRead_Per_Sec\n",
      "Threshold  2.1203949400327935 DFParaWrite_Per_Sec\n"
     ]
    },
    {
     "name": "stderr",
     "output_type": "stream",
     "text": [
      "<ipython-input-106-934139de14b0>:27: UserWarning: Boolean Series key will be reindexed to match DataFrame index.\n",
      "  df_hk = df[df.cmdb_id == host][df.name == kpi]\n",
      "<ipython-input-106-934139de14b0>:27: UserWarning: Boolean Series key will be reindexed to match DataFrame index.\n",
      "  df_hk = df[df.cmdb_id == host][df.name == kpi]\n",
      "<ipython-input-106-934139de14b0>:27: UserWarning: Boolean Series key will be reindexed to match DataFrame index.\n",
      "  df_hk = df[df.cmdb_id == host][df.name == kpi]\n"
     ]
    },
    {
     "name": "stdout",
     "output_type": "stream",
     "text": [
      "Threshold  -1.0 PGA_Used_Pct\n",
      "Threshold  -1.0 Row_Lock\n",
      "Threshold  0.7931483519367535 Proc_Used_Pct\n"
     ]
    },
    {
     "name": "stderr",
     "output_type": "stream",
     "text": [
      "<ipython-input-106-934139de14b0>:27: UserWarning: Boolean Series key will be reindexed to match DataFrame index.\n",
      "  df_hk = df[df.cmdb_id == host][df.name == kpi]\n",
      "<ipython-input-106-934139de14b0>:27: UserWarning: Boolean Series key will be reindexed to match DataFrame index.\n",
      "  df_hk = df[df.cmdb_id == host][df.name == kpi]\n",
      "<ipython-input-106-934139de14b0>:27: UserWarning: Boolean Series key will be reindexed to match DataFrame index.\n",
      "  df_hk = df[df.cmdb_id == host][df.name == kpi]\n",
      "<ipython-input-106-934139de14b0>:27: UserWarning: Boolean Series key will be reindexed to match DataFrame index.\n",
      "  df_hk = df[df.cmdb_id == host][df.name == kpi]\n"
     ]
    },
    {
     "name": "stdout",
     "output_type": "stream",
     "text": [
      "[1 1 0 0 0 0 0 0 0 0 0 0 0 0 0 0 0 0 0 0 0 0 0 0 0 0 0 0 0 1]\n",
      "ST Threshold Anomaly!\n",
      "Threshold  4.910535215245137 Session_pct\n",
      "Threshold  2.1134987268314163 LFParaWrite_Per_Sec\n",
      "Threshold  3.0647166453613317 AWS\n",
      "Threshold "
     ]
    },
    {
     "name": "stderr",
     "output_type": "stream",
     "text": [
      "<ipython-input-106-934139de14b0>:27: UserWarning: Boolean Series key will be reindexed to match DataFrame index.\n",
      "  df_hk = df[df.cmdb_id == host][df.name == kpi]\n",
      "<ipython-input-106-934139de14b0>:27: UserWarning: Boolean Series key will be reindexed to match DataFrame index.\n",
      "  df_hk = df[df.cmdb_id == host][df.name == kpi]\n",
      "<ipython-input-106-934139de14b0>:27: UserWarning: Boolean Series key will be reindexed to match DataFrame index.\n",
      "  df_hk = df[df.cmdb_id == host][df.name == kpi]\n"
     ]
    },
    {
     "name": "stdout",
     "output_type": "stream",
     "text": [
      " 1.5697908048893339 LFSync_Per_Sec\n",
      "Threshold  0.7931483519367535 Proc_User_Used_Pct\n",
      "[1 1 0 0 0 0 0 0 0 0 0 0 0 0 0 0 0 0 0 0 0 0 0 0 0 0 0 0 0 1]\n",
      "ST Threshold Anomaly!\n",
      "Threshold  10.173825728929753 AIOS\n",
      "Threshold  2.7846826768133237 ACS\n"
     ]
    },
    {
     "name": "stderr",
     "output_type": "stream",
     "text": [
      "/Users/baconbaker/anaconda3/envs/ml/lib/python3.8/site-packages/alibi_detect/od/sr.py:96: RuntimeWarning: divide by zero encountered in log\n",
      "  log_amp = np.log(amp)\n",
      "/Users/baconbaker/anaconda3/envs/ml/lib/python3.8/site-packages/alibi_detect/od/sr.py:99: RuntimeWarning: invalid value encountered in subtract\n",
      "  res_amp = log_amp - ma_log_amp\n",
      "/Users/baconbaker/anaconda3/envs/ml/lib/python3.8/site-packages/alibi_detect/od/sr.py:207: RuntimeWarning: invalid value encountered in greater\n",
      "  outlier_pred = (iscore > self.threshold).astype(int)\n",
      "<ipython-input-106-934139de14b0>:27: UserWarning: Boolean Series key will be reindexed to match DataFrame index.\n",
      "  df_hk = df[df.cmdb_id == host][df.name == kpi]\n",
      "<ipython-input-106-934139de14b0>:27: UserWarning: Boolean Series key will be reindexed to match DataFrame index.\n",
      "  df_hk = df[df.cmdb_id == host][df.name == kpi]\n",
      "<ipython-input-106-934139de14b0>:27: UserWarning: Boolean Series key will be reindexed to match DataFrame index.\n",
      "  df_hk = df[df.cmdb_id == host][df.name == kpi]\n"
     ]
    },
    {
     "name": "stdout",
     "output_type": "stream",
     "text": [
      "Threshold  nan On_Off_State\n",
      "NaN, Skipping!\n",
      "Threshold  0.8397865688911296 DbTime\n",
      "[0 0 0 0 0 0 0 0 1 0 0 0 0 0 0 0 0 0 0 0 0 0 0 0 0 0 0 0 1 1]\n",
      "ST Threshold Anomaly!\n",
      "Threshold  3.0463358402771163 Sess_Active\n"
     ]
    },
    {
     "name": "stderr",
     "output_type": "stream",
     "text": [
      "<ipython-input-106-934139de14b0>:27: UserWarning: Boolean Series key will be reindexed to match DataFrame index.\n",
      "  df_hk = df[df.cmdb_id == host][df.name == kpi]\n",
      "<ipython-input-106-934139de14b0>:27: UserWarning: Boolean Series key will be reindexed to match DataFrame index.\n",
      "  df_hk = df[df.cmdb_id == host][df.name == kpi]\n",
      "<ipython-input-106-934139de14b0>:27: UserWarning: Boolean Series key will be reindexed to match DataFrame index.\n",
      "  df_hk = df[df.cmdb_id == host][df.name == kpi]\n"
     ]
    },
    {
     "name": "stdout",
     "output_type": "stream",
     "text": [
      "[0 0 0 0 0 0 0 0 0 0 0 0 0 0 0 0 0 0 0 0 0 0 0 0 0 0 0 0 1 0]\n",
      "ST Threshold Anomaly!\n",
      "Threshold  1.375128710185263 Physical_Read_Per_Sec\n",
      "[1 0 0 0 0 0 0 0 1 1 0 0 0 0 0 0 0 0 1 1 0 0 0 0 0 0 0 0 1 1]\n",
      "ST Threshold Anomaly!\n",
      "Threshold  0.803149576106265 Call_Per_Sec\n",
      "[1 1 0 0 0 0 0 0 0 0 0 0 0 0 0 0 0 0 0 0 0 0 0 0 0 0 0 0 0 1]\n",
      "ST Threshold Anomaly!\n",
      "Threshold  1.1932326864795344 Login_Per_Sec\n"
     ]
    },
    {
     "name": "stderr",
     "output_type": "stream",
     "text": [
      "<ipython-input-106-934139de14b0>:27: UserWarning: Boolean Series key will be reindexed to match DataFrame index.\n",
      "  df_hk = df[df.cmdb_id == host][df.name == kpi]\n",
      "<ipython-input-106-934139de14b0>:27: UserWarning: Boolean Series key will be reindexed to match DataFrame index.\n",
      "  df_hk = df[df.cmdb_id == host][df.name == kpi]\n",
      "<ipython-input-106-934139de14b0>:27: UserWarning: Boolean Series key will be reindexed to match DataFrame index.\n",
      "  df_hk = df[df.cmdb_id == host][df.name == kpi]\n"
     ]
    },
    {
     "name": "stdout",
     "output_type": "stream",
     "text": [
      "Threshold  0.9642283534144896 User_Commit\n",
      "Threshold  0.8479047516122384 Sess_Connect\n",
      "[1 1 0 0 0 0 0 0 0 0 0 0 0 0 0 0 0 0 0 0 0 0 0 0 0 0 0 0 0 1]\n",
      "ST Threshold Anomaly!\n",
      "Threshold  0.8290383132368521 Logic_Read_Per_Sec\n"
     ]
    },
    {
     "name": "stderr",
     "output_type": "stream",
     "text": [
      "<ipython-input-106-934139de14b0>:27: UserWarning: Boolean Series key will be reindexed to match DataFrame index.\n",
      "  df_hk = df[df.cmdb_id == host][df.name == kpi]\n",
      "<ipython-input-106-934139de14b0>:27: UserWarning: Boolean Series key will be reindexed to match DataFrame index.\n",
      "  df_hk = df[df.cmdb_id == host][df.name == kpi]\n",
      "<ipython-input-106-934139de14b0>:27: UserWarning: Boolean Series key will be reindexed to match DataFrame index.\n",
      "  df_hk = df[df.cmdb_id == host][df.name == kpi]\n"
     ]
    },
    {
     "name": "stdout",
     "output_type": "stream",
     "text": [
      "[0 0 0 0 0 1 1 1 1 0 0 0 0 0 0 0 0 0 0 0 0 1 1 0 0 0 0 0 1 1]\n",
      "ST Threshold Anomaly!\n",
      "Threshold  1.0061938894311169 TPS_Per_Sec\n",
      "Threshold  nan Hang\n",
      "NaN, Skipping!\n",
      "Threshold  0.8560023716653313 Redo_Per_Sec\n"
     ]
    },
    {
     "name": "stderr",
     "output_type": "stream",
     "text": [
      "<ipython-input-106-934139de14b0>:27: UserWarning: Boolean Series key will be reindexed to match DataFrame index.\n",
      "  df_hk = df[df.cmdb_id == host][df.name == kpi]\n",
      "<ipython-input-106-934139de14b0>:27: UserWarning: Boolean Series key will be reindexed to match DataFrame index.\n",
      "  df_hk = df[df.cmdb_id == host][df.name == kpi]\n",
      "<ipython-input-106-934139de14b0>:27: UserWarning: Boolean Series key will be reindexed to match DataFrame index.\n",
      "  df_hk = df[df.cmdb_id == host][df.name == kpi]\n"
     ]
    },
    {
     "name": "stdout",
     "output_type": "stream",
     "text": [
      "Threshold  0.7911106049598144 Exec_Per_Sec\n",
      "[1 0 0 0 0 0 0 0 1 1 0 0 0 0 0 0 0 0 1 1 0 0 0 0 0 0 0 1 1 1]\n",
      "ST Threshold Anomaly!\n",
      "Threshold  -1.0 TempTbs_Pct\n",
      "Threshold  nan Total_Tbs_Size\n"
     ]
    },
    {
     "name": "stderr",
     "output_type": "stream",
     "text": [
      "<ipython-input-106-934139de14b0>:27: UserWarning: Boolean Series key will be reindexed to match DataFrame index.\n",
      "  df_hk = df[df.cmdb_id == host][df.name == kpi]\n",
      "<ipython-input-106-934139de14b0>:27: UserWarning: Boolean Series key will be reindexed to match DataFrame index.\n",
      "  df_hk = df[df.cmdb_id == host][df.name == kpi]\n",
      "<ipython-input-106-934139de14b0>:27: UserWarning: Boolean Series key will be reindexed to match DataFrame index.\n",
      "  df_hk = df[df.cmdb_id == host][df.name == kpi]\n"
     ]
    },
    {
     "name": "stdout",
     "output_type": "stream",
     "text": [
      "NaN, Skipping!\n",
      "Threshold  0.7489577991541903 New_Tbs_Free_Gb\n",
      "[1 1 1 1 1 0 0 0 0 0 0 0 0 0 0 0 0 0 0 1 1 1 1 1 1 1 1 1 1 0]\n",
      "ST Threshold Anomaly!\n",
      "Threshold  0.958827314324918 New_Tbs_Used_Pct\n",
      "Threshold  nan Tbs_Used_Pct\n",
      "NaN, Skipping!"
     ]
    },
    {
     "name": "stderr",
     "output_type": "stream",
     "text": [
      "<ipython-input-106-934139de14b0>:27: UserWarning: Boolean Series key will be reindexed to match DataFrame index.\n",
      "  df_hk = df[df.cmdb_id == host][df.name == kpi]\n",
      "<ipython-input-106-934139de14b0>:27: UserWarning: Boolean Series key will be reindexed to match DataFrame index.\n",
      "  df_hk = df[df.cmdb_id == host][df.name == kpi]\n",
      "<ipython-input-106-934139de14b0>:27: UserWarning: Boolean Series key will be reindexed to match DataFrame index.\n",
      "  df_hk = df[df.cmdb_id == host][df.name == kpi]\n"
     ]
    },
    {
     "name": "stdout",
     "output_type": "stream",
     "text": [
      "\n",
      "Threshold  nan Tbs_Free_Gb\n",
      "NaN, Skipping!\n",
      "Threshold  0.8573965066151039 UndoTbs_Pct\n",
      "[1 1 0 0 0 0 0 0 0 0 0 0 0 0 0 0 0 0 0 0 0 0 0 0 0 0 0 0 0 1]\n",
      "ST Threshold Anomaly!\n",
      "Threshold  0.7347034596985291 DbFile_Used_Pct\n",
      "No valid data to use, skipping\n",
      "db_004  completed in  3.2256429195404053\n",
      "************************************************************\n",
      "Checking  db_007\n",
      "Threshold  0.8416132439754436 CPU_free_pct\n"
     ]
    },
    {
     "name": "stderr",
     "output_type": "stream",
     "text": [
      "<ipython-input-106-934139de14b0>:27: UserWarning: Boolean Series key will be reindexed to match DataFrame index.\n",
      "  df_hk = df[df.cmdb_id == host][df.name == kpi]\n",
      "<ipython-input-106-934139de14b0>:27: UserWarning: Boolean Series key will be reindexed to match DataFrame index.\n",
      "  df_hk = df[df.cmdb_id == host][df.name == kpi]\n",
      "<ipython-input-106-934139de14b0>:27: UserWarning: Boolean Series key will be reindexed to match DataFrame index.\n",
      "  df_hk = df[df.cmdb_id == host][df.name == kpi]\n",
      "<ipython-input-106-934139de14b0>:27: UserWarning: Boolean Series key will be reindexed to match DataFrame index.\n",
      "  df_hk = df[df.cmdb_id == host][df.name == kpi]\n"
     ]
    },
    {
     "name": "stdout",
     "output_type": "stream",
     "text": [
      "[1 1 0 0 0 0 0 0 0 0 0 0 0 0 0 0 0 0 0 0 0 0 0 0 0 0 0 0 0 1]\n",
      "ST Threshold Anomaly!\n",
      "Threshold  0.8498292027545834 MEM_real_util\n",
      "[1 1 0 0 0 0 0 0 0 0 0 0 0 0 0 0 0 0 0 0 0 0 0 0 0 0 0 0 0 1]\n",
      "ST Threshold Anomaly!\n",
      "Threshold  1.042615581765864 tnsping_result_time\n",
      "[1 1 1 0 0 0 0 0 0 0 1 0 0 0 0 0 0 1 0 0 0 0 0 0 0 1 1 0 0 1]\n",
      "ST Threshold Anomaly!\n",
      "Threshold  1.214574587759427 CPU_Used_Pct\n",
      "Threshold  0.8531505412458257 MEM_Used\n"
     ]
    },
    {
     "name": "stderr",
     "output_type": "stream",
     "text": [
      "<ipython-input-106-934139de14b0>:27: UserWarning: Boolean Series key will be reindexed to match DataFrame index.\n",
      "  df_hk = df[df.cmdb_id == host][df.name == kpi]\n",
      "<ipython-input-106-934139de14b0>:27: UserWarning: Boolean Series key will be reindexed to match DataFrame index.\n",
      "  df_hk = df[df.cmdb_id == host][df.name == kpi]\n",
      "<ipython-input-106-934139de14b0>:27: UserWarning: Boolean Series key will be reindexed to match DataFrame index.\n",
      "  df_hk = df[df.cmdb_id == host][df.name == kpi]\n",
      "<ipython-input-106-934139de14b0>:27: UserWarning: Boolean Series key will be reindexed to match DataFrame index.\n",
      "  df_hk = df[df.cmdb_id == host][df.name == kpi]\n"
     ]
    },
    {
     "name": "stdout",
     "output_type": "stream",
     "text": [
      "[1 1 0 0 0 0 0 0 0 0 0 0 0 0 0 0 0 0 0 0 0 0 0 0 0 0 0 0 0 1]\n",
      "ST Threshold Anomaly!\n",
      "Threshold  nan MEM_Total\n",
      "NaN, Skipping!\n",
      "Threshold  0.8488849037655077 MEM_Used_Pct\n",
      "[1 1 0 0 0 0 0 0 0 0 0 0 0 0 0 0 0 0 0 0 0 0 0 0 0 0 0 0 0 1]\n",
      "ST Threshold Anomaly!\n",
      "Threshold  0.8576942082098857 Used_Tbs_Size\n",
      "[1 1 1 1 0 0 0 0 0 0 0 0 0 0 0 0 0 0 0 0 0 0 0 0 0 0 1 1 1 1]\n",
      "ST Threshold Anomaly!\n",
      "Threshold  nan SEQ_Used_Pct\n",
      "NaN, Skipping!"
     ]
    },
    {
     "name": "stderr",
     "output_type": "stream",
     "text": [
      "<ipython-input-106-934139de14b0>:27: UserWarning: Boolean Series key will be reindexed to match DataFrame index.\n",
      "  df_hk = df[df.cmdb_id == host][df.name == kpi]\n",
      "<ipython-input-106-934139de14b0>:27: UserWarning: Boolean Series key will be reindexed to match DataFrame index.\n",
      "  df_hk = df[df.cmdb_id == host][df.name == kpi]\n",
      "<ipython-input-106-934139de14b0>:27: UserWarning: Boolean Series key will be reindexed to match DataFrame index.\n",
      "  df_hk = df[df.cmdb_id == host][df.name == kpi]\n"
     ]
    },
    {
     "name": "stdout",
     "output_type": "stream",
     "text": [
      "\n",
      "Threshold  nan Asm_Free_Tb\n",
      "NaN, Skipping!\n",
      "Threshold  nan PGA_used_total\n",
      "NaN, Skipping!\n",
      "Threshold  -1.0 Sess_Used_Undo\n"
     ]
    },
    {
     "name": "stderr",
     "output_type": "stream",
     "text": [
      "<ipython-input-106-934139de14b0>:27: UserWarning: Boolean Series key will be reindexed to match DataFrame index.\n",
      "  df_hk = df[df.cmdb_id == host][df.name == kpi]\n",
      "<ipython-input-106-934139de14b0>:27: UserWarning: Boolean Series key will be reindexed to match DataFrame index.\n",
      "  df_hk = df[df.cmdb_id == host][df.name == kpi]\n",
      "<ipython-input-106-934139de14b0>:27: UserWarning: Boolean Series key will be reindexed to match DataFrame index.\n",
      "  df_hk = df[df.cmdb_id == host][df.name == kpi]\n"
     ]
    },
    {
     "name": "stdout",
     "output_type": "stream",
     "text": [
      "Threshold  -1.0 Sess_Used_Temp\n",
      "Threshold  12.7992579776666 SctRead_Per_Sec\n",
      "Threshold  1.1773997908816631 SeqRead_Per_Sec\n"
     ]
    },
    {
     "name": "stderr",
     "output_type": "stream",
     "text": [
      "/Users/baconbaker/anaconda3/envs/ml/lib/python3.8/site-packages/alibi_detect/od/sr.py:96: RuntimeWarning: divide by zero encountered in log\n",
      "  log_amp = np.log(amp)\n",
      "/Users/baconbaker/anaconda3/envs/ml/lib/python3.8/site-packages/alibi_detect/od/sr.py:99: RuntimeWarning: invalid value encountered in subtract\n",
      "  res_amp = log_amp - ma_log_amp\n",
      "/Users/baconbaker/anaconda3/envs/ml/lib/python3.8/site-packages/alibi_detect/od/sr.py:207: RuntimeWarning: invalid value encountered in greater\n",
      "  outlier_pred = (iscore > self.threshold).astype(int)\n",
      "<ipython-input-106-934139de14b0>:27: UserWarning: Boolean Series key will be reindexed to match DataFrame index.\n",
      "  df_hk = df[df.cmdb_id == host][df.name == kpi]\n",
      "<ipython-input-106-934139de14b0>:27: UserWarning: Boolean Series key will be reindexed to match DataFrame index.\n",
      "  df_hk = df[df.cmdb_id == host][df.name == kpi]\n",
      "<ipython-input-106-934139de14b0>:27: UserWarning: Boolean Series key will be reindexed to match DataFrame index.\n",
      "  df_hk = df[df.cmdb_id == host][df.name == kpi]\n"
     ]
    },
    {
     "name": "stdout",
     "output_type": "stream",
     "text": [
      "[0 0 1 1 1 0 0 0 0 0 0 0 0 0 0 0 0 0 0 0 0 0 0 0 0 0 1 0 1 0]\n",
      "ST Threshold Anomaly!\n",
      "Threshold  1.2549676853674772 DFParaWrite_Per_Sec\n",
      "Threshold  -1.0 PGA_Used_Pct\n",
      "Threshold  -1.0 Row_Lock\n"
     ]
    },
    {
     "name": "stderr",
     "output_type": "stream",
     "text": [
      "<ipython-input-106-934139de14b0>:27: UserWarning: Boolean Series key will be reindexed to match DataFrame index.\n",
      "  df_hk = df[df.cmdb_id == host][df.name == kpi]\n",
      "<ipython-input-106-934139de14b0>:27: UserWarning: Boolean Series key will be reindexed to match DataFrame index.\n",
      "  df_hk = df[df.cmdb_id == host][df.name == kpi]\n",
      "<ipython-input-106-934139de14b0>:27: UserWarning: Boolean Series key will be reindexed to match DataFrame index.\n",
      "  df_hk = df[df.cmdb_id == host][df.name == kpi]\n"
     ]
    },
    {
     "name": "stdout",
     "output_type": "stream",
     "text": [
      "Threshold  0.893481207181463 Proc_Used_Pct\n",
      "Threshold  7.9836524674864675 Session_pct\n",
      "Threshold  0.9219279241344216 LFParaWrite_Per_Sec\n"
     ]
    },
    {
     "name": "stderr",
     "output_type": "stream",
     "text": [
      "<ipython-input-106-934139de14b0>:27: UserWarning: Boolean Series key will be reindexed to match DataFrame index.\n",
      "  df_hk = df[df.cmdb_id == host][df.name == kpi]\n",
      "<ipython-input-106-934139de14b0>:27: UserWarning: Boolean Series key will be reindexed to match DataFrame index.\n",
      "  df_hk = df[df.cmdb_id == host][df.name == kpi]\n",
      "<ipython-input-106-934139de14b0>:27: UserWarning: Boolean Series key will be reindexed to match DataFrame index.\n",
      "  df_hk = df[df.cmdb_id == host][df.name == kpi]\n"
     ]
    },
    {
     "name": "stdout",
     "output_type": "stream",
     "text": [
      "Threshold  2.4145702387703065 AWS\n",
      "Threshold  1.0822448036538903 LFSync_Per_Sec\n",
      "Threshold  0.893481207181463 Proc_User_Used_Pct\n"
     ]
    },
    {
     "name": "stderr",
     "output_type": "stream",
     "text": [
      "<ipython-input-106-934139de14b0>:27: UserWarning: Boolean Series key will be reindexed to match DataFrame index.\n",
      "  df_hk = df[df.cmdb_id == host][df.name == kpi]\n",
      "<ipython-input-106-934139de14b0>:27: UserWarning: Boolean Series key will be reindexed to match DataFrame index.\n",
      "  df_hk = df[df.cmdb_id == host][df.name == kpi]\n",
      "<ipython-input-106-934139de14b0>:27: UserWarning: Boolean Series key will be reindexed to match DataFrame index.\n",
      "  df_hk = df[df.cmdb_id == host][df.name == kpi]\n",
      "<ipython-input-106-934139de14b0>:27: UserWarning: Boolean Series key will be reindexed to match DataFrame index.\n",
      "  df_hk = df[df.cmdb_id == host][df.name == kpi]\n"
     ]
    },
    {
     "name": "stdout",
     "output_type": "stream",
     "text": [
      "Threshold  -1.0 AIOS\n",
      "Non-Zero Anomaly!\n",
      "Threshold  1.9430661497287407 ACS\n",
      "Threshold  nan On_Off_State\n",
      "NaN, Skipping!"
     ]
    },
    {
     "name": "stderr",
     "output_type": "stream",
     "text": [
      "<ipython-input-106-934139de14b0>:27: UserWarning: Boolean Series key will be reindexed to match DataFrame index.\n",
      "  df_hk = df[df.cmdb_id == host][df.name == kpi]\n",
      "<ipython-input-106-934139de14b0>:27: UserWarning: Boolean Series key will be reindexed to match DataFrame index.\n",
      "  df_hk = df[df.cmdb_id == host][df.name == kpi]\n",
      "<ipython-input-106-934139de14b0>:27: UserWarning: Boolean Series key will be reindexed to match DataFrame index.\n",
      "  df_hk = df[df.cmdb_id == host][df.name == kpi]\n"
     ]
    },
    {
     "name": "stdout",
     "output_type": "stream",
     "text": [
      "\n",
      "Threshold  0.9192748861961606 DbTime\n",
      "[0 0 0 0 0 0 0 0 1 0 0 0 0 0 0 0 0 0 1 0 0 0 0 0 0 0 0 0 1 0]\n",
      "ST Threshold Anomaly!\n",
      "Threshold  2.0340655616161207 Sess_Active\n",
      "[0 0 0 0 0 0 0 0 1 0 0 0 0 0 0 0 0 0 1 0 0 0 0 0 0 0 0 0 1 0]\n",
      "ST Threshold Anomaly!\n",
      "Threshold  3.11580856855176 Physical_Read_Per_Sec\n",
      "[0 0 0 0 0 0 0 0 1 0 0 0 0 0 0 0 0 0 1 0 0 0 0 0 0 0 0 0 1 0]\n",
      "ST Threshold Anomaly!\n",
      "Threshold  0.8255546202174903 Call_Per_Sec\n"
     ]
    },
    {
     "name": "stderr",
     "output_type": "stream",
     "text": [
      "<ipython-input-106-934139de14b0>:27: UserWarning: Boolean Series key will be reindexed to match DataFrame index.\n",
      "  df_hk = df[df.cmdb_id == host][df.name == kpi]\n",
      "<ipython-input-106-934139de14b0>:27: UserWarning: Boolean Series key will be reindexed to match DataFrame index.\n",
      "  df_hk = df[df.cmdb_id == host][df.name == kpi]\n",
      "<ipython-input-106-934139de14b0>:27: UserWarning: Boolean Series key will be reindexed to match DataFrame index.\n",
      "  df_hk = df[df.cmdb_id == host][df.name == kpi]\n"
     ]
    },
    {
     "name": "stdout",
     "output_type": "stream",
     "text": [
      "[1 0 0 0 0 0 0 0 0 0 0 0 0 0 0 0 0 0 0 0 0 0 0 0 0 0 0 0 0 1]\n",
      "ST Threshold Anomaly!\n",
      "Threshold  0.8951926933721739 Login_Per_Sec\n",
      "[0 1 0 0 0 0 0 0 0 0 0 0 0 0 0 0 0 0 0 0 0 0 0 0 0 0 0 1 0 1]\n",
      "ST Threshold Anomaly!\n",
      "Threshold  0.9218042886663138 User_Commit\n",
      "Threshold  0.8572212671017119 Sess_Connect\n"
     ]
    },
    {
     "name": "stderr",
     "output_type": "stream",
     "text": [
      "<ipython-input-106-934139de14b0>:27: UserWarning: Boolean Series key will be reindexed to match DataFrame index.\n",
      "  df_hk = df[df.cmdb_id == host][df.name == kpi]\n",
      "<ipython-input-106-934139de14b0>:27: UserWarning: Boolean Series key will be reindexed to match DataFrame index.\n",
      "  df_hk = df[df.cmdb_id == host][df.name == kpi]\n",
      "<ipython-input-106-934139de14b0>:27: UserWarning: Boolean Series key will be reindexed to match DataFrame index.\n",
      "  df_hk = df[df.cmdb_id == host][df.name == kpi]\n"
     ]
    },
    {
     "name": "stdout",
     "output_type": "stream",
     "text": [
      "[1 1 0 0 0 0 0 0 0 0 0 0 0 0 0 0 0 0 0 0 0 0 0 0 0 0 0 0 0 1]\n",
      "ST Threshold Anomaly!\n",
      "Threshold  0.8689106517584476 Logic_Read_Per_Sec\n",
      "Threshold  0.8172028778409428 TPS_Per_Sec\n",
      "[1 0 0 0 0 0 0 0 0 0 0 0 0 0 0 0 0 0 0 0 0 0 0 0 0 0 0 0 0 1]\n",
      "ST Threshold Anomaly!\n",
      "Threshold  nan Hang\n",
      "NaN, Skipping!"
     ]
    },
    {
     "name": "stderr",
     "output_type": "stream",
     "text": [
      "<ipython-input-106-934139de14b0>:27: UserWarning: Boolean Series key will be reindexed to match DataFrame index.\n",
      "  df_hk = df[df.cmdb_id == host][df.name == kpi]\n",
      "<ipython-input-106-934139de14b0>:27: UserWarning: Boolean Series key will be reindexed to match DataFrame index.\n",
      "  df_hk = df[df.cmdb_id == host][df.name == kpi]\n",
      "<ipython-input-106-934139de14b0>:27: UserWarning: Boolean Series key will be reindexed to match DataFrame index.\n",
      "  df_hk = df[df.cmdb_id == host][df.name == kpi]\n"
     ]
    },
    {
     "name": "stdout",
     "output_type": "stream",
     "text": [
      "\n",
      "Threshold  0.8565636388014565 Redo_Per_Sec\n",
      "Threshold  0.8984666519398737 Exec_Per_Sec\n",
      "[0 0 0 0 0 0 0 0 1 0 0 0 0 0 0 0 0 0 0 0 0 0 0 0 0 0 0 0 1 0]\n",
      "ST Threshold Anomaly!\n",
      "Threshold  -1.0 TempTbs_Pct\n",
      "Threshold "
     ]
    },
    {
     "name": "stderr",
     "output_type": "stream",
     "text": [
      "<ipython-input-106-934139de14b0>:27: UserWarning: Boolean Series key will be reindexed to match DataFrame index.\n",
      "  df_hk = df[df.cmdb_id == host][df.name == kpi]\n",
      "<ipython-input-106-934139de14b0>:27: UserWarning: Boolean Series key will be reindexed to match DataFrame index.\n",
      "  df_hk = df[df.cmdb_id == host][df.name == kpi]\n",
      "<ipython-input-106-934139de14b0>:27: UserWarning: Boolean Series key will be reindexed to match DataFrame index.\n",
      "  df_hk = df[df.cmdb_id == host][df.name == kpi]\n"
     ]
    },
    {
     "name": "stdout",
     "output_type": "stream",
     "text": [
      " nan Total_Tbs_Size\n",
      "NaN, Skipping!\n",
      "Threshold  0.8766531086797915 New_Tbs_Free_Gb\n",
      "Threshold  1.1135226948422443 New_Tbs_Used_Pct\n"
     ]
    },
    {
     "name": "stderr",
     "output_type": "stream",
     "text": [
      "<ipython-input-106-934139de14b0>:27: UserWarning: Boolean Series key will be reindexed to match DataFrame index.\n",
      "  df_hk = df[df.cmdb_id == host][df.name == kpi]\n",
      "<ipython-input-106-934139de14b0>:27: UserWarning: Boolean Series key will be reindexed to match DataFrame index.\n",
      "  df_hk = df[df.cmdb_id == host][df.name == kpi]\n",
      "<ipython-input-106-934139de14b0>:27: UserWarning: Boolean Series key will be reindexed to match DataFrame index.\n",
      "  df_hk = df[df.cmdb_id == host][df.name == kpi]\n"
     ]
    },
    {
     "name": "stdout",
     "output_type": "stream",
     "text": [
      "[0 1 1 1 1 1 0 0 0 0 0 0 0 0 0 0 0 0 0 0 0 1 1 1 1 1 1 1 1 0]\n",
      "ST Threshold Anomaly!\n",
      "Threshold  nan Tbs_Used_Pct\n",
      "NaN, Skipping!\n",
      "Threshold  nan Tbs_Free_Gb\n",
      "NaN, Skipping!\n",
      "Threshold  0.7729481948552189 UndoTbs_Pct\n"
     ]
    },
    {
     "name": "stderr",
     "output_type": "stream",
     "text": [
      "<ipython-input-106-934139de14b0>:27: UserWarning: Boolean Series key will be reindexed to match DataFrame index.\n",
      "  df_hk = df[df.cmdb_id == host][df.name == kpi]\n",
      "/Users/baconbaker/anaconda3/envs/ml/lib/python3.8/site-packages/alibi_detect/od/sr.py:96: RuntimeWarning: divide by zero encountered in log\n",
      "  log_amp = np.log(amp)\n",
      "/Users/baconbaker/anaconda3/envs/ml/lib/python3.8/site-packages/alibi_detect/od/sr.py:99: RuntimeWarning: invalid value encountered in subtract\n",
      "  res_amp = log_amp - ma_log_amp\n",
      "/Users/baconbaker/anaconda3/envs/ml/lib/python3.8/site-packages/alibi_detect/od/sr.py:207: RuntimeWarning: invalid value encountered in greater\n",
      "  outlier_pred = (iscore > self.threshold).astype(int)\n",
      "<ipython-input-106-934139de14b0>:27: UserWarning: Boolean Series key will be reindexed to match DataFrame index.\n",
      "  df_hk = df[df.cmdb_id == host][df.name == kpi]\n",
      "<ipython-input-106-934139de14b0>:27: UserWarning: Boolean Series key will be reindexed to match DataFrame index.\n",
      "  df_hk = df[df.cmdb_id == host][df.name == kpi]\n",
      "<ipython-input-106-934139de14b0>:27: UserWarning: Boolean Series key will be reindexed to match DataFrame index.\n",
      "  df_hk = df[df.cmdb_id == host][df.name == kpi]\n"
     ]
    },
    {
     "name": "stdout",
     "output_type": "stream",
     "text": [
      "Threshold  0.7593508103301322 DbFile_Used_Pct\n",
      "No valid data to use, skipping\n",
      "db_007  completed in  3.2514541149139404\n",
      "************************************************************\n",
      "Checking  db_010\n",
      "Threshold  0.8544254574924826 CPU_free_pct\n",
      "[1 1 0 0 0 0 0 0 0 0 0 0 0 0 0 0 0 0 0 0 0 0 0 0 0 0 0 0 0 1]\n",
      "ST Threshold Anomaly!\n",
      "Threshold  0.8574199559332474 MEM_real_util\n",
      "[1 1 0 0 0 0 0 0 0 0 0 0 0 0 0 0 0 0 0 0 0 0 0 0 0 0 0 0 0 1]\n",
      "ST Threshold Anomaly!\n",
      "Threshold  0.8884751626796346 tnsping_result_time\n",
      "Threshold  0.8824750613256306 CPU_Used_Pct\n"
     ]
    },
    {
     "name": "stderr",
     "output_type": "stream",
     "text": [
      "<ipython-input-106-934139de14b0>:27: UserWarning: Boolean Series key will be reindexed to match DataFrame index.\n",
      "  df_hk = df[df.cmdb_id == host][df.name == kpi]\n",
      "<ipython-input-106-934139de14b0>:27: UserWarning: Boolean Series key will be reindexed to match DataFrame index.\n",
      "  df_hk = df[df.cmdb_id == host][df.name == kpi]\n",
      "<ipython-input-106-934139de14b0>:27: UserWarning: Boolean Series key will be reindexed to match DataFrame index.\n",
      "  df_hk = df[df.cmdb_id == host][df.name == kpi]\n",
      "<ipython-input-106-934139de14b0>:27: UserWarning: Boolean Series key will be reindexed to match DataFrame index.\n",
      "  df_hk = df[df.cmdb_id == host][df.name == kpi]\n"
     ]
    },
    {
     "name": "stdout",
     "output_type": "stream",
     "text": [
      "[1 0 0 0 0 0 0 0 0 0 0 0 0 0 0 0 0 0 0 0 0 0 0 0 0 0 0 0 1 0]\n",
      "ST Threshold Anomaly!\n",
      "Threshold  0.8572864453445516 MEM_Used\n",
      "[1 1 0 0 0 0 0 0 0 0 0 0 0 0 0 0 0 0 0 0 0 0 0 0 0 0 0 0 0 1]\n",
      "ST Threshold Anomaly!\n",
      "Threshold  nan MEM_Total\n",
      "NaN, Skipping!\n",
      "Threshold  0.8557108706990801 MEM_Used_Pct\n",
      "[1 1 0 0 0 0 0 0 0 0 0 0 0 0 0 0 0 0 0 0 0 0 0 0 0 0 0 0 0 1]\n",
      "ST Threshold Anomaly!\n",
      "Threshold  0.8576244157156514 Used_Tbs_Size\n"
     ]
    },
    {
     "name": "stderr",
     "output_type": "stream",
     "text": [
      "<ipython-input-106-934139de14b0>:27: UserWarning: Boolean Series key will be reindexed to match DataFrame index.\n",
      "  df_hk = df[df.cmdb_id == host][df.name == kpi]\n",
      "<ipython-input-106-934139de14b0>:27: UserWarning: Boolean Series key will be reindexed to match DataFrame index.\n",
      "  df_hk = df[df.cmdb_id == host][df.name == kpi]\n",
      "<ipython-input-106-934139de14b0>:27: UserWarning: Boolean Series key will be reindexed to match DataFrame index.\n",
      "  df_hk = df[df.cmdb_id == host][df.name == kpi]\n"
     ]
    },
    {
     "name": "stdout",
     "output_type": "stream",
     "text": [
      "[1 1 0 0 0 0 0 0 0 0 0 0 0 0 0 0 0 0 0 0 0 0 0 0 0 0 0 0 0 1]\n",
      "ST Threshold Anomaly!\n",
      "Threshold  nan SEQ_Used_Pct\n",
      "NaN, Skipping!\n",
      "Threshold  nan Asm_Free_Tb\n",
      "NaN, Skipping!\n",
      "Threshold  nan PGA_used_total\n",
      "NaN, Skipping!\n",
      "Threshold  -1.0 Sess_Used_Undo\n"
     ]
    },
    {
     "name": "stderr",
     "output_type": "stream",
     "text": [
      "<ipython-input-106-934139de14b0>:27: UserWarning: Boolean Series key will be reindexed to match DataFrame index.\n",
      "  df_hk = df[df.cmdb_id == host][df.name == kpi]\n",
      "<ipython-input-106-934139de14b0>:27: UserWarning: Boolean Series key will be reindexed to match DataFrame index.\n",
      "  df_hk = df[df.cmdb_id == host][df.name == kpi]\n",
      "<ipython-input-106-934139de14b0>:27: UserWarning: Boolean Series key will be reindexed to match DataFrame index.\n",
      "  df_hk = df[df.cmdb_id == host][df.name == kpi]\n"
     ]
    },
    {
     "name": "stdout",
     "output_type": "stream",
     "text": [
      "Threshold  -1.0 Sess_Used_Temp\n",
      "Threshold  -1.0 SctRead_Per_Sec\n",
      "Threshold  6.259442986576552 SeqRead_Per_Sec\n"
     ]
    },
    {
     "name": "stderr",
     "output_type": "stream",
     "text": [
      "<ipython-input-106-934139de14b0>:27: UserWarning: Boolean Series key will be reindexed to match DataFrame index.\n",
      "  df_hk = df[df.cmdb_id == host][df.name == kpi]\n",
      "<ipython-input-106-934139de14b0>:27: UserWarning: Boolean Series key will be reindexed to match DataFrame index.\n",
      "  df_hk = df[df.cmdb_id == host][df.name == kpi]\n",
      "<ipython-input-106-934139de14b0>:27: UserWarning: Boolean Series key will be reindexed to match DataFrame index.\n",
      "  df_hk = df[df.cmdb_id == host][df.name == kpi]\n"
     ]
    },
    {
     "name": "stdout",
     "output_type": "stream",
     "text": [
      "Threshold  10.066013179316661 DFParaWrite_Per_Sec\n",
      "Threshold  -1.0 PGA_Used_Pct\n",
      "Threshold  -1.0 Row_Lock\n"
     ]
    },
    {
     "name": "stderr",
     "output_type": "stream",
     "text": [
      "<ipython-input-106-934139de14b0>:27: UserWarning: Boolean Series key will be reindexed to match DataFrame index.\n",
      "  df_hk = df[df.cmdb_id == host][df.name == kpi]\n",
      "<ipython-input-106-934139de14b0>:27: UserWarning: Boolean Series key will be reindexed to match DataFrame index.\n",
      "  df_hk = df[df.cmdb_id == host][df.name == kpi]\n",
      "<ipython-input-106-934139de14b0>:27: UserWarning: Boolean Series key will be reindexed to match DataFrame index.\n",
      "  df_hk = df[df.cmdb_id == host][df.name == kpi]\n"
     ]
    },
    {
     "name": "stdout",
     "output_type": "stream",
     "text": [
      "Threshold  0.8667111407013565 Proc_Used_Pct\n",
      "[1 1 0 0 0 0 0 0 0 0 0 0 0 0 0 0 0 0 0 0 0 0 0 0 0 0 0 0 0 1]\n",
      "ST Threshold Anomaly!\n",
      "Threshold  4.591052230210668 Session_pct\n",
      "Threshold  4.247101624215877 LFParaWrite_Per_Sec\n"
     ]
    },
    {
     "name": "stderr",
     "output_type": "stream",
     "text": [
      "<ipython-input-106-934139de14b0>:27: UserWarning: Boolean Series key will be reindexed to match DataFrame index.\n",
      "  df_hk = df[df.cmdb_id == host][df.name == kpi]\n",
      "<ipython-input-106-934139de14b0>:27: UserWarning: Boolean Series key will be reindexed to match DataFrame index.\n",
      "  df_hk = df[df.cmdb_id == host][df.name == kpi]\n",
      "<ipython-input-106-934139de14b0>:27: UserWarning: Boolean Series key will be reindexed to match DataFrame index.\n",
      "  df_hk = df[df.cmdb_id == host][df.name == kpi]\n"
     ]
    },
    {
     "name": "stdout",
     "output_type": "stream",
     "text": [
      "Threshold  6.829039074902086 AWS\n",
      "Threshold  0.9722344188765809 LFSync_Per_Sec\n",
      "Threshold  0.8688810065234125 Proc_User_Used_Pct\n"
     ]
    },
    {
     "name": "stderr",
     "output_type": "stream",
     "text": [
      "<ipython-input-106-934139de14b0>:27: UserWarning: Boolean Series key will be reindexed to match DataFrame index.\n",
      "  df_hk = df[df.cmdb_id == host][df.name == kpi]\n",
      "<ipython-input-106-934139de14b0>:27: UserWarning: Boolean Series key will be reindexed to match DataFrame index.\n",
      "  df_hk = df[df.cmdb_id == host][df.name == kpi]\n",
      "<ipython-input-106-934139de14b0>:27: UserWarning: Boolean Series key will be reindexed to match DataFrame index.\n",
      "  df_hk = df[df.cmdb_id == host][df.name == kpi]\n"
     ]
    },
    {
     "name": "stdout",
     "output_type": "stream",
     "text": [
      "[1 1 0 0 0 0 0 0 0 0 0 0 0 0 0 0 0 0 0 0 0 0 0 0 0 0 0 0 0 1]\n",
      "ST Threshold Anomaly!\n",
      "Threshold  -1.0 AIOS\n",
      "Threshold  8.14581077736214 ACS\n",
      "Threshold  nan On_Off_State\n"
     ]
    },
    {
     "name": "stderr",
     "output_type": "stream",
     "text": [
      "<ipython-input-106-934139de14b0>:27: UserWarning: Boolean Series key will be reindexed to match DataFrame index.\n",
      "  df_hk = df[df.cmdb_id == host][df.name == kpi]\n",
      "<ipython-input-106-934139de14b0>:27: UserWarning: Boolean Series key will be reindexed to match DataFrame index.\n",
      "  df_hk = df[df.cmdb_id == host][df.name == kpi]\n",
      "<ipython-input-106-934139de14b0>:27: UserWarning: Boolean Series key will be reindexed to match DataFrame index.\n",
      "  df_hk = df[df.cmdb_id == host][df.name == kpi]\n"
     ]
    },
    {
     "name": "stdout",
     "output_type": "stream",
     "text": [
      "NaN, Skipping!\n",
      "Threshold  0.8782456765411484 DbTime\n",
      "[0 0 0 0 0 0 0 0 0 0 0 0 0 0 0 0 0 0 0 0 0 0 0 0 0 0 0 0 1 0]\n",
      "ST Threshold Anomaly!\n",
      "Threshold  nan Sess_Active\n",
      "NaN, Skipping!\n",
      "Threshold  2.168963830239104 Physical_Read_Per_Sec\n"
     ]
    },
    {
     "name": "stderr",
     "output_type": "stream",
     "text": [
      "<ipython-input-106-934139de14b0>:27: UserWarning: Boolean Series key will be reindexed to match DataFrame index.\n",
      "  df_hk = df[df.cmdb_id == host][df.name == kpi]\n",
      "<ipython-input-106-934139de14b0>:27: UserWarning: Boolean Series key will be reindexed to match DataFrame index.\n",
      "  df_hk = df[df.cmdb_id == host][df.name == kpi]\n",
      "<ipython-input-106-934139de14b0>:27: UserWarning: Boolean Series key will be reindexed to match DataFrame index.\n",
      "  df_hk = df[df.cmdb_id == host][df.name == kpi]\n"
     ]
    },
    {
     "name": "stdout",
     "output_type": "stream",
     "text": [
      "[1 0 0 0 0 0 0 0 1 0 0 0 0 0 0 0 0 0 1 0 0 0 0 0 0 0 0 0 1 0]\n",
      "ST Threshold Anomaly!\n",
      "Threshold  0.8964851873199227 Call_Per_Sec\n",
      "Threshold  3.8155455313356765 Login_Per_Sec\n",
      "Threshold  17.272413931220484 User_Commit\n"
     ]
    },
    {
     "name": "stderr",
     "output_type": "stream",
     "text": [
      "<ipython-input-106-934139de14b0>:27: UserWarning: Boolean Series key will be reindexed to match DataFrame index.\n",
      "  df_hk = df[df.cmdb_id == host][df.name == kpi]\n",
      "<ipython-input-106-934139de14b0>:27: UserWarning: Boolean Series key will be reindexed to match DataFrame index.\n",
      "  df_hk = df[df.cmdb_id == host][df.name == kpi]\n",
      "<ipython-input-106-934139de14b0>:27: UserWarning: Boolean Series key will be reindexed to match DataFrame index.\n",
      "  df_hk = df[df.cmdb_id == host][df.name == kpi]\n"
     ]
    },
    {
     "name": "stdout",
     "output_type": "stream",
     "text": [
      "Threshold  0.8533263508076895 Sess_Connect\n",
      "Threshold  0.8322470436737404 Logic_Read_Per_Sec\n",
      "[0 0 0 0 0 0 0 1 1 0 0 0 0 0 0 0 0 0 1 0 0 0 0 0 0 0 0 0 1 0]\n",
      "ST Threshold Anomaly!\n",
      "Threshold  18.765586898421205 TPS_Per_Sec\n"
     ]
    },
    {
     "name": "stderr",
     "output_type": "stream",
     "text": [
      "<ipython-input-106-934139de14b0>:27: UserWarning: Boolean Series key will be reindexed to match DataFrame index.\n",
      "  df_hk = df[df.cmdb_id == host][df.name == kpi]\n",
      "<ipython-input-106-934139de14b0>:27: UserWarning: Boolean Series key will be reindexed to match DataFrame index.\n",
      "  df_hk = df[df.cmdb_id == host][df.name == kpi]\n",
      "<ipython-input-106-934139de14b0>:27: UserWarning: Boolean Series key will be reindexed to match DataFrame index.\n",
      "  df_hk = df[df.cmdb_id == host][df.name == kpi]\n"
     ]
    },
    {
     "name": "stdout",
     "output_type": "stream",
     "text": [
      "Threshold  nan Hang\n",
      "NaN, Skipping!\n",
      "Threshold  0.9018735167218416 Redo_Per_Sec\n",
      "Threshold  0.8874081709447038 Exec_Per_Sec\n"
     ]
    },
    {
     "name": "stderr",
     "output_type": "stream",
     "text": [
      "<ipython-input-106-934139de14b0>:27: UserWarning: Boolean Series key will be reindexed to match DataFrame index.\n",
      "  df_hk = df[df.cmdb_id == host][df.name == kpi]\n",
      "<ipython-input-106-934139de14b0>:27: UserWarning: Boolean Series key will be reindexed to match DataFrame index.\n",
      "  df_hk = df[df.cmdb_id == host][df.name == kpi]\n",
      "<ipython-input-106-934139de14b0>:27: UserWarning: Boolean Series key will be reindexed to match DataFrame index.\n",
      "  df_hk = df[df.cmdb_id == host][df.name == kpi]\n"
     ]
    },
    {
     "name": "stdout",
     "output_type": "stream",
     "text": [
      "Threshold  -1.0 TempTbs_Pct\n",
      "Threshold  nan Total_Tbs_Size\n",
      "NaN, Skipping!\n",
      "Threshold  0.8412729646739159 New_Tbs_Free_Gb\n"
     ]
    },
    {
     "name": "stderr",
     "output_type": "stream",
     "text": [
      "<ipython-input-106-934139de14b0>:27: UserWarning: Boolean Series key will be reindexed to match DataFrame index.\n",
      "  df_hk = df[df.cmdb_id == host][df.name == kpi]\n",
      "<ipython-input-106-934139de14b0>:27: UserWarning: Boolean Series key will be reindexed to match DataFrame index.\n",
      "  df_hk = df[df.cmdb_id == host][df.name == kpi]\n",
      "<ipython-input-106-934139de14b0>:27: UserWarning: Boolean Series key will be reindexed to match DataFrame index.\n",
      "  df_hk = df[df.cmdb_id == host][df.name == kpi]\n"
     ]
    },
    {
     "name": "stdout",
     "output_type": "stream",
     "text": [
      "[1 1 0 0 0 0 0 0 0 0 0 0 0 0 0 0 0 0 0 0 0 0 0 0 0 0 0 0 0 1]\n",
      "ST Threshold Anomaly!\n",
      "Threshold  0.7368799246741969 New_Tbs_Used_Pct\n",
      "[1 1 0 0 0 0 0 0 0 0 0 0 0 0 0 0 0 0 0 0 0 0 0 0 0 0 0 1 1 1]\n",
      "ST Threshold Anomaly!\n",
      "Threshold  nan Tbs_Used_Pct\n",
      "NaN, Skipping!\n",
      "Threshold  nan Tbs_Free_Gb\n",
      "NaN, Skipping!"
     ]
    },
    {
     "name": "stderr",
     "output_type": "stream",
     "text": [
      "<ipython-input-106-934139de14b0>:27: UserWarning: Boolean Series key will be reindexed to match DataFrame index.\n",
      "  df_hk = df[df.cmdb_id == host][df.name == kpi]\n",
      "<ipython-input-106-934139de14b0>:27: UserWarning: Boolean Series key will be reindexed to match DataFrame index.\n",
      "  df_hk = df[df.cmdb_id == host][df.name == kpi]\n",
      "<ipython-input-106-934139de14b0>:27: UserWarning: Boolean Series key will be reindexed to match DataFrame index.\n",
      "  df_hk = df[df.cmdb_id == host][df.name == kpi]\n",
      "/Users/baconbaker/anaconda3/envs/ml/lib/python3.8/site-packages/alibi_detect/od/sr.py:96: RuntimeWarning: divide by zero encountered in log\n",
      "  log_amp = np.log(amp)\n",
      "/Users/baconbaker/anaconda3/envs/ml/lib/python3.8/site-packages/alibi_detect/od/sr.py:99: RuntimeWarning: invalid value encountered in subtract\n",
      "  res_amp = log_amp - ma_log_amp\n",
      "/Users/baconbaker/anaconda3/envs/ml/lib/python3.8/site-packages/alibi_detect/od/sr.py:207: RuntimeWarning: invalid value encountered in greater\n",
      "  outlier_pred = (iscore > self.threshold).astype(int)\n"
     ]
    },
    {
     "name": "stdout",
     "output_type": "stream",
     "text": [
      "\n",
      "Threshold  4.27937353919807 UndoTbs_Pct\n",
      "Threshold  0.7389224145657218 DbFile_Used_Pct\n",
      "No valid data to use, skipping\n",
      "db_010  completed in  3.2738490104675293\n",
      "************************************************************\n",
      "Checking  db_006\n",
      "Threshold  0.8517704142384668 CPU_free_pct\n",
      "[1 1 0 0 0 0 0 0 0 0 0 0 0 0 0 0 0 0 0 0 0 0 0 0 0 0 0 0 0 1]\n",
      "ST Threshold Anomaly!\n",
      "Threshold  -1.0 MEM_real_util\n"
     ]
    },
    {
     "name": "stderr",
     "output_type": "stream",
     "text": [
      "<ipython-input-106-934139de14b0>:27: UserWarning: Boolean Series key will be reindexed to match DataFrame index.\n",
      "  df_hk = df[df.cmdb_id == host][df.name == kpi]\n",
      "<ipython-input-106-934139de14b0>:27: UserWarning: Boolean Series key will be reindexed to match DataFrame index.\n",
      "  df_hk = df[df.cmdb_id == host][df.name == kpi]\n",
      "<ipython-input-106-934139de14b0>:27: UserWarning: Boolean Series key will be reindexed to match DataFrame index.\n",
      "  df_hk = df[df.cmdb_id == host][df.name == kpi]\n"
     ]
    },
    {
     "name": "stdout",
     "output_type": "stream",
     "text": [
      "Threshold  1.5616053878482692 tnsping_result_time\n",
      "[1 0 0 0 1 1 1 0 0 0 0 0 0 0 0 0 0 0 0 0 0 0 0 0 0 0 0 0 1 1]\n",
      "ST Threshold Anomaly!\n",
      "Threshold  0.8318617397296607 CPU_Used_Pct\n",
      "[1 1 0 0 0 0 0 0 0 0 0 0 0 0 0 0 0 0 0 0 0 0 0 0 0 0 0 0 1 1]\n",
      "ST Threshold Anomaly!\n",
      "Threshold  0.857796180395309 MEM_Used\n"
     ]
    },
    {
     "name": "stderr",
     "output_type": "stream",
     "text": [
      "<ipython-input-106-934139de14b0>:27: UserWarning: Boolean Series key will be reindexed to match DataFrame index.\n",
      "  df_hk = df[df.cmdb_id == host][df.name == kpi]\n",
      "<ipython-input-106-934139de14b0>:27: UserWarning: Boolean Series key will be reindexed to match DataFrame index.\n",
      "  df_hk = df[df.cmdb_id == host][df.name == kpi]\n",
      "<ipython-input-106-934139de14b0>:27: UserWarning: Boolean Series key will be reindexed to match DataFrame index.\n",
      "  df_hk = df[df.cmdb_id == host][df.name == kpi]\n"
     ]
    },
    {
     "name": "stdout",
     "output_type": "stream",
     "text": [
      "[1 1 0 0 0 0 0 0 0 0 0 0 0 0 0 0 0 0 0 0 0 0 0 0 0 0 0 0 0 1]\n",
      "ST Threshold Anomaly!\n",
      "Threshold  nan MEM_Total\n",
      "NaN, Skipping!\n",
      "Threshold  0.8578151447783073 MEM_Used_Pct\n",
      "[1 1 0 0 0 0 0 0 0 0 0 0 0 0 0 0 0 0 0 0 0 0 0 0 0 0 0 0 0 1]\n",
      "ST Threshold Anomaly!\n",
      "Threshold  0.8576775750785598 Used_Tbs_Size\n"
     ]
    },
    {
     "name": "stderr",
     "output_type": "stream",
     "text": [
      "<ipython-input-106-934139de14b0>:27: UserWarning: Boolean Series key will be reindexed to match DataFrame index.\n",
      "  df_hk = df[df.cmdb_id == host][df.name == kpi]\n",
      "<ipython-input-106-934139de14b0>:27: UserWarning: Boolean Series key will be reindexed to match DataFrame index.\n",
      "  df_hk = df[df.cmdb_id == host][df.name == kpi]\n",
      "<ipython-input-106-934139de14b0>:27: UserWarning: Boolean Series key will be reindexed to match DataFrame index.\n",
      "  df_hk = df[df.cmdb_id == host][df.name == kpi]\n"
     ]
    },
    {
     "name": "stdout",
     "output_type": "stream",
     "text": [
      "[1 1 1 1 0 0 0 0 0 0 0 0 0 0 0 0 0 0 0 0 0 0 0 0 0 0 1 1 1 1]\n",
      "ST Threshold Anomaly!\n",
      "Threshold  nan SEQ_Used_Pct\n",
      "NaN, Skipping!\n",
      "Threshold  nan Asm_Free_Tb\n",
      "NaN, Skipping!\n",
      "Threshold  nan PGA_used_total\n"
     ]
    },
    {
     "name": "stderr",
     "output_type": "stream",
     "text": [
      "<ipython-input-106-934139de14b0>:27: UserWarning: Boolean Series key will be reindexed to match DataFrame index.\n",
      "  df_hk = df[df.cmdb_id == host][df.name == kpi]\n",
      "<ipython-input-106-934139de14b0>:27: UserWarning: Boolean Series key will be reindexed to match DataFrame index.\n",
      "  df_hk = df[df.cmdb_id == host][df.name == kpi]\n",
      "<ipython-input-106-934139de14b0>:27: UserWarning: Boolean Series key will be reindexed to match DataFrame index.\n",
      "  df_hk = df[df.cmdb_id == host][df.name == kpi]\n"
     ]
    },
    {
     "name": "stdout",
     "output_type": "stream",
     "text": [
      "NaN, Skipping!\n",
      "Threshold  -1.0 Sess_Used_Undo\n",
      "Threshold  -1.0 Sess_Used_Temp\n",
      "Threshold  -1.0 SctRead_Per_Sec\n",
      "Threshold "
     ]
    },
    {
     "name": "stderr",
     "output_type": "stream",
     "text": [
      "<ipython-input-106-934139de14b0>:27: UserWarning: Boolean Series key will be reindexed to match DataFrame index.\n",
      "  df_hk = df[df.cmdb_id == host][df.name == kpi]\n",
      "<ipython-input-106-934139de14b0>:27: UserWarning: Boolean Series key will be reindexed to match DataFrame index.\n",
      "  df_hk = df[df.cmdb_id == host][df.name == kpi]\n",
      "<ipython-input-106-934139de14b0>:27: UserWarning: Boolean Series key will be reindexed to match DataFrame index.\n",
      "  df_hk = df[df.cmdb_id == host][df.name == kpi]\n"
     ]
    },
    {
     "name": "stdout",
     "output_type": "stream",
     "text": [
      " 1.4810618758486005 SeqRead_Per_Sec\n",
      "Threshold  2.7397163624396845 DFParaWrite_Per_Sec\n",
      "Threshold  -1.0 PGA_Used_Pct\n",
      "Threshold "
     ]
    },
    {
     "name": "stderr",
     "output_type": "stream",
     "text": [
      "<ipython-input-106-934139de14b0>:27: UserWarning: Boolean Series key will be reindexed to match DataFrame index.\n",
      "  df_hk = df[df.cmdb_id == host][df.name == kpi]\n",
      "<ipython-input-106-934139de14b0>:27: UserWarning: Boolean Series key will be reindexed to match DataFrame index.\n",
      "  df_hk = df[df.cmdb_id == host][df.name == kpi]\n",
      "<ipython-input-106-934139de14b0>:27: UserWarning: Boolean Series key will be reindexed to match DataFrame index.\n",
      "  df_hk = df[df.cmdb_id == host][df.name == kpi]\n"
     ]
    },
    {
     "name": "stdout",
     "output_type": "stream",
     "text": [
      " -1.0 Row_Lock\n",
      "Threshold  0.8573947319700891 Proc_Used_Pct\n",
      "Threshold  6.112500137930338 Session_pct\n"
     ]
    },
    {
     "name": "stderr",
     "output_type": "stream",
     "text": [
      "<ipython-input-106-934139de14b0>:27: UserWarning: Boolean Series key will be reindexed to match DataFrame index.\n",
      "  df_hk = df[df.cmdb_id == host][df.name == kpi]\n",
      "/Users/baconbaker/anaconda3/envs/ml/lib/python3.8/site-packages/alibi_detect/od/sr.py:96: RuntimeWarning: divide by zero encountered in log\n",
      "  log_amp = np.log(amp)\n",
      "/Users/baconbaker/anaconda3/envs/ml/lib/python3.8/site-packages/alibi_detect/od/sr.py:99: RuntimeWarning: invalid value encountered in subtract\n",
      "  res_amp = log_amp - ma_log_amp\n",
      "/Users/baconbaker/anaconda3/envs/ml/lib/python3.8/site-packages/alibi_detect/od/sr.py:207: RuntimeWarning: invalid value encountered in greater\n",
      "  outlier_pred = (iscore > self.threshold).astype(int)\n",
      "<ipython-input-106-934139de14b0>:27: UserWarning: Boolean Series key will be reindexed to match DataFrame index.\n",
      "  df_hk = df[df.cmdb_id == host][df.name == kpi]\n",
      "<ipython-input-106-934139de14b0>:27: UserWarning: Boolean Series key will be reindexed to match DataFrame index.\n",
      "  df_hk = df[df.cmdb_id == host][df.name == kpi]\n"
     ]
    },
    {
     "name": "stdout",
     "output_type": "stream",
     "text": [
      "Threshold  1.6688236919320192 LFParaWrite_Per_Sec\n",
      "Threshold  7.478752393187772 AWS\n",
      "Threshold  1.7697846852999355 LFSync_Per_Sec\n"
     ]
    },
    {
     "name": "stderr",
     "output_type": "stream",
     "text": [
      "<ipython-input-106-934139de14b0>:27: UserWarning: Boolean Series key will be reindexed to match DataFrame index.\n",
      "  df_hk = df[df.cmdb_id == host][df.name == kpi]\n",
      "<ipython-input-106-934139de14b0>:27: UserWarning: Boolean Series key will be reindexed to match DataFrame index.\n",
      "  df_hk = df[df.cmdb_id == host][df.name == kpi]\n",
      "<ipython-input-106-934139de14b0>:27: UserWarning: Boolean Series key will be reindexed to match DataFrame index.\n",
      "  df_hk = df[df.cmdb_id == host][df.name == kpi]\n"
     ]
    },
    {
     "name": "stdout",
     "output_type": "stream",
     "text": [
      "Threshold  0.8575663775425499 Proc_User_Used_Pct\n",
      "Threshold  14.068800006760426 AIOS\n",
      "[1 0 0 0 0 0 0 0 0 0 0 0 0 0 0 0 0 0 0 0 0 0 0 0 0 0 0 0 1 0]\n",
      "ST Threshold Anomaly!\n",
      "Threshold  2.038405547995508 ACS\n"
     ]
    },
    {
     "name": "stderr",
     "output_type": "stream",
     "text": [
      "/Users/baconbaker/anaconda3/envs/ml/lib/python3.8/site-packages/alibi_detect/od/sr.py:96: RuntimeWarning: divide by zero encountered in log\n",
      "  log_amp = np.log(amp)\n",
      "/Users/baconbaker/anaconda3/envs/ml/lib/python3.8/site-packages/alibi_detect/od/sr.py:99: RuntimeWarning: invalid value encountered in subtract\n",
      "  res_amp = log_amp - ma_log_amp\n",
      "/Users/baconbaker/anaconda3/envs/ml/lib/python3.8/site-packages/alibi_detect/od/sr.py:207: RuntimeWarning: invalid value encountered in greater\n",
      "  outlier_pred = (iscore > self.threshold).astype(int)\n",
      "<ipython-input-106-934139de14b0>:27: UserWarning: Boolean Series key will be reindexed to match DataFrame index.\n",
      "  df_hk = df[df.cmdb_id == host][df.name == kpi]\n",
      "<ipython-input-106-934139de14b0>:27: UserWarning: Boolean Series key will be reindexed to match DataFrame index.\n",
      "  df_hk = df[df.cmdb_id == host][df.name == kpi]\n",
      "<ipython-input-106-934139de14b0>:27: UserWarning: Boolean Series key will be reindexed to match DataFrame index.\n",
      "  df_hk = df[df.cmdb_id == host][df.name == kpi]\n"
     ]
    },
    {
     "name": "stdout",
     "output_type": "stream",
     "text": [
      "[0 0 0 0 0 0 0 0 0 0 0 0 0 0 0 0 0 0 0 0 0 0 0 0 0 1 0 0 1 0]\n",
      "ST Threshold Anomaly!\n",
      "Threshold  nan On_Off_State\n",
      "NaN, Skipping!\n",
      "Threshold  0.8456811434231892 DbTime\n",
      "[0 0 1 0 0 0 0 0 0 0 0 0 0 0 0 0 0 0 1 0 0 0 0 0 0 0 0 0 1 0]\n",
      "ST Threshold Anomaly!\n",
      "Threshold  4.328836756878993 Sess_Active\n"
     ]
    },
    {
     "name": "stderr",
     "output_type": "stream",
     "text": [
      "<ipython-input-106-934139de14b0>:27: UserWarning: Boolean Series key will be reindexed to match DataFrame index.\n",
      "  df_hk = df[df.cmdb_id == host][df.name == kpi]\n",
      "<ipython-input-106-934139de14b0>:27: UserWarning: Boolean Series key will be reindexed to match DataFrame index.\n",
      "  df_hk = df[df.cmdb_id == host][df.name == kpi]\n",
      "<ipython-input-106-934139de14b0>:27: UserWarning: Boolean Series key will be reindexed to match DataFrame index.\n",
      "  df_hk = df[df.cmdb_id == host][df.name == kpi]\n"
     ]
    },
    {
     "name": "stdout",
     "output_type": "stream",
     "text": [
      "Threshold  2.72592562832116 Physical_Read_Per_Sec\n",
      "[0 0 0 0 0 0 0 1 1 0 0 0 0 0 0 0 0 1 1 0 0 0 0 0 0 0 0 1 1 0]\n",
      "ST Threshold Anomaly!\n",
      "Threshold  0.8558164126002352 Call_Per_Sec\n",
      "Threshold  1.6876344099486005 Login_Per_Sec\n",
      "Threshold  17.053601020133648 User_Commit\n"
     ]
    },
    {
     "name": "stderr",
     "output_type": "stream",
     "text": [
      "<ipython-input-106-934139de14b0>:27: UserWarning: Boolean Series key will be reindexed to match DataFrame index.\n",
      "  df_hk = df[df.cmdb_id == host][df.name == kpi]\n",
      "<ipython-input-106-934139de14b0>:27: UserWarning: Boolean Series key will be reindexed to match DataFrame index.\n",
      "  df_hk = df[df.cmdb_id == host][df.name == kpi]\n",
      "<ipython-input-106-934139de14b0>:27: UserWarning: Boolean Series key will be reindexed to match DataFrame index.\n",
      "  df_hk = df[df.cmdb_id == host][df.name == kpi]\n"
     ]
    },
    {
     "name": "stdout",
     "output_type": "stream",
     "text": [
      "Threshold  0.8542870179300653 Sess_Connect\n",
      "[1 1 0 0 0 0 0 0 0 0 0 0 0 0 0 0 0 0 0 0 0 0 0 0 0 0 0 0 0 1]\n",
      "ST Threshold Anomaly!\n",
      "Threshold  0.8190856574232389 Logic_Read_Per_Sec\n",
      "Threshold  0.8532929773697162 TPS_Per_Sec\n"
     ]
    },
    {
     "name": "stderr",
     "output_type": "stream",
     "text": [
      "<ipython-input-106-934139de14b0>:27: UserWarning: Boolean Series key will be reindexed to match DataFrame index.\n",
      "  df_hk = df[df.cmdb_id == host][df.name == kpi]\n",
      "<ipython-input-106-934139de14b0>:27: UserWarning: Boolean Series key will be reindexed to match DataFrame index.\n",
      "  df_hk = df[df.cmdb_id == host][df.name == kpi]\n",
      "<ipython-input-106-934139de14b0>:27: UserWarning: Boolean Series key will be reindexed to match DataFrame index.\n",
      "  df_hk = df[df.cmdb_id == host][df.name == kpi]\n"
     ]
    },
    {
     "name": "stdout",
     "output_type": "stream",
     "text": [
      "[1 1 0 0 0 0 0 0 0 0 0 0 0 0 0 0 0 0 0 0 0 0 0 0 0 0 0 0 0 1]\n",
      "ST Threshold Anomaly!\n",
      "Threshold  nan Hang\n",
      "NaN, Skipping!\n",
      "Threshold  0.8704188363334834 Redo_Per_Sec\n",
      "Threshold  0.8609268792985323 Exec_Per_Sec\n"
     ]
    },
    {
     "name": "stderr",
     "output_type": "stream",
     "text": [
      "<ipython-input-106-934139de14b0>:27: UserWarning: Boolean Series key will be reindexed to match DataFrame index.\n",
      "  df_hk = df[df.cmdb_id == host][df.name == kpi]\n",
      "<ipython-input-106-934139de14b0>:27: UserWarning: Boolean Series key will be reindexed to match DataFrame index.\n",
      "  df_hk = df[df.cmdb_id == host][df.name == kpi]\n",
      "<ipython-input-106-934139de14b0>:27: UserWarning: Boolean Series key will be reindexed to match DataFrame index.\n",
      "  df_hk = df[df.cmdb_id == host][df.name == kpi]\n"
     ]
    },
    {
     "name": "stdout",
     "output_type": "stream",
     "text": [
      "[0 0 0 0 0 0 0 0 0 0 0 0 0 0 0 0 0 0 1 0 0 0 0 0 0 0 0 0 1 0]\n",
      "ST Threshold Anomaly!\n",
      "Threshold  -1.0 TempTbs_Pct\n",
      "Threshold  nan Total_Tbs_Size\n",
      "NaN, Skipping!\n",
      "Threshold  0.8666619870722457 New_Tbs_Free_Gb\n"
     ]
    },
    {
     "name": "stderr",
     "output_type": "stream",
     "text": [
      "<ipython-input-106-934139de14b0>:27: UserWarning: Boolean Series key will be reindexed to match DataFrame index.\n",
      "  df_hk = df[df.cmdb_id == host][df.name == kpi]\n",
      "<ipython-input-106-934139de14b0>:27: UserWarning: Boolean Series key will be reindexed to match DataFrame index.\n",
      "  df_hk = df[df.cmdb_id == host][df.name == kpi]\n",
      "<ipython-input-106-934139de14b0>:27: UserWarning: Boolean Series key will be reindexed to match DataFrame index.\n",
      "  df_hk = df[df.cmdb_id == host][df.name == kpi]\n"
     ]
    },
    {
     "name": "stdout",
     "output_type": "stream",
     "text": [
      "Threshold  0.8078797962194236 New_Tbs_Used_Pct\n",
      "Threshold  nan Tbs_Used_Pct\n",
      "NaN, Skipping!\n",
      "Threshold  nan Tbs_Free_Gb\n",
      "NaN, Skipping!"
     ]
    },
    {
     "name": "stderr",
     "output_type": "stream",
     "text": [
      "<ipython-input-106-934139de14b0>:27: UserWarning: Boolean Series key will be reindexed to match DataFrame index.\n",
      "  df_hk = df[df.cmdb_id == host][df.name == kpi]\n",
      "<ipython-input-106-934139de14b0>:27: UserWarning: Boolean Series key will be reindexed to match DataFrame index.\n",
      "  df_hk = df[df.cmdb_id == host][df.name == kpi]\n",
      "<ipython-input-106-934139de14b0>:27: UserWarning: Boolean Series key will be reindexed to match DataFrame index.\n",
      "  df_hk = df[df.cmdb_id == host][df.name == kpi]\n"
     ]
    },
    {
     "name": "stdout",
     "output_type": "stream",
     "text": [
      "\n",
      "Threshold  0.7338003868235479 UndoTbs_Pct\n",
      "Threshold  0.8057745209661985 DbFile_Used_Pct\n",
      "No valid data to use, skipping\n",
      "db_006  completed in  3.364905834197998\n",
      "************************************************************\n",
      "Checking  db_009\n",
      "Threshold  0.8589354471840401 CPU_free_pct\n",
      "[1 1 0 0 0 0 0 0 0 0 0 0 0 0 0 0 0 0 0 0 0 0 0 0 0 0 0 0 0 1]\n",
      "ST Threshold Anomaly!\n",
      "Threshold  0.835649305269362 MEM_real_util\n",
      "[1 1 0 0 0 0 0 0 0 0 0 0 0 0 0 0 0 0 0 0 0 0 0 0 0 0 0 0 0 1]\n",
      "ST Threshold Anomaly!\n",
      "Threshold  0.8617160053815505 tnsping_result_time\n"
     ]
    },
    {
     "name": "stderr",
     "output_type": "stream",
     "text": [
      "<ipython-input-106-934139de14b0>:27: UserWarning: Boolean Series key will be reindexed to match DataFrame index.\n",
      "  df_hk = df[df.cmdb_id == host][df.name == kpi]\n",
      "/Users/baconbaker/anaconda3/envs/ml/lib/python3.8/site-packages/alibi_detect/od/sr.py:96: RuntimeWarning: divide by zero encountered in log\n",
      "  log_amp = np.log(amp)\n",
      "/Users/baconbaker/anaconda3/envs/ml/lib/python3.8/site-packages/alibi_detect/od/sr.py:99: RuntimeWarning: invalid value encountered in subtract\n",
      "  res_amp = log_amp - ma_log_amp\n",
      "/Users/baconbaker/anaconda3/envs/ml/lib/python3.8/site-packages/alibi_detect/od/sr.py:207: RuntimeWarning: invalid value encountered in greater\n",
      "  outlier_pred = (iscore > self.threshold).astype(int)\n",
      "<ipython-input-106-934139de14b0>:27: UserWarning: Boolean Series key will be reindexed to match DataFrame index.\n",
      "  df_hk = df[df.cmdb_id == host][df.name == kpi]\n",
      "<ipython-input-106-934139de14b0>:27: UserWarning: Boolean Series key will be reindexed to match DataFrame index.\n",
      "  df_hk = df[df.cmdb_id == host][df.name == kpi]\n",
      "<ipython-input-106-934139de14b0>:27: UserWarning: Boolean Series key will be reindexed to match DataFrame index.\n",
      "  df_hk = df[df.cmdb_id == host][df.name == kpi]\n"
     ]
    },
    {
     "name": "stdout",
     "output_type": "stream",
     "text": [
      "[0 1 0 1 1 1 0 0 0 1 1 0 0 0 0 0 0 0 0 0 0 1 0 1 0 0 0 0 1 0]\n",
      "ST Threshold Anomaly!\n",
      "Threshold  0.8603896468902721 CPU_Used_Pct\n",
      "[1 0 0 0 0 0 0 0 0 0 0 0 0 0 0 0 0 0 0 0 0 0 0 0 0 0 0 0 0 1]\n",
      "ST Threshold Anomaly!\n",
      "Threshold  0.8575239216227586 MEM_Used\n",
      "[1 1 0 0 0 0 0 0 0 0 0 0 0 0 0 0 0 0 0 0 0 0 0 0 0 0 0 0 0 1]\n",
      "ST Threshold Anomaly!\n",
      "Threshold  nan MEM_Total\n",
      "NaN, Skipping!\n",
      "Threshold  0.8571448893935077 MEM_Used_Pct\n"
     ]
    },
    {
     "name": "stderr",
     "output_type": "stream",
     "text": [
      "<ipython-input-106-934139de14b0>:27: UserWarning: Boolean Series key will be reindexed to match DataFrame index.\n",
      "  df_hk = df[df.cmdb_id == host][df.name == kpi]\n",
      "<ipython-input-106-934139de14b0>:27: UserWarning: Boolean Series key will be reindexed to match DataFrame index.\n",
      "  df_hk = df[df.cmdb_id == host][df.name == kpi]\n",
      "<ipython-input-106-934139de14b0>:27: UserWarning: Boolean Series key will be reindexed to match DataFrame index.\n",
      "  df_hk = df[df.cmdb_id == host][df.name == kpi]\n",
      "<ipython-input-106-934139de14b0>:27: UserWarning: Boolean Series key will be reindexed to match DataFrame index.\n",
      "  df_hk = df[df.cmdb_id == host][df.name == kpi]\n"
     ]
    },
    {
     "name": "stdout",
     "output_type": "stream",
     "text": [
      "[1 1 0 0 0 0 0 0 0 0 0 0 0 0 0 0 0 0 0 0 0 0 0 0 0 0 0 0 0 1]\n",
      "ST Threshold Anomaly!\n",
      "Threshold  0.8574881886654268 Used_Tbs_Size\n",
      "[1 1 1 1 0 0 0 0 0 0 0 0 0 0 0 0 0 0 0 0 0 0 0 0 0 0 1 1 1 1]\n",
      "ST Threshold Anomaly!\n",
      "Threshold  nan SEQ_Used_Pct\n",
      "NaN, Skipping!\n",
      "Threshold  nan Asm_Free_Tb\n"
     ]
    },
    {
     "name": "stderr",
     "output_type": "stream",
     "text": [
      "<ipython-input-106-934139de14b0>:27: UserWarning: Boolean Series key will be reindexed to match DataFrame index.\n",
      "  df_hk = df[df.cmdb_id == host][df.name == kpi]\n",
      "<ipython-input-106-934139de14b0>:27: UserWarning: Boolean Series key will be reindexed to match DataFrame index.\n",
      "  df_hk = df[df.cmdb_id == host][df.name == kpi]\n",
      "<ipython-input-106-934139de14b0>:27: UserWarning: Boolean Series key will be reindexed to match DataFrame index.\n",
      "  df_hk = df[df.cmdb_id == host][df.name == kpi]\n"
     ]
    },
    {
     "name": "stdout",
     "output_type": "stream",
     "text": [
      "NaN, Skipping!\n",
      "Threshold  0.7035881099167249 PGA_used_total\n",
      "Threshold  4.738399467499086 Sess_Used_Undo\n",
      "Threshold  0.7424012179243844 Sess_Used_Temp\n"
     ]
    },
    {
     "name": "stderr",
     "output_type": "stream",
     "text": [
      "<ipython-input-106-934139de14b0>:27: UserWarning: Boolean Series key will be reindexed to match DataFrame index.\n",
      "  df_hk = df[df.cmdb_id == host][df.name == kpi]\n",
      "/Users/baconbaker/anaconda3/envs/ml/lib/python3.8/site-packages/alibi_detect/od/sr.py:96: RuntimeWarning: divide by zero encountered in log\n",
      "  log_amp = np.log(amp)\n",
      "/Users/baconbaker/anaconda3/envs/ml/lib/python3.8/site-packages/alibi_detect/od/sr.py:99: RuntimeWarning: invalid value encountered in subtract\n",
      "  res_amp = log_amp - ma_log_amp\n",
      "/Users/baconbaker/anaconda3/envs/ml/lib/python3.8/site-packages/alibi_detect/od/sr.py:207: RuntimeWarning: invalid value encountered in greater\n",
      "  outlier_pred = (iscore > self.threshold).astype(int)\n",
      "<ipython-input-106-934139de14b0>:27: UserWarning: Boolean Series key will be reindexed to match DataFrame index.\n",
      "  df_hk = df[df.cmdb_id == host][df.name == kpi]\n",
      "/Users/baconbaker/anaconda3/envs/ml/lib/python3.8/site-packages/alibi_detect/od/sr.py:96: RuntimeWarning: divide by zero encountered in log\n",
      "  log_amp = np.log(amp)\n",
      "/Users/baconbaker/anaconda3/envs/ml/lib/python3.8/site-packages/alibi_detect/od/sr.py:99: RuntimeWarning: invalid value encountered in subtract\n",
      "  res_amp = log_amp - ma_log_amp\n",
      "/Users/baconbaker/anaconda3/envs/ml/lib/python3.8/site-packages/alibi_detect/od/sr.py:207: RuntimeWarning: invalid value encountered in greater\n",
      "  outlier_pred = (iscore > self.threshold).astype(int)\n",
      "<ipython-input-106-934139de14b0>:27: UserWarning: Boolean Series key will be reindexed to match DataFrame index.\n",
      "  df_hk = df[df.cmdb_id == host][df.name == kpi]\n",
      "/Users/baconbaker/anaconda3/envs/ml/lib/python3.8/site-packages/alibi_detect/od/sr.py:96: RuntimeWarning: divide by zero encountered in log\n",
      "  log_amp = np.log(amp)\n",
      "/Users/baconbaker/anaconda3/envs/ml/lib/python3.8/site-packages/alibi_detect/od/sr.py:99: RuntimeWarning: invalid value encountered in subtract\n",
      "  res_amp = log_amp - ma_log_amp\n",
      "/Users/baconbaker/anaconda3/envs/ml/lib/python3.8/site-packages/alibi_detect/od/sr.py:207: RuntimeWarning: invalid value encountered in greater\n",
      "  outlier_pred = (iscore > self.threshold).astype(int)\n",
      "<ipython-input-106-934139de14b0>:27: UserWarning: Boolean Series key will be reindexed to match DataFrame index.\n",
      "  df_hk = df[df.cmdb_id == host][df.name == kpi]\n",
      "<ipython-input-106-934139de14b0>:27: UserWarning: Boolean Series key will be reindexed to match DataFrame index.\n",
      "  df_hk = df[df.cmdb_id == host][df.name == kpi]\n",
      "<ipython-input-106-934139de14b0>:27: UserWarning: Boolean Series key will be reindexed to match DataFrame index.\n",
      "  df_hk = df[df.cmdb_id == host][df.name == kpi]\n"
     ]
    },
    {
     "name": "stdout",
     "output_type": "stream",
     "text": [
      "Threshold  7.74362444142884 SctRead_Per_Sec\n",
      "Threshold  6.1138295236832585 SeqRead_Per_Sec\n",
      "Threshold  -1.0 DFParaWrite_Per_Sec\n",
      "Threshold  -1.0 PGA_Used_Pct\n",
      "Threshold  -1.0 Row_Lock\n",
      "Threshold  0.8545054606982997 Proc_Used_Pct\n"
     ]
    },
    {
     "name": "stderr",
     "output_type": "stream",
     "text": [
      "<ipython-input-106-934139de14b0>:27: UserWarning: Boolean Series key will be reindexed to match DataFrame index.\n",
      "  df_hk = df[df.cmdb_id == host][df.name == kpi]\n",
      "<ipython-input-106-934139de14b0>:27: UserWarning: Boolean Series key will be reindexed to match DataFrame index.\n",
      "  df_hk = df[df.cmdb_id == host][df.name == kpi]\n",
      "<ipython-input-106-934139de14b0>:27: UserWarning: Boolean Series key will be reindexed to match DataFrame index.\n",
      "  df_hk = df[df.cmdb_id == host][df.name == kpi]\n"
     ]
    },
    {
     "name": "stdout",
     "output_type": "stream",
     "text": [
      "[1 1 0 0 0 0 0 0 0 0 0 0 0 0 0 0 0 0 0 0 0 0 0 0 0 0 0 0 0 1]\n",
      "ST Threshold Anomaly!\n",
      "Threshold  1.2184388995507842 Session_pct\n",
      "Threshold  1.5461318873847643 LFParaWrite_Per_Sec\n",
      "[0 0 0 0 0 0 0 0 0 0 0 0 0 0 0 0 0 0 0 0 0 0 0 0 0 0 0 0 0 1]\n",
      "ST Threshold Anomaly!\n",
      "Threshold  3.7745640914995775 AWS\n"
     ]
    },
    {
     "name": "stderr",
     "output_type": "stream",
     "text": [
      "<ipython-input-106-934139de14b0>:27: UserWarning: Boolean Series key will be reindexed to match DataFrame index.\n",
      "  df_hk = df[df.cmdb_id == host][df.name == kpi]\n",
      "<ipython-input-106-934139de14b0>:27: UserWarning: Boolean Series key will be reindexed to match DataFrame index.\n",
      "  df_hk = df[df.cmdb_id == host][df.name == kpi]\n",
      "<ipython-input-106-934139de14b0>:27: UserWarning: Boolean Series key will be reindexed to match DataFrame index.\n",
      "  df_hk = df[df.cmdb_id == host][df.name == kpi]\n"
     ]
    },
    {
     "name": "stdout",
     "output_type": "stream",
     "text": [
      "Threshold  2.366993387263141 LFSync_Per_Sec\n",
      "[0 0 0 0 0 0 0 0 0 0 0 0 0 0 0 0 0 0 0 0 0 0 0 0 0 0 0 0 0 1]\n",
      "ST Threshold Anomaly!\n",
      "Threshold  0.8544808087826138 Proc_User_Used_Pct\n",
      "[1 1 0 0 0 0 0 0 0 0 0 0 0 0 0 0 0 0 0 0 0 0 0 0 0 0 0 0 0 1]\n",
      "ST Threshold Anomaly!\n",
      "Threshold  -1.0 AIOS\n",
      "Threshold "
     ]
    },
    {
     "name": "stderr",
     "output_type": "stream",
     "text": [
      "<ipython-input-106-934139de14b0>:27: UserWarning: Boolean Series key will be reindexed to match DataFrame index.\n",
      "  df_hk = df[df.cmdb_id == host][df.name == kpi]\n",
      "<ipython-input-106-934139de14b0>:27: UserWarning: Boolean Series key will be reindexed to match DataFrame index.\n",
      "  df_hk = df[df.cmdb_id == host][df.name == kpi]\n",
      "<ipython-input-106-934139de14b0>:27: UserWarning: Boolean Series key will be reindexed to match DataFrame index.\n",
      "  df_hk = df[df.cmdb_id == host][df.name == kpi]\n"
     ]
    },
    {
     "name": "stdout",
     "output_type": "stream",
     "text": [
      " 2.0381630683104652 ACS\n",
      "Threshold  nan On_Off_State\n",
      "NaN, Skipping!\n",
      "Threshold  0.8191283267144048 DbTime\n"
     ]
    },
    {
     "name": "stderr",
     "output_type": "stream",
     "text": [
      "<ipython-input-106-934139de14b0>:27: UserWarning: Boolean Series key will be reindexed to match DataFrame index.\n",
      "  df_hk = df[df.cmdb_id == host][df.name == kpi]\n",
      "<ipython-input-106-934139de14b0>:27: UserWarning: Boolean Series key will be reindexed to match DataFrame index.\n",
      "  df_hk = df[df.cmdb_id == host][df.name == kpi]\n",
      "<ipython-input-106-934139de14b0>:27: UserWarning: Boolean Series key will be reindexed to match DataFrame index.\n",
      "  df_hk = df[df.cmdb_id == host][df.name == kpi]\n"
     ]
    },
    {
     "name": "stdout",
     "output_type": "stream",
     "text": [
      "[1 1 0 0 0 0 0 0 0 0 0 0 0 0 0 0 0 0 0 0 0 0 0 0 0 0 0 0 0 1]\n",
      "ST Threshold Anomaly!\n",
      "Threshold  1.0579747045515824 Sess_Active\n",
      "Threshold  0.8394179930561563 Physical_Read_Per_Sec\n",
      "[1 1 0 0 0 0 0 1 1 1 0 0 0 0 0 0 0 1 1 1 0 0 0 0 0 0 0 1 1 0]\n",
      "ST Threshold Anomaly!\n",
      "Threshold  0.8318014976471275 Call_Per_Sec\n"
     ]
    },
    {
     "name": "stderr",
     "output_type": "stream",
     "text": [
      "<ipython-input-106-934139de14b0>:27: UserWarning: Boolean Series key will be reindexed to match DataFrame index.\n",
      "  df_hk = df[df.cmdb_id == host][df.name == kpi]\n",
      "<ipython-input-106-934139de14b0>:27: UserWarning: Boolean Series key will be reindexed to match DataFrame index.\n",
      "  df_hk = df[df.cmdb_id == host][df.name == kpi]\n",
      "<ipython-input-106-934139de14b0>:27: UserWarning: Boolean Series key will be reindexed to match DataFrame index.\n",
      "  df_hk = df[df.cmdb_id == host][df.name == kpi]\n"
     ]
    },
    {
     "name": "stdout",
     "output_type": "stream",
     "text": [
      "[1 1 0 0 0 0 0 0 0 0 0 0 0 0 0 0 0 0 0 0 0 0 0 0 0 0 0 0 0 1]\n",
      "ST Threshold Anomaly!\n",
      "Threshold  0.9935797887045406 Login_Per_Sec\n",
      "[0 1 0 0 0 0 0 0 0 0 0 0 0 0 0 0 0 0 0 0 0 0 0 0 0 0 0 0 1 0]\n",
      "ST Threshold Anomaly!\n",
      "Threshold  0.9330282298659696 User_Commit\n",
      "[1 0 0 0 0 0 0 0 0 0 0 0 0 0 0 0 0 0 0 0 0 0 0 0 0 0 0 0 0 1]\n",
      "ST Threshold Anomaly!\n",
      "Threshold  0.8572702877067843 Sess_Connect\n"
     ]
    },
    {
     "name": "stderr",
     "output_type": "stream",
     "text": [
      "<ipython-input-106-934139de14b0>:27: UserWarning: Boolean Series key will be reindexed to match DataFrame index.\n",
      "  df_hk = df[df.cmdb_id == host][df.name == kpi]\n",
      "<ipython-input-106-934139de14b0>:27: UserWarning: Boolean Series key will be reindexed to match DataFrame index.\n",
      "  df_hk = df[df.cmdb_id == host][df.name == kpi]\n",
      "<ipython-input-106-934139de14b0>:27: UserWarning: Boolean Series key will be reindexed to match DataFrame index.\n",
      "  df_hk = df[df.cmdb_id == host][df.name == kpi]\n"
     ]
    },
    {
     "name": "stdout",
     "output_type": "stream",
     "text": [
      "[1 1 0 0 0 0 0 0 0 0 0 0 0 0 0 0 0 0 0 0 0 0 0 0 0 0 0 0 0 1]\n",
      "ST Threshold Anomaly!\n",
      "Threshold  0.8504917333211922 Logic_Read_Per_Sec\n",
      "Threshold  0.8351603030404079 TPS_Per_Sec\n",
      "[1 1 0 0 0 0 0 0 0 0 0 0 0 0 0 0 0 0 0 0 0 0 0 0 0 0 0 0 0 1]\n",
      "ST Threshold Anomaly!\n",
      "Threshold  nan Hang\n",
      "NaN, Skipping!"
     ]
    },
    {
     "name": "stderr",
     "output_type": "stream",
     "text": [
      "<ipython-input-106-934139de14b0>:27: UserWarning: Boolean Series key will be reindexed to match DataFrame index.\n",
      "  df_hk = df[df.cmdb_id == host][df.name == kpi]\n",
      "<ipython-input-106-934139de14b0>:27: UserWarning: Boolean Series key will be reindexed to match DataFrame index.\n",
      "  df_hk = df[df.cmdb_id == host][df.name == kpi]\n",
      "<ipython-input-106-934139de14b0>:27: UserWarning: Boolean Series key will be reindexed to match DataFrame index.\n",
      "  df_hk = df[df.cmdb_id == host][df.name == kpi]\n"
     ]
    },
    {
     "name": "stdout",
     "output_type": "stream",
     "text": [
      "\n",
      "Threshold  0.8061056240356728 Redo_Per_Sec\n",
      "[1 0 0 0 0 0 0 0 0 0 0 0 0 0 0 0 0 0 0 0 0 0 0 0 0 0 0 0 0 1]\n",
      "ST Threshold Anomaly!\n",
      "Threshold  0.8350709775093127 Exec_Per_Sec\n",
      "[1 1 0 0 0 0 0 0 0 0 0 0 0 0 0 0 0 0 0 0 0 0 0 0 0 0 0 0 0 1]\n",
      "ST Threshold Anomaly!\n",
      "Threshold  1.0115214894623137 TempTbs_Pct\n"
     ]
    },
    {
     "name": "stderr",
     "output_type": "stream",
     "text": [
      "<ipython-input-106-934139de14b0>:27: UserWarning: Boolean Series key will be reindexed to match DataFrame index.\n",
      "  df_hk = df[df.cmdb_id == host][df.name == kpi]\n",
      "<ipython-input-106-934139de14b0>:27: UserWarning: Boolean Series key will be reindexed to match DataFrame index.\n",
      "  df_hk = df[df.cmdb_id == host][df.name == kpi]\n",
      "<ipython-input-106-934139de14b0>:27: UserWarning: Boolean Series key will be reindexed to match DataFrame index.\n",
      "  df_hk = df[df.cmdb_id == host][df.name == kpi]\n",
      "/Users/baconbaker/anaconda3/envs/ml/lib/python3.8/site-packages/alibi_detect/od/sr.py:96: RuntimeWarning: divide by zero encountered in log\n",
      "  log_amp = np.log(amp)\n",
      "/Users/baconbaker/anaconda3/envs/ml/lib/python3.8/site-packages/alibi_detect/od/sr.py:99: RuntimeWarning: invalid value encountered in subtract\n",
      "  res_amp = log_amp - ma_log_amp\n",
      "/Users/baconbaker/anaconda3/envs/ml/lib/python3.8/site-packages/alibi_detect/od/sr.py:207: RuntimeWarning: invalid value encountered in greater\n",
      "  outlier_pred = (iscore > self.threshold).astype(int)\n",
      "<ipython-input-106-934139de14b0>:27: UserWarning: Boolean Series key will be reindexed to match DataFrame index.\n",
      "  df_hk = df[df.cmdb_id == host][df.name == kpi]\n",
      "<ipython-input-106-934139de14b0>:27: UserWarning: Boolean Series key will be reindexed to match DataFrame index.\n",
      "  df_hk = df[df.cmdb_id == host][df.name == kpi]\n",
      "<ipython-input-106-934139de14b0>:27: UserWarning: Boolean Series key will be reindexed to match DataFrame index.\n",
      "  df_hk = df[df.cmdb_id == host][df.name == kpi]\n"
     ]
    },
    {
     "name": "stdout",
     "output_type": "stream",
     "text": [
      "Threshold  nan Total_Tbs_Size\n",
      "NaN, Skipping!\n",
      "Threshold  0.8544603280091769 New_Tbs_Free_Gb\n",
      "Threshold  1.0390606853058733 New_Tbs_Used_Pct\n",
      "[0 0 0 0 0 0 0 0 0 0 0 0 0 0 0 0 0 0 0 0 0 0 0 0 0 0 0 0 0 1]\n",
      "ST Threshold Anomaly!\n",
      "Threshold  nan Tbs_Used_Pct\n",
      "NaN, Skipping!\n",
      "Threshold  nan Tbs_Free_Gb\n",
      "NaN, Skipping!\n",
      "Threshold  1.055807675110314 UndoTbs_Pct\n"
     ]
    },
    {
     "name": "stderr",
     "output_type": "stream",
     "text": [
      "<ipython-input-106-934139de14b0>:27: UserWarning: Boolean Series key will be reindexed to match DataFrame index.\n",
      "  df_hk = df[df.cmdb_id == host][df.name == kpi]\n",
      "<ipython-input-106-934139de14b0>:27: UserWarning: Boolean Series key will be reindexed to match DataFrame index.\n",
      "  df_hk = df[df.cmdb_id == host][df.name == kpi]\n",
      "<ipython-input-106-934139de14b0>:27: UserWarning: Boolean Series key will be reindexed to match DataFrame index.\n",
      "  df_hk = df[df.cmdb_id == host][df.name == kpi]\n"
     ]
    },
    {
     "name": "stdout",
     "output_type": "stream",
     "text": [
      "Threshold  0.8807786689019281 DbFile_Used_Pct\n",
      "No valid data to use, skipping\n",
      "db_009  completed in  3.340500831604004\n",
      "************************************************************\n",
      "Checking  db_002\n",
      "Threshold  0.8507041380821855 CPU_free_pct\n",
      "[1 1 0 0 0 0 0 0 0 0 0 0 0 0 0 0 0 0 0 0 0 0 0 0 0 0 0 0 0 1]\n",
      "ST Threshold Anomaly!\n",
      "Threshold  0.8566633715662585 MEM_real_util\n",
      "[1 1 0 0 0 0 0 0 0 0 0 0 0 0 0 0 0 0 0 0 0 0 0 0 0 0 0 0 0 1]\n",
      "ST Threshold Anomaly!\n",
      "Threshold  0.7665864964883713 tnsping_result_time\n"
     ]
    },
    {
     "name": "stderr",
     "output_type": "stream",
     "text": [
      "<ipython-input-106-934139de14b0>:27: UserWarning: Boolean Series key will be reindexed to match DataFrame index.\n",
      "  df_hk = df[df.cmdb_id == host][df.name == kpi]\n",
      "<ipython-input-106-934139de14b0>:27: UserWarning: Boolean Series key will be reindexed to match DataFrame index.\n",
      "  df_hk = df[df.cmdb_id == host][df.name == kpi]\n",
      "<ipython-input-106-934139de14b0>:27: UserWarning: Boolean Series key will be reindexed to match DataFrame index.\n",
      "  df_hk = df[df.cmdb_id == host][df.name == kpi]\n"
     ]
    },
    {
     "name": "stdout",
     "output_type": "stream",
     "text": [
      "Threshold  0.9231338940922162 CPU_Used_Pct\n",
      "[1 0 0 0 0 0 0 0 0 0 0 0 0 0 0 0 0 0 0 0 0 0 0 0 0 0 0 0 1 0]\n",
      "ST Threshold Anomaly!\n",
      "Threshold  0.8576227910767548 MEM_Used\n",
      "[1 1 0 0 0 0 0 0 0 0 0 0 0 0 0 0 0 0 0 0 0 0 0 0 0 0 0 0 0 1]\n",
      "ST Threshold Anomaly!\n",
      "Threshold  nan MEM_Total\n"
     ]
    },
    {
     "name": "stderr",
     "output_type": "stream",
     "text": [
      "<ipython-input-106-934139de14b0>:27: UserWarning: Boolean Series key will be reindexed to match DataFrame index.\n",
      "  df_hk = df[df.cmdb_id == host][df.name == kpi]\n",
      "<ipython-input-106-934139de14b0>:27: UserWarning: Boolean Series key will be reindexed to match DataFrame index.\n",
      "  df_hk = df[df.cmdb_id == host][df.name == kpi]\n",
      "<ipython-input-106-934139de14b0>:27: UserWarning: Boolean Series key will be reindexed to match DataFrame index.\n",
      "  df_hk = df[df.cmdb_id == host][df.name == kpi]\n"
     ]
    },
    {
     "name": "stdout",
     "output_type": "stream",
     "text": [
      "NaN, Skipping!\n",
      "Threshold  0.856519421053642 MEM_Used_Pct\n",
      "[1 1 0 0 0 0 0 0 0 0 0 0 0 0 0 0 0 0 0 0 0 0 0 0 0 0 0 0 0 1]\n",
      "ST Threshold Anomaly!\n",
      "Threshold  0.8576605460114304 Used_Tbs_Size\n",
      "[1 1 1 1 0 0 0 0 0 0 0 0 0 0 0 0 0 0 0 0 0 0 0 0 0 0 1 1 1 1]\n",
      "ST Threshold Anomaly!\n",
      "Threshold  nan SEQ_Used_Pct\n"
     ]
    },
    {
     "name": "stderr",
     "output_type": "stream",
     "text": [
      "<ipython-input-106-934139de14b0>:27: UserWarning: Boolean Series key will be reindexed to match DataFrame index.\n",
      "  df_hk = df[df.cmdb_id == host][df.name == kpi]\n",
      "<ipython-input-106-934139de14b0>:27: UserWarning: Boolean Series key will be reindexed to match DataFrame index.\n",
      "  df_hk = df[df.cmdb_id == host][df.name == kpi]\n",
      "<ipython-input-106-934139de14b0>:27: UserWarning: Boolean Series key will be reindexed to match DataFrame index.\n",
      "  df_hk = df[df.cmdb_id == host][df.name == kpi]\n"
     ]
    },
    {
     "name": "stdout",
     "output_type": "stream",
     "text": [
      "NaN, Skipping!\n",
      "Threshold  nan Asm_Free_Tb\n",
      "NaN, Skipping!\n",
      "Threshold  nan PGA_used_total\n",
      "NaN, Skipping!\n",
      "Threshold  1.917874161609036 Sess_Used_Undo\n"
     ]
    },
    {
     "name": "stderr",
     "output_type": "stream",
     "text": [
      "<ipython-input-106-934139de14b0>:27: UserWarning: Boolean Series key will be reindexed to match DataFrame index.\n",
      "  df_hk = df[df.cmdb_id == host][df.name == kpi]\n",
      "<ipython-input-106-934139de14b0>:27: UserWarning: Boolean Series key will be reindexed to match DataFrame index.\n",
      "  df_hk = df[df.cmdb_id == host][df.name == kpi]\n",
      "<ipython-input-106-934139de14b0>:27: UserWarning: Boolean Series key will be reindexed to match DataFrame index.\n",
      "  df_hk = df[df.cmdb_id == host][df.name == kpi]\n",
      "/Users/baconbaker/anaconda3/envs/ml/lib/python3.8/site-packages/alibi_detect/od/sr.py:96: RuntimeWarning: divide by zero encountered in log\n",
      "  log_amp = np.log(amp)\n",
      "/Users/baconbaker/anaconda3/envs/ml/lib/python3.8/site-packages/alibi_detect/od/sr.py:99: RuntimeWarning: invalid value encountered in subtract\n",
      "  res_amp = log_amp - ma_log_amp\n",
      "/Users/baconbaker/anaconda3/envs/ml/lib/python3.8/site-packages/alibi_detect/od/sr.py:207: RuntimeWarning: invalid value encountered in greater\n",
      "  outlier_pred = (iscore > self.threshold).astype(int)\n",
      "<ipython-input-106-934139de14b0>:27: UserWarning: Boolean Series key will be reindexed to match DataFrame index.\n",
      "  df_hk = df[df.cmdb_id == host][df.name == kpi]\n",
      "<ipython-input-106-934139de14b0>:27: UserWarning: Boolean Series key will be reindexed to match DataFrame index.\n",
      "  df_hk = df[df.cmdb_id == host][df.name == kpi]\n",
      "/Users/baconbaker/anaconda3/envs/ml/lib/python3.8/site-packages/alibi_detect/od/sr.py:96: RuntimeWarning: divide by zero encountered in log\n",
      "  log_amp = np.log(amp)\n",
      "/Users/baconbaker/anaconda3/envs/ml/lib/python3.8/site-packages/alibi_detect/od/sr.py:99: RuntimeWarning: invalid value encountered in subtract\n",
      "  res_amp = log_amp - ma_log_amp\n",
      "/Users/baconbaker/anaconda3/envs/ml/lib/python3.8/site-packages/alibi_detect/od/sr.py:207: RuntimeWarning: invalid value encountered in greater\n",
      "  outlier_pred = (iscore > self.threshold).astype(int)\n",
      "<ipython-input-106-934139de14b0>:27: UserWarning: Boolean Series key will be reindexed to match DataFrame index.\n",
      "  df_hk = df[df.cmdb_id == host][df.name == kpi]\n"
     ]
    },
    {
     "name": "stdout",
     "output_type": "stream",
     "text": [
      "Threshold  -1.0 Sess_Used_Temp\n",
      "Threshold  1.375329339239337 SctRead_Per_Sec\n",
      "Threshold  2.2642661350043136 SeqRead_Per_Sec\n",
      "Threshold  1.228237625174831 DFParaWrite_Per_Sec\n",
      "Threshold  -1.0 PGA_Used_Pct\n",
      "Threshold  -1.0 Row_Lock\n"
     ]
    },
    {
     "name": "stderr",
     "output_type": "stream",
     "text": [
      "<ipython-input-106-934139de14b0>:27: UserWarning: Boolean Series key will be reindexed to match DataFrame index.\n",
      "  df_hk = df[df.cmdb_id == host][df.name == kpi]\n",
      "<ipython-input-106-934139de14b0>:27: UserWarning: Boolean Series key will be reindexed to match DataFrame index.\n",
      "  df_hk = df[df.cmdb_id == host][df.name == kpi]\n",
      "<ipython-input-106-934139de14b0>:27: UserWarning: Boolean Series key will be reindexed to match DataFrame index.\n",
      "  df_hk = df[df.cmdb_id == host][df.name == kpi]\n"
     ]
    },
    {
     "name": "stdout",
     "output_type": "stream",
     "text": [
      "Threshold  0.8608793752563314 Proc_Used_Pct\n",
      "[1 1 0 0 0 0 0 0 0 0 0 0 0 0 0 0 0 0 0 0 0 0 0 0 0 0 0 0 0 1]\n",
      "ST Threshold Anomaly!\n",
      "Threshold  3.5821894127853167 Session_pct\n",
      "Threshold  1.4448157810825544 LFParaWrite_Per_Sec\n"
     ]
    },
    {
     "name": "stderr",
     "output_type": "stream",
     "text": [
      "<ipython-input-106-934139de14b0>:27: UserWarning: Boolean Series key will be reindexed to match DataFrame index.\n",
      "  df_hk = df[df.cmdb_id == host][df.name == kpi]\n",
      "<ipython-input-106-934139de14b0>:27: UserWarning: Boolean Series key will be reindexed to match DataFrame index.\n",
      "  df_hk = df[df.cmdb_id == host][df.name == kpi]\n",
      "<ipython-input-106-934139de14b0>:27: UserWarning: Boolean Series key will be reindexed to match DataFrame index.\n",
      "  df_hk = df[df.cmdb_id == host][df.name == kpi]\n"
     ]
    },
    {
     "name": "stdout",
     "output_type": "stream",
     "text": [
      "Threshold  2.8421759245981733 AWS\n",
      "Threshold  1.4099046746390624 LFSync_Per_Sec\n",
      "Threshold  0.8686194413567248 Proc_User_Used_Pct\n"
     ]
    },
    {
     "name": "stderr",
     "output_type": "stream",
     "text": [
      "<ipython-input-106-934139de14b0>:27: UserWarning: Boolean Series key will be reindexed to match DataFrame index.\n",
      "  df_hk = df[df.cmdb_id == host][df.name == kpi]\n",
      "<ipython-input-106-934139de14b0>:27: UserWarning: Boolean Series key will be reindexed to match DataFrame index.\n",
      "  df_hk = df[df.cmdb_id == host][df.name == kpi]\n",
      "<ipython-input-106-934139de14b0>:27: UserWarning: Boolean Series key will be reindexed to match DataFrame index.\n",
      "  df_hk = df[df.cmdb_id == host][df.name == kpi]\n"
     ]
    },
    {
     "name": "stdout",
     "output_type": "stream",
     "text": [
      "[1 1 0 0 0 0 0 0 0 0 0 0 0 0 0 0 0 0 0 0 0 0 0 0 0 0 0 0 0 1]\n",
      "ST Threshold Anomaly!\n",
      "Threshold  5.9956637616325255 AIOS\n",
      "Threshold  1.9997054124646656 ACS\n",
      "Threshold  nan On_Off_State\n"
     ]
    },
    {
     "name": "stderr",
     "output_type": "stream",
     "text": [
      "<ipython-input-106-934139de14b0>:27: UserWarning: Boolean Series key will be reindexed to match DataFrame index.\n",
      "  df_hk = df[df.cmdb_id == host][df.name == kpi]\n",
      "/Users/baconbaker/anaconda3/envs/ml/lib/python3.8/site-packages/alibi_detect/od/sr.py:96: RuntimeWarning: divide by zero encountered in log\n",
      "  log_amp = np.log(amp)\n",
      "/Users/baconbaker/anaconda3/envs/ml/lib/python3.8/site-packages/alibi_detect/od/sr.py:99: RuntimeWarning: invalid value encountered in subtract\n",
      "  res_amp = log_amp - ma_log_amp\n",
      "/Users/baconbaker/anaconda3/envs/ml/lib/python3.8/site-packages/alibi_detect/od/sr.py:207: RuntimeWarning: invalid value encountered in greater\n",
      "  outlier_pred = (iscore > self.threshold).astype(int)\n",
      "<ipython-input-106-934139de14b0>:27: UserWarning: Boolean Series key will be reindexed to match DataFrame index.\n",
      "  df_hk = df[df.cmdb_id == host][df.name == kpi]\n",
      "<ipython-input-106-934139de14b0>:27: UserWarning: Boolean Series key will be reindexed to match DataFrame index.\n",
      "  df_hk = df[df.cmdb_id == host][df.name == kpi]\n"
     ]
    },
    {
     "name": "stdout",
     "output_type": "stream",
     "text": [
      "NaN, Skipping!\n",
      "Threshold  0.7796168741311208 DbTime\n",
      "[0 0 0 0 0 0 0 0 0 0 0 0 0 0 0 0 0 0 0 0 0 0 0 0 0 0 0 0 1 0]\n",
      "ST Threshold Anomaly!\n",
      "Threshold  3.363940134856063 Sess_Active\n",
      "Threshold  5.8651411080492055 Physical_Read_Per_Sec\n"
     ]
    },
    {
     "name": "stderr",
     "output_type": "stream",
     "text": [
      "<ipython-input-106-934139de14b0>:27: UserWarning: Boolean Series key will be reindexed to match DataFrame index.\n",
      "  df_hk = df[df.cmdb_id == host][df.name == kpi]\n",
      "<ipython-input-106-934139de14b0>:27: UserWarning: Boolean Series key will be reindexed to match DataFrame index.\n",
      "  df_hk = df[df.cmdb_id == host][df.name == kpi]\n",
      "<ipython-input-106-934139de14b0>:27: UserWarning: Boolean Series key will be reindexed to match DataFrame index.\n",
      "  df_hk = df[df.cmdb_id == host][df.name == kpi]\n"
     ]
    },
    {
     "name": "stdout",
     "output_type": "stream",
     "text": [
      "Threshold  0.8373607729064808 Call_Per_Sec\n",
      "Threshold  2.57729769196752 Login_Per_Sec\n",
      "Threshold  0.878713008502616 User_Commit\n"
     ]
    },
    {
     "name": "stderr",
     "output_type": "stream",
     "text": [
      "<ipython-input-106-934139de14b0>:27: UserWarning: Boolean Series key will be reindexed to match DataFrame index.\n",
      "  df_hk = df[df.cmdb_id == host][df.name == kpi]\n",
      "<ipython-input-106-934139de14b0>:27: UserWarning: Boolean Series key will be reindexed to match DataFrame index.\n",
      "  df_hk = df[df.cmdb_id == host][df.name == kpi]\n",
      "<ipython-input-106-934139de14b0>:27: UserWarning: Boolean Series key will be reindexed to match DataFrame index.\n",
      "  df_hk = df[df.cmdb_id == host][df.name == kpi]\n"
     ]
    },
    {
     "name": "stdout",
     "output_type": "stream",
     "text": [
      "[0 1 0 0 0 0 1 0 0 0 0 0 0 0 0 0 0 0 0 0 0 1 0 0 0 0 0 0 0 1]\n",
      "ST Threshold Anomaly!\n",
      "Threshold  0.8577406656099964 Sess_Connect\n",
      "[1 1 0 0 0 0 0 0 0 0 0 0 0 0 0 0 0 0 0 0 0 0 0 0 0 0 0 0 0 1]\n",
      "ST Threshold Anomaly!\n",
      "Threshold  0.8197899929970462 Logic_Read_Per_Sec\n",
      "[0 0 0 0 0 0 1 0 0 0 0 0 0 0 0 0 0 0 1 0 0 0 0 0 0 0 1 1 1 0]\n",
      "ST Threshold Anomaly!\n",
      "Threshold  0.8516144685630648 TPS_Per_Sec\n"
     ]
    },
    {
     "name": "stderr",
     "output_type": "stream",
     "text": [
      "<ipython-input-106-934139de14b0>:27: UserWarning: Boolean Series key will be reindexed to match DataFrame index.\n",
      "  df_hk = df[df.cmdb_id == host][df.name == kpi]\n",
      "<ipython-input-106-934139de14b0>:27: UserWarning: Boolean Series key will be reindexed to match DataFrame index.\n",
      "  df_hk = df[df.cmdb_id == host][df.name == kpi]\n",
      "<ipython-input-106-934139de14b0>:27: UserWarning: Boolean Series key will be reindexed to match DataFrame index.\n",
      "  df_hk = df[df.cmdb_id == host][df.name == kpi]\n"
     ]
    },
    {
     "name": "stdout",
     "output_type": "stream",
     "text": [
      "[1 0 0 0 0 0 0 0 0 0 0 0 0 0 0 0 0 0 0 0 0 0 0 0 0 0 0 0 0 1]\n",
      "ST Threshold Anomaly!\n",
      "Threshold  nan Hang\n",
      "NaN, Skipping!\n",
      "Threshold  0.850994468658687 Redo_Per_Sec\n",
      "Threshold  0.931092269044264 Exec_Per_Sec\n"
     ]
    },
    {
     "name": "stderr",
     "output_type": "stream",
     "text": [
      "<ipython-input-106-934139de14b0>:27: UserWarning: Boolean Series key will be reindexed to match DataFrame index.\n",
      "  df_hk = df[df.cmdb_id == host][df.name == kpi]\n",
      "<ipython-input-106-934139de14b0>:27: UserWarning: Boolean Series key will be reindexed to match DataFrame index.\n",
      "  df_hk = df[df.cmdb_id == host][df.name == kpi]\n",
      "<ipython-input-106-934139de14b0>:27: UserWarning: Boolean Series key will be reindexed to match DataFrame index.\n",
      "  df_hk = df[df.cmdb_id == host][df.name == kpi]\n"
     ]
    },
    {
     "name": "stdout",
     "output_type": "stream",
     "text": [
      "Threshold  -1.0 TempTbs_Pct\n",
      "Threshold  nan Total_Tbs_Size\n",
      "NaN, Skipping!\n",
      "Threshold  0.8228520666324666 New_Tbs_Free_Gb\n"
     ]
    },
    {
     "name": "stderr",
     "output_type": "stream",
     "text": [
      "<ipython-input-106-934139de14b0>:27: UserWarning: Boolean Series key will be reindexed to match DataFrame index.\n",
      "  df_hk = df[df.cmdb_id == host][df.name == kpi]\n",
      "<ipython-input-106-934139de14b0>:27: UserWarning: Boolean Series key will be reindexed to match DataFrame index.\n",
      "  df_hk = df[df.cmdb_id == host][df.name == kpi]\n",
      "<ipython-input-106-934139de14b0>:27: UserWarning: Boolean Series key will be reindexed to match DataFrame index.\n",
      "  df_hk = df[df.cmdb_id == host][df.name == kpi]\n"
     ]
    },
    {
     "name": "stdout",
     "output_type": "stream",
     "text": [
      "[1 1 1 1 0 0 0 0 0 0 0 0 0 0 0 0 0 0 0 0 0 0 0 0 0 0 1 1 1 1]\n",
      "ST Threshold Anomaly!\n",
      "Threshold  0.8362052250734988 New_Tbs_Used_Pct\n",
      "[1 1 1 1 1 1 1 1 1 0 0 0 0 0 0 0 0 0 0 0 0 0 0 0 0 0 0 1 1 1]\n",
      "ST Threshold Anomaly!\n",
      "Threshold  nan Tbs_Used_Pct\n",
      "NaN, Skipping!\n",
      "Threshold  0.8088381354356478 Tbs_Free_Gb\n"
     ]
    },
    {
     "name": "stderr",
     "output_type": "stream",
     "text": [
      "<ipython-input-106-934139de14b0>:27: UserWarning: Boolean Series key will be reindexed to match DataFrame index.\n",
      "  df_hk = df[df.cmdb_id == host][df.name == kpi]\n",
      "<ipython-input-106-934139de14b0>:27: UserWarning: Boolean Series key will be reindexed to match DataFrame index.\n",
      "  df_hk = df[df.cmdb_id == host][df.name == kpi]\n",
      "<ipython-input-106-934139de14b0>:27: UserWarning: Boolean Series key will be reindexed to match DataFrame index.\n",
      "  df_hk = df[df.cmdb_id == host][df.name == kpi]\n",
      "/Users/baconbaker/anaconda3/envs/ml/lib/python3.8/site-packages/alibi_detect/od/sr.py:96: RuntimeWarning: divide by zero encountered in log\n",
      "  log_amp = np.log(amp)\n",
      "/Users/baconbaker/anaconda3/envs/ml/lib/python3.8/site-packages/alibi_detect/od/sr.py:99: RuntimeWarning: invalid value encountered in subtract\n",
      "  res_amp = log_amp - ma_log_amp\n",
      "/Users/baconbaker/anaconda3/envs/ml/lib/python3.8/site-packages/alibi_detect/od/sr.py:207: RuntimeWarning: invalid value encountered in greater\n",
      "  outlier_pred = (iscore > self.threshold).astype(int)\n",
      "<ipython-input-106-934139de14b0>:27: UserWarning: Boolean Series key will be reindexed to match DataFrame index.\n",
      "  df_hk = df[df.cmdb_id == host][df.name == kpi]\n",
      "<ipython-input-106-934139de14b0>:27: UserWarning: Boolean Series key will be reindexed to match DataFrame index.\n",
      "  df_hk = df[df.cmdb_id == host][df.name == kpi]\n",
      "<ipython-input-106-934139de14b0>:27: UserWarning: Boolean Series key will be reindexed to match DataFrame index.\n",
      "  df_hk = df[df.cmdb_id == host][df.name == kpi]\n"
     ]
    },
    {
     "name": "stdout",
     "output_type": "stream",
     "text": [
      "Threshold  0.8579240368690109 UndoTbs_Pct\n",
      "[1 1 0 0 0 0 0 0 0 0 0 0 0 0 0 0 0 0 0 0 0 0 0 0 0 0 0 0 0 1]\n",
      "ST Threshold Anomaly!\n",
      "Threshold  0.8688549579449741 DbFile_Used_Pct\n",
      "No valid data to use, skipping\n",
      "db_002  completed in  3.42085599899292\n",
      "************************************************************\n",
      "Checking  db_005\n",
      "Threshold  0.8555889338590901 CPU_free_pct\n",
      "[1 1 0 0 0 0 0 0 0 0 0 0 0 0 0 0 0 0 0 0 0 0 0 0 0 0 0 0 0 1]\n",
      "ST Threshold Anomaly!\n",
      "Threshold  0.8519099630629786 MEM_real_util\n"
     ]
    },
    {
     "name": "stderr",
     "output_type": "stream",
     "text": [
      "/Users/baconbaker/anaconda3/envs/ml/lib/python3.8/site-packages/alibi_detect/od/sr.py:96: RuntimeWarning: divide by zero encountered in log\n",
      "  log_amp = np.log(amp)\n",
      "/Users/baconbaker/anaconda3/envs/ml/lib/python3.8/site-packages/alibi_detect/od/sr.py:99: RuntimeWarning: invalid value encountered in subtract\n",
      "  res_amp = log_amp - ma_log_amp\n",
      "/Users/baconbaker/anaconda3/envs/ml/lib/python3.8/site-packages/alibi_detect/od/sr.py:207: RuntimeWarning: invalid value encountered in greater\n",
      "  outlier_pred = (iscore > self.threshold).astype(int)\n",
      "<ipython-input-106-934139de14b0>:27: UserWarning: Boolean Series key will be reindexed to match DataFrame index.\n",
      "  df_hk = df[df.cmdb_id == host][df.name == kpi]\n",
      "<ipython-input-106-934139de14b0>:27: UserWarning: Boolean Series key will be reindexed to match DataFrame index.\n",
      "  df_hk = df[df.cmdb_id == host][df.name == kpi]\n",
      "<ipython-input-106-934139de14b0>:27: UserWarning: Boolean Series key will be reindexed to match DataFrame index.\n",
      "  df_hk = df[df.cmdb_id == host][df.name == kpi]\n"
     ]
    },
    {
     "name": "stdout",
     "output_type": "stream",
     "text": [
      "Threshold  0.7597942518492974 tnsping_result_time\n",
      "Threshold  0.8883376010822426 CPU_Used_Pct\n",
      "[1 0 0 0 0 0 0 0 0 0 0 0 0 0 0 0 0 0 0 0 0 0 0 0 0 0 0 0 0 1]\n",
      "ST Threshold Anomaly!\n",
      "Threshold  0.8552345809207789 MEM_Used\n",
      "[1 1 0 0 0 0 0 0 0 0 0 0 0 0 0 0 0 0 0 0 0 0 0 0 0 0 0 0 0 1]\n",
      "ST Threshold Anomaly!\n",
      "Threshold  nan MEM_Total\n",
      "NaN, Skipping!\n",
      "Threshold  0.8503282020531792 MEM_Used_Pct\n",
      "[1 1 0 0 0 0 0 0 0 0 0 0 0 0 0 0 0 0 0 0 0 0 0 0 0 0 0 0 0 1]\n",
      "ST Threshold Anomaly!\n",
      "Threshold  0.8576664506010879 Used_Tbs_Size\n"
     ]
    },
    {
     "name": "stderr",
     "output_type": "stream",
     "text": [
      "<ipython-input-106-934139de14b0>:27: UserWarning: Boolean Series key will be reindexed to match DataFrame index.\n",
      "  df_hk = df[df.cmdb_id == host][df.name == kpi]\n",
      "<ipython-input-106-934139de14b0>:27: UserWarning: Boolean Series key will be reindexed to match DataFrame index.\n",
      "  df_hk = df[df.cmdb_id == host][df.name == kpi]\n",
      "<ipython-input-106-934139de14b0>:27: UserWarning: Boolean Series key will be reindexed to match DataFrame index.\n",
      "  df_hk = df[df.cmdb_id == host][df.name == kpi]\n"
     ]
    },
    {
     "name": "stdout",
     "output_type": "stream",
     "text": [
      "[1 1 1 1 0 0 0 0 0 0 0 0 0 0 0 0 0 0 0 0 0 0 0 0 0 0 1 1 1 1]\n",
      "ST Threshold Anomaly!\n",
      "Threshold  nan SEQ_Used_Pct\n",
      "NaN, Skipping!\n",
      "Threshold  nan Asm_Free_Tb\n",
      "NaN, Skipping!\n",
      "Threshold  nan PGA_used_total\n",
      "NaN, Skipping!\n",
      "Threshold  -1.0 Sess_Used_Undo\n"
     ]
    },
    {
     "name": "stderr",
     "output_type": "stream",
     "text": [
      "<ipython-input-106-934139de14b0>:27: UserWarning: Boolean Series key will be reindexed to match DataFrame index.\n",
      "  df_hk = df[df.cmdb_id == host][df.name == kpi]\n",
      "<ipython-input-106-934139de14b0>:27: UserWarning: Boolean Series key will be reindexed to match DataFrame index.\n",
      "  df_hk = df[df.cmdb_id == host][df.name == kpi]\n",
      "<ipython-input-106-934139de14b0>:27: UserWarning: Boolean Series key will be reindexed to match DataFrame index.\n",
      "  df_hk = df[df.cmdb_id == host][df.name == kpi]\n",
      "<ipython-input-106-934139de14b0>:27: UserWarning: Boolean Series key will be reindexed to match DataFrame index.\n",
      "  df_hk = df[df.cmdb_id == host][df.name == kpi]\n",
      "<ipython-input-106-934139de14b0>:27: UserWarning: Boolean Series key will be reindexed to match DataFrame index.\n",
      "  df_hk = df[df.cmdb_id == host][df.name == kpi]\n",
      "<ipython-input-106-934139de14b0>:27: UserWarning: Boolean Series key will be reindexed to match DataFrame index.\n",
      "  df_hk = df[df.cmdb_id == host][df.name == kpi]\n"
     ]
    },
    {
     "name": "stdout",
     "output_type": "stream",
     "text": [
      "Threshold  -1.0 Sess_Used_Temp\n",
      "Threshold  -1.0 SctRead_Per_Sec\n",
      "Threshold  2.7340099591969462 SeqRead_Per_Sec\n"
     ]
    },
    {
     "name": "stderr",
     "output_type": "stream",
     "text": [
      "<ipython-input-106-934139de14b0>:27: UserWarning: Boolean Series key will be reindexed to match DataFrame index.\n",
      "  df_hk = df[df.cmdb_id == host][df.name == kpi]\n",
      "<ipython-input-106-934139de14b0>:27: UserWarning: Boolean Series key will be reindexed to match DataFrame index.\n",
      "  df_hk = df[df.cmdb_id == host][df.name == kpi]\n",
      "<ipython-input-106-934139de14b0>:27: UserWarning: Boolean Series key will be reindexed to match DataFrame index.\n",
      "  df_hk = df[df.cmdb_id == host][df.name == kpi]\n"
     ]
    },
    {
     "name": "stdout",
     "output_type": "stream",
     "text": [
      "Threshold  2.9736828945855587 DFParaWrite_Per_Sec\n",
      "Threshold  -1.0 PGA_Used_Pct\n",
      "Threshold  -1.0 Row_Lock\n"
     ]
    },
    {
     "name": "stderr",
     "output_type": "stream",
     "text": [
      "<ipython-input-106-934139de14b0>:27: UserWarning: Boolean Series key will be reindexed to match DataFrame index.\n",
      "  df_hk = df[df.cmdb_id == host][df.name == kpi]\n",
      "<ipython-input-106-934139de14b0>:27: UserWarning: Boolean Series key will be reindexed to match DataFrame index.\n",
      "  df_hk = df[df.cmdb_id == host][df.name == kpi]\n",
      "<ipython-input-106-934139de14b0>:27: UserWarning: Boolean Series key will be reindexed to match DataFrame index.\n",
      "  df_hk = df[df.cmdb_id == host][df.name == kpi]\n"
     ]
    },
    {
     "name": "stdout",
     "output_type": "stream",
     "text": [
      "Threshold  0.8506502839760759 Proc_Used_Pct\n",
      "[1 1 0 0 0 0 0 0 0 0 0 0 0 0 0 0 0 0 0 0 0 0 0 0 0 0 0 0 0 1]\n",
      "ST Threshold Anomaly!\n",
      "Threshold  5.613384008407541 Session_pct\n",
      "Threshold  0.8681756450110936 LFParaWrite_Per_Sec\n"
     ]
    },
    {
     "name": "stderr",
     "output_type": "stream",
     "text": [
      "<ipython-input-106-934139de14b0>:27: UserWarning: Boolean Series key will be reindexed to match DataFrame index.\n",
      "  df_hk = df[df.cmdb_id == host][df.name == kpi]\n",
      "<ipython-input-106-934139de14b0>:27: UserWarning: Boolean Series key will be reindexed to match DataFrame index.\n",
      "  df_hk = df[df.cmdb_id == host][df.name == kpi]\n",
      "<ipython-input-106-934139de14b0>:27: UserWarning: Boolean Series key will be reindexed to match DataFrame index.\n",
      "  df_hk = df[df.cmdb_id == host][df.name == kpi]\n"
     ]
    },
    {
     "name": "stdout",
     "output_type": "stream",
     "text": [
      "Threshold  1.45541741863296 AWS\n",
      "Threshold  3.5124650787706075 LFSync_Per_Sec\n",
      "Threshold  0.8506502839760759 Proc_User_Used_Pct\n"
     ]
    },
    {
     "name": "stderr",
     "output_type": "stream",
     "text": [
      "<ipython-input-106-934139de14b0>:27: UserWarning: Boolean Series key will be reindexed to match DataFrame index.\n",
      "  df_hk = df[df.cmdb_id == host][df.name == kpi]\n",
      "<ipython-input-106-934139de14b0>:27: UserWarning: Boolean Series key will be reindexed to match DataFrame index.\n",
      "  df_hk = df[df.cmdb_id == host][df.name == kpi]\n",
      "/Users/baconbaker/anaconda3/envs/ml/lib/python3.8/site-packages/alibi_detect/od/sr.py:96: RuntimeWarning: divide by zero encountered in log\n",
      "  log_amp = np.log(amp)\n",
      "/Users/baconbaker/anaconda3/envs/ml/lib/python3.8/site-packages/alibi_detect/od/sr.py:99: RuntimeWarning: invalid value encountered in subtract\n",
      "  res_amp = log_amp - ma_log_amp\n",
      "/Users/baconbaker/anaconda3/envs/ml/lib/python3.8/site-packages/alibi_detect/od/sr.py:207: RuntimeWarning: invalid value encountered in greater\n",
      "  outlier_pred = (iscore > self.threshold).astype(int)\n",
      "<ipython-input-106-934139de14b0>:27: UserWarning: Boolean Series key will be reindexed to match DataFrame index.\n",
      "  df_hk = df[df.cmdb_id == host][df.name == kpi]\n"
     ]
    },
    {
     "name": "stdout",
     "output_type": "stream",
     "text": [
      "[1 1 0 0 0 0 0 0 0 0 0 0 0 0 0 0 0 0 0 0 0 0 0 0 0 0 0 0 0 1]\n",
      "ST Threshold Anomaly!\n",
      "Threshold  15.94228142328043 AIOS\n",
      "Threshold  1.91766875142329 ACS\n",
      "Threshold  nan On_Off_State\n"
     ]
    },
    {
     "name": "stderr",
     "output_type": "stream",
     "text": [
      "<ipython-input-106-934139de14b0>:27: UserWarning: Boolean Series key will be reindexed to match DataFrame index.\n",
      "  df_hk = df[df.cmdb_id == host][df.name == kpi]\n",
      "<ipython-input-106-934139de14b0>:27: UserWarning: Boolean Series key will be reindexed to match DataFrame index.\n",
      "  df_hk = df[df.cmdb_id == host][df.name == kpi]\n",
      "<ipython-input-106-934139de14b0>:27: UserWarning: Boolean Series key will be reindexed to match DataFrame index.\n",
      "  df_hk = df[df.cmdb_id == host][df.name == kpi]\n"
     ]
    },
    {
     "name": "stdout",
     "output_type": "stream",
     "text": [
      "NaN, Skipping!\n",
      "Threshold  0.7720424841248461 DbTime\n",
      "Threshold  2.9214110120055405 Sess_Active\n",
      "Threshold  1.8839558369121243 Physical_Read_Per_Sec\n"
     ]
    },
    {
     "name": "stderr",
     "output_type": "stream",
     "text": [
      "<ipython-input-106-934139de14b0>:27: UserWarning: Boolean Series key will be reindexed to match DataFrame index.\n",
      "  df_hk = df[df.cmdb_id == host][df.name == kpi]\n",
      "<ipython-input-106-934139de14b0>:27: UserWarning: Boolean Series key will be reindexed to match DataFrame index.\n",
      "  df_hk = df[df.cmdb_id == host][df.name == kpi]\n",
      "<ipython-input-106-934139de14b0>:27: UserWarning: Boolean Series key will be reindexed to match DataFrame index.\n",
      "  df_hk = df[df.cmdb_id == host][df.name == kpi]\n"
     ]
    },
    {
     "name": "stdout",
     "output_type": "stream",
     "text": [
      "[1 0 0 0 0 0 0 1 1 0 0 0 0 0 0 0 0 0 1 0 0 0 0 0 0 0 0 1 1 0]\n",
      "ST Threshold Anomaly!\n",
      "Threshold  0.8548826767373092 Call_Per_Sec\n",
      "[1 0 0 0 0 0 0 0 0 0 0 0 0 0 0 0 0 0 0 0 0 0 0 0 0 0 0 0 0 1]\n",
      "ST Threshold Anomaly!\n",
      "Threshold  1.8730723423553528 Login_Per_Sec\n",
      "Threshold  7.815984664805156 User_Commit\n",
      "Threshold  0.856323864096067 Sess_Connect\n"
     ]
    },
    {
     "name": "stderr",
     "output_type": "stream",
     "text": [
      "<ipython-input-106-934139de14b0>:27: UserWarning: Boolean Series key will be reindexed to match DataFrame index.\n",
      "  df_hk = df[df.cmdb_id == host][df.name == kpi]\n",
      "<ipython-input-106-934139de14b0>:27: UserWarning: Boolean Series key will be reindexed to match DataFrame index.\n",
      "  df_hk = df[df.cmdb_id == host][df.name == kpi]\n",
      "<ipython-input-106-934139de14b0>:27: UserWarning: Boolean Series key will be reindexed to match DataFrame index.\n",
      "  df_hk = df[df.cmdb_id == host][df.name == kpi]\n"
     ]
    },
    {
     "name": "stdout",
     "output_type": "stream",
     "text": [
      "[1 1 0 0 0 0 0 0 0 0 0 0 0 0 0 0 0 0 0 0 0 0 0 0 0 0 0 0 0 1]\n",
      "ST Threshold Anomaly!\n",
      "Threshold  0.8491252538250215 Logic_Read_Per_Sec\n",
      "[0 0 0 0 0 0 0 0 0 0 0 0 0 0 0 0 0 0 0 0 0 0 0 0 0 0 0 0 1 0]\n",
      "ST Threshold Anomaly!\n",
      "Threshold  0.85210889672558 TPS_Per_Sec\n",
      "[1 0 0 0 0 0 0 0 0 0 0 0 0 0 0 0 0 0 0 0 0 0 0 0 0 0 0 0 0 1]\n",
      "ST Threshold Anomaly!\n",
      "Threshold  nan Hang\n"
     ]
    },
    {
     "name": "stderr",
     "output_type": "stream",
     "text": [
      "<ipython-input-106-934139de14b0>:27: UserWarning: Boolean Series key will be reindexed to match DataFrame index.\n",
      "  df_hk = df[df.cmdb_id == host][df.name == kpi]\n",
      "<ipython-input-106-934139de14b0>:27: UserWarning: Boolean Series key will be reindexed to match DataFrame index.\n",
      "  df_hk = df[df.cmdb_id == host][df.name == kpi]\n",
      "<ipython-input-106-934139de14b0>:27: UserWarning: Boolean Series key will be reindexed to match DataFrame index.\n",
      "  df_hk = df[df.cmdb_id == host][df.name == kpi]\n"
     ]
    },
    {
     "name": "stdout",
     "output_type": "stream",
     "text": [
      "NaN, Skipping!\n",
      "Threshold  0.8456674700782626 Redo_Per_Sec\n",
      "Threshold  0.8475411402458248 Exec_Per_Sec\n",
      "[0 0 0 0 0 0 0 0 0 0 0 0 0 0 0 0 0 0 0 0 0 0 0 0 0 0 0 0 1 0]\n",
      "ST Threshold Anomaly!\n",
      "Threshold  -1.0 TempTbs_Pct\n",
      "Threshold "
     ]
    },
    {
     "name": "stderr",
     "output_type": "stream",
     "text": [
      "<ipython-input-106-934139de14b0>:27: UserWarning: Boolean Series key will be reindexed to match DataFrame index.\n",
      "  df_hk = df[df.cmdb_id == host][df.name == kpi]\n",
      "<ipython-input-106-934139de14b0>:27: UserWarning: Boolean Series key will be reindexed to match DataFrame index.\n",
      "  df_hk = df[df.cmdb_id == host][df.name == kpi]\n",
      "<ipython-input-106-934139de14b0>:27: UserWarning: Boolean Series key will be reindexed to match DataFrame index.\n",
      "  df_hk = df[df.cmdb_id == host][df.name == kpi]\n"
     ]
    },
    {
     "name": "stdout",
     "output_type": "stream",
     "text": [
      " nan Total_Tbs_Size\n",
      "NaN, Skipping!\n",
      "Threshold  0.7606249761462444 New_Tbs_Free_Gb\n",
      "[1 0 0 0 0 0 0 0 0 0 0 0 0 0 0 0 0 0 0 0 0 1 1 1 1 1 1 1 1 1]\n",
      "ST Threshold Anomaly!\n",
      "Threshold  0.8304062237505916 New_Tbs_Used_Pct\n"
     ]
    },
    {
     "name": "stderr",
     "output_type": "stream",
     "text": [
      "<ipython-input-106-934139de14b0>:27: UserWarning: Boolean Series key will be reindexed to match DataFrame index.\n",
      "  df_hk = df[df.cmdb_id == host][df.name == kpi]\n",
      "<ipython-input-106-934139de14b0>:27: UserWarning: Boolean Series key will be reindexed to match DataFrame index.\n",
      "  df_hk = df[df.cmdb_id == host][df.name == kpi]\n",
      "<ipython-input-106-934139de14b0>:27: UserWarning: Boolean Series key will be reindexed to match DataFrame index.\n",
      "  df_hk = df[df.cmdb_id == host][df.name == kpi]\n",
      "<ipython-input-106-934139de14b0>:27: UserWarning: Boolean Series key will be reindexed to match DataFrame index.\n",
      "  df_hk = df[df.cmdb_id == host][df.name == kpi]\n"
     ]
    },
    {
     "name": "stdout",
     "output_type": "stream",
     "text": [
      "[1 0 0 0 0 0 0 0 0 0 0 0 0 0 0 0 0 0 0 0 0 0 0 0 0 0 0 0 0 1]\n",
      "ST Threshold Anomaly!\n",
      "Threshold  nan Tbs_Used_Pct\n",
      "NaN, Skipping!\n",
      "Threshold  0.8378505934642642 Tbs_Free_Gb\n",
      "Threshold  0.8550647228275816 UndoTbs_Pct\n"
     ]
    },
    {
     "name": "stderr",
     "output_type": "stream",
     "text": [
      "/Users/baconbaker/anaconda3/envs/ml/lib/python3.8/site-packages/alibi_detect/od/sr.py:96: RuntimeWarning: divide by zero encountered in log\n",
      "  log_amp = np.log(amp)\n",
      "/Users/baconbaker/anaconda3/envs/ml/lib/python3.8/site-packages/alibi_detect/od/sr.py:99: RuntimeWarning: invalid value encountered in subtract\n",
      "  res_amp = log_amp - ma_log_amp\n",
      "/Users/baconbaker/anaconda3/envs/ml/lib/python3.8/site-packages/alibi_detect/od/sr.py:207: RuntimeWarning: invalid value encountered in greater\n",
      "  outlier_pred = (iscore > self.threshold).astype(int)\n",
      "<ipython-input-106-934139de14b0>:27: UserWarning: Boolean Series key will be reindexed to match DataFrame index.\n",
      "  df_hk = df[df.cmdb_id == host][df.name == kpi]\n",
      "<ipython-input-106-934139de14b0>:27: UserWarning: Boolean Series key will be reindexed to match DataFrame index.\n",
      "  df_hk = df[df.cmdb_id == host][df.name == kpi]\n",
      "<ipython-input-106-934139de14b0>:27: UserWarning: Boolean Series key will be reindexed to match DataFrame index.\n",
      "  df_hk = df[df.cmdb_id == host][df.name == kpi]\n"
     ]
    },
    {
     "name": "stdout",
     "output_type": "stream",
     "text": [
      "[0 1 0 0 0 0 0 0 0 0 0 0 0 0 0 0 0 0 0 0 0 0 0 0 0 0 0 0 0 1]\n",
      "ST Threshold Anomaly!\n",
      "Threshold  0.7593508103301322 DbFile_Used_Pct\n",
      "No valid data to use, skipping\n",
      "db_005  completed in  3.371464967727661\n",
      "************************************************************\n",
      "Checking  db_013\n",
      "Threshold  0.8539187364876349 CPU_free_pct\n",
      "[1 1 0 0 0 0 0 0 0 0 0 0 0 0 0 0 0 0 0 0 0 0 0 0 0 0 0 0 0 1]\n",
      "ST Threshold Anomaly!\n",
      "Threshold  0.8564400780858444 MEM_real_util\n",
      "[1 1 0 0 0 0 0 0 0 0 0 0 0 0 0 0 0 0 0 0 0 0 0 0 0 0 0 0 0 1]\n",
      "ST Threshold Anomaly!\n",
      "Threshold  0.8780242161975518 tnsping_result_time\n",
      "Threshold  1.042606013459412 CPU_Used_Pct\n"
     ]
    },
    {
     "name": "stderr",
     "output_type": "stream",
     "text": [
      "<ipython-input-106-934139de14b0>:27: UserWarning: Boolean Series key will be reindexed to match DataFrame index.\n",
      "  df_hk = df[df.cmdb_id == host][df.name == kpi]\n",
      "<ipython-input-106-934139de14b0>:27: UserWarning: Boolean Series key will be reindexed to match DataFrame index.\n",
      "  df_hk = df[df.cmdb_id == host][df.name == kpi]\n",
      "<ipython-input-106-934139de14b0>:27: UserWarning: Boolean Series key will be reindexed to match DataFrame index.\n",
      "  df_hk = df[df.cmdb_id == host][df.name == kpi]\n",
      "<ipython-input-106-934139de14b0>:27: UserWarning: Boolean Series key will be reindexed to match DataFrame index.\n",
      "  df_hk = df[df.cmdb_id == host][df.name == kpi]\n"
     ]
    },
    {
     "name": "stdout",
     "output_type": "stream",
     "text": [
      "Threshold  0.8570366852463753 MEM_Used\n",
      "[1 1 0 0 0 0 0 0 0 0 0 0 0 0 0 0 0 0 0 0 0 0 0 0 0 0 0 0 0 1]\n",
      "ST Threshold Anomaly!\n",
      "Threshold  nan MEM_Total\n",
      "NaN, Skipping!\n",
      "Threshold  0.8570665670137687 MEM_Used_Pct\n",
      "[1 1 0 0 0 0 0 0 0 0 0 0 0 0 0 0 0 0 0 0 0 0 0 0 0 0 0 0 0 1]\n",
      "ST Threshold Anomaly!\n",
      "Threshold  0.8576330713945151 Used_Tbs_Size\n"
     ]
    },
    {
     "name": "stderr",
     "output_type": "stream",
     "text": [
      "<ipython-input-106-934139de14b0>:27: UserWarning: Boolean Series key will be reindexed to match DataFrame index.\n",
      "  df_hk = df[df.cmdb_id == host][df.name == kpi]\n",
      "<ipython-input-106-934139de14b0>:27: UserWarning: Boolean Series key will be reindexed to match DataFrame index.\n",
      "  df_hk = df[df.cmdb_id == host][df.name == kpi]\n",
      "<ipython-input-106-934139de14b0>:27: UserWarning: Boolean Series key will be reindexed to match DataFrame index.\n",
      "  df_hk = df[df.cmdb_id == host][df.name == kpi]\n",
      "<ipython-input-106-934139de14b0>:27: UserWarning: Boolean Series key will be reindexed to match DataFrame index.\n",
      "  df_hk = df[df.cmdb_id == host][df.name == kpi]\n"
     ]
    },
    {
     "name": "stdout",
     "output_type": "stream",
     "text": [
      "[1 1 0 0 0 0 0 0 0 0 0 0 0 0 0 0 0 0 0 0 0 0 0 0 0 0 0 0 0 1]\n",
      "ST Threshold Anomaly!\n",
      "Threshold  nan SEQ_Used_Pct\n",
      "NaN, Skipping!\n",
      "Threshold  nan Asm_Free_Tb\n",
      "NaN, Skipping!\n",
      "Threshold  nan PGA_used_total\n",
      "NaN, Skipping!"
     ]
    },
    {
     "name": "stderr",
     "output_type": "stream",
     "text": [
      "<ipython-input-106-934139de14b0>:27: UserWarning: Boolean Series key will be reindexed to match DataFrame index.\n",
      "  df_hk = df[df.cmdb_id == host][df.name == kpi]\n",
      "<ipython-input-106-934139de14b0>:27: UserWarning: Boolean Series key will be reindexed to match DataFrame index.\n",
      "  df_hk = df[df.cmdb_id == host][df.name == kpi]\n",
      "<ipython-input-106-934139de14b0>:27: UserWarning: Boolean Series key will be reindexed to match DataFrame index.\n",
      "  df_hk = df[df.cmdb_id == host][df.name == kpi]\n"
     ]
    },
    {
     "name": "stdout",
     "output_type": "stream",
     "text": [
      "\n",
      "Threshold  -1.0 Sess_Used_Undo\n",
      "Threshold  -1.0 Sess_Used_Temp\n",
      "Threshold  -1.0 SctRead_Per_Sec\n",
      "Threshold "
     ]
    },
    {
     "name": "stderr",
     "output_type": "stream",
     "text": [
      "<ipython-input-106-934139de14b0>:27: UserWarning: Boolean Series key will be reindexed to match DataFrame index.\n",
      "  df_hk = df[df.cmdb_id == host][df.name == kpi]\n",
      "<ipython-input-106-934139de14b0>:27: UserWarning: Boolean Series key will be reindexed to match DataFrame index.\n",
      "  df_hk = df[df.cmdb_id == host][df.name == kpi]\n",
      "<ipython-input-106-934139de14b0>:27: UserWarning: Boolean Series key will be reindexed to match DataFrame index.\n",
      "  df_hk = df[df.cmdb_id == host][df.name == kpi]\n"
     ]
    },
    {
     "name": "stdout",
     "output_type": "stream",
     "text": [
      " 3.2560529076802425 SeqRead_Per_Sec\n",
      "Threshold  7.5027267694713 DFParaWrite_Per_Sec\n",
      "Threshold  -1.0 PGA_Used_Pct\n"
     ]
    },
    {
     "name": "stderr",
     "output_type": "stream",
     "text": [
      "<ipython-input-106-934139de14b0>:27: UserWarning: Boolean Series key will be reindexed to match DataFrame index.\n",
      "  df_hk = df[df.cmdb_id == host][df.name == kpi]\n",
      "<ipython-input-106-934139de14b0>:27: UserWarning: Boolean Series key will be reindexed to match DataFrame index.\n",
      "  df_hk = df[df.cmdb_id == host][df.name == kpi]\n",
      "<ipython-input-106-934139de14b0>:27: UserWarning: Boolean Series key will be reindexed to match DataFrame index.\n",
      "  df_hk = df[df.cmdb_id == host][df.name == kpi]\n"
     ]
    },
    {
     "name": "stdout",
     "output_type": "stream",
     "text": [
      "Threshold  -1.0 Row_Lock\n",
      "Threshold  0.8589687436833648 Proc_Used_Pct\n",
      "[1 1 0 0 0 0 0 0 0 0 0 0 0 0 0 0 0 0 0 0 0 0 0 0 0 0 0 0 0 1]\n",
      "ST Threshold Anomaly!\n",
      "Threshold  4.231016749892116 Session_pct\n"
     ]
    },
    {
     "name": "stderr",
     "output_type": "stream",
     "text": [
      "<ipython-input-106-934139de14b0>:27: UserWarning: Boolean Series key will be reindexed to match DataFrame index.\n",
      "  df_hk = df[df.cmdb_id == host][df.name == kpi]\n",
      "<ipython-input-106-934139de14b0>:27: UserWarning: Boolean Series key will be reindexed to match DataFrame index.\n",
      "  df_hk = df[df.cmdb_id == host][df.name == kpi]\n",
      "<ipython-input-106-934139de14b0>:27: UserWarning: Boolean Series key will be reindexed to match DataFrame index.\n",
      "  df_hk = df[df.cmdb_id == host][df.name == kpi]\n"
     ]
    },
    {
     "name": "stdout",
     "output_type": "stream",
     "text": [
      "Threshold  3.244325916870481 LFParaWrite_Per_Sec\n",
      "Threshold  5.816751456412638 AWS\n",
      "Threshold  1.2756849357083309 LFSync_Per_Sec\n"
     ]
    },
    {
     "name": "stderr",
     "output_type": "stream",
     "text": [
      "<ipython-input-106-934139de14b0>:27: UserWarning: Boolean Series key will be reindexed to match DataFrame index.\n",
      "  df_hk = df[df.cmdb_id == host][df.name == kpi]\n",
      "<ipython-input-106-934139de14b0>:27: UserWarning: Boolean Series key will be reindexed to match DataFrame index.\n",
      "  df_hk = df[df.cmdb_id == host][df.name == kpi]\n",
      "<ipython-input-106-934139de14b0>:27: UserWarning: Boolean Series key will be reindexed to match DataFrame index.\n",
      "  df_hk = df[df.cmdb_id == host][df.name == kpi]\n"
     ]
    },
    {
     "name": "stdout",
     "output_type": "stream",
     "text": [
      "Threshold  0.8587543214661398 Proc_User_Used_Pct\n",
      "[1 1 0 0 0 0 0 0 0 0 0 0 0 0 0 0 0 0 0 0 0 0 0 0 0 0 0 0 0 1]\n",
      "ST Threshold Anomaly!\n",
      "Threshold  -1.0 AIOS\n",
      "Threshold  5.001755709528591 ACS\n"
     ]
    },
    {
     "name": "stderr",
     "output_type": "stream",
     "text": [
      "<ipython-input-106-934139de14b0>:27: UserWarning: Boolean Series key will be reindexed to match DataFrame index.\n",
      "  df_hk = df[df.cmdb_id == host][df.name == kpi]\n",
      "<ipython-input-106-934139de14b0>:27: UserWarning: Boolean Series key will be reindexed to match DataFrame index.\n",
      "  df_hk = df[df.cmdb_id == host][df.name == kpi]\n",
      "<ipython-input-106-934139de14b0>:27: UserWarning: Boolean Series key will be reindexed to match DataFrame index.\n",
      "  df_hk = df[df.cmdb_id == host][df.name == kpi]\n"
     ]
    },
    {
     "name": "stdout",
     "output_type": "stream",
     "text": [
      "Threshold  nan On_Off_State\n",
      "NaN, Skipping!\n",
      "Threshold  0.8674796335609354 DbTime\n",
      "[1 0 0 0 0 0 0 0 0 0 0 0 0 0 0 0 0 0 0 0 0 0 0 0 0 0 0 0 1 0]\n",
      "ST Threshold Anomaly!\n",
      "Threshold  1.650851409258851 Sess_Active\n"
     ]
    },
    {
     "name": "stderr",
     "output_type": "stream",
     "text": [
      "<ipython-input-106-934139de14b0>:27: UserWarning: Boolean Series key will be reindexed to match DataFrame index.\n",
      "  df_hk = df[df.cmdb_id == host][df.name == kpi]\n",
      "<ipython-input-106-934139de14b0>:27: UserWarning: Boolean Series key will be reindexed to match DataFrame index.\n",
      "  df_hk = df[df.cmdb_id == host][df.name == kpi]\n",
      "<ipython-input-106-934139de14b0>:27: UserWarning: Boolean Series key will be reindexed to match DataFrame index.\n",
      "  df_hk = df[df.cmdb_id == host][df.name == kpi]\n"
     ]
    },
    {
     "name": "stdout",
     "output_type": "stream",
     "text": [
      "[0 0 0 0 0 0 0 0 0 0 0 0 0 0 0 0 0 0 0 0 0 0 0 0 0 0 0 0 1 0]\n",
      "ST Threshold Anomaly!\n",
      "Threshold  2.097113794500629 Physical_Read_Per_Sec\n",
      "[1 0 0 0 0 0 0 0 1 0 0 0 0 0 0 0 0 0 1 0 0 0 0 0 0 0 0 0 1 0]\n",
      "ST Threshold Anomaly!\n",
      "Threshold  0.84710039376835 Call_Per_Sec\n",
      "Threshold  2.233489355771731 Login_Per_Sec\n"
     ]
    },
    {
     "name": "stderr",
     "output_type": "stream",
     "text": [
      "<ipython-input-106-934139de14b0>:27: UserWarning: Boolean Series key will be reindexed to match DataFrame index.\n",
      "  df_hk = df[df.cmdb_id == host][df.name == kpi]\n",
      "<ipython-input-106-934139de14b0>:27: UserWarning: Boolean Series key will be reindexed to match DataFrame index.\n",
      "  df_hk = df[df.cmdb_id == host][df.name == kpi]\n",
      "/Users/baconbaker/anaconda3/envs/ml/lib/python3.8/site-packages/alibi_detect/od/sr.py:96: RuntimeWarning: divide by zero encountered in log\n",
      "  log_amp = np.log(amp)\n",
      "/Users/baconbaker/anaconda3/envs/ml/lib/python3.8/site-packages/alibi_detect/od/sr.py:99: RuntimeWarning: invalid value encountered in subtract\n",
      "  res_amp = log_amp - ma_log_amp\n",
      "/Users/baconbaker/anaconda3/envs/ml/lib/python3.8/site-packages/alibi_detect/od/sr.py:207: RuntimeWarning: invalid value encountered in greater\n",
      "  outlier_pred = (iscore > self.threshold).astype(int)\n",
      "<ipython-input-106-934139de14b0>:27: UserWarning: Boolean Series key will be reindexed to match DataFrame index.\n",
      "  df_hk = df[df.cmdb_id == host][df.name == kpi]\n"
     ]
    },
    {
     "name": "stdout",
     "output_type": "stream",
     "text": [
      "Threshold  18.174406578256512 User_Commit\n",
      "Threshold  0.8571429362514261 Sess_Connect\n",
      "[1 1 0 0 0 0 0 0 0 0 0 0 0 0 0 0 0 0 0 0 0 0 0 0 0 0 0 0 0 1]\n",
      "ST Threshold Anomaly!\n",
      "Threshold  0.8576701653445542 Logic_Read_Per_Sec\n"
     ]
    },
    {
     "name": "stderr",
     "output_type": "stream",
     "text": [
      "<ipython-input-106-934139de14b0>:27: UserWarning: Boolean Series key will be reindexed to match DataFrame index.\n",
      "  df_hk = df[df.cmdb_id == host][df.name == kpi]\n",
      "<ipython-input-106-934139de14b0>:27: UserWarning: Boolean Series key will be reindexed to match DataFrame index.\n",
      "  df_hk = df[df.cmdb_id == host][df.name == kpi]\n",
      "<ipython-input-106-934139de14b0>:27: UserWarning: Boolean Series key will be reindexed to match DataFrame index.\n",
      "  df_hk = df[df.cmdb_id == host][df.name == kpi]\n"
     ]
    },
    {
     "name": "stdout",
     "output_type": "stream",
     "text": [
      "Threshold  0.9542389209120192 TPS_Per_Sec\n",
      "Threshold  nan Hang\n",
      "NaN, Skipping!\n",
      "Threshold  0.8805281864540765 Redo_Per_Sec\n"
     ]
    },
    {
     "name": "stderr",
     "output_type": "stream",
     "text": [
      "<ipython-input-106-934139de14b0>:27: UserWarning: Boolean Series key will be reindexed to match DataFrame index.\n",
      "  df_hk = df[df.cmdb_id == host][df.name == kpi]\n",
      "<ipython-input-106-934139de14b0>:27: UserWarning: Boolean Series key will be reindexed to match DataFrame index.\n",
      "  df_hk = df[df.cmdb_id == host][df.name == kpi]\n",
      "<ipython-input-106-934139de14b0>:27: UserWarning: Boolean Series key will be reindexed to match DataFrame index.\n",
      "  df_hk = df[df.cmdb_id == host][df.name == kpi]\n"
     ]
    },
    {
     "name": "stdout",
     "output_type": "stream",
     "text": [
      "[0 0 0 0 1 1 1 1 0 0 0 0 0 0 0 0 0 0 0 0 0 0 0 0 0 0 0 0 0 1]\n",
      "ST Threshold Anomaly!\n",
      "Threshold  0.849114917691135 Exec_Per_Sec\n",
      "[1 0 0 0 0 0 0 0 0 0 0 0 0 0 0 0 0 0 0 0 0 0 0 0 0 0 0 0 0 1]\n",
      "ST Threshold Anomaly!\n",
      "Threshold  -1.0 TempTbs_Pct\n",
      "Threshold  nan Total_Tbs_Size\n",
      "NaN, Skipping!"
     ]
    },
    {
     "name": "stderr",
     "output_type": "stream",
     "text": [
      "<ipython-input-106-934139de14b0>:27: UserWarning: Boolean Series key will be reindexed to match DataFrame index.\n",
      "  df_hk = df[df.cmdb_id == host][df.name == kpi]\n",
      "<ipython-input-106-934139de14b0>:27: UserWarning: Boolean Series key will be reindexed to match DataFrame index.\n",
      "  df_hk = df[df.cmdb_id == host][df.name == kpi]\n",
      "<ipython-input-106-934139de14b0>:27: UserWarning: Boolean Series key will be reindexed to match DataFrame index.\n",
      "  df_hk = df[df.cmdb_id == host][df.name == kpi]\n"
     ]
    },
    {
     "name": "stdout",
     "output_type": "stream",
     "text": [
      "\n",
      "Threshold  0.8203769109220409 New_Tbs_Free_Gb\n",
      "Threshold  1.0888257126525511 New_Tbs_Used_Pct\n",
      "Threshold  nan Tbs_Used_Pct\n"
     ]
    },
    {
     "name": "stderr",
     "output_type": "stream",
     "text": [
      "<ipython-input-106-934139de14b0>:27: UserWarning: Boolean Series key will be reindexed to match DataFrame index.\n",
      "  df_hk = df[df.cmdb_id == host][df.name == kpi]\n",
      "<ipython-input-106-934139de14b0>:27: UserWarning: Boolean Series key will be reindexed to match DataFrame index.\n",
      "  df_hk = df[df.cmdb_id == host][df.name == kpi]\n",
      "<ipython-input-106-934139de14b0>:27: UserWarning: Boolean Series key will be reindexed to match DataFrame index.\n",
      "  df_hk = df[df.cmdb_id == host][df.name == kpi]\n"
     ]
    },
    {
     "name": "stdout",
     "output_type": "stream",
     "text": [
      "NaN, Skipping!\n",
      "Threshold  0.8576482123170504 Tbs_Free_Gb\n",
      "[1 1 0 0 0 0 0 0 0 0 0 0 0 0 0 0 0 0 0 0 0 0 0 0 0 0 0 0 0 1]\n",
      "ST Threshold Anomaly!\n",
      "Threshold  nan UndoTbs_Pct\n",
      "NaN, Skipping!\n",
      "Threshold  0.890799830141133 DbFile_Used_Pct\n",
      "No valid data to use, skipping\n",
      "db_013  completed in  3.3426692485809326\n",
      "************************************************************\n",
      "Checking  db_012\n",
      "Threshold  0.8610847595147217 CPU_free_pct\n"
     ]
    },
    {
     "name": "stderr",
     "output_type": "stream",
     "text": [
      "<ipython-input-106-934139de14b0>:27: UserWarning: Boolean Series key will be reindexed to match DataFrame index.\n",
      "  df_hk = df[df.cmdb_id == host][df.name == kpi]\n",
      "<ipython-input-106-934139de14b0>:27: UserWarning: Boolean Series key will be reindexed to match DataFrame index.\n",
      "  df_hk = df[df.cmdb_id == host][df.name == kpi]\n",
      "<ipython-input-106-934139de14b0>:27: UserWarning: Boolean Series key will be reindexed to match DataFrame index.\n",
      "  df_hk = df[df.cmdb_id == host][df.name == kpi]\n",
      "<ipython-input-106-934139de14b0>:27: UserWarning: Boolean Series key will be reindexed to match DataFrame index.\n",
      "  df_hk = df[df.cmdb_id == host][df.name == kpi]\n"
     ]
    },
    {
     "name": "stdout",
     "output_type": "stream",
     "text": [
      "[1 1 0 0 0 0 0 0 0 0 0 0 0 0 0 0 0 0 0 0 0 0 0 0 0 0 0 0 0 1]\n",
      "ST Threshold Anomaly!\n",
      "Threshold  0.8576646034534992 MEM_real_util\n",
      "[1 1 0 0 0 0 0 0 0 0 0 0 0 0 0 0 0 0 0 0 0 0 0 0 0 0 0 0 0 1]\n",
      "ST Threshold Anomaly!\n",
      "Threshold  0.7693105847643714 tnsping_result_time\n",
      "[0 0 0 0 0 0 0 0 0 0 0 0 0 0 0 0 0 0 0 0 0 0 0 0 0 0 0 1 1 1]\n",
      "ST Threshold Anomaly!\n",
      "Threshold  1.1185235444267545 CPU_Used_Pct\n",
      "Threshold  0.8547720804847966 MEM_Used\n"
     ]
    },
    {
     "name": "stderr",
     "output_type": "stream",
     "text": [
      "<ipython-input-106-934139de14b0>:27: UserWarning: Boolean Series key will be reindexed to match DataFrame index.\n",
      "  df_hk = df[df.cmdb_id == host][df.name == kpi]\n",
      "<ipython-input-106-934139de14b0>:27: UserWarning: Boolean Series key will be reindexed to match DataFrame index.\n",
      "  df_hk = df[df.cmdb_id == host][df.name == kpi]\n",
      "<ipython-input-106-934139de14b0>:27: UserWarning: Boolean Series key will be reindexed to match DataFrame index.\n",
      "  df_hk = df[df.cmdb_id == host][df.name == kpi]\n",
      "<ipython-input-106-934139de14b0>:27: UserWarning: Boolean Series key will be reindexed to match DataFrame index.\n",
      "  df_hk = df[df.cmdb_id == host][df.name == kpi]\n"
     ]
    },
    {
     "name": "stdout",
     "output_type": "stream",
     "text": [
      "[1 1 0 0 0 0 0 0 0 0 0 0 0 0 0 0 0 0 0 0 0 0 0 0 0 0 0 0 0 1]\n",
      "ST Threshold Anomaly!\n",
      "Threshold  nan MEM_Total\n",
      "NaN, Skipping!\n",
      "Threshold  0.8505783971603617 MEM_Used_Pct\n",
      "[1 1 0 0 0 0 0 0 0 0 0 0 0 0 0 0 0 0 0 0 0 0 0 0 0 0 0 0 0 1]\n",
      "ST Threshold Anomaly!\n",
      "Threshold  0.8576373382582319 Used_Tbs_Size\n",
      "[1 1 0 0 0 0 0 0 0 0 0 0 0 0 0 0 0 0 0 0 0 0 0 0 0 0 0 0 0 1]\n",
      "ST Threshold Anomaly!\n",
      "Threshold  nan SEQ_Used_Pct\n",
      "NaN, Skipping!"
     ]
    },
    {
     "name": "stderr",
     "output_type": "stream",
     "text": [
      "<ipython-input-106-934139de14b0>:27: UserWarning: Boolean Series key will be reindexed to match DataFrame index.\n",
      "  df_hk = df[df.cmdb_id == host][df.name == kpi]\n",
      "<ipython-input-106-934139de14b0>:27: UserWarning: Boolean Series key will be reindexed to match DataFrame index.\n",
      "  df_hk = df[df.cmdb_id == host][df.name == kpi]\n",
      "<ipython-input-106-934139de14b0>:27: UserWarning: Boolean Series key will be reindexed to match DataFrame index.\n",
      "  df_hk = df[df.cmdb_id == host][df.name == kpi]\n"
     ]
    },
    {
     "name": "stdout",
     "output_type": "stream",
     "text": [
      "\n",
      "Threshold  nan Asm_Free_Tb\n",
      "NaN, Skipping!\n",
      "Threshold  nan PGA_used_total\n",
      "NaN, Skipping!\n",
      "Threshold  4.582591518421651 Sess_Used_Undo\n"
     ]
    },
    {
     "name": "stderr",
     "output_type": "stream",
     "text": [
      "<ipython-input-106-934139de14b0>:27: UserWarning: Boolean Series key will be reindexed to match DataFrame index.\n",
      "  df_hk = df[df.cmdb_id == host][df.name == kpi]\n",
      "/Users/baconbaker/anaconda3/envs/ml/lib/python3.8/site-packages/alibi_detect/od/sr.py:96: RuntimeWarning: divide by zero encountered in log\n",
      "  log_amp = np.log(amp)\n",
      "/Users/baconbaker/anaconda3/envs/ml/lib/python3.8/site-packages/alibi_detect/od/sr.py:99: RuntimeWarning: invalid value encountered in subtract\n",
      "  res_amp = log_amp - ma_log_amp\n",
      "/Users/baconbaker/anaconda3/envs/ml/lib/python3.8/site-packages/alibi_detect/od/sr.py:207: RuntimeWarning: invalid value encountered in greater\n",
      "  outlier_pred = (iscore > self.threshold).astype(int)\n",
      "<ipython-input-106-934139de14b0>:27: UserWarning: Boolean Series key will be reindexed to match DataFrame index.\n",
      "  df_hk = df[df.cmdb_id == host][df.name == kpi]\n",
      "<ipython-input-106-934139de14b0>:27: UserWarning: Boolean Series key will be reindexed to match DataFrame index.\n",
      "  df_hk = df[df.cmdb_id == host][df.name == kpi]\n"
     ]
    },
    {
     "name": "stdout",
     "output_type": "stream",
     "text": [
      "Threshold  -1.0 Sess_Used_Temp\n",
      "Threshold  2.3483651473968017 SctRead_Per_Sec\n",
      "Threshold  4.415853403052151 SeqRead_Per_Sec\n"
     ]
    },
    {
     "name": "stderr",
     "output_type": "stream",
     "text": [
      "/Users/baconbaker/anaconda3/envs/ml/lib/python3.8/site-packages/alibi_detect/od/sr.py:96: RuntimeWarning: divide by zero encountered in log\n",
      "  log_amp = np.log(amp)\n",
      "/Users/baconbaker/anaconda3/envs/ml/lib/python3.8/site-packages/alibi_detect/od/sr.py:99: RuntimeWarning: invalid value encountered in subtract\n",
      "  res_amp = log_amp - ma_log_amp\n",
      "/Users/baconbaker/anaconda3/envs/ml/lib/python3.8/site-packages/alibi_detect/od/sr.py:207: RuntimeWarning: invalid value encountered in greater\n",
      "  outlier_pred = (iscore > self.threshold).astype(int)\n",
      "<ipython-input-106-934139de14b0>:27: UserWarning: Boolean Series key will be reindexed to match DataFrame index.\n",
      "  df_hk = df[df.cmdb_id == host][df.name == kpi]\n",
      "<ipython-input-106-934139de14b0>:27: UserWarning: Boolean Series key will be reindexed to match DataFrame index.\n",
      "  df_hk = df[df.cmdb_id == host][df.name == kpi]\n",
      "<ipython-input-106-934139de14b0>:27: UserWarning: Boolean Series key will be reindexed to match DataFrame index.\n",
      "  df_hk = df[df.cmdb_id == host][df.name == kpi]\n"
     ]
    },
    {
     "name": "stdout",
     "output_type": "stream",
     "text": [
      "Threshold  1.8221057651460058 DFParaWrite_Per_Sec\n",
      "Threshold  -1.0 PGA_Used_Pct\n",
      "Threshold  -1.0 Row_Lock\n"
     ]
    },
    {
     "name": "stderr",
     "output_type": "stream",
     "text": [
      "<ipython-input-106-934139de14b0>:27: UserWarning: Boolean Series key will be reindexed to match DataFrame index.\n",
      "  df_hk = df[df.cmdb_id == host][df.name == kpi]\n",
      "<ipython-input-106-934139de14b0>:27: UserWarning: Boolean Series key will be reindexed to match DataFrame index.\n",
      "  df_hk = df[df.cmdb_id == host][df.name == kpi]\n",
      "<ipython-input-106-934139de14b0>:27: UserWarning: Boolean Series key will be reindexed to match DataFrame index.\n",
      "  df_hk = df[df.cmdb_id == host][df.name == kpi]\n"
     ]
    },
    {
     "name": "stdout",
     "output_type": "stream",
     "text": [
      "Threshold  0.8634422773241559 Proc_Used_Pct\n",
      "[1 1 0 0 0 0 0 0 0 0 0 0 0 0 0 0 0 0 0 0 0 0 0 0 0 0 0 0 0 1]\n",
      "ST Threshold Anomaly!\n",
      "Threshold  3.136693073508248 Session_pct\n",
      "[0 0 0 0 0 0 0 0 1 0 0 0 0 0 0 0 0 0 1 0 0 0 0 0 0 0 0 0 1 0]\n",
      "ST Threshold Anomaly!\n",
      "Threshold  1.184476423681186 LFParaWrite_Per_Sec\n"
     ]
    },
    {
     "name": "stderr",
     "output_type": "stream",
     "text": [
      "<ipython-input-106-934139de14b0>:27: UserWarning: Boolean Series key will be reindexed to match DataFrame index.\n",
      "  df_hk = df[df.cmdb_id == host][df.name == kpi]\n",
      "<ipython-input-106-934139de14b0>:27: UserWarning: Boolean Series key will be reindexed to match DataFrame index.\n",
      "  df_hk = df[df.cmdb_id == host][df.name == kpi]\n",
      "<ipython-input-106-934139de14b0>:27: UserWarning: Boolean Series key will be reindexed to match DataFrame index.\n",
      "  df_hk = df[df.cmdb_id == host][df.name == kpi]\n"
     ]
    },
    {
     "name": "stdout",
     "output_type": "stream",
     "text": [
      "Threshold  2.0198066733225097 AWS\n",
      "Threshold  1.0291128964405276 LFSync_Per_Sec\n",
      "Threshold  0.8634422773241559 Proc_User_Used_Pct\n"
     ]
    },
    {
     "name": "stderr",
     "output_type": "stream",
     "text": [
      "<ipython-input-106-934139de14b0>:27: UserWarning: Boolean Series key will be reindexed to match DataFrame index.\n",
      "  df_hk = df[df.cmdb_id == host][df.name == kpi]\n",
      "<ipython-input-106-934139de14b0>:27: UserWarning: Boolean Series key will be reindexed to match DataFrame index.\n",
      "  df_hk = df[df.cmdb_id == host][df.name == kpi]\n",
      "<ipython-input-106-934139de14b0>:27: UserWarning: Boolean Series key will be reindexed to match DataFrame index.\n",
      "  df_hk = df[df.cmdb_id == host][df.name == kpi]\n"
     ]
    },
    {
     "name": "stdout",
     "output_type": "stream",
     "text": [
      "[1 1 0 0 0 0 0 0 0 0 0 0 0 0 0 0 0 0 0 0 0 0 0 0 0 0 0 0 0 1]\n",
      "ST Threshold Anomaly!\n",
      "Threshold  -1.0 AIOS\n",
      "Threshold  5.729280328846813 ACS\n",
      "Threshold  nan On_Off_State\n"
     ]
    },
    {
     "name": "stderr",
     "output_type": "stream",
     "text": [
      "<ipython-input-106-934139de14b0>:27: UserWarning: Boolean Series key will be reindexed to match DataFrame index.\n",
      "  df_hk = df[df.cmdb_id == host][df.name == kpi]\n",
      "<ipython-input-106-934139de14b0>:27: UserWarning: Boolean Series key will be reindexed to match DataFrame index.\n",
      "  df_hk = df[df.cmdb_id == host][df.name == kpi]\n",
      "<ipython-input-106-934139de14b0>:27: UserWarning: Boolean Series key will be reindexed to match DataFrame index.\n",
      "  df_hk = df[df.cmdb_id == host][df.name == kpi]\n"
     ]
    },
    {
     "name": "stdout",
     "output_type": "stream",
     "text": [
      "NaN, Skipping!\n",
      "Threshold  0.8741868567078207 DbTime\n",
      "[1 0 0 0 0 0 0 0 0 0 0 0 0 0 0 0 0 0 0 0 0 0 0 0 0 0 0 0 1 0]\n",
      "ST Threshold Anomaly!\n",
      "Threshold  1.1590924843328898 Sess_Active\n",
      "Threshold  1.9042680602140851 Physical_Read_Per_Sec\n"
     ]
    },
    {
     "name": "stderr",
     "output_type": "stream",
     "text": [
      "<ipython-input-106-934139de14b0>:27: UserWarning: Boolean Series key will be reindexed to match DataFrame index.\n",
      "  df_hk = df[df.cmdb_id == host][df.name == kpi]\n",
      "<ipython-input-106-934139de14b0>:27: UserWarning: Boolean Series key will be reindexed to match DataFrame index.\n",
      "  df_hk = df[df.cmdb_id == host][df.name == kpi]\n",
      "<ipython-input-106-934139de14b0>:27: UserWarning: Boolean Series key will be reindexed to match DataFrame index.\n",
      "  df_hk = df[df.cmdb_id == host][df.name == kpi]\n"
     ]
    },
    {
     "name": "stdout",
     "output_type": "stream",
     "text": [
      "[1 0 0 0 0 0 0 0 1 0 0 0 0 0 0 0 0 0 1 0 0 0 0 0 0 0 0 0 1 0]\n",
      "ST Threshold Anomaly!\n",
      "Threshold  0.8576631406982256 Call_Per_Sec\n",
      "[1 1 0 0 0 0 0 0 0 0 0 0 0 0 0 0 0 0 0 0 0 0 0 0 0 0 0 1 1 1]\n",
      "ST Threshold Anomaly!\n",
      "Threshold  1.2142746233343422 Login_Per_Sec\n",
      "Threshold  0.8605308673308676 User_Commit\n"
     ]
    },
    {
     "name": "stderr",
     "output_type": "stream",
     "text": [
      "<ipython-input-106-934139de14b0>:27: UserWarning: Boolean Series key will be reindexed to match DataFrame index.\n",
      "  df_hk = df[df.cmdb_id == host][df.name == kpi]\n",
      "<ipython-input-106-934139de14b0>:27: UserWarning: Boolean Series key will be reindexed to match DataFrame index.\n",
      "  df_hk = df[df.cmdb_id == host][df.name == kpi]\n",
      "<ipython-input-106-934139de14b0>:27: UserWarning: Boolean Series key will be reindexed to match DataFrame index.\n",
      "  df_hk = df[df.cmdb_id == host][df.name == kpi]\n"
     ]
    },
    {
     "name": "stdout",
     "output_type": "stream",
     "text": [
      "[1 1 0 0 0 0 0 0 0 0 0 0 0 0 0 0 0 0 0 0 0 0 0 0 0 1 1 1 1 1]\n",
      "ST Threshold Anomaly!\n",
      "Threshold  0.8559475298813769 Sess_Connect\n",
      "[1 1 0 0 0 0 0 0 0 0 0 0 0 0 0 0 0 0 0 0 0 0 0 0 0 0 0 0 0 1]\n",
      "ST Threshold Anomaly!\n",
      "Threshold  0.8080085548954999 Logic_Read_Per_Sec\n",
      "[0 0 0 0 0 0 0 1 1 0 0 0 0 0 0 0 0 0 0 0 0 0 0 0 0 0 0 1 1 0]\n",
      "ST Threshold Anomaly!\n",
      "Threshold  0.8584505788386423 TPS_Per_Sec\n"
     ]
    },
    {
     "name": "stderr",
     "output_type": "stream",
     "text": [
      "<ipython-input-106-934139de14b0>:27: UserWarning: Boolean Series key will be reindexed to match DataFrame index.\n",
      "  df_hk = df[df.cmdb_id == host][df.name == kpi]\n",
      "<ipython-input-106-934139de14b0>:27: UserWarning: Boolean Series key will be reindexed to match DataFrame index.\n",
      "  df_hk = df[df.cmdb_id == host][df.name == kpi]\n",
      "<ipython-input-106-934139de14b0>:27: UserWarning: Boolean Series key will be reindexed to match DataFrame index.\n",
      "  df_hk = df[df.cmdb_id == host][df.name == kpi]\n"
     ]
    },
    {
     "name": "stdout",
     "output_type": "stream",
     "text": [
      "[1 1 0 0 0 0 0 0 0 0 0 0 0 0 0 0 0 0 0 0 0 0 0 0 0 0 1 1 1 1]\n",
      "ST Threshold Anomaly!\n",
      "Threshold  nan Hang\n",
      "NaN, Skipping!\n",
      "Threshold  0.8364991653015953 Redo_Per_Sec\n",
      "[1 1 1 0 0 0 0 0 0 0 0 0 0 0 0 0 0 0 0 0 0 0 0 0 0 0 0 1 1 1]\n",
      "ST Threshold Anomaly!\n",
      "Threshold  0.8412310728522328 Exec_Per_Sec\n"
     ]
    },
    {
     "name": "stderr",
     "output_type": "stream",
     "text": [
      "<ipython-input-106-934139de14b0>:27: UserWarning: Boolean Series key will be reindexed to match DataFrame index.\n",
      "  df_hk = df[df.cmdb_id == host][df.name == kpi]\n",
      "<ipython-input-106-934139de14b0>:27: UserWarning: Boolean Series key will be reindexed to match DataFrame index.\n",
      "  df_hk = df[df.cmdb_id == host][df.name == kpi]\n",
      "<ipython-input-106-934139de14b0>:27: UserWarning: Boolean Series key will be reindexed to match DataFrame index.\n",
      "  df_hk = df[df.cmdb_id == host][df.name == kpi]\n"
     ]
    },
    {
     "name": "stdout",
     "output_type": "stream",
     "text": [
      "[1 1 1 0 0 0 0 0 0 0 0 0 0 0 0 0 0 0 0 0 0 0 0 0 0 0 0 0 1 1]\n",
      "ST Threshold Anomaly!\n",
      "Threshold  -1.0 TempTbs_Pct\n",
      "Threshold  nan Total_Tbs_Size\n",
      "NaN, Skipping!\n",
      "Threshold  0.8373256382910946 New_Tbs_Free_Gb\n"
     ]
    },
    {
     "name": "stderr",
     "output_type": "stream",
     "text": [
      "<ipython-input-106-934139de14b0>:27: UserWarning: Boolean Series key will be reindexed to match DataFrame index.\n",
      "  df_hk = df[df.cmdb_id == host][df.name == kpi]\n",
      "<ipython-input-106-934139de14b0>:27: UserWarning: Boolean Series key will be reindexed to match DataFrame index.\n",
      "  df_hk = df[df.cmdb_id == host][df.name == kpi]\n",
      "<ipython-input-106-934139de14b0>:27: UserWarning: Boolean Series key will be reindexed to match DataFrame index.\n",
      "  df_hk = df[df.cmdb_id == host][df.name == kpi]\n"
     ]
    },
    {
     "name": "stdout",
     "output_type": "stream",
     "text": [
      "Threshold  0.7674498837495812 New_Tbs_Used_Pct\n",
      "[1 1 1 1 1 1 1 1 0 0 0 0 0 0 0 0 0 0 0 0 0 1 1 1 1 1 1 1 1 1]\n",
      "ST Threshold Anomaly!\n",
      "Threshold  nan Tbs_Used_Pct\n",
      "NaN, Skipping!\n",
      "Threshold  0.8576482123170504 Tbs_Free_Gb\n"
     ]
    },
    {
     "name": "stderr",
     "output_type": "stream",
     "text": [
      "<ipython-input-106-934139de14b0>:27: UserWarning: Boolean Series key will be reindexed to match DataFrame index.\n",
      "  df_hk = df[df.cmdb_id == host][df.name == kpi]\n",
      "<ipython-input-106-934139de14b0>:27: UserWarning: Boolean Series key will be reindexed to match DataFrame index.\n",
      "  df_hk = df[df.cmdb_id == host][df.name == kpi]\n",
      "/Users/baconbaker/anaconda3/envs/ml/lib/python3.8/site-packages/alibi_detect/od/sr.py:96: RuntimeWarning: divide by zero encountered in log\n",
      "  log_amp = np.log(amp)\n",
      "/Users/baconbaker/anaconda3/envs/ml/lib/python3.8/site-packages/alibi_detect/od/sr.py:99: RuntimeWarning: invalid value encountered in subtract\n",
      "  res_amp = log_amp - ma_log_amp\n",
      "/Users/baconbaker/anaconda3/envs/ml/lib/python3.8/site-packages/alibi_detect/od/sr.py:207: RuntimeWarning: invalid value encountered in greater\n",
      "  outlier_pred = (iscore > self.threshold).astype(int)\n",
      "<ipython-input-106-934139de14b0>:27: UserWarning: Boolean Series key will be reindexed to match DataFrame index.\n",
      "  df_hk = df[df.cmdb_id == host][df.name == kpi]\n"
     ]
    },
    {
     "name": "stdout",
     "output_type": "stream",
     "text": [
      "[1 1 1 1 0 0 0 0 0 0 0 0 0 0 0 0 0 0 0 0 0 0 0 0 0 0 1 1 1 1]\n",
      "ST Threshold Anomaly!\n",
      "Threshold  4.0890410268486495 UndoTbs_Pct\n",
      "Threshold  0.890799830141133 DbFile_Used_Pct\n",
      "No valid data to use, skipping\n",
      "db_012  completed in  3.3130130767822266\n",
      "************************************************************\n",
      "Checking  container_002\n",
      "Threshold  -1.0 container_fail_percent\n",
      "container_002  completed in  0.07705402374267578\n",
      "************************************************************\n",
      "Checking  container_001\n",
      "Threshold  -1.0 container_fail_percent\n"
     ]
    },
    {
     "name": "stderr",
     "output_type": "stream",
     "text": [
      "<ipython-input-106-934139de14b0>:27: UserWarning: Boolean Series key will be reindexed to match DataFrame index.\n",
      "  df_hk = df[df.cmdb_id == host][df.name == kpi]\n",
      "<ipython-input-106-934139de14b0>:27: UserWarning: Boolean Series key will be reindexed to match DataFrame index.\n",
      "  df_hk = df[df.cmdb_id == host][df.name == kpi]\n",
      "<ipython-input-106-934139de14b0>:27: UserWarning: Boolean Series key will be reindexed to match DataFrame index.\n",
      "  df_hk = df[df.cmdb_id == host][df.name == kpi]\n"
     ]
    },
    {
     "name": "stdout",
     "output_type": "stream",
     "text": [
      "container_001  completed in  0.07439827919006348\n",
      "************************************************************\n",
      "Checking  docker_001\n",
      "Threshold  -1.0 container_session_used\n",
      "Threshold  -1.0 container_fgct\n",
      "Threshold  0.9918576102971556 container_cpu_used\n"
     ]
    },
    {
     "name": "stderr",
     "output_type": "stream",
     "text": [
      "<ipython-input-106-934139de14b0>:27: UserWarning: Boolean Series key will be reindexed to match DataFrame index.\n",
      "  df_hk = df[df.cmdb_id == host][df.name == kpi]\n",
      "<ipython-input-106-934139de14b0>:27: UserWarning: Boolean Series key will be reindexed to match DataFrame index.\n",
      "  df_hk = df[df.cmdb_id == host][df.name == kpi]\n",
      "<ipython-input-106-934139de14b0>:27: UserWarning: Boolean Series key will be reindexed to match DataFrame index.\n",
      "  df_hk = df[df.cmdb_id == host][df.name == kpi]\n",
      "<ipython-input-106-934139de14b0>:27: UserWarning: Boolean Series key will be reindexed to match DataFrame index.\n",
      "  df_hk = df[df.cmdb_id == host][df.name == kpi]\n"
     ]
    },
    {
     "name": "stdout",
     "output_type": "stream",
     "text": [
      "[1 1 0 0 0 0 0 0 0 0 0 0 0 0 0 0 0 0 0 0 0 0 0 0 0 0 0 1 1 0]\n",
      "ST Threshold Anomaly!\n",
      "Threshold  -1.0 container_thread_idle\n",
      "Threshold  -1.0 container_thread_running\n",
      "Threshold  -1.0 container_thread_total\n",
      "Threshold  -1.0 container_fgc\n"
     ]
    },
    {
     "name": "stderr",
     "output_type": "stream",
     "text": [
      "<ipython-input-106-934139de14b0>:27: UserWarning: Boolean Series key will be reindexed to match DataFrame index.\n",
      "  df_hk = df[df.cmdb_id == host][df.name == kpi]\n",
      "<ipython-input-106-934139de14b0>:27: UserWarning: Boolean Series key will be reindexed to match DataFrame index.\n",
      "  df_hk = df[df.cmdb_id == host][df.name == kpi]\n",
      "<ipython-input-106-934139de14b0>:27: UserWarning: Boolean Series key will be reindexed to match DataFrame index.\n",
      "  df_hk = df[df.cmdb_id == host][df.name == kpi]\n",
      "/Users/baconbaker/anaconda3/envs/ml/lib/python3.8/site-packages/alibi_detect/od/sr.py:96: RuntimeWarning: divide by zero encountered in log\n",
      "  log_amp = np.log(amp)\n",
      "/Users/baconbaker/anaconda3/envs/ml/lib/python3.8/site-packages/alibi_detect/od/sr.py:99: RuntimeWarning: invalid value encountered in subtract\n",
      "  res_amp = log_amp - ma_log_amp\n",
      "/Users/baconbaker/anaconda3/envs/ml/lib/python3.8/site-packages/alibi_detect/od/sr.py:207: RuntimeWarning: invalid value encountered in greater\n",
      "  outlier_pred = (iscore > self.threshold).astype(int)\n",
      "<ipython-input-106-934139de14b0>:27: UserWarning: Boolean Series key will be reindexed to match DataFrame index.\n",
      "  df_hk = df[df.cmdb_id == host][df.name == kpi]\n"
     ]
    },
    {
     "name": "stdout",
     "output_type": "stream",
     "text": [
      "Threshold  -1.0 container_thread_used_pct\n",
      "Threshold  0.7931023869961198 container_mem_used\n",
      "docker_001  completed in  0.6341171264648438\n",
      "************************************************************\n",
      "Checking  docker_005\n",
      "Threshold  -1.0 container_session_used\n",
      "Threshold "
     ]
    },
    {
     "name": "stderr",
     "output_type": "stream",
     "text": [
      "<ipython-input-106-934139de14b0>:27: UserWarning: Boolean Series key will be reindexed to match DataFrame index.\n",
      "  df_hk = df[df.cmdb_id == host][df.name == kpi]\n",
      "<ipython-input-106-934139de14b0>:27: UserWarning: Boolean Series key will be reindexed to match DataFrame index.\n",
      "  df_hk = df[df.cmdb_id == host][df.name == kpi]\n",
      "<ipython-input-106-934139de14b0>:27: UserWarning: Boolean Series key will be reindexed to match DataFrame index.\n",
      "  df_hk = df[df.cmdb_id == host][df.name == kpi]\n"
     ]
    },
    {
     "name": "stdout",
     "output_type": "stream",
     "text": [
      " -1.0 container_fgct\n",
      "Threshold  7.491508222489308 container_cpu_used\n",
      "Threshold  -1.0 container_thread_idle\n",
      "Threshold  -1.0 container_thread_running\n"
     ]
    },
    {
     "name": "stderr",
     "output_type": "stream",
     "text": [
      "<ipython-input-106-934139de14b0>:27: UserWarning: Boolean Series key will be reindexed to match DataFrame index.\n",
      "  df_hk = df[df.cmdb_id == host][df.name == kpi]\n",
      "<ipython-input-106-934139de14b0>:27: UserWarning: Boolean Series key will be reindexed to match DataFrame index.\n",
      "  df_hk = df[df.cmdb_id == host][df.name == kpi]\n",
      "<ipython-input-106-934139de14b0>:27: UserWarning: Boolean Series key will be reindexed to match DataFrame index.\n",
      "  df_hk = df[df.cmdb_id == host][df.name == kpi]\n",
      "<ipython-input-106-934139de14b0>:27: UserWarning: Boolean Series key will be reindexed to match DataFrame index.\n",
      "  df_hk = df[df.cmdb_id == host][df.name == kpi]\n"
     ]
    },
    {
     "name": "stdout",
     "output_type": "stream",
     "text": [
      "Threshold  -1.0 container_thread_total\n",
      "Threshold  -1.0 container_fgc\n",
      "Threshold  -1.0 container_thread_used_pct\n",
      "Threshold  nan container_mem_used\n"
     ]
    },
    {
     "name": "stderr",
     "output_type": "stream",
     "text": [
      "<ipython-input-106-934139de14b0>:27: UserWarning: Boolean Series key will be reindexed to match DataFrame index.\n",
      "  df_hk = df[df.cmdb_id == host][df.name == kpi]\n",
      "<ipython-input-106-934139de14b0>:27: UserWarning: Boolean Series key will be reindexed to match DataFrame index.\n",
      "  df_hk = df[df.cmdb_id == host][df.name == kpi]\n",
      "<ipython-input-106-934139de14b0>:27: UserWarning: Boolean Series key will be reindexed to match DataFrame index.\n",
      "  df_hk = df[df.cmdb_id == host][df.name == kpi]\n"
     ]
    },
    {
     "name": "stdout",
     "output_type": "stream",
     "text": [
      "NaN, Skipping!\n",
      "docker_005  completed in  0.6639509201049805\n",
      "************************************************************\n",
      "Checking  docker_008\n",
      "Threshold  -1.0 container_session_used\n",
      "Threshold  -1.0 container_fgct\n",
      "Threshold  3.2055302236081182 container_cpu_used\n"
     ]
    },
    {
     "name": "stderr",
     "output_type": "stream",
     "text": [
      "<ipython-input-106-934139de14b0>:27: UserWarning: Boolean Series key will be reindexed to match DataFrame index.\n",
      "  df_hk = df[df.cmdb_id == host][df.name == kpi]\n",
      "<ipython-input-106-934139de14b0>:27: UserWarning: Boolean Series key will be reindexed to match DataFrame index.\n",
      "  df_hk = df[df.cmdb_id == host][df.name == kpi]\n",
      "<ipython-input-106-934139de14b0>:27: UserWarning: Boolean Series key will be reindexed to match DataFrame index.\n",
      "  df_hk = df[df.cmdb_id == host][df.name == kpi]\n"
     ]
    },
    {
     "name": "stdout",
     "output_type": "stream",
     "text": [
      "Threshold  -1.0 container_thread_idle\n",
      "Threshold  -1.0 container_thread_running\n",
      "Threshold  -1.0 container_thread_total\n",
      "Threshold "
     ]
    },
    {
     "name": "stderr",
     "output_type": "stream",
     "text": [
      "<ipython-input-106-934139de14b0>:27: UserWarning: Boolean Series key will be reindexed to match DataFrame index.\n",
      "  df_hk = df[df.cmdb_id == host][df.name == kpi]\n",
      "<ipython-input-106-934139de14b0>:27: UserWarning: Boolean Series key will be reindexed to match DataFrame index.\n",
      "  df_hk = df[df.cmdb_id == host][df.name == kpi]\n",
      "<ipython-input-106-934139de14b0>:27: UserWarning: Boolean Series key will be reindexed to match DataFrame index.\n",
      "  df_hk = df[df.cmdb_id == host][df.name == kpi]\n"
     ]
    },
    {
     "name": "stdout",
     "output_type": "stream",
     "text": [
      " -1.0 container_fgc\n",
      "Threshold  -1.0 container_thread_used_pct\n",
      "Threshold  0.8409867960331752 container_mem_used\n",
      "docker_008  completed in  0.6495077610015869\n",
      "************************************************************\n",
      "Checking  docker_003\n",
      "Threshold  -1.0 container_session_used\n"
     ]
    },
    {
     "name": "stderr",
     "output_type": "stream",
     "text": [
      "<ipython-input-106-934139de14b0>:27: UserWarning: Boolean Series key will be reindexed to match DataFrame index.\n",
      "  df_hk = df[df.cmdb_id == host][df.name == kpi]\n",
      "/Users/baconbaker/anaconda3/envs/ml/lib/python3.8/site-packages/alibi_detect/od/sr.py:96: RuntimeWarning: divide by zero encountered in log\n",
      "  log_amp = np.log(amp)\n",
      "/Users/baconbaker/anaconda3/envs/ml/lib/python3.8/site-packages/alibi_detect/od/sr.py:99: RuntimeWarning: invalid value encountered in subtract\n",
      "  res_amp = log_amp - ma_log_amp\n",
      "/Users/baconbaker/anaconda3/envs/ml/lib/python3.8/site-packages/alibi_detect/od/sr.py:207: RuntimeWarning: invalid value encountered in greater\n",
      "  outlier_pred = (iscore > self.threshold).astype(int)\n",
      "<ipython-input-106-934139de14b0>:27: UserWarning: Boolean Series key will be reindexed to match DataFrame index.\n",
      "  df_hk = df[df.cmdb_id == host][df.name == kpi]\n",
      "<ipython-input-106-934139de14b0>:27: UserWarning: Boolean Series key will be reindexed to match DataFrame index.\n",
      "  df_hk = df[df.cmdb_id == host][df.name == kpi]\n"
     ]
    },
    {
     "name": "stdout",
     "output_type": "stream",
     "text": [
      "Threshold  -1.0 container_fgct\n",
      "Threshold  0.9152712172192756 container_cpu_used\n",
      "[0 0 0 1 1 1 0 0 1 1 1 0 0 0 0 0 0 0 0 0 0 0 0 0 0 0 0 1 1 1]\n",
      "ST Threshold Anomaly!\n",
      "Threshold  -1.0 container_thread_idle\n",
      "Threshold  -1.0 container_thread_running\n"
     ]
    },
    {
     "name": "stderr",
     "output_type": "stream",
     "text": [
      "<ipython-input-106-934139de14b0>:27: UserWarning: Boolean Series key will be reindexed to match DataFrame index.\n",
      "  df_hk = df[df.cmdb_id == host][df.name == kpi]\n",
      "<ipython-input-106-934139de14b0>:27: UserWarning: Boolean Series key will be reindexed to match DataFrame index.\n",
      "  df_hk = df[df.cmdb_id == host][df.name == kpi]\n",
      "<ipython-input-106-934139de14b0>:27: UserWarning: Boolean Series key will be reindexed to match DataFrame index.\n",
      "  df_hk = df[df.cmdb_id == host][df.name == kpi]\n",
      "<ipython-input-106-934139de14b0>:27: UserWarning: Boolean Series key will be reindexed to match DataFrame index.\n",
      "  df_hk = df[df.cmdb_id == host][df.name == kpi]\n"
     ]
    },
    {
     "name": "stdout",
     "output_type": "stream",
     "text": [
      "Threshold  -1.0 container_thread_total\n",
      "Threshold  -1.0 container_fgc\n",
      "Threshold  -1.0 container_thread_used_pct\n"
     ]
    },
    {
     "name": "stderr",
     "output_type": "stream",
     "text": [
      "<ipython-input-106-934139de14b0>:27: UserWarning: Boolean Series key will be reindexed to match DataFrame index.\n",
      "  df_hk = df[df.cmdb_id == host][df.name == kpi]\n",
      "<ipython-input-106-934139de14b0>:27: UserWarning: Boolean Series key will be reindexed to match DataFrame index.\n",
      "  df_hk = df[df.cmdb_id == host][df.name == kpi]\n",
      "<ipython-input-106-934139de14b0>:27: UserWarning: Boolean Series key will be reindexed to match DataFrame index.\n",
      "  df_hk = df[df.cmdb_id == host][df.name == kpi]\n"
     ]
    },
    {
     "name": "stdout",
     "output_type": "stream",
     "text": [
      "Threshold  nan container_mem_used\n",
      "NaN, Skipping!\n",
      "docker_003  completed in  0.6036779880523682\n",
      "************************************************************\n",
      "Checking  docker_002\n",
      "Threshold  -1.0 container_session_used\n",
      "Threshold  -1.0 container_fgct\n",
      "Threshold "
     ]
    },
    {
     "name": "stderr",
     "output_type": "stream",
     "text": [
      "<ipython-input-106-934139de14b0>:27: UserWarning: Boolean Series key will be reindexed to match DataFrame index.\n",
      "  df_hk = df[df.cmdb_id == host][df.name == kpi]\n",
      "<ipython-input-106-934139de14b0>:27: UserWarning: Boolean Series key will be reindexed to match DataFrame index.\n",
      "  df_hk = df[df.cmdb_id == host][df.name == kpi]\n",
      "<ipython-input-106-934139de14b0>:27: UserWarning: Boolean Series key will be reindexed to match DataFrame index.\n",
      "  df_hk = df[df.cmdb_id == host][df.name == kpi]\n"
     ]
    },
    {
     "name": "stdout",
     "output_type": "stream",
     "text": [
      " 0.9266464587309136 container_cpu_used\n",
      "[0 0 0 0 0 0 1 1 0 0 0 0 0 0 1 1 0 0 0 0 0 0 0 0 0 1 1 1 1 0]\n",
      "ST Threshold Anomaly!\n",
      "Threshold  -1.0 container_thread_idle\n",
      "Threshold  -1.0 container_thread_running\n",
      "Threshold  -1.0 container_thread_total\n"
     ]
    },
    {
     "name": "stderr",
     "output_type": "stream",
     "text": [
      "<ipython-input-106-934139de14b0>:27: UserWarning: Boolean Series key will be reindexed to match DataFrame index.\n",
      "  df_hk = df[df.cmdb_id == host][df.name == kpi]\n",
      "<ipython-input-106-934139de14b0>:27: UserWarning: Boolean Series key will be reindexed to match DataFrame index.\n",
      "  df_hk = df[df.cmdb_id == host][df.name == kpi]\n",
      "<ipython-input-106-934139de14b0>:27: UserWarning: Boolean Series key will be reindexed to match DataFrame index.\n",
      "  df_hk = df[df.cmdb_id == host][df.name == kpi]\n"
     ]
    },
    {
     "name": "stdout",
     "output_type": "stream",
     "text": [
      "Threshold  -1.0 container_fgc\n",
      "Threshold  -1.0 container_thread_used_pct\n",
      "Threshold  0.8401165081668753 container_mem_used\n",
      "docker_002  completed in  0.6523630619049072\n",
      "************************************************************\n",
      "Checking  docker_004\n",
      "Threshold  -1.0 container_session_used\n"
     ]
    },
    {
     "name": "stderr",
     "output_type": "stream",
     "text": [
      "<ipython-input-106-934139de14b0>:27: UserWarning: Boolean Series key will be reindexed to match DataFrame index.\n",
      "  df_hk = df[df.cmdb_id == host][df.name == kpi]\n",
      "<ipython-input-106-934139de14b0>:27: UserWarning: Boolean Series key will be reindexed to match DataFrame index.\n",
      "  df_hk = df[df.cmdb_id == host][df.name == kpi]\n",
      "<ipython-input-106-934139de14b0>:27: UserWarning: Boolean Series key will be reindexed to match DataFrame index.\n",
      "  df_hk = df[df.cmdb_id == host][df.name == kpi]\n",
      "/Users/baconbaker/anaconda3/envs/ml/lib/python3.8/site-packages/alibi_detect/od/sr.py:96: RuntimeWarning: divide by zero encountered in log\n",
      "  log_amp = np.log(amp)\n",
      "/Users/baconbaker/anaconda3/envs/ml/lib/python3.8/site-packages/alibi_detect/od/sr.py:99: RuntimeWarning: invalid value encountered in subtract\n",
      "  res_amp = log_amp - ma_log_amp\n",
      "/Users/baconbaker/anaconda3/envs/ml/lib/python3.8/site-packages/alibi_detect/od/sr.py:207: RuntimeWarning: invalid value encountered in greater\n",
      "  outlier_pred = (iscore > self.threshold).astype(int)\n",
      "<ipython-input-106-934139de14b0>:27: UserWarning: Boolean Series key will be reindexed to match DataFrame index.\n",
      "  df_hk = df[df.cmdb_id == host][df.name == kpi]\n"
     ]
    },
    {
     "name": "stdout",
     "output_type": "stream",
     "text": [
      "Threshold  -1.0 container_fgct\n",
      "Threshold  0.9373940940554992 container_cpu_used\n",
      "Threshold  -1.0 container_thread_idle\n",
      "Threshold  -1.0 container_thread_running\n"
     ]
    },
    {
     "name": "stderr",
     "output_type": "stream",
     "text": [
      "<ipython-input-106-934139de14b0>:27: UserWarning: Boolean Series key will be reindexed to match DataFrame index.\n",
      "  df_hk = df[df.cmdb_id == host][df.name == kpi]\n",
      "<ipython-input-106-934139de14b0>:27: UserWarning: Boolean Series key will be reindexed to match DataFrame index.\n",
      "  df_hk = df[df.cmdb_id == host][df.name == kpi]\n",
      "<ipython-input-106-934139de14b0>:27: UserWarning: Boolean Series key will be reindexed to match DataFrame index.\n",
      "  df_hk = df[df.cmdb_id == host][df.name == kpi]\n",
      "<ipython-input-106-934139de14b0>:27: UserWarning: Boolean Series key will be reindexed to match DataFrame index.\n",
      "  df_hk = df[df.cmdb_id == host][df.name == kpi]\n"
     ]
    },
    {
     "name": "stdout",
     "output_type": "stream",
     "text": [
      "Threshold  -1.0 container_thread_total\n",
      "Threshold  -1.0 container_fgc\n",
      "Threshold  -1.0 container_thread_used_pct\n",
      "Threshold  nan container_mem_used\n"
     ]
    },
    {
     "name": "stderr",
     "output_type": "stream",
     "text": [
      "<ipython-input-106-934139de14b0>:27: UserWarning: Boolean Series key will be reindexed to match DataFrame index.\n",
      "  df_hk = df[df.cmdb_id == host][df.name == kpi]\n",
      "<ipython-input-106-934139de14b0>:27: UserWarning: Boolean Series key will be reindexed to match DataFrame index.\n",
      "  df_hk = df[df.cmdb_id == host][df.name == kpi]\n",
      "<ipython-input-106-934139de14b0>:27: UserWarning: Boolean Series key will be reindexed to match DataFrame index.\n",
      "  df_hk = df[df.cmdb_id == host][df.name == kpi]\n",
      "<ipython-input-106-934139de14b0>:27: UserWarning: Boolean Series key will be reindexed to match DataFrame index.\n",
      "  df_hk = df[df.cmdb_id == host][df.name == kpi]\n"
     ]
    },
    {
     "name": "stdout",
     "output_type": "stream",
     "text": [
      "NaN, Skipping!\n",
      "docker_004  completed in  0.6031739711761475\n",
      "************************************************************\n",
      "Checking  docker_007\n",
      "Threshold  -1.0 container_session_used\n",
      "Threshold  -1.0 container_fgct\n",
      "Threshold  1.2127653177275108 container_cpu_used\n"
     ]
    },
    {
     "name": "stderr",
     "output_type": "stream",
     "text": [
      "<ipython-input-106-934139de14b0>:27: UserWarning: Boolean Series key will be reindexed to match DataFrame index.\n",
      "  df_hk = df[df.cmdb_id == host][df.name == kpi]\n",
      "<ipython-input-106-934139de14b0>:27: UserWarning: Boolean Series key will be reindexed to match DataFrame index.\n",
      "  df_hk = df[df.cmdb_id == host][df.name == kpi]\n",
      "<ipython-input-106-934139de14b0>:27: UserWarning: Boolean Series key will be reindexed to match DataFrame index.\n",
      "  df_hk = df[df.cmdb_id == host][df.name == kpi]\n"
     ]
    },
    {
     "name": "stdout",
     "output_type": "stream",
     "text": [
      "[1 0 0 1 1 1 0 0 0 0 0 0 0 0 0 0 0 0 0 0 0 0 1 1 1 0 0 1 1 1]\n",
      "ST Threshold Anomaly!\n",
      "Threshold  -1.0 container_thread_idle\n",
      "Threshold  -1.0 container_thread_running\n",
      "Threshold  -1.0 container_thread_total\n",
      "Threshold  -1.0 container_fgc\n"
     ]
    },
    {
     "name": "stderr",
     "output_type": "stream",
     "text": [
      "<ipython-input-106-934139de14b0>:27: UserWarning: Boolean Series key will be reindexed to match DataFrame index.\n",
      "  df_hk = df[df.cmdb_id == host][df.name == kpi]\n",
      "<ipython-input-106-934139de14b0>:27: UserWarning: Boolean Series key will be reindexed to match DataFrame index.\n",
      "  df_hk = df[df.cmdb_id == host][df.name == kpi]\n",
      "<ipython-input-106-934139de14b0>:27: UserWarning: Boolean Series key will be reindexed to match DataFrame index.\n",
      "  df_hk = df[df.cmdb_id == host][df.name == kpi]\n",
      "<ipython-input-106-934139de14b0>:27: UserWarning: Boolean Series key will be reindexed to match DataFrame index.\n",
      "  df_hk = df[df.cmdb_id == host][df.name == kpi]\n"
     ]
    },
    {
     "name": "stdout",
     "output_type": "stream",
     "text": [
      "Threshold  -1.0 container_thread_used_pct\n",
      "Threshold  0.8416293989449074 container_mem_used\n",
      "docker_007  completed in  0.6325178146362305\n",
      "************************************************************\n",
      "Checking  docker_006\n",
      "Threshold  -1.0 container_session_used\n",
      "Threshold "
     ]
    },
    {
     "name": "stderr",
     "output_type": "stream",
     "text": [
      "<ipython-input-106-934139de14b0>:27: UserWarning: Boolean Series key will be reindexed to match DataFrame index.\n",
      "  df_hk = df[df.cmdb_id == host][df.name == kpi]\n",
      "<ipython-input-106-934139de14b0>:27: UserWarning: Boolean Series key will be reindexed to match DataFrame index.\n",
      "  df_hk = df[df.cmdb_id == host][df.name == kpi]\n",
      "/Users/baconbaker/anaconda3/envs/ml/lib/python3.8/site-packages/alibi_detect/od/sr.py:96: RuntimeWarning: divide by zero encountered in log\n",
      "  log_amp = np.log(amp)\n",
      "/Users/baconbaker/anaconda3/envs/ml/lib/python3.8/site-packages/alibi_detect/od/sr.py:99: RuntimeWarning: invalid value encountered in subtract\n",
      "  res_amp = log_amp - ma_log_amp\n",
      "/Users/baconbaker/anaconda3/envs/ml/lib/python3.8/site-packages/alibi_detect/od/sr.py:207: RuntimeWarning: invalid value encountered in greater\n",
      "  outlier_pred = (iscore > self.threshold).astype(int)\n",
      "<ipython-input-106-934139de14b0>:27: UserWarning: Boolean Series key will be reindexed to match DataFrame index.\n",
      "  df_hk = df[df.cmdb_id == host][df.name == kpi]\n"
     ]
    },
    {
     "name": "stdout",
     "output_type": "stream",
     "text": [
      " -1.0 container_fgct\n",
      "Threshold  0.8740021811401982 container_cpu_used\n",
      "Threshold  -1.0 container_thread_idle\n",
      "Threshold  -1.0 container_thread_running\n"
     ]
    },
    {
     "name": "stderr",
     "output_type": "stream",
     "text": [
      "<ipython-input-106-934139de14b0>:27: UserWarning: Boolean Series key will be reindexed to match DataFrame index.\n",
      "  df_hk = df[df.cmdb_id == host][df.name == kpi]\n",
      "<ipython-input-106-934139de14b0>:27: UserWarning: Boolean Series key will be reindexed to match DataFrame index.\n",
      "  df_hk = df[df.cmdb_id == host][df.name == kpi]\n",
      "<ipython-input-106-934139de14b0>:27: UserWarning: Boolean Series key will be reindexed to match DataFrame index.\n",
      "  df_hk = df[df.cmdb_id == host][df.name == kpi]\n",
      "<ipython-input-106-934139de14b0>:27: UserWarning: Boolean Series key will be reindexed to match DataFrame index.\n",
      "  df_hk = df[df.cmdb_id == host][df.name == kpi]\n"
     ]
    },
    {
     "name": "stdout",
     "output_type": "stream",
     "text": [
      "Threshold  -1.0 container_thread_total\n",
      "Threshold  -1.0 container_fgc\n",
      "Threshold  -1.0 container_thread_used_pct\n",
      "Threshold "
     ]
    },
    {
     "name": "stderr",
     "output_type": "stream",
     "text": [
      "<ipython-input-106-934139de14b0>:27: UserWarning: Boolean Series key will be reindexed to match DataFrame index.\n",
      "  df_hk = df[df.cmdb_id == host][df.name == kpi]\n",
      "<ipython-input-106-934139de14b0>:27: UserWarning: Boolean Series key will be reindexed to match DataFrame index.\n",
      "  df_hk = df[df.cmdb_id == host][df.name == kpi]\n",
      "<ipython-input-106-934139de14b0>:27: UserWarning: Boolean Series key will be reindexed to match DataFrame index.\n",
      "  df_hk = df[df.cmdb_id == host][df.name == kpi]\n"
     ]
    },
    {
     "name": "stdout",
     "output_type": "stream",
     "text": [
      " 0.8319467742480632 container_mem_used\n",
      "docker_006  completed in  0.6554129123687744\n",
      "************************************************************\n",
      "Checking  redis_010\n",
      "Threshold  0.8576441575973182 used_memory_rss\n",
      "[1 1 0 0 0 0 0 0 0 0 0 0 0 0 0 0 0 0 0 0 0 0 0 0 0 0 0 0 0 1]\n",
      "ST Threshold Anomaly!\n",
      "Threshold  -1.0 rejected_connections\n",
      "Threshold  -1.0 keyspace_misses\n",
      "Threshold "
     ]
    },
    {
     "name": "stderr",
     "output_type": "stream",
     "text": [
      "<ipython-input-106-934139de14b0>:27: UserWarning: Boolean Series key will be reindexed to match DataFrame index.\n",
      "  df_hk = df[df.cmdb_id == host][df.name == kpi]\n",
      "/Users/baconbaker/anaconda3/envs/ml/lib/python3.8/site-packages/alibi_detect/od/sr.py:96: RuntimeWarning: divide by zero encountered in log\n",
      "  log_amp = np.log(amp)\n",
      "/Users/baconbaker/anaconda3/envs/ml/lib/python3.8/site-packages/alibi_detect/od/sr.py:99: RuntimeWarning: invalid value encountered in subtract\n",
      "  res_amp = log_amp - ma_log_amp\n",
      "/Users/baconbaker/anaconda3/envs/ml/lib/python3.8/site-packages/alibi_detect/od/sr.py:207: RuntimeWarning: invalid value encountered in greater\n",
      "  outlier_pred = (iscore > self.threshold).astype(int)\n",
      "<ipython-input-106-934139de14b0>:27: UserWarning: Boolean Series key will be reindexed to match DataFrame index.\n",
      "  df_hk = df[df.cmdb_id == host][df.name == kpi]\n",
      "<ipython-input-106-934139de14b0>:27: UserWarning: Boolean Series key will be reindexed to match DataFrame index.\n",
      "  df_hk = df[df.cmdb_id == host][df.name == kpi]\n",
      "<ipython-input-106-934139de14b0>:27: UserWarning: Boolean Series key will be reindexed to match DataFrame index.\n",
      "  df_hk = df[df.cmdb_id == host][df.name == kpi]\n"
     ]
    },
    {
     "name": "stdout",
     "output_type": "stream",
     "text": [
      " -1.0 blocked_clients\n",
      "Threshold  0.8650597233099533 instantaneous_ops_per_sec\n",
      "[1 0 0 0 0 0 0 0 0 0 0 0 0 0 0 0 0 0 0 0 0 0 0 0 0 0 0 0 0 1]\n",
      "ST Threshold Anomaly!\n",
      "Threshold  -1.0 redis_load\n",
      "Threshold  nan connected_clients\n",
      "NaN, Skipping!\n",
      "Threshold  0.7887467164790677 mem_fragmentation_ratio\n"
     ]
    },
    {
     "name": "stderr",
     "output_type": "stream",
     "text": [
      "<ipython-input-106-934139de14b0>:27: UserWarning: Boolean Series key will be reindexed to match DataFrame index.\n",
      "  df_hk = df[df.cmdb_id == host][df.name == kpi]\n",
      "<ipython-input-106-934139de14b0>:27: UserWarning: Boolean Series key will be reindexed to match DataFrame index.\n",
      "  df_hk = df[df.cmdb_id == host][df.name == kpi]\n",
      "<ipython-input-106-934139de14b0>:27: UserWarning: Boolean Series key will be reindexed to match DataFrame index.\n",
      "  df_hk = df[df.cmdb_id == host][df.name == kpi]\n",
      "<ipython-input-106-934139de14b0>:27: UserWarning: Boolean Series key will be reindexed to match DataFrame index.\n",
      "  df_hk = df[df.cmdb_id == host][df.name == kpi]\n",
      "<ipython-input-106-934139de14b0>:27: UserWarning: Boolean Series key will be reindexed to match DataFrame index.\n",
      "  df_hk = df[df.cmdb_id == host][df.name == kpi]\n"
     ]
    },
    {
     "name": "stdout",
     "output_type": "stream",
     "text": [
      "[1 1 0 0 0 0 0 0 0 0 0 0 0 0 0 0 0 0 0 0 0 0 0 0 0 0 0 0 0 1]\n",
      "ST Threshold Anomaly!\n",
      "Threshold  0.8580853916077403 total_commands_processed\n",
      "Threshold  0.8574661637677614 total_connections_received\n",
      "[1 1 0 0 0 0 0 0 0 0 0 0 0 0 0 0 0 0 0 0 0 0 0 0 0 0 0 0 0 1]\n",
      "ST Threshold Anomaly!\n",
      "Threshold  nan keyspace_hits\n",
      "NaN, Skipping!\n",
      "Threshold  -1.0 expired_keys\n",
      "Threshold "
     ]
    },
    {
     "name": "stderr",
     "output_type": "stream",
     "text": [
      "<ipython-input-106-934139de14b0>:27: UserWarning: Boolean Series key will be reindexed to match DataFrame index.\n",
      "  df_hk = df[df.cmdb_id == host][df.name == kpi]\n",
      "<ipython-input-106-934139de14b0>:27: UserWarning: Boolean Series key will be reindexed to match DataFrame index.\n",
      "  df_hk = df[df.cmdb_id == host][df.name == kpi]\n",
      "<ipython-input-106-934139de14b0>:27: UserWarning: Boolean Series key will be reindexed to match DataFrame index.\n",
      "  df_hk = df[df.cmdb_id == host][df.name == kpi]\n",
      "<ipython-input-106-934139de14b0>:27: UserWarning: Boolean Series key will be reindexed to match DataFrame index.\n",
      "  df_hk = df[df.cmdb_id == host][df.name == kpi]\n"
     ]
    },
    {
     "name": "stdout",
     "output_type": "stream",
     "text": [
      " nan redis_ping\n",
      "NaN, Skipping!\n",
      "Threshold  nan used_memory_peak\n",
      "NaN, Skipping!\n",
      "Threshold  10.72489040472728 instantaneous_output_kbps\n",
      "Threshold  0.8207216107836335 instantaneous_input_kbps\n",
      "[1 1 1 1 0 0 0 0 0 0 0 0 0 0 0 0 0 0 0 0 0 0 0 0 0 0 0 1 1 1]\n",
      "ST Threshold Anomaly!\n",
      "Threshold  nan Redis_key_count\n"
     ]
    },
    {
     "name": "stderr",
     "output_type": "stream",
     "text": [
      "<ipython-input-106-934139de14b0>:27: UserWarning: Boolean Series key will be reindexed to match DataFrame index.\n",
      "  df_hk = df[df.cmdb_id == host][df.name == kpi]\n",
      "<ipython-input-106-934139de14b0>:27: UserWarning: Boolean Series key will be reindexed to match DataFrame index.\n",
      "  df_hk = df[df.cmdb_id == host][df.name == kpi]\n",
      "<ipython-input-106-934139de14b0>:27: UserWarning: Boolean Series key will be reindexed to match DataFrame index.\n",
      "  df_hk = df[df.cmdb_id == host][df.name == kpi]\n",
      "<ipython-input-106-934139de14b0>:27: UserWarning: Boolean Series key will be reindexed to match DataFrame index.\n",
      "  df_hk = df[df.cmdb_id == host][df.name == kpi]\n",
      "<ipython-input-106-934139de14b0>:27: UserWarning: Boolean Series key will be reindexed to match DataFrame index.\n",
      "  df_hk = df[df.cmdb_id == host][df.name == kpi]\n"
     ]
    },
    {
     "name": "stdout",
     "output_type": "stream",
     "text": [
      "NaN, Skipping!\n",
      "Threshold  -1.0 evicted_keys\n",
      "Threshold  0.7805703089259836 used_cpu_user\n",
      "[1 1 0 1 0 0 0 0 0 0 0 0 0 0 0 0 0 0 0 0 0 0 0 0 0 0 0 0 1 0]\n",
      "ST Threshold Anomaly!\n",
      "Threshold  0.8575405418239239 used_memory\n",
      "Threshold  nan maxmemory\n",
      "NaN, Skipping!\n",
      "Threshold  0.9252735766751936 used_cpu_sys\n"
     ]
    },
    {
     "name": "stderr",
     "output_type": "stream",
     "text": [
      "<ipython-input-106-934139de14b0>:27: UserWarning: Boolean Series key will be reindexed to match DataFrame index.\n",
      "  df_hk = df[df.cmdb_id == host][df.name == kpi]\n",
      "<ipython-input-106-934139de14b0>:27: UserWarning: Boolean Series key will be reindexed to match DataFrame index.\n",
      "  df_hk = df[df.cmdb_id == host][df.name == kpi]\n",
      "<ipython-input-106-934139de14b0>:27: UserWarning: Boolean Series key will be reindexed to match DataFrame index.\n",
      "  df_hk = df[df.cmdb_id == host][df.name == kpi]\n",
      "<ipython-input-106-934139de14b0>:27: UserWarning: Boolean Series key will be reindexed to match DataFrame index.\n",
      "  df_hk = df[df.cmdb_id == host][df.name == kpi]\n",
      "<ipython-input-106-934139de14b0>:27: UserWarning: Boolean Series key will be reindexed to match DataFrame index.\n",
      "  df_hk = df[df.cmdb_id == host][df.name == kpi]\n"
     ]
    },
    {
     "name": "stdout",
     "output_type": "stream",
     "text": [
      "redis_010  completed in  1.18973708152771\n",
      "************************************************************\n",
      "Checking  redis_012\n",
      "Threshold  nan used_memory_rss\n",
      "NaN, Skipping!\n",
      "Threshold  -1.0 rejected_connections\n",
      "Threshold  nan keyspace_misses\n",
      "NaN, Skipping!\n",
      "Threshold  -1.0 blocked_clients\n",
      "Threshold "
     ]
    },
    {
     "name": "stderr",
     "output_type": "stream",
     "text": [
      "<ipython-input-106-934139de14b0>:27: UserWarning: Boolean Series key will be reindexed to match DataFrame index.\n",
      "  df_hk = df[df.cmdb_id == host][df.name == kpi]\n",
      "<ipython-input-106-934139de14b0>:27: UserWarning: Boolean Series key will be reindexed to match DataFrame index.\n",
      "  df_hk = df[df.cmdb_id == host][df.name == kpi]\n",
      "<ipython-input-106-934139de14b0>:27: UserWarning: Boolean Series key will be reindexed to match DataFrame index.\n",
      "  df_hk = df[df.cmdb_id == host][df.name == kpi]\n",
      "<ipython-input-106-934139de14b0>:27: UserWarning: Boolean Series key will be reindexed to match DataFrame index.\n",
      "  df_hk = df[df.cmdb_id == host][df.name == kpi]\n"
     ]
    },
    {
     "name": "stdout",
     "output_type": "stream",
     "text": [
      " 6.012629661119707 instantaneous_ops_per_sec\n",
      "Threshold  -1.0 redis_load\n",
      "Threshold  nan connected_clients\n",
      "NaN, Skipping!\n",
      "Threshold  nan mem_fragmentation_ratio\n",
      "NaN, Skipping!"
     ]
    },
    {
     "name": "stderr",
     "output_type": "stream",
     "text": [
      "<ipython-input-106-934139de14b0>:27: UserWarning: Boolean Series key will be reindexed to match DataFrame index.\n",
      "  df_hk = df[df.cmdb_id == host][df.name == kpi]\n",
      "<ipython-input-106-934139de14b0>:27: UserWarning: Boolean Series key will be reindexed to match DataFrame index.\n",
      "  df_hk = df[df.cmdb_id == host][df.name == kpi]\n",
      "<ipython-input-106-934139de14b0>:27: UserWarning: Boolean Series key will be reindexed to match DataFrame index.\n",
      "  df_hk = df[df.cmdb_id == host][df.name == kpi]\n",
      "<ipython-input-106-934139de14b0>:27: UserWarning: Boolean Series key will be reindexed to match DataFrame index.\n",
      "  df_hk = df[df.cmdb_id == host][df.name == kpi]\n"
     ]
    },
    {
     "name": "stdout",
     "output_type": "stream",
     "text": [
      "\n",
      "Threshold  0.8611178963344486 total_commands_processed\n",
      "Threshold  0.8576786515875714 total_connections_received\n",
      "[1 1 0 0 0 0 0 0 0 0 0 0 0 0 0 0 0 0 0 0 0 0 0 0 0 0 0 0 0 1]\n",
      "ST Threshold Anomaly!\n",
      "Threshold  nan keyspace_hits\n",
      "NaN, Skipping!\n",
      "Threshold  nan expired_keys\n",
      "NaN, Skipping!"
     ]
    },
    {
     "name": "stderr",
     "output_type": "stream",
     "text": [
      "<ipython-input-106-934139de14b0>:27: UserWarning: Boolean Series key will be reindexed to match DataFrame index.\n",
      "  df_hk = df[df.cmdb_id == host][df.name == kpi]\n",
      "<ipython-input-106-934139de14b0>:27: UserWarning: Boolean Series key will be reindexed to match DataFrame index.\n",
      "  df_hk = df[df.cmdb_id == host][df.name == kpi]\n",
      "<ipython-input-106-934139de14b0>:27: UserWarning: Boolean Series key will be reindexed to match DataFrame index.\n",
      "  df_hk = df[df.cmdb_id == host][df.name == kpi]\n",
      "<ipython-input-106-934139de14b0>:27: UserWarning: Boolean Series key will be reindexed to match DataFrame index.\n",
      "  df_hk = df[df.cmdb_id == host][df.name == kpi]\n"
     ]
    },
    {
     "name": "stdout",
     "output_type": "stream",
     "text": [
      "\n",
      "Threshold  nan redis_ping\n",
      "NaN, Skipping!\n",
      "Threshold  nan used_memory_peak\n",
      "NaN, Skipping!\n",
      "Threshold  1.599833460912407 instantaneous_output_kbps\n",
      "Threshold  11.636093973867938 instantaneous_input_kbps\n"
     ]
    },
    {
     "name": "stderr",
     "output_type": "stream",
     "text": [
      "<ipython-input-106-934139de14b0>:27: UserWarning: Boolean Series key will be reindexed to match DataFrame index.\n",
      "  df_hk = df[df.cmdb_id == host][df.name == kpi]\n",
      "<ipython-input-106-934139de14b0>:27: UserWarning: Boolean Series key will be reindexed to match DataFrame index.\n",
      "  df_hk = df[df.cmdb_id == host][df.name == kpi]\n",
      "<ipython-input-106-934139de14b0>:27: UserWarning: Boolean Series key will be reindexed to match DataFrame index.\n",
      "  df_hk = df[df.cmdb_id == host][df.name == kpi]\n",
      "<ipython-input-106-934139de14b0>:27: UserWarning: Boolean Series key will be reindexed to match DataFrame index.\n",
      "  df_hk = df[df.cmdb_id == host][df.name == kpi]\n"
     ]
    },
    {
     "name": "stdout",
     "output_type": "stream",
     "text": [
      "Threshold  nan Redis_key_count\n",
      "NaN, Skipping!\n",
      "Threshold  -1.0 evicted_keys\n",
      "Threshold  2.5875072483979253 used_cpu_user\n",
      "Threshold  0.8576795445223184 used_memory\n"
     ]
    },
    {
     "name": "stderr",
     "output_type": "stream",
     "text": [
      "<ipython-input-106-934139de14b0>:27: UserWarning: Boolean Series key will be reindexed to match DataFrame index.\n",
      "  df_hk = df[df.cmdb_id == host][df.name == kpi]\n",
      "<ipython-input-106-934139de14b0>:27: UserWarning: Boolean Series key will be reindexed to match DataFrame index.\n",
      "  df_hk = df[df.cmdb_id == host][df.name == kpi]\n",
      "<ipython-input-106-934139de14b0>:27: UserWarning: Boolean Series key will be reindexed to match DataFrame index.\n",
      "  df_hk = df[df.cmdb_id == host][df.name == kpi]\n",
      "<ipython-input-106-934139de14b0>:27: UserWarning: Boolean Series key will be reindexed to match DataFrame index.\n",
      "  df_hk = df[df.cmdb_id == host][df.name == kpi]\n"
     ]
    },
    {
     "name": "stdout",
     "output_type": "stream",
     "text": [
      "[1 1 0 0 0 0 0 0 0 0 0 0 0 0 0 0 0 0 0 0 0 0 0 0 0 0 0 0 0 1]\n",
      "ST Threshold Anomaly!\n",
      "Threshold  nan maxmemory\n",
      "NaN, Skipping!\n",
      "Threshold  2.706225995019292 used_cpu_sys\n",
      "redis_012  completed in  1.2010371685028076\n",
      "************************************************************\n",
      "Checking  redis_009\n",
      "Threshold  0.8574487194480379 used_memory_rss\n",
      "[1 1 0 0 0 0 0 0 0 0 0 0 0 0 0 0 0 0 0 0 0 0 0 0 0 0 0 0 0 1]\n",
      "ST Threshold Anomaly!\n",
      "Threshold  -1.0 rejected_connections\n",
      "Threshold "
     ]
    },
    {
     "name": "stderr",
     "output_type": "stream",
     "text": [
      "<ipython-input-106-934139de14b0>:27: UserWarning: Boolean Series key will be reindexed to match DataFrame index.\n",
      "  df_hk = df[df.cmdb_id == host][df.name == kpi]\n",
      "<ipython-input-106-934139de14b0>:27: UserWarning: Boolean Series key will be reindexed to match DataFrame index.\n",
      "  df_hk = df[df.cmdb_id == host][df.name == kpi]\n",
      "<ipython-input-106-934139de14b0>:27: UserWarning: Boolean Series key will be reindexed to match DataFrame index.\n",
      "  df_hk = df[df.cmdb_id == host][df.name == kpi]\n",
      "<ipython-input-106-934139de14b0>:27: UserWarning: Boolean Series key will be reindexed to match DataFrame index.\n",
      "  df_hk = df[df.cmdb_id == host][df.name == kpi]\n"
     ]
    },
    {
     "name": "stdout",
     "output_type": "stream",
     "text": [
      " 0.8573711979081837 keyspace_misses\n",
      "[1 1 0 0 0 0 0 0 0 0 0 0 0 0 0 0 0 0 0 0 0 0 0 0 0 0 0 0 0 1]\n",
      "ST Threshold Anomaly!\n",
      "Threshold  -1.0 blocked_clients\n",
      "Threshold  0.8580370393890899 instantaneous_ops_per_sec\n",
      "Threshold  -1.0 redis_load\n",
      "Threshold  0.8535071410734322 connected_clients\n"
     ]
    },
    {
     "name": "stderr",
     "output_type": "stream",
     "text": [
      "<ipython-input-106-934139de14b0>:27: UserWarning: Boolean Series key will be reindexed to match DataFrame index.\n",
      "  df_hk = df[df.cmdb_id == host][df.name == kpi]\n",
      "<ipython-input-106-934139de14b0>:27: UserWarning: Boolean Series key will be reindexed to match DataFrame index.\n",
      "  df_hk = df[df.cmdb_id == host][df.name == kpi]\n",
      "<ipython-input-106-934139de14b0>:27: UserWarning: Boolean Series key will be reindexed to match DataFrame index.\n",
      "  df_hk = df[df.cmdb_id == host][df.name == kpi]\n",
      "<ipython-input-106-934139de14b0>:27: UserWarning: Boolean Series key will be reindexed to match DataFrame index.\n",
      "  df_hk = df[df.cmdb_id == host][df.name == kpi]\n",
      "<ipython-input-106-934139de14b0>:27: UserWarning: Boolean Series key will be reindexed to match DataFrame index.\n",
      "  df_hk = df[df.cmdb_id == host][df.name == kpi]\n"
     ]
    },
    {
     "name": "stdout",
     "output_type": "stream",
     "text": [
      "Threshold  0.8627505532771018 mem_fragmentation_ratio\n",
      "[0 1 0 0 0 0 0 0 0 0 0 0 0 0 0 0 0 0 0 0 0 0 0 0 0 0 0 0 0 1]\n",
      "ST Threshold Anomaly!\n",
      "Threshold  0.8575861683956421 total_commands_processed\n",
      "[1 1 0 0 0 0 0 0 0 0 0 0 0 0 0 0 0 0 0 0 0 0 0 0 0 0 0 0 0 1]\n",
      "ST Threshold Anomaly!\n",
      "Threshold  0.8573386648064086 total_connections_received\n",
      "[1 1 0 0 0 0 0 0 0 0 0 0 0 0 0 0 0 0 0 0 0 0 0 0 0 0 0 0 0 1]\n",
      "ST Threshold Anomaly!\n",
      "Threshold  0.8573786926074779 keyspace_hits\n"
     ]
    },
    {
     "name": "stderr",
     "output_type": "stream",
     "text": [
      "<ipython-input-106-934139de14b0>:27: UserWarning: Boolean Series key will be reindexed to match DataFrame index.\n",
      "  df_hk = df[df.cmdb_id == host][df.name == kpi]\n",
      "<ipython-input-106-934139de14b0>:27: UserWarning: Boolean Series key will be reindexed to match DataFrame index.\n",
      "  df_hk = df[df.cmdb_id == host][df.name == kpi]\n",
      "<ipython-input-106-934139de14b0>:27: UserWarning: Boolean Series key will be reindexed to match DataFrame index.\n",
      "  df_hk = df[df.cmdb_id == host][df.name == kpi]\n",
      "<ipython-input-106-934139de14b0>:27: UserWarning: Boolean Series key will be reindexed to match DataFrame index.\n",
      "  df_hk = df[df.cmdb_id == host][df.name == kpi]\n"
     ]
    },
    {
     "name": "stdout",
     "output_type": "stream",
     "text": [
      "[1 1 0 0 0 0 0 0 0 0 0 0 0 0 0 0 0 0 0 0 0 0 0 0 0 0 0 0 0 1]\n",
      "ST Threshold Anomaly!\n",
      "Threshold  nan expired_keys\n",
      "NaN, Skipping!\n",
      "Threshold  nan redis_ping\n",
      "NaN, Skipping!\n",
      "Threshold  nan used_memory_peak\n",
      "NaN, Skipping!\n",
      "Threshold  0.860672230692662 instantaneous_output_kbps\n"
     ]
    },
    {
     "name": "stderr",
     "output_type": "stream",
     "text": [
      "<ipython-input-106-934139de14b0>:27: UserWarning: Boolean Series key will be reindexed to match DataFrame index.\n",
      "  df_hk = df[df.cmdb_id == host][df.name == kpi]\n",
      "<ipython-input-106-934139de14b0>:27: UserWarning: Boolean Series key will be reindexed to match DataFrame index.\n",
      "  df_hk = df[df.cmdb_id == host][df.name == kpi]\n",
      "<ipython-input-106-934139de14b0>:27: UserWarning: Boolean Series key will be reindexed to match DataFrame index.\n",
      "  df_hk = df[df.cmdb_id == host][df.name == kpi]\n",
      "<ipython-input-106-934139de14b0>:27: UserWarning: Boolean Series key will be reindexed to match DataFrame index.\n",
      "  df_hk = df[df.cmdb_id == host][df.name == kpi]\n"
     ]
    },
    {
     "name": "stdout",
     "output_type": "stream",
     "text": [
      "Threshold  0.8546896746951423 instantaneous_input_kbps\n",
      "Threshold  nan Redis_key_count\n",
      "NaN, Skipping!\n",
      "Threshold  -1.0 evicted_keys\n",
      "Threshold  0.8317816798690577 used_cpu_user\n"
     ]
    },
    {
     "name": "stderr",
     "output_type": "stream",
     "text": [
      "<ipython-input-106-934139de14b0>:27: UserWarning: Boolean Series key will be reindexed to match DataFrame index.\n",
      "  df_hk = df[df.cmdb_id == host][df.name == kpi]\n",
      "<ipython-input-106-934139de14b0>:27: UserWarning: Boolean Series key will be reindexed to match DataFrame index.\n",
      "  df_hk = df[df.cmdb_id == host][df.name == kpi]\n",
      "<ipython-input-106-934139de14b0>:27: UserWarning: Boolean Series key will be reindexed to match DataFrame index.\n",
      "  df_hk = df[df.cmdb_id == host][df.name == kpi]\n",
      "<ipython-input-106-934139de14b0>:27: UserWarning: Boolean Series key will be reindexed to match DataFrame index.\n",
      "  df_hk = df[df.cmdb_id == host][df.name == kpi]\n"
     ]
    },
    {
     "name": "stdout",
     "output_type": "stream",
     "text": [
      "[1 1 0 0 0 0 0 0 0 0 0 0 0 0 0 0 0 0 0 0 0 0 0 0 0 0 0 0 0 1]\n",
      "ST Threshold Anomaly!\n",
      "Threshold  0.8571027497586357 used_memory\n",
      "Threshold  nan maxmemory\n",
      "NaN, Skipping!\n",
      "Threshold  0.8256010327208283 used_cpu_sys\n",
      "[1 0 0 0 0 0 0 0 0 0 0 0 0 0 0 0 0 0 0 0 0 0 0 0 0 0 0 0 0 1]\n",
      "ST Threshold Anomaly!\n",
      "redis_009  completed in  1.1984832286834717\n",
      "************************************************************\n",
      "Checking  redis_007\n",
      "Threshold  0.8576549939303917 used_memory_rss\n"
     ]
    },
    {
     "name": "stderr",
     "output_type": "stream",
     "text": [
      "<ipython-input-106-934139de14b0>:27: UserWarning: Boolean Series key will be reindexed to match DataFrame index.\n",
      "  df_hk = df[df.cmdb_id == host][df.name == kpi]\n",
      "<ipython-input-106-934139de14b0>:27: UserWarning: Boolean Series key will be reindexed to match DataFrame index.\n",
      "  df_hk = df[df.cmdb_id == host][df.name == kpi]\n",
      "<ipython-input-106-934139de14b0>:27: UserWarning: Boolean Series key will be reindexed to match DataFrame index.\n",
      "  df_hk = df[df.cmdb_id == host][df.name == kpi]\n",
      "<ipython-input-106-934139de14b0>:27: UserWarning: Boolean Series key will be reindexed to match DataFrame index.\n",
      "  df_hk = df[df.cmdb_id == host][df.name == kpi]\n"
     ]
    },
    {
     "name": "stdout",
     "output_type": "stream",
     "text": [
      "[1 1 0 0 0 0 0 0 0 0 0 0 0 0 0 0 0 0 0 0 0 0 0 0 0 0 0 0 0 1]\n",
      "ST Threshold Anomaly!\n",
      "Threshold  -1.0 rejected_connections\n",
      "Threshold  -1.0 keyspace_misses\n",
      "Threshold  -1.0 blocked_clients\n",
      "Threshold  0.8491763418296667 instantaneous_ops_per_sec\n"
     ]
    },
    {
     "name": "stderr",
     "output_type": "stream",
     "text": [
      "<ipython-input-106-934139de14b0>:27: UserWarning: Boolean Series key will be reindexed to match DataFrame index.\n",
      "  df_hk = df[df.cmdb_id == host][df.name == kpi]\n",
      "<ipython-input-106-934139de14b0>:27: UserWarning: Boolean Series key will be reindexed to match DataFrame index.\n",
      "  df_hk = df[df.cmdb_id == host][df.name == kpi]\n",
      "<ipython-input-106-934139de14b0>:27: UserWarning: Boolean Series key will be reindexed to match DataFrame index.\n",
      "  df_hk = df[df.cmdb_id == host][df.name == kpi]\n",
      "<ipython-input-106-934139de14b0>:27: UserWarning: Boolean Series key will be reindexed to match DataFrame index.\n",
      "  df_hk = df[df.cmdb_id == host][df.name == kpi]\n"
     ]
    },
    {
     "name": "stdout",
     "output_type": "stream",
     "text": [
      "[1 1 0 0 0 0 0 0 0 0 0 0 0 0 0 0 0 0 0 0 0 0 0 0 0 0 0 0 1 1]\n",
      "ST Threshold Anomaly!\n",
      "Threshold  -1.0 redis_load\n",
      "Threshold  nan connected_clients\n",
      "NaN, Skipping!\n",
      "Threshold  0.8591428274600652 mem_fragmentation_ratio\n",
      "Threshold  0.8573378482470537 total_commands_processed\n"
     ]
    },
    {
     "name": "stderr",
     "output_type": "stream",
     "text": [
      "<ipython-input-106-934139de14b0>:27: UserWarning: Boolean Series key will be reindexed to match DataFrame index.\n",
      "  df_hk = df[df.cmdb_id == host][df.name == kpi]\n",
      "<ipython-input-106-934139de14b0>:27: UserWarning: Boolean Series key will be reindexed to match DataFrame index.\n",
      "  df_hk = df[df.cmdb_id == host][df.name == kpi]\n",
      "<ipython-input-106-934139de14b0>:27: UserWarning: Boolean Series key will be reindexed to match DataFrame index.\n",
      "  df_hk = df[df.cmdb_id == host][df.name == kpi]\n",
      "<ipython-input-106-934139de14b0>:27: UserWarning: Boolean Series key will be reindexed to match DataFrame index.\n",
      "  df_hk = df[df.cmdb_id == host][df.name == kpi]\n"
     ]
    },
    {
     "name": "stdout",
     "output_type": "stream",
     "text": [
      "Threshold  0.8574629125729936 total_connections_received\n",
      "[1 1 0 0 0 0 0 0 0 0 0 0 0 0 0 0 0 0 0 0 0 0 0 0 0 0 0 0 0 1]\n",
      "ST Threshold Anomaly!\n",
      "Threshold  nan keyspace_hits\n",
      "NaN, Skipping!\n",
      "Threshold  -1.0 expired_keys\n",
      "Threshold  nan redis_ping\n",
      "NaN, Skipping!"
     ]
    },
    {
     "name": "stderr",
     "output_type": "stream",
     "text": [
      "<ipython-input-106-934139de14b0>:27: UserWarning: Boolean Series key will be reindexed to match DataFrame index.\n",
      "  df_hk = df[df.cmdb_id == host][df.name == kpi]\n",
      "<ipython-input-106-934139de14b0>:27: UserWarning: Boolean Series key will be reindexed to match DataFrame index.\n",
      "  df_hk = df[df.cmdb_id == host][df.name == kpi]\n",
      "<ipython-input-106-934139de14b0>:27: UserWarning: Boolean Series key will be reindexed to match DataFrame index.\n",
      "  df_hk = df[df.cmdb_id == host][df.name == kpi]\n",
      "<ipython-input-106-934139de14b0>:27: UserWarning: Boolean Series key will be reindexed to match DataFrame index.\n",
      "  df_hk = df[df.cmdb_id == host][df.name == kpi]\n"
     ]
    },
    {
     "name": "stdout",
     "output_type": "stream",
     "text": [
      "\n",
      "Threshold  nan used_memory_peak\n",
      "NaN, Skipping!\n",
      "Threshold  3.3894980024866177 instantaneous_output_kbps\n",
      "Threshold  0.8294260282977661 instantaneous_input_kbps\n",
      "Threshold  nan Redis_key_count\n",
      "NaN, Skipping!\n",
      "Threshold  -1.0 evicted_keys\n"
     ]
    },
    {
     "name": "stderr",
     "output_type": "stream",
     "text": [
      "<ipython-input-106-934139de14b0>:27: UserWarning: Boolean Series key will be reindexed to match DataFrame index.\n",
      "  df_hk = df[df.cmdb_id == host][df.name == kpi]\n",
      "<ipython-input-106-934139de14b0>:27: UserWarning: Boolean Series key will be reindexed to match DataFrame index.\n",
      "  df_hk = df[df.cmdb_id == host][df.name == kpi]\n",
      "<ipython-input-106-934139de14b0>:27: UserWarning: Boolean Series key will be reindexed to match DataFrame index.\n",
      "  df_hk = df[df.cmdb_id == host][df.name == kpi]\n",
      "<ipython-input-106-934139de14b0>:27: UserWarning: Boolean Series key will be reindexed to match DataFrame index.\n",
      "  df_hk = df[df.cmdb_id == host][df.name == kpi]\n",
      "<ipython-input-106-934139de14b0>:27: UserWarning: Boolean Series key will be reindexed to match DataFrame index.\n",
      "  df_hk = df[df.cmdb_id == host][df.name == kpi]\n"
     ]
    },
    {
     "name": "stdout",
     "output_type": "stream",
     "text": [
      "Threshold  0.9730763962664016 used_cpu_user\n",
      "Threshold  0.8572680309339374 used_memory\n",
      "Threshold  nan maxmemory\n",
      "NaN, Skipping!\n",
      "Threshold  0.8159543758387595 used_cpu_sys\n",
      "[1 1 0 1 0 0 0 0 0 0 0 0 0 0 0 0 0 0 0 0 0 0 0 0 0 0 0 0 1 0]\n",
      "ST Threshold Anomaly!\n",
      "redis_007  completed in  1.2357451915740967\n",
      "************************************************************\n",
      "Checking  redis_008\n",
      "Threshold  nan used_memory_rss\n",
      "NaN, Skipping!"
     ]
    },
    {
     "name": "stderr",
     "output_type": "stream",
     "text": [
      "<ipython-input-106-934139de14b0>:27: UserWarning: Boolean Series key will be reindexed to match DataFrame index.\n",
      "  df_hk = df[df.cmdb_id == host][df.name == kpi]\n",
      "<ipython-input-106-934139de14b0>:27: UserWarning: Boolean Series key will be reindexed to match DataFrame index.\n",
      "  df_hk = df[df.cmdb_id == host][df.name == kpi]\n",
      "<ipython-input-106-934139de14b0>:27: UserWarning: Boolean Series key will be reindexed to match DataFrame index.\n",
      "  df_hk = df[df.cmdb_id == host][df.name == kpi]\n",
      "<ipython-input-106-934139de14b0>:27: UserWarning: Boolean Series key will be reindexed to match DataFrame index.\n",
      "  df_hk = df[df.cmdb_id == host][df.name == kpi]\n",
      "<ipython-input-106-934139de14b0>:27: UserWarning: Boolean Series key will be reindexed to match DataFrame index.\n",
      "  df_hk = df[df.cmdb_id == host][df.name == kpi]\n"
     ]
    },
    {
     "name": "stdout",
     "output_type": "stream",
     "text": [
      "\n",
      "Threshold  -1.0 rejected_connections\n",
      "Threshold  nan keyspace_misses\n",
      "NaN, Skipping!\n",
      "Threshold  -1.0 blocked_clients\n",
      "Threshold  4.356407408833261 instantaneous_ops_per_sec\n"
     ]
    },
    {
     "name": "stderr",
     "output_type": "stream",
     "text": [
      "<ipython-input-106-934139de14b0>:27: UserWarning: Boolean Series key will be reindexed to match DataFrame index.\n",
      "  df_hk = df[df.cmdb_id == host][df.name == kpi]\n",
      "<ipython-input-106-934139de14b0>:27: UserWarning: Boolean Series key will be reindexed to match DataFrame index.\n",
      "  df_hk = df[df.cmdb_id == host][df.name == kpi]\n",
      "<ipython-input-106-934139de14b0>:27: UserWarning: Boolean Series key will be reindexed to match DataFrame index.\n",
      "  df_hk = df[df.cmdb_id == host][df.name == kpi]\n",
      "<ipython-input-106-934139de14b0>:27: UserWarning: Boolean Series key will be reindexed to match DataFrame index.\n",
      "  df_hk = df[df.cmdb_id == host][df.name == kpi]\n"
     ]
    },
    {
     "name": "stdout",
     "output_type": "stream",
     "text": [
      "Threshold  -1.0 redis_load\n",
      "Threshold  nan connected_clients\n",
      "NaN, Skipping!\n",
      "Threshold  nan mem_fragmentation_ratio\n",
      "NaN, Skipping!\n",
      "Threshold  0.8628429534091633 total_commands_processed\n"
     ]
    },
    {
     "name": "stderr",
     "output_type": "stream",
     "text": [
      "<ipython-input-106-934139de14b0>:27: UserWarning: Boolean Series key will be reindexed to match DataFrame index.\n",
      "  df_hk = df[df.cmdb_id == host][df.name == kpi]\n",
      "<ipython-input-106-934139de14b0>:27: UserWarning: Boolean Series key will be reindexed to match DataFrame index.\n",
      "  df_hk = df[df.cmdb_id == host][df.name == kpi]\n",
      "<ipython-input-106-934139de14b0>:27: UserWarning: Boolean Series key will be reindexed to match DataFrame index.\n",
      "  df_hk = df[df.cmdb_id == host][df.name == kpi]\n",
      "<ipython-input-106-934139de14b0>:27: UserWarning: Boolean Series key will be reindexed to match DataFrame index.\n",
      "  df_hk = df[df.cmdb_id == host][df.name == kpi]\n"
     ]
    },
    {
     "name": "stdout",
     "output_type": "stream",
     "text": [
      "[1 1 0 0 0 0 0 0 0 0 0 0 0 0 0 0 0 0 0 0 0 0 0 0 0 0 0 0 0 1]\n",
      "ST Threshold Anomaly!\n",
      "Threshold  0.8576786515585921 total_connections_received\n",
      "[1 1 0 0 0 0 0 0 0 0 0 0 0 0 0 0 0 0 0 0 0 0 0 0 0 0 0 0 0 1]\n",
      "ST Threshold Anomaly!\n",
      "Threshold  nan keyspace_hits\n",
      "NaN, Skipping!\n",
      "Threshold  nan expired_keys\n",
      "NaN, Skipping!\n",
      "Threshold  nan redis_ping\n"
     ]
    },
    {
     "name": "stderr",
     "output_type": "stream",
     "text": [
      "<ipython-input-106-934139de14b0>:27: UserWarning: Boolean Series key will be reindexed to match DataFrame index.\n",
      "  df_hk = df[df.cmdb_id == host][df.name == kpi]\n",
      "<ipython-input-106-934139de14b0>:27: UserWarning: Boolean Series key will be reindexed to match DataFrame index.\n",
      "  df_hk = df[df.cmdb_id == host][df.name == kpi]\n",
      "<ipython-input-106-934139de14b0>:27: UserWarning: Boolean Series key will be reindexed to match DataFrame index.\n",
      "  df_hk = df[df.cmdb_id == host][df.name == kpi]\n",
      "<ipython-input-106-934139de14b0>:27: UserWarning: Boolean Series key will be reindexed to match DataFrame index.\n",
      "  df_hk = df[df.cmdb_id == host][df.name == kpi]\n"
     ]
    },
    {
     "name": "stdout",
     "output_type": "stream",
     "text": [
      "NaN, Skipping!\n",
      "Threshold  nan used_memory_peak\n",
      "NaN, Skipping!\n",
      "Threshold  3.135939707091352 instantaneous_output_kbps\n",
      "Threshold  2.2164154745686218 instantaneous_input_kbps\n",
      "[0 0 0 1 0 0 0 0 0 0 0 1 0 0 0 0 0 0 0 0 0 0 0 0 0 0 0 0 0 1]\n",
      "ST Threshold Anomaly!\n",
      "Threshold  nan Redis_key_count\n",
      "NaN, Skipping!"
     ]
    },
    {
     "name": "stderr",
     "output_type": "stream",
     "text": [
      "<ipython-input-106-934139de14b0>:27: UserWarning: Boolean Series key will be reindexed to match DataFrame index.\n",
      "  df_hk = df[df.cmdb_id == host][df.name == kpi]\n",
      "<ipython-input-106-934139de14b0>:27: UserWarning: Boolean Series key will be reindexed to match DataFrame index.\n",
      "  df_hk = df[df.cmdb_id == host][df.name == kpi]\n",
      "<ipython-input-106-934139de14b0>:27: UserWarning: Boolean Series key will be reindexed to match DataFrame index.\n",
      "  df_hk = df[df.cmdb_id == host][df.name == kpi]\n",
      "<ipython-input-106-934139de14b0>:27: UserWarning: Boolean Series key will be reindexed to match DataFrame index.\n",
      "  df_hk = df[df.cmdb_id == host][df.name == kpi]\n"
     ]
    },
    {
     "name": "stdout",
     "output_type": "stream",
     "text": [
      "\n",
      "Threshold  -1.0 evicted_keys\n",
      "Threshold  2.8407200534991164 used_cpu_user\n",
      "Threshold  0.8576776422732205 used_memory\n",
      "[1 1 0 0 0 0 0 0 0 0 0 0 0 0 0 0 0 0 0 0 0 0 0 0 0 0 0 0 0 1]\n",
      "ST Threshold Anomaly!\n",
      "Threshold  nan maxmemory\n",
      "NaN, Skipping!"
     ]
    },
    {
     "name": "stderr",
     "output_type": "stream",
     "text": [
      "<ipython-input-106-934139de14b0>:27: UserWarning: Boolean Series key will be reindexed to match DataFrame index.\n",
      "  df_hk = df[df.cmdb_id == host][df.name == kpi]\n",
      "<ipython-input-106-934139de14b0>:27: UserWarning: Boolean Series key will be reindexed to match DataFrame index.\n",
      "  df_hk = df[df.cmdb_id == host][df.name == kpi]\n",
      "<ipython-input-106-934139de14b0>:27: UserWarning: Boolean Series key will be reindexed to match DataFrame index.\n",
      "  df_hk = df[df.cmdb_id == host][df.name == kpi]\n",
      "<ipython-input-106-934139de14b0>:27: UserWarning: Boolean Series key will be reindexed to match DataFrame index.\n",
      "  df_hk = df[df.cmdb_id == host][df.name == kpi]\n"
     ]
    },
    {
     "name": "stdout",
     "output_type": "stream",
     "text": [
      "\n",
      "Threshold  2.7640504192731887 used_cpu_sys\n",
      "redis_008  completed in  1.2522168159484863\n",
      "************************************************************\n",
      "Checking  redis_002\n",
      "Threshold  0.8576556130119274 used_memory_rss\n",
      "[1 1 0 0 0 0 0 0 0 0 0 0 0 0 0 0 0 0 0 0 0 0 0 0 0 0 0 0 0 1]\n",
      "ST Threshold Anomaly!\n",
      "Threshold  -1.0 rejected_connections\n",
      "Threshold  0.8573728126632113 keyspace_misses\n"
     ]
    },
    {
     "name": "stderr",
     "output_type": "stream",
     "text": [
      "<ipython-input-106-934139de14b0>:27: UserWarning: Boolean Series key will be reindexed to match DataFrame index.\n",
      "  df_hk = df[df.cmdb_id == host][df.name == kpi]\n",
      "<ipython-input-106-934139de14b0>:27: UserWarning: Boolean Series key will be reindexed to match DataFrame index.\n",
      "  df_hk = df[df.cmdb_id == host][df.name == kpi]\n",
      "<ipython-input-106-934139de14b0>:27: UserWarning: Boolean Series key will be reindexed to match DataFrame index.\n",
      "  df_hk = df[df.cmdb_id == host][df.name == kpi]\n",
      "<ipython-input-106-934139de14b0>:27: UserWarning: Boolean Series key will be reindexed to match DataFrame index.\n",
      "  df_hk = df[df.cmdb_id == host][df.name == kpi]\n"
     ]
    }
   ],
   "source": [
    "def get_key_thresh(host):\n",
    "    df_thresh = pd.read_csv('thresh.csv')\n",
    "    df_thresh = df_thresh[df_thresh.host==host]\n",
    "\n",
    "    thresh = df_thresh[['name', 'thresh']].set_index('name')\n",
    "    thresh = thresh.to_dict()['thresh']\n",
    "    return thresh\n",
    "\n",
    "def find_anoms(hosts, df):\n",
    "    start = time.time()\n",
    "    anoms = []\n",
    "    for host in hosts:\n",
    "        start_host = time.time()\n",
    "        print('*'*60)\n",
    "        print('Checking ', host)\n",
    "        thresholds = get_key_thresh(host)\n",
    "        for kpi in thresholds:\n",
    "            thresh = thresholds[kpi]\n",
    "            print('Threshold ', thresh, kpi)\n",
    "            od = SpectralResidual(\n",
    "                threshold=thresh,\n",
    "                window_amp=30,\n",
    "                window_local=30,\n",
    "                n_est_points=5,\n",
    "                n_grad_points=5\n",
    "            )\n",
    "            df_hk = df[df.cmdb_id == host][df.name == kpi]\n",
    "            \n",
    "            if len(df_hk) == 0:\n",
    "                print('No valid data to use, skipping')\n",
    "                continue\n",
    "                \n",
    "            data = get_past(df_hk, np.max(df_hk.timestamp.unique()), 30)['value']\n",
    "            if thresh == -1:\n",
    "                if sum(data[-2:]) > 0:\n",
    "                    print(\"Non-Zero Anomaly!\")\n",
    "                    anoms.append((host, kpi))\n",
    "            elif np.isnan(thresh):\n",
    "                print('NaN, Skipping!')\n",
    "            else:\n",
    "                outliers = od.predict(data.values)['data']\n",
    "                if np.sum(outliers['is_outlier'][-10:-5]) > 0:\n",
    "                    print(outliers['is_outlier'])\n",
    "                    print(\"ST Threshold Anomaly!\")\n",
    "                    anoms.append((host,kpi))\n",
    "        print(host, ' completed in ', time.time() - start_host)\n",
    "    print('Completed detection of ', len(hosts), 'hosts in ', time.time() - start, 'seconds')\n",
    "    return anoms\n",
    "\n",
    "\n",
    "find_anoms(load_tiago_test(4).cmdb_id.unique(), load_tiago_test(4))"
   ]
  },
  {
   "cell_type": "code",
   "execution_count": 90,
   "metadata": {},
   "outputs": [
    {
     "ename": "TypeError",
     "evalue": "load_test() takes 0 positional arguments but 1 was given",
     "output_type": "error",
     "traceback": [
      "\u001b[0;31m---------------------------------------------------------------------------\u001b[0m",
      "\u001b[0;31mTypeError\u001b[0m                                 Traceback (most recent call last)",
      "\u001b[0;32m<ipython-input-90-62fa057913fc>\u001b[0m in \u001b[0;36m<module>\u001b[0;34m\u001b[0m\n\u001b[1;32m      1\u001b[0m \u001b[0;32mimport\u001b[0m \u001b[0mseaborn\u001b[0m \u001b[0;32mas\u001b[0m \u001b[0msns\u001b[0m\u001b[0;34m\u001b[0m\u001b[0;34m\u001b[0m\u001b[0m\n\u001b[1;32m      2\u001b[0m \u001b[0;34m\u001b[0m\u001b[0m\n\u001b[0;32m----> 3\u001b[0;31m \u001b[0mdf\u001b[0m \u001b[0;34m=\u001b[0m \u001b[0mload_test\u001b[0m\u001b[0;34m(\u001b[0m\u001b[0;36m2\u001b[0m\u001b[0;34m)\u001b[0m\u001b[0;34m\u001b[0m\u001b[0;34m\u001b[0m\u001b[0m\n\u001b[0m\u001b[1;32m      4\u001b[0m \u001b[0mdf\u001b[0m \u001b[0;34m=\u001b[0m \u001b[0mdf\u001b[0m\u001b[0;34m[\u001b[0m\u001b[0mdf\u001b[0m\u001b[0;34m.\u001b[0m\u001b[0mcmdb_id\u001b[0m\u001b[0;34m==\u001b[0m\u001b[0;34m'os_018'\u001b[0m\u001b[0;34m]\u001b[0m\u001b[0;34m[\u001b[0m\u001b[0mdf\u001b[0m\u001b[0;34m.\u001b[0m\u001b[0mname\u001b[0m\u001b[0;34m==\u001b[0m\u001b[0;34m'Buffers_used'\u001b[0m\u001b[0;34m]\u001b[0m\u001b[0;34m\u001b[0m\u001b[0;34m\u001b[0m\u001b[0m\n\u001b[1;32m      5\u001b[0m \u001b[0msns\u001b[0m\u001b[0;34m.\u001b[0m\u001b[0mlineplot\u001b[0m\u001b[0;34m(\u001b[0m\u001b[0mx\u001b[0m\u001b[0;34m=\u001b[0m\u001b[0;34m'timestamp'\u001b[0m\u001b[0;34m,\u001b[0m \u001b[0my\u001b[0m\u001b[0;34m=\u001b[0m\u001b[0;34m'value'\u001b[0m\u001b[0;34m,\u001b[0m\u001b[0mdata\u001b[0m\u001b[0;34m=\u001b[0m\u001b[0mdf\u001b[0m\u001b[0;34m)\u001b[0m\u001b[0;34m\u001b[0m\u001b[0;34m\u001b[0m\u001b[0m\n",
      "\u001b[0;31mTypeError\u001b[0m: load_test() takes 0 positional arguments but 1 was given"
     ]
    }
   ],
   "source": [
    "import seaborn as sns\n",
    "\n",
    "df = load_test(2)\n",
    "df = df[df.cmdb_id=='os_018'][df.name=='Buffers_used']\n",
    "sns.lineplot(x='timestamp', y='value',data=df)"
   ]
  },
  {
   "cell_type": "code",
   "execution_count": null,
   "metadata": {},
   "outputs": [],
   "source": []
  }
 ],
 "metadata": {
  "kernelspec": {
   "display_name": "Python 3",
   "language": "python",
   "name": "python3"
  },
  "language_info": {
   "codemirror_mode": {
    "name": "ipython",
    "version": 3
   },
   "file_extension": ".py",
   "mimetype": "text/x-python",
   "name": "python",
   "nbconvert_exporter": "python",
   "pygments_lexer": "ipython3",
   "version": "3.8.5"
  }
 },
 "nbformat": 4,
 "nbformat_minor": 4
}
